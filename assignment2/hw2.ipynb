{
 "cells": [
  {
   "cell_type": "code",
   "execution_count": 10,
   "id": "525cb661",
   "metadata": {
    "colab": {
     "base_uri": "https://localhost:8080/"
    },
    "id": "525cb661",
    "outputId": "4de4e8f5-ffdf-49be-98a3-610b0aeafda3"
   },
   "outputs": [
    {
     "name": "stderr",
     "output_type": "stream",
     "text": [
      "huggingface/tokenizers: The current process just got forked, after parallelism has already been used. Disabling parallelism to avoid deadlocks...\n",
      "To disable this warning, you can either:\n",
      "\t- Avoid using `tokenizers` before the fork if possible\n",
      "\t- Explicitly set the environment variable TOKENIZERS_PARALLELISM=(true | false)\n",
      "huggingface/tokenizers: The current process just got forked, after parallelism has already been used. Disabling parallelism to avoid deadlocks...\n",
      "To disable this warning, you can either:\n",
      "\t- Avoid using `tokenizers` before the fork if possible\n",
      "\t- Explicitly set the environment variable TOKENIZERS_PARALLELISM=(true | false)\n"
     ]
    },
    {
     "name": "stdout",
     "output_type": "stream",
     "text": [
      "Requirement already satisfied: ipykernel in ./venv/lib/python3.12/site-packages (7.0.1)\n",
      "Requirement already satisfied: comm>=0.1.1 in ./venv/lib/python3.12/site-packages (from ipykernel) (0.2.3)\n",
      "Requirement already satisfied: debugpy>=1.6.5 in ./venv/lib/python3.12/site-packages (from ipykernel) (1.8.17)\n",
      "Requirement already satisfied: ipython>=7.23.1 in ./venv/lib/python3.12/site-packages (from ipykernel) (9.6.0)\n",
      "Requirement already satisfied: jupyter-client>=8.0.0 in ./venv/lib/python3.12/site-packages (from ipykernel) (8.6.3)\n",
      "Requirement already satisfied: jupyter-core!=5.0.*,>=4.12 in ./venv/lib/python3.12/site-packages (from ipykernel) (5.9.1)\n",
      "Requirement already satisfied: matplotlib-inline>=0.1 in ./venv/lib/python3.12/site-packages (from ipykernel) (0.2.1)\n",
      "Requirement already satisfied: nest-asyncio>=1.4 in ./venv/lib/python3.12/site-packages (from ipykernel) (1.6.0)\n",
      "Requirement already satisfied: packaging>=22 in ./venv/lib/python3.12/site-packages (from ipykernel) (25.0)\n",
      "Requirement already satisfied: psutil>=5.7 in ./venv/lib/python3.12/site-packages (from ipykernel) (7.1.1)\n",
      "Requirement already satisfied: pyzmq>=25 in ./venv/lib/python3.12/site-packages (from ipykernel) (27.1.0)\n",
      "Requirement already satisfied: tornado>=6.2 in ./venv/lib/python3.12/site-packages (from ipykernel) (6.5.2)\n",
      "Requirement already satisfied: traitlets>=5.4.0 in ./venv/lib/python3.12/site-packages (from ipykernel) (5.14.3)\n",
      "Requirement already satisfied: decorator in ./venv/lib/python3.12/site-packages (from ipython>=7.23.1->ipykernel) (5.2.1)\n",
      "Requirement already satisfied: ipython-pygments-lexers in ./venv/lib/python3.12/site-packages (from ipython>=7.23.1->ipykernel) (1.1.1)\n",
      "Requirement already satisfied: jedi>=0.16 in ./venv/lib/python3.12/site-packages (from ipython>=7.23.1->ipykernel) (0.19.2)\n",
      "Requirement already satisfied: pexpect>4.3 in ./venv/lib/python3.12/site-packages (from ipython>=7.23.1->ipykernel) (4.9.0)\n",
      "Requirement already satisfied: prompt_toolkit<3.1.0,>=3.0.41 in ./venv/lib/python3.12/site-packages (from ipython>=7.23.1->ipykernel) (3.0.52)\n",
      "Requirement already satisfied: pygments>=2.4.0 in ./venv/lib/python3.12/site-packages (from ipython>=7.23.1->ipykernel) (2.19.2)\n",
      "Requirement already satisfied: stack_data in ./venv/lib/python3.12/site-packages (from ipython>=7.23.1->ipykernel) (0.6.3)\n",
      "Requirement already satisfied: python-dateutil>=2.8.2 in ./venv/lib/python3.12/site-packages (from jupyter-client>=8.0.0->ipykernel) (2.9.0.post0)\n",
      "Requirement already satisfied: platformdirs>=2.5 in ./venv/lib/python3.12/site-packages (from jupyter-core!=5.0.*,>=4.12->ipykernel) (4.5.0)\n",
      "Requirement already satisfied: parso<0.9.0,>=0.8.4 in ./venv/lib/python3.12/site-packages (from jedi>=0.16->ipython>=7.23.1->ipykernel) (0.8.5)\n",
      "Requirement already satisfied: ptyprocess>=0.5 in ./venv/lib/python3.12/site-packages (from pexpect>4.3->ipython>=7.23.1->ipykernel) (0.7.0)\n",
      "Requirement already satisfied: wcwidth in ./venv/lib/python3.12/site-packages (from prompt_toolkit<3.1.0,>=3.0.41->ipython>=7.23.1->ipykernel) (0.2.14)\n",
      "Requirement already satisfied: six>=1.5 in ./venv/lib/python3.12/site-packages (from python-dateutil>=2.8.2->jupyter-client>=8.0.0->ipykernel) (1.17.0)\n",
      "Requirement already satisfied: executing>=1.2.0 in ./venv/lib/python3.12/site-packages (from stack_data->ipython>=7.23.1->ipykernel) (2.2.1)\n",
      "Requirement already satisfied: asttokens>=2.1.0 in ./venv/lib/python3.12/site-packages (from stack_data->ipython>=7.23.1->ipykernel) (3.0.0)\n",
      "Requirement already satisfied: pure-eval in ./venv/lib/python3.12/site-packages (from stack_data->ipython>=7.23.1->ipykernel) (0.2.3)\n"
     ]
    },
    {
     "name": "stderr",
     "output_type": "stream",
     "text": [
      "huggingface/tokenizers: The current process just got forked, after parallelism has already been used. Disabling parallelism to avoid deadlocks...\n",
      "To disable this warning, you can either:\n",
      "\t- Avoid using `tokenizers` before the fork if possible\n",
      "\t- Explicitly set the environment variable TOKENIZERS_PARALLELISM=(true | false)\n"
     ]
    },
    {
     "name": "stdout",
     "output_type": "stream",
     "text": [
      "Installed kernelspec myenv in /root/.local/share/jupyter/kernels/myenv\n"
     ]
    },
    {
     "name": "stderr",
     "output_type": "stream",
     "text": [
      "huggingface/tokenizers: The current process just got forked, after parallelism has already been used. Disabling parallelism to avoid deadlocks...\n",
      "To disable this warning, you can either:\n",
      "\t- Avoid using `tokenizers` before the fork if possible\n",
      "\t- Explicitly set the environment variable TOKENIZERS_PARALLELISM=(true | false)\n"
     ]
    },
    {
     "name": "stdout",
     "output_type": "stream",
     "text": [
      "Requirement already satisfied: datasets in /venv/main/lib/python3.12/site-packages (4.3.0)\n",
      "Requirement already satisfied: wandb in /venv/main/lib/python3.12/site-packages (0.22.2)\n",
      "Requirement already satisfied: transformers in /venv/main/lib/python3.12/site-packages (4.57.1)\n",
      "Requirement already satisfied: matplotlib in /venv/main/lib/python3.12/site-packages (3.10.7)\n",
      "Requirement already satisfied: torch-tb-profiler in /venv/main/lib/python3.12/site-packages (0.4.3)\n",
      "Requirement already satisfied: pandas in /venv/main/lib/python3.12/site-packages (2.3.3)\n",
      "Requirement already satisfied: filelock in /venv/main/lib/python3.12/site-packages (from datasets) (3.19.1)\n",
      "Requirement already satisfied: numpy>=1.17 in /venv/main/lib/python3.12/site-packages (from datasets) (2.1.2)\n",
      "Requirement already satisfied: pyarrow>=21.0.0 in /venv/main/lib/python3.12/site-packages (from datasets) (21.0.0)\n",
      "Requirement already satisfied: dill<0.4.1,>=0.3.0 in /venv/main/lib/python3.12/site-packages (from datasets) (0.4.0)\n",
      "Requirement already satisfied: requests>=2.32.2 in /venv/main/lib/python3.12/site-packages (from datasets) (2.32.5)\n",
      "Requirement already satisfied: httpx<1.0.0 in /venv/main/lib/python3.12/site-packages (from datasets) (0.28.1)\n",
      "Requirement already satisfied: tqdm>=4.66.3 in /venv/main/lib/python3.12/site-packages (from datasets) (4.67.1)\n",
      "Requirement already satisfied: xxhash in /venv/main/lib/python3.12/site-packages (from datasets) (3.6.0)\n",
      "Requirement already satisfied: multiprocess<0.70.17 in /venv/main/lib/python3.12/site-packages (from datasets) (0.70.16)\n",
      "Requirement already satisfied: fsspec<=2025.9.0,>=2023.1.0 in /venv/main/lib/python3.12/site-packages (from fsspec[http]<=2025.9.0,>=2023.1.0->datasets) (2025.9.0)\n",
      "Requirement already satisfied: huggingface-hub<2.0,>=0.25.0 in /venv/main/lib/python3.12/site-packages (from datasets) (0.34.4)\n",
      "Requirement already satisfied: packaging in /venv/main/lib/python3.12/site-packages (from datasets) (25.0)\n",
      "Requirement already satisfied: pyyaml>=5.1 in /venv/main/lib/python3.12/site-packages (from datasets) (6.0.2)\n",
      "Requirement already satisfied: aiohttp!=4.0.0a0,!=4.0.0a1 in /venv/main/lib/python3.12/site-packages (from fsspec[http]<=2025.9.0,>=2023.1.0->datasets) (3.13.1)\n",
      "Requirement already satisfied: anyio in /venv/main/lib/python3.12/site-packages (from httpx<1.0.0->datasets) (4.11.0)\n",
      "Requirement already satisfied: certifi in /venv/main/lib/python3.12/site-packages (from httpx<1.0.0->datasets) (2025.8.3)\n",
      "Requirement already satisfied: httpcore==1.* in /venv/main/lib/python3.12/site-packages (from httpx<1.0.0->datasets) (1.0.9)\n",
      "Requirement already satisfied: idna in /venv/main/lib/python3.12/site-packages (from httpx<1.0.0->datasets) (3.10)\n",
      "Requirement already satisfied: h11>=0.16 in /venv/main/lib/python3.12/site-packages (from httpcore==1.*->httpx<1.0.0->datasets) (0.16.0)\n",
      "Requirement already satisfied: typing-extensions>=3.7.4.3 in /venv/main/lib/python3.12/site-packages (from huggingface-hub<2.0,>=0.25.0->datasets) (4.15.0)\n",
      "Requirement already satisfied: hf-xet<2.0.0,>=1.1.3 in /venv/main/lib/python3.12/site-packages (from huggingface-hub<2.0,>=0.25.0->datasets) (1.1.10)\n",
      "Requirement already satisfied: click>=8.0.1 in /venv/main/lib/python3.12/site-packages (from wandb) (8.3.0)\n",
      "Requirement already satisfied: gitpython!=3.1.29,>=1.0.0 in /venv/main/lib/python3.12/site-packages (from wandb) (3.1.45)\n",
      "Requirement already satisfied: platformdirs in /venv/main/lib/python3.12/site-packages (from wandb) (4.4.0)\n",
      "Requirement already satisfied: protobuf!=4.21.0,!=5.28.0,<7,>=3.19.0 in /venv/main/lib/python3.12/site-packages (from wandb) (6.33.0)\n",
      "Requirement already satisfied: pydantic<3 in /venv/main/lib/python3.12/site-packages (from wandb) (2.12.3)\n",
      "Requirement already satisfied: sentry-sdk>=2.0.0 in /venv/main/lib/python3.12/site-packages (from wandb) (2.42.1)\n",
      "Requirement already satisfied: annotated-types>=0.6.0 in /venv/main/lib/python3.12/site-packages (from pydantic<3->wandb) (0.7.0)\n",
      "Requirement already satisfied: pydantic-core==2.41.4 in /venv/main/lib/python3.12/site-packages (from pydantic<3->wandb) (2.41.4)\n",
      "Requirement already satisfied: typing-inspection>=0.4.2 in /venv/main/lib/python3.12/site-packages (from pydantic<3->wandb) (0.4.2)\n",
      "Requirement already satisfied: charset_normalizer<4,>=2 in /venv/main/lib/python3.12/site-packages (from requests>=2.32.2->datasets) (3.4.3)\n",
      "Requirement already satisfied: urllib3<3,>=1.21.1 in /venv/main/lib/python3.12/site-packages (from requests>=2.32.2->datasets) (2.5.0)\n",
      "Requirement already satisfied: regex!=2019.12.17 in /venv/main/lib/python3.12/site-packages (from transformers) (2025.10.23)\n",
      "Requirement already satisfied: tokenizers<=0.23.0,>=0.22.0 in /venv/main/lib/python3.12/site-packages (from transformers) (0.22.1)\n",
      "Requirement already satisfied: safetensors>=0.4.3 in /venv/main/lib/python3.12/site-packages (from transformers) (0.6.2)\n",
      "Requirement already satisfied: contourpy>=1.0.1 in /venv/main/lib/python3.12/site-packages (from matplotlib) (1.3.3)\n",
      "Requirement already satisfied: cycler>=0.10 in /venv/main/lib/python3.12/site-packages (from matplotlib) (0.12.1)\n",
      "Requirement already satisfied: fonttools>=4.22.0 in /venv/main/lib/python3.12/site-packages (from matplotlib) (4.60.1)\n",
      "Requirement already satisfied: kiwisolver>=1.3.1 in /venv/main/lib/python3.12/site-packages (from matplotlib) (1.4.9)\n",
      "Requirement already satisfied: pillow>=8 in /venv/main/lib/python3.12/site-packages (from matplotlib) (11.0.0)\n",
      "Requirement already satisfied: pyparsing>=3 in /venv/main/lib/python3.12/site-packages (from matplotlib) (3.2.5)\n",
      "Requirement already satisfied: python-dateutil>=2.7 in /venv/main/lib/python3.12/site-packages (from matplotlib) (2.9.0.post0)\n",
      "Requirement already satisfied: tensorboard!=2.1.0,>=1.15 in /venv/main/lib/python3.12/site-packages (from torch-tb-profiler) (2.20.0)\n",
      "Requirement already satisfied: pytz>=2020.1 in /venv/main/lib/python3.12/site-packages (from pandas) (2025.2)\n",
      "Requirement already satisfied: tzdata>=2022.7 in /venv/main/lib/python3.12/site-packages (from pandas) (2025.2)\n",
      "Requirement already satisfied: aiohappyeyeballs>=2.5.0 in /venv/main/lib/python3.12/site-packages (from aiohttp!=4.0.0a0,!=4.0.0a1->fsspec[http]<=2025.9.0,>=2023.1.0->datasets) (2.6.1)\n",
      "Requirement already satisfied: aiosignal>=1.4.0 in /venv/main/lib/python3.12/site-packages (from aiohttp!=4.0.0a0,!=4.0.0a1->fsspec[http]<=2025.9.0,>=2023.1.0->datasets) (1.4.0)\n",
      "Requirement already satisfied: attrs>=17.3.0 in /venv/main/lib/python3.12/site-packages (from aiohttp!=4.0.0a0,!=4.0.0a1->fsspec[http]<=2025.9.0,>=2023.1.0->datasets) (25.4.0)\n",
      "Requirement already satisfied: frozenlist>=1.1.1 in /venv/main/lib/python3.12/site-packages (from aiohttp!=4.0.0a0,!=4.0.0a1->fsspec[http]<=2025.9.0,>=2023.1.0->datasets) (1.8.0)\n",
      "Requirement already satisfied: multidict<7.0,>=4.5 in /venv/main/lib/python3.12/site-packages (from aiohttp!=4.0.0a0,!=4.0.0a1->fsspec[http]<=2025.9.0,>=2023.1.0->datasets) (6.7.0)\n",
      "Requirement already satisfied: propcache>=0.2.0 in /venv/main/lib/python3.12/site-packages (from aiohttp!=4.0.0a0,!=4.0.0a1->fsspec[http]<=2025.9.0,>=2023.1.0->datasets) (0.4.1)\n",
      "Requirement already satisfied: yarl<2.0,>=1.17.0 in /venv/main/lib/python3.12/site-packages (from aiohttp!=4.0.0a0,!=4.0.0a1->fsspec[http]<=2025.9.0,>=2023.1.0->datasets) (1.22.0)\n",
      "Requirement already satisfied: gitdb<5,>=4.0.1 in /venv/main/lib/python3.12/site-packages (from gitpython!=3.1.29,>=1.0.0->wandb) (4.0.12)\n",
      "Requirement already satisfied: smmap<6,>=3.0.1 in /venv/main/lib/python3.12/site-packages (from gitdb<5,>=4.0.1->gitpython!=3.1.29,>=1.0.0->wandb) (5.0.2)\n",
      "Requirement already satisfied: six>=1.5 in /venv/main/lib/python3.12/site-packages (from python-dateutil>=2.7->matplotlib) (1.17.0)\n",
      "Requirement already satisfied: absl-py>=0.4 in /venv/main/lib/python3.12/site-packages (from tensorboard!=2.1.0,>=1.15->torch-tb-profiler) (2.3.1)\n",
      "Requirement already satisfied: grpcio>=1.48.2 in /venv/main/lib/python3.12/site-packages (from tensorboard!=2.1.0,>=1.15->torch-tb-profiler) (1.76.0)\n",
      "Requirement already satisfied: markdown>=2.6.8 in /venv/main/lib/python3.12/site-packages (from tensorboard!=2.1.0,>=1.15->torch-tb-profiler) (3.9)\n",
      "Requirement already satisfied: setuptools>=41.0.0 in /venv/main/lib/python3.12/site-packages (from tensorboard!=2.1.0,>=1.15->torch-tb-profiler) (80.9.0)\n",
      "Requirement already satisfied: tensorboard-data-server<0.8.0,>=0.7.0 in /venv/main/lib/python3.12/site-packages (from tensorboard!=2.1.0,>=1.15->torch-tb-profiler) (0.7.2)\n",
      "Requirement already satisfied: werkzeug>=1.0.1 in /venv/main/lib/python3.12/site-packages (from tensorboard!=2.1.0,>=1.15->torch-tb-profiler) (3.1.3)\n",
      "Requirement already satisfied: MarkupSafe>=2.1.1 in /venv/main/lib/python3.12/site-packages (from werkzeug>=1.0.1->tensorboard!=2.1.0,>=1.15->torch-tb-profiler) (2.1.5)\n",
      "Requirement already satisfied: sniffio>=1.1 in /venv/main/lib/python3.12/site-packages (from anyio->httpx<1.0.0->datasets) (1.3.1)\n",
      "\u001b[33mWARNING: Running pip as the 'root' user can result in broken permissions and conflicting behaviour with the system package manager, possibly rendering your system unusable. It is recommended to use a virtual environment instead: https://pip.pypa.io/warnings/venv. Use the --root-user-action option if you know what you are doing and want to suppress this warning.\u001b[0m\u001b[33m\n",
      "\u001b[0mNote: you may need to restart the kernel to use updated packages.\n"
     ]
    }
   ],
   "source": [
    "!python3 -m venv venv\n",
    "!venv/bin/python -m pip install ipykernel\n",
    "!venv/bin/python -m ipykernel install --user --name=myenv --display-name \"Python (myenv)\"\n",
    "%pip install datasets wandb transformers matplotlib torch-tb-profiler pandas"
   ]
  },
  {
   "cell_type": "code",
   "execution_count": 1,
   "id": "ANKbTyr50m9f",
   "metadata": {
    "id": "ANKbTyr50m9f"
   },
   "outputs": [
    {
     "name": "stderr",
     "output_type": "stream",
     "text": [
      "/venv/main/lib/python3.12/site-packages/pydantic/_internal/_generate_schema.py:2249: UnsupportedFieldAttributeWarning: The 'repr' attribute with value False was provided to the `Field()` function, which has no effect in the context it was used. 'repr' is field-specific metadata, and can only be attached to a model field using `Annotated` metadata or by assignment. This may have happened because an `Annotated` type alias using the `type` statement was used, or if the `Field()` function was attached to a single member of a union type.\n",
      "  warnings.warn(\n",
      "/venv/main/lib/python3.12/site-packages/pydantic/_internal/_generate_schema.py:2249: UnsupportedFieldAttributeWarning: The 'frozen' attribute with value True was provided to the `Field()` function, which has no effect in the context it was used. 'frozen' is field-specific metadata, and can only be attached to a model field using `Annotated` metadata or by assignment. This may have happened because an `Annotated` type alias using the `type` statement was used, or if the `Field()` function was attached to a single member of a union type.\n",
      "  warnings.warn(\n"
     ]
    }
   ],
   "source": [
    "import torch\n",
    "import torch.optim as optim\n",
    "import numpy as np\n",
    "import wandb\n",
    "from tqdm import tqdm\n",
    "from torch.optim import AdamW\n",
    "import pandas as pd\n",
    "torch.cuda.manual_seed_all(423)"
   ]
  },
  {
   "cell_type": "code",
   "execution_count": 2,
   "id": "K5CiE3dGktBd",
   "metadata": {
    "id": "K5CiE3dGktBd"
   },
   "outputs": [],
   "source": [
    "project_name = \"hpml-hw2-llm3\""
   ]
  },
  {
   "cell_type": "code",
   "execution_count": null,
   "id": "4u7Bhja-hrwT",
   "metadata": {
    "colab": {
     "base_uri": "https://localhost:8080/"
    },
    "id": "4u7Bhja-hrwT",
    "outputId": "a0cd6ab9-d2e6-458a-9aa5-bfa1c782d5a6"
   },
   "outputs": [],
   "source": [
    "from datasets import load_dataset\n",
    "\n",
    "dataset = load_dataset(\"imdb\")\n",
    "print(dataset)"
   ]
  },
  {
   "cell_type": "code",
   "execution_count": null,
   "id": "xWy8gotth8SB",
   "metadata": {
    "colab": {
     "base_uri": "https://localhost:8080/"
    },
    "id": "xWy8gotth8SB",
    "outputId": "2ad07fbc-c752-47bd-8b74-664145fa2469"
   },
   "outputs": [],
   "source": [
    "from transformers import DistilBertForSequenceClassification\n",
    "from torch.nn.utils.rnn import pad_sequence\n",
    "from torch.utils.data import DataLoader\n",
    "import torch\n",
    "from transformers import AutoTokenizer, DataCollatorWithPadding\n",
    "import time\n",
    "import matplotlib.pyplot as plt\n",
    "\n",
    "tokenizer = AutoTokenizer.from_pretrained(\"distilbert-base-uncased\")\n",
    "\n",
    "def tokenize_fn(batch):\n",
    "    return tokenizer(\n",
    "        batch[\"text\"],\n",
    "        padding=\"max_length\",\n",
    "        truncation=True,\n",
    "        max_length=256\n",
    "    )\n",
    "\n",
    "tokenized = dataset.map(tokenize_fn, batched=True)\n",
    "tokenized.set_format(type=\"torch\", columns=[\"input_ids\", \"attention_mask\", \"label\"])\n",
    "data_collator = DataCollatorWithPadding(tokenizer=tokenizer, return_tensors=\"pt\")\n",
    "\n",
    "device = torch.device(\"cuda\" if torch.cuda.is_available() else \"cpu\")"
   ]
  },
  {
   "cell_type": "markdown",
   "id": "yMDy5uS927OD",
   "metadata": {
    "id": "yMDy5uS927OD"
   },
   "source": [
    "## C1"
   ]
  },
  {
   "cell_type": "code",
   "execution_count": 5,
   "id": "IresskYBi_0H",
   "metadata": {
    "colab": {
     "base_uri": "https://localhost:8080/",
     "height": 193
    },
    "id": "IresskYBi_0H",
    "outputId": "aa955777-8b53-46a8-a9e9-89222e30fafc"
   },
   "outputs": [
    {
     "name": "stderr",
     "output_type": "stream",
     "text": [
      "\u001b[34m\u001b[1mwandb\u001b[0m: \u001b[32m\u001b[41mERROR\u001b[0m Failed to detect the name of this notebook. You can set it manually with the WANDB_NOTEBOOK_NAME environment variable to enable code saving.\n",
      "\u001b[34m\u001b[1mwandb\u001b[0m: Currently logged in as: \u001b[33mykmao1515\u001b[0m (\u001b[33mkaimao-columbia-university\u001b[0m) to \u001b[32mhttps://api.wandb.ai\u001b[0m. Use \u001b[1m`wandb login --relogin`\u001b[0m to force relogin\n"
     ]
    },
    {
     "data": {
      "text/html": [],
      "text/plain": [
       "<IPython.core.display.HTML object>"
      ]
     },
     "metadata": {},
     "output_type": "display_data"
    },
    {
     "data": {
      "text/html": [
       "Tracking run with wandb version 0.22.2"
      ],
      "text/plain": [
       "<IPython.core.display.HTML object>"
      ]
     },
     "metadata": {},
     "output_type": "display_data"
    },
    {
     "data": {
      "text/html": [
       "Run data is saved locally in <code>/workspace/wandb/run-20251023_230022-zits1je1</code>"
      ],
      "text/plain": [
       "<IPython.core.display.HTML object>"
      ]
     },
     "metadata": {},
     "output_type": "display_data"
    },
    {
     "data": {
      "text/html": [
       "Syncing run <strong><a href='https://wandb.ai/kaimao-columbia-university/hpml-hw2-llm3/runs/zits1je1' target=\"_blank\">bs32_lr1e-4</a></strong> to <a href='https://wandb.ai/kaimao-columbia-university/hpml-hw2-llm3' target=\"_blank\">Weights & Biases</a> (<a href='https://wandb.me/developer-guide' target=\"_blank\">docs</a>)<br>"
      ],
      "text/plain": [
       "<IPython.core.display.HTML object>"
      ]
     },
     "metadata": {},
     "output_type": "display_data"
    },
    {
     "data": {
      "text/html": [
       " View project at <a href='https://wandb.ai/kaimao-columbia-university/hpml-hw2-llm3' target=\"_blank\">https://wandb.ai/kaimao-columbia-university/hpml-hw2-llm3</a>"
      ],
      "text/plain": [
       "<IPython.core.display.HTML object>"
      ]
     },
     "metadata": {},
     "output_type": "display_data"
    },
    {
     "data": {
      "text/html": [
       " View run at <a href='https://wandb.ai/kaimao-columbia-university/hpml-hw2-llm3/runs/zits1je1' target=\"_blank\">https://wandb.ai/kaimao-columbia-university/hpml-hw2-llm3/runs/zits1je1</a>"
      ],
      "text/plain": [
       "<IPython.core.display.HTML object>"
      ]
     },
     "metadata": {},
     "output_type": "display_data"
    }
   ],
   "source": [
    "import wandb\n",
    "\n",
    "wandb.init(project=project_name, name=f\"bs32_lr1e-4\", group = \"Warm Up Experiment\")\n",
    "\n",
    "wandb.config.update({\n",
    "    \"model_name\": \"distilbert-base-uncased\",\n",
    "    \"max_len\": 256,\n",
    "    \"batch_size\": 32,\n",
    "    \"lr\": 1e-4,\n",
    "    \"optimizer\": \"AdamW\",\n",
    "    \"num_workers\": 2,\n",
    "    \"epochs\": 5,\n",
    "    \"compile_mode\": False\n",
    "})"
   ]
  },
  {
   "cell_type": "code",
   "execution_count": 6,
   "id": "ZsK9vsmTkPpW",
   "metadata": {
    "colab": {
     "base_uri": "https://localhost:8080/"
    },
    "id": "ZsK9vsmTkPpW",
    "outputId": "1ebaa8b3-6f50-4eb0-fb78-368b734158a4",
    "scrolled": true
   },
   "outputs": [
    {
     "name": "stderr",
     "output_type": "stream",
     "text": [
      "Some weights of DistilBertForSequenceClassification were not initialized from the model checkpoint at distilbert-base-uncased and are newly initialized: ['classifier.bias', 'classifier.weight', 'pre_classifier.bias', 'pre_classifier.weight']\n",
      "You should probably TRAIN this model on a down-stream task to be able to use it for predictions and inference.\n",
      "  0%|          | 0/782 [00:00<?, ?it/s]huggingface/tokenizers: The current process just got forked, after parallelism has already been used. Disabling parallelism to avoid deadlocks...\n",
      "To disable this warning, you can either:\n",
      "\t- Avoid using `tokenizers` before the fork if possible\n",
      "\t- Explicitly set the environment variable TOKENIZERS_PARALLELISM=(true | false)\n",
      "huggingface/tokenizers: The current process just got forked, after parallelism has already been used. Disabling parallelism to avoid deadlocks...\n",
      "To disable this warning, you can either:\n",
      "\t- Avoid using `tokenizers` before the fork if possible\n",
      "\t- Explicitly set the environment variable TOKENIZERS_PARALLELISM=(true | false)\n",
      "100%|██████████| 782/782 [00:43<00:00, 17.86it/s]\n",
      "huggingface/tokenizers: The current process just got forked, after parallelism has already been used. Disabling parallelism to avoid deadlocks...\n",
      "To disable this warning, you can either:\n",
      "\t- Avoid using `tokenizers` before the fork if possible\n",
      "\t- Explicitly set the environment variable TOKENIZERS_PARALLELISM=(true | false)\n",
      "huggingface/tokenizers: The current process just got forked, after parallelism has already been used. Disabling parallelism to avoid deadlocks...\n",
      "To disable this warning, you can either:\n",
      "\t- Avoid using `tokenizers` before the fork if possible\n",
      "\t- Explicitly set the environment variable TOKENIZERS_PARALLELISM=(true | false)\n"
     ]
    },
    {
     "name": "stdout",
     "output_type": "stream",
     "text": [
      "Epoch 1/5, Loss: 0.3088, Train Accuracy: 0.8696, Test Accuracy: 0.8678\n"
     ]
    },
    {
     "name": "stderr",
     "output_type": "stream",
     "text": [
      "  0%|          | 0/782 [00:00<?, ?it/s]huggingface/tokenizers: The current process just got forked, after parallelism has already been used. Disabling parallelism to avoid deadlocks...\n",
      "To disable this warning, you can either:\n",
      "\t- Avoid using `tokenizers` before the fork if possible\n",
      "\t- Explicitly set the environment variable TOKENIZERS_PARALLELISM=(true | false)\n",
      "huggingface/tokenizers: The current process just got forked, after parallelism has already been used. Disabling parallelism to avoid deadlocks...\n",
      "To disable this warning, you can either:\n",
      "\t- Avoid using `tokenizers` before the fork if possible\n",
      "\t- Explicitly set the environment variable TOKENIZERS_PARALLELISM=(true | false)\n",
      "100%|██████████| 782/782 [00:43<00:00, 17.84it/s]\n",
      "huggingface/tokenizers: The current process just got forked, after parallelism has already been used. Disabling parallelism to avoid deadlocks...\n",
      "To disable this warning, you can either:\n",
      "\t- Avoid using `tokenizers` before the fork if possible\n",
      "\t- Explicitly set the environment variable TOKENIZERS_PARALLELISM=(true | false)\n",
      "huggingface/tokenizers: The current process just got forked, after parallelism has already been used. Disabling parallelism to avoid deadlocks...\n",
      "To disable this warning, you can either:\n",
      "\t- Avoid using `tokenizers` before the fork if possible\n",
      "\t- Explicitly set the environment variable TOKENIZERS_PARALLELISM=(true | false)\n",
      "huggingface/tokenizers: The current process just got forked, after parallelism has already been used. Disabling parallelism to avoid deadlocks...\n",
      "To disable this warning, you can either:\n",
      "\t- Avoid using `tokenizers` before the fork if possible\n",
      "\t- Explicitly set the environment variable TOKENIZERS_PARALLELISM=(true | false)\n"
     ]
    },
    {
     "name": "stdout",
     "output_type": "stream",
     "text": [
      "Epoch 2/5, Loss: 0.1716, Train Accuracy: 0.9369, Test Accuracy: 0.8880\n"
     ]
    },
    {
     "name": "stderr",
     "output_type": "stream",
     "text": [
      "  0%|          | 0/782 [00:00<?, ?it/s]huggingface/tokenizers: The current process just got forked, after parallelism has already been used. Disabling parallelism to avoid deadlocks...\n",
      "To disable this warning, you can either:\n",
      "\t- Avoid using `tokenizers` before the fork if possible\n",
      "\t- Explicitly set the environment variable TOKENIZERS_PARALLELISM=(true | false)\n",
      "huggingface/tokenizers: The current process just got forked, after parallelism has already been used. Disabling parallelism to avoid deadlocks...\n",
      "To disable this warning, you can either:\n",
      "\t- Avoid using `tokenizers` before the fork if possible\n",
      "\t- Explicitly set the environment variable TOKENIZERS_PARALLELISM=(true | false)\n",
      "100%|██████████| 782/782 [00:44<00:00, 17.50it/s]\n",
      "huggingface/tokenizers: The current process just got forked, after parallelism has already been used. Disabling parallelism to avoid deadlocks...\n",
      "To disable this warning, you can either:\n",
      "\t- Avoid using `tokenizers` before the fork if possible\n",
      "\t- Explicitly set the environment variable TOKENIZERS_PARALLELISM=(true | false)\n",
      "huggingface/tokenizers: The current process just got forked, after parallelism has already been used. Disabling parallelism to avoid deadlocks...\n",
      "To disable this warning, you can either:\n",
      "\t- Avoid using `tokenizers` before the fork if possible\n",
      "\t- Explicitly set the environment variable TOKENIZERS_PARALLELISM=(true | false)\n"
     ]
    },
    {
     "name": "stdout",
     "output_type": "stream",
     "text": [
      "Epoch 3/5, Loss: 0.0863, Train Accuracy: 0.9706, Test Accuracy: 0.8694\n"
     ]
    },
    {
     "name": "stderr",
     "output_type": "stream",
     "text": [
      "  0%|          | 0/782 [00:00<?, ?it/s]huggingface/tokenizers: The current process just got forked, after parallelism has already been used. Disabling parallelism to avoid deadlocks...\n",
      "To disable this warning, you can either:\n",
      "\t- Avoid using `tokenizers` before the fork if possible\n",
      "\t- Explicitly set the environment variable TOKENIZERS_PARALLELISM=(true | false)\n",
      "huggingface/tokenizers: The current process just got forked, after parallelism has already been used. Disabling parallelism to avoid deadlocks...\n",
      "To disable this warning, you can either:\n",
      "\t- Avoid using `tokenizers` before the fork if possible\n",
      "\t- Explicitly set the environment variable TOKENIZERS_PARALLELISM=(true | false)\n",
      "100%|██████████| 782/782 [00:43<00:00, 17.80it/s]\n",
      "huggingface/tokenizers: The current process just got forked, after parallelism has already been used. Disabling parallelism to avoid deadlocks...\n",
      "To disable this warning, you can either:\n",
      "\t- Avoid using `tokenizers` before the fork if possible\n",
      "\t- Explicitly set the environment variable TOKENIZERS_PARALLELISM=(true | false)\n",
      "huggingface/tokenizers: The current process just got forked, after parallelism has already been used. Disabling parallelism to avoid deadlocks...\n",
      "To disable this warning, you can either:\n",
      "\t- Avoid using `tokenizers` before the fork if possible\n",
      "\t- Explicitly set the environment variable TOKENIZERS_PARALLELISM=(true | false)\n"
     ]
    },
    {
     "name": "stdout",
     "output_type": "stream",
     "text": [
      "Epoch 4/5, Loss: 0.0522, Train Accuracy: 0.9814, Test Accuracy: 0.8735\n"
     ]
    },
    {
     "name": "stderr",
     "output_type": "stream",
     "text": [
      "  0%|          | 0/782 [00:00<?, ?it/s]huggingface/tokenizers: The current process just got forked, after parallelism has already been used. Disabling parallelism to avoid deadlocks...\n",
      "To disable this warning, you can either:\n",
      "\t- Avoid using `tokenizers` before the fork if possible\n",
      "\t- Explicitly set the environment variable TOKENIZERS_PARALLELISM=(true | false)\n",
      "huggingface/tokenizers: The current process just got forked, after parallelism has already been used. Disabling parallelism to avoid deadlocks...\n",
      "To disable this warning, you can either:\n",
      "\t- Avoid using `tokenizers` before the fork if possible\n",
      "\t- Explicitly set the environment variable TOKENIZERS_PARALLELISM=(true | false)\n",
      "100%|██████████| 782/782 [00:44<00:00, 17.72it/s]\n",
      "huggingface/tokenizers: The current process just got forked, after parallelism has already been used. Disabling parallelism to avoid deadlocks...\n",
      "To disable this warning, you can either:\n",
      "\t- Avoid using `tokenizers` before the fork if possible\n",
      "\t- Explicitly set the environment variable TOKENIZERS_PARALLELISM=(true | false)\n",
      "huggingface/tokenizers: The current process just got forked, after parallelism has already been used. Disabling parallelism to avoid deadlocks...\n",
      "To disable this warning, you can either:\n",
      "\t- Avoid using `tokenizers` before the fork if possible\n",
      "\t- Explicitly set the environment variable TOKENIZERS_PARALLELISM=(true | false)\n"
     ]
    },
    {
     "name": "stdout",
     "output_type": "stream",
     "text": [
      "Epoch 5/5, Loss: 0.0415, Train Accuracy: 0.9856, Test Accuracy: 0.8624\n"
     ]
    }
   ],
   "source": [
    "\n",
    "\n",
    "config = wandb.config\n",
    "\n",
    "model_name = \"distilbert-base-uncased\"\n",
    "model = DistilBertForSequenceClassification.from_pretrained(model_name, num_labels=2)\n",
    "model.to(device)\n",
    "\n",
    "optimizer = AdamW(model.parameters(), lr=config.lr)\n",
    "\n",
    "train_loader = DataLoader(tokenized[\"train\"], batch_size=config.batch_size, shuffle=True, collate_fn=data_collator, num_workers=config.num_workers)\n",
    "test_loader = DataLoader(tokenized[\"test\"], batch_size=config.batch_size, collate_fn=data_collator, num_workers=config.num_workers)\n",
    "\n",
    "train_loss = []\n",
    "train_accuracy = []\n",
    "test_accuracy = []\n",
    "\n",
    "for epoch in range(config.epochs):\n",
    "  model.train()\n",
    "  total_loss = 0\n",
    "  total_correct = 0\n",
    "  total_samples = 0\n",
    "  for batch in tqdm(train_loader):\n",
    "      optimizer.zero_grad()\n",
    "\n",
    "      inputs = {\n",
    "          \"input_ids\": batch[\"input_ids\"].to(device),\n",
    "          \"attention_mask\": batch[\"attention_mask\"].to(device),\n",
    "          \"labels\": batch[\"labels\"].to(device),\n",
    "      }\n",
    "\n",
    "      outputs = model(**inputs)\n",
    "      loss = outputs.loss\n",
    "      loss.backward()\n",
    "      optimizer.step()\n",
    "\n",
    "      logits = outputs.logits\n",
    "      preds = torch.argmax(logits, dim = 1)\n",
    "      labels = batch[\"labels\"].to(device)\n",
    "      correct = (preds == labels).sum().item()\n",
    "      total_correct += correct\n",
    "      total_samples += len(labels)\n",
    "      total_loss += loss.item()\n",
    "\n",
    "  avg_loss = total_loss / len(train_loader)\n",
    "  avg_accuracy = total_correct / total_samples\n",
    "  train_loss.append(avg_loss)\n",
    "  train_accuracy.append(avg_accuracy)\n",
    "\n",
    "  model.eval()\n",
    "  correct = 0\n",
    "  total = 0\n",
    "\n",
    "  with torch.no_grad():\n",
    "      for batch in test_loader:\n",
    "          inputs = {\n",
    "              \"input_ids\": batch[\"input_ids\"].to(device),\n",
    "              \"attention_mask\": batch[\"attention_mask\"].to(device),\n",
    "          }\n",
    "          labels = batch[\"labels\"].to(device)\n",
    "\n",
    "          logits = model(**inputs).logits\n",
    "          preds = torch.argmax(logits, dim=1)\n",
    "\n",
    "          correct += (preds == labels).sum().item()\n",
    "          total += labels.size(0)\n",
    "\n",
    "  accuracy = correct / total\n",
    "  test_accuracy.append(accuracy)\n",
    "\n",
    "  wandb.log({\"train/loss\": train_loss,\n",
    "           \"train/acc\": avg_accuracy,\n",
    "           \"test/acc\": accuracy})\n",
    "  print(f\"Epoch {epoch+1}/{config.epochs}, Loss: {avg_loss:.4f}, Train Accuracy: {avg_accuracy:.4f}, Test Accuracy: {accuracy:.4f}\")\n"
   ]
  },
  {
   "cell_type": "code",
   "execution_count": 7,
   "id": "LnQpctb_mJnG",
   "metadata": {
    "colab": {
     "base_uri": "https://localhost:8080/",
     "height": 357
    },
    "id": "LnQpctb_mJnG",
    "outputId": "1f71f27b-1104-414b-c7da-bcd53cc1defe"
   },
   "outputs": [
    {
     "name": "stderr",
     "output_type": "stream",
     "text": [
      "\u001b[34m\u001b[1mwandb\u001b[0m: \u001b[32m\u001b[41mERROR\u001b[0m The nbformat package was not found. It is required to save notebook history.\n"
     ]
    },
    {
     "data": {
      "text/html": [],
      "text/plain": [
       "<IPython.core.display.HTML object>"
      ]
     },
     "metadata": {},
     "output_type": "display_data"
    },
    {
     "data": {
      "text/html": [
       "<br>    <style><br>        .wandb-row {<br>            display: flex;<br>            flex-direction: row;<br>            flex-wrap: wrap;<br>            justify-content: flex-start;<br>            width: 100%;<br>        }<br>        .wandb-col {<br>            display: flex;<br>            flex-direction: column;<br>            flex-basis: 100%;<br>            flex: 1;<br>            padding: 10px;<br>        }<br>    </style><br><div class=\"wandb-row\"><div class=\"wandb-col\"><h3>Run history:</h3><br/><table class=\"wandb\"><tr><td>test/acc</td><td>▂█▃▄▁</td></tr><tr><td>train/acc</td><td>▁▅▇██</td></tr></table><br/></div><div class=\"wandb-col\"><h3>Run summary:</h3><br/><table class=\"wandb\"><tr><td>test/acc</td><td>0.86236</td></tr><tr><td>train/acc</td><td>0.98564</td></tr></table><br/></div></div>"
      ],
      "text/plain": [
       "<IPython.core.display.HTML object>"
      ]
     },
     "metadata": {},
     "output_type": "display_data"
    },
    {
     "data": {
      "text/html": [
       " View run <strong style=\"color:#cdcd00\">bs32_lr1e-4</strong> at: <a href='https://wandb.ai/kaimao-columbia-university/hpml-hw2-llm3/runs/zits1je1' target=\"_blank\">https://wandb.ai/kaimao-columbia-university/hpml-hw2-llm3/runs/zits1je1</a><br> View project at: <a href='https://wandb.ai/kaimao-columbia-university/hpml-hw2-llm3' target=\"_blank\">https://wandb.ai/kaimao-columbia-university/hpml-hw2-llm3</a><br>Synced 5 W&B file(s), 0 media file(s), 0 artifact file(s) and 0 other file(s)"
      ],
      "text/plain": [
       "<IPython.core.display.HTML object>"
      ]
     },
     "metadata": {},
     "output_type": "display_data"
    },
    {
     "data": {
      "text/html": [
       "Find logs at: <code>./wandb/run-20251023_230022-zits1je1/logs</code>"
      ],
      "text/plain": [
       "<IPython.core.display.HTML object>"
      ]
     },
     "metadata": {},
     "output_type": "display_data"
    }
   ],
   "source": [
    "wandb.finish()"
   ]
  },
  {
   "cell_type": "markdown",
   "id": "RIoifO1-23Mo",
   "metadata": {
    "id": "RIoifO1-23Mo"
   },
   "source": []
  },
  {
   "cell_type": "code",
   "execution_count": 8,
   "id": "sOdFWGecmKdQ",
   "metadata": {
    "colab": {
     "base_uri": "https://localhost:8080/",
     "height": 410
    },
    "id": "sOdFWGecmKdQ",
    "outputId": "6e92e593-690d-4642-a360-f7ebddc0c3fd"
   },
   "outputs": [
    {
     "data": {
      "image/png": "[encoded data removed]",
      "text/plain": [
       "<Figure size 600x400 with 1 Axes>"
      ]
     },
     "metadata": {},
     "output_type": "display_data"
    }
   ],
   "source": [
    "import matplotlib.pyplot as plt\n",
    "\n",
    "plt.figure(figsize=(6, 4))\n",
    "plt.plot(train_loss, label='Train Loss')\n",
    "plt.plot(train_accuracy, label='Train Accuracy')\n",
    "plt.xlabel('Epoch')\n",
    "# plt.ylabel('Value')\n",
    "plt.title('Figure F1')\n",
    "plt.legend()\n",
    "plt.show()"
   ]
  },
  {
   "cell_type": "code",
   "execution_count": 9,
   "id": "c8c9412e-2451-486c-9052-661c46cf7e2c",
   "metadata": {},
   "outputs": [
    {
     "name": "stdout",
     "output_type": "stream",
     "text": [
      "[0.30880285602282076, 0.1716375277470559, 0.08625857711202749, 0.052180667354515695, 0.04147789674672468] [0.86964, 0.93692, 0.9706, 0.98136, 0.98564] [0.8678, 0.88804, 0.86936, 0.87352, 0.86236]\n"
     ]
    }
   ],
   "source": [
    "print(train_loss, train_accuracy, test_accuracy)"
   ]
  },
  {
   "cell_type": "markdown",
   "id": "nl2C8CKt4DcD",
   "metadata": {
    "id": "nl2C8CKt4DcD"
   },
   "source": [
    "### Table T1\n",
    "\n",
    "| Epoch | Train Loss | Train Acc | Test Acc |\n",
    "|-------|------------|-----------|----------|\n",
    "|1|0.0317|0.9902|0.8764|\n",
    "|2|0.0246|0.9920|0.8895|\n",
    "|3|0.0211|0.9932|0.8765|\n",
    "|4|0.0178|0.9940|0.8791|\n",
    "|5|0.0173|0.9947|0.8740|\n"
   ]
  },
  {
   "cell_type": "code",
   "execution_count": null,
   "id": "bnMKrcmd56xs",
   "metadata": {
    "id": "bnMKrcmd56xs"
   },
   "outputs": [],
   "source": []
  },
  {
   "cell_type": "markdown",
   "id": "gB0_oon5nMFq",
   "metadata": {
    "id": "gB0_oon5nMFq"
   },
   "source": [
    "# C2"
   ]
  },
  {
   "cell_type": "code",
   "execution_count": 10,
   "id": "kFQIx5zJnNfa",
   "metadata": {
    "colab": {
     "base_uri": "https://localhost:8080/",
     "height": 105
    },
    "id": "kFQIx5zJnNfa",
    "outputId": "ad0bdcfc-473a-45ab-c768-946d80f0cad4"
   },
   "outputs": [
    {
     "data": {
      "text/html": [],
      "text/plain": [
       "<IPython.core.display.HTML object>"
      ]
     },
     "metadata": {},
     "output_type": "display_data"
    },
    {
     "data": {
      "text/html": [
       "Tracking run with wandb version 0.22.2"
      ],
      "text/plain": [
       "<IPython.core.display.HTML object>"
      ]
     },
     "metadata": {},
     "output_type": "display_data"
    },
    {
     "data": {
      "text/html": [
       "Run data is saved locally in <code>/workspace/wandb/run-20251023_230640-0b260lju</code>"
      ],
      "text/plain": [
       "<IPython.core.display.HTML object>"
      ]
     },
     "metadata": {},
     "output_type": "display_data"
    },
    {
     "data": {
      "text/html": [
       "Syncing run <strong><a href='https://wandb.ai/kaimao-columbia-university/hpml-hw2-llm3/runs/0b260lju' target=\"_blank\">bs32_lr1e-4</a></strong> to <a href='https://wandb.ai/kaimao-columbia-university/hpml-hw2-llm3' target=\"_blank\">Weights & Biases</a> (<a href='https://wandb.me/developer-guide' target=\"_blank\">docs</a>)<br>"
      ],
      "text/plain": [
       "<IPython.core.display.HTML object>"
      ]
     },
     "metadata": {},
     "output_type": "display_data"
    },
    {
     "data": {
      "text/html": [
       " View project at <a href='https://wandb.ai/kaimao-columbia-university/hpml-hw2-llm3' target=\"_blank\">https://wandb.ai/kaimao-columbia-university/hpml-hw2-llm3</a>"
      ],
      "text/plain": [
       "<IPython.core.display.HTML object>"
      ]
     },
     "metadata": {},
     "output_type": "display_data"
    },
    {
     "data": {
      "text/html": [
       " View run at <a href='https://wandb.ai/kaimao-columbia-university/hpml-hw2-llm3/runs/0b260lju' target=\"_blank\">https://wandb.ai/kaimao-columbia-university/hpml-hw2-llm3/runs/0b260lju</a>"
      ],
      "text/plain": [
       "<IPython.core.display.HTML object>"
      ]
     },
     "metadata": {},
     "output_type": "display_data"
    }
   ],
   "source": [
    "wandb.init(project=project_name, name=f\"bs32_lr1e-4\", group = \"Baseline Timing\")\n",
    "\n",
    "wandb.config.update({\n",
    "    \"model_name\": \"distilbert-base-uncased\",\n",
    "    \"max_len\": 256,\n",
    "    \"batch_size\": 32,\n",
    "    \"lr\": 1e-4,\n",
    "    \"optimizer\": \"AdamW\",\n",
    "    \"num_workers\": 2,\n",
    "    \"epochs\": 5,\n",
    "    \"compile_mode\": False\n",
    "})"
   ]
  },
  {
   "cell_type": "code",
   "execution_count": 11,
   "id": "2ztMRieKn2bQ",
   "metadata": {
    "colab": {
     "base_uri": "https://localhost:8080/"
    },
    "id": "2ztMRieKn2bQ",
    "outputId": "e6768a04-bd08-46c5-8f4d-753446f7c941",
    "scrolled": true
   },
   "outputs": [
    {
     "name": "stderr",
     "output_type": "stream",
     "text": [
      "Some weights of DistilBertForSequenceClassification were not initialized from the model checkpoint at distilbert-base-uncased and are newly initialized: ['classifier.bias', 'classifier.weight', 'pre_classifier.bias', 'pre_classifier.weight']\n",
      "You should probably TRAIN this model on a down-stream task to be able to use it for predictions and inference.\n",
      "huggingface/tokenizers: The current process just got forked, after parallelism has already been used. Disabling parallelism to avoid deadlocks...\n",
      "To disable this warning, you can either:\n",
      "\t- Avoid using `tokenizers` before the fork if possible\n",
      "\t- Explicitly set the environment variable TOKENIZERS_PARALLELISM=(true | false)\n",
      "huggingface/tokenizers: The current process just got forked, after parallelism has already been used. Disabling parallelism to avoid deadlocks...\n",
      "To disable this warning, you can either:\n",
      "\t- Avoid using `tokenizers` before the fork if possible\n",
      "\t- Explicitly set the environment variable TOKENIZERS_PARALLELISM=(true | false)\n",
      "huggingface/tokenizers: The current process just got forked, after parallelism has already been used. Disabling parallelism to avoid deadlocks...\n",
      "To disable this warning, you can either:\n",
      "\t- Avoid using `tokenizers` before the fork if possible\n",
      "\t- Explicitly set the environment variable TOKENIZERS_PARALLELISM=(true | false)\n",
      "huggingface/tokenizers: The current process just got forked, after parallelism has already been used. Disabling parallelism to avoid deadlocks...\n",
      "To disable this warning, you can either:\n",
      "\t- Avoid using `tokenizers` before the fork if possible\n",
      "\t- Explicitly set the environment variable TOKENIZERS_PARALLELISM=(true | false)\n"
     ]
    },
    {
     "name": "stdout",
     "output_type": "stream",
     "text": [
      "Epoch 1/5, Loss: 0.3080, Train Accuracy: 0.8673, Test Accuracy: 0.9033, data_loading time: 1.1362109184265137           compute time: 41.57454490661621 total epoch time: 43.28198599815369\n"
     ]
    },
    {
     "name": "stderr",
     "output_type": "stream",
     "text": [
      "huggingface/tokenizers: The current process just got forked, after parallelism has already been used. Disabling parallelism to avoid deadlocks...\n",
      "To disable this warning, you can either:\n",
      "\t- Avoid using `tokenizers` before the fork if possible\n",
      "\t- Explicitly set the environment variable TOKENIZERS_PARALLELISM=(true | false)\n",
      "huggingface/tokenizers: The current process just got forked, after parallelism has already been used. Disabling parallelism to avoid deadlocks...\n",
      "To disable this warning, you can either:\n",
      "\t- Avoid using `tokenizers` before the fork if possible\n",
      "\t- Explicitly set the environment variable TOKENIZERS_PARALLELISM=(true | false)\n",
      "huggingface/tokenizers: The current process just got forked, after parallelism has already been used. Disabling parallelism to avoid deadlocks...\n",
      "To disable this warning, you can either:\n",
      "\t- Avoid using `tokenizers` before the fork if possible\n",
      "\t- Explicitly set the environment variable TOKENIZERS_PARALLELISM=(true | false)\n",
      "huggingface/tokenizers: The current process just got forked, after parallelism has already been used. Disabling parallelism to avoid deadlocks...\n",
      "To disable this warning, you can either:\n",
      "\t- Avoid using `tokenizers` before the fork if possible\n",
      "\t- Explicitly set the environment variable TOKENIZERS_PARALLELISM=(true | false)\n"
     ]
    },
    {
     "name": "stdout",
     "output_type": "stream",
     "text": [
      "Epoch 2/5, Loss: 0.1663, Train Accuracy: 0.9389, Test Accuracy: 0.8952, data_loading time: 1.230752944946289           compute time: 42.04773426055908 total epoch time: 43.87720322608948\n"
     ]
    },
    {
     "name": "stderr",
     "output_type": "stream",
     "text": [
      "huggingface/tokenizers: The current process just got forked, after parallelism has already been used. Disabling parallelism to avoid deadlocks...\n",
      "To disable this warning, you can either:\n",
      "\t- Avoid using `tokenizers` before the fork if possible\n",
      "\t- Explicitly set the environment variable TOKENIZERS_PARALLELISM=(true | false)\n",
      "huggingface/tokenizers: The current process just got forked, after parallelism has already been used. Disabling parallelism to avoid deadlocks...\n",
      "To disable this warning, you can either:\n",
      "\t- Avoid using `tokenizers` before the fork if possible\n",
      "\t- Explicitly set the environment variable TOKENIZERS_PARALLELISM=(true | false)\n",
      "huggingface/tokenizers: The current process just got forked, after parallelism has already been used. Disabling parallelism to avoid deadlocks...\n",
      "To disable this warning, you can either:\n",
      "\t- Avoid using `tokenizers` before the fork if possible\n",
      "\t- Explicitly set the environment variable TOKENIZERS_PARALLELISM=(true | false)\n",
      "huggingface/tokenizers: The current process just got forked, after parallelism has already been used. Disabling parallelism to avoid deadlocks...\n",
      "To disable this warning, you can either:\n",
      "\t- Avoid using `tokenizers` before the fork if possible\n",
      "\t- Explicitly set the environment variable TOKENIZERS_PARALLELISM=(true | false)\n"
     ]
    },
    {
     "name": "stdout",
     "output_type": "stream",
     "text": [
      "Epoch 3/5, Loss: 0.0868, Train Accuracy: 0.9706, Test Accuracy: 0.8845, data_loading time: 1.2963290214538574           compute time: 42.078760862350464 total epoch time: 43.954166650772095\n"
     ]
    },
    {
     "name": "stderr",
     "output_type": "stream",
     "text": [
      "huggingface/tokenizers: The current process just got forked, after parallelism has already been used. Disabling parallelism to avoid deadlocks...\n",
      "To disable this warning, you can either:\n",
      "\t- Avoid using `tokenizers` before the fork if possible\n",
      "\t- Explicitly set the environment variable TOKENIZERS_PARALLELISM=(true | false)\n",
      "huggingface/tokenizers: The current process just got forked, after parallelism has already been used. Disabling parallelism to avoid deadlocks...\n",
      "To disable this warning, you can either:\n",
      "\t- Avoid using `tokenizers` before the fork if possible\n",
      "\t- Explicitly set the environment variable TOKENIZERS_PARALLELISM=(true | false)\n",
      "huggingface/tokenizers: The current process just got forked, after parallelism has already been used. Disabling parallelism to avoid deadlocks...\n",
      "To disable this warning, you can either:\n",
      "\t- Avoid using `tokenizers` before the fork if possible\n",
      "\t- Explicitly set the environment variable TOKENIZERS_PARALLELISM=(true | false)\n",
      "huggingface/tokenizers: The current process just got forked, after parallelism has already been used. Disabling parallelism to avoid deadlocks...\n",
      "To disable this warning, you can either:\n",
      "\t- Avoid using `tokenizers` before the fork if possible\n",
      "\t- Explicitly set the environment variable TOKENIZERS_PARALLELISM=(true | false)\n"
     ]
    },
    {
     "name": "stdout",
     "output_type": "stream",
     "text": [
      "Epoch 4/5, Loss: 0.0532, Train Accuracy: 0.9836, Test Accuracy: 0.8785, data_loading time: 1.4094874858856201           compute time: 42.1745662689209 total epoch time: 44.2338387966156\n"
     ]
    },
    {
     "name": "stderr",
     "output_type": "stream",
     "text": [
      "huggingface/tokenizers: The current process just got forked, after parallelism has already been used. Disabling parallelism to avoid deadlocks...\n",
      "To disable this warning, you can either:\n",
      "\t- Avoid using `tokenizers` before the fork if possible\n",
      "\t- Explicitly set the environment variable TOKENIZERS_PARALLELISM=(true | false)\n",
      "huggingface/tokenizers: The current process just got forked, after parallelism has already been used. Disabling parallelism to avoid deadlocks...\n",
      "To disable this warning, you can either:\n",
      "\t- Avoid using `tokenizers` before the fork if possible\n",
      "\t- Explicitly set the environment variable TOKENIZERS_PARALLELISM=(true | false)\n",
      "huggingface/tokenizers: The current process just got forked, after parallelism has already been used. Disabling parallelism to avoid deadlocks...\n",
      "To disable this warning, you can either:\n",
      "\t- Avoid using `tokenizers` before the fork if possible\n",
      "\t- Explicitly set the environment variable TOKENIZERS_PARALLELISM=(true | false)\n",
      "huggingface/tokenizers: The current process just got forked, after parallelism has already been used. Disabling parallelism to avoid deadlocks...\n",
      "To disable this warning, you can either:\n",
      "\t- Avoid using `tokenizers` before the fork if possible\n",
      "\t- Explicitly set the environment variable TOKENIZERS_PARALLELISM=(true | false)\n"
     ]
    },
    {
     "name": "stdout",
     "output_type": "stream",
     "text": [
      "Epoch 5/5, Loss: 0.0406, Train Accuracy: 0.9867, Test Accuracy: 0.8608, data_loading time: 1.4818291664123535           compute time: 42.24960660934448 total epoch time: 44.39625382423401\n"
     ]
    }
   ],
   "source": [
    "import time\n",
    "\n",
    "config = wandb.config\n",
    "\n",
    "device = torch.device(\"cuda\" if torch.cuda.is_available() else \"cpu\")\n",
    "model_name = \"distilbert-base-uncased\"\n",
    "model = DistilBertForSequenceClassification.from_pretrained(model_name, num_labels=2)\n",
    "model.to(device)\n",
    "\n",
    "optimizer = AdamW(model.parameters(), lr=config.lr)\n",
    "\n",
    "train_loader = DataLoader(tokenized[\"train\"], batch_size=config.batch_size, shuffle=True, collate_fn=data_collator, num_workers=config.num_workers)\n",
    "test_loader = DataLoader(tokenized[\"test\"], batch_size=config.batch_size, collate_fn=data_collator, num_workers=config.num_workers)\n",
    "\n",
    "train_loss = []\n",
    "train_accuracy = []\n",
    "test_accuracy = []\n",
    "data_loading_time_arr = []\n",
    "compute_time_arr = []\n",
    "epoch_time_arr = []\n",
    "\n",
    "for epoch in range(config.epochs):\n",
    "  model.train()\n",
    "  total_loss = 0\n",
    "  total_correct = 0\n",
    "  total_samples = 0\n",
    "  data_loading_time = 0\n",
    "  training_compute_time = 0\n",
    "  total_epoch_time = 0\n",
    "  start_data_loading = time.time()\n",
    "  start_epoch_time = time.time()\n",
    "  for batch in train_loader:\n",
    "      torch.cuda.synchronize()\n",
    "      end = time.time()\n",
    "      data_loading_time +=  end - start_data_loading\n",
    "\n",
    "      optimizer.zero_grad()\n",
    "\n",
    "      inputs = {\n",
    "          \"input_ids\": batch[\"input_ids\"].to(device),\n",
    "          \"attention_mask\": batch[\"attention_mask\"].to(device),\n",
    "          \"labels\": batch[\"labels\"].to(device),\n",
    "      }\n",
    "\n",
    "      start_compute = time.time()\n",
    "      outputs = model(**inputs)\n",
    "      loss = outputs.loss\n",
    "      loss.backward()\n",
    "      optimizer.step()\n",
    "\n",
    "      torch.cuda.synchronize()\n",
    "      end = time.time()\n",
    "      training_compute_time += end - start_compute\n",
    "\n",
    "      logits = outputs.logits\n",
    "      preds = torch.argmax(logits, dim = 1)\n",
    "      labels = batch[\"labels\"].to(device)\n",
    "      correct = (preds == labels).sum().item()\n",
    "      total_correct += correct\n",
    "      total_samples += len(labels)\n",
    "      total_loss += loss.item()\n",
    "\n",
    "      start_data_loading = time.time()\n",
    "\n",
    "  end = time.time()\n",
    "  total_epoch_time = end - start_epoch_time\n",
    "\n",
    "  avg_loss = total_loss / len(train_loader)\n",
    "  avg_accuracy = total_correct / total_samples\n",
    "  train_loss.append(avg_loss)\n",
    "  train_accuracy.append(avg_accuracy)\n",
    "\n",
    "  model.eval()\n",
    "  correct = 0\n",
    "  total = 0\n",
    "\n",
    "  with torch.no_grad():\n",
    "      for batch in test_loader:\n",
    "          inputs = {\n",
    "              \"input_ids\": batch[\"input_ids\"].to(device),\n",
    "              \"attention_mask\": batch[\"attention_mask\"].to(device),\n",
    "          }\n",
    "          labels = batch[\"labels\"].to(device)\n",
    "\n",
    "          logits = model(**inputs).logits\n",
    "          preds = torch.argmax(logits, dim=1)\n",
    "\n",
    "          correct += (preds == labels).sum().item()\n",
    "          total += labels.size(0)\n",
    "\n",
    "  accuracy = correct / total\n",
    "  test_accuracy.append(accuracy)\n",
    "\n",
    "  wandb.log({\"train/loss\": train_loss,\n",
    "            \"train/acc\": avg_accuracy,\n",
    "            \"test/acc\": accuracy,\n",
    "             \"data-loading time\": data_loading_time,\n",
    "             \"compute time\": training_compute_time,\n",
    "             \"total epoch time\": total_epoch_time})\n",
    "\n",
    "  data_loading_time_arr.append(data_loading_time)\n",
    "  compute_time_arr.append(training_compute_time)\n",
    "  epoch_time_arr.append(total_epoch_time)\n",
    "  print(f\"Epoch {epoch+1}/{config.epochs}, Loss: {avg_loss:.4f}, Train Accuracy: {avg_accuracy:.4f}, Test Accuracy: {accuracy:.4f}, data_loading time: {data_loading_time} \\\n",
    "          compute time: {training_compute_time} total epoch time: {total_epoch_time}\")\n"
   ]
  },
  {
   "cell_type": "code",
   "execution_count": 12,
   "id": "tSYJy0kk3ZAQ",
   "metadata": {
    "id": "tSYJy0kk3ZAQ"
   },
   "outputs": [
    {
     "name": "stderr",
     "output_type": "stream",
     "text": [
      "\u001b[34m\u001b[1mwandb\u001b[0m: \u001b[32m\u001b[41mERROR\u001b[0m The nbformat package was not found. It is required to save notebook history.\n"
     ]
    },
    {
     "data": {
      "text/html": [],
      "text/plain": [
       "<IPython.core.display.HTML object>"
      ]
     },
     "metadata": {},
     "output_type": "display_data"
    },
    {
     "data": {
      "text/html": [
       "<br>    <style><br>        .wandb-row {<br>            display: flex;<br>            flex-direction: row;<br>            flex-wrap: wrap;<br>            justify-content: flex-start;<br>            width: 100%;<br>        }<br>        .wandb-col {<br>            display: flex;<br>            flex-direction: column;<br>            flex-basis: 100%;<br>            flex: 1;<br>            padding: 10px;<br>        }<br>    </style><br><div class=\"wandb-row\"><div class=\"wandb-col\"><h3>Run history:</h3><br/><table class=\"wandb\"><tr><td>compute time</td><td>▁▆▆▇█</td></tr><tr><td>data-loading time</td><td>▁▃▄▇█</td></tr><tr><td>test/acc</td><td>█▇▅▄▁</td></tr><tr><td>total epoch time</td><td>▁▅▅▇█</td></tr><tr><td>train/acc</td><td>▁▅▇██</td></tr></table><br/></div><div class=\"wandb-col\"><h3>Run summary:</h3><br/><table class=\"wandb\"><tr><td>compute time</td><td>42.24961</td></tr><tr><td>data-loading time</td><td>1.48183</td></tr><tr><td>test/acc</td><td>0.8608</td></tr><tr><td>total epoch time</td><td>44.39625</td></tr><tr><td>train/acc</td><td>0.98672</td></tr></table><br/></div></div>"
      ],
      "text/plain": [
       "<IPython.core.display.HTML object>"
      ]
     },
     "metadata": {},
     "output_type": "display_data"
    },
    {
     "data": {
      "text/html": [
       " View run <strong style=\"color:#cdcd00\">bs32_lr1e-4</strong> at: <a href='https://wandb.ai/kaimao-columbia-university/hpml-hw2-llm3/runs/0b260lju' target=\"_blank\">https://wandb.ai/kaimao-columbia-university/hpml-hw2-llm3/runs/0b260lju</a><br> View project at: <a href='https://wandb.ai/kaimao-columbia-university/hpml-hw2-llm3' target=\"_blank\">https://wandb.ai/kaimao-columbia-university/hpml-hw2-llm3</a><br>Synced 5 W&B file(s), 0 media file(s), 0 artifact file(s) and 0 other file(s)"
      ],
      "text/plain": [
       "<IPython.core.display.HTML object>"
      ]
     },
     "metadata": {},
     "output_type": "display_data"
    },
    {
     "data": {
      "text/html": [
       "Find logs at: <code>./wandb/run-20251023_230640-0b260lju/logs</code>"
      ],
      "text/plain": [
       "<IPython.core.display.HTML object>"
      ]
     },
     "metadata": {},
     "output_type": "display_data"
    }
   ],
   "source": [
    "wandb.finish()"
   ]
  },
  {
   "cell_type": "code",
   "execution_count": 13,
   "id": "jLNbkkTs3Zj-",
   "metadata": {
    "id": "jLNbkkTs3Zj-"
   },
   "outputs": [
    {
     "data": {
      "image/png": "[encoded data removed]",
      "text/plain": [
       "<Figure size 800x500 with 1 Axes>"
      ]
     },
     "metadata": {},
     "output_type": "display_data"
    }
   ],
   "source": [
    "plt.figure(figsize=(8, 5))\n",
    "\n",
    "epochs = [1, 2, 3, 4, 5]\n",
    "# Stack bars\n",
    "plt.bar(epochs, np.array(compute_time_arr)/np.array(epoch_time_arr), label='Compute', color='blue')\n",
    "plt.bar(epochs, np.array(data_loading_time_arr)/np.array(epoch_time_arr), bottom=np.array(compute_time_arr)/np.array(epoch_time_arr), label='Data Loading', color='skyblue')\n",
    "\n",
    "# 🧾 Annotate total time on top of each bar\n",
    "# for i in range(len(epochs)):\n",
    "#     plt.text(epochs[i], epoch_time_arr[i] + 0.3, f\"{epoch_time_arr[i]:.1f}s\",\n",
    "#              ha='center', va='bottom', fontsize=9, fontweight='bold')\n",
    "\n",
    "plt.xlabel('Epoch')\n",
    "plt.ylabel('Contribution to Total Time (%)')\n",
    "plt.title('Data vs Compute Contribution per Epoch')\n",
    "plt.legend()\n",
    "plt.tight_layout()\n",
    "plt.show()"
   ]
  },
  {
   "cell_type": "code",
   "execution_count": 14,
   "id": "de5ea8d2-8720-41de-97ab-07990accc3af",
   "metadata": {},
   "outputs": [
    {
     "name": "stdout",
     "output_type": "stream",
     "text": [
      "[1.1362109184265137, 1.230752944946289, 1.2963290214538574, 1.4094874858856201, 1.4818291664123535] [41.57454490661621, 42.04773426055908, 42.078760862350464, 42.1745662689209, 42.24960660934448] [43.28198599815369, 43.87720322608948, 43.954166650772095, 44.2338387966156, 44.39625382423401]\n"
     ]
    }
   ],
   "source": [
    "print(data_loading_time_arr, compute_time_arr, epoch_time_arr)"
   ]
  },
  {
   "cell_type": "markdown",
   "id": "heVz9h_S0O_j",
   "metadata": {
    "id": "heVz9h_S0O_j"
   },
   "source": [
    "# C3"
   ]
  },
  {
   "cell_type": "code",
   "execution_count": 5,
   "id": "ylOAPqx30Qkb",
   "metadata": {
    "colab": {
     "base_uri": "https://localhost:8080/",
     "height": 1000
    },
    "id": "ylOAPqx30Qkb",
    "outputId": "7dd7a589-26bf-4f46-f1ec-030b7104228f"
   },
   "outputs": [],
   "source": [
    "avg_epoch_time_arr = []\n",
    "avg_data_time_arr = []\n",
    "\n",
    "def train():\n",
    "  with wandb.init(\n",
    "      group=\"DataLoader Performance\",\n",
    "      config={\n",
    "        \"model_name\": \"distilbert-base-uncased\",\n",
    "        \"max_len\": 256, \n",
    "        \"optimizer\": \"AdamW\", \n",
    "        \"batch_size\": 32,\n",
    "        \"learning_rate\": 1e-4,\n",
    "        \"epochs\": 5, \n",
    "        \"compile_mode\": False\n",
    "    }) as run:\n",
    "      config = wandb.config\n",
    "      run.name = f\"lr{wandb.config.learning_rate}_bs{wandb.config.batch_size}_num_workers{config.num_workers}_C3\"\n",
    "      \n",
    "      train_loader = DataLoader(tokenized[\"train\"], batch_size=config.batch_size, shuffle=True, collate_fn=data_collator, num_workers=config.num_workers)\n",
    "      test_loader = DataLoader(tokenized[\"test\"], batch_size=config.batch_size, collate_fn=data_collator, num_workers=config.num_workers)\n",
    "      model_name = \"distilbert-base-uncased\"\n",
    "      model = DistilBertForSequenceClassification.from_pretrained(model_name, num_labels=2)\n",
    "      model.to(device)\n",
    "    \n",
    "      optimizer = getattr(optim, config.optimizer)(model.parameters(), lr=config.learning_rate)\n",
    "      print(f\"---------start train: batch_size({config.batch_size}) lr({config.learning_rate}) num_workers({config.num_workers}) optimizer({config.optimizer})-----\")\n",
    "      train_loss = []\n",
    "      train_accuracy = []\n",
    "      test_accuracy = []\n",
    "      data_loading_time_arr = []\n",
    "      compute_time_arr = []\n",
    "      epoch_time_arr = []\n",
    "    \n",
    "      for epoch in range(config.epochs):\n",
    "        model.train()\n",
    "        total_loss = 0\n",
    "        total_correct = 0\n",
    "        total_samples = 0\n",
    "        data_loading_time = 0\n",
    "        training_compute_time = 0\n",
    "        total_epoch_time = 0\n",
    "        start_data_loading = time.time()\n",
    "        start_epoch_time = time.time()\n",
    "        for batch in train_loader:\n",
    "            inputs = {\n",
    "                \"input_ids\": batch[\"input_ids\"].to(device),\n",
    "                \"attention_mask\": batch[\"attention_mask\"].to(device),\n",
    "                \"labels\": batch[\"labels\"].to(device),\n",
    "            }\n",
    "            torch.cuda.synchronize()\n",
    "            end = time.time()\n",
    "            data_loading_time +=  end - start_data_loading\n",
    "\n",
    "            start_compute = time.time()\n",
    "            optimizer.zero_grad()\n",
    "            outputs = model(**inputs)\n",
    "            loss = outputs.loss\n",
    "            loss.backward()\n",
    "            optimizer.step()\n",
    "    \n",
    "            torch.cuda.synchronize()\n",
    "            end = time.time()\n",
    "            training_compute_time += end - start_compute\n",
    "    \n",
    "            logits = outputs.logits\n",
    "            preds = torch.argmax(logits, dim = 1)\n",
    "            labels = batch[\"labels\"].to(device)\n",
    "            correct = (preds == labels).sum().item()\n",
    "            total_correct += correct\n",
    "            total_samples += len(labels)\n",
    "            total_loss += loss.item()\n",
    "    \n",
    "            start_data_loading = time.time()\n",
    "    \n",
    "        end = time.time()\n",
    "        total_epoch_time = end - start_epoch_time\n",
    "    \n",
    "        avg_loss = total_loss / len(train_loader)\n",
    "        avg_accuracy = total_correct / total_samples\n",
    "        train_loss.append(avg_loss)\n",
    "        train_accuracy.append(avg_accuracy)\n",
    "    \n",
    "        model.eval()\n",
    "        correct = 0\n",
    "        total = 0\n",
    "    \n",
    "        with torch.no_grad():\n",
    "            for batch in test_loader:\n",
    "                inputs = {\n",
    "                    \"input_ids\": batch[\"input_ids\"].to(device),\n",
    "                    \"attention_mask\": batch[\"attention_mask\"].to(device),\n",
    "                }\n",
    "                labels = batch[\"labels\"].to(device)\n",
    "    \n",
    "                logits = model(**inputs).logits\n",
    "                preds = torch.argmax(logits, dim=1)\n",
    "    \n",
    "                correct += (preds == labels).sum().item()\n",
    "                total += labels.size(0)\n",
    "    \n",
    "        accuracy = correct / total\n",
    "        test_accuracy.append(accuracy)\n",
    "    \n",
    "        wandb.log({\"train/loss\": train_loss,\n",
    "                  \"train/acc\": avg_accuracy,\n",
    "                  \"test/acc\": accuracy,\n",
    "                  \"data-loading time\": data_loading_time,\n",
    "                  \"compute time\": training_compute_time,\n",
    "                  \"total epoch time\": total_epoch_time})\n",
    "    \n",
    "        data_loading_time_arr.append(data_loading_time)\n",
    "        compute_time_arr.append(training_compute_time)\n",
    "        epoch_time_arr.append(total_epoch_time)\n",
    "        print(f\"Epoch {epoch+1}/{config.epochs}, Loss: {avg_loss:.4f}, Train Accuracy: {avg_accuracy:.4f}, Test Accuracy: {accuracy:.4f}, data_loading time: {data_loading_time} \\\n",
    "                compute time: {training_compute_time} total epoch time: {total_epoch_time}\")\n",
    "        print(f\"-------------------------------------------------------------------------------\")\n",
    "          \n",
    "      avg_epoch_time_arr.append(sum(epoch_time_arr)/len(epoch_time_arr))\n",
    "      avg_data_time_arr.append(sum(data_loading_time_arr)/len(data_loading_time_arr))\n",
    "      "
   ]
  },
  {
   "cell_type": "code",
   "execution_count": 6,
   "id": "1a152793-ac1f-410f-ab52-536c014e43d5",
   "metadata": {
    "scrolled": true
   },
   "outputs": [
    {
     "name": "stderr",
     "output_type": "stream",
     "text": [
      "\u001b[34m\u001b[1mwandb\u001b[0m: \u001b[32m\u001b[41mERROR\u001b[0m Failed to detect the name of this notebook. You can set it manually with the WANDB_NOTEBOOK_NAME environment variable to enable code saving.\n"
     ]
    },
    {
     "name": "stdout",
     "output_type": "stream",
     "text": [
      "Create sweep with ID: 0vkzkara\n",
      "Sweep URL: https://wandb.ai/kaimao-columbia-university/hpml-hw2-llm3/sweeps/0vkzkara\n"
     ]
    },
    {
     "name": "stderr",
     "output_type": "stream",
     "text": [
      "\u001b[34m\u001b[1mwandb\u001b[0m: Agent Starting Run: qdnsf7w2 with config:\n",
      "\u001b[34m\u001b[1mwandb\u001b[0m: \tnum_workers: 0\n",
      "\u001b[34m\u001b[1mwandb\u001b[0m: \u001b[32m\u001b[41mERROR\u001b[0m Failed to detect the name of this notebook. You can set it manually with the WANDB_NOTEBOOK_NAME environment variable to enable code saving.\n",
      "\u001b[34m\u001b[1mwandb\u001b[0m: Currently logged in as: \u001b[33mykmao1515\u001b[0m (\u001b[33mkaimao-columbia-university\u001b[0m) to \u001b[32mhttps://api.wandb.ai\u001b[0m. Use \u001b[1m`wandb login --relogin`\u001b[0m to force relogin\n"
     ]
    },
    {
     "data": {
      "text/html": [],
      "text/plain": [
       "<IPython.core.display.HTML object>"
      ]
     },
     "metadata": {},
     "output_type": "display_data"
    },
    {
     "data": {
      "text/html": [
       "Tracking run with wandb version 0.22.2"
      ],
      "text/plain": [
       "<IPython.core.display.HTML object>"
      ]
     },
     "metadata": {},
     "output_type": "display_data"
    },
    {
     "data": {
      "text/html": [
       "Run data is saved locally in <code>/workspace/wandb/run-20251024_045155-qdnsf7w2</code>"
      ],
      "text/plain": [
       "<IPython.core.display.HTML object>"
      ]
     },
     "metadata": {},
     "output_type": "display_data"
    },
    {
     "data": {
      "text/html": [
       "Syncing run <strong><a href='https://wandb.ai/kaimao-columbia-university/hpml-hw2-llm3/runs/qdnsf7w2' target=\"_blank\">pretty-sweep-1</a></strong> to <a href='https://wandb.ai/kaimao-columbia-university/hpml-hw2-llm3' target=\"_blank\">Weights & Biases</a> (<a href='https://wandb.me/developer-guide' target=\"_blank\">docs</a>)<br>Sweep page: <a href='https://wandb.ai/kaimao-columbia-university/hpml-hw2-llm3/sweeps/0vkzkara' target=\"_blank\">https://wandb.ai/kaimao-columbia-university/hpml-hw2-llm3/sweeps/0vkzkara</a>"
      ],
      "text/plain": [
       "<IPython.core.display.HTML object>"
      ]
     },
     "metadata": {},
     "output_type": "display_data"
    },
    {
     "data": {
      "text/html": [
       " View project at <a href='https://wandb.ai/kaimao-columbia-university/hpml-hw2-llm3' target=\"_blank\">https://wandb.ai/kaimao-columbia-university/hpml-hw2-llm3</a>"
      ],
      "text/plain": [
       "<IPython.core.display.HTML object>"
      ]
     },
     "metadata": {},
     "output_type": "display_data"
    },
    {
     "data": {
      "text/html": [
       " View sweep at <a href='https://wandb.ai/kaimao-columbia-university/hpml-hw2-llm3/sweeps/0vkzkara' target=\"_blank\">https://wandb.ai/kaimao-columbia-university/hpml-hw2-llm3/sweeps/0vkzkara</a>"
      ],
      "text/plain": [
       "<IPython.core.display.HTML object>"
      ]
     },
     "metadata": {},
     "output_type": "display_data"
    },
    {
     "data": {
      "text/html": [
       " View run at <a href='https://wandb.ai/kaimao-columbia-university/hpml-hw2-llm3/runs/qdnsf7w2' target=\"_blank\">https://wandb.ai/kaimao-columbia-university/hpml-hw2-llm3/runs/qdnsf7w2</a>"
      ],
      "text/plain": [
       "<IPython.core.display.HTML object>"
      ]
     },
     "metadata": {},
     "output_type": "display_data"
    },
    {
     "name": "stderr",
     "output_type": "stream",
     "text": [
      "Some weights of DistilBertForSequenceClassification were not initialized from the model checkpoint at distilbert-base-uncased and are newly initialized: ['classifier.bias', 'classifier.weight', 'pre_classifier.bias', 'pre_classifier.weight']\n",
      "You should probably TRAIN this model on a down-stream task to be able to use it for predictions and inference.\n"
     ]
    },
    {
     "name": "stdout",
     "output_type": "stream",
     "text": [
      "---------start train: batch_size(32) lr(0.0001) num_workers(0) optimizer(AdamW)-----\n",
      "Epoch 1/5, Loss: 0.3068, Train Accuracy: 0.8698, Test Accuracy: 0.8830, data_loading time: 3.207254648208618                 compute time: 42.14731478691101 total epoch time: 45.59546518325806\n",
      "-------------------------------------------------------------------------------\n",
      "Epoch 2/5, Loss: 0.1683, Train Accuracy: 0.9381, Test Accuracy: 0.8951, data_loading time: 3.2103919982910156                 compute time: 42.06193470954895 total epoch time: 45.4927191734314\n",
      "-------------------------------------------------------------------------------\n",
      "Epoch 3/5, Loss: 0.0812, Train Accuracy: 0.9729, Test Accuracy: 0.8687, data_loading time: 3.2201642990112305                 compute time: 42.12448191642761 total epoch time: 45.56506967544556\n",
      "-------------------------------------------------------------------------------\n",
      "Epoch 4/5, Loss: 0.0552, Train Accuracy: 0.9818, Test Accuracy: 0.8828, data_loading time: 3.2252848148345947                 compute time: 42.10559797286987 total epoch time: 45.55213141441345\n",
      "-------------------------------------------------------------------------------\n"
     ]
    },
    {
     "name": "stderr",
     "output_type": "stream",
     "text": [
      "\u001b[34m\u001b[1mwandb\u001b[0m: \u001b[32m\u001b[41mERROR\u001b[0m The nbformat package was not found. It is required to save notebook history.\n"
     ]
    },
    {
     "name": "stdout",
     "output_type": "stream",
     "text": [
      "Epoch 5/5, Loss: 0.0459, Train Accuracy: 0.9848, Test Accuracy: 0.8716, data_loading time: 3.2410035133361816                 compute time: 42.09473752975464 total epoch time: 45.55516505241394\n",
      "-------------------------------------------------------------------------------\n"
     ]
    },
    {
     "data": {
      "text/html": [],
      "text/plain": [
       "<IPython.core.display.HTML object>"
      ]
     },
     "metadata": {},
     "output_type": "display_data"
    },
    {
     "data": {
      "text/html": [
       "<br>    <style><br>        .wandb-row {<br>            display: flex;<br>            flex-direction: row;<br>            flex-wrap: wrap;<br>            justify-content: flex-start;<br>            width: 100%;<br>        }<br>        .wandb-col {<br>            display: flex;<br>            flex-direction: column;<br>            flex-basis: 100%;<br>            flex: 1;<br>            padding: 10px;<br>        }<br>    </style><br><div class=\"wandb-row\"><div class=\"wandb-col\"><h3>Run history:</h3><br/><table class=\"wandb\"><tr><td>compute time</td><td>█▁▆▅▄</td></tr><tr><td>data-loading time</td><td>▁▂▄▅█</td></tr><tr><td>test/acc</td><td>▅█▁▅▂</td></tr><tr><td>total epoch time</td><td>█▁▆▅▅</td></tr><tr><td>train/acc</td><td>▁▅▇██</td></tr></table><br/></div><div class=\"wandb-col\"><h3>Run summary:</h3><br/><table class=\"wandb\"><tr><td>compute time</td><td>42.09474</td></tr><tr><td>data-loading time</td><td>3.241</td></tr><tr><td>test/acc</td><td>0.87164</td></tr><tr><td>total epoch time</td><td>45.55517</td></tr><tr><td>train/acc</td><td>0.98476</td></tr></table><br/></div></div>"
      ],
      "text/plain": [
       "<IPython.core.display.HTML object>"
      ]
     },
     "metadata": {},
     "output_type": "display_data"
    },
    {
     "data": {
      "text/html": [
       " View run <strong style=\"color:#cdcd00\">lr0.0001_bs32_num_workers0_C3</strong> at: <a href='https://wandb.ai/kaimao-columbia-university/hpml-hw2-llm3/runs/qdnsf7w2' target=\"_blank\">https://wandb.ai/kaimao-columbia-university/hpml-hw2-llm3/runs/qdnsf7w2</a><br> View project at: <a href='https://wandb.ai/kaimao-columbia-university/hpml-hw2-llm3' target=\"_blank\">https://wandb.ai/kaimao-columbia-university/hpml-hw2-llm3</a><br>Synced 5 W&B file(s), 0 media file(s), 0 artifact file(s) and 0 other file(s)"
      ],
      "text/plain": [
       "<IPython.core.display.HTML object>"
      ]
     },
     "metadata": {},
     "output_type": "display_data"
    },
    {
     "data": {
      "text/html": [
       "Find logs at: <code>./wandb/run-20251024_045155-qdnsf7w2/logs</code>"
      ],
      "text/plain": [
       "<IPython.core.display.HTML object>"
      ]
     },
     "metadata": {},
     "output_type": "display_data"
    },
    {
     "name": "stderr",
     "output_type": "stream",
     "text": [
      "\u001b[34m\u001b[1mwandb\u001b[0m: Sweep Agent: Waiting for job.\n",
      "\u001b[34m\u001b[1mwandb\u001b[0m: Job received.\n",
      "\u001b[34m\u001b[1mwandb\u001b[0m: Agent Starting Run: l1vblfsg with config:\n",
      "\u001b[34m\u001b[1mwandb\u001b[0m: \tnum_workers: 2\n",
      "\u001b[34m\u001b[1mwandb\u001b[0m: \u001b[32m\u001b[41mERROR\u001b[0m Failed to detect the name of this notebook. You can set it manually with the WANDB_NOTEBOOK_NAME environment variable to enable code saving.\n"
     ]
    },
    {
     "data": {
      "text/html": [],
      "text/plain": [
       "<IPython.core.display.HTML object>"
      ]
     },
     "metadata": {},
     "output_type": "display_data"
    },
    {
     "data": {
      "text/html": [
       "Tracking run with wandb version 0.22.2"
      ],
      "text/plain": [
       "<IPython.core.display.HTML object>"
      ]
     },
     "metadata": {},
     "output_type": "display_data"
    },
    {
     "data": {
      "text/html": [
       "Run data is saved locally in <code>/workspace/wandb/run-20251024_045735-l1vblfsg</code>"
      ],
      "text/plain": [
       "<IPython.core.display.HTML object>"
      ]
     },
     "metadata": {},
     "output_type": "display_data"
    },
    {
     "data": {
      "text/html": [
       "Syncing run <strong><a href='https://wandb.ai/kaimao-columbia-university/hpml-hw2-llm3/runs/l1vblfsg' target=\"_blank\">sweet-sweep-2</a></strong> to <a href='https://wandb.ai/kaimao-columbia-university/hpml-hw2-llm3' target=\"_blank\">Weights & Biases</a> (<a href='https://wandb.me/developer-guide' target=\"_blank\">docs</a>)<br>Sweep page: <a href='https://wandb.ai/kaimao-columbia-university/hpml-hw2-llm3/sweeps/0vkzkara' target=\"_blank\">https://wandb.ai/kaimao-columbia-university/hpml-hw2-llm3/sweeps/0vkzkara</a>"
      ],
      "text/plain": [
       "<IPython.core.display.HTML object>"
      ]
     },
     "metadata": {},
     "output_type": "display_data"
    },
    {
     "data": {
      "text/html": [
       " View project at <a href='https://wandb.ai/kaimao-columbia-university/hpml-hw2-llm3' target=\"_blank\">https://wandb.ai/kaimao-columbia-university/hpml-hw2-llm3</a>"
      ],
      "text/plain": [
       "<IPython.core.display.HTML object>"
      ]
     },
     "metadata": {},
     "output_type": "display_data"
    },
    {
     "data": {
      "text/html": [
       " View sweep at <a href='https://wandb.ai/kaimao-columbia-university/hpml-hw2-llm3/sweeps/0vkzkara' target=\"_blank\">https://wandb.ai/kaimao-columbia-university/hpml-hw2-llm3/sweeps/0vkzkara</a>"
      ],
      "text/plain": [
       "<IPython.core.display.HTML object>"
      ]
     },
     "metadata": {},
     "output_type": "display_data"
    },
    {
     "data": {
      "text/html": [
       " View run at <a href='https://wandb.ai/kaimao-columbia-university/hpml-hw2-llm3/runs/l1vblfsg' target=\"_blank\">https://wandb.ai/kaimao-columbia-university/hpml-hw2-llm3/runs/l1vblfsg</a>"
      ],
      "text/plain": [
       "<IPython.core.display.HTML object>"
      ]
     },
     "metadata": {},
     "output_type": "display_data"
    },
    {
     "name": "stderr",
     "output_type": "stream",
     "text": [
      "Some weights of DistilBertForSequenceClassification were not initialized from the model checkpoint at distilbert-base-uncased and are newly initialized: ['classifier.bias', 'classifier.weight', 'pre_classifier.bias', 'pre_classifier.weight']\n",
      "You should probably TRAIN this model on a down-stream task to be able to use it for predictions and inference.\n"
     ]
    },
    {
     "name": "stdout",
     "output_type": "stream",
     "text": [
      "---------start train: batch_size(32) lr(0.0001) num_workers(2) optimizer(AdamW)-----\n",
      "Epoch 1/5, Loss: 0.3109, Train Accuracy: 0.8689, Test Accuracy: 0.8999, data_loading time: 1.2844583988189697                 compute time: 42.11287546157837 total epoch time: 43.742393016815186\n",
      "-------------------------------------------------------------------------------\n",
      "Epoch 2/5, Loss: 0.1702, Train Accuracy: 0.9376, Test Accuracy: 0.8899, data_loading time: 1.1762325763702393                 compute time: 42.3264639377594 total epoch time: 43.83210825920105\n",
      "-------------------------------------------------------------------------------\n",
      "Epoch 3/5, Loss: 0.0917, Train Accuracy: 0.9681, Test Accuracy: 0.8803, data_loading time: 1.204374074935913                 compute time: 42.371110916137695 total epoch time: 43.91217541694641\n",
      "-------------------------------------------------------------------------------\n",
      "Epoch 4/5, Loss: 0.0529, Train Accuracy: 0.9822, Test Accuracy: 0.8798, data_loading time: 1.1659109592437744                 compute time: 42.393007040023804 total epoch time: 43.88929724693298\n",
      "-------------------------------------------------------------------------------\n"
     ]
    },
    {
     "name": "stderr",
     "output_type": "stream",
     "text": [
      "\u001b[34m\u001b[1mwandb\u001b[0m: \u001b[32m\u001b[41mERROR\u001b[0m The nbformat package was not found. It is required to save notebook history.\n"
     ]
    },
    {
     "name": "stdout",
     "output_type": "stream",
     "text": [
      "Epoch 5/5, Loss: 0.0373, Train Accuracy: 0.9870, Test Accuracy: 0.8713, data_loading time: 1.2159900665283203                 compute time: 42.38497710227966 total epoch time: 43.93879246711731\n",
      "-------------------------------------------------------------------------------\n"
     ]
    },
    {
     "data": {
      "text/html": [],
      "text/plain": [
       "<IPython.core.display.HTML object>"
      ]
     },
     "metadata": {},
     "output_type": "display_data"
    },
    {
     "data": {
      "text/html": [
       "<br>    <style><br>        .wandb-row {<br>            display: flex;<br>            flex-direction: row;<br>            flex-wrap: wrap;<br>            justify-content: flex-start;<br>            width: 100%;<br>        }<br>        .wandb-col {<br>            display: flex;<br>            flex-direction: column;<br>            flex-basis: 100%;<br>            flex: 1;<br>            padding: 10px;<br>        }<br>    </style><br><div class=\"wandb-row\"><div class=\"wandb-col\"><h3>Run history:</h3><br/><table class=\"wandb\"><tr><td>compute time</td><td>▁▆▇██</td></tr><tr><td>data-loading time</td><td>█▂▃▁▄</td></tr><tr><td>test/acc</td><td>█▆▃▃▁</td></tr><tr><td>total epoch time</td><td>▁▄▇▆█</td></tr><tr><td>train/acc</td><td>▁▅▇██</td></tr></table><br/></div><div class=\"wandb-col\"><h3>Run summary:</h3><br/><table class=\"wandb\"><tr><td>compute time</td><td>42.38498</td></tr><tr><td>data-loading time</td><td>1.21599</td></tr><tr><td>test/acc</td><td>0.87132</td></tr><tr><td>total epoch time</td><td>43.93879</td></tr><tr><td>train/acc</td><td>0.98696</td></tr></table><br/></div></div>"
      ],
      "text/plain": [
       "<IPython.core.display.HTML object>"
      ]
     },
     "metadata": {},
     "output_type": "display_data"
    },
    {
     "data": {
      "text/html": [
       " View run <strong style=\"color:#cdcd00\">lr0.0001_bs32_num_workers2_C3</strong> at: <a href='https://wandb.ai/kaimao-columbia-university/hpml-hw2-llm3/runs/l1vblfsg' target=\"_blank\">https://wandb.ai/kaimao-columbia-university/hpml-hw2-llm3/runs/l1vblfsg</a><br> View project at: <a href='https://wandb.ai/kaimao-columbia-university/hpml-hw2-llm3' target=\"_blank\">https://wandb.ai/kaimao-columbia-university/hpml-hw2-llm3</a><br>Synced 5 W&B file(s), 0 media file(s), 0 artifact file(s) and 0 other file(s)"
      ],
      "text/plain": [
       "<IPython.core.display.HTML object>"
      ]
     },
     "metadata": {},
     "output_type": "display_data"
    },
    {
     "data": {
      "text/html": [
       "Find logs at: <code>./wandb/run-20251024_045735-l1vblfsg/logs</code>"
      ],
      "text/plain": [
       "<IPython.core.display.HTML object>"
      ]
     },
     "metadata": {},
     "output_type": "display_data"
    },
    {
     "name": "stderr",
     "output_type": "stream",
     "text": [
      "\u001b[34m\u001b[1mwandb\u001b[0m: Agent Starting Run: m2kjq5pq with config:\n",
      "\u001b[34m\u001b[1mwandb\u001b[0m: \tnum_workers: 4\n",
      "\u001b[34m\u001b[1mwandb\u001b[0m: \u001b[32m\u001b[41mERROR\u001b[0m Failed to detect the name of this notebook. You can set it manually with the WANDB_NOTEBOOK_NAME environment variable to enable code saving.\n"
     ]
    },
    {
     "data": {
      "text/html": [],
      "text/plain": [
       "<IPython.core.display.HTML object>"
      ]
     },
     "metadata": {},
     "output_type": "display_data"
    },
    {
     "data": {
      "text/html": [
       "Tracking run with wandb version 0.22.2"
      ],
      "text/plain": [
       "<IPython.core.display.HTML object>"
      ]
     },
     "metadata": {},
     "output_type": "display_data"
    },
    {
     "data": {
      "text/html": [
       "Run data is saved locally in <code>/workspace/wandb/run-20251024_050249-m2kjq5pq</code>"
      ],
      "text/plain": [
       "<IPython.core.display.HTML object>"
      ]
     },
     "metadata": {},
     "output_type": "display_data"
    },
    {
     "data": {
      "text/html": [
       "Syncing run <strong><a href='https://wandb.ai/kaimao-columbia-university/hpml-hw2-llm3/runs/m2kjq5pq' target=\"_blank\">legendary-sweep-3</a></strong> to <a href='https://wandb.ai/kaimao-columbia-university/hpml-hw2-llm3' target=\"_blank\">Weights & Biases</a> (<a href='https://wandb.me/developer-guide' target=\"_blank\">docs</a>)<br>Sweep page: <a href='https://wandb.ai/kaimao-columbia-university/hpml-hw2-llm3/sweeps/0vkzkara' target=\"_blank\">https://wandb.ai/kaimao-columbia-university/hpml-hw2-llm3/sweeps/0vkzkara</a>"
      ],
      "text/plain": [
       "<IPython.core.display.HTML object>"
      ]
     },
     "metadata": {},
     "output_type": "display_data"
    },
    {
     "data": {
      "text/html": [
       " View project at <a href='https://wandb.ai/kaimao-columbia-university/hpml-hw2-llm3' target=\"_blank\">https://wandb.ai/kaimao-columbia-university/hpml-hw2-llm3</a>"
      ],
      "text/plain": [
       "<IPython.core.display.HTML object>"
      ]
     },
     "metadata": {},
     "output_type": "display_data"
    },
    {
     "data": {
      "text/html": [
       " View sweep at <a href='https://wandb.ai/kaimao-columbia-university/hpml-hw2-llm3/sweeps/0vkzkara' target=\"_blank\">https://wandb.ai/kaimao-columbia-university/hpml-hw2-llm3/sweeps/0vkzkara</a>"
      ],
      "text/plain": [
       "<IPython.core.display.HTML object>"
      ]
     },
     "metadata": {},
     "output_type": "display_data"
    },
    {
     "data": {
      "text/html": [
       " View run at <a href='https://wandb.ai/kaimao-columbia-university/hpml-hw2-llm3/runs/m2kjq5pq' target=\"_blank\">https://wandb.ai/kaimao-columbia-university/hpml-hw2-llm3/runs/m2kjq5pq</a>"
      ],
      "text/plain": [
       "<IPython.core.display.HTML object>"
      ]
     },
     "metadata": {},
     "output_type": "display_data"
    },
    {
     "name": "stderr",
     "output_type": "stream",
     "text": [
      "Some weights of DistilBertForSequenceClassification were not initialized from the model checkpoint at distilbert-base-uncased and are newly initialized: ['classifier.bias', 'classifier.weight', 'pre_classifier.bias', 'pre_classifier.weight']\n",
      "You should probably TRAIN this model on a down-stream task to be able to use it for predictions and inference.\n"
     ]
    },
    {
     "name": "stdout",
     "output_type": "stream",
     "text": [
      "---------start train: batch_size(32) lr(0.0001) num_workers(4) optimizer(AdamW)-----\n",
      "Epoch 1/5, Loss: 0.3071, Train Accuracy: 0.8691, Test Accuracy: 0.8984, data_loading time: 1.2442965507507324                 compute time: 42.13042902946472 total epoch time: 43.72322225570679\n",
      "-------------------------------------------------------------------------------\n",
      "Epoch 2/5, Loss: 0.1745, Train Accuracy: 0.9359, Test Accuracy: 0.8892, data_loading time: 1.3141040802001953                 compute time: 42.362959146499634 total epoch time: 44.01722812652588\n",
      "-------------------------------------------------------------------------------\n",
      "Epoch 3/5, Loss: 0.0858, Train Accuracy: 0.9700, Test Accuracy: 0.8687, data_loading time: 1.32576584815979                 compute time: 42.40106701850891 total epoch time: 44.07692313194275\n",
      "-------------------------------------------------------------------------------\n",
      "Epoch 4/5, Loss: 0.0559, Train Accuracy: 0.9815, Test Accuracy: 0.8740, data_loading time: 1.2678344249725342                 compute time: 42.34379506111145 total epoch time: 43.94737386703491\n",
      "-------------------------------------------------------------------------------\n"
     ]
    },
    {
     "name": "stderr",
     "output_type": "stream",
     "text": [
      "\u001b[34m\u001b[1mwandb\u001b[0m: \u001b[32m\u001b[41mERROR\u001b[0m The nbformat package was not found. It is required to save notebook history.\n"
     ]
    },
    {
     "name": "stdout",
     "output_type": "stream",
     "text": [
      "Epoch 5/5, Loss: 0.0428, Train Accuracy: 0.9855, Test Accuracy: 0.8688, data_loading time: 1.606079339981079                 compute time: 42.548943519592285 total epoch time: 44.54756450653076\n",
      "-------------------------------------------------------------------------------\n"
     ]
    },
    {
     "data": {
      "text/html": [],
      "text/plain": [
       "<IPython.core.display.HTML object>"
      ]
     },
     "metadata": {},
     "output_type": "display_data"
    },
    {
     "data": {
      "text/html": [
       "<br>    <style><br>        .wandb-row {<br>            display: flex;<br>            flex-direction: row;<br>            flex-wrap: wrap;<br>            justify-content: flex-start;<br>            width: 100%;<br>        }<br>        .wandb-col {<br>            display: flex;<br>            flex-direction: column;<br>            flex-basis: 100%;<br>            flex: 1;<br>            padding: 10px;<br>        }<br>    </style><br><div class=\"wandb-row\"><div class=\"wandb-col\"><h3>Run history:</h3><br/><table class=\"wandb\"><tr><td>compute time</td><td>▁▅▆▅█</td></tr><tr><td>data-loading time</td><td>▁▂▃▁█</td></tr><tr><td>test/acc</td><td>█▆▁▂▁</td></tr><tr><td>total epoch time</td><td>▁▃▄▃█</td></tr><tr><td>train/acc</td><td>▁▅▇██</td></tr></table><br/></div><div class=\"wandb-col\"><h3>Run summary:</h3><br/><table class=\"wandb\"><tr><td>compute time</td><td>42.54894</td></tr><tr><td>data-loading time</td><td>1.60608</td></tr><tr><td>test/acc</td><td>0.86876</td></tr><tr><td>total epoch time</td><td>44.54756</td></tr><tr><td>train/acc</td><td>0.98552</td></tr></table><br/></div></div>"
      ],
      "text/plain": [
       "<IPython.core.display.HTML object>"
      ]
     },
     "metadata": {},
     "output_type": "display_data"
    },
    {
     "data": {
      "text/html": [
       " View run <strong style=\"color:#cdcd00\">lr0.0001_bs32_num_workers4_C3</strong> at: <a href='https://wandb.ai/kaimao-columbia-university/hpml-hw2-llm3/runs/m2kjq5pq' target=\"_blank\">https://wandb.ai/kaimao-columbia-university/hpml-hw2-llm3/runs/m2kjq5pq</a><br> View project at: <a href='https://wandb.ai/kaimao-columbia-university/hpml-hw2-llm3' target=\"_blank\">https://wandb.ai/kaimao-columbia-university/hpml-hw2-llm3</a><br>Synced 5 W&B file(s), 0 media file(s), 0 artifact file(s) and 0 other file(s)"
      ],
      "text/plain": [
       "<IPython.core.display.HTML object>"
      ]
     },
     "metadata": {},
     "output_type": "display_data"
    },
    {
     "data": {
      "text/html": [
       "Find logs at: <code>./wandb/run-20251024_050249-m2kjq5pq/logs</code>"
      ],
      "text/plain": [
       "<IPython.core.display.HTML object>"
      ]
     },
     "metadata": {},
     "output_type": "display_data"
    },
    {
     "name": "stderr",
     "output_type": "stream",
     "text": [
      "\u001b[34m\u001b[1mwandb\u001b[0m: Sweep Agent: Waiting for job.\n",
      "\u001b[34m\u001b[1mwandb\u001b[0m: Job received.\n",
      "\u001b[34m\u001b[1mwandb\u001b[0m: Agent Starting Run: gdnlm5y5 with config:\n",
      "\u001b[34m\u001b[1mwandb\u001b[0m: \tnum_workers: 8\n",
      "\u001b[34m\u001b[1mwandb\u001b[0m: \u001b[32m\u001b[41mERROR\u001b[0m Failed to detect the name of this notebook. You can set it manually with the WANDB_NOTEBOOK_NAME environment variable to enable code saving.\n"
     ]
    },
    {
     "data": {
      "text/html": [],
      "text/plain": [
       "<IPython.core.display.HTML object>"
      ]
     },
     "metadata": {},
     "output_type": "display_data"
    },
    {
     "data": {
      "text/html": [
       "Tracking run with wandb version 0.22.2"
      ],
      "text/plain": [
       "<IPython.core.display.HTML object>"
      ]
     },
     "metadata": {},
     "output_type": "display_data"
    },
    {
     "data": {
      "text/html": [
       "Run data is saved locally in <code>/workspace/wandb/run-20251024_050813-gdnlm5y5</code>"
      ],
      "text/plain": [
       "<IPython.core.display.HTML object>"
      ]
     },
     "metadata": {},
     "output_type": "display_data"
    },
    {
     "data": {
      "text/html": [
       "Syncing run <strong><a href='https://wandb.ai/kaimao-columbia-university/hpml-hw2-llm3/runs/gdnlm5y5' target=\"_blank\">earnest-sweep-4</a></strong> to <a href='https://wandb.ai/kaimao-columbia-university/hpml-hw2-llm3' target=\"_blank\">Weights & Biases</a> (<a href='https://wandb.me/developer-guide' target=\"_blank\">docs</a>)<br>Sweep page: <a href='https://wandb.ai/kaimao-columbia-university/hpml-hw2-llm3/sweeps/0vkzkara' target=\"_blank\">https://wandb.ai/kaimao-columbia-university/hpml-hw2-llm3/sweeps/0vkzkara</a>"
      ],
      "text/plain": [
       "<IPython.core.display.HTML object>"
      ]
     },
     "metadata": {},
     "output_type": "display_data"
    },
    {
     "data": {
      "text/html": [
       " View project at <a href='https://wandb.ai/kaimao-columbia-university/hpml-hw2-llm3' target=\"_blank\">https://wandb.ai/kaimao-columbia-university/hpml-hw2-llm3</a>"
      ],
      "text/plain": [
       "<IPython.core.display.HTML object>"
      ]
     },
     "metadata": {},
     "output_type": "display_data"
    },
    {
     "data": {
      "text/html": [
       " View sweep at <a href='https://wandb.ai/kaimao-columbia-university/hpml-hw2-llm3/sweeps/0vkzkara' target=\"_blank\">https://wandb.ai/kaimao-columbia-university/hpml-hw2-llm3/sweeps/0vkzkara</a>"
      ],
      "text/plain": [
       "<IPython.core.display.HTML object>"
      ]
     },
     "metadata": {},
     "output_type": "display_data"
    },
    {
     "data": {
      "text/html": [
       " View run at <a href='https://wandb.ai/kaimao-columbia-university/hpml-hw2-llm3/runs/gdnlm5y5' target=\"_blank\">https://wandb.ai/kaimao-columbia-university/hpml-hw2-llm3/runs/gdnlm5y5</a>"
      ],
      "text/plain": [
       "<IPython.core.display.HTML object>"
      ]
     },
     "metadata": {},
     "output_type": "display_data"
    },
    {
     "name": "stderr",
     "output_type": "stream",
     "text": [
      "Some weights of DistilBertForSequenceClassification were not initialized from the model checkpoint at distilbert-base-uncased and are newly initialized: ['classifier.bias', 'classifier.weight', 'pre_classifier.bias', 'pre_classifier.weight']\n",
      "You should probably TRAIN this model on a down-stream task to be able to use it for predictions and inference.\n"
     ]
    },
    {
     "name": "stdout",
     "output_type": "stream",
     "text": [
      "---------start train: batch_size(32) lr(0.0001) num_workers(8) optimizer(AdamW)-----\n",
      "Epoch 1/5, Loss: 0.3075, Train Accuracy: 0.8675, Test Accuracy: 0.8893, data_loading time: 1.3507966995239258                 compute time: 42.09671449661255 total epoch time: 43.81476807594299\n",
      "-------------------------------------------------------------------------------\n",
      "Epoch 2/5, Loss: 0.1637, Train Accuracy: 0.9393, Test Accuracy: 0.8778, data_loading time: 1.3857502937316895                 compute time: 42.364134788513184 total epoch time: 44.09523630142212\n",
      "-------------------------------------------------------------------------------\n",
      "Epoch 3/5, Loss: 0.0902, Train Accuracy: 0.9688, Test Accuracy: 0.8727, data_loading time: 1.3869707584381104                 compute time: 42.3030309677124 total epoch time: 44.046412229537964\n",
      "-------------------------------------------------------------------------------\n",
      "Epoch 4/5, Loss: 0.0525, Train Accuracy: 0.9830, Test Accuracy: 0.8776, data_loading time: 1.3633131980895996                 compute time: 42.33205842971802 total epoch time: 44.043378591537476\n",
      "-------------------------------------------------------------------------------\n"
     ]
    },
    {
     "name": "stderr",
     "output_type": "stream",
     "text": [
      "\u001b[34m\u001b[1mwandb\u001b[0m: \u001b[32m\u001b[41mERROR\u001b[0m The nbformat package was not found. It is required to save notebook history.\n"
     ]
    },
    {
     "name": "stdout",
     "output_type": "stream",
     "text": [
      "Epoch 5/5, Loss: 0.0442, Train Accuracy: 0.9851, Test Accuracy: 0.8731, data_loading time: 1.389526605606079                 compute time: 42.33134984970093 total epoch time: 44.03655123710632\n",
      "-------------------------------------------------------------------------------\n"
     ]
    },
    {
     "data": {
      "text/html": [],
      "text/plain": [
       "<IPython.core.display.HTML object>"
      ]
     },
     "metadata": {},
     "output_type": "display_data"
    },
    {
     "data": {
      "text/html": [
       "<br>    <style><br>        .wandb-row {<br>            display: flex;<br>            flex-direction: row;<br>            flex-wrap: wrap;<br>            justify-content: flex-start;<br>            width: 100%;<br>        }<br>        .wandb-col {<br>            display: flex;<br>            flex-direction: column;<br>            flex-basis: 100%;<br>            flex: 1;<br>            padding: 10px;<br>        }<br>    </style><br><div class=\"wandb-row\"><div class=\"wandb-col\"><h3>Run history:</h3><br/><table class=\"wandb\"><tr><td>compute time</td><td>▁█▆▇▇</td></tr><tr><td>data-loading time</td><td>▁▇█▃█</td></tr><tr><td>test/acc</td><td>█▃▁▃▁</td></tr><tr><td>total epoch time</td><td>▁█▇▇▇</td></tr><tr><td>train/acc</td><td>▁▅▇██</td></tr></table><br/></div><div class=\"wandb-col\"><h3>Run summary:</h3><br/><table class=\"wandb\"><tr><td>compute time</td><td>42.33135</td></tr><tr><td>data-loading time</td><td>1.38953</td></tr><tr><td>test/acc</td><td>0.87312</td></tr><tr><td>total epoch time</td><td>44.03655</td></tr><tr><td>train/acc</td><td>0.98508</td></tr></table><br/></div></div>"
      ],
      "text/plain": [
       "<IPython.core.display.HTML object>"
      ]
     },
     "metadata": {},
     "output_type": "display_data"
    },
    {
     "data": {
      "text/html": [
       " View run <strong style=\"color:#cdcd00\">lr0.0001_bs32_num_workers8_C3</strong> at: <a href='https://wandb.ai/kaimao-columbia-university/hpml-hw2-llm3/runs/gdnlm5y5' target=\"_blank\">https://wandb.ai/kaimao-columbia-university/hpml-hw2-llm3/runs/gdnlm5y5</a><br> View project at: <a href='https://wandb.ai/kaimao-columbia-university/hpml-hw2-llm3' target=\"_blank\">https://wandb.ai/kaimao-columbia-university/hpml-hw2-llm3</a><br>Synced 5 W&B file(s), 0 media file(s), 0 artifact file(s) and 0 other file(s)"
      ],
      "text/plain": [
       "<IPython.core.display.HTML object>"
      ]
     },
     "metadata": {},
     "output_type": "display_data"
    },
    {
     "data": {
      "text/html": [
       "Find logs at: <code>./wandb/run-20251024_050813-gdnlm5y5/logs</code>"
      ],
      "text/plain": [
       "<IPython.core.display.HTML object>"
      ]
     },
     "metadata": {},
     "output_type": "display_data"
    }
   ],
   "source": [
    "sweep_config = {\n",
    "    'method': 'grid',\n",
    "    'parameters': {\n",
    "        'num_workers': {'values': [0, 2, 4, 8]}\n",
    "    }\n",
    "}\n",
    "\n",
    "sweep_id = wandb.sweep(sweep_config, project=project_name)\n",
    "\n",
    "wandb.agent(sweep_id, function=train, count=4)\n",
    "\n",
    "wandb.finish()"
   ]
  },
  {
   "cell_type": "code",
   "execution_count": 9,
   "id": "debd17bb-5c47-4596-85c8-9e8c8d3cd87b",
   "metadata": {},
   "outputs": [
    {
     "data": {
      "image/png": "[encoded data removed]",
      "text/plain": [
       "<Figure size 600x400 with 1 Axes>"
      ]
     },
     "metadata": {},
     "output_type": "display_data"
    }
   ],
   "source": [
    "plt.figure(figsize=(6, 4))\n",
    "\n",
    "num_workers = [0, 2, 4, 8]\n",
    "plt.plot(num_workers, avg_epoch_time_arr, label='Avg Epoch Time')\n",
    "plt.xlabel('Num Workers')\n",
    "plt.ylabel('Avg Epoch Time (s)')\n",
    "plt.title('Figure F3')\n",
    "plt.legend()\n",
    "plt.show()"
   ]
  },
  {
   "cell_type": "code",
   "execution_count": 10,
   "id": "7519de0a-90d0-4061-9251-05710f92e6e6",
   "metadata": {},
   "outputs": [
    {
     "name": "stdout",
     "output_type": "stream",
     "text": [
      "[45.55211009979248, 43.86295328140259, 44.062462377548215, 44.007269287109374] [3.220819854736328, 1.2093932151794433, 1.3516160488128661, 1.3752715110778808]\n"
     ]
    }
   ],
   "source": [
    "print(avg_epoch_time_arr, avg_data_time_arr)"
   ]
  },
  {
   "cell_type": "code",
   "execution_count": 11,
   "id": "aab1b1f6-86f7-4e67-ab4d-4ad449da1dad",
   "metadata": {},
   "outputs": [
    {
     "name": "stderr",
     "output_type": "stream",
     "text": [
      "\u001b[34m\u001b[1mwandb\u001b[0m: Manually resetting W&B backend...\n"
     ]
    }
   ],
   "source": [
    "wandb.termlog(\"Manually resetting W&B backend...\")\n",
    "wandb.finish()\n",
    "wandb.teardown()\n",
    "\n",
    "# Clear the global run object\n",
    "wandb.run = None\n",
    "wandb._thread_local = None"
   ]
  },
  {
   "cell_type": "code",
   "execution_count": null,
   "id": "82bb1b89-10d0-4b63-8f81-cd165a029b70",
   "metadata": {},
   "outputs": [],
   "source": []
  },
  {
   "cell_type": "code",
   "execution_count": 12,
   "id": "5fb42862-96de-4086-9a4c-e52834d673a3",
   "metadata": {},
   "outputs": [
    {
     "name": "stderr",
     "output_type": "stream",
     "text": [
      "\u001b[34m\u001b[1mwandb\u001b[0m: \u001b[32m\u001b[41mERROR\u001b[0m Failed to detect the name of this notebook. You can set it manually with the WANDB_NOTEBOOK_NAME environment variable to enable code saving.\n"
     ]
    },
    {
     "data": {
      "text/html": [],
      "text/plain": [
       "<IPython.core.display.HTML object>"
      ]
     },
     "metadata": {},
     "output_type": "display_data"
    },
    {
     "data": {
      "text/html": [
       "Tracking run with wandb version 0.22.2"
      ],
      "text/plain": [
       "<IPython.core.display.HTML object>"
      ]
     },
     "metadata": {},
     "output_type": "display_data"
    },
    {
     "data": {
      "text/html": [
       "Run data is saved locally in <code>/workspace/wandb/run-20251024_051432-iwi3k6zk</code>"
      ],
      "text/plain": [
       "<IPython.core.display.HTML object>"
      ]
     },
     "metadata": {},
     "output_type": "display_data"
    },
    {
     "data": {
      "text/html": [
       "Syncing run <strong><a href='https://wandb.ai/kaimao-columbia-university/hpml-hw2-llm3/runs/iwi3k6zk' target=\"_blank\">C3 result</a></strong> to <a href='https://wandb.ai/kaimao-columbia-university/hpml-hw2-llm3' target=\"_blank\">Weights & Biases</a> (<a href='https://wandb.me/developer-guide' target=\"_blank\">docs</a>)<br>"
      ],
      "text/plain": [
       "<IPython.core.display.HTML object>"
      ]
     },
     "metadata": {},
     "output_type": "display_data"
    },
    {
     "data": {
      "text/html": [
       " View project at <a href='https://wandb.ai/kaimao-columbia-university/hpml-hw2-llm3' target=\"_blank\">https://wandb.ai/kaimao-columbia-university/hpml-hw2-llm3</a>"
      ],
      "text/plain": [
       "<IPython.core.display.HTML object>"
      ]
     },
     "metadata": {},
     "output_type": "display_data"
    },
    {
     "data": {
      "text/html": [
       " View run at <a href='https://wandb.ai/kaimao-columbia-university/hpml-hw2-llm3/runs/iwi3k6zk' target=\"_blank\">https://wandb.ai/kaimao-columbia-university/hpml-hw2-llm3/runs/iwi3k6zk</a>"
      ],
      "text/plain": [
       "<IPython.core.display.HTML object>"
      ]
     },
     "metadata": {},
     "output_type": "display_data"
    },
    {
     "name": "stdout",
     "output_type": "stream",
     "text": [
      "[{'num_workers': 0, 'Avg Epoch Time': 45.55211009979248, 'Avg Data Time': 3.220819854736328, 'Batch Size': 32}, {'num_workers': 2, 'Avg Epoch Time': 43.86295328140259, 'Avg Data Time': 1.2093932151794433, 'Batch Size': 32}, {'num_workers': 4, 'Avg Epoch Time': 44.062462377548215, 'Avg Data Time': 1.3516160488128661, 'Batch Size': 32}, {'num_workers': 8, 'Avg Epoch Time': 44.007269287109374, 'Avg Data Time': 1.3752715110778808, 'Batch Size': 32}]\n"
     ]
    },
    {
     "name": "stderr",
     "output_type": "stream",
     "text": [
      "\u001b[34m\u001b[1mwandb\u001b[0m: \u001b[32m\u001b[41mERROR\u001b[0m The nbformat package was not found. It is required to save notebook history.\n"
     ]
    },
    {
     "data": {
      "text/html": [],
      "text/plain": [
       "<IPython.core.display.HTML object>"
      ]
     },
     "metadata": {},
     "output_type": "display_data"
    },
    {
     "data": {
      "text/html": [
       " View run <strong style=\"color:#cdcd00\">C3 result</strong> at: <a href='https://wandb.ai/kaimao-columbia-university/hpml-hw2-llm3/runs/iwi3k6zk' target=\"_blank\">https://wandb.ai/kaimao-columbia-university/hpml-hw2-llm3/runs/iwi3k6zk</a><br> View project at: <a href='https://wandb.ai/kaimao-columbia-university/hpml-hw2-llm3' target=\"_blank\">https://wandb.ai/kaimao-columbia-university/hpml-hw2-llm3</a><br>Synced 5 W&B file(s), 1 media file(s), 2 artifact file(s) and 0 other file(s)"
      ],
      "text/plain": [
       "<IPython.core.display.HTML object>"
      ]
     },
     "metadata": {},
     "output_type": "display_data"
    },
    {
     "data": {
      "text/html": [
       "Find logs at: <code>./wandb/run-20251024_051432-iwi3k6zk/logs</code>"
      ],
      "text/plain": [
       "<IPython.core.display.HTML object>"
      ]
     },
     "metadata": {},
     "output_type": "display_data"
    }
   ],
   "source": [
    "\n",
    "wandb.init(project=project_name, name=f\"C3 result\", group = \"DataLoader Performance\")\n",
    "\n",
    "records = []\n",
    "for i in range(4):\n",
    "    records.append({\n",
    "        \"num_workers\": num_workers[i],\n",
    "        \"Avg Epoch Time\": avg_epoch_time_arr[i],\n",
    "        \"Avg Data Time\": avg_data_time_arr[i],\n",
    "        \"Batch Size\": 32\n",
    "    })\n",
    "\n",
    "print(records)\n",
    "df = pd.DataFrame(records)\n",
    "wandb.log({\"C3_result\":wandb.Table(dataframe=df)})\n",
    "wandb.finish()"
   ]
  },
  {
   "cell_type": "markdown",
   "id": "f9b708d1",
   "metadata": {},
   "source": [
    "# C4"
   ]
  },
  {
   "cell_type": "code",
   "execution_count": 5,
   "id": "3dc1d2b0-4469-40ee-930f-e78ce94d8241",
   "metadata": {},
   "outputs": [
    {
     "name": "stderr",
     "output_type": "stream",
     "text": [
      "\u001b[34m\u001b[1mwandb\u001b[0m: Manually resetting W&B backend...\n"
     ]
    }
   ],
   "source": [
    "wandb.termlog(\"Manually resetting W&B backend...\")\n",
    "wandb.finish()\n",
    "wandb.teardown()\n",
    "\n",
    "# Clear the global run object\n",
    "wandb.run = None\n",
    "wandb._thread_local = None"
   ]
  },
  {
   "cell_type": "code",
   "execution_count": null,
   "id": "b695c218",
   "metadata": {},
   "outputs": [
    {
     "data": {
      "text/html": [],
      "text/plain": [
       "<IPython.core.display.HTML object>"
      ]
     },
     "metadata": {},
     "output_type": "display_data"
    },
    {
     "data": {
      "text/html": [
       "Tracking run with wandb version 0.22.2"
      ],
      "text/plain": [
       "<IPython.core.display.HTML object>"
      ]
     },
     "metadata": {},
     "output_type": "display_data"
    },
    {
     "data": {
      "text/html": [
       "Run data is saved locally in <code>/workspace/wandb/run-20251024_084152-m445l92d</code>"
      ],
      "text/plain": [
       "<IPython.core.display.HTML object>"
      ]
     },
     "metadata": {},
     "output_type": "display_data"
    },
    {
     "data": {
      "text/html": [
       "Syncing run <strong><a href='https://wandb.ai/kaimao-columbia-university/hpml-hw2-llm3/runs/m445l92d' target=\"_blank\">bs32_lr1e-4num_works2_C4</a></strong> to <a href='https://wandb.ai/kaimao-columbia-university/hpml-hw2-llm3' target=\"_blank\">Weights & Biases</a> (<a href='https://wandb.me/developer-guide' target=\"_blank\">docs</a>)<br>"
      ],
      "text/plain": [
       "<IPython.core.display.HTML object>"
      ]
     },
     "metadata": {},
     "output_type": "display_data"
    },
    {
     "data": {
      "text/html": [
       " View project at <a href='https://wandb.ai/kaimao-columbia-university/hpml-hw2-llm3' target=\"_blank\">https://wandb.ai/kaimao-columbia-university/hpml-hw2-llm3</a>"
      ],
      "text/plain": [
       "<IPython.core.display.HTML object>"
      ]
     },
     "metadata": {},
     "output_type": "display_data"
    },
    {
     "data": {
      "text/html": [
       " View run at <a href='https://wandb.ai/kaimao-columbia-university/hpml-hw2-llm3/runs/m445l92d' target=\"_blank\">https://wandb.ai/kaimao-columbia-university/hpml-hw2-llm3/runs/m445l92d</a>"
      ],
      "text/plain": [
       "<IPython.core.display.HTML object>"
      ]
     },
     "metadata": {},
     "output_type": "display_data"
    },
    {
     "name": "stderr",
     "output_type": "stream",
     "text": [
      "Some weights of DistilBertForSequenceClassification were not initialized from the model checkpoint at distilbert-base-uncased and are newly initialized: ['classifier.bias', 'classifier.weight', 'pre_classifier.bias', 'pre_classifier.weight']\n",
      "You should probably TRAIN this model on a down-stream task to be able to use it for predictions and inference.\n"
     ]
    },
    {
     "name": "stdout",
     "output_type": "stream",
     "text": [
      "config num:2\n"
     ]
    },
    {
     "name": "stderr",
     "output_type": "stream",
     "text": [
      "100%|██████████| 782/782 [00:50<00:00, 15.54it/s]\n"
     ]
    }
   ],
   "source": [
    "import torch.profiler as profiler\n",
    "\n",
    "for num_workers in [2]:\n",
    "    wandb.init(project=project_name, name=f\"bs32_lr1e-4num_works{num_workers}_C4\", group = \"PyTorch Profiler\")\n",
    "\n",
    "    wandb.config.update({\n",
    "        \"model_name\": \"distilbert-base-uncased\",\n",
    "        \"max_len\": 256,\n",
    "        \"batch_size\": 32,\n",
    "        \"lr\": 1e-4,\n",
    "        \"optimizer\": \"AdamW\",\n",
    "        \"num_workers\": num_workers,\n",
    "        \"epochs\": 2,\n",
    "        \"compile_mode\": False\n",
    "    })\n",
    "    config = wandb.config\n",
    "    \n",
    "    device = torch.device(\"cuda\" if torch.cuda.is_available() else \"cpu\")\n",
    "    model_name = \"distilbert-base-uncased\"\n",
    "    model = DistilBertForSequenceClassification.from_pretrained(model_name, num_labels=2)\n",
    "    model.to(device)\n",
    "    \n",
    "    optimizer = AdamW(model.parameters(), lr=config.lr)\n",
    "    \n",
    "    train_loader = DataLoader(tokenized[\"train\"], batch_size=config.batch_size, shuffle=True, collate_fn=data_collator, num_workers=config.num_workers)\n",
    "    test_loader = DataLoader(tokenized[\"test\"], batch_size=config.batch_size, collate_fn=data_collator, num_workers=config.num_workers)\n",
    "    print(f\"config num:{config.num_workers}\")\n",
    "    \n",
    "    train_loss = []\n",
    "    train_accuracy = []\n",
    "    test_accuracy = []\n",
    "    \n",
    "    with profiler.profile(\n",
    "        activities=[profiler.ProfilerActivity.CPU, profiler.ProfilerActivity.CUDA],\n",
    "        # on_trace_ready=torch.profiler.tensorboard_trace_handler(f\"./profiler_logs_num_wokers{num_workers}\"),\n",
    "        record_shapes=True,\n",
    "        profile_memory=True,\n",
    "        with_stack=True\n",
    "    ) as prof:\n",
    "        for epoch in range(config.epochs):\n",
    "            model.train()\n",
    "            total_loss = 0\n",
    "            total_correct = 0\n",
    "            total_samples = 0\n",
    "            for batch in tqdm(train_loader):\n",
    "                optimizer.zero_grad()\n",
    "    \n",
    "                with profiler.record_function(\"data_loading\"):\n",
    "                    inputs = {\n",
    "                        \"input_ids\": batch[\"input_ids\"].to(device),\n",
    "                        \"attention_mask\": batch[\"attention_mask\"].to(device),\n",
    "                        \"labels\": batch[\"labels\"].to(device),\n",
    "                    }\n",
    "    \n",
    "                with profiler.record_function(\"forward\"):\n",
    "                    outputs = model(**inputs)\n",
    "    \n",
    "                with profiler.record_function(\"backward\"):\n",
    "                    loss = outputs.loss\n",
    "                    loss.backward()\n",
    "    \n",
    "                with profiler.record_function(\"optimizer\"):\n",
    "                    optimizer.step()\n",
    "    \n",
    "                logits = outputs.logits\n",
    "                preds = torch.argmax(logits, dim = 1)\n",
    "                labels = batch[\"labels\"].to(device)\n",
    "                correct = (preds == labels).sum().item()\n",
    "                total_correct += correct\n",
    "                total_samples += len(labels)\n",
    "                total_loss += loss.item()\n",
    "    \n",
    "            avg_loss = total_loss / len(train_loader)\n",
    "            avg_accuracy = total_correct / total_samples\n",
    "            train_loss.append(avg_loss)\n",
    "            train_accuracy.append(avg_accuracy)\n",
    "    \n",
    "            model.eval()\n",
    "            correct = 0\n",
    "            total = 0\n",
    "    \n",
    "            with torch.no_grad():\n",
    "                for batch in test_loader:\n",
    "                    inputs = {\n",
    "                        \"input_ids\": batch[\"input_ids\"].to(device),\n",
    "                        \"attention_mask\": batch[\"attention_mask\"].to(device),\n",
    "                    }\n",
    "                    labels = batch[\"labels\"].to(device)\n",
    "    \n",
    "                    logits = model(**inputs).logits\n",
    "                    preds = torch.argmax(logits, dim=1)\n",
    "    \n",
    "                    correct += (preds == labels).sum().item()\n",
    "                    total += labels.size(0)\n",
    "    \n",
    "            accuracy = correct / total\n",
    "            test_accuracy.append(accuracy)\n",
    "            print(f\"Epoch {epoch+1}/{config.epochs}, Loss: {avg_loss:.4f}, Train Accuracy: {avg_accuracy:.4f}, Test Accuracy: {accuracy:.4f}\")\n",
    "\n",
    "            wandb.log({\"train/loss\": train_loss,\n",
    "              \"train/acc\": avg_accuracy,\n",
    "              \"test/acc\": accuracy,\n",
    "              \"data-loading time\": data_loading_time,\n",
    "              \"compute time\": training_compute_time,\n",
    "              \"total epoch time\": total_epoch_time})\n",
    "\n",
    "            prof.step()\n",
    "\n",
    "    # print(prof.is_active(), prof.profiler)\n",
    "    torch.cuda.synchronize()\n",
    "    with open(f\"profile_C4_num_workers_{num_workers}_result.txt\", \"w\") as f:\n",
    "        print(f\"\\n===== CPU Profiling num_workers {num_workers}=====\",file=f)\n",
    "        print(prof.key_averages().table(\n",
    "            sort_by=\"self_cpu_time_total\",  # or \"cpu_time_total\"\n",
    "            row_limit=10\n",
    "        ), file=f)\n",
    "        \n",
    "        # ✅ Print GPU-focused results\n",
    "        print(f\"\\n===== GPU Profiling num_workers {num_workers}=====\",file=f)\n",
    "        print(prof.key_averages().table(\n",
    "            sort_by=\"self_cuda_time_total\",  # or \"cuda_time_total\"\n",
    "            row_limit=10\n",
    "        ), file=f)\n",
    "    wandb.finish()\n"
   ]
  },
  {
   "cell_type": "code",
   "execution_count": null,
   "id": "a41f0e58",
   "metadata": {
    "jupyter": {
     "source_hidden": true
    }
   },
   "outputs": [
    {
     "ename": "AttributeError",
     "evalue": "'FunctionEventAvg' object has no attribute 'cuda_time_total'",
     "output_type": "error",
     "traceback": [
      "\u001b[31m---------------------------------------------------------------------------\u001b[39m",
      "\u001b[31mAttributeError\u001b[39m                            Traceback (most recent call last)",
      "\u001b[36mCell\u001b[39m\u001b[36m \u001b[39m\u001b[32mIn[9]\u001b[39m\u001b[32m, line 5\u001b[39m\n\u001b[32m      3\u001b[39m \u001b[38;5;28;01mfor\u001b[39;00m evt \u001b[38;5;129;01min\u001b[39;00m events:\n\u001b[32m      4\u001b[39m     \u001b[38;5;28;01mif\u001b[39;00m \u001b[33m\"\u001b[39m\u001b[33mdata_loading\u001b[39m\u001b[33m\"\u001b[39m \u001b[38;5;129;01min\u001b[39;00m evt.key \u001b[38;5;129;01mor\u001b[39;00m \u001b[33m\"\u001b[39m\u001b[33mforward\u001b[39m\u001b[33m\"\u001b[39m \u001b[38;5;129;01min\u001b[39;00m evt.key \u001b[38;5;129;01mor\u001b[39;00m \u001b[33m\"\u001b[39m\u001b[33mbackward\u001b[39m\u001b[33m\"\u001b[39m \u001b[38;5;129;01min\u001b[39;00m evt.key \u001b[38;5;129;01mor\u001b[39;00m \u001b[33m\"\u001b[39m\u001b[33moptimizer\u001b[39m\u001b[33m\"\u001b[39m \u001b[38;5;129;01min\u001b[39;00m evt.key:\n\u001b[32m----> \u001b[39m\u001b[32m5\u001b[39m         \u001b[38;5;28mprint\u001b[39m(\u001b[33mf\u001b[39m\u001b[33m\"\u001b[39m\u001b[38;5;132;01m{\u001b[39;00mevt.key\u001b[38;5;132;01m:\u001b[39;00m\u001b[33m20s\u001b[39m\u001b[38;5;132;01m}\u001b[39;00m\u001b[33m CPU: \u001b[39m\u001b[38;5;132;01m{\u001b[39;00mevt.cpu_time_total\u001b[38;5;132;01m:\u001b[39;00m\u001b[33m.2f\u001b[39m\u001b[38;5;132;01m}\u001b[39;00m\u001b[33m µs  CUDA: \u001b[39m\u001b[38;5;132;01m{\u001b[39;00m\u001b[43mevt\u001b[49m\u001b[43m.\u001b[49m\u001b[43mcuda_time_total\u001b[49m\u001b[38;5;132;01m:\u001b[39;00m\u001b[33m.2f\u001b[39m\u001b[38;5;132;01m}\u001b[39;00m\u001b[33m µs\u001b[39m\u001b[33m\"\u001b[39m)\n",
      "\u001b[31mAttributeError\u001b[39m: 'FunctionEventAvg' object has no attribute 'cuda_time_total'"
     ]
    }
   ],
   "source": [
    "# Epoch 1/1, Loss: 0.3067, Train Accuracy: 0.8695, Test Accuracy: 0.9015\n",
    "\n",
    "# ===== CPU Profiling =====\n",
    "# -------------------------------------------------------  ------------  ------------  ------------  ------------  ------------  ------------  ------------  ------------  ------------  ------------  ------------  ------------  ------------  ------------  \n",
    "#                                                    Name    Self CPU %      Self CPU   CPU total %     CPU total  CPU time avg     Self CUDA   Self CUDA %    CUDA total  CUDA time avg       CPU Mem  Self CPU Mem      CUDA Mem  Self CUDA Mem    # of Calls  \n",
    "# -------------------------------------------------------  ------------  ------------  ------------  ------------  ------------  ------------  ------------  ------------  ------------  ------------  ------------  ------------  ------------  ------------  \n",
    "#                                   cudaStreamSynchronize        28.90%       22.115s        28.90%       22.115s       2.357ms       0.000us         0.00%       0.000us       0.000us           0 B           0 B           0 B           0 B          9384  \n",
    "#                                                backward        21.53%       16.479s        21.75%       16.647s      21.287ms       0.000us         0.00%     591.550us       0.756us     -73.31 KB     -73.28 KB   -1638.43 GB   -1638.27 GB           782  \n",
    "# enumerate(DataLoader)#_MultiProcessingDataLoaderIter...         7.29%        5.579s         7.34%        5.617s       3.587ms       0.000us         0.00%       0.000us       0.000us     195.69 MB     195.50 MB           0 B           0 B          1566  \n",
    "#                                                 forward         4.79%        3.669s        12.61%        9.647s      12.336ms       0.000us         0.00%       15.294s      19.557ms      73.31 KB      -3.05 KB    1836.28 GB    -381.56 GB           782  \n",
    "#                               Optimizer.step#AdamW.step         4.69%        3.586s         7.71%        5.903s       7.548ms       0.000us         0.00%        2.779s       3.554ms         416 B      -3.05 KB     510.83 MB    -195.05 GB           782  \n",
    "#                                        cudaLaunchKernel         2.76%        2.116s         2.80%        2.145s       8.673us       0.000us         0.00%     798.937us       0.003us           0 B           0 B           0 B           0 B        247301  \n",
    "#                                             aten::addmm         2.66%        2.035s         3.68%        2.814s      47.355us       26.199s        46.90%       26.201s     440.854us           0 B           0 B    1977.68 GB    1977.68 GB         59432  \n",
    "#                                                aten::mm         2.58%        1.973s         3.70%        2.829s      47.609us       16.342s        29.25%       16.342s     274.969us           0 B           0 B    1117.21 GB    1117.21 GB         59432  \n",
    "#                                         aten::transpose         1.30%     991.595ms         1.78%        1.359s       4.324us       0.000us         0.00%       0.000us       0.000us           0 B           0 B           0 B           0 B        314364  \n",
    "#                                               aten::sum         1.29%     985.262ms         1.93%        1.476s      40.154us     687.082ms         1.23%     688.771ms      18.740us           0 B           0 B       2.41 GB       2.41 GB         36754  \n",
    "#                                          cuLaunchKernel         1.23%     939.936ms         1.23%     943.680ms       7.992us       0.000us         0.00%     463.166us       0.004us           0 B           0 B           0 B           0 B        118077  \n",
    "#                                             aten::empty         1.17%     896.615ms         1.17%     896.615ms       5.209us       0.000us         0.00%       0.000us       0.000us     469.87 KB     469.87 KB    1646.27 GB    1646.27 GB        172139  \n",
    "#                                         cudaMemsetAsync         0.98%     750.617ms         0.98%     750.617ms       5.189us       0.000us         0.00%       0.000us       0.000us           0 B           0 B           0 B           0 B        144667  \n",
    "#     autograd::engine::evaluate_function: AddmmBackward0         0.92%     701.966ms         7.92%        6.064s     204.069us       0.000us         0.00%       16.950s     570.402us           0 B           0 B    -439.20 GB   -1556.54 GB         29716  \n",
    "#                                              aten::view         0.88%     670.713ms         0.88%     670.713ms       2.171us       0.000us         0.00%       0.000us       0.000us           0 B           0 B           0 B           0 B        308890  \n",
    "#                                     aten::empty_strided         0.81%     622.397ms         0.81%     622.397ms       5.928us       0.000us         0.00%       0.000us       0.000us           0 B           0 B     372.71 GB     372.71 GB        104996  \n",
    "#      autograd::engine::evaluate_function: ViewBackward0         0.76%     581.743ms         2.12%        1.623s      21.394us       0.000us         0.00%     360.275ms       4.750us           0 B           0 B    -439.45 GB    -439.45 GB         75854  \n",
    "#                                                 aten::t         0.75%     573.036ms         1.77%        1.357s       7.609us       0.000us         0.00%       0.000us       0.000us           0 B           0 B           0 B           0 B        178296  \n",
    "#                                          AddmmBackward0         0.65%     495.818ms         5.32%        4.070s     136.957us       0.000us         0.00%       16.342s     549.938us           0 B           0 B    1117.21 GB           0 B         29716  \n",
    "#                                            aten::linear         0.64%     489.399ms         5.33%        4.080s      68.647us       0.000us         0.00%       26.201s     440.854us           0 B           0 B    1977.68 GB     -25.00 MB         59432  \n",
    "# -------------------------------------------------------  ------------  ------------  ------------  ------------  ------------  ------------  ------------  ------------  ------------  ------------  ------------  ------------  ------------  ------------  \n",
    "# Self CPU time total: 76.528s\n",
    "# Self CUDA time total: 55.861s\n",
    "\n",
    "\n",
    "# ===== GPU Profiling =====\n",
    "# -------------------------------------------------------  ------------  ------------  ------------  ------------  ------------  ------------  ------------  ------------  ------------  ------------  ------------  ------------  ------------  ------------  \n",
    "#                                                    Name    Self CPU %      Self CPU   CPU total %     CPU total  CPU time avg     Self CUDA   Self CUDA %    CUDA total  CUDA time avg       CPU Mem  Self CPU Mem      CUDA Mem  Self CUDA Mem    # of Calls  \n",
    "# -------------------------------------------------------  ------------  ------------  ------------  ------------  ------------  ------------  ------------  ------------  ------------  ------------  ------------  ------------  ------------  ------------  \n",
    "#                                             aten::addmm         2.66%        2.035s         3.68%        2.814s      47.355us       26.199s        46.90%       26.201s     440.854us           0 B           0 B    1977.68 GB    1977.68 GB         59432  \n",
    "# void cutlass::Kernel2<cutlass_80_simt_sgemm_256x128_...         0.00%       0.000us         0.00%       0.000us       0.000us       19.288s        34.53%       19.288s     411.646us           0 B           0 B           0 B           0 B         46856  \n",
    "#                                                 forward         0.00%       0.000us         0.00%       0.000us       0.000us       16.371s        29.31%       16.371s      20.935ms           0 B           0 B           0 B           0 B           782  \n",
    "#                                                aten::mm         2.58%        1.973s         3.70%        2.829s      47.609us       16.342s        29.25%       16.342s     274.969us           0 B           0 B    1117.21 GB    1117.21 GB         59432  \n",
    "# void cutlass::Kernel2<cutlass_80_simt_sgemm_256x128_...         0.00%       0.000us         0.00%       0.000us       0.000us        8.550s        15.31%        8.550s     303.701us           0 B           0 B           0 B           0 B         28152  \n",
    "# void cutlass::Kernel2<cutlass_80_simt_sgemm_128x256_...         0.00%       0.000us         0.00%       0.000us       0.000us        6.854s        12.27%        6.854s     725.749us           0 B           0 B           0 B           0 B          9444  \n",
    "# void cutlass::Kernel2<cutlass_80_simt_sgemm_128x128_...         0.00%       0.000us         0.00%       0.000us       0.000us        4.933s         8.83%        4.933s     525.664us           0 B           0 B           0 B           0 B          9384  \n",
    "#                     aten::_efficient_attention_backward         0.34%     258.509ms         1.37%        1.050s     223.832us        3.802s         6.81%        3.979s     848.058us           0 B           0 B     329.59 GB    -223.27 GB          4692  \n",
    "# fmha_cutlassB_f32_aligned_64x64_k64_dropout_sm80(PyT...         0.00%       0.000us         0.00%       0.000us       0.000us        3.802s         6.81%        3.802s     810.373us           0 B           0 B           0 B           0 B          4692  \n",
    "#                               Optimizer.step#AdamW.step         0.00%       0.000us         0.00%       0.000us       0.000us        2.817s         5.04%        2.817s       3.602ms           0 B           0 B           0 B           0 B           782  \n",
    "# void cutlass::Kernel2<cutlass_80_simt_sgemm_128x64_8...         0.00%       0.000us         0.00%       0.000us       0.000us        2.804s         5.02%        2.804s     149.427us           0 B           0 B           0 B           0 B         18768  \n",
    "#                      aten::_efficient_attention_forward         0.23%     179.541ms         0.58%     441.900ms      47.091us        2.332s         4.17%        2.332s     248.496us     146.62 KB       3.66 KB     221.44 GB           0 B          9384  \n",
    "# fmha_cutlassF_f32_aligned_64x64_rf_sm80(PyTorchMemEf...         0.00%       0.000us         0.00%       0.000us       0.000us        2.332s         4.17%        2.332s     248.523us           0 B           0 B           0 B           0 B          9383  \n",
    "#                                              aten::gelu         0.19%     144.642ms         0.28%     216.680ms      23.090us        1.009s         1.81%        1.009s     107.507us           0 B           0 B     878.91 GB     878.91 GB          9384  \n",
    "# void at::native::vectorized_elementwise_kernel<4, at...         0.00%       0.000us         0.00%       0.000us       0.000us        1.009s         1.81%        1.009s     107.495us           0 B           0 B           0 B           0 B          9384  \n",
    "#                                     aten::gelu_backward         0.11%      83.091ms         0.18%     137.218ms      29.245us     727.013ms         1.30%     727.013ms     154.947us           0 B           0 B     439.45 GB     439.45 GB          4692  \n",
    "# void at::native::vectorized_elementwise_kernel<4, at...         0.00%       0.000us         0.00%       0.000us       0.000us     727.013ms         1.30%     727.013ms     154.947us           0 B           0 B           0 B           0 B          4692  \n",
    "# void at::native::vectorized_elementwise_kernel<4, at...         0.00%       0.000us         0.00%       0.000us       0.000us     701.805ms         1.26%     701.805ms      18.697us           0 B           0 B           0 B           0 B         37535  \n",
    "#                                               aten::sum         1.29%     985.262ms         1.93%        1.476s      40.154us     687.082ms         1.23%     688.771ms      18.740us           0 B           0 B       2.41 GB       2.41 GB         36754  \n",
    "# void at::native::reduce_kernel<128, 4, at::native::R...         0.00%       0.000us         0.00%       0.000us       0.000us     590.090ms         1.06%     590.090ms      19.858us           0 B           0 B           0 B           0 B         29716  \n",
    "# -------------------------------------------------------  ------------  ------------  ------------  ------------  ------------  ------------  ------------  ------------  ------------  ------------  ------------  ------------  ------------  ------------  \n",
    "# Self CPU time total: 76.528s\n",
    "# Self CUDA time total: 55.861s"
   ]
  },
  {
   "cell_type": "markdown",
   "id": "2957237a",
   "metadata": {},
   "source": [
    "# C6\n"
   ]
  },
  {
   "cell_type": "code",
   "execution_count": 43,
   "id": "eb37d7f2-2ab1-4a21-9f2c-67217a11135d",
   "metadata": {},
   "outputs": [],
   "source": [
    "\n"
   ]
  },
  {
   "cell_type": "code",
   "execution_count": 39,
   "id": "be9992b8-0577-4d7d-a668-4620dea914c6",
   "metadata": {},
   "outputs": [],
   "source": [
    "avg_epoch_time = []\n",
    "final_test_accuracy = []\n",
    "avg_train_accuracy = []\n",
    "final_train_loss = []\n",
    "def train_C6():\n",
    "  with wandb.init(\n",
    "    group=\"Hyperparameter Sensitivity\",\n",
    "    config={\n",
    "        \"model_name\": \"distilbert-base-uncased\",\n",
    "        \"max_len\": 256, \n",
    "        \"optimizer\": \"AdamW\", \n",
    "        \"num_workers\": 2,\n",
    "        \"epochs\": 5, \n",
    "        \"compile_mode\": False\n",
    "    }) as run:\n",
    "      config = wandb.config\n",
    "      run.name = f\"lr{wandb.config.learning_rate}_bs{wandb.config.batch_size}_C6\"\n",
    "      \n",
    "      train_loader = DataLoader(tokenized[\"train\"], batch_size=config.batch_size, shuffle=True, collate_fn=data_collator, num_workers=config.num_workers)\n",
    "      test_loader = DataLoader(tokenized[\"test\"], batch_size=config.batch_size, collate_fn=data_collator, num_workers=config.num_workers)\n",
    "      model_name = \"distilbert-base-uncased\"\n",
    "      model = DistilBertForSequenceClassification.from_pretrained(model_name, num_labels=2)\n",
    "      model.to(device)\n",
    "    \n",
    "      optimizer = getattr(optim, config.optimizer)(model.parameters(), lr=config.learning_rate)\n",
    "      print(f\"---------start train: batch_size({config.batch_size}) lr({config.learning_rate}) num_workers({config.num_workers}) optimizer({config.optimizer})-----\")\n",
    "      train_loss = []\n",
    "      train_accuracy = []\n",
    "      test_accuracy = []\n",
    "      data_loading_time_arr = []\n",
    "      compute_time_arr = []\n",
    "      epoch_time_arr = []\n",
    "      sum_train_accuracy = 0\n",
    "      avg_loss = 0\n",
    "    \n",
    "      for epoch in range(config.epochs):\n",
    "        model.train()\n",
    "        total_loss = 0\n",
    "        total_correct = 0\n",
    "        total_samples = 0\n",
    "        data_loading_time = 0\n",
    "        training_compute_time = 0\n",
    "        total_epoch_time = 0\n",
    "        start_data_loading = time.time()\n",
    "        start_epoch_time = time.time()\n",
    "        for batch in train_loader:\n",
    "            inputs = {\n",
    "                \"input_ids\": batch[\"input_ids\"].to(device),\n",
    "                \"attention_mask\": batch[\"attention_mask\"].to(device),\n",
    "                \"labels\": batch[\"labels\"].to(device),\n",
    "            }\n",
    "            torch.cuda.synchronize()\n",
    "            end = time.time()\n",
    "            data_loading_time +=  end - start_data_loading\n",
    "\n",
    "            start_compute = time.time()\n",
    "            optimizer.zero_grad()\n",
    "            outputs = model(**inputs)\n",
    "            loss = outputs.loss\n",
    "            loss.backward()\n",
    "            optimizer.step()\n",
    "    \n",
    "            torch.cuda.synchronize()\n",
    "            end = time.time()\n",
    "            training_compute_time += end - start_compute\n",
    "    \n",
    "            logits = outputs.logits\n",
    "            preds = torch.argmax(logits, dim = 1)\n",
    "            labels = batch[\"labels\"].to(device)\n",
    "            correct = (preds == labels).sum().item()\n",
    "            total_correct += correct\n",
    "            total_samples += len(labels)\n",
    "            total_loss += loss.item()\n",
    "    \n",
    "            start_data_loading = time.time()\n",
    "    \n",
    "        end = time.time()\n",
    "        total_epoch_time = end - start_epoch_time\n",
    "    \n",
    "        avg_loss = total_loss / len(train_loader)\n",
    "        avg_accuracy = total_correct / total_samples\n",
    "        train_loss.append(avg_loss)\n",
    "        train_accuracy.append(avg_accuracy)\n",
    "        sum_train_accuracy += avg_accuracy\n",
    "    \n",
    "        model.eval()\n",
    "        correct = 0\n",
    "        total = 0\n",
    "    \n",
    "        with torch.no_grad():\n",
    "            for batch in test_loader:\n",
    "                inputs = {\n",
    "                    \"input_ids\": batch[\"input_ids\"].to(device),\n",
    "                    \"attention_mask\": batch[\"attention_mask\"].to(device),\n",
    "                }\n",
    "                labels = batch[\"labels\"].to(device)\n",
    "    \n",
    "                logits = model(**inputs).logits\n",
    "                preds = torch.argmax(logits, dim=1)\n",
    "    \n",
    "                correct += (preds == labels).sum().item()\n",
    "                total += labels.size(0)\n",
    "    \n",
    "        accuracy = correct / total\n",
    "        test_accuracy.append(accuracy)\n",
    "    \n",
    "        wandb.log({\"train/loss\": train_loss,\n",
    "                  \"train/acc\": avg_accuracy,\n",
    "                  \"test/acc\": accuracy,\n",
    "                  \"data-loading time\": data_loading_time,\n",
    "                  \"compute time\": training_compute_time,\n",
    "                  \"total epoch time\": total_epoch_time})\n",
    "    \n",
    "        data_loading_time_arr.append(data_loading_time)\n",
    "        compute_time_arr.append(training_compute_time)\n",
    "        epoch_time_arr.append(total_epoch_time)\n",
    "        print(f\"Epoch {epoch+1}/{config.epochs}, Loss: {avg_loss:.4f}, Train Accuracy: {avg_accuracy:.4f}, Test Accuracy: {accuracy:.4f}, data_loading time: {data_loading_time} \\\n",
    "                compute time: {training_compute_time} total epoch time: {total_epoch_time}\")\n",
    "        print(f\"-------------------------------------------------------------------------------\")\n",
    "        \n",
    "      avg_epoch_time.append({\"lr\":config.learning_rate, \"batch_size\":config.batch_size, \"avg_epoch_time\":sum(epoch_time_arr)/len(epoch_time_arr)})\n",
    "      avg_train_accuracy.append({\"lr\":config.learning_rate, \"batch_size\":config.batch_size, \"avg_train_accuracy\":sum_train_accuracy/config.epochs})\n",
    "      final_train_loss.append({\"lr\":config.learning_rate, \"batch_size\":config.batch_size, \"final_train_loss\":avg_loss})\n",
    "\n",
    "      model.eval()\n",
    "      correct = 0\n",
    "      total = 0\n",
    "    \n",
    "      with torch.no_grad():\n",
    "          for batch in test_loader:\n",
    "              inputs = {\n",
    "                  \"input_ids\": batch[\"input_ids\"].to(device),\n",
    "                  \"attention_mask\": batch[\"attention_mask\"].to(device),\n",
    "              }\n",
    "              labels = batch[\"labels\"].to(device)\n",
    "    \n",
    "              logits = model(**inputs).logits\n",
    "              preds = torch.argmax(logits, dim=1)\n",
    "    \n",
    "              correct += (preds == labels).sum().item()\n",
    "              total += labels.size(0)\n",
    "    \n",
    "      accuracy = correct / total\n",
    "      final_test_accuracy.append({\"lr\":config.learning_rate, \"batch_size\":config.batch_size, \"final_test_accuracy\":accuracy})"
   ]
  },
  {
   "cell_type": "code",
   "execution_count": 40,
   "id": "61631ae3-18ea-48fd-9991-72fae38a0b36",
   "metadata": {
    "scrolled": true
   },
   "outputs": [
    {
     "name": "stdout",
     "output_type": "stream",
     "text": [
      "Create sweep with ID: ol99ftwm\n",
      "Sweep URL: https://wandb.ai/kaimao-columbia-university/hpml-hw2-llm3/sweeps/ol99ftwm\n"
     ]
    },
    {
     "name": "stderr",
     "output_type": "stream",
     "text": [
      "\u001b[34m\u001b[1mwandb\u001b[0m: Agent Starting Run: p1bqe09h with config:\n",
      "\u001b[34m\u001b[1mwandb\u001b[0m: \tbatch_size: 16\n",
      "\u001b[34m\u001b[1mwandb\u001b[0m: \tlearning_rate: 5e-05\n",
      "\u001b[34m\u001b[1mwandb\u001b[0m: \u001b[32m\u001b[41mERROR\u001b[0m Failed to detect the name of this notebook. You can set it manually with the WANDB_NOTEBOOK_NAME environment variable to enable code saving.\n"
     ]
    },
    {
     "data": {
      "text/html": [],
      "text/plain": [
       "<IPython.core.display.HTML object>"
      ]
     },
     "metadata": {},
     "output_type": "display_data"
    },
    {
     "data": {
      "text/html": [
       "Tracking run with wandb version 0.22.2"
      ],
      "text/plain": [
       "<IPython.core.display.HTML object>"
      ]
     },
     "metadata": {},
     "output_type": "display_data"
    },
    {
     "data": {
      "text/html": [
       "Run data is saved locally in <code>/workspace/wandb/run-20251024_063312-p1bqe09h</code>"
      ],
      "text/plain": [
       "<IPython.core.display.HTML object>"
      ]
     },
     "metadata": {},
     "output_type": "display_data"
    },
    {
     "data": {
      "text/html": [
       "Syncing run <strong><a href='https://wandb.ai/kaimao-columbia-university/hpml-hw2-llm3/runs/p1bqe09h' target=\"_blank\">absurd-sweep-1</a></strong> to <a href='https://wandb.ai/kaimao-columbia-university/hpml-hw2-llm3' target=\"_blank\">Weights & Biases</a> (<a href='https://wandb.me/developer-guide' target=\"_blank\">docs</a>)<br>Sweep page: <a href='https://wandb.ai/kaimao-columbia-university/hpml-hw2-llm3/sweeps/ol99ftwm' target=\"_blank\">https://wandb.ai/kaimao-columbia-university/hpml-hw2-llm3/sweeps/ol99ftwm</a>"
      ],
      "text/plain": [
       "<IPython.core.display.HTML object>"
      ]
     },
     "metadata": {},
     "output_type": "display_data"
    },
    {
     "data": {
      "text/html": [
       " View project at <a href='https://wandb.ai/kaimao-columbia-university/hpml-hw2-llm3' target=\"_blank\">https://wandb.ai/kaimao-columbia-university/hpml-hw2-llm3</a>"
      ],
      "text/plain": [
       "<IPython.core.display.HTML object>"
      ]
     },
     "metadata": {},
     "output_type": "display_data"
    },
    {
     "data": {
      "text/html": [
       " View sweep at <a href='https://wandb.ai/kaimao-columbia-university/hpml-hw2-llm3/sweeps/ol99ftwm' target=\"_blank\">https://wandb.ai/kaimao-columbia-university/hpml-hw2-llm3/sweeps/ol99ftwm</a>"
      ],
      "text/plain": [
       "<IPython.core.display.HTML object>"
      ]
     },
     "metadata": {},
     "output_type": "display_data"
    },
    {
     "data": {
      "text/html": [
       " View run at <a href='https://wandb.ai/kaimao-columbia-university/hpml-hw2-llm3/runs/p1bqe09h' target=\"_blank\">https://wandb.ai/kaimao-columbia-university/hpml-hw2-llm3/runs/p1bqe09h</a>"
      ],
      "text/plain": [
       "<IPython.core.display.HTML object>"
      ]
     },
     "metadata": {},
     "output_type": "display_data"
    },
    {
     "name": "stderr",
     "output_type": "stream",
     "text": [
      "Some weights of DistilBertForSequenceClassification were not initialized from the model checkpoint at distilbert-base-uncased and are newly initialized: ['classifier.bias', 'classifier.weight', 'pre_classifier.bias', 'pre_classifier.weight']\n",
      "You should probably TRAIN this model on a down-stream task to be able to use it for predictions and inference.\n"
     ]
    },
    {
     "name": "stdout",
     "output_type": "stream",
     "text": [
      "---------start train: batch_size(16) lr(5e-05) num_workers(2) optimizer(AdamW)-----\n",
      "Epoch 1/5, Loss: 0.2918, Train Accuracy: 0.8799, Test Accuracy: 0.8775, data_loading time: 3.3743536472320557                 compute time: 48.26205515861511 total epoch time: 52.288145780563354\n",
      "-------------------------------------------------------------------------------\n",
      "Epoch 2/5, Loss: 0.1603, Train Accuracy: 0.9405, Test Accuracy: 0.9058, data_loading time: 3.3897156715393066                 compute time: 48.5977144241333 total epoch time: 52.78198218345642\n",
      "-------------------------------------------------------------------------------\n",
      "Epoch 3/5, Loss: 0.0862, Train Accuracy: 0.9705, Test Accuracy: 0.8950, data_loading time: 2.3981313705444336                 compute time: 47.99050521850586 total epoch time: 51.00476956367493\n",
      "-------------------------------------------------------------------------------\n",
      "Epoch 4/5, Loss: 0.0483, Train Accuracy: 0.9839, Test Accuracy: 0.8954, data_loading time: 3.0242984294891357                 compute time: 48.37991738319397 total epoch time: 52.13075613975525\n",
      "-------------------------------------------------------------------------------\n",
      "Epoch 5/5, Loss: 0.0371, Train Accuracy: 0.9877, Test Accuracy: 0.8859, data_loading time: 2.290682792663574                 compute time: 47.9071319103241 total epoch time: 50.73609232902527\n",
      "-------------------------------------------------------------------------------\n"
     ]
    },
    {
     "name": "stderr",
     "output_type": "stream",
     "text": [
      "\u001b[34m\u001b[1mwandb\u001b[0m: \u001b[32m\u001b[41mERROR\u001b[0m The nbformat package was not found. It is required to save notebook history.\n"
     ]
    },
    {
     "data": {
      "text/html": [],
      "text/plain": [
       "<IPython.core.display.HTML object>"
      ]
     },
     "metadata": {},
     "output_type": "display_data"
    },
    {
     "data": {
      "text/html": [
       "<br>    <style><br>        .wandb-row {<br>            display: flex;<br>            flex-direction: row;<br>            flex-wrap: wrap;<br>            justify-content: flex-start;<br>            width: 100%;<br>        }<br>        .wandb-col {<br>            display: flex;<br>            flex-direction: column;<br>            flex-basis: 100%;<br>            flex: 1;<br>            padding: 10px;<br>        }<br>    </style><br><div class=\"wandb-row\"><div class=\"wandb-col\"><h3>Run history:</h3><br/><table class=\"wandb\"><tr><td>compute time</td><td>▅█▂▆▁</td></tr><tr><td>data-loading time</td><td>██▂▆▁</td></tr><tr><td>test/acc</td><td>▁█▅▅▃</td></tr><tr><td>total epoch time</td><td>▆█▂▆▁</td></tr><tr><td>train/acc</td><td>▁▅▇██</td></tr></table><br/></div><div class=\"wandb-col\"><h3>Run summary:</h3><br/><table class=\"wandb\"><tr><td>compute time</td><td>47.90713</td></tr><tr><td>data-loading time</td><td>2.29068</td></tr><tr><td>test/acc</td><td>0.88592</td></tr><tr><td>total epoch time</td><td>50.73609</td></tr><tr><td>train/acc</td><td>0.98768</td></tr></table><br/></div></div>"
      ],
      "text/plain": [
       "<IPython.core.display.HTML object>"
      ]
     },
     "metadata": {},
     "output_type": "display_data"
    },
    {
     "data": {
      "text/html": [
       " View run <strong style=\"color:#cdcd00\">lr5e-05_bs16_C6</strong> at: <a href='https://wandb.ai/kaimao-columbia-university/hpml-hw2-llm3/runs/p1bqe09h' target=\"_blank\">https://wandb.ai/kaimao-columbia-university/hpml-hw2-llm3/runs/p1bqe09h</a><br> View project at: <a href='https://wandb.ai/kaimao-columbia-university/hpml-hw2-llm3' target=\"_blank\">https://wandb.ai/kaimao-columbia-university/hpml-hw2-llm3</a><br>Synced 5 W&B file(s), 0 media file(s), 0 artifact file(s) and 0 other file(s)"
      ],
      "text/plain": [
       "<IPython.core.display.HTML object>"
      ]
     },
     "metadata": {},
     "output_type": "display_data"
    },
    {
     "data": {
      "text/html": [
       "Find logs at: <code>./wandb/run-20251024_063312-p1bqe09h/logs</code>"
      ],
      "text/plain": [
       "<IPython.core.display.HTML object>"
      ]
     },
     "metadata": {},
     "output_type": "display_data"
    },
    {
     "name": "stderr",
     "output_type": "stream",
     "text": [
      "\u001b[34m\u001b[1mwandb\u001b[0m: Agent Starting Run: 4j2skc6g with config:\n",
      "\u001b[34m\u001b[1mwandb\u001b[0m: \tbatch_size: 16\n",
      "\u001b[34m\u001b[1mwandb\u001b[0m: \tlearning_rate: 0.0001\n",
      "\u001b[34m\u001b[1mwandb\u001b[0m: \u001b[32m\u001b[41mERROR\u001b[0m Failed to detect the name of this notebook. You can set it manually with the WANDB_NOTEBOOK_NAME environment variable to enable code saving.\n"
     ]
    },
    {
     "data": {
      "text/html": [],
      "text/plain": [
       "<IPython.core.display.HTML object>"
      ]
     },
     "metadata": {},
     "output_type": "display_data"
    },
    {
     "data": {
      "text/html": [
       "Tracking run with wandb version 0.22.2"
      ],
      "text/plain": [
       "<IPython.core.display.HTML object>"
      ]
     },
     "metadata": {},
     "output_type": "display_data"
    },
    {
     "data": {
      "text/html": [
       "Run data is saved locally in <code>/workspace/wandb/run-20251024_063934-4j2skc6g</code>"
      ],
      "text/plain": [
       "<IPython.core.display.HTML object>"
      ]
     },
     "metadata": {},
     "output_type": "display_data"
    },
    {
     "data": {
      "text/html": [
       "Syncing run <strong><a href='https://wandb.ai/kaimao-columbia-university/hpml-hw2-llm3/runs/4j2skc6g' target=\"_blank\">ethereal-sweep-2</a></strong> to <a href='https://wandb.ai/kaimao-columbia-university/hpml-hw2-llm3' target=\"_blank\">Weights & Biases</a> (<a href='https://wandb.me/developer-guide' target=\"_blank\">docs</a>)<br>Sweep page: <a href='https://wandb.ai/kaimao-columbia-university/hpml-hw2-llm3/sweeps/ol99ftwm' target=\"_blank\">https://wandb.ai/kaimao-columbia-university/hpml-hw2-llm3/sweeps/ol99ftwm</a>"
      ],
      "text/plain": [
       "<IPython.core.display.HTML object>"
      ]
     },
     "metadata": {},
     "output_type": "display_data"
    },
    {
     "data": {
      "text/html": [
       " View project at <a href='https://wandb.ai/kaimao-columbia-university/hpml-hw2-llm3' target=\"_blank\">https://wandb.ai/kaimao-columbia-university/hpml-hw2-llm3</a>"
      ],
      "text/plain": [
       "<IPython.core.display.HTML object>"
      ]
     },
     "metadata": {},
     "output_type": "display_data"
    },
    {
     "data": {
      "text/html": [
       " View sweep at <a href='https://wandb.ai/kaimao-columbia-university/hpml-hw2-llm3/sweeps/ol99ftwm' target=\"_blank\">https://wandb.ai/kaimao-columbia-university/hpml-hw2-llm3/sweeps/ol99ftwm</a>"
      ],
      "text/plain": [
       "<IPython.core.display.HTML object>"
      ]
     },
     "metadata": {},
     "output_type": "display_data"
    },
    {
     "data": {
      "text/html": [
       " View run at <a href='https://wandb.ai/kaimao-columbia-university/hpml-hw2-llm3/runs/4j2skc6g' target=\"_blank\">https://wandb.ai/kaimao-columbia-university/hpml-hw2-llm3/runs/4j2skc6g</a>"
      ],
      "text/plain": [
       "<IPython.core.display.HTML object>"
      ]
     },
     "metadata": {},
     "output_type": "display_data"
    },
    {
     "name": "stderr",
     "output_type": "stream",
     "text": [
      "Some weights of DistilBertForSequenceClassification were not initialized from the model checkpoint at distilbert-base-uncased and are newly initialized: ['classifier.bias', 'classifier.weight', 'pre_classifier.bias', 'pre_classifier.weight']\n",
      "You should probably TRAIN this model on a down-stream task to be able to use it for predictions and inference.\n"
     ]
    },
    {
     "name": "stdout",
     "output_type": "stream",
     "text": [
      "---------start train: batch_size(16) lr(0.0001) num_workers(2) optimizer(AdamW)-----\n",
      "Epoch 1/5, Loss: 0.3212, Train Accuracy: 0.8652, Test Accuracy: 0.8912, data_loading time: 2.64289927482605                 compute time: 48.116403341293335 total epoch time: 51.40435862541199\n",
      "-------------------------------------------------------------------------------\n",
      "Epoch 2/5, Loss: 0.1931, Train Accuracy: 0.9298, Test Accuracy: 0.8748, data_loading time: 3.5315537452697754                 compute time: 48.540836811065674 total epoch time: 52.75370383262634\n",
      "-------------------------------------------------------------------------------\n",
      "Epoch 3/5, Loss: 0.1134, Train Accuracy: 0.9611, Test Accuracy: 0.8567, data_loading time: 2.744121789932251                 compute time: 48.2916259765625 total epoch time: 51.64160513877869\n",
      "-------------------------------------------------------------------------------\n",
      "Epoch 4/5, Loss: 0.0717, Train Accuracy: 0.9768, Test Accuracy: 0.8475, data_loading time: 2.096203565597534                 compute time: 47.86155652999878 total epoch time: 50.511175870895386\n",
      "-------------------------------------------------------------------------------\n",
      "Epoch 5/5, Loss: 0.0584, Train Accuracy: 0.9816, Test Accuracy: 0.8366, data_loading time: 2.655057191848755                 compute time: 48.15519070625305 total epoch time: 51.45206379890442\n",
      "-------------------------------------------------------------------------------\n"
     ]
    },
    {
     "name": "stderr",
     "output_type": "stream",
     "text": [
      "\u001b[34m\u001b[1mwandb\u001b[0m: \u001b[32m\u001b[41mERROR\u001b[0m The nbformat package was not found. It is required to save notebook history.\n"
     ]
    },
    {
     "data": {
      "text/html": [],
      "text/plain": [
       "<IPython.core.display.HTML object>"
      ]
     },
     "metadata": {},
     "output_type": "display_data"
    },
    {
     "data": {
      "text/html": [
       "<br>    <style><br>        .wandb-row {<br>            display: flex;<br>            flex-direction: row;<br>            flex-wrap: wrap;<br>            justify-content: flex-start;<br>            width: 100%;<br>        }<br>        .wandb-col {<br>            display: flex;<br>            flex-direction: column;<br>            flex-basis: 100%;<br>            flex: 1;<br>            padding: 10px;<br>        }<br>    </style><br><div class=\"wandb-row\"><div class=\"wandb-col\"><h3>Run history:</h3><br/><table class=\"wandb\"><tr><td>compute time</td><td>▄█▅▁▄</td></tr><tr><td>data-loading time</td><td>▄█▄▁▄</td></tr><tr><td>test/acc</td><td>█▆▄▂▁</td></tr><tr><td>total epoch time</td><td>▄█▅▁▄</td></tr><tr><td>train/acc</td><td>▁▅▇██</td></tr></table><br/></div><div class=\"wandb-col\"><h3>Run summary:</h3><br/><table class=\"wandb\"><tr><td>compute time</td><td>48.15519</td></tr><tr><td>data-loading time</td><td>2.65506</td></tr><tr><td>test/acc</td><td>0.83656</td></tr><tr><td>total epoch time</td><td>51.45206</td></tr><tr><td>train/acc</td><td>0.98164</td></tr></table><br/></div></div>"
      ],
      "text/plain": [
       "<IPython.core.display.HTML object>"
      ]
     },
     "metadata": {},
     "output_type": "display_data"
    },
    {
     "data": {
      "text/html": [
       " View run <strong style=\"color:#cdcd00\">lr0.0001_bs16_C6</strong> at: <a href='https://wandb.ai/kaimao-columbia-university/hpml-hw2-llm3/runs/4j2skc6g' target=\"_blank\">https://wandb.ai/kaimao-columbia-university/hpml-hw2-llm3/runs/4j2skc6g</a><br> View project at: <a href='https://wandb.ai/kaimao-columbia-university/hpml-hw2-llm3' target=\"_blank\">https://wandb.ai/kaimao-columbia-university/hpml-hw2-llm3</a><br>Synced 5 W&B file(s), 0 media file(s), 0 artifact file(s) and 0 other file(s)"
      ],
      "text/plain": [
       "<IPython.core.display.HTML object>"
      ]
     },
     "metadata": {},
     "output_type": "display_data"
    },
    {
     "data": {
      "text/html": [
       "Find logs at: <code>./wandb/run-20251024_063934-4j2skc6g/logs</code>"
      ],
      "text/plain": [
       "<IPython.core.display.HTML object>"
      ]
     },
     "metadata": {},
     "output_type": "display_data"
    },
    {
     "name": "stderr",
     "output_type": "stream",
     "text": [
      "\u001b[34m\u001b[1mwandb\u001b[0m: Agent Starting Run: u6bq0oxd with config:\n",
      "\u001b[34m\u001b[1mwandb\u001b[0m: \tbatch_size: 16\n",
      "\u001b[34m\u001b[1mwandb\u001b[0m: \tlearning_rate: 0.0005\n",
      "\u001b[34m\u001b[1mwandb\u001b[0m: \u001b[32m\u001b[41mERROR\u001b[0m Failed to detect the name of this notebook. You can set it manually with the WANDB_NOTEBOOK_NAME environment variable to enable code saving.\n"
     ]
    },
    {
     "data": {
      "text/html": [],
      "text/plain": [
       "<IPython.core.display.HTML object>"
      ]
     },
     "metadata": {},
     "output_type": "display_data"
    },
    {
     "data": {
      "text/html": [
       "Tracking run with wandb version 0.22.2"
      ],
      "text/plain": [
       "<IPython.core.display.HTML object>"
      ]
     },
     "metadata": {},
     "output_type": "display_data"
    },
    {
     "data": {
      "text/html": [
       "Run data is saved locally in <code>/workspace/wandb/run-20251024_064557-u6bq0oxd</code>"
      ],
      "text/plain": [
       "<IPython.core.display.HTML object>"
      ]
     },
     "metadata": {},
     "output_type": "display_data"
    },
    {
     "data": {
      "text/html": [
       "Syncing run <strong><a href='https://wandb.ai/kaimao-columbia-university/hpml-hw2-llm3/runs/u6bq0oxd' target=\"_blank\">restful-sweep-3</a></strong> to <a href='https://wandb.ai/kaimao-columbia-university/hpml-hw2-llm3' target=\"_blank\">Weights & Biases</a> (<a href='https://wandb.me/developer-guide' target=\"_blank\">docs</a>)<br>Sweep page: <a href='https://wandb.ai/kaimao-columbia-university/hpml-hw2-llm3/sweeps/ol99ftwm' target=\"_blank\">https://wandb.ai/kaimao-columbia-university/hpml-hw2-llm3/sweeps/ol99ftwm</a>"
      ],
      "text/plain": [
       "<IPython.core.display.HTML object>"
      ]
     },
     "metadata": {},
     "output_type": "display_data"
    },
    {
     "data": {
      "text/html": [
       " View project at <a href='https://wandb.ai/kaimao-columbia-university/hpml-hw2-llm3' target=\"_blank\">https://wandb.ai/kaimao-columbia-university/hpml-hw2-llm3</a>"
      ],
      "text/plain": [
       "<IPython.core.display.HTML object>"
      ]
     },
     "metadata": {},
     "output_type": "display_data"
    },
    {
     "data": {
      "text/html": [
       " View sweep at <a href='https://wandb.ai/kaimao-columbia-university/hpml-hw2-llm3/sweeps/ol99ftwm' target=\"_blank\">https://wandb.ai/kaimao-columbia-university/hpml-hw2-llm3/sweeps/ol99ftwm</a>"
      ],
      "text/plain": [
       "<IPython.core.display.HTML object>"
      ]
     },
     "metadata": {},
     "output_type": "display_data"
    },
    {
     "data": {
      "text/html": [
       " View run at <a href='https://wandb.ai/kaimao-columbia-university/hpml-hw2-llm3/runs/u6bq0oxd' target=\"_blank\">https://wandb.ai/kaimao-columbia-university/hpml-hw2-llm3/runs/u6bq0oxd</a>"
      ],
      "text/plain": [
       "<IPython.core.display.HTML object>"
      ]
     },
     "metadata": {},
     "output_type": "display_data"
    },
    {
     "name": "stderr",
     "output_type": "stream",
     "text": [
      "Some weights of DistilBertForSequenceClassification were not initialized from the model checkpoint at distilbert-base-uncased and are newly initialized: ['classifier.bias', 'classifier.weight', 'pre_classifier.bias', 'pre_classifier.weight']\n",
      "You should probably TRAIN this model on a down-stream task to be able to use it for predictions and inference.\n"
     ]
    },
    {
     "name": "stdout",
     "output_type": "stream",
     "text": [
      "---------start train: batch_size(16) lr(0.0005) num_workers(2) optimizer(AdamW)-----\n",
      "Epoch 1/5, Loss: 0.6979, Train Accuracy: 0.4982, Test Accuracy: 0.5000, data_loading time: 2.0696771144866943                 compute time: 47.677361249923706 total epoch time: 50.26917052268982\n",
      "-------------------------------------------------------------------------------\n",
      "Epoch 2/5, Loss: 0.6939, Train Accuracy: 0.4967, Test Accuracy: 0.5000, data_loading time: 2.4066808223724365                 compute time: 48.00001931190491 total epoch time: 51.00696659088135\n",
      "-------------------------------------------------------------------------------\n",
      "Epoch 3/5, Loss: 0.6938, Train Accuracy: 0.4936, Test Accuracy: 0.5000, data_loading time: 2.3085412979125977                 compute time: 47.86158561706543 total epoch time: 50.7403998374939\n",
      "-------------------------------------------------------------------------------\n",
      "Epoch 4/5, Loss: 0.6935, Train Accuracy: 0.4949, Test Accuracy: 0.5000, data_loading time: 2.9334828853607178                 compute time: 48.082801818847656 total epoch time: 51.710949182510376\n",
      "-------------------------------------------------------------------------------\n",
      "Epoch 5/5, Loss: 0.6939, Train Accuracy: 0.4943, Test Accuracy: 0.5000, data_loading time: 2.223081111907959                 compute time: 47.754297971725464 total epoch time: 50.47782897949219\n",
      "-------------------------------------------------------------------------------\n"
     ]
    },
    {
     "name": "stderr",
     "output_type": "stream",
     "text": [
      "\u001b[34m\u001b[1mwandb\u001b[0m: \u001b[32m\u001b[41mERROR\u001b[0m The nbformat package was not found. It is required to save notebook history.\n"
     ]
    },
    {
     "data": {
      "text/html": [],
      "text/plain": [
       "<IPython.core.display.HTML object>"
      ]
     },
     "metadata": {},
     "output_type": "display_data"
    },
    {
     "data": {
      "text/html": [
       "<br>    <style><br>        .wandb-row {<br>            display: flex;<br>            flex-direction: row;<br>            flex-wrap: wrap;<br>            justify-content: flex-start;<br>            width: 100%;<br>        }<br>        .wandb-col {<br>            display: flex;<br>            flex-direction: column;<br>            flex-basis: 100%;<br>            flex: 1;<br>            padding: 10px;<br>        }<br>    </style><br><div class=\"wandb-row\"><div class=\"wandb-col\"><h3>Run history:</h3><br/><table class=\"wandb\"><tr><td>compute time</td><td>▁▇▄█▂</td></tr><tr><td>data-loading time</td><td>▁▄▃█▂</td></tr><tr><td>test/acc</td><td>▁▁▁▁▁</td></tr><tr><td>total epoch time</td><td>▁▅▃█▂</td></tr><tr><td>train/acc</td><td>█▆▁▃▂</td></tr></table><br/></div><div class=\"wandb-col\"><h3>Run summary:</h3><br/><table class=\"wandb\"><tr><td>compute time</td><td>47.7543</td></tr><tr><td>data-loading time</td><td>2.22308</td></tr><tr><td>test/acc</td><td>0.5</td></tr><tr><td>total epoch time</td><td>50.47783</td></tr><tr><td>train/acc</td><td>0.49428</td></tr></table><br/></div></div>"
      ],
      "text/plain": [
       "<IPython.core.display.HTML object>"
      ]
     },
     "metadata": {},
     "output_type": "display_data"
    },
    {
     "data": {
      "text/html": [
       " View run <strong style=\"color:#cdcd00\">lr0.0005_bs16_C6</strong> at: <a href='https://wandb.ai/kaimao-columbia-university/hpml-hw2-llm3/runs/u6bq0oxd' target=\"_blank\">https://wandb.ai/kaimao-columbia-university/hpml-hw2-llm3/runs/u6bq0oxd</a><br> View project at: <a href='https://wandb.ai/kaimao-columbia-university/hpml-hw2-llm3' target=\"_blank\">https://wandb.ai/kaimao-columbia-university/hpml-hw2-llm3</a><br>Synced 5 W&B file(s), 0 media file(s), 0 artifact file(s) and 0 other file(s)"
      ],
      "text/plain": [
       "<IPython.core.display.HTML object>"
      ]
     },
     "metadata": {},
     "output_type": "display_data"
    },
    {
     "data": {
      "text/html": [
       "Find logs at: <code>./wandb/run-20251024_064557-u6bq0oxd/logs</code>"
      ],
      "text/plain": [
       "<IPython.core.display.HTML object>"
      ]
     },
     "metadata": {},
     "output_type": "display_data"
    },
    {
     "name": "stderr",
     "output_type": "stream",
     "text": [
      "\u001b[34m\u001b[1mwandb\u001b[0m: Agent Starting Run: x80pl9r7 with config:\n",
      "\u001b[34m\u001b[1mwandb\u001b[0m: \tbatch_size: 32\n",
      "\u001b[34m\u001b[1mwandb\u001b[0m: \tlearning_rate: 5e-05\n",
      "\u001b[34m\u001b[1mwandb\u001b[0m: \u001b[32m\u001b[41mERROR\u001b[0m Failed to detect the name of this notebook. You can set it manually with the WANDB_NOTEBOOK_NAME environment variable to enable code saving.\n"
     ]
    },
    {
     "data": {
      "text/html": [],
      "text/plain": [
       "<IPython.core.display.HTML object>"
      ]
     },
     "metadata": {},
     "output_type": "display_data"
    },
    {
     "data": {
      "text/html": [
       "Tracking run with wandb version 0.22.2"
      ],
      "text/plain": [
       "<IPython.core.display.HTML object>"
      ]
     },
     "metadata": {},
     "output_type": "display_data"
    },
    {
     "data": {
      "text/html": [
       "Run data is saved locally in <code>/workspace/wandb/run-20251024_065214-x80pl9r7</code>"
      ],
      "text/plain": [
       "<IPython.core.display.HTML object>"
      ]
     },
     "metadata": {},
     "output_type": "display_data"
    },
    {
     "data": {
      "text/html": [
       "Syncing run <strong><a href='https://wandb.ai/kaimao-columbia-university/hpml-hw2-llm3/runs/x80pl9r7' target=\"_blank\">hardy-sweep-4</a></strong> to <a href='https://wandb.ai/kaimao-columbia-university/hpml-hw2-llm3' target=\"_blank\">Weights & Biases</a> (<a href='https://wandb.me/developer-guide' target=\"_blank\">docs</a>)<br>Sweep page: <a href='https://wandb.ai/kaimao-columbia-university/hpml-hw2-llm3/sweeps/ol99ftwm' target=\"_blank\">https://wandb.ai/kaimao-columbia-university/hpml-hw2-llm3/sweeps/ol99ftwm</a>"
      ],
      "text/plain": [
       "<IPython.core.display.HTML object>"
      ]
     },
     "metadata": {},
     "output_type": "display_data"
    },
    {
     "data": {
      "text/html": [
       " View project at <a href='https://wandb.ai/kaimao-columbia-university/hpml-hw2-llm3' target=\"_blank\">https://wandb.ai/kaimao-columbia-university/hpml-hw2-llm3</a>"
      ],
      "text/plain": [
       "<IPython.core.display.HTML object>"
      ]
     },
     "metadata": {},
     "output_type": "display_data"
    },
    {
     "data": {
      "text/html": [
       " View sweep at <a href='https://wandb.ai/kaimao-columbia-university/hpml-hw2-llm3/sweeps/ol99ftwm' target=\"_blank\">https://wandb.ai/kaimao-columbia-university/hpml-hw2-llm3/sweeps/ol99ftwm</a>"
      ],
      "text/plain": [
       "<IPython.core.display.HTML object>"
      ]
     },
     "metadata": {},
     "output_type": "display_data"
    },
    {
     "data": {
      "text/html": [
       " View run at <a href='https://wandb.ai/kaimao-columbia-university/hpml-hw2-llm3/runs/x80pl9r7' target=\"_blank\">https://wandb.ai/kaimao-columbia-university/hpml-hw2-llm3/runs/x80pl9r7</a>"
      ],
      "text/plain": [
       "<IPython.core.display.HTML object>"
      ]
     },
     "metadata": {},
     "output_type": "display_data"
    },
    {
     "name": "stderr",
     "output_type": "stream",
     "text": [
      "Some weights of DistilBertForSequenceClassification were not initialized from the model checkpoint at distilbert-base-uncased and are newly initialized: ['classifier.bias', 'classifier.weight', 'pre_classifier.bias', 'pre_classifier.weight']\n",
      "You should probably TRAIN this model on a down-stream task to be able to use it for predictions and inference.\n"
     ]
    },
    {
     "name": "stdout",
     "output_type": "stream",
     "text": [
      "---------start train: batch_size(32) lr(5e-05) num_workers(2) optimizer(AdamW)-----\n",
      "Epoch 1/5, Loss: 0.2823, Train Accuracy: 0.8813, Test Accuracy: 0.9020, data_loading time: 1.380310297012329                 compute time: 42.451884508132935 total epoch time: 44.200751543045044\n",
      "-------------------------------------------------------------------------------\n",
      "Epoch 2/5, Loss: 0.1539, Train Accuracy: 0.9419, Test Accuracy: 0.8943, data_loading time: 1.2978613376617432                 compute time: 42.62789964675903 total epoch time: 44.28197240829468\n",
      "-------------------------------------------------------------------------------\n",
      "Epoch 3/5, Loss: 0.0786, Train Accuracy: 0.9742, Test Accuracy: 0.9085, data_loading time: 1.2501893043518066                 compute time: 42.524516344070435 total epoch time: 44.11564493179321\n",
      "-------------------------------------------------------------------------------\n",
      "Epoch 4/5, Loss: 0.0447, Train Accuracy: 0.9847, Test Accuracy: 0.9077, data_loading time: 1.2133805751800537                 compute time: 42.49736666679382 total epoch time: 44.05429220199585\n",
      "-------------------------------------------------------------------------------\n",
      "Epoch 5/5, Loss: 0.0275, Train Accuracy: 0.9910, Test Accuracy: 0.9059, data_loading time: 1.1967957019805908                 compute time: 42.52325081825256 total epoch time: 44.06284189224243\n",
      "-------------------------------------------------------------------------------\n"
     ]
    },
    {
     "name": "stderr",
     "output_type": "stream",
     "text": [
      "\u001b[34m\u001b[1mwandb\u001b[0m: \u001b[32m\u001b[41mERROR\u001b[0m The nbformat package was not found. It is required to save notebook history.\n"
     ]
    },
    {
     "data": {
      "text/html": [],
      "text/plain": [
       "<IPython.core.display.HTML object>"
      ]
     },
     "metadata": {},
     "output_type": "display_data"
    },
    {
     "data": {
      "text/html": [
       "<br>    <style><br>        .wandb-row {<br>            display: flex;<br>            flex-direction: row;<br>            flex-wrap: wrap;<br>            justify-content: flex-start;<br>            width: 100%;<br>        }<br>        .wandb-col {<br>            display: flex;<br>            flex-direction: column;<br>            flex-basis: 100%;<br>            flex: 1;<br>            padding: 10px;<br>        }<br>    </style><br><div class=\"wandb-row\"><div class=\"wandb-col\"><h3>Run history:</h3><br/><table class=\"wandb\"><tr><td>compute time</td><td>▁█▄▃▄</td></tr><tr><td>data-loading time</td><td>█▅▃▂▁</td></tr><tr><td>test/acc</td><td>▅▁██▇</td></tr><tr><td>total epoch time</td><td>▆█▃▁▁</td></tr><tr><td>train/acc</td><td>▁▅▇██</td></tr></table><br/></div><div class=\"wandb-col\"><h3>Run summary:</h3><br/><table class=\"wandb\"><tr><td>compute time</td><td>42.52325</td></tr><tr><td>data-loading time</td><td>1.1968</td></tr><tr><td>test/acc</td><td>0.90592</td></tr><tr><td>total epoch time</td><td>44.06284</td></tr><tr><td>train/acc</td><td>0.99096</td></tr></table><br/></div></div>"
      ],
      "text/plain": [
       "<IPython.core.display.HTML object>"
      ]
     },
     "metadata": {},
     "output_type": "display_data"
    },
    {
     "data": {
      "text/html": [
       " View run <strong style=\"color:#cdcd00\">lr5e-05_bs32_C6</strong> at: <a href='https://wandb.ai/kaimao-columbia-university/hpml-hw2-llm3/runs/x80pl9r7' target=\"_blank\">https://wandb.ai/kaimao-columbia-university/hpml-hw2-llm3/runs/x80pl9r7</a><br> View project at: <a href='https://wandb.ai/kaimao-columbia-university/hpml-hw2-llm3' target=\"_blank\">https://wandb.ai/kaimao-columbia-university/hpml-hw2-llm3</a><br>Synced 5 W&B file(s), 0 media file(s), 0 artifact file(s) and 0 other file(s)"
      ],
      "text/plain": [
       "<IPython.core.display.HTML object>"
      ]
     },
     "metadata": {},
     "output_type": "display_data"
    },
    {
     "data": {
      "text/html": [
       "Find logs at: <code>./wandb/run-20251024_065214-x80pl9r7/logs</code>"
      ],
      "text/plain": [
       "<IPython.core.display.HTML object>"
      ]
     },
     "metadata": {},
     "output_type": "display_data"
    },
    {
     "name": "stderr",
     "output_type": "stream",
     "text": [
      "\u001b[34m\u001b[1mwandb\u001b[0m: Agent Starting Run: wvw3j86f with config:\n",
      "\u001b[34m\u001b[1mwandb\u001b[0m: \tbatch_size: 32\n",
      "\u001b[34m\u001b[1mwandb\u001b[0m: \tlearning_rate: 0.0001\n",
      "\u001b[34m\u001b[1mwandb\u001b[0m: \u001b[32m\u001b[41mERROR\u001b[0m Failed to detect the name of this notebook. You can set it manually with the WANDB_NOTEBOOK_NAME environment variable to enable code saving.\n"
     ]
    },
    {
     "data": {
      "text/html": [],
      "text/plain": [
       "<IPython.core.display.HTML object>"
      ]
     },
     "metadata": {},
     "output_type": "display_data"
    },
    {
     "data": {
      "text/html": [
       "Tracking run with wandb version 0.22.2"
      ],
      "text/plain": [
       "<IPython.core.display.HTML object>"
      ]
     },
     "metadata": {},
     "output_type": "display_data"
    },
    {
     "data": {
      "text/html": [
       "Run data is saved locally in <code>/workspace/wandb/run-20251024_065749-wvw3j86f</code>"
      ],
      "text/plain": [
       "<IPython.core.display.HTML object>"
      ]
     },
     "metadata": {},
     "output_type": "display_data"
    },
    {
     "data": {
      "text/html": [
       "Syncing run <strong><a href='https://wandb.ai/kaimao-columbia-university/hpml-hw2-llm3/runs/wvw3j86f' target=\"_blank\">pleasant-sweep-5</a></strong> to <a href='https://wandb.ai/kaimao-columbia-university/hpml-hw2-llm3' target=\"_blank\">Weights & Biases</a> (<a href='https://wandb.me/developer-guide' target=\"_blank\">docs</a>)<br>Sweep page: <a href='https://wandb.ai/kaimao-columbia-university/hpml-hw2-llm3/sweeps/ol99ftwm' target=\"_blank\">https://wandb.ai/kaimao-columbia-university/hpml-hw2-llm3/sweeps/ol99ftwm</a>"
      ],
      "text/plain": [
       "<IPython.core.display.HTML object>"
      ]
     },
     "metadata": {},
     "output_type": "display_data"
    },
    {
     "data": {
      "text/html": [
       " View project at <a href='https://wandb.ai/kaimao-columbia-university/hpml-hw2-llm3' target=\"_blank\">https://wandb.ai/kaimao-columbia-university/hpml-hw2-llm3</a>"
      ],
      "text/plain": [
       "<IPython.core.display.HTML object>"
      ]
     },
     "metadata": {},
     "output_type": "display_data"
    },
    {
     "data": {
      "text/html": [
       " View sweep at <a href='https://wandb.ai/kaimao-columbia-university/hpml-hw2-llm3/sweeps/ol99ftwm' target=\"_blank\">https://wandb.ai/kaimao-columbia-university/hpml-hw2-llm3/sweeps/ol99ftwm</a>"
      ],
      "text/plain": [
       "<IPython.core.display.HTML object>"
      ]
     },
     "metadata": {},
     "output_type": "display_data"
    },
    {
     "data": {
      "text/html": [
       " View run at <a href='https://wandb.ai/kaimao-columbia-university/hpml-hw2-llm3/runs/wvw3j86f' target=\"_blank\">https://wandb.ai/kaimao-columbia-university/hpml-hw2-llm3/runs/wvw3j86f</a>"
      ],
      "text/plain": [
       "<IPython.core.display.HTML object>"
      ]
     },
     "metadata": {},
     "output_type": "display_data"
    },
    {
     "name": "stderr",
     "output_type": "stream",
     "text": [
      "Some weights of DistilBertForSequenceClassification were not initialized from the model checkpoint at distilbert-base-uncased and are newly initialized: ['classifier.bias', 'classifier.weight', 'pre_classifier.bias', 'pre_classifier.weight']\n",
      "You should probably TRAIN this model on a down-stream task to be able to use it for predictions and inference.\n"
     ]
    },
    {
     "name": "stdout",
     "output_type": "stream",
     "text": [
      "---------start train: batch_size(32) lr(0.0001) num_workers(2) optimizer(AdamW)-----\n",
      "Epoch 1/5, Loss: 0.3062, Train Accuracy: 0.8685, Test Accuracy: 0.9012, data_loading time: 1.5294194221496582                 compute time: 42.4873571395874 total epoch time: 44.40516996383667\n",
      "-------------------------------------------------------------------------------\n",
      "Epoch 2/5, Loss: 0.1694, Train Accuracy: 0.9359, Test Accuracy: 0.8965, data_loading time: 1.2967138290405273                 compute time: 42.53153419494629 total epoch time: 44.18459892272949\n",
      "-------------------------------------------------------------------------------\n",
      "Epoch 3/5, Loss: 0.0856, Train Accuracy: 0.9698, Test Accuracy: 0.8786, data_loading time: 1.2219390869140625                 compute time: 42.48101878166199 total epoch time: 44.04977250099182\n",
      "-------------------------------------------------------------------------------\n",
      "Epoch 4/5, Loss: 0.0557, Train Accuracy: 0.9814, Test Accuracy: 0.8717, data_loading time: 1.7230181694030762                 compute time: 42.70159697532654 total epoch time: 44.82612609863281\n",
      "-------------------------------------------------------------------------------\n",
      "Epoch 5/5, Loss: 0.0420, Train Accuracy: 0.9855, Test Accuracy: 0.8636, data_loading time: 1.2598958015441895                 compute time: 42.442944288253784 total epoch time: 44.0516562461853\n",
      "-------------------------------------------------------------------------------\n"
     ]
    },
    {
     "name": "stderr",
     "output_type": "stream",
     "text": [
      "\u001b[34m\u001b[1mwandb\u001b[0m: \u001b[32m\u001b[41mERROR\u001b[0m The nbformat package was not found. It is required to save notebook history.\n"
     ]
    },
    {
     "data": {
      "text/html": [],
      "text/plain": [
       "<IPython.core.display.HTML object>"
      ]
     },
     "metadata": {},
     "output_type": "display_data"
    },
    {
     "data": {
      "text/html": [
       "<br>    <style><br>        .wandb-row {<br>            display: flex;<br>            flex-direction: row;<br>            flex-wrap: wrap;<br>            justify-content: flex-start;<br>            width: 100%;<br>        }<br>        .wandb-col {<br>            display: flex;<br>            flex-direction: column;<br>            flex-basis: 100%;<br>            flex: 1;<br>            padding: 10px;<br>        }<br>    </style><br><div class=\"wandb-row\"><div class=\"wandb-col\"><h3>Run history:</h3><br/><table class=\"wandb\"><tr><td>compute time</td><td>▂▃▂█▁</td></tr><tr><td>data-loading time</td><td>▅▂▁█▂</td></tr><tr><td>test/acc</td><td>█▇▄▃▁</td></tr><tr><td>total epoch time</td><td>▄▂▁█▁</td></tr><tr><td>train/acc</td><td>▁▅▇██</td></tr></table><br/></div><div class=\"wandb-col\"><h3>Run summary:</h3><br/><table class=\"wandb\"><tr><td>compute time</td><td>42.44294</td></tr><tr><td>data-loading time</td><td>1.2599</td></tr><tr><td>test/acc</td><td>0.86356</td></tr><tr><td>total epoch time</td><td>44.05166</td></tr><tr><td>train/acc</td><td>0.98552</td></tr></table><br/></div></div>"
      ],
      "text/plain": [
       "<IPython.core.display.HTML object>"
      ]
     },
     "metadata": {},
     "output_type": "display_data"
    },
    {
     "data": {
      "text/html": [
       " View run <strong style=\"color:#cdcd00\">lr0.0001_bs32_C6</strong> at: <a href='https://wandb.ai/kaimao-columbia-university/hpml-hw2-llm3/runs/wvw3j86f' target=\"_blank\">https://wandb.ai/kaimao-columbia-university/hpml-hw2-llm3/runs/wvw3j86f</a><br> View project at: <a href='https://wandb.ai/kaimao-columbia-university/hpml-hw2-llm3' target=\"_blank\">https://wandb.ai/kaimao-columbia-university/hpml-hw2-llm3</a><br>Synced 5 W&B file(s), 0 media file(s), 0 artifact file(s) and 0 other file(s)"
      ],
      "text/plain": [
       "<IPython.core.display.HTML object>"
      ]
     },
     "metadata": {},
     "output_type": "display_data"
    },
    {
     "data": {
      "text/html": [
       "Find logs at: <code>./wandb/run-20251024_065749-wvw3j86f/logs</code>"
      ],
      "text/plain": [
       "<IPython.core.display.HTML object>"
      ]
     },
     "metadata": {},
     "output_type": "display_data"
    },
    {
     "name": "stderr",
     "output_type": "stream",
     "text": [
      "\u001b[34m\u001b[1mwandb\u001b[0m: Agent Starting Run: rafrijva with config:\n",
      "\u001b[34m\u001b[1mwandb\u001b[0m: \tbatch_size: 32\n",
      "\u001b[34m\u001b[1mwandb\u001b[0m: \tlearning_rate: 0.0005\n",
      "\u001b[34m\u001b[1mwandb\u001b[0m: \u001b[32m\u001b[41mERROR\u001b[0m Failed to detect the name of this notebook. You can set it manually with the WANDB_NOTEBOOK_NAME environment variable to enable code saving.\n"
     ]
    },
    {
     "data": {
      "text/html": [],
      "text/plain": [
       "<IPython.core.display.HTML object>"
      ]
     },
     "metadata": {},
     "output_type": "display_data"
    },
    {
     "data": {
      "text/html": [
       "Tracking run with wandb version 0.22.2"
      ],
      "text/plain": [
       "<IPython.core.display.HTML object>"
      ]
     },
     "metadata": {},
     "output_type": "display_data"
    },
    {
     "data": {
      "text/html": [
       "Run data is saved locally in <code>/workspace/wandb/run-20251024_070324-rafrijva</code>"
      ],
      "text/plain": [
       "<IPython.core.display.HTML object>"
      ]
     },
     "metadata": {},
     "output_type": "display_data"
    },
    {
     "data": {
      "text/html": [
       "Syncing run <strong><a href='https://wandb.ai/kaimao-columbia-university/hpml-hw2-llm3/runs/rafrijva' target=\"_blank\">daily-sweep-6</a></strong> to <a href='https://wandb.ai/kaimao-columbia-university/hpml-hw2-llm3' target=\"_blank\">Weights & Biases</a> (<a href='https://wandb.me/developer-guide' target=\"_blank\">docs</a>)<br>Sweep page: <a href='https://wandb.ai/kaimao-columbia-university/hpml-hw2-llm3/sweeps/ol99ftwm' target=\"_blank\">https://wandb.ai/kaimao-columbia-university/hpml-hw2-llm3/sweeps/ol99ftwm</a>"
      ],
      "text/plain": [
       "<IPython.core.display.HTML object>"
      ]
     },
     "metadata": {},
     "output_type": "display_data"
    },
    {
     "data": {
      "text/html": [
       " View project at <a href='https://wandb.ai/kaimao-columbia-university/hpml-hw2-llm3' target=\"_blank\">https://wandb.ai/kaimao-columbia-university/hpml-hw2-llm3</a>"
      ],
      "text/plain": [
       "<IPython.core.display.HTML object>"
      ]
     },
     "metadata": {},
     "output_type": "display_data"
    },
    {
     "data": {
      "text/html": [
       " View sweep at <a href='https://wandb.ai/kaimao-columbia-university/hpml-hw2-llm3/sweeps/ol99ftwm' target=\"_blank\">https://wandb.ai/kaimao-columbia-university/hpml-hw2-llm3/sweeps/ol99ftwm</a>"
      ],
      "text/plain": [
       "<IPython.core.display.HTML object>"
      ]
     },
     "metadata": {},
     "output_type": "display_data"
    },
    {
     "data": {
      "text/html": [
       " View run at <a href='https://wandb.ai/kaimao-columbia-university/hpml-hw2-llm3/runs/rafrijva' target=\"_blank\">https://wandb.ai/kaimao-columbia-university/hpml-hw2-llm3/runs/rafrijva</a>"
      ],
      "text/plain": [
       "<IPython.core.display.HTML object>"
      ]
     },
     "metadata": {},
     "output_type": "display_data"
    },
    {
     "name": "stderr",
     "output_type": "stream",
     "text": [
      "Some weights of DistilBertForSequenceClassification were not initialized from the model checkpoint at distilbert-base-uncased and are newly initialized: ['classifier.bias', 'classifier.weight', 'pre_classifier.bias', 'pre_classifier.weight']\n",
      "You should probably TRAIN this model on a down-stream task to be able to use it for predictions and inference.\n"
     ]
    },
    {
     "name": "stdout",
     "output_type": "stream",
     "text": [
      "---------start train: batch_size(32) lr(0.0005) num_workers(2) optimizer(AdamW)-----\n",
      "Epoch 1/5, Loss: 0.6957, Train Accuracy: 0.5024, Test Accuracy: 0.5000, data_loading time: 1.2267851829528809                 compute time: 42.107866525650024 total epoch time: 43.68450331687927\n",
      "-------------------------------------------------------------------------------\n",
      "Epoch 2/5, Loss: 0.6940, Train Accuracy: 0.4998, Test Accuracy: 0.5000, data_loading time: 1.2665433883666992                 compute time: 42.39352369308472 total epoch time: 44.01552724838257\n",
      "-------------------------------------------------------------------------------\n",
      "Epoch 3/5, Loss: 0.6936, Train Accuracy: 0.4962, Test Accuracy: 0.5000, data_loading time: 1.2540805339813232                 compute time: 42.26508092880249 total epoch time: 43.836198806762695\n",
      "-------------------------------------------------------------------------------\n",
      "Epoch 4/5, Loss: 0.6932, Train Accuracy: 0.4997, Test Accuracy: 0.5000, data_loading time: 1.5070626735687256                 compute time: 42.46104121208191 total epoch time: 44.35757851600647\n",
      "-------------------------------------------------------------------------------\n",
      "Epoch 5/5, Loss: 0.6933, Train Accuracy: 0.4936, Test Accuracy: 0.5000, data_loading time: 1.2813806533813477                 compute time: 42.254252672195435 total epoch time: 43.88601064682007\n",
      "-------------------------------------------------------------------------------\n"
     ]
    },
    {
     "name": "stderr",
     "output_type": "stream",
     "text": [
      "\u001b[34m\u001b[1mwandb\u001b[0m: \u001b[32m\u001b[41mERROR\u001b[0m The nbformat package was not found. It is required to save notebook history.\n"
     ]
    },
    {
     "data": {
      "text/html": [],
      "text/plain": [
       "<IPython.core.display.HTML object>"
      ]
     },
     "metadata": {},
     "output_type": "display_data"
    },
    {
     "data": {
      "text/html": [
       "<br>    <style><br>        .wandb-row {<br>            display: flex;<br>            flex-direction: row;<br>            flex-wrap: wrap;<br>            justify-content: flex-start;<br>            width: 100%;<br>        }<br>        .wandb-col {<br>            display: flex;<br>            flex-direction: column;<br>            flex-basis: 100%;<br>            flex: 1;<br>            padding: 10px;<br>        }<br>    </style><br><div class=\"wandb-row\"><div class=\"wandb-col\"><h3>Run history:</h3><br/><table class=\"wandb\"><tr><td>compute time</td><td>▁▇▄█▄</td></tr><tr><td>data-loading time</td><td>▁▂▂█▂</td></tr><tr><td>test/acc</td><td>▁▁▁▁▁</td></tr><tr><td>total epoch time</td><td>▁▄▃█▃</td></tr><tr><td>train/acc</td><td>█▆▃▆▁</td></tr></table><br/></div><div class=\"wandb-col\"><h3>Run summary:</h3><br/><table class=\"wandb\"><tr><td>compute time</td><td>42.25425</td></tr><tr><td>data-loading time</td><td>1.28138</td></tr><tr><td>test/acc</td><td>0.5</td></tr><tr><td>total epoch time</td><td>43.88601</td></tr><tr><td>train/acc</td><td>0.4936</td></tr></table><br/></div></div>"
      ],
      "text/plain": [
       "<IPython.core.display.HTML object>"
      ]
     },
     "metadata": {},
     "output_type": "display_data"
    },
    {
     "data": {
      "text/html": [
       " View run <strong style=\"color:#cdcd00\">lr0.0005_bs32_C6</strong> at: <a href='https://wandb.ai/kaimao-columbia-university/hpml-hw2-llm3/runs/rafrijva' target=\"_blank\">https://wandb.ai/kaimao-columbia-university/hpml-hw2-llm3/runs/rafrijva</a><br> View project at: <a href='https://wandb.ai/kaimao-columbia-university/hpml-hw2-llm3' target=\"_blank\">https://wandb.ai/kaimao-columbia-university/hpml-hw2-llm3</a><br>Synced 5 W&B file(s), 0 media file(s), 0 artifact file(s) and 0 other file(s)"
      ],
      "text/plain": [
       "<IPython.core.display.HTML object>"
      ]
     },
     "metadata": {},
     "output_type": "display_data"
    },
    {
     "data": {
      "text/html": [
       "Find logs at: <code>./wandb/run-20251024_070324-rafrijva/logs</code>"
      ],
      "text/plain": [
       "<IPython.core.display.HTML object>"
      ]
     },
     "metadata": {},
     "output_type": "display_data"
    },
    {
     "name": "stderr",
     "output_type": "stream",
     "text": [
      "\u001b[34m\u001b[1mwandb\u001b[0m: Agent Starting Run: e5syj5rl with config:\n",
      "\u001b[34m\u001b[1mwandb\u001b[0m: \tbatch_size: 64\n",
      "\u001b[34m\u001b[1mwandb\u001b[0m: \tlearning_rate: 5e-05\n",
      "\u001b[34m\u001b[1mwandb\u001b[0m: \u001b[32m\u001b[41mERROR\u001b[0m Failed to detect the name of this notebook. You can set it manually with the WANDB_NOTEBOOK_NAME environment variable to enable code saving.\n"
     ]
    },
    {
     "data": {
      "text/html": [],
      "text/plain": [
       "<IPython.core.display.HTML object>"
      ]
     },
     "metadata": {},
     "output_type": "display_data"
    },
    {
     "data": {
      "text/html": [
       "Tracking run with wandb version 0.22.2"
      ],
      "text/plain": [
       "<IPython.core.display.HTML object>"
      ]
     },
     "metadata": {},
     "output_type": "display_data"
    },
    {
     "data": {
      "text/html": [
       "Run data is saved locally in <code>/workspace/wandb/run-20251024_070853-e5syj5rl</code>"
      ],
      "text/plain": [
       "<IPython.core.display.HTML object>"
      ]
     },
     "metadata": {},
     "output_type": "display_data"
    },
    {
     "data": {
      "text/html": [
       "Syncing run <strong><a href='https://wandb.ai/kaimao-columbia-university/hpml-hw2-llm3/runs/e5syj5rl' target=\"_blank\">decent-sweep-7</a></strong> to <a href='https://wandb.ai/kaimao-columbia-university/hpml-hw2-llm3' target=\"_blank\">Weights & Biases</a> (<a href='https://wandb.me/developer-guide' target=\"_blank\">docs</a>)<br>Sweep page: <a href='https://wandb.ai/kaimao-columbia-university/hpml-hw2-llm3/sweeps/ol99ftwm' target=\"_blank\">https://wandb.ai/kaimao-columbia-university/hpml-hw2-llm3/sweeps/ol99ftwm</a>"
      ],
      "text/plain": [
       "<IPython.core.display.HTML object>"
      ]
     },
     "metadata": {},
     "output_type": "display_data"
    },
    {
     "data": {
      "text/html": [
       " View project at <a href='https://wandb.ai/kaimao-columbia-university/hpml-hw2-llm3' target=\"_blank\">https://wandb.ai/kaimao-columbia-university/hpml-hw2-llm3</a>"
      ],
      "text/plain": [
       "<IPython.core.display.HTML object>"
      ]
     },
     "metadata": {},
     "output_type": "display_data"
    },
    {
     "data": {
      "text/html": [
       " View sweep at <a href='https://wandb.ai/kaimao-columbia-university/hpml-hw2-llm3/sweeps/ol99ftwm' target=\"_blank\">https://wandb.ai/kaimao-columbia-university/hpml-hw2-llm3/sweeps/ol99ftwm</a>"
      ],
      "text/plain": [
       "<IPython.core.display.HTML object>"
      ]
     },
     "metadata": {},
     "output_type": "display_data"
    },
    {
     "data": {
      "text/html": [
       " View run at <a href='https://wandb.ai/kaimao-columbia-university/hpml-hw2-llm3/runs/e5syj5rl' target=\"_blank\">https://wandb.ai/kaimao-columbia-university/hpml-hw2-llm3/runs/e5syj5rl</a>"
      ],
      "text/plain": [
       "<IPython.core.display.HTML object>"
      ]
     },
     "metadata": {},
     "output_type": "display_data"
    },
    {
     "name": "stderr",
     "output_type": "stream",
     "text": [
      "Some weights of DistilBertForSequenceClassification were not initialized from the model checkpoint at distilbert-base-uncased and are newly initialized: ['classifier.bias', 'classifier.weight', 'pre_classifier.bias', 'pre_classifier.weight']\n",
      "You should probably TRAIN this model on a down-stream task to be able to use it for predictions and inference.\n"
     ]
    },
    {
     "name": "stdout",
     "output_type": "stream",
     "text": [
      "---------start train: batch_size(64) lr(5e-05) num_workers(2) optimizer(AdamW)-----\n",
      "Epoch 1/5, Loss: 0.2871, Train Accuracy: 0.8793, Test Accuracy: 0.9125, data_loading time: 0.7448124885559082                 compute time: 40.29151630401611 total epoch time: 41.27488875389099\n",
      "-------------------------------------------------------------------------------\n",
      "Epoch 2/5, Loss: 0.1590, Train Accuracy: 0.9407, Test Accuracy: 0.9059, data_loading time: 0.7579576969146729                 compute time: 40.61621165275574 total epoch time: 41.60559034347534\n",
      "-------------------------------------------------------------------------------\n",
      "Epoch 3/5, Loss: 0.0764, Train Accuracy: 0.9744, Test Accuracy: 0.8921, data_loading time: 0.7468810081481934                 compute time: 40.65260195732117 total epoch time: 41.637370586395264\n",
      "-------------------------------------------------------------------------------\n",
      "Epoch 4/5, Loss: 0.0396, Train Accuracy: 0.9878, Test Accuracy: 0.8986, data_loading time: 0.7017061710357666                 compute time: 40.67029881477356 total epoch time: 41.60734224319458\n",
      "-------------------------------------------------------------------------------\n",
      "Epoch 5/5, Loss: 0.0346, Train Accuracy: 0.9886, Test Accuracy: 0.9090, data_loading time: 0.750236988067627                 compute time: 40.634697914123535 total epoch time: 41.62162399291992\n",
      "-------------------------------------------------------------------------------\n"
     ]
    },
    {
     "name": "stderr",
     "output_type": "stream",
     "text": [
      "\u001b[34m\u001b[1mwandb\u001b[0m: \u001b[32m\u001b[41mERROR\u001b[0m The nbformat package was not found. It is required to save notebook history.\n"
     ]
    },
    {
     "data": {
      "text/html": [],
      "text/plain": [
       "<IPython.core.display.HTML object>"
      ]
     },
     "metadata": {},
     "output_type": "display_data"
    },
    {
     "data": {
      "text/html": [
       "<br>    <style><br>        .wandb-row {<br>            display: flex;<br>            flex-direction: row;<br>            flex-wrap: wrap;<br>            justify-content: flex-start;<br>            width: 100%;<br>        }<br>        .wandb-col {<br>            display: flex;<br>            flex-direction: column;<br>            flex-basis: 100%;<br>            flex: 1;<br>            padding: 10px;<br>        }<br>    </style><br><div class=\"wandb-row\"><div class=\"wandb-col\"><h3>Run history:</h3><br/><table class=\"wandb\"><tr><td>compute time</td><td>▁▇██▇</td></tr><tr><td>data-loading time</td><td>▆█▇▁▇</td></tr><tr><td>test/acc</td><td>█▆▁▃▇</td></tr><tr><td>total epoch time</td><td>▁▇█▇█</td></tr><tr><td>train/acc</td><td>▁▅▇██</td></tr></table><br/></div><div class=\"wandb-col\"><h3>Run summary:</h3><br/><table class=\"wandb\"><tr><td>compute time</td><td>40.6347</td></tr><tr><td>data-loading time</td><td>0.75024</td></tr><tr><td>test/acc</td><td>0.90896</td></tr><tr><td>total epoch time</td><td>41.62162</td></tr><tr><td>train/acc</td><td>0.98864</td></tr></table><br/></div></div>"
      ],
      "text/plain": [
       "<IPython.core.display.HTML object>"
      ]
     },
     "metadata": {},
     "output_type": "display_data"
    },
    {
     "data": {
      "text/html": [
       " View run <strong style=\"color:#cdcd00\">lr5e-05_bs64_C6</strong> at: <a href='https://wandb.ai/kaimao-columbia-university/hpml-hw2-llm3/runs/e5syj5rl' target=\"_blank\">https://wandb.ai/kaimao-columbia-university/hpml-hw2-llm3/runs/e5syj5rl</a><br> View project at: <a href='https://wandb.ai/kaimao-columbia-university/hpml-hw2-llm3' target=\"_blank\">https://wandb.ai/kaimao-columbia-university/hpml-hw2-llm3</a><br>Synced 5 W&B file(s), 0 media file(s), 0 artifact file(s) and 0 other file(s)"
      ],
      "text/plain": [
       "<IPython.core.display.HTML object>"
      ]
     },
     "metadata": {},
     "output_type": "display_data"
    },
    {
     "data": {
      "text/html": [
       "Find logs at: <code>./wandb/run-20251024_070853-e5syj5rl/logs</code>"
      ],
      "text/plain": [
       "<IPython.core.display.HTML object>"
      ]
     },
     "metadata": {},
     "output_type": "display_data"
    },
    {
     "name": "stderr",
     "output_type": "stream",
     "text": [
      "\u001b[34m\u001b[1mwandb\u001b[0m: Agent Starting Run: 733fjja3 with config:\n",
      "\u001b[34m\u001b[1mwandb\u001b[0m: \tbatch_size: 64\n",
      "\u001b[34m\u001b[1mwandb\u001b[0m: \tlearning_rate: 0.0001\n",
      "\u001b[34m\u001b[1mwandb\u001b[0m: \u001b[32m\u001b[41mERROR\u001b[0m Failed to detect the name of this notebook. You can set it manually with the WANDB_NOTEBOOK_NAME environment variable to enable code saving.\n"
     ]
    },
    {
     "data": {
      "text/html": [],
      "text/plain": [
       "<IPython.core.display.HTML object>"
      ]
     },
     "metadata": {},
     "output_type": "display_data"
    },
    {
     "data": {
      "text/html": [
       "Tracking run with wandb version 0.22.2"
      ],
      "text/plain": [
       "<IPython.core.display.HTML object>"
      ]
     },
     "metadata": {},
     "output_type": "display_data"
    },
    {
     "data": {
      "text/html": [
       "Run data is saved locally in <code>/workspace/wandb/run-20251024_071402-733fjja3</code>"
      ],
      "text/plain": [
       "<IPython.core.display.HTML object>"
      ]
     },
     "metadata": {},
     "output_type": "display_data"
    },
    {
     "data": {
      "text/html": [
       "Syncing run <strong><a href='https://wandb.ai/kaimao-columbia-university/hpml-hw2-llm3/runs/733fjja3' target=\"_blank\">fresh-sweep-8</a></strong> to <a href='https://wandb.ai/kaimao-columbia-university/hpml-hw2-llm3' target=\"_blank\">Weights & Biases</a> (<a href='https://wandb.me/developer-guide' target=\"_blank\">docs</a>)<br>Sweep page: <a href='https://wandb.ai/kaimao-columbia-university/hpml-hw2-llm3/sweeps/ol99ftwm' target=\"_blank\">https://wandb.ai/kaimao-columbia-university/hpml-hw2-llm3/sweeps/ol99ftwm</a>"
      ],
      "text/plain": [
       "<IPython.core.display.HTML object>"
      ]
     },
     "metadata": {},
     "output_type": "display_data"
    },
    {
     "data": {
      "text/html": [
       " View project at <a href='https://wandb.ai/kaimao-columbia-university/hpml-hw2-llm3' target=\"_blank\">https://wandb.ai/kaimao-columbia-university/hpml-hw2-llm3</a>"
      ],
      "text/plain": [
       "<IPython.core.display.HTML object>"
      ]
     },
     "metadata": {},
     "output_type": "display_data"
    },
    {
     "data": {
      "text/html": [
       " View sweep at <a href='https://wandb.ai/kaimao-columbia-university/hpml-hw2-llm3/sweeps/ol99ftwm' target=\"_blank\">https://wandb.ai/kaimao-columbia-university/hpml-hw2-llm3/sweeps/ol99ftwm</a>"
      ],
      "text/plain": [
       "<IPython.core.display.HTML object>"
      ]
     },
     "metadata": {},
     "output_type": "display_data"
    },
    {
     "data": {
      "text/html": [
       " View run at <a href='https://wandb.ai/kaimao-columbia-university/hpml-hw2-llm3/runs/733fjja3' target=\"_blank\">https://wandb.ai/kaimao-columbia-university/hpml-hw2-llm3/runs/733fjja3</a>"
      ],
      "text/plain": [
       "<IPython.core.display.HTML object>"
      ]
     },
     "metadata": {},
     "output_type": "display_data"
    },
    {
     "name": "stderr",
     "output_type": "stream",
     "text": [
      "Some weights of DistilBertForSequenceClassification were not initialized from the model checkpoint at distilbert-base-uncased and are newly initialized: ['classifier.bias', 'classifier.weight', 'pre_classifier.bias', 'pre_classifier.weight']\n",
      "You should probably TRAIN this model on a down-stream task to be able to use it for predictions and inference.\n"
     ]
    },
    {
     "name": "stdout",
     "output_type": "stream",
     "text": [
      "---------start train: batch_size(64) lr(0.0001) num_workers(2) optimizer(AdamW)-----\n",
      "Epoch 1/5, Loss: 0.2942, Train Accuracy: 0.8734, Test Accuracy: 0.9015, data_loading time: 0.7395803928375244                 compute time: 40.36083436012268 total epoch time: 41.32348442077637\n",
      "-------------------------------------------------------------------------------\n",
      "Epoch 2/5, Loss: 0.1583, Train Accuracy: 0.9411, Test Accuracy: 0.9043, data_loading time: 0.7551038265228271                 compute time: 40.66460466384888 total epoch time: 41.65313982963562\n",
      "-------------------------------------------------------------------------------\n",
      "Epoch 3/5, Loss: 0.0768, Train Accuracy: 0.9735, Test Accuracy: 0.9009, data_loading time: 0.744041919708252                 compute time: 40.637380838394165 total epoch time: 41.61850595474243\n",
      "-------------------------------------------------------------------------------\n",
      "Epoch 4/5, Loss: 0.0468, Train Accuracy: 0.9836, Test Accuracy: 0.8866, data_loading time: 0.7412996292114258                 compute time: 40.652135133743286 total epoch time: 41.62603569030762\n",
      "-------------------------------------------------------------------------------\n",
      "Epoch 5/5, Loss: 0.0312, Train Accuracy: 0.9897, Test Accuracy: 0.8630, data_loading time: 0.7409250736236572                 compute time: 40.647944927215576 total epoch time: 41.62571740150452\n",
      "-------------------------------------------------------------------------------\n"
     ]
    },
    {
     "name": "stderr",
     "output_type": "stream",
     "text": [
      "\u001b[34m\u001b[1mwandb\u001b[0m: \u001b[32m\u001b[41mERROR\u001b[0m The nbformat package was not found. It is required to save notebook history.\n"
     ]
    },
    {
     "data": {
      "text/html": [],
      "text/plain": [
       "<IPython.core.display.HTML object>"
      ]
     },
     "metadata": {},
     "output_type": "display_data"
    },
    {
     "data": {
      "text/html": [
       "<br>    <style><br>        .wandb-row {<br>            display: flex;<br>            flex-direction: row;<br>            flex-wrap: wrap;<br>            justify-content: flex-start;<br>            width: 100%;<br>        }<br>        .wandb-col {<br>            display: flex;<br>            flex-direction: column;<br>            flex-basis: 100%;<br>            flex: 1;<br>            padding: 10px;<br>        }<br>    </style><br><div class=\"wandb-row\"><div class=\"wandb-col\"><h3>Run history:</h3><br/><table class=\"wandb\"><tr><td>compute time</td><td>▁█▇██</td></tr><tr><td>data-loading time</td><td>▁█▃▂▂</td></tr><tr><td>test/acc</td><td>██▇▅▁</td></tr><tr><td>total epoch time</td><td>▁█▇▇▇</td></tr><tr><td>train/acc</td><td>▁▅▇██</td></tr></table><br/></div><div class=\"wandb-col\"><h3>Run summary:</h3><br/><table class=\"wandb\"><tr><td>compute time</td><td>40.64794</td></tr><tr><td>data-loading time</td><td>0.74093</td></tr><tr><td>test/acc</td><td>0.86296</td></tr><tr><td>total epoch time</td><td>41.62572</td></tr><tr><td>train/acc</td><td>0.98972</td></tr></table><br/></div></div>"
      ],
      "text/plain": [
       "<IPython.core.display.HTML object>"
      ]
     },
     "metadata": {},
     "output_type": "display_data"
    },
    {
     "data": {
      "text/html": [
       " View run <strong style=\"color:#cdcd00\">lr0.0001_bs64_C6</strong> at: <a href='https://wandb.ai/kaimao-columbia-university/hpml-hw2-llm3/runs/733fjja3' target=\"_blank\">https://wandb.ai/kaimao-columbia-university/hpml-hw2-llm3/runs/733fjja3</a><br> View project at: <a href='https://wandb.ai/kaimao-columbia-university/hpml-hw2-llm3' target=\"_blank\">https://wandb.ai/kaimao-columbia-university/hpml-hw2-llm3</a><br>Synced 5 W&B file(s), 0 media file(s), 0 artifact file(s) and 0 other file(s)"
      ],
      "text/plain": [
       "<IPython.core.display.HTML object>"
      ]
     },
     "metadata": {},
     "output_type": "display_data"
    },
    {
     "data": {
      "text/html": [
       "Find logs at: <code>./wandb/run-20251024_071402-733fjja3/logs</code>"
      ],
      "text/plain": [
       "<IPython.core.display.HTML object>"
      ]
     },
     "metadata": {},
     "output_type": "display_data"
    },
    {
     "name": "stderr",
     "output_type": "stream",
     "text": [
      "\u001b[34m\u001b[1mwandb\u001b[0m: Agent Starting Run: xxz1nhu5 with config:\n",
      "\u001b[34m\u001b[1mwandb\u001b[0m: \tbatch_size: 64\n",
      "\u001b[34m\u001b[1mwandb\u001b[0m: \tlearning_rate: 0.0005\n",
      "\u001b[34m\u001b[1mwandb\u001b[0m: \u001b[32m\u001b[41mERROR\u001b[0m Failed to detect the name of this notebook. You can set it manually with the WANDB_NOTEBOOK_NAME environment variable to enable code saving.\n"
     ]
    },
    {
     "data": {
      "text/html": [],
      "text/plain": [
       "<IPython.core.display.HTML object>"
      ]
     },
     "metadata": {},
     "output_type": "display_data"
    },
    {
     "data": {
      "text/html": [
       "Tracking run with wandb version 0.22.2"
      ],
      "text/plain": [
       "<IPython.core.display.HTML object>"
      ]
     },
     "metadata": {},
     "output_type": "display_data"
    },
    {
     "data": {
      "text/html": [
       "Run data is saved locally in <code>/workspace/wandb/run-20251024_071910-xxz1nhu5</code>"
      ],
      "text/plain": [
       "<IPython.core.display.HTML object>"
      ]
     },
     "metadata": {},
     "output_type": "display_data"
    },
    {
     "data": {
      "text/html": [
       "Syncing run <strong><a href='https://wandb.ai/kaimao-columbia-university/hpml-hw2-llm3/runs/xxz1nhu5' target=\"_blank\">lunar-sweep-9</a></strong> to <a href='https://wandb.ai/kaimao-columbia-university/hpml-hw2-llm3' target=\"_blank\">Weights & Biases</a> (<a href='https://wandb.me/developer-guide' target=\"_blank\">docs</a>)<br>Sweep page: <a href='https://wandb.ai/kaimao-columbia-university/hpml-hw2-llm3/sweeps/ol99ftwm' target=\"_blank\">https://wandb.ai/kaimao-columbia-university/hpml-hw2-llm3/sweeps/ol99ftwm</a>"
      ],
      "text/plain": [
       "<IPython.core.display.HTML object>"
      ]
     },
     "metadata": {},
     "output_type": "display_data"
    },
    {
     "data": {
      "text/html": [
       " View project at <a href='https://wandb.ai/kaimao-columbia-university/hpml-hw2-llm3' target=\"_blank\">https://wandb.ai/kaimao-columbia-university/hpml-hw2-llm3</a>"
      ],
      "text/plain": [
       "<IPython.core.display.HTML object>"
      ]
     },
     "metadata": {},
     "output_type": "display_data"
    },
    {
     "data": {
      "text/html": [
       " View sweep at <a href='https://wandb.ai/kaimao-columbia-university/hpml-hw2-llm3/sweeps/ol99ftwm' target=\"_blank\">https://wandb.ai/kaimao-columbia-university/hpml-hw2-llm3/sweeps/ol99ftwm</a>"
      ],
      "text/plain": [
       "<IPython.core.display.HTML object>"
      ]
     },
     "metadata": {},
     "output_type": "display_data"
    },
    {
     "data": {
      "text/html": [
       " View run at <a href='https://wandb.ai/kaimao-columbia-university/hpml-hw2-llm3/runs/xxz1nhu5' target=\"_blank\">https://wandb.ai/kaimao-columbia-university/hpml-hw2-llm3/runs/xxz1nhu5</a>"
      ],
      "text/plain": [
       "<IPython.core.display.HTML object>"
      ]
     },
     "metadata": {},
     "output_type": "display_data"
    },
    {
     "name": "stderr",
     "output_type": "stream",
     "text": [
      "Some weights of DistilBertForSequenceClassification were not initialized from the model checkpoint at distilbert-base-uncased and are newly initialized: ['classifier.bias', 'classifier.weight', 'pre_classifier.bias', 'pre_classifier.weight']\n",
      "You should probably TRAIN this model on a down-stream task to be able to use it for predictions and inference.\n"
     ]
    },
    {
     "name": "stdout",
     "output_type": "stream",
     "text": [
      "---------start train: batch_size(64) lr(0.0005) num_workers(2) optimizer(AdamW)-----\n",
      "Epoch 1/5, Loss: 0.6968, Train Accuracy: 0.5070, Test Accuracy: 0.5000, data_loading time: 0.7187292575836182                 compute time: 40.23909902572632 total epoch time: 41.192381620407104\n",
      "-------------------------------------------------------------------------------\n",
      "Epoch 2/5, Loss: 0.6941, Train Accuracy: 0.4930, Test Accuracy: 0.5000, data_loading time: 0.7286243438720703                 compute time: 40.48895764350891 total epoch time: 41.44946217536926\n",
      "-------------------------------------------------------------------------------\n",
      "Epoch 3/5, Loss: 0.6933, Train Accuracy: 0.5028, Test Accuracy: 0.5000, data_loading time: 0.7374804019927979                 compute time: 40.398369550704956 total epoch time: 41.36970257759094\n",
      "-------------------------------------------------------------------------------\n",
      "Epoch 4/5, Loss: 0.6934, Train Accuracy: 0.5006, Test Accuracy: 0.5000, data_loading time: 0.7277779579162598                 compute time: 40.352370262145996 total epoch time: 41.311694383621216\n",
      "-------------------------------------------------------------------------------\n",
      "Epoch 5/5, Loss: 0.6932, Train Accuracy: 0.4996, Test Accuracy: 0.5000, data_loading time: 0.7392778396606445                 compute time: 40.3112633228302 total epoch time: 41.279520988464355\n",
      "-------------------------------------------------------------------------------\n"
     ]
    },
    {
     "name": "stderr",
     "output_type": "stream",
     "text": [
      "\u001b[34m\u001b[1mwandb\u001b[0m: \u001b[32m\u001b[41mERROR\u001b[0m The nbformat package was not found. It is required to save notebook history.\n"
     ]
    },
    {
     "data": {
      "text/html": [],
      "text/plain": [
       "<IPython.core.display.HTML object>"
      ]
     },
     "metadata": {},
     "output_type": "display_data"
    },
    {
     "data": {
      "text/html": [
       "<br>    <style><br>        .wandb-row {<br>            display: flex;<br>            flex-direction: row;<br>            flex-wrap: wrap;<br>            justify-content: flex-start;<br>            width: 100%;<br>        }<br>        .wandb-col {<br>            display: flex;<br>            flex-direction: column;<br>            flex-basis: 100%;<br>            flex: 1;<br>            padding: 10px;<br>        }<br>    </style><br><div class=\"wandb-row\"><div class=\"wandb-col\"><h3>Run history:</h3><br/><table class=\"wandb\"><tr><td>compute time</td><td>▁█▅▄▃</td></tr><tr><td>data-loading time</td><td>▁▄▇▄█</td></tr><tr><td>test/acc</td><td>▁▁▁▁▁</td></tr><tr><td>total epoch time</td><td>▁█▆▄▃</td></tr><tr><td>train/acc</td><td>█▁▆▅▄</td></tr></table><br/></div><div class=\"wandb-col\"><h3>Run summary:</h3><br/><table class=\"wandb\"><tr><td>compute time</td><td>40.31126</td></tr><tr><td>data-loading time</td><td>0.73928</td></tr><tr><td>test/acc</td><td>0.5</td></tr><tr><td>total epoch time</td><td>41.27952</td></tr><tr><td>train/acc</td><td>0.49956</td></tr></table><br/></div></div>"
      ],
      "text/plain": [
       "<IPython.core.display.HTML object>"
      ]
     },
     "metadata": {},
     "output_type": "display_data"
    },
    {
     "data": {
      "text/html": [
       " View run <strong style=\"color:#cdcd00\">lr0.0005_bs64_C6</strong> at: <a href='https://wandb.ai/kaimao-columbia-university/hpml-hw2-llm3/runs/xxz1nhu5' target=\"_blank\">https://wandb.ai/kaimao-columbia-university/hpml-hw2-llm3/runs/xxz1nhu5</a><br> View project at: <a href='https://wandb.ai/kaimao-columbia-university/hpml-hw2-llm3' target=\"_blank\">https://wandb.ai/kaimao-columbia-university/hpml-hw2-llm3</a><br>Synced 5 W&B file(s), 0 media file(s), 0 artifact file(s) and 0 other file(s)"
      ],
      "text/plain": [
       "<IPython.core.display.HTML object>"
      ]
     },
     "metadata": {},
     "output_type": "display_data"
    },
    {
     "data": {
      "text/html": [
       "Find logs at: <code>./wandb/run-20251024_071910-xxz1nhu5/logs</code>"
      ],
      "text/plain": [
       "<IPython.core.display.HTML object>"
      ]
     },
     "metadata": {},
     "output_type": "display_data"
    }
   ],
   "source": [
    "sweep_config = {\n",
    "    'method': 'grid',\n",
    "    'parameters': {\n",
    "        'batch_size': {'values': [16, 32, 64]},\n",
    "        'learning_rate': {'values': [5e-5, 1e-4, 5e-4]}\n",
    "    }\n",
    "}\n",
    "\n",
    "sweep_id = wandb.sweep(sweep_config, project=project_name)\n",
    "\n",
    "wandb.agent(sweep_id, function=train_C6, count=9)"
   ]
  },
  {
   "cell_type": "code",
   "execution_count": 41,
   "id": "d171437e",
   "metadata": {},
   "outputs": [],
   "source": [
    "def draw_heatmap(data, data_name):\n",
    "    batch_sizes = [16, 32, 64]\n",
    "    learning_rates = [5e-5, 1e-4, 5e-4]\n",
    "    extracted_data = [[0] * 3 for _ in range(3)]\n",
    "    for i in range(3):\n",
    "        for j in range(3):\n",
    "            extracted_data[i][j] = data[i * len(learning_rates) +  j][data_name]\n",
    "\n",
    "    fig, ax = plt.subplots(figsize=(6, 4))\n",
    "    im = ax.imshow(extracted_data, cmap=\"viridis\", origin=\"lower\")\n",
    "\n",
    "    # Label axes\n",
    "    ax.set_xticks(np.arange(len(learning_rates)))\n",
    "    ax.set_yticks(np.arange(len(batch_sizes)))\n",
    "    ax.set_xticklabels([f\"{lr:.0e}\" for lr in learning_rates])\n",
    "    ax.set_yticklabels(batch_sizes)\n",
    "\n",
    "    ax.set_xlabel(\"Learning Rate\")\n",
    "    ax.set_ylabel(\"Batch Size\")\n",
    "    ax.set_title(f\"Figure F6: {data_name} (seconds)\")\n",
    "\n",
    "    # Add colorbar\n",
    "    cbar = plt.colorbar(im, ax=ax)\n",
    "    cbar.set_label(f\"{data_name} (s)\")\n",
    "\n",
    "    # Annotate values on heatmap\n",
    "    for i in range(len(batch_sizes)):\n",
    "        for j in range(len(learning_rates)):\n",
    "            ax.text(j, i, f\"{extracted_data[i][j]:.4f}\",\n",
    "                    ha=\"center\", va=\"center\", color=\"white\", fontsize=9)\n",
    "\n",
    "    plt.tight_layout()\n",
    "    plt.show()\n"
   ]
  },
  {
   "cell_type": "code",
   "execution_count": 42,
   "id": "db2e7644-8e26-4a91-a588-e7a880eaae3c",
   "metadata": {},
   "outputs": [
    {
     "data": {
      "image/png": "[encoded data removed]",
      "text/plain": [
       "<Figure size 600x400 with 2 Axes>"
      ]
     },
     "metadata": {},
     "output_type": "display_data"
    }
   ],
   "source": [
    "draw_heatmap(avg_epoch_time, \"avg_epoch_time\")"
   ]
  },
  {
   "cell_type": "code",
   "execution_count": 43,
   "id": "3db99c91-a12c-4037-a385-fe10a863994a",
   "metadata": {},
   "outputs": [
    {
     "data": {
      "image/png": "[encoded data removed]",
      "text/plain": [
       "<Figure size 600x400 with 2 Axes>"
      ]
     },
     "metadata": {},
     "output_type": "display_data"
    }
   ],
   "source": [
    "draw_heatmap(final_test_accuracy, \"final_test_accuracy\")"
   ]
  },
  {
   "cell_type": "code",
   "execution_count": 44,
   "id": "3c94423b",
   "metadata": {},
   "outputs": [
    {
     "name": "stdout",
     "output_type": "stream",
     "text": [
      "[{'lr': 5e-05, 'batch_size': 16, 'avg_epoch_time': 51.78834919929504}, {'lr': 0.0001, 'batch_size': 16, 'avg_epoch_time': 51.55258145332336}, {'lr': 0.0005, 'batch_size': 16, 'avg_epoch_time': 50.841063022613525}, {'lr': 5e-05, 'batch_size': 32, 'avg_epoch_time': 44.143100595474245}, {'lr': 0.0001, 'batch_size': 32, 'avg_epoch_time': 44.30346474647522}, {'lr': 0.0005, 'batch_size': 32, 'avg_epoch_time': 43.955963706970216}, {'lr': 5e-05, 'batch_size': 64, 'avg_epoch_time': 41.54936318397522}, {'lr': 0.0001, 'batch_size': 64, 'avg_epoch_time': 41.56937665939331}, {'lr': 0.0005, 'batch_size': 64, 'avg_epoch_time': 41.320552349090576}] [{'lr': 5e-05, 'batch_size': 16, 'final_train_loss': 0.03710960883797508}, {'lr': 0.0001, 'batch_size': 16, 'final_train_loss': 0.05841411100556003}, {'lr': 0.0005, 'batch_size': 16, 'final_train_loss': 0.6938722445960237}, {'lr': 5e-05, 'batch_size': 32, 'final_train_loss': 0.027467254890471964}, {'lr': 0.0001, 'batch_size': 32, 'final_train_loss': 0.04203675107082443}, {'lr': 0.0005, 'batch_size': 32, 'final_train_loss': 0.6932823576433275}, {'lr': 5e-05, 'batch_size': 64, 'final_train_loss': 0.03462241081725758}, {'lr': 0.0001, 'batch_size': 64, 'final_train_loss': 0.031162475375250184}, {'lr': 0.0005, 'batch_size': 64, 'final_train_loss': 0.6932132436186457}] [{'lr': 5e-05, 'batch_size': 16, 'avg_train_accuracy': 0.9524800000000001}, {'lr': 0.0001, 'batch_size': 16, 'avg_train_accuracy': 0.942896}, {'lr': 0.0005, 'batch_size': 16, 'avg_train_accuracy': 0.49554400000000004}, {'lr': 5e-05, 'batch_size': 32, 'avg_train_accuracy': 0.9546240000000001}, {'lr': 0.0001, 'batch_size': 32, 'avg_train_accuracy': 0.9482240000000001}, {'lr': 0.0005, 'batch_size': 32, 'avg_train_accuracy': 0.49835199999999996}, {'lr': 5e-05, 'batch_size': 64, 'avg_train_accuracy': 0.9541600000000001}, {'lr': 0.0001, 'batch_size': 64, 'avg_train_accuracy': 0.9522400000000001}, {'lr': 0.0005, 'batch_size': 64, 'avg_train_accuracy': 0.5005919999999999}] [{'lr': 5e-05, 'batch_size': 16, 'final_test_accuracy': 0.88592}, {'lr': 0.0001, 'batch_size': 16, 'final_test_accuracy': 0.83656}, {'lr': 0.0005, 'batch_size': 16, 'final_test_accuracy': 0.5}, {'lr': 5e-05, 'batch_size': 32, 'final_test_accuracy': 0.90592}, {'lr': 0.0001, 'batch_size': 32, 'final_test_accuracy': 0.86356}, {'lr': 0.0005, 'batch_size': 32, 'final_test_accuracy': 0.5}, {'lr': 5e-05, 'batch_size': 64, 'final_test_accuracy': 0.90896}, {'lr': 0.0001, 'batch_size': 64, 'final_test_accuracy': 0.86296}, {'lr': 0.0005, 'batch_size': 64, 'final_test_accuracy': 0.5}]\n"
     ]
    }
   ],
   "source": [
    "print(avg_epoch_time, final_train_loss, avg_train_accuracy, final_test_accuracy)"
   ]
  },
  {
   "cell_type": "code",
   "execution_count": 50,
   "id": "8ec9eabe-0662-48c1-a24f-c02ec37fa80e",
   "metadata": {},
   "outputs": [
    {
     "name": "stderr",
     "output_type": "stream",
     "text": [
      "\u001b[34m\u001b[1mwandb\u001b[0m: Manually resetting W&B backend...\n"
     ]
    }
   ],
   "source": [
    "wandb.termlog(\"Manually resetting W&B backend...\")\n",
    "wandb.finish()\n",
    "wandb.teardown()\n",
    "\n",
    "# Clear the global run object\n",
    "wandb.run = None\n",
    "wandb._thread_local = None"
   ]
  },
  {
   "cell_type": "code",
   "execution_count": 51,
   "id": "c2787ecf-6d91-4737-ae85-ed58c7cbea5d",
   "metadata": {},
   "outputs": [
    {
     "name": "stderr",
     "output_type": "stream",
     "text": [
      "\u001b[34m\u001b[1mwandb\u001b[0m: \u001b[32m\u001b[41mERROR\u001b[0m Failed to detect the name of this notebook. You can set it manually with the WANDB_NOTEBOOK_NAME environment variable to enable code saving.\n"
     ]
    },
    {
     "data": {
      "text/html": [],
      "text/plain": [
       "<IPython.core.display.HTML object>"
      ]
     },
     "metadata": {},
     "output_type": "display_data"
    },
    {
     "data": {
      "text/html": [
       "Tracking run with wandb version 0.22.2"
      ],
      "text/plain": [
       "<IPython.core.display.HTML object>"
      ]
     },
     "metadata": {},
     "output_type": "display_data"
    },
    {
     "data": {
      "text/html": [
       "Run data is saved locally in <code>/workspace/wandb/run-20251024_072810-x9kvygof</code>"
      ],
      "text/plain": [
       "<IPython.core.display.HTML object>"
      ]
     },
     "metadata": {},
     "output_type": "display_data"
    },
    {
     "data": {
      "text/html": [
       "Syncing run <strong><a href='https://wandb.ai/kaimao-columbia-university/hpml-hw2-llm3/runs/x9kvygof' target=\"_blank\">C6 result</a></strong> to <a href='https://wandb.ai/kaimao-columbia-university/hpml-hw2-llm3' target=\"_blank\">Weights & Biases</a> (<a href='https://wandb.me/developer-guide' target=\"_blank\">docs</a>)<br>"
      ],
      "text/plain": [
       "<IPython.core.display.HTML object>"
      ]
     },
     "metadata": {},
     "output_type": "display_data"
    },
    {
     "data": {
      "text/html": [
       " View project at <a href='https://wandb.ai/kaimao-columbia-university/hpml-hw2-llm3' target=\"_blank\">https://wandb.ai/kaimao-columbia-university/hpml-hw2-llm3</a>"
      ],
      "text/plain": [
       "<IPython.core.display.HTML object>"
      ]
     },
     "metadata": {},
     "output_type": "display_data"
    },
    {
     "data": {
      "text/html": [
       " View run at <a href='https://wandb.ai/kaimao-columbia-university/hpml-hw2-llm3/runs/x9kvygof' target=\"_blank\">https://wandb.ai/kaimao-columbia-university/hpml-hw2-llm3/runs/x9kvygof</a>"
      ],
      "text/plain": [
       "<IPython.core.display.HTML object>"
      ]
     },
     "metadata": {},
     "output_type": "display_data"
    },
    {
     "name": "stdout",
     "output_type": "stream",
     "text": [
      "[{'Batch Size': 16, 'LR': 5e-05, 'Avg Epoch Time': 51.78834919929504, 'Final Train Loss': 0.03710960883797508, 'Train Acc': 0.9524800000000001, 'Test Acc': 0.88592}, {'Batch Size': 16, 'LR': 0.0001, 'Avg Epoch Time': 51.55258145332336, 'Final Train Loss': 0.05841411100556003, 'Train Acc': 0.942896, 'Test Acc': 0.83656}, {'Batch Size': 16, 'LR': 0.0005, 'Avg Epoch Time': 50.841063022613525, 'Final Train Loss': 0.6938722445960237, 'Train Acc': 0.49554400000000004, 'Test Acc': 0.5}, {'Batch Size': 32, 'LR': 5e-05, 'Avg Epoch Time': 44.143100595474245, 'Final Train Loss': 0.027467254890471964, 'Train Acc': 0.9546240000000001, 'Test Acc': 0.90592}, {'Batch Size': 32, 'LR': 0.0001, 'Avg Epoch Time': 44.30346474647522, 'Final Train Loss': 0.04203675107082443, 'Train Acc': 0.9482240000000001, 'Test Acc': 0.86356}, {'Batch Size': 32, 'LR': 0.0005, 'Avg Epoch Time': 43.955963706970216, 'Final Train Loss': 0.6932823576433275, 'Train Acc': 0.49835199999999996, 'Test Acc': 0.5}, {'Batch Size': 64, 'LR': 5e-05, 'Avg Epoch Time': 41.54936318397522, 'Final Train Loss': 0.03462241081725758, 'Train Acc': 0.9541600000000001, 'Test Acc': 0.90896}, {'Batch Size': 64, 'LR': 0.0001, 'Avg Epoch Time': 41.56937665939331, 'Final Train Loss': 0.031162475375250184, 'Train Acc': 0.9522400000000001, 'Test Acc': 0.86296}, {'Batch Size': 64, 'LR': 0.0005, 'Avg Epoch Time': 41.320552349090576, 'Final Train Loss': 0.6932132436186457, 'Train Acc': 0.5005919999999999, 'Test Acc': 0.5}]\n"
     ]
    },
    {
     "name": "stderr",
     "output_type": "stream",
     "text": [
      "\u001b[34m\u001b[1mwandb\u001b[0m: \u001b[32m\u001b[41mERROR\u001b[0m The nbformat package was not found. It is required to save notebook history.\n"
     ]
    },
    {
     "data": {
      "text/html": [],
      "text/plain": [
       "<IPython.core.display.HTML object>"
      ]
     },
     "metadata": {},
     "output_type": "display_data"
    },
    {
     "data": {
      "text/html": [
       " View run <strong style=\"color:#cdcd00\">C6 result</strong> at: <a href='https://wandb.ai/kaimao-columbia-university/hpml-hw2-llm3/runs/x9kvygof' target=\"_blank\">https://wandb.ai/kaimao-columbia-university/hpml-hw2-llm3/runs/x9kvygof</a><br> View project at: <a href='https://wandb.ai/kaimao-columbia-university/hpml-hw2-llm3' target=\"_blank\">https://wandb.ai/kaimao-columbia-university/hpml-hw2-llm3</a><br>Synced 5 W&B file(s), 1 media file(s), 2 artifact file(s) and 0 other file(s)"
      ],
      "text/plain": [
       "<IPython.core.display.HTML object>"
      ]
     },
     "metadata": {},
     "output_type": "display_data"
    },
    {
     "data": {
      "text/html": [
       "Find logs at: <code>./wandb/run-20251024_072810-x9kvygof/logs</code>"
      ],
      "text/plain": [
       "<IPython.core.display.HTML object>"
      ]
     },
     "metadata": {},
     "output_type": "display_data"
    }
   ],
   "source": [
    "wandb.init(project=project_name, group=\"Hyperparameter Sensitivity\", name=\"C6 result\")\n",
    "\n",
    "records = []\n",
    "for i in range(len(avg_epoch_time)):\n",
    "    records.append({\n",
    "        \"Batch Size\": avg_epoch_time[i][\"batch_size\"],\n",
    "        \"LR\": avg_epoch_time[i][\"lr\"],\n",
    "        \"Avg Epoch Time\": avg_epoch_time[i][\"avg_epoch_time\"],\n",
    "        \"Final Train Loss\": final_train_loss[i][\"final_train_loss\"],\n",
    "        \"Train Acc\": avg_train_accuracy[i][\"avg_train_accuracy\"],\n",
    "        \"Test Acc\": final_test_accuracy[i][\"final_test_accuracy\"]\n",
    "    })\n",
    "\n",
    "df = pd.DataFrame(records)\n",
    "print(records)\n",
    "wandb.log({\"C6_result\":wandb.Table(dataframe=df)})\n",
    "wandb.finish()"
   ]
  },
  {
   "cell_type": "markdown",
   "id": "1d4fa033",
   "metadata": {},
   "source": [
    "# C7"
   ]
  },
  {
   "cell_type": "code",
   "execution_count": null,
   "id": "8b414b36-af39-4d8a-ae3c-5af6a8e9558e",
   "metadata": {},
   "outputs": [],
   "source": []
  },
  {
   "cell_type": "code",
   "execution_count": 51,
   "id": "abfee77f-1105-400a-944d-e071a4fac36f",
   "metadata": {},
   "outputs": [],
   "source": [
    "avg_epoch_time = []\n",
    "final_test_accuracy = []\n",
    "avg_train_accuracy = []\n",
    "final_train_loss = []\n",
    "def train_C7():\n",
    "  with wandb.init(\n",
    "    group=\"Optimizer Comparison\",\n",
    "    config={\n",
    "        \"model_name\": \"distilbert-base-uncased\",\n",
    "        \"max_len\": 256, \n",
    "        \"batch_size\": 32,\n",
    "        \"learning_rate\": 1e-4,\n",
    "        \"num_workers\": 2,\n",
    "        \"epochs\": 5, \n",
    "        \"compile_mode\": False\n",
    "    }) as run:\n",
    "      config = wandb.config\n",
    "\n",
    "      run.name = f\"lr{wandb.config.learning_rate}_bs{wandb.config.batch_size}_optimizer{wandb.config.optimizer}_C7\"\n",
    "      train_loader = DataLoader(tokenized[\"train\"], batch_size=config.batch_size, shuffle=True, collate_fn=data_collator, num_workers=config.num_workers)\n",
    "      test_loader = DataLoader(tokenized[\"test\"], batch_size=config.batch_size, collate_fn=data_collator, num_workers=config.num_workers)\n",
    "      model_name = \"distilbert-base-uncased\"\n",
    "      model = DistilBertForSequenceClassification.from_pretrained(model_name, num_labels=2)\n",
    "      model.to(device)\n",
    "\n",
    "      sum_train_accuracy = 0\n",
    "    \n",
    "      optimizer = getattr(optim, config.optimizer)(model.parameters(), lr=config.learning_rate)\n",
    "      print(f\"---------start train: batch_size({config.batch_size}) lr({config.learning_rate}) num_workers({config.num_workers}) optimizer({config.optimizer})-----\")\n",
    "      train_loss = []\n",
    "      train_accuracy = []\n",
    "      test_accuracy = []\n",
    "      data_loading_time_arr = []\n",
    "      compute_time_arr = []\n",
    "      epoch_time_arr = []\n",
    "      avg_loss = 0\n",
    "    \n",
    "      for epoch in range(config.epochs):\n",
    "        model.train()\n",
    "        total_loss = 0\n",
    "        total_correct = 0\n",
    "        total_samples = 0\n",
    "        data_loading_time = 0\n",
    "        training_compute_time = 0\n",
    "        total_epoch_time = 0\n",
    "        start_data_loading = time.time()\n",
    "        start_epoch_time = time.time()\n",
    "        for batch in train_loader:\n",
    "            inputs = {\n",
    "                \"input_ids\": batch[\"input_ids\"].to(device),\n",
    "                \"attention_mask\": batch[\"attention_mask\"].to(device),\n",
    "                \"labels\": batch[\"labels\"].to(device),\n",
    "            }\n",
    "            torch.cuda.synchronize()\n",
    "            end = time.time()\n",
    "            data_loading_time +=  end - start_data_loading\n",
    "\n",
    "            start_compute = time.time()\n",
    "            optimizer.zero_grad()\n",
    "            outputs = model(**inputs)\n",
    "            loss = outputs.loss\n",
    "            loss.backward()\n",
    "            optimizer.step()\n",
    "    \n",
    "            torch.cuda.synchronize()\n",
    "            end = time.time()\n",
    "            training_compute_time += end - start_compute\n",
    "    \n",
    "            logits = outputs.logits\n",
    "            preds = torch.argmax(logits, dim = 1)\n",
    "            labels = batch[\"labels\"].to(device)\n",
    "            correct = (preds == labels).sum().item()\n",
    "            total_correct += correct\n",
    "            total_samples += len(labels)\n",
    "            total_loss += loss.item()\n",
    "    \n",
    "            start_data_loading = time.time()\n",
    "    \n",
    "        end = time.time()\n",
    "        total_epoch_time = end - start_epoch_time\n",
    "    \n",
    "        avg_loss = total_loss / len(train_loader)\n",
    "        avg_accuracy = total_correct / total_samples\n",
    "        train_loss.append(avg_loss)\n",
    "        train_accuracy.append(avg_accuracy)\n",
    "        sum_train_accuracy += avg_accuracy\n",
    "    \n",
    "        model.eval()\n",
    "        correct = 0\n",
    "        total = 0\n",
    "    \n",
    "        with torch.no_grad():\n",
    "            for batch in test_loader:\n",
    "                inputs = {\n",
    "                    \"input_ids\": batch[\"input_ids\"].to(device),\n",
    "                    \"attention_mask\": batch[\"attention_mask\"].to(device),\n",
    "                }\n",
    "                labels = batch[\"labels\"].to(device)\n",
    "    \n",
    "                logits = model(**inputs).logits\n",
    "                preds = torch.argmax(logits, dim=1)\n",
    "    \n",
    "                correct += (preds == labels).sum().item()\n",
    "                total += labels.size(0)\n",
    "    \n",
    "        accuracy = correct / total\n",
    "        test_accuracy.append(accuracy)\n",
    "    \n",
    "        wandb.log({\"train/loss\": train_loss,\n",
    "                  \"train/acc\": avg_accuracy,\n",
    "                  \"test/acc\": accuracy,\n",
    "                  \"data-loading time\": data_loading_time,\n",
    "                  \"compute time\": training_compute_time,\n",
    "                  \"total epoch time\": total_epoch_time})\n",
    "    \n",
    "        data_loading_time_arr.append(data_loading_time)\n",
    "        compute_time_arr.append(training_compute_time)\n",
    "        epoch_time_arr.append(total_epoch_time)\n",
    "        print(f\"Epoch {epoch+1}/{config.epochs}, Loss: {avg_loss:.4f}, Train Accuracy: {avg_accuracy:.4f}, Test Accuracy: {accuracy:.4f}, data_loading time: {data_loading_time} \\\n",
    "                compute time: {training_compute_time} total epoch time: {total_epoch_time}\")\n",
    "        print(f\"-------------------------------------------------------------------------------\")\n",
    "        \n",
    "      avg_epoch_time.append(sum(epoch_time_arr)/len(epoch_time_arr))\n",
    "      avg_train_accuracy.append(sum_train_accuracy/config.epochs)\n",
    "      final_train_loss.append(avg_loss)\n",
    "\n",
    "      model.eval()\n",
    "      correct = 0\n",
    "      total = 0\n",
    "    \n",
    "      with torch.no_grad():\n",
    "          for batch in test_loader:\n",
    "              inputs = {\n",
    "                  \"input_ids\": batch[\"input_ids\"].to(device),\n",
    "                  \"attention_mask\": batch[\"attention_mask\"].to(device),\n",
    "              }\n",
    "              labels = batch[\"labels\"].to(device)\n",
    "    \n",
    "              logits = model(**inputs).logits\n",
    "              preds = torch.argmax(logits, dim=1)\n",
    "    \n",
    "              correct += (preds == labels).sum().item()\n",
    "              total += labels.size(0)\n",
    "\n",
    "      accuracy = correct / total\n",
    "      final_test_accuracy.append(accuracy)\n",
    "      "
   ]
  },
  {
   "cell_type": "code",
   "execution_count": 52,
   "id": "6607b4e3-a1db-404b-ba17-e9625f62fdb4",
   "metadata": {},
   "outputs": [
    {
     "name": "stdout",
     "output_type": "stream",
     "text": [
      "Create sweep with ID: ag698rmo\n",
      "Sweep URL: https://wandb.ai/kaimao-columbia-university/hpml-hw2-llm3/sweeps/ag698rmo\n"
     ]
    },
    {
     "name": "stderr",
     "output_type": "stream",
     "text": [
      "\u001b[34m\u001b[1mwandb\u001b[0m: Agent Starting Run: uz3ic7vh with config:\n",
      "\u001b[34m\u001b[1mwandb\u001b[0m: \toptimizer: SGD\n",
      "\u001b[34m\u001b[1mwandb\u001b[0m: \u001b[32m\u001b[41mERROR\u001b[0m Failed to detect the name of this notebook. You can set it manually with the WANDB_NOTEBOOK_NAME environment variable to enable code saving.\n"
     ]
    },
    {
     "data": {
      "text/html": [],
      "text/plain": [
       "<IPython.core.display.HTML object>"
      ]
     },
     "metadata": {},
     "output_type": "display_data"
    },
    {
     "data": {
      "text/html": [
       "Tracking run with wandb version 0.22.2"
      ],
      "text/plain": [
       "<IPython.core.display.HTML object>"
      ]
     },
     "metadata": {},
     "output_type": "display_data"
    },
    {
     "data": {
      "text/html": [
       "Run data is saved locally in <code>/workspace/wandb/run-20251024_025906-uz3ic7vh</code>"
      ],
      "text/plain": [
       "<IPython.core.display.HTML object>"
      ]
     },
     "metadata": {},
     "output_type": "display_data"
    },
    {
     "data": {
      "text/html": [
       "Syncing run <strong><a href='https://wandb.ai/kaimao-columbia-university/hpml-hw2-llm3/runs/uz3ic7vh' target=\"_blank\">lucky-sweep-1</a></strong> to <a href='https://wandb.ai/kaimao-columbia-university/hpml-hw2-llm3' target=\"_blank\">Weights & Biases</a> (<a href='https://wandb.me/developer-guide' target=\"_blank\">docs</a>)<br>Sweep page: <a href='https://wandb.ai/kaimao-columbia-university/hpml-hw2-llm3/sweeps/ag698rmo' target=\"_blank\">https://wandb.ai/kaimao-columbia-university/hpml-hw2-llm3/sweeps/ag698rmo</a>"
      ],
      "text/plain": [
       "<IPython.core.display.HTML object>"
      ]
     },
     "metadata": {},
     "output_type": "display_data"
    },
    {
     "data": {
      "text/html": [
       " View project at <a href='https://wandb.ai/kaimao-columbia-university/hpml-hw2-llm3' target=\"_blank\">https://wandb.ai/kaimao-columbia-university/hpml-hw2-llm3</a>"
      ],
      "text/plain": [
       "<IPython.core.display.HTML object>"
      ]
     },
     "metadata": {},
     "output_type": "display_data"
    },
    {
     "data": {
      "text/html": [
       " View sweep at <a href='https://wandb.ai/kaimao-columbia-university/hpml-hw2-llm3/sweeps/ag698rmo' target=\"_blank\">https://wandb.ai/kaimao-columbia-university/hpml-hw2-llm3/sweeps/ag698rmo</a>"
      ],
      "text/plain": [
       "<IPython.core.display.HTML object>"
      ]
     },
     "metadata": {},
     "output_type": "display_data"
    },
    {
     "data": {
      "text/html": [
       " View run at <a href='https://wandb.ai/kaimao-columbia-university/hpml-hw2-llm3/runs/uz3ic7vh' target=\"_blank\">https://wandb.ai/kaimao-columbia-university/hpml-hw2-llm3/runs/uz3ic7vh</a>"
      ],
      "text/plain": [
       "<IPython.core.display.HTML object>"
      ]
     },
     "metadata": {},
     "output_type": "display_data"
    },
    {
     "name": "stderr",
     "output_type": "stream",
     "text": [
      "Some weights of DistilBertForSequenceClassification were not initialized from the model checkpoint at distilbert-base-uncased and are newly initialized: ['classifier.bias', 'classifier.weight', 'pre_classifier.bias', 'pre_classifier.weight']\n",
      "You should probably TRAIN this model on a down-stream task to be able to use it for predictions and inference.\n"
     ]
    },
    {
     "name": "stdout",
     "output_type": "stream",
     "text": [
      "---------start train: batch_size(32) lr(0.0001) num_workers(2) optimizer(SGD)-----\n"
     ]
    },
    {
     "name": "stderr",
     "output_type": "stream",
     "text": [
      "huggingface/tokenizers: The current process just got forked, after parallelism has already been used. Disabling parallelism to avoid deadlocks...\n",
      "To disable this warning, you can either:\n",
      "\t- Avoid using `tokenizers` before the fork if possible\n",
      "\t- Explicitly set the environment variable TOKENIZERS_PARALLELISM=(true | false)\n",
      "huggingface/tokenizers: The current process just got forked, after parallelism has already been used. Disabling parallelism to avoid deadlocks...\n",
      "To disable this warning, you can either:\n",
      "\t- Avoid using `tokenizers` before the fork if possible\n",
      "\t- Explicitly set the environment variable TOKENIZERS_PARALLELISM=(true | false)\n",
      "huggingface/tokenizers: The current process just got forked, after parallelism has already been used. Disabling parallelism to avoid deadlocks...\n",
      "To disable this warning, you can either:\n",
      "\t- Avoid using `tokenizers` before the fork if possible\n",
      "\t- Explicitly set the environment variable TOKENIZERS_PARALLELISM=(true | false)\n",
      "huggingface/tokenizers: The current process just got forked, after parallelism has already been used. Disabling parallelism to avoid deadlocks...\n",
      "To disable this warning, you can either:\n",
      "\t- Avoid using `tokenizers` before the fork if possible\n",
      "\t- Explicitly set the environment variable TOKENIZERS_PARALLELISM=(true | false)\n"
     ]
    },
    {
     "name": "stdout",
     "output_type": "stream",
     "text": [
      "Epoch 1/5, Loss: 0.6901, Train Accuracy: 0.5355, Test Accuracy: 0.6423, data_loading time: 1.5294487476348877                 compute time: 39.746360063552856 total epoch time: 41.6770966053009\n",
      "-------------------------------------------------------------------------------\n"
     ]
    },
    {
     "name": "stderr",
     "output_type": "stream",
     "text": [
      "huggingface/tokenizers: The current process just got forked, after parallelism has already been used. Disabling parallelism to avoid deadlocks...\n",
      "To disable this warning, you can either:\n",
      "\t- Avoid using `tokenizers` before the fork if possible\n",
      "\t- Explicitly set the environment variable TOKENIZERS_PARALLELISM=(true | false)\n",
      "huggingface/tokenizers: The current process just got forked, after parallelism has already been used. Disabling parallelism to avoid deadlocks...\n",
      "To disable this warning, you can either:\n",
      "\t- Avoid using `tokenizers` before the fork if possible\n",
      "\t- Explicitly set the environment variable TOKENIZERS_PARALLELISM=(true | false)\n",
      "huggingface/tokenizers: The current process just got forked, after parallelism has already been used. Disabling parallelism to avoid deadlocks...\n",
      "To disable this warning, you can either:\n",
      "\t- Avoid using `tokenizers` before the fork if possible\n",
      "\t- Explicitly set the environment variable TOKENIZERS_PARALLELISM=(true | false)\n",
      "huggingface/tokenizers: The current process just got forked, after parallelism has already been used. Disabling parallelism to avoid deadlocks...\n",
      "To disable this warning, you can either:\n",
      "\t- Avoid using `tokenizers` before the fork if possible\n",
      "\t- Explicitly set the environment variable TOKENIZERS_PARALLELISM=(true | false)\n"
     ]
    },
    {
     "name": "stdout",
     "output_type": "stream",
     "text": [
      "Epoch 2/5, Loss: 0.6870, Train Accuracy: 0.5646, Test Accuracy: 0.7062, data_loading time: 1.3255527019500732                 compute time: 40.08788824081421 total epoch time: 41.7652153968811\n",
      "-------------------------------------------------------------------------------\n"
     ]
    },
    {
     "name": "stderr",
     "output_type": "stream",
     "text": [
      "huggingface/tokenizers: The current process just got forked, after parallelism has already been used. Disabling parallelism to avoid deadlocks...\n",
      "To disable this warning, you can either:\n",
      "\t- Avoid using `tokenizers` before the fork if possible\n",
      "\t- Explicitly set the environment variable TOKENIZERS_PARALLELISM=(true | false)\n",
      "huggingface/tokenizers: The current process just got forked, after parallelism has already been used. Disabling parallelism to avoid deadlocks...\n",
      "To disable this warning, you can either:\n",
      "\t- Avoid using `tokenizers` before the fork if possible\n",
      "\t- Explicitly set the environment variable TOKENIZERS_PARALLELISM=(true | false)\n",
      "huggingface/tokenizers: The current process just got forked, after parallelism has already been used. Disabling parallelism to avoid deadlocks...\n",
      "To disable this warning, you can either:\n",
      "\t- Avoid using `tokenizers` before the fork if possible\n",
      "\t- Explicitly set the environment variable TOKENIZERS_PARALLELISM=(true | false)\n",
      "huggingface/tokenizers: The current process just got forked, after parallelism has already been used. Disabling parallelism to avoid deadlocks...\n",
      "To disable this warning, you can either:\n",
      "\t- Avoid using `tokenizers` before the fork if possible\n",
      "\t- Explicitly set the environment variable TOKENIZERS_PARALLELISM=(true | false)\n"
     ]
    },
    {
     "name": "stdout",
     "output_type": "stream",
     "text": [
      "Epoch 3/5, Loss: 0.6831, Train Accuracy: 0.5985, Test Accuracy: 0.7379, data_loading time: 1.2157022953033447                 compute time: 40.16151428222656 total epoch time: 41.72612023353577\n",
      "-------------------------------------------------------------------------------\n"
     ]
    },
    {
     "name": "stderr",
     "output_type": "stream",
     "text": [
      "huggingface/tokenizers: The current process just got forked, after parallelism has already been used. Disabling parallelism to avoid deadlocks...\n",
      "To disable this warning, you can either:\n",
      "\t- Avoid using `tokenizers` before the fork if possible\n",
      "\t- Explicitly set the environment variable TOKENIZERS_PARALLELISM=(true | false)\n",
      "huggingface/tokenizers: The current process just got forked, after parallelism has already been used. Disabling parallelism to avoid deadlocks...\n",
      "To disable this warning, you can either:\n",
      "\t- Avoid using `tokenizers` before the fork if possible\n",
      "\t- Explicitly set the environment variable TOKENIZERS_PARALLELISM=(true | false)\n",
      "huggingface/tokenizers: The current process just got forked, after parallelism has already been used. Disabling parallelism to avoid deadlocks...\n",
      "To disable this warning, you can either:\n",
      "\t- Avoid using `tokenizers` before the fork if possible\n",
      "\t- Explicitly set the environment variable TOKENIZERS_PARALLELISM=(true | false)\n",
      "huggingface/tokenizers: The current process just got forked, after parallelism has already been used. Disabling parallelism to avoid deadlocks...\n",
      "To disable this warning, you can either:\n",
      "\t- Avoid using `tokenizers` before the fork if possible\n",
      "\t- Explicitly set the environment variable TOKENIZERS_PARALLELISM=(true | false)\n"
     ]
    },
    {
     "name": "stdout",
     "output_type": "stream",
     "text": [
      "Epoch 4/5, Loss: 0.6774, Train Accuracy: 0.6454, Test Accuracy: 0.7638, data_loading time: 1.661303997039795                 compute time: 40.28585433959961 total epoch time: 42.32447147369385\n",
      "-------------------------------------------------------------------------------\n"
     ]
    },
    {
     "name": "stderr",
     "output_type": "stream",
     "text": [
      "huggingface/tokenizers: The current process just got forked, after parallelism has already been used. Disabling parallelism to avoid deadlocks...\n",
      "To disable this warning, you can either:\n",
      "\t- Avoid using `tokenizers` before the fork if possible\n",
      "\t- Explicitly set the environment variable TOKENIZERS_PARALLELISM=(true | false)\n",
      "huggingface/tokenizers: The current process just got forked, after parallelism has already been used. Disabling parallelism to avoid deadlocks...\n",
      "To disable this warning, you can either:\n",
      "\t- Avoid using `tokenizers` before the fork if possible\n",
      "\t- Explicitly set the environment variable TOKENIZERS_PARALLELISM=(true | false)\n",
      "huggingface/tokenizers: The current process just got forked, after parallelism has already been used. Disabling parallelism to avoid deadlocks...\n",
      "To disable this warning, you can either:\n",
      "\t- Avoid using `tokenizers` before the fork if possible\n",
      "\t- Explicitly set the environment variable TOKENIZERS_PARALLELISM=(true | false)\n",
      "huggingface/tokenizers: The current process just got forked, after parallelism has already been used. Disabling parallelism to avoid deadlocks...\n",
      "To disable this warning, you can either:\n",
      "\t- Avoid using `tokenizers` before the fork if possible\n",
      "\t- Explicitly set the environment variable TOKENIZERS_PARALLELISM=(true | false)\n"
     ]
    },
    {
     "name": "stdout",
     "output_type": "stream",
     "text": [
      "Epoch 5/5, Loss: 0.6688, Train Accuracy: 0.6917, Test Accuracy: 0.7910, data_loading time: 1.195335865020752                 compute time: 40.24841237068176 total epoch time: 41.75717902183533\n",
      "-------------------------------------------------------------------------------\n"
     ]
    },
    {
     "name": "stderr",
     "output_type": "stream",
     "text": [
      "huggingface/tokenizers: The current process just got forked, after parallelism has already been used. Disabling parallelism to avoid deadlocks...\n",
      "To disable this warning, you can either:\n",
      "\t- Avoid using `tokenizers` before the fork if possible\n",
      "\t- Explicitly set the environment variable TOKENIZERS_PARALLELISM=(true | false)\n",
      "huggingface/tokenizers: The current process just got forked, after parallelism has already been used. Disabling parallelism to avoid deadlocks...\n",
      "To disable this warning, you can either:\n",
      "\t- Avoid using `tokenizers` before the fork if possible\n",
      "\t- Explicitly set the environment variable TOKENIZERS_PARALLELISM=(true | false)\n",
      "\u001b[34m\u001b[1mwandb\u001b[0m: \u001b[32m\u001b[41mERROR\u001b[0m The nbformat package was not found. It is required to save notebook history.\n"
     ]
    },
    {
     "data": {
      "text/html": [],
      "text/plain": [
       "<IPython.core.display.HTML object>"
      ]
     },
     "metadata": {},
     "output_type": "display_data"
    },
    {
     "data": {
      "text/html": [
       "<br>    <style><br>        .wandb-row {<br>            display: flex;<br>            flex-direction: row;<br>            flex-wrap: wrap;<br>            justify-content: flex-start;<br>            width: 100%;<br>        }<br>        .wandb-col {<br>            display: flex;<br>            flex-direction: column;<br>            flex-basis: 100%;<br>            flex: 1;<br>            padding: 10px;<br>        }<br>    </style><br><div class=\"wandb-row\"><div class=\"wandb-col\"><h3>Run history:</h3><br/><table class=\"wandb\"><tr><td>compute time</td><td>▁▅▆██</td></tr><tr><td>data-loading time</td><td>▆▃▁█▁</td></tr><tr><td>test/acc</td><td>▁▄▅▇█</td></tr><tr><td>total epoch time</td><td>▁▂▂█▂</td></tr><tr><td>train/acc</td><td>▁▂▄▆█</td></tr></table><br/></div><div class=\"wandb-col\"><h3>Run summary:</h3><br/><table class=\"wandb\"><tr><td>compute time</td><td>40.24841</td></tr><tr><td>data-loading time</td><td>1.19534</td></tr><tr><td>test/acc</td><td>0.79104</td></tr><tr><td>total epoch time</td><td>41.75718</td></tr><tr><td>train/acc</td><td>0.69172</td></tr></table><br/></div></div>"
      ],
      "text/plain": [
       "<IPython.core.display.HTML object>"
      ]
     },
     "metadata": {},
     "output_type": "display_data"
    },
    {
     "data": {
      "text/html": [
       " View run <strong style=\"color:#cdcd00\">lr0.0001_bs32_optimizerSGD_C7</strong> at: <a href='https://wandb.ai/kaimao-columbia-university/hpml-hw2-llm3/runs/uz3ic7vh' target=\"_blank\">https://wandb.ai/kaimao-columbia-university/hpml-hw2-llm3/runs/uz3ic7vh</a><br> View project at: <a href='https://wandb.ai/kaimao-columbia-university/hpml-hw2-llm3' target=\"_blank\">https://wandb.ai/kaimao-columbia-university/hpml-hw2-llm3</a><br>Synced 5 W&B file(s), 0 media file(s), 0 artifact file(s) and 0 other file(s)"
      ],
      "text/plain": [
       "<IPython.core.display.HTML object>"
      ]
     },
     "metadata": {},
     "output_type": "display_data"
    },
    {
     "data": {
      "text/html": [
       "Find logs at: <code>./wandb/run-20251024_025906-uz3ic7vh/logs</code>"
      ],
      "text/plain": [
       "<IPython.core.display.HTML object>"
      ]
     },
     "metadata": {},
     "output_type": "display_data"
    },
    {
     "name": "stderr",
     "output_type": "stream",
     "text": [
      "\u001b[34m\u001b[1mwandb\u001b[0m: Agent Starting Run: owfjtgk8 with config:\n",
      "\u001b[34m\u001b[1mwandb\u001b[0m: \toptimizer: Adam\n",
      "\u001b[34m\u001b[1mwandb\u001b[0m: \u001b[32m\u001b[41mERROR\u001b[0m Failed to detect the name of this notebook. You can set it manually with the WANDB_NOTEBOOK_NAME environment variable to enable code saving.\n"
     ]
    },
    {
     "data": {
      "text/html": [],
      "text/plain": [
       "<IPython.core.display.HTML object>"
      ]
     },
     "metadata": {},
     "output_type": "display_data"
    },
    {
     "data": {
      "text/html": [
       "Tracking run with wandb version 0.22.2"
      ],
      "text/plain": [
       "<IPython.core.display.HTML object>"
      ]
     },
     "metadata": {},
     "output_type": "display_data"
    },
    {
     "data": {
      "text/html": [
       "Run data is saved locally in <code>/workspace/wandb/run-20251024_030434-owfjtgk8</code>"
      ],
      "text/plain": [
       "<IPython.core.display.HTML object>"
      ]
     },
     "metadata": {},
     "output_type": "display_data"
    },
    {
     "data": {
      "text/html": [
       "Syncing run <strong><a href='https://wandb.ai/kaimao-columbia-university/hpml-hw2-llm3/runs/owfjtgk8' target=\"_blank\">zany-sweep-2</a></strong> to <a href='https://wandb.ai/kaimao-columbia-university/hpml-hw2-llm3' target=\"_blank\">Weights & Biases</a> (<a href='https://wandb.me/developer-guide' target=\"_blank\">docs</a>)<br>Sweep page: <a href='https://wandb.ai/kaimao-columbia-university/hpml-hw2-llm3/sweeps/ag698rmo' target=\"_blank\">https://wandb.ai/kaimao-columbia-university/hpml-hw2-llm3/sweeps/ag698rmo</a>"
      ],
      "text/plain": [
       "<IPython.core.display.HTML object>"
      ]
     },
     "metadata": {},
     "output_type": "display_data"
    },
    {
     "data": {
      "text/html": [
       " View project at <a href='https://wandb.ai/kaimao-columbia-university/hpml-hw2-llm3' target=\"_blank\">https://wandb.ai/kaimao-columbia-university/hpml-hw2-llm3</a>"
      ],
      "text/plain": [
       "<IPython.core.display.HTML object>"
      ]
     },
     "metadata": {},
     "output_type": "display_data"
    },
    {
     "data": {
      "text/html": [
       " View sweep at <a href='https://wandb.ai/kaimao-columbia-university/hpml-hw2-llm3/sweeps/ag698rmo' target=\"_blank\">https://wandb.ai/kaimao-columbia-university/hpml-hw2-llm3/sweeps/ag698rmo</a>"
      ],
      "text/plain": [
       "<IPython.core.display.HTML object>"
      ]
     },
     "metadata": {},
     "output_type": "display_data"
    },
    {
     "data": {
      "text/html": [
       " View run at <a href='https://wandb.ai/kaimao-columbia-university/hpml-hw2-llm3/runs/owfjtgk8' target=\"_blank\">https://wandb.ai/kaimao-columbia-university/hpml-hw2-llm3/runs/owfjtgk8</a>"
      ],
      "text/plain": [
       "<IPython.core.display.HTML object>"
      ]
     },
     "metadata": {},
     "output_type": "display_data"
    },
    {
     "name": "stderr",
     "output_type": "stream",
     "text": [
      "Some weights of DistilBertForSequenceClassification were not initialized from the model checkpoint at distilbert-base-uncased and are newly initialized: ['classifier.bias', 'classifier.weight', 'pre_classifier.bias', 'pre_classifier.weight']\n",
      "You should probably TRAIN this model on a down-stream task to be able to use it for predictions and inference.\n"
     ]
    },
    {
     "name": "stdout",
     "output_type": "stream",
     "text": [
      "---------start train: batch_size(32) lr(0.0001) num_workers(2) optimizer(Adam)-----\n"
     ]
    },
    {
     "name": "stderr",
     "output_type": "stream",
     "text": [
      "huggingface/tokenizers: The current process just got forked, after parallelism has already been used. Disabling parallelism to avoid deadlocks...\n",
      "To disable this warning, you can either:\n",
      "\t- Avoid using `tokenizers` before the fork if possible\n",
      "\t- Explicitly set the environment variable TOKENIZERS_PARALLELISM=(true | false)\n",
      "huggingface/tokenizers: The current process just got forked, after parallelism has already been used. Disabling parallelism to avoid deadlocks...\n",
      "To disable this warning, you can either:\n",
      "\t- Avoid using `tokenizers` before the fork if possible\n",
      "\t- Explicitly set the environment variable TOKENIZERS_PARALLELISM=(true | false)\n",
      "huggingface/tokenizers: The current process just got forked, after parallelism has already been used. Disabling parallelism to avoid deadlocks...\n",
      "To disable this warning, you can either:\n",
      "\t- Avoid using `tokenizers` before the fork if possible\n",
      "\t- Explicitly set the environment variable TOKENIZERS_PARALLELISM=(true | false)\n",
      "huggingface/tokenizers: The current process just got forked, after parallelism has already been used. Disabling parallelism to avoid deadlocks...\n",
      "To disable this warning, you can either:\n",
      "\t- Avoid using `tokenizers` before the fork if possible\n",
      "\t- Explicitly set the environment variable TOKENIZERS_PARALLELISM=(true | false)\n"
     ]
    },
    {
     "name": "stdout",
     "output_type": "stream",
     "text": [
      "Epoch 1/5, Loss: 0.3091, Train Accuracy: 0.8702, Test Accuracy: 0.8963, data_loading time: 1.1931238174438477                 compute time: 41.82681155204773 total epoch time: 43.36403226852417\n",
      "-------------------------------------------------------------------------------\n"
     ]
    },
    {
     "name": "stderr",
     "output_type": "stream",
     "text": [
      "huggingface/tokenizers: The current process just got forked, after parallelism has already been used. Disabling parallelism to avoid deadlocks...\n",
      "To disable this warning, you can either:\n",
      "\t- Avoid using `tokenizers` before the fork if possible\n",
      "\t- Explicitly set the environment variable TOKENIZERS_PARALLELISM=(true | false)\n",
      "huggingface/tokenizers: The current process just got forked, after parallelism has already been used. Disabling parallelism to avoid deadlocks...\n",
      "To disable this warning, you can either:\n",
      "\t- Avoid using `tokenizers` before the fork if possible\n",
      "\t- Explicitly set the environment variable TOKENIZERS_PARALLELISM=(true | false)\n",
      "huggingface/tokenizers: The current process just got forked, after parallelism has already been used. Disabling parallelism to avoid deadlocks...\n",
      "To disable this warning, you can either:\n",
      "\t- Avoid using `tokenizers` before the fork if possible\n",
      "\t- Explicitly set the environment variable TOKENIZERS_PARALLELISM=(true | false)\n",
      "huggingface/tokenizers: The current process just got forked, after parallelism has already been used. Disabling parallelism to avoid deadlocks...\n",
      "To disable this warning, you can either:\n",
      "\t- Avoid using `tokenizers` before the fork if possible\n",
      "\t- Explicitly set the environment variable TOKENIZERS_PARALLELISM=(true | false)\n"
     ]
    },
    {
     "name": "stdout",
     "output_type": "stream",
     "text": [
      "Epoch 2/5, Loss: 0.1737, Train Accuracy: 0.9376, Test Accuracy: 0.8934, data_loading time: 1.3262810707092285                 compute time: 42.13050699234009 total epoch time: 43.81422972679138\n",
      "-------------------------------------------------------------------------------\n"
     ]
    },
    {
     "name": "stderr",
     "output_type": "stream",
     "text": [
      "huggingface/tokenizers: The current process just got forked, after parallelism has already been used. Disabling parallelism to avoid deadlocks...\n",
      "To disable this warning, you can either:\n",
      "\t- Avoid using `tokenizers` before the fork if possible\n",
      "\t- Explicitly set the environment variable TOKENIZERS_PARALLELISM=(true | false)\n",
      "huggingface/tokenizers: The current process just got forked, after parallelism has already been used. Disabling parallelism to avoid deadlocks...\n",
      "To disable this warning, you can either:\n",
      "\t- Avoid using `tokenizers` before the fork if possible\n",
      "\t- Explicitly set the environment variable TOKENIZERS_PARALLELISM=(true | false)\n",
      "huggingface/tokenizers: The current process just got forked, after parallelism has already been used. Disabling parallelism to avoid deadlocks...\n",
      "To disable this warning, you can either:\n",
      "\t- Avoid using `tokenizers` before the fork if possible\n",
      "\t- Explicitly set the environment variable TOKENIZERS_PARALLELISM=(true | false)\n",
      "huggingface/tokenizers: The current process just got forked, after parallelism has already been used. Disabling parallelism to avoid deadlocks...\n",
      "To disable this warning, you can either:\n",
      "\t- Avoid using `tokenizers` before the fork if possible\n",
      "\t- Explicitly set the environment variable TOKENIZERS_PARALLELISM=(true | false)\n"
     ]
    },
    {
     "name": "stdout",
     "output_type": "stream",
     "text": [
      "Epoch 3/5, Loss: 0.0948, Train Accuracy: 0.9681, Test Accuracy: 0.8849, data_loading time: 1.2684111595153809                 compute time: 42.10042643547058 total epoch time: 43.69369578361511\n",
      "-------------------------------------------------------------------------------\n"
     ]
    },
    {
     "name": "stderr",
     "output_type": "stream",
     "text": [
      "huggingface/tokenizers: The current process just got forked, after parallelism has already been used. Disabling parallelism to avoid deadlocks...\n",
      "To disable this warning, you can either:\n",
      "\t- Avoid using `tokenizers` before the fork if possible\n",
      "\t- Explicitly set the environment variable TOKENIZERS_PARALLELISM=(true | false)\n",
      "huggingface/tokenizers: The current process just got forked, after parallelism has already been used. Disabling parallelism to avoid deadlocks...\n",
      "To disable this warning, you can either:\n",
      "\t- Avoid using `tokenizers` before the fork if possible\n",
      "\t- Explicitly set the environment variable TOKENIZERS_PARALLELISM=(true | false)\n",
      "huggingface/tokenizers: The current process just got forked, after parallelism has already been used. Disabling parallelism to avoid deadlocks...\n",
      "To disable this warning, you can either:\n",
      "\t- Avoid using `tokenizers` before the fork if possible\n",
      "\t- Explicitly set the environment variable TOKENIZERS_PARALLELISM=(true | false)\n",
      "huggingface/tokenizers: The current process just got forked, after parallelism has already been used. Disabling parallelism to avoid deadlocks...\n",
      "To disable this warning, you can either:\n",
      "\t- Avoid using `tokenizers` before the fork if possible\n",
      "\t- Explicitly set the environment variable TOKENIZERS_PARALLELISM=(true | false)\n"
     ]
    },
    {
     "name": "stdout",
     "output_type": "stream",
     "text": [
      "Epoch 4/5, Loss: 0.0556, Train Accuracy: 0.9819, Test Accuracy: 0.8732, data_loading time: 1.413574457168579                 compute time: 42.19941258430481 total epoch time: 43.985220193862915\n",
      "-------------------------------------------------------------------------------\n"
     ]
    },
    {
     "name": "stderr",
     "output_type": "stream",
     "text": [
      "huggingface/tokenizers: The current process just got forked, after parallelism has already been used. Disabling parallelism to avoid deadlocks...\n",
      "To disable this warning, you can either:\n",
      "\t- Avoid using `tokenizers` before the fork if possible\n",
      "\t- Explicitly set the environment variable TOKENIZERS_PARALLELISM=(true | false)\n",
      "huggingface/tokenizers: The current process just got forked, after parallelism has already been used. Disabling parallelism to avoid deadlocks...\n",
      "To disable this warning, you can either:\n",
      "\t- Avoid using `tokenizers` before the fork if possible\n",
      "\t- Explicitly set the environment variable TOKENIZERS_PARALLELISM=(true | false)\n",
      "huggingface/tokenizers: The current process just got forked, after parallelism has already been used. Disabling parallelism to avoid deadlocks...\n",
      "To disable this warning, you can either:\n",
      "\t- Avoid using `tokenizers` before the fork if possible\n",
      "\t- Explicitly set the environment variable TOKENIZERS_PARALLELISM=(true | false)\n",
      "huggingface/tokenizers: The current process just got forked, after parallelism has already been used. Disabling parallelism to avoid deadlocks...\n",
      "To disable this warning, you can either:\n",
      "\t- Avoid using `tokenizers` before the fork if possible\n",
      "\t- Explicitly set the environment variable TOKENIZERS_PARALLELISM=(true | false)\n"
     ]
    },
    {
     "name": "stdout",
     "output_type": "stream",
     "text": [
      "Epoch 5/5, Loss: 0.0428, Train Accuracy: 0.9866, Test Accuracy: 0.8752, data_loading time: 1.2387244701385498                 compute time: 42.083521127700806 total epoch time: 43.66766166687012\n",
      "-------------------------------------------------------------------------------\n"
     ]
    },
    {
     "name": "stderr",
     "output_type": "stream",
     "text": [
      "huggingface/tokenizers: The current process just got forked, after parallelism has already been used. Disabling parallelism to avoid deadlocks...\n",
      "To disable this warning, you can either:\n",
      "\t- Avoid using `tokenizers` before the fork if possible\n",
      "\t- Explicitly set the environment variable TOKENIZERS_PARALLELISM=(true | false)\n",
      "huggingface/tokenizers: The current process just got forked, after parallelism has already been used. Disabling parallelism to avoid deadlocks...\n",
      "To disable this warning, you can either:\n",
      "\t- Avoid using `tokenizers` before the fork if possible\n",
      "\t- Explicitly set the environment variable TOKENIZERS_PARALLELISM=(true | false)\n",
      "\u001b[34m\u001b[1mwandb\u001b[0m: \u001b[32m\u001b[41mERROR\u001b[0m The nbformat package was not found. It is required to save notebook history.\n"
     ]
    },
    {
     "data": {
      "text/html": [],
      "text/plain": [
       "<IPython.core.display.HTML object>"
      ]
     },
     "metadata": {},
     "output_type": "display_data"
    },
    {
     "data": {
      "text/html": [
       "<br>    <style><br>        .wandb-row {<br>            display: flex;<br>            flex-direction: row;<br>            flex-wrap: wrap;<br>            justify-content: flex-start;<br>            width: 100%;<br>        }<br>        .wandb-col {<br>            display: flex;<br>            flex-direction: column;<br>            flex-basis: 100%;<br>            flex: 1;<br>            padding: 10px;<br>        }<br>    </style><br><div class=\"wandb-row\"><div class=\"wandb-col\"><h3>Run history:</h3><br/><table class=\"wandb\"><tr><td>compute time</td><td>▁▇▆█▆</td></tr><tr><td>data-loading time</td><td>▁▅▃█▂</td></tr><tr><td>test/acc</td><td>█▇▅▁▂</td></tr><tr><td>total epoch time</td><td>▁▆▅█▄</td></tr><tr><td>train/acc</td><td>▁▅▇██</td></tr></table><br/></div><div class=\"wandb-col\"><h3>Run summary:</h3><br/><table class=\"wandb\"><tr><td>compute time</td><td>42.08352</td></tr><tr><td>data-loading time</td><td>1.23872</td></tr><tr><td>test/acc</td><td>0.8752</td></tr><tr><td>total epoch time</td><td>43.66766</td></tr><tr><td>train/acc</td><td>0.98656</td></tr></table><br/></div></div>"
      ],
      "text/plain": [
       "<IPython.core.display.HTML object>"
      ]
     },
     "metadata": {},
     "output_type": "display_data"
    },
    {
     "data": {
      "text/html": [
       " View run <strong style=\"color:#cdcd00\">lr0.0001_bs32_optimizerAdam_C7</strong> at: <a href='https://wandb.ai/kaimao-columbia-university/hpml-hw2-llm3/runs/owfjtgk8' target=\"_blank\">https://wandb.ai/kaimao-columbia-university/hpml-hw2-llm3/runs/owfjtgk8</a><br> View project at: <a href='https://wandb.ai/kaimao-columbia-university/hpml-hw2-llm3' target=\"_blank\">https://wandb.ai/kaimao-columbia-university/hpml-hw2-llm3</a><br>Synced 5 W&B file(s), 0 media file(s), 0 artifact file(s) and 0 other file(s)"
      ],
      "text/plain": [
       "<IPython.core.display.HTML object>"
      ]
     },
     "metadata": {},
     "output_type": "display_data"
    },
    {
     "data": {
      "text/html": [
       "Find logs at: <code>./wandb/run-20251024_030434-owfjtgk8/logs</code>"
      ],
      "text/plain": [
       "<IPython.core.display.HTML object>"
      ]
     },
     "metadata": {},
     "output_type": "display_data"
    },
    {
     "name": "stderr",
     "output_type": "stream",
     "text": [
      "\u001b[34m\u001b[1mwandb\u001b[0m: Agent Starting Run: 0tg2qs0g with config:\n",
      "\u001b[34m\u001b[1mwandb\u001b[0m: \toptimizer: AdamW\n",
      "\u001b[34m\u001b[1mwandb\u001b[0m: \u001b[32m\u001b[41mERROR\u001b[0m Failed to detect the name of this notebook. You can set it manually with the WANDB_NOTEBOOK_NAME environment variable to enable code saving.\n"
     ]
    },
    {
     "data": {
      "text/html": [],
      "text/plain": [
       "<IPython.core.display.HTML object>"
      ]
     },
     "metadata": {},
     "output_type": "display_data"
    },
    {
     "data": {
      "text/html": [
       "Tracking run with wandb version 0.22.2"
      ],
      "text/plain": [
       "<IPython.core.display.HTML object>"
      ]
     },
     "metadata": {},
     "output_type": "display_data"
    },
    {
     "data": {
      "text/html": [
       "Run data is saved locally in <code>/workspace/wandb/run-20251024_031004-0tg2qs0g</code>"
      ],
      "text/plain": [
       "<IPython.core.display.HTML object>"
      ]
     },
     "metadata": {},
     "output_type": "display_data"
    },
    {
     "data": {
      "text/html": [
       "Syncing run <strong><a href='https://wandb.ai/kaimao-columbia-university/hpml-hw2-llm3/runs/0tg2qs0g' target=\"_blank\">clean-sweep-3</a></strong> to <a href='https://wandb.ai/kaimao-columbia-university/hpml-hw2-llm3' target=\"_blank\">Weights & Biases</a> (<a href='https://wandb.me/developer-guide' target=\"_blank\">docs</a>)<br>Sweep page: <a href='https://wandb.ai/kaimao-columbia-university/hpml-hw2-llm3/sweeps/ag698rmo' target=\"_blank\">https://wandb.ai/kaimao-columbia-university/hpml-hw2-llm3/sweeps/ag698rmo</a>"
      ],
      "text/plain": [
       "<IPython.core.display.HTML object>"
      ]
     },
     "metadata": {},
     "output_type": "display_data"
    },
    {
     "data": {
      "text/html": [
       " View project at <a href='https://wandb.ai/kaimao-columbia-university/hpml-hw2-llm3' target=\"_blank\">https://wandb.ai/kaimao-columbia-university/hpml-hw2-llm3</a>"
      ],
      "text/plain": [
       "<IPython.core.display.HTML object>"
      ]
     },
     "metadata": {},
     "output_type": "display_data"
    },
    {
     "data": {
      "text/html": [
       " View sweep at <a href='https://wandb.ai/kaimao-columbia-university/hpml-hw2-llm3/sweeps/ag698rmo' target=\"_blank\">https://wandb.ai/kaimao-columbia-university/hpml-hw2-llm3/sweeps/ag698rmo</a>"
      ],
      "text/plain": [
       "<IPython.core.display.HTML object>"
      ]
     },
     "metadata": {},
     "output_type": "display_data"
    },
    {
     "data": {
      "text/html": [
       " View run at <a href='https://wandb.ai/kaimao-columbia-university/hpml-hw2-llm3/runs/0tg2qs0g' target=\"_blank\">https://wandb.ai/kaimao-columbia-university/hpml-hw2-llm3/runs/0tg2qs0g</a>"
      ],
      "text/plain": [
       "<IPython.core.display.HTML object>"
      ]
     },
     "metadata": {},
     "output_type": "display_data"
    },
    {
     "name": "stderr",
     "output_type": "stream",
     "text": [
      "Some weights of DistilBertForSequenceClassification were not initialized from the model checkpoint at distilbert-base-uncased and are newly initialized: ['classifier.bias', 'classifier.weight', 'pre_classifier.bias', 'pre_classifier.weight']\n",
      "You should probably TRAIN this model on a down-stream task to be able to use it for predictions and inference.\n"
     ]
    },
    {
     "name": "stdout",
     "output_type": "stream",
     "text": [
      "---------start train: batch_size(32) lr(0.0001) num_workers(2) optimizer(AdamW)-----\n"
     ]
    },
    {
     "name": "stderr",
     "output_type": "stream",
     "text": [
      "huggingface/tokenizers: The current process just got forked, after parallelism has already been used. Disabling parallelism to avoid deadlocks...\n",
      "To disable this warning, you can either:\n",
      "\t- Avoid using `tokenizers` before the fork if possible\n",
      "\t- Explicitly set the environment variable TOKENIZERS_PARALLELISM=(true | false)\n",
      "huggingface/tokenizers: The current process just got forked, after parallelism has already been used. Disabling parallelism to avoid deadlocks...\n",
      "To disable this warning, you can either:\n",
      "\t- Avoid using `tokenizers` before the fork if possible\n",
      "\t- Explicitly set the environment variable TOKENIZERS_PARALLELISM=(true | false)\n",
      "huggingface/tokenizers: The current process just got forked, after parallelism has already been used. Disabling parallelism to avoid deadlocks...\n",
      "To disable this warning, you can either:\n",
      "\t- Avoid using `tokenizers` before the fork if possible\n",
      "\t- Explicitly set the environment variable TOKENIZERS_PARALLELISM=(true | false)\n",
      "huggingface/tokenizers: The current process just got forked, after parallelism has already been used. Disabling parallelism to avoid deadlocks...\n",
      "To disable this warning, you can either:\n",
      "\t- Avoid using `tokenizers` before the fork if possible\n",
      "\t- Explicitly set the environment variable TOKENIZERS_PARALLELISM=(true | false)\n"
     ]
    },
    {
     "name": "stdout",
     "output_type": "stream",
     "text": [
      "Epoch 1/5, Loss: 0.3277, Train Accuracy: 0.8561, Test Accuracy: 0.8962, data_loading time: 1.2141618728637695                 compute time: 42.11078214645386 total epoch time: 43.668431997299194\n",
      "-------------------------------------------------------------------------------\n"
     ]
    },
    {
     "name": "stderr",
     "output_type": "stream",
     "text": [
      "huggingface/tokenizers: The current process just got forked, after parallelism has already been used. Disabling parallelism to avoid deadlocks...\n",
      "To disable this warning, you can either:\n",
      "\t- Avoid using `tokenizers` before the fork if possible\n",
      "\t- Explicitly set the environment variable TOKENIZERS_PARALLELISM=(true | false)\n",
      "huggingface/tokenizers: The current process just got forked, after parallelism has already been used. Disabling parallelism to avoid deadlocks...\n",
      "To disable this warning, you can either:\n",
      "\t- Avoid using `tokenizers` before the fork if possible\n",
      "\t- Explicitly set the environment variable TOKENIZERS_PARALLELISM=(true | false)\n",
      "huggingface/tokenizers: The current process just got forked, after parallelism has already been used. Disabling parallelism to avoid deadlocks...\n",
      "To disable this warning, you can either:\n",
      "\t- Avoid using `tokenizers` before the fork if possible\n",
      "\t- Explicitly set the environment variable TOKENIZERS_PARALLELISM=(true | false)\n",
      "huggingface/tokenizers: The current process just got forked, after parallelism has already been used. Disabling parallelism to avoid deadlocks...\n",
      "To disable this warning, you can either:\n",
      "\t- Avoid using `tokenizers` before the fork if possible\n",
      "\t- Explicitly set the environment variable TOKENIZERS_PARALLELISM=(true | false)\n"
     ]
    },
    {
     "name": "stdout",
     "output_type": "stream",
     "text": [
      "Epoch 2/5, Loss: 0.1756, Train Accuracy: 0.9337, Test Accuracy: 0.8796, data_loading time: 1.4400174617767334                 compute time: 42.49151945114136 total epoch time: 44.29966640472412\n",
      "-------------------------------------------------------------------------------\n"
     ]
    },
    {
     "name": "stderr",
     "output_type": "stream",
     "text": [
      "huggingface/tokenizers: The current process just got forked, after parallelism has already been used. Disabling parallelism to avoid deadlocks...\n",
      "To disable this warning, you can either:\n",
      "\t- Avoid using `tokenizers` before the fork if possible\n",
      "\t- Explicitly set the environment variable TOKENIZERS_PARALLELISM=(true | false)\n",
      "huggingface/tokenizers: The current process just got forked, after parallelism has already been used. Disabling parallelism to avoid deadlocks...\n",
      "To disable this warning, you can either:\n",
      "\t- Avoid using `tokenizers` before the fork if possible\n",
      "\t- Explicitly set the environment variable TOKENIZERS_PARALLELISM=(true | false)\n",
      "huggingface/tokenizers: The current process just got forked, after parallelism has already been used. Disabling parallelism to avoid deadlocks...\n",
      "To disable this warning, you can either:\n",
      "\t- Avoid using `tokenizers` before the fork if possible\n",
      "\t- Explicitly set the environment variable TOKENIZERS_PARALLELISM=(true | false)\n",
      "huggingface/tokenizers: The current process just got forked, after parallelism has already been used. Disabling parallelism to avoid deadlocks...\n",
      "To disable this warning, you can either:\n",
      "\t- Avoid using `tokenizers` before the fork if possible\n",
      "\t- Explicitly set the environment variable TOKENIZERS_PARALLELISM=(true | false)\n"
     ]
    },
    {
     "name": "stdout",
     "output_type": "stream",
     "text": [
      "Epoch 3/5, Loss: 0.0942, Train Accuracy: 0.9682, Test Accuracy: 0.8770, data_loading time: 1.3452110290527344                 compute time: 42.47234344482422 total epoch time: 44.17823624610901\n",
      "-------------------------------------------------------------------------------\n"
     ]
    },
    {
     "name": "stderr",
     "output_type": "stream",
     "text": [
      "huggingface/tokenizers: The current process just got forked, after parallelism has already been used. Disabling parallelism to avoid deadlocks...\n",
      "To disable this warning, you can either:\n",
      "\t- Avoid using `tokenizers` before the fork if possible\n",
      "\t- Explicitly set the environment variable TOKENIZERS_PARALLELISM=(true | false)\n",
      "huggingface/tokenizers: The current process just got forked, after parallelism has already been used. Disabling parallelism to avoid deadlocks...\n",
      "To disable this warning, you can either:\n",
      "\t- Avoid using `tokenizers` before the fork if possible\n",
      "\t- Explicitly set the environment variable TOKENIZERS_PARALLELISM=(true | false)\n",
      "huggingface/tokenizers: The current process just got forked, after parallelism has already been used. Disabling parallelism to avoid deadlocks...\n",
      "To disable this warning, you can either:\n",
      "\t- Avoid using `tokenizers` before the fork if possible\n",
      "\t- Explicitly set the environment variable TOKENIZERS_PARALLELISM=(true | false)\n",
      "huggingface/tokenizers: The current process just got forked, after parallelism has already been used. Disabling parallelism to avoid deadlocks...\n",
      "To disable this warning, you can either:\n",
      "\t- Avoid using `tokenizers` before the fork if possible\n",
      "\t- Explicitly set the environment variable TOKENIZERS_PARALLELISM=(true | false)\n"
     ]
    },
    {
     "name": "stdout",
     "output_type": "stream",
     "text": [
      "Epoch 4/5, Loss: 0.0619, Train Accuracy: 0.9798, Test Accuracy: 0.8719, data_loading time: 1.2391769886016846                 compute time: 42.401289224624634 total epoch time: 43.9822461605072\n",
      "-------------------------------------------------------------------------------\n"
     ]
    },
    {
     "name": "stderr",
     "output_type": "stream",
     "text": [
      "huggingface/tokenizers: The current process just got forked, after parallelism has already been used. Disabling parallelism to avoid deadlocks...\n",
      "To disable this warning, you can either:\n",
      "\t- Avoid using `tokenizers` before the fork if possible\n",
      "\t- Explicitly set the environment variable TOKENIZERS_PARALLELISM=(true | false)\n",
      "huggingface/tokenizers: The current process just got forked, after parallelism has already been used. Disabling parallelism to avoid deadlocks...\n",
      "To disable this warning, you can either:\n",
      "\t- Avoid using `tokenizers` before the fork if possible\n",
      "\t- Explicitly set the environment variable TOKENIZERS_PARALLELISM=(true | false)\n",
      "huggingface/tokenizers: The current process just got forked, after parallelism has already been used. Disabling parallelism to avoid deadlocks...\n",
      "To disable this warning, you can either:\n",
      "\t- Avoid using `tokenizers` before the fork if possible\n",
      "\t- Explicitly set the environment variable TOKENIZERS_PARALLELISM=(true | false)\n",
      "huggingface/tokenizers: The current process just got forked, after parallelism has already been used. Disabling parallelism to avoid deadlocks...\n",
      "To disable this warning, you can either:\n",
      "\t- Avoid using `tokenizers` before the fork if possible\n",
      "\t- Explicitly set the environment variable TOKENIZERS_PARALLELISM=(true | false)\n"
     ]
    },
    {
     "name": "stdout",
     "output_type": "stream",
     "text": [
      "Epoch 5/5, Loss: 0.0397, Train Accuracy: 0.9870, Test Accuracy: 0.8628, data_loading time: 1.3745265007019043                 compute time: 42.46309995651245 total epoch time: 44.2026469707489\n",
      "-------------------------------------------------------------------------------\n"
     ]
    },
    {
     "name": "stderr",
     "output_type": "stream",
     "text": [
      "huggingface/tokenizers: The current process just got forked, after parallelism has already been used. Disabling parallelism to avoid deadlocks...\n",
      "To disable this warning, you can either:\n",
      "\t- Avoid using `tokenizers` before the fork if possible\n",
      "\t- Explicitly set the environment variable TOKENIZERS_PARALLELISM=(true | false)\n",
      "huggingface/tokenizers: The current process just got forked, after parallelism has already been used. Disabling parallelism to avoid deadlocks...\n",
      "To disable this warning, you can either:\n",
      "\t- Avoid using `tokenizers` before the fork if possible\n",
      "\t- Explicitly set the environment variable TOKENIZERS_PARALLELISM=(true | false)\n",
      "\u001b[34m\u001b[1mwandb\u001b[0m: \u001b[32m\u001b[41mERROR\u001b[0m The nbformat package was not found. It is required to save notebook history.\n"
     ]
    },
    {
     "data": {
      "text/html": [],
      "text/plain": [
       "<IPython.core.display.HTML object>"
      ]
     },
     "metadata": {},
     "output_type": "display_data"
    },
    {
     "data": {
      "text/html": [
       "<br>    <style><br>        .wandb-row {<br>            display: flex;<br>            flex-direction: row;<br>            flex-wrap: wrap;<br>            justify-content: flex-start;<br>            width: 100%;<br>        }<br>        .wandb-col {<br>            display: flex;<br>            flex-direction: column;<br>            flex-basis: 100%;<br>            flex: 1;<br>            padding: 10px;<br>        }<br>    </style><br><div class=\"wandb-row\"><div class=\"wandb-col\"><h3>Run history:</h3><br/><table class=\"wandb\"><tr><td>compute time</td><td>▁██▆▇</td></tr><tr><td>data-loading time</td><td>▁█▅▂▆</td></tr><tr><td>test/acc</td><td>█▅▄▃▁</td></tr><tr><td>total epoch time</td><td>▁█▇▄▇</td></tr><tr><td>train/acc</td><td>▁▅▇██</td></tr></table><br/></div><div class=\"wandb-col\"><h3>Run summary:</h3><br/><table class=\"wandb\"><tr><td>compute time</td><td>42.4631</td></tr><tr><td>data-loading time</td><td>1.37453</td></tr><tr><td>test/acc</td><td>0.86284</td></tr><tr><td>total epoch time</td><td>44.20265</td></tr><tr><td>train/acc</td><td>0.987</td></tr></table><br/></div></div>"
      ],
      "text/plain": [
       "<IPython.core.display.HTML object>"
      ]
     },
     "metadata": {},
     "output_type": "display_data"
    },
    {
     "data": {
      "text/html": [
       " View run <strong style=\"color:#cdcd00\">lr0.0001_bs32_optimizerAdamW_C7</strong> at: <a href='https://wandb.ai/kaimao-columbia-university/hpml-hw2-llm3/runs/0tg2qs0g' target=\"_blank\">https://wandb.ai/kaimao-columbia-university/hpml-hw2-llm3/runs/0tg2qs0g</a><br> View project at: <a href='https://wandb.ai/kaimao-columbia-university/hpml-hw2-llm3' target=\"_blank\">https://wandb.ai/kaimao-columbia-university/hpml-hw2-llm3</a><br>Synced 5 W&B file(s), 0 media file(s), 0 artifact file(s) and 0 other file(s)"
      ],
      "text/plain": [
       "<IPython.core.display.HTML object>"
      ]
     },
     "metadata": {},
     "output_type": "display_data"
    },
    {
     "data": {
      "text/html": [
       "Find logs at: <code>./wandb/run-20251024_031004-0tg2qs0g/logs</code>"
      ],
      "text/plain": [
       "<IPython.core.display.HTML object>"
      ]
     },
     "metadata": {},
     "output_type": "display_data"
    }
   ],
   "source": [
    "sweep_config = {\n",
    "    'method': 'grid',\n",
    "    'parameters': {\n",
    "        \"optimizer\":{'values': [\"SGD\", \"Adam\", \"AdamW\"]}\n",
    "    }\n",
    "}\n",
    "\n",
    "sweep_id = wandb.sweep(sweep_config, project=project_name)\n",
    "\n",
    "wandb.agent(sweep_id, function=train_C7, count=3)\n",
    "wandb.finish()"
   ]
  },
  {
   "cell_type": "code",
   "execution_count": 53,
   "id": "dce3c2ce",
   "metadata": {},
   "outputs": [
    {
     "data": {
      "image/png": "[encoded data removed]",
      "text/plain": [
       "<Figure size 600x400 with 1 Axes>"
      ]
     },
     "metadata": {},
     "output_type": "display_data"
    }
   ],
   "source": [
    "optimizers = [\"SGD\", \"Adam\", \"AdamW\"]\n",
    "\n",
    "# Create figure\n",
    "plt.figure(figsize=(6, 4))\n",
    "bars = plt.bar(optimizers, avg_epoch_time)\n",
    "\n",
    "# Add labels and title\n",
    "plt.xlabel(\"Optimizer\")\n",
    "plt.ylabel(\"Average Epoch Time (seconds)\")\n",
    "plt.title(\"Figure F7: Average Epoch Time by Optimizer\")\n",
    "\n",
    "# Annotate values on top of bars\n",
    "for bar in bars:\n",
    "    height = bar.get_height()\n",
    "    plt.text(bar.get_x() + bar.get_width() / 2, height + 0.5,\n",
    "             f\"{height:.1f}\", ha='center', va='bottom', fontsize=10)\n",
    "\n",
    "plt.tight_layout()\n",
    "plt.show()"
   ]
  },
  {
   "cell_type": "code",
   "execution_count": 54,
   "id": "e1cef40a",
   "metadata": {},
   "outputs": [
    {
     "name": "stdout",
     "output_type": "stream",
     "text": [
      "[41.85001654624939, 43.70496792793274, 44.066245555877686] [0.6688132436226701, 0.0427789768023813, 0.03970071057877009] [0.60712, 0.9488480000000001, 0.9449759999999999] [0.79104, 0.8752, 0.86284]\n"
     ]
    }
   ],
   "source": [
    "print(avg_epoch_time, final_train_loss, avg_train_accuracy, final_test_accuracy)"
   ]
  },
  {
   "cell_type": "code",
   "execution_count": 61,
   "id": "595419fb-266a-4d3a-8ab3-dcfffdd61db9",
   "metadata": {},
   "outputs": [
    {
     "name": "stderr",
     "output_type": "stream",
     "text": [
      "\u001b[34m\u001b[1mwandb\u001b[0m: Manually resetting W&B backend...\n"
     ]
    }
   ],
   "source": [
    "wandb.termlog(\"Manually resetting W&B backend...\")\n",
    "wandb.finish()\n",
    "wandb.teardown()\n",
    "\n",
    "# Clear the global run object\n",
    "wandb.run = None\n",
    "wandb._thread_local = None"
   ]
  },
  {
   "cell_type": "code",
   "execution_count": 62,
   "id": "a5806200-3bec-4f3c-a95d-164c59b0e88e",
   "metadata": {},
   "outputs": [
    {
     "name": "stderr",
     "output_type": "stream",
     "text": [
      "\u001b[34m\u001b[1mwandb\u001b[0m: \u001b[32m\u001b[41mERROR\u001b[0m Failed to detect the name of this notebook. You can set it manually with the WANDB_NOTEBOOK_NAME environment variable to enable code saving.\n"
     ]
    },
    {
     "data": {
      "text/html": [],
      "text/plain": [
       "<IPython.core.display.HTML object>"
      ]
     },
     "metadata": {},
     "output_type": "display_data"
    },
    {
     "data": {
      "text/html": [
       "Tracking run with wandb version 0.22.2"
      ],
      "text/plain": [
       "<IPython.core.display.HTML object>"
      ]
     },
     "metadata": {},
     "output_type": "display_data"
    },
    {
     "data": {
      "text/html": [
       "Run data is saved locally in <code>/workspace/wandb/run-20251024_032226-05qxgcyf</code>"
      ],
      "text/plain": [
       "<IPython.core.display.HTML object>"
      ]
     },
     "metadata": {},
     "output_type": "display_data"
    },
    {
     "data": {
      "text/html": [
       "Syncing run <strong><a href='https://wandb.ai/kaimao-columbia-university/hpml-hw2-llm3/runs/05qxgcyf' target=\"_blank\">C7_result</a></strong> to <a href='https://wandb.ai/kaimao-columbia-university/hpml-hw2-llm3' target=\"_blank\">Weights & Biases</a> (<a href='https://wandb.me/developer-guide' target=\"_blank\">docs</a>)<br>"
      ],
      "text/plain": [
       "<IPython.core.display.HTML object>"
      ]
     },
     "metadata": {},
     "output_type": "display_data"
    },
    {
     "data": {
      "text/html": [
       " View project at <a href='https://wandb.ai/kaimao-columbia-university/hpml-hw2-llm3' target=\"_blank\">https://wandb.ai/kaimao-columbia-university/hpml-hw2-llm3</a>"
      ],
      "text/plain": [
       "<IPython.core.display.HTML object>"
      ]
     },
     "metadata": {},
     "output_type": "display_data"
    },
    {
     "data": {
      "text/html": [
       " View run at <a href='https://wandb.ai/kaimao-columbia-university/hpml-hw2-llm3/runs/05qxgcyf' target=\"_blank\">https://wandb.ai/kaimao-columbia-university/hpml-hw2-llm3/runs/05qxgcyf</a>"
      ],
      "text/plain": [
       "<IPython.core.display.HTML object>"
      ]
     },
     "metadata": {},
     "output_type": "display_data"
    },
    {
     "name": "stderr",
     "output_type": "stream",
     "text": [
      "\u001b[34m\u001b[1mwandb\u001b[0m: \u001b[32m\u001b[41mERROR\u001b[0m The nbformat package was not found. It is required to save notebook history.\n"
     ]
    },
    {
     "data": {
      "text/html": [],
      "text/plain": [
       "<IPython.core.display.HTML object>"
      ]
     },
     "metadata": {},
     "output_type": "display_data"
    },
    {
     "data": {
      "text/html": [
       " View run <strong style=\"color:#cdcd00\">C7_result</strong> at: <a href='https://wandb.ai/kaimao-columbia-university/hpml-hw2-llm3/runs/05qxgcyf' target=\"_blank\">https://wandb.ai/kaimao-columbia-university/hpml-hw2-llm3/runs/05qxgcyf</a><br> View project at: <a href='https://wandb.ai/kaimao-columbia-university/hpml-hw2-llm3' target=\"_blank\">https://wandb.ai/kaimao-columbia-university/hpml-hw2-llm3</a><br>Synced 5 W&B file(s), 1 media file(s), 2 artifact file(s) and 0 other file(s)"
      ],
      "text/plain": [
       "<IPython.core.display.HTML object>"
      ]
     },
     "metadata": {},
     "output_type": "display_data"
    },
    {
     "data": {
      "text/html": [
       "Find logs at: <code>./wandb/run-20251024_032226-05qxgcyf/logs</code>"
      ],
      "text/plain": [
       "<IPython.core.display.HTML object>"
      ]
     },
     "metadata": {},
     "output_type": "display_data"
    }
   ],
   "source": [
    "wandb.init(project=project_name, group=\"Optimizer Comparison\", name=\"C7_result\")\n",
    "records = []\n",
    "optimizers = [\"SGD\", \"Adam\", \"AdamW\"]\n",
    "for i in range(len(optimizers)):\n",
    "    records.append({\n",
    "        \"Optimizer\": optimizers[i],\n",
    "        \"Avg Epoch Time\": avg_epoch_time[i],\n",
    "        \"Final Train Loss\": final_train_loss[i],\n",
    "        \"Train Acc\": avg_train_accuracy[i],\n",
    "        \"Test Acc\": final_test_accuracy[i]\n",
    "    })\n",
    "\n",
    "df = pd.DataFrame(records)\n",
    "wandb.log({\"C7_result\":wandb.Table(dataframe=df)})\n",
    "wandb.finish()"
   ]
  },
  {
   "cell_type": "markdown",
   "id": "1c7d047e",
   "metadata": {},
   "source": [
    "# C8"
   ]
  },
  {
   "cell_type": "code",
   "execution_count": 92,
   "id": "652b264e",
   "metadata": {},
   "outputs": [],
   "source": [
    "\n",
    "final_test_accuracy = []\n",
    "avg_train_accuracy = []\n",
    "final_train_loss = []\n",
    "first_epoch_time = []\n",
    "avg_afterwards_epoch_time = []\n",
    "def train_C8():\n",
    "  with wandb.init(\n",
    "    group=\"Eagar vs. Compile\",\n",
    "    config={\n",
    "        \"model_name\": \"distilbert-base-uncased\",\n",
    "        \"max_len\": 256, \n",
    "        \"batch_size\": 32,\n",
    "        \"learning_rate\": 1e-4,\n",
    "        \"optimizer\": \"AdamW\",\n",
    "        \"num_workers\": 2,\n",
    "        \"epochs\": 10, \n",
    "    }) as run:\n",
    "      config = wandb.config\n",
    "\n",
    "      run.name = f\"lr{wandb.config.learning_rate}_bs{wandb.config.batch_size}_compile{config.compile_mode}_C8\"\n",
    "      train_loader = DataLoader(tokenized[\"train\"], batch_size=config.batch_size, shuffle=True, collate_fn=data_collator, num_workers=config.num_workers)\n",
    "      test_loader = DataLoader(tokenized[\"test\"], batch_size=config.batch_size, collate_fn=data_collator, num_workers=config.num_workers)\n",
    "      model_name = \"distilbert-base-uncased\"\n",
    "      model = DistilBertForSequenceClassification.from_pretrained(model_name, num_labels=2)\n",
    "      if (config.compile_mode == True):\n",
    "        model = torch.compile(model, backend=\"inductor\")\n",
    "      model.to(device)\n",
    "      print(type(model))\n",
    "\n",
    "      sum_train_accuracy = 0\n",
    "    \n",
    "      optimizer = getattr(optim, config.optimizer)(model.parameters(), lr=config.learning_rate)\n",
    "      print(f\"---------start train: batch_size({config.batch_size}) lr({config.learning_rate}) num_workers({config.num_workers}) optimizer({config.optimizer})-----\")\n",
    "      train_loss = []\n",
    "      train_accuracy = []\n",
    "      test_accuracy = []\n",
    "      data_loading_time_arr = []\n",
    "      compute_time_arr = []\n",
    "      epoch_time_arr = []\n",
    "      avg_loss = 0\n",
    "      sum_epoch_time = 0\n",
    "    \n",
    "      for epoch in range(config.epochs):\n",
    "        model.train()\n",
    "        total_loss = 0\n",
    "        total_correct = 0\n",
    "        total_samples = 0\n",
    "        data_loading_time = 0\n",
    "        training_compute_time = 0\n",
    "        total_epoch_time = 0\n",
    "        start_data_loading = time.time()\n",
    "        start_epoch_time = time.time()\n",
    "        for batch in train_loader:\n",
    "            inputs = {\n",
    "                \"input_ids\": batch[\"input_ids\"].to(device),\n",
    "                \"attention_mask\": batch[\"attention_mask\"].to(device),\n",
    "                \"labels\": batch[\"labels\"].to(device),\n",
    "            }\n",
    "            torch.cuda.synchronize()\n",
    "            end = time.time()\n",
    "            data_loading_time +=  end - start_data_loading\n",
    "\n",
    "            start_compute = time.time()\n",
    "            optimizer.zero_grad()\n",
    "            outputs = model(**inputs)\n",
    "            loss = outputs.loss\n",
    "            loss.backward()\n",
    "            optimizer.step()\n",
    "    \n",
    "            torch.cuda.synchronize()\n",
    "            end = time.time()\n",
    "            training_compute_time += end - start_compute\n",
    "    \n",
    "            logits = outputs.logits\n",
    "            preds = torch.argmax(logits, dim = 1)\n",
    "            labels = batch[\"labels\"].to(device)\n",
    "            correct = (preds == labels).sum().item()\n",
    "            total_correct += correct\n",
    "            total_samples += len(labels)\n",
    "            total_loss += loss.item()\n",
    "    \n",
    "            start_data_loading = time.time()\n",
    "    \n",
    "        end = time.time()\n",
    "        total_epoch_time = end - start_epoch_time\n",
    "    \n",
    "        avg_loss = total_loss / len(train_loader)\n",
    "        avg_accuracy = total_correct / total_samples\n",
    "        train_loss.append(avg_loss)\n",
    "        train_accuracy.append(avg_accuracy)\n",
    "        sum_train_accuracy += avg_accuracy\n",
    "    \n",
    "        model.eval()\n",
    "        correct = 0\n",
    "        total = 0\n",
    "    \n",
    "        with torch.no_grad():\n",
    "            for batch in test_loader:\n",
    "                inputs = {\n",
    "                    \"input_ids\": batch[\"input_ids\"].to(device),\n",
    "                    \"attention_mask\": batch[\"attention_mask\"].to(device),\n",
    "                }\n",
    "                labels = batch[\"labels\"].to(device)\n",
    "    \n",
    "                logits = model(**inputs).logits\n",
    "                preds = torch.argmax(logits, dim=1)\n",
    "    \n",
    "                correct += (preds == labels).sum().item()\n",
    "                total += labels.size(0)\n",
    "\n",
    "        \n",
    "        if epoch == 0:\n",
    "            first_epoch_time.append(total_epoch_time)\n",
    "        if epoch >= 5:\n",
    "            sum_epoch_time += total_epoch_time\n",
    "    \n",
    "        accuracy = correct / total\n",
    "        test_accuracy.append(accuracy)\n",
    "    \n",
    "        wandb.log({\"train/loss\": train_loss,\n",
    "                  \"train/acc\": avg_accuracy,\n",
    "                  \"test/acc\": accuracy,\n",
    "                  \"data-loading time\": data_loading_time,\n",
    "                  \"compute time\": training_compute_time,\n",
    "                  \"total epoch time\": total_epoch_time})\n",
    "    \n",
    "        data_loading_time_arr.append(data_loading_time)\n",
    "        compute_time_arr.append(training_compute_time)\n",
    "        epoch_time_arr.append(total_epoch_time)\n",
    "        print(f\"Epoch {epoch+1}/{config.epochs}, Loss: {avg_loss:.4f}, Train Accuracy: {avg_accuracy:.4f}, Test Accuracy: {accuracy:.4f}, data_loading time: {data_loading_time} \\\n",
    "                compute time: {training_compute_time} total epoch time: {total_epoch_time}\")\n",
    "        print(f\"-------------------------------------------------------------------------------\")\n",
    "        \n",
    "      avg_epoch_time.append(sum(epoch_time_arr)/len(epoch_time_arr))\n",
    "      avg_train_accuracy.append(sum_train_accuracy/config.epochs)\n",
    "      final_train_loss.append(avg_loss)\n",
    "      avg_afterwards_epoch_time.append(sum_epoch_time / 5)\n",
    "\n",
    "      model.eval()\n",
    "      correct = 0\n",
    "      total = 0\n",
    "    \n",
    "      with torch.no_grad():\n",
    "          for batch in test_loader:\n",
    "              inputs = {\n",
    "                  \"input_ids\": batch[\"input_ids\"].to(device),\n",
    "                  \"attention_mask\": batch[\"attention_mask\"].to(device),\n",
    "              }\n",
    "              labels = batch[\"labels\"].to(device)\n",
    "    \n",
    "              logits = model(**inputs).logits\n",
    "              preds = torch.argmax(logits, dim=1)\n",
    "    \n",
    "              correct += (preds == labels).sum().item()\n",
    "              total += labels.size(0)\n",
    "    \n",
    "      accuracy = correct / total\n",
    "      final_test_accuracy.append(accuracy)\n",
    "      "
   ]
  },
  {
   "cell_type": "code",
   "execution_count": 93,
   "id": "1ca821c0",
   "metadata": {},
   "outputs": [
    {
     "name": "stdout",
     "output_type": "stream",
     "text": [
      "Create sweep with ID: vnlmen3k\n",
      "Sweep URL: https://wandb.ai/kaimao-columbia-university/hpml-hw2-llm3/sweeps/vnlmen3k\n"
     ]
    },
    {
     "name": "stderr",
     "output_type": "stream",
     "text": [
      "\u001b[34m\u001b[1mwandb\u001b[0m: Agent Starting Run: sv3pboqa with config:\n",
      "\u001b[34m\u001b[1mwandb\u001b[0m: \tcompile_mode: True\n",
      "\u001b[34m\u001b[1mwandb\u001b[0m: \u001b[32m\u001b[41mERROR\u001b[0m Failed to detect the name of this notebook. You can set it manually with the WANDB_NOTEBOOK_NAME environment variable to enable code saving.\n"
     ]
    },
    {
     "data": {
      "text/html": [],
      "text/plain": [
       "<IPython.core.display.HTML object>"
      ]
     },
     "metadata": {},
     "output_type": "display_data"
    },
    {
     "data": {
      "text/html": [
       "Tracking run with wandb version 0.22.2"
      ],
      "text/plain": [
       "<IPython.core.display.HTML object>"
      ]
     },
     "metadata": {},
     "output_type": "display_data"
    },
    {
     "data": {
      "text/html": [
       "Run data is saved locally in <code>/workspace/wandb/run-20251024_040734-sv3pboqa</code>"
      ],
      "text/plain": [
       "<IPython.core.display.HTML object>"
      ]
     },
     "metadata": {},
     "output_type": "display_data"
    },
    {
     "data": {
      "text/html": [
       "Syncing run <strong><a href='https://wandb.ai/kaimao-columbia-university/hpml-hw2-llm3/runs/sv3pboqa' target=\"_blank\">snowy-sweep-1</a></strong> to <a href='https://wandb.ai/kaimao-columbia-university/hpml-hw2-llm3' target=\"_blank\">Weights & Biases</a> (<a href='https://wandb.me/developer-guide' target=\"_blank\">docs</a>)<br>Sweep page: <a href='https://wandb.ai/kaimao-columbia-university/hpml-hw2-llm3/sweeps/vnlmen3k' target=\"_blank\">https://wandb.ai/kaimao-columbia-university/hpml-hw2-llm3/sweeps/vnlmen3k</a>"
      ],
      "text/plain": [
       "<IPython.core.display.HTML object>"
      ]
     },
     "metadata": {},
     "output_type": "display_data"
    },
    {
     "data": {
      "text/html": [
       " View project at <a href='https://wandb.ai/kaimao-columbia-university/hpml-hw2-llm3' target=\"_blank\">https://wandb.ai/kaimao-columbia-university/hpml-hw2-llm3</a>"
      ],
      "text/plain": [
       "<IPython.core.display.HTML object>"
      ]
     },
     "metadata": {},
     "output_type": "display_data"
    },
    {
     "data": {
      "text/html": [
       " View sweep at <a href='https://wandb.ai/kaimao-columbia-university/hpml-hw2-llm3/sweeps/vnlmen3k' target=\"_blank\">https://wandb.ai/kaimao-columbia-university/hpml-hw2-llm3/sweeps/vnlmen3k</a>"
      ],
      "text/plain": [
       "<IPython.core.display.HTML object>"
      ]
     },
     "metadata": {},
     "output_type": "display_data"
    },
    {
     "data": {
      "text/html": [
       " View run at <a href='https://wandb.ai/kaimao-columbia-university/hpml-hw2-llm3/runs/sv3pboqa' target=\"_blank\">https://wandb.ai/kaimao-columbia-university/hpml-hw2-llm3/runs/sv3pboqa</a>"
      ],
      "text/plain": [
       "<IPython.core.display.HTML object>"
      ]
     },
     "metadata": {},
     "output_type": "display_data"
    },
    {
     "name": "stderr",
     "output_type": "stream",
     "text": [
      "Some weights of DistilBertForSequenceClassification were not initialized from the model checkpoint at distilbert-base-uncased and are newly initialized: ['classifier.bias', 'classifier.weight', 'pre_classifier.bias', 'pre_classifier.weight']\n",
      "You should probably TRAIN this model on a down-stream task to be able to use it for predictions and inference.\n"
     ]
    },
    {
     "name": "stdout",
     "output_type": "stream",
     "text": [
      "<class 'torch._dynamo.eval_frame.OptimizedModule'>\n",
      "---------start train: batch_size(32) lr(0.0001) num_workers(2) optimizer(AdamW)-----\n"
     ]
    },
    {
     "name": "stderr",
     "output_type": "stream",
     "text": [
      "huggingface/tokenizers: The current process just got forked, after parallelism has already been used. Disabling parallelism to avoid deadlocks...\n",
      "To disable this warning, you can either:\n",
      "\t- Avoid using `tokenizers` before the fork if possible\n",
      "\t- Explicitly set the environment variable TOKENIZERS_PARALLELISM=(true | false)\n",
      "huggingface/tokenizers: The current process just got forked, after parallelism has already been used. Disabling parallelism to avoid deadlocks...\n",
      "To disable this warning, you can either:\n",
      "\t- Avoid using `tokenizers` before the fork if possible\n",
      "\t- Explicitly set the environment variable TOKENIZERS_PARALLELISM=(true | false)\n",
      "huggingface/tokenizers: The current process just got forked, after parallelism has already been used. Disabling parallelism to avoid deadlocks...\n",
      "To disable this warning, you can either:\n",
      "\t- Avoid using `tokenizers` before the fork if possible\n",
      "\t- Explicitly set the environment variable TOKENIZERS_PARALLELISM=(true | false)\n",
      "huggingface/tokenizers: The current process just got forked, after parallelism has already been used. Disabling parallelism to avoid deadlocks...\n",
      "To disable this warning, you can either:\n",
      "\t- Avoid using `tokenizers` before the fork if possible\n",
      "\t- Explicitly set the environment variable TOKENIZERS_PARALLELISM=(true | false)\n"
     ]
    },
    {
     "name": "stdout",
     "output_type": "stream",
     "text": [
      "Epoch 1/10, Loss: 0.3247, Train Accuracy: 0.8597, Test Accuracy: 0.8744, data_loading time: 1.418013572692871                 compute time: 39.92075705528259 total epoch time: 41.62350416183472\n",
      "-------------------------------------------------------------------------------\n"
     ]
    },
    {
     "name": "stderr",
     "output_type": "stream",
     "text": [
      "huggingface/tokenizers: The current process just got forked, after parallelism has already been used. Disabling parallelism to avoid deadlocks...\n",
      "To disable this warning, you can either:\n",
      "\t- Avoid using `tokenizers` before the fork if possible\n",
      "\t- Explicitly set the environment variable TOKENIZERS_PARALLELISM=(true | false)\n",
      "huggingface/tokenizers: The current process just got forked, after parallelism has already been used. Disabling parallelism to avoid deadlocks...\n",
      "To disable this warning, you can either:\n",
      "\t- Avoid using `tokenizers` before the fork if possible\n",
      "\t- Explicitly set the environment variable TOKENIZERS_PARALLELISM=(true | false)\n",
      "huggingface/tokenizers: The current process just got forked, after parallelism has already been used. Disabling parallelism to avoid deadlocks...\n",
      "To disable this warning, you can either:\n",
      "\t- Avoid using `tokenizers` before the fork if possible\n",
      "\t- Explicitly set the environment variable TOKENIZERS_PARALLELISM=(true | false)\n",
      "huggingface/tokenizers: The current process just got forked, after parallelism has already been used. Disabling parallelism to avoid deadlocks...\n",
      "To disable this warning, you can either:\n",
      "\t- Avoid using `tokenizers` before the fork if possible\n",
      "\t- Explicitly set the environment variable TOKENIZERS_PARALLELISM=(true | false)\n"
     ]
    },
    {
     "name": "stdout",
     "output_type": "stream",
     "text": [
      "Epoch 2/10, Loss: 0.1737, Train Accuracy: 0.9368, Test Accuracy: 0.8906, data_loading time: 1.3532395362854004                 compute time: 40.57009410858154 total epoch time: 42.201220989227295\n",
      "-------------------------------------------------------------------------------\n"
     ]
    },
    {
     "name": "stderr",
     "output_type": "stream",
     "text": [
      "huggingface/tokenizers: The current process just got forked, after parallelism has already been used. Disabling parallelism to avoid deadlocks...\n",
      "To disable this warning, you can either:\n",
      "\t- Avoid using `tokenizers` before the fork if possible\n",
      "\t- Explicitly set the environment variable TOKENIZERS_PARALLELISM=(true | false)\n",
      "huggingface/tokenizers: The current process just got forked, after parallelism has already been used. Disabling parallelism to avoid deadlocks...\n",
      "To disable this warning, you can either:\n",
      "\t- Avoid using `tokenizers` before the fork if possible\n",
      "\t- Explicitly set the environment variable TOKENIZERS_PARALLELISM=(true | false)\n",
      "huggingface/tokenizers: The current process just got forked, after parallelism has already been used. Disabling parallelism to avoid deadlocks...\n",
      "To disable this warning, you can either:\n",
      "\t- Avoid using `tokenizers` before the fork if possible\n",
      "\t- Explicitly set the environment variable TOKENIZERS_PARALLELISM=(true | false)\n",
      "huggingface/tokenizers: The current process just got forked, after parallelism has already been used. Disabling parallelism to avoid deadlocks...\n",
      "To disable this warning, you can either:\n",
      "\t- Avoid using `tokenizers` before the fork if possible\n",
      "\t- Explicitly set the environment variable TOKENIZERS_PARALLELISM=(true | false)\n"
     ]
    },
    {
     "name": "stdout",
     "output_type": "stream",
     "text": [
      "Epoch 3/10, Loss: 0.0839, Train Accuracy: 0.9709, Test Accuracy: 0.8723, data_loading time: 1.2285313606262207                 compute time: 40.77458333969116 total epoch time: 42.26802182197571\n",
      "-------------------------------------------------------------------------------\n"
     ]
    },
    {
     "name": "stderr",
     "output_type": "stream",
     "text": [
      "huggingface/tokenizers: The current process just got forked, after parallelism has already been used. Disabling parallelism to avoid deadlocks...\n",
      "To disable this warning, you can either:\n",
      "\t- Avoid using `tokenizers` before the fork if possible\n",
      "\t- Explicitly set the environment variable TOKENIZERS_PARALLELISM=(true | false)\n",
      "huggingface/tokenizers: The current process just got forked, after parallelism has already been used. Disabling parallelism to avoid deadlocks...\n",
      "To disable this warning, you can either:\n",
      "\t- Avoid using `tokenizers` before the fork if possible\n",
      "\t- Explicitly set the environment variable TOKENIZERS_PARALLELISM=(true | false)\n",
      "huggingface/tokenizers: The current process just got forked, after parallelism has already been used. Disabling parallelism to avoid deadlocks...\n",
      "To disable this warning, you can either:\n",
      "\t- Avoid using `tokenizers` before the fork if possible\n",
      "\t- Explicitly set the environment variable TOKENIZERS_PARALLELISM=(true | false)\n",
      "huggingface/tokenizers: The current process just got forked, after parallelism has already been used. Disabling parallelism to avoid deadlocks...\n",
      "To disable this warning, you can either:\n",
      "\t- Avoid using `tokenizers` before the fork if possible\n",
      "\t- Explicitly set the environment variable TOKENIZERS_PARALLELISM=(true | false)\n"
     ]
    },
    {
     "name": "stdout",
     "output_type": "stream",
     "text": [
      "Epoch 4/10, Loss: 0.0574, Train Accuracy: 0.9813, Test Accuracy: 0.8733, data_loading time: 1.4076130390167236                 compute time: 40.84573483467102 total epoch time: 42.535831689834595\n",
      "-------------------------------------------------------------------------------\n"
     ]
    },
    {
     "name": "stderr",
     "output_type": "stream",
     "text": [
      "huggingface/tokenizers: The current process just got forked, after parallelism has already been used. Disabling parallelism to avoid deadlocks...\n",
      "To disable this warning, you can either:\n",
      "\t- Avoid using `tokenizers` before the fork if possible\n",
      "\t- Explicitly set the environment variable TOKENIZERS_PARALLELISM=(true | false)\n",
      "huggingface/tokenizers: The current process just got forked, after parallelism has already been used. Disabling parallelism to avoid deadlocks...\n",
      "To disable this warning, you can either:\n",
      "\t- Avoid using `tokenizers` before the fork if possible\n",
      "\t- Explicitly set the environment variable TOKENIZERS_PARALLELISM=(true | false)\n",
      "huggingface/tokenizers: The current process just got forked, after parallelism has already been used. Disabling parallelism to avoid deadlocks...\n",
      "To disable this warning, you can either:\n",
      "\t- Avoid using `tokenizers` before the fork if possible\n",
      "\t- Explicitly set the environment variable TOKENIZERS_PARALLELISM=(true | false)\n",
      "huggingface/tokenizers: The current process just got forked, after parallelism has already been used. Disabling parallelism to avoid deadlocks...\n",
      "To disable this warning, you can either:\n",
      "\t- Avoid using `tokenizers` before the fork if possible\n",
      "\t- Explicitly set the environment variable TOKENIZERS_PARALLELISM=(true | false)\n"
     ]
    },
    {
     "name": "stdout",
     "output_type": "stream",
     "text": [
      "Epoch 5/10, Loss: 0.0402, Train Accuracy: 0.9872, Test Accuracy: 0.8639, data_loading time: 1.2851331233978271                 compute time: 40.803165912628174 total epoch time: 42.35278344154358\n",
      "-------------------------------------------------------------------------------\n"
     ]
    },
    {
     "name": "stderr",
     "output_type": "stream",
     "text": [
      "huggingface/tokenizers: The current process just got forked, after parallelism has already been used. Disabling parallelism to avoid deadlocks...\n",
      "To disable this warning, you can either:\n",
      "\t- Avoid using `tokenizers` before the fork if possible\n",
      "\t- Explicitly set the environment variable TOKENIZERS_PARALLELISM=(true | false)\n",
      "huggingface/tokenizers: The current process just got forked, after parallelism has already been used. Disabling parallelism to avoid deadlocks...\n",
      "To disable this warning, you can either:\n",
      "\t- Avoid using `tokenizers` before the fork if possible\n",
      "\t- Explicitly set the environment variable TOKENIZERS_PARALLELISM=(true | false)\n",
      "huggingface/tokenizers: The current process just got forked, after parallelism has already been used. Disabling parallelism to avoid deadlocks...\n",
      "To disable this warning, you can either:\n",
      "\t- Avoid using `tokenizers` before the fork if possible\n",
      "\t- Explicitly set the environment variable TOKENIZERS_PARALLELISM=(true | false)\n",
      "huggingface/tokenizers: The current process just got forked, after parallelism has already been used. Disabling parallelism to avoid deadlocks...\n",
      "To disable this warning, you can either:\n",
      "\t- Avoid using `tokenizers` before the fork if possible\n",
      "\t- Explicitly set the environment variable TOKENIZERS_PARALLELISM=(true | false)\n"
     ]
    },
    {
     "name": "stdout",
     "output_type": "stream",
     "text": [
      "Epoch 6/10, Loss: 0.0333, Train Accuracy: 0.9900, Test Accuracy: 0.8663, data_loading time: 1.2399680614471436                 compute time: 40.78580164909363 total epoch time: 42.29357385635376\n",
      "-------------------------------------------------------------------------------\n"
     ]
    },
    {
     "name": "stderr",
     "output_type": "stream",
     "text": [
      "huggingface/tokenizers: The current process just got forked, after parallelism has already been used. Disabling parallelism to avoid deadlocks...\n",
      "To disable this warning, you can either:\n",
      "\t- Avoid using `tokenizers` before the fork if possible\n",
      "\t- Explicitly set the environment variable TOKENIZERS_PARALLELISM=(true | false)\n",
      "huggingface/tokenizers: The current process just got forked, after parallelism has already been used. Disabling parallelism to avoid deadlocks...\n",
      "To disable this warning, you can either:\n",
      "\t- Avoid using `tokenizers` before the fork if possible\n",
      "\t- Explicitly set the environment variable TOKENIZERS_PARALLELISM=(true | false)\n",
      "huggingface/tokenizers: The current process just got forked, after parallelism has already been used. Disabling parallelism to avoid deadlocks...\n",
      "To disable this warning, you can either:\n",
      "\t- Avoid using `tokenizers` before the fork if possible\n",
      "\t- Explicitly set the environment variable TOKENIZERS_PARALLELISM=(true | false)\n",
      "huggingface/tokenizers: The current process just got forked, after parallelism has already been used. Disabling parallelism to avoid deadlocks...\n",
      "To disable this warning, you can either:\n",
      "\t- Avoid using `tokenizers` before the fork if possible\n",
      "\t- Explicitly set the environment variable TOKENIZERS_PARALLELISM=(true | false)\n"
     ]
    },
    {
     "name": "stdout",
     "output_type": "stream",
     "text": [
      "Epoch 7/10, Loss: 0.0282, Train Accuracy: 0.9916, Test Accuracy: 0.8474, data_loading time: 1.2487611770629883                 compute time: 40.74176549911499 total epoch time: 42.25001811981201\n",
      "-------------------------------------------------------------------------------\n"
     ]
    },
    {
     "name": "stderr",
     "output_type": "stream",
     "text": [
      "huggingface/tokenizers: The current process just got forked, after parallelism has already been used. Disabling parallelism to avoid deadlocks...\n",
      "To disable this warning, you can either:\n",
      "\t- Avoid using `tokenizers` before the fork if possible\n",
      "\t- Explicitly set the environment variable TOKENIZERS_PARALLELISM=(true | false)\n",
      "huggingface/tokenizers: The current process just got forked, after parallelism has already been used. Disabling parallelism to avoid deadlocks...\n",
      "To disable this warning, you can either:\n",
      "\t- Avoid using `tokenizers` before the fork if possible\n",
      "\t- Explicitly set the environment variable TOKENIZERS_PARALLELISM=(true | false)\n",
      "huggingface/tokenizers: The current process just got forked, after parallelism has already been used. Disabling parallelism to avoid deadlocks...\n",
      "To disable this warning, you can either:\n",
      "\t- Avoid using `tokenizers` before the fork if possible\n",
      "\t- Explicitly set the environment variable TOKENIZERS_PARALLELISM=(true | false)\n",
      "huggingface/tokenizers: The current process just got forked, after parallelism has already been used. Disabling parallelism to avoid deadlocks...\n",
      "To disable this warning, you can either:\n",
      "\t- Avoid using `tokenizers` before the fork if possible\n",
      "\t- Explicitly set the environment variable TOKENIZERS_PARALLELISM=(true | false)\n"
     ]
    },
    {
     "name": "stdout",
     "output_type": "stream",
     "text": [
      "Epoch 8/10, Loss: 0.0314, Train Accuracy: 0.9901, Test Accuracy: 0.8421, data_loading time: 1.2696943283081055                 compute time: 40.7682466506958 total epoch time: 42.306559562683105\n",
      "-------------------------------------------------------------------------------\n"
     ]
    },
    {
     "name": "stderr",
     "output_type": "stream",
     "text": [
      "huggingface/tokenizers: The current process just got forked, after parallelism has already been used. Disabling parallelism to avoid deadlocks...\n",
      "To disable this warning, you can either:\n",
      "\t- Avoid using `tokenizers` before the fork if possible\n",
      "\t- Explicitly set the environment variable TOKENIZERS_PARALLELISM=(true | false)\n",
      "huggingface/tokenizers: The current process just got forked, after parallelism has already been used. Disabling parallelism to avoid deadlocks...\n",
      "To disable this warning, you can either:\n",
      "\t- Avoid using `tokenizers` before the fork if possible\n",
      "\t- Explicitly set the environment variable TOKENIZERS_PARALLELISM=(true | false)\n",
      "huggingface/tokenizers: The current process just got forked, after parallelism has already been used. Disabling parallelism to avoid deadlocks...\n",
      "To disable this warning, you can either:\n",
      "\t- Avoid using `tokenizers` before the fork if possible\n",
      "\t- Explicitly set the environment variable TOKENIZERS_PARALLELISM=(true | false)\n",
      "huggingface/tokenizers: The current process just got forked, after parallelism has already been used. Disabling parallelism to avoid deadlocks...\n",
      "To disable this warning, you can either:\n",
      "\t- Avoid using `tokenizers` before the fork if possible\n",
      "\t- Explicitly set the environment variable TOKENIZERS_PARALLELISM=(true | false)\n"
     ]
    },
    {
     "name": "stdout",
     "output_type": "stream",
     "text": [
      "Epoch 9/10, Loss: 0.0235, Train Accuracy: 0.9931, Test Accuracy: 0.8475, data_loading time: 1.4323551654815674                 compute time: 40.78888440132141 total epoch time: 42.504047870635986\n",
      "-------------------------------------------------------------------------------\n"
     ]
    },
    {
     "name": "stderr",
     "output_type": "stream",
     "text": [
      "huggingface/tokenizers: The current process just got forked, after parallelism has already been used. Disabling parallelism to avoid deadlocks...\n",
      "To disable this warning, you can either:\n",
      "\t- Avoid using `tokenizers` before the fork if possible\n",
      "\t- Explicitly set the environment variable TOKENIZERS_PARALLELISM=(true | false)\n",
      "huggingface/tokenizers: The current process just got forked, after parallelism has already been used. Disabling parallelism to avoid deadlocks...\n",
      "To disable this warning, you can either:\n",
      "\t- Avoid using `tokenizers` before the fork if possible\n",
      "\t- Explicitly set the environment variable TOKENIZERS_PARALLELISM=(true | false)\n",
      "huggingface/tokenizers: The current process just got forked, after parallelism has already been used. Disabling parallelism to avoid deadlocks...\n",
      "To disable this warning, you can either:\n",
      "\t- Avoid using `tokenizers` before the fork if possible\n",
      "\t- Explicitly set the environment variable TOKENIZERS_PARALLELISM=(true | false)\n",
      "huggingface/tokenizers: The current process just got forked, after parallelism has already been used. Disabling parallelism to avoid deadlocks...\n",
      "To disable this warning, you can either:\n",
      "\t- Avoid using `tokenizers` before the fork if possible\n",
      "\t- Explicitly set the environment variable TOKENIZERS_PARALLELISM=(true | false)\n"
     ]
    },
    {
     "name": "stdout",
     "output_type": "stream",
     "text": [
      "Epoch 10/10, Loss: 0.0248, Train Accuracy: 0.9932, Test Accuracy: 0.8440, data_loading time: 1.2908835411071777                 compute time: 40.68842148780823 total epoch time: 42.23023557662964\n",
      "-------------------------------------------------------------------------------\n"
     ]
    },
    {
     "name": "stderr",
     "output_type": "stream",
     "text": [
      "huggingface/tokenizers: The current process just got forked, after parallelism has already been used. Disabling parallelism to avoid deadlocks...\n",
      "To disable this warning, you can either:\n",
      "\t- Avoid using `tokenizers` before the fork if possible\n",
      "\t- Explicitly set the environment variable TOKENIZERS_PARALLELISM=(true | false)\n",
      "huggingface/tokenizers: The current process just got forked, after parallelism has already been used. Disabling parallelism to avoid deadlocks...\n",
      "To disable this warning, you can either:\n",
      "\t- Avoid using `tokenizers` before the fork if possible\n",
      "\t- Explicitly set the environment variable TOKENIZERS_PARALLELISM=(true | false)\n",
      "\u001b[34m\u001b[1mwandb\u001b[0m: \u001b[32m\u001b[41mERROR\u001b[0m The nbformat package was not found. It is required to save notebook history.\n"
     ]
    },
    {
     "data": {
      "text/html": [],
      "text/plain": [
       "<IPython.core.display.HTML object>"
      ]
     },
     "metadata": {},
     "output_type": "display_data"
    },
    {
     "data": {
      "text/html": [
       "<br>    <style><br>        .wandb-row {<br>            display: flex;<br>            flex-direction: row;<br>            flex-wrap: wrap;<br>            justify-content: flex-start;<br>            width: 100%;<br>        }<br>        .wandb-col {<br>            display: flex;<br>            flex-direction: column;<br>            flex-basis: 100%;<br>            flex: 1;<br>            padding: 10px;<br>        }<br>    </style><br><div class=\"wandb-row\"><div class=\"wandb-col\"><h3>Run history:</h3><br/><table class=\"wandb\"><tr><td>compute time</td><td>▁▆▇███▇▇█▇</td></tr><tr><td>data-loading time</td><td>█▅▁▇▃▁▂▂█▃</td></tr><tr><td>test/acc</td><td>▆█▅▅▄▄▂▁▂▁</td></tr><tr><td>total epoch time</td><td>▁▅▆█▇▆▆▆█▆</td></tr><tr><td>train/acc</td><td>▁▅▇▇██████</td></tr></table><br/></div><div class=\"wandb-col\"><h3>Run summary:</h3><br/><table class=\"wandb\"><tr><td>compute time</td><td>40.68842</td></tr><tr><td>data-loading time</td><td>1.29088</td></tr><tr><td>test/acc</td><td>0.84404</td></tr><tr><td>total epoch time</td><td>42.23024</td></tr><tr><td>train/acc</td><td>0.99316</td></tr></table><br/></div></div>"
      ],
      "text/plain": [
       "<IPython.core.display.HTML object>"
      ]
     },
     "metadata": {},
     "output_type": "display_data"
    },
    {
     "data": {
      "text/html": [
       " View run <strong style=\"color:#cdcd00\">lr0.0001_bs32_compileTrue_C8</strong> at: <a href='https://wandb.ai/kaimao-columbia-university/hpml-hw2-llm3/runs/sv3pboqa' target=\"_blank\">https://wandb.ai/kaimao-columbia-university/hpml-hw2-llm3/runs/sv3pboqa</a><br> View project at: <a href='https://wandb.ai/kaimao-columbia-university/hpml-hw2-llm3' target=\"_blank\">https://wandb.ai/kaimao-columbia-university/hpml-hw2-llm3</a><br>Synced 5 W&B file(s), 0 media file(s), 0 artifact file(s) and 0 other file(s)"
      ],
      "text/plain": [
       "<IPython.core.display.HTML object>"
      ]
     },
     "metadata": {},
     "output_type": "display_data"
    },
    {
     "data": {
      "text/html": [
       "Find logs at: <code>./wandb/run-20251024_040734-sv3pboqa/logs</code>"
      ],
      "text/plain": [
       "<IPython.core.display.HTML object>"
      ]
     },
     "metadata": {},
     "output_type": "display_data"
    },
    {
     "name": "stderr",
     "output_type": "stream",
     "text": [
      "\u001b[34m\u001b[1mwandb\u001b[0m: Agent Starting Run: 279apgn7 with config:\n",
      "\u001b[34m\u001b[1mwandb\u001b[0m: \tcompile_mode: False\n",
      "\u001b[34m\u001b[1mwandb\u001b[0m: \u001b[32m\u001b[41mERROR\u001b[0m Failed to detect the name of this notebook. You can set it manually with the WANDB_NOTEBOOK_NAME environment variable to enable code saving.\n"
     ]
    },
    {
     "data": {
      "text/html": [],
      "text/plain": [
       "<IPython.core.display.HTML object>"
      ]
     },
     "metadata": {},
     "output_type": "display_data"
    },
    {
     "data": {
      "text/html": [
       "Tracking run with wandb version 0.22.2"
      ],
      "text/plain": [
       "<IPython.core.display.HTML object>"
      ]
     },
     "metadata": {},
     "output_type": "display_data"
    },
    {
     "data": {
      "text/html": [
       "Run data is saved locally in <code>/workspace/wandb/run-20251024_041729-279apgn7</code>"
      ],
      "text/plain": [
       "<IPython.core.display.HTML object>"
      ]
     },
     "metadata": {},
     "output_type": "display_data"
    },
    {
     "data": {
      "text/html": [
       "Syncing run <strong><a href='https://wandb.ai/kaimao-columbia-university/hpml-hw2-llm3/runs/279apgn7' target=\"_blank\">revived-sweep-2</a></strong> to <a href='https://wandb.ai/kaimao-columbia-university/hpml-hw2-llm3' target=\"_blank\">Weights & Biases</a> (<a href='https://wandb.me/developer-guide' target=\"_blank\">docs</a>)<br>Sweep page: <a href='https://wandb.ai/kaimao-columbia-university/hpml-hw2-llm3/sweeps/vnlmen3k' target=\"_blank\">https://wandb.ai/kaimao-columbia-university/hpml-hw2-llm3/sweeps/vnlmen3k</a>"
      ],
      "text/plain": [
       "<IPython.core.display.HTML object>"
      ]
     },
     "metadata": {},
     "output_type": "display_data"
    },
    {
     "data": {
      "text/html": [
       " View project at <a href='https://wandb.ai/kaimao-columbia-university/hpml-hw2-llm3' target=\"_blank\">https://wandb.ai/kaimao-columbia-university/hpml-hw2-llm3</a>"
      ],
      "text/plain": [
       "<IPython.core.display.HTML object>"
      ]
     },
     "metadata": {},
     "output_type": "display_data"
    },
    {
     "data": {
      "text/html": [
       " View sweep at <a href='https://wandb.ai/kaimao-columbia-university/hpml-hw2-llm3/sweeps/vnlmen3k' target=\"_blank\">https://wandb.ai/kaimao-columbia-university/hpml-hw2-llm3/sweeps/vnlmen3k</a>"
      ],
      "text/plain": [
       "<IPython.core.display.HTML object>"
      ]
     },
     "metadata": {},
     "output_type": "display_data"
    },
    {
     "data": {
      "text/html": [
       " View run at <a href='https://wandb.ai/kaimao-columbia-university/hpml-hw2-llm3/runs/279apgn7' target=\"_blank\">https://wandb.ai/kaimao-columbia-university/hpml-hw2-llm3/runs/279apgn7</a>"
      ],
      "text/plain": [
       "<IPython.core.display.HTML object>"
      ]
     },
     "metadata": {},
     "output_type": "display_data"
    },
    {
     "name": "stderr",
     "output_type": "stream",
     "text": [
      "Some weights of DistilBertForSequenceClassification were not initialized from the model checkpoint at distilbert-base-uncased and are newly initialized: ['classifier.bias', 'classifier.weight', 'pre_classifier.bias', 'pre_classifier.weight']\n",
      "You should probably TRAIN this model on a down-stream task to be able to use it for predictions and inference.\n"
     ]
    },
    {
     "name": "stdout",
     "output_type": "stream",
     "text": [
      "<class 'transformers.models.distilbert.modeling_distilbert.DistilBertForSequenceClassification'>\n",
      "---------start train: batch_size(32) lr(0.0001) num_workers(2) optimizer(AdamW)-----\n"
     ]
    },
    {
     "name": "stderr",
     "output_type": "stream",
     "text": [
      "huggingface/tokenizers: The current process just got forked, after parallelism has already been used. Disabling parallelism to avoid deadlocks...\n",
      "To disable this warning, you can either:\n",
      "\t- Avoid using `tokenizers` before the fork if possible\n",
      "\t- Explicitly set the environment variable TOKENIZERS_PARALLELISM=(true | false)\n",
      "huggingface/tokenizers: The current process just got forked, after parallelism has already been used. Disabling parallelism to avoid deadlocks...\n",
      "To disable this warning, you can either:\n",
      "\t- Avoid using `tokenizers` before the fork if possible\n",
      "\t- Explicitly set the environment variable TOKENIZERS_PARALLELISM=(true | false)\n",
      "huggingface/tokenizers: The current process just got forked, after parallelism has already been used. Disabling parallelism to avoid deadlocks...\n",
      "To disable this warning, you can either:\n",
      "\t- Avoid using `tokenizers` before the fork if possible\n",
      "\t- Explicitly set the environment variable TOKENIZERS_PARALLELISM=(true | false)\n",
      "huggingface/tokenizers: The current process just got forked, after parallelism has already been used. Disabling parallelism to avoid deadlocks...\n",
      "To disable this warning, you can either:\n",
      "\t- Avoid using `tokenizers` before the fork if possible\n",
      "\t- Explicitly set the environment variable TOKENIZERS_PARALLELISM=(true | false)\n"
     ]
    },
    {
     "name": "stdout",
     "output_type": "stream",
     "text": [
      "Epoch 1/10, Loss: 0.2992, Train Accuracy: 0.8761, Test Accuracy: 0.8953, data_loading time: 1.238447666168213                 compute time: 42.158151149749756 total epoch time: 43.7539918422699\n",
      "-------------------------------------------------------------------------------\n"
     ]
    },
    {
     "name": "stderr",
     "output_type": "stream",
     "text": [
      "huggingface/tokenizers: The current process just got forked, after parallelism has already been used. Disabling parallelism to avoid deadlocks...\n",
      "To disable this warning, you can either:\n",
      "\t- Avoid using `tokenizers` before the fork if possible\n",
      "\t- Explicitly set the environment variable TOKENIZERS_PARALLELISM=(true | false)\n",
      "huggingface/tokenizers: The current process just got forked, after parallelism has already been used. Disabling parallelism to avoid deadlocks...\n",
      "To disable this warning, you can either:\n",
      "\t- Avoid using `tokenizers` before the fork if possible\n",
      "\t- Explicitly set the environment variable TOKENIZERS_PARALLELISM=(true | false)\n",
      "huggingface/tokenizers: The current process just got forked, after parallelism has already been used. Disabling parallelism to avoid deadlocks...\n",
      "To disable this warning, you can either:\n",
      "\t- Avoid using `tokenizers` before the fork if possible\n",
      "\t- Explicitly set the environment variable TOKENIZERS_PARALLELISM=(true | false)\n",
      "huggingface/tokenizers: The current process just got forked, after parallelism has already been used. Disabling parallelism to avoid deadlocks...\n",
      "To disable this warning, you can either:\n",
      "\t- Avoid using `tokenizers` before the fork if possible\n",
      "\t- Explicitly set the environment variable TOKENIZERS_PARALLELISM=(true | false)\n"
     ]
    },
    {
     "name": "stdout",
     "output_type": "stream",
     "text": [
      "Epoch 2/10, Loss: 0.1709, Train Accuracy: 0.9364, Test Accuracy: 0.8832, data_loading time: 1.3002090454101562                 compute time: 42.42946457862854 total epoch time: 44.071531534194946\n",
      "-------------------------------------------------------------------------------\n"
     ]
    },
    {
     "name": "stderr",
     "output_type": "stream",
     "text": [
      "huggingface/tokenizers: The current process just got forked, after parallelism has already been used. Disabling parallelism to avoid deadlocks...\n",
      "To disable this warning, you can either:\n",
      "\t- Avoid using `tokenizers` before the fork if possible\n",
      "\t- Explicitly set the environment variable TOKENIZERS_PARALLELISM=(true | false)\n",
      "huggingface/tokenizers: The current process just got forked, after parallelism has already been used. Disabling parallelism to avoid deadlocks...\n",
      "To disable this warning, you can either:\n",
      "\t- Avoid using `tokenizers` before the fork if possible\n",
      "\t- Explicitly set the environment variable TOKENIZERS_PARALLELISM=(true | false)\n",
      "huggingface/tokenizers: The current process just got forked, after parallelism has already been used. Disabling parallelism to avoid deadlocks...\n",
      "To disable this warning, you can either:\n",
      "\t- Avoid using `tokenizers` before the fork if possible\n",
      "\t- Explicitly set the environment variable TOKENIZERS_PARALLELISM=(true | false)\n",
      "huggingface/tokenizers: The current process just got forked, after parallelism has already been used. Disabling parallelism to avoid deadlocks...\n",
      "To disable this warning, you can either:\n",
      "\t- Avoid using `tokenizers` before the fork if possible\n",
      "\t- Explicitly set the environment variable TOKENIZERS_PARALLELISM=(true | false)\n"
     ]
    },
    {
     "name": "stdout",
     "output_type": "stream",
     "text": [
      "Epoch 3/10, Loss: 0.0895, Train Accuracy: 0.9689, Test Accuracy: 0.8903, data_loading time: 1.3439393043518066                 compute time: 42.43321990966797 total epoch time: 44.14191269874573\n",
      "-------------------------------------------------------------------------------\n"
     ]
    },
    {
     "name": "stderr",
     "output_type": "stream",
     "text": [
      "huggingface/tokenizers: The current process just got forked, after parallelism has already been used. Disabling parallelism to avoid deadlocks...\n",
      "To disable this warning, you can either:\n",
      "\t- Avoid using `tokenizers` before the fork if possible\n",
      "\t- Explicitly set the environment variable TOKENIZERS_PARALLELISM=(true | false)\n",
      "huggingface/tokenizers: The current process just got forked, after parallelism has already been used. Disabling parallelism to avoid deadlocks...\n",
      "To disable this warning, you can either:\n",
      "\t- Avoid using `tokenizers` before the fork if possible\n",
      "\t- Explicitly set the environment variable TOKENIZERS_PARALLELISM=(true | false)\n",
      "huggingface/tokenizers: The current process just got forked, after parallelism has already been used. Disabling parallelism to avoid deadlocks...\n",
      "To disable this warning, you can either:\n",
      "\t- Avoid using `tokenizers` before the fork if possible\n",
      "\t- Explicitly set the environment variable TOKENIZERS_PARALLELISM=(true | false)\n",
      "huggingface/tokenizers: The current process just got forked, after parallelism has already been used. Disabling parallelism to avoid deadlocks...\n",
      "To disable this warning, you can either:\n",
      "\t- Avoid using `tokenizers` before the fork if possible\n",
      "\t- Explicitly set the environment variable TOKENIZERS_PARALLELISM=(true | false)\n"
     ]
    },
    {
     "name": "stdout",
     "output_type": "stream",
     "text": [
      "Epoch 4/10, Loss: 0.0549, Train Accuracy: 0.9814, Test Accuracy: 0.8730, data_loading time: 1.3206939697265625                 compute time: 42.394832372665405 total epoch time: 44.070712089538574\n",
      "-------------------------------------------------------------------------------\n"
     ]
    },
    {
     "name": "stderr",
     "output_type": "stream",
     "text": [
      "huggingface/tokenizers: The current process just got forked, after parallelism has already been used. Disabling parallelism to avoid deadlocks...\n",
      "To disable this warning, you can either:\n",
      "\t- Avoid using `tokenizers` before the fork if possible\n",
      "\t- Explicitly set the environment variable TOKENIZERS_PARALLELISM=(true | false)\n",
      "huggingface/tokenizers: The current process just got forked, after parallelism has already been used. Disabling parallelism to avoid deadlocks...\n",
      "To disable this warning, you can either:\n",
      "\t- Avoid using `tokenizers` before the fork if possible\n",
      "\t- Explicitly set the environment variable TOKENIZERS_PARALLELISM=(true | false)\n",
      "huggingface/tokenizers: The current process just got forked, after parallelism has already been used. Disabling parallelism to avoid deadlocks...\n",
      "To disable this warning, you can either:\n",
      "\t- Avoid using `tokenizers` before the fork if possible\n",
      "\t- Explicitly set the environment variable TOKENIZERS_PARALLELISM=(true | false)\n",
      "huggingface/tokenizers: The current process just got forked, after parallelism has already been used. Disabling parallelism to avoid deadlocks...\n",
      "To disable this warning, you can either:\n",
      "\t- Avoid using `tokenizers` before the fork if possible\n",
      "\t- Explicitly set the environment variable TOKENIZERS_PARALLELISM=(true | false)\n"
     ]
    },
    {
     "name": "stdout",
     "output_type": "stream",
     "text": [
      "Epoch 5/10, Loss: 0.0367, Train Accuracy: 0.9873, Test Accuracy: 0.8738, data_loading time: 1.6793389320373535                 compute time: 42.599968671798706 total epoch time: 44.69762635231018\n",
      "-------------------------------------------------------------------------------\n"
     ]
    },
    {
     "name": "stderr",
     "output_type": "stream",
     "text": [
      "huggingface/tokenizers: The current process just got forked, after parallelism has already been used. Disabling parallelism to avoid deadlocks...\n",
      "To disable this warning, you can either:\n",
      "\t- Avoid using `tokenizers` before the fork if possible\n",
      "\t- Explicitly set the environment variable TOKENIZERS_PARALLELISM=(true | false)\n",
      "huggingface/tokenizers: The current process just got forked, after parallelism has already been used. Disabling parallelism to avoid deadlocks...\n",
      "To disable this warning, you can either:\n",
      "\t- Avoid using `tokenizers` before the fork if possible\n",
      "\t- Explicitly set the environment variable TOKENIZERS_PARALLELISM=(true | false)\n",
      "huggingface/tokenizers: The current process just got forked, after parallelism has already been used. Disabling parallelism to avoid deadlocks...\n",
      "To disable this warning, you can either:\n",
      "\t- Avoid using `tokenizers` before the fork if possible\n",
      "\t- Explicitly set the environment variable TOKENIZERS_PARALLELISM=(true | false)\n",
      "huggingface/tokenizers: The current process just got forked, after parallelism has already been used. Disabling parallelism to avoid deadlocks...\n",
      "To disable this warning, you can either:\n",
      "\t- Avoid using `tokenizers` before the fork if possible\n",
      "\t- Explicitly set the environment variable TOKENIZERS_PARALLELISM=(true | false)\n"
     ]
    },
    {
     "name": "stdout",
     "output_type": "stream",
     "text": [
      "Epoch 6/10, Loss: 0.0345, Train Accuracy: 0.9886, Test Accuracy: 0.8768, data_loading time: 1.434535026550293                 compute time: 42.40711259841919 total epoch time: 44.21923112869263\n",
      "-------------------------------------------------------------------------------\n"
     ]
    },
    {
     "name": "stderr",
     "output_type": "stream",
     "text": [
      "huggingface/tokenizers: The current process just got forked, after parallelism has already been used. Disabling parallelism to avoid deadlocks...\n",
      "To disable this warning, you can either:\n",
      "\t- Avoid using `tokenizers` before the fork if possible\n",
      "\t- Explicitly set the environment variable TOKENIZERS_PARALLELISM=(true | false)\n",
      "huggingface/tokenizers: The current process just got forked, after parallelism has already been used. Disabling parallelism to avoid deadlocks...\n",
      "To disable this warning, you can either:\n",
      "\t- Avoid using `tokenizers` before the fork if possible\n",
      "\t- Explicitly set the environment variable TOKENIZERS_PARALLELISM=(true | false)\n",
      "huggingface/tokenizers: The current process just got forked, after parallelism has already been used. Disabling parallelism to avoid deadlocks...\n",
      "To disable this warning, you can either:\n",
      "\t- Avoid using `tokenizers` before the fork if possible\n",
      "\t- Explicitly set the environment variable TOKENIZERS_PARALLELISM=(true | false)\n",
      "huggingface/tokenizers: The current process just got forked, after parallelism has already been used. Disabling parallelism to avoid deadlocks...\n",
      "To disable this warning, you can either:\n",
      "\t- Avoid using `tokenizers` before the fork if possible\n",
      "\t- Explicitly set the environment variable TOKENIZERS_PARALLELISM=(true | false)\n"
     ]
    },
    {
     "name": "stdout",
     "output_type": "stream",
     "text": [
      "Epoch 7/10, Loss: 0.0279, Train Accuracy: 0.9905, Test Accuracy: 0.8475, data_loading time: 1.2670419216156006                 compute time: 42.32213115692139 total epoch time: 43.94996213912964\n",
      "-------------------------------------------------------------------------------\n"
     ]
    },
    {
     "name": "stderr",
     "output_type": "stream",
     "text": [
      "huggingface/tokenizers: The current process just got forked, after parallelism has already been used. Disabling parallelism to avoid deadlocks...\n",
      "To disable this warning, you can either:\n",
      "\t- Avoid using `tokenizers` before the fork if possible\n",
      "\t- Explicitly set the environment variable TOKENIZERS_PARALLELISM=(true | false)\n",
      "huggingface/tokenizers: The current process just got forked, after parallelism has already been used. Disabling parallelism to avoid deadlocks...\n",
      "To disable this warning, you can either:\n",
      "\t- Avoid using `tokenizers` before the fork if possible\n",
      "\t- Explicitly set the environment variable TOKENIZERS_PARALLELISM=(true | false)\n",
      "huggingface/tokenizers: The current process just got forked, after parallelism has already been used. Disabling parallelism to avoid deadlocks...\n",
      "To disable this warning, you can either:\n",
      "\t- Avoid using `tokenizers` before the fork if possible\n",
      "\t- Explicitly set the environment variable TOKENIZERS_PARALLELISM=(true | false)\n",
      "huggingface/tokenizers: The current process just got forked, after parallelism has already been used. Disabling parallelism to avoid deadlocks...\n",
      "To disable this warning, you can either:\n",
      "\t- Avoid using `tokenizers` before the fork if possible\n",
      "\t- Explicitly set the environment variable TOKENIZERS_PARALLELISM=(true | false)\n"
     ]
    },
    {
     "name": "stdout",
     "output_type": "stream",
     "text": [
      "Epoch 8/10, Loss: 0.0249, Train Accuracy: 0.9910, Test Accuracy: 0.8602, data_loading time: 1.3984229564666748                 compute time: 42.26859664916992 total epoch time: 44.03139567375183\n",
      "-------------------------------------------------------------------------------\n"
     ]
    },
    {
     "name": "stderr",
     "output_type": "stream",
     "text": [
      "huggingface/tokenizers: The current process just got forked, after parallelism has already been used. Disabling parallelism to avoid deadlocks...\n",
      "To disable this warning, you can either:\n",
      "\t- Avoid using `tokenizers` before the fork if possible\n",
      "\t- Explicitly set the environment variable TOKENIZERS_PARALLELISM=(true | false)\n",
      "huggingface/tokenizers: The current process just got forked, after parallelism has already been used. Disabling parallelism to avoid deadlocks...\n",
      "To disable this warning, you can either:\n",
      "\t- Avoid using `tokenizers` before the fork if possible\n",
      "\t- Explicitly set the environment variable TOKENIZERS_PARALLELISM=(true | false)\n",
      "huggingface/tokenizers: The current process just got forked, after parallelism has already been used. Disabling parallelism to avoid deadlocks...\n",
      "To disable this warning, you can either:\n",
      "\t- Avoid using `tokenizers` before the fork if possible\n",
      "\t- Explicitly set the environment variable TOKENIZERS_PARALLELISM=(true | false)\n",
      "huggingface/tokenizers: The current process just got forked, after parallelism has already been used. Disabling parallelism to avoid deadlocks...\n",
      "To disable this warning, you can either:\n",
      "\t- Avoid using `tokenizers` before the fork if possible\n",
      "\t- Explicitly set the environment variable TOKENIZERS_PARALLELISM=(true | false)\n"
     ]
    },
    {
     "name": "stdout",
     "output_type": "stream",
     "text": [
      "Epoch 9/10, Loss: 0.0235, Train Accuracy: 0.9925, Test Accuracy: 0.8422, data_loading time: 1.555617332458496                 compute time: 42.46973276138306 total epoch time: 44.43778443336487\n",
      "-------------------------------------------------------------------------------\n"
     ]
    },
    {
     "name": "stderr",
     "output_type": "stream",
     "text": [
      "huggingface/tokenizers: The current process just got forked, after parallelism has already been used. Disabling parallelism to avoid deadlocks...\n",
      "To disable this warning, you can either:\n",
      "\t- Avoid using `tokenizers` before the fork if possible\n",
      "\t- Explicitly set the environment variable TOKENIZERS_PARALLELISM=(true | false)\n",
      "huggingface/tokenizers: The current process just got forked, after parallelism has already been used. Disabling parallelism to avoid deadlocks...\n",
      "To disable this warning, you can either:\n",
      "\t- Avoid using `tokenizers` before the fork if possible\n",
      "\t- Explicitly set the environment variable TOKENIZERS_PARALLELISM=(true | false)\n",
      "huggingface/tokenizers: The current process just got forked, after parallelism has already been used. Disabling parallelism to avoid deadlocks...\n",
      "To disable this warning, you can either:\n",
      "\t- Avoid using `tokenizers` before the fork if possible\n",
      "\t- Explicitly set the environment variable TOKENIZERS_PARALLELISM=(true | false)\n",
      "huggingface/tokenizers: The current process just got forked, after parallelism has already been used. Disabling parallelism to avoid deadlocks...\n",
      "To disable this warning, you can either:\n",
      "\t- Avoid using `tokenizers` before the fork if possible\n",
      "\t- Explicitly set the environment variable TOKENIZERS_PARALLELISM=(true | false)\n"
     ]
    },
    {
     "name": "stdout",
     "output_type": "stream",
     "text": [
      "Epoch 10/10, Loss: 0.0201, Train Accuracy: 0.9942, Test Accuracy: 0.8427, data_loading time: 1.699692726135254                 compute time: 42.58069634437561 total epoch time: 44.717750787734985\n",
      "-------------------------------------------------------------------------------\n"
     ]
    },
    {
     "name": "stderr",
     "output_type": "stream",
     "text": [
      "huggingface/tokenizers: The current process just got forked, after parallelism has already been used. Disabling parallelism to avoid deadlocks...\n",
      "To disable this warning, you can either:\n",
      "\t- Avoid using `tokenizers` before the fork if possible\n",
      "\t- Explicitly set the environment variable TOKENIZERS_PARALLELISM=(true | false)\n",
      "huggingface/tokenizers: The current process just got forked, after parallelism has already been used. Disabling parallelism to avoid deadlocks...\n",
      "To disable this warning, you can either:\n",
      "\t- Avoid using `tokenizers` before the fork if possible\n",
      "\t- Explicitly set the environment variable TOKENIZERS_PARALLELISM=(true | false)\n",
      "\u001b[34m\u001b[1mwandb\u001b[0m: \u001b[32m\u001b[41mERROR\u001b[0m The nbformat package was not found. It is required to save notebook history.\n"
     ]
    },
    {
     "data": {
      "text/html": [],
      "text/plain": [
       "<IPython.core.display.HTML object>"
      ]
     },
     "metadata": {},
     "output_type": "display_data"
    },
    {
     "data": {
      "text/html": [
       "<br>    <style><br>        .wandb-row {<br>            display: flex;<br>            flex-direction: row;<br>            flex-wrap: wrap;<br>            justify-content: flex-start;<br>            width: 100%;<br>        }<br>        .wandb-col {<br>            display: flex;<br>            flex-direction: column;<br>            flex-basis: 100%;<br>            flex: 1;<br>            padding: 10px;<br>        }<br>    </style><br><div class=\"wandb-row\"><div class=\"wandb-col\"><h3>Run history:</h3><br/><table class=\"wandb\"><tr><td>compute time</td><td>▁▅▅▅█▅▄▃▆█</td></tr><tr><td>data-loading time</td><td>▁▂▃▂█▄▁▃▆█</td></tr><tr><td>test/acc</td><td>█▆▇▅▅▆▂▃▁▁</td></tr><tr><td>total epoch time</td><td>▁▃▄▃█▄▂▃▆█</td></tr><tr><td>train/acc</td><td>▁▅▇▇██████</td></tr></table><br/></div><div class=\"wandb-col\"><h3>Run summary:</h3><br/><table class=\"wandb\"><tr><td>compute time</td><td>42.5807</td></tr><tr><td>data-loading time</td><td>1.69969</td></tr><tr><td>test/acc</td><td>0.84268</td></tr><tr><td>total epoch time</td><td>44.71775</td></tr><tr><td>train/acc</td><td>0.99416</td></tr></table><br/></div></div>"
      ],
      "text/plain": [
       "<IPython.core.display.HTML object>"
      ]
     },
     "metadata": {},
     "output_type": "display_data"
    },
    {
     "data": {
      "text/html": [
       " View run <strong style=\"color:#cdcd00\">lr0.0001_bs32_compileFalse_C8</strong> at: <a href='https://wandb.ai/kaimao-columbia-university/hpml-hw2-llm3/runs/279apgn7' target=\"_blank\">https://wandb.ai/kaimao-columbia-university/hpml-hw2-llm3/runs/279apgn7</a><br> View project at: <a href='https://wandb.ai/kaimao-columbia-university/hpml-hw2-llm3' target=\"_blank\">https://wandb.ai/kaimao-columbia-university/hpml-hw2-llm3</a><br>Synced 5 W&B file(s), 0 media file(s), 0 artifact file(s) and 0 other file(s)"
      ],
      "text/plain": [
       "<IPython.core.display.HTML object>"
      ]
     },
     "metadata": {},
     "output_type": "display_data"
    },
    {
     "data": {
      "text/html": [
       "Find logs at: <code>./wandb/run-20251024_041729-279apgn7/logs</code>"
      ],
      "text/plain": [
       "<IPython.core.display.HTML object>"
      ]
     },
     "metadata": {},
     "output_type": "display_data"
    }
   ],
   "source": [
    "sweep_config = {\n",
    "    'method': 'grid',\n",
    "    'parameters': {\n",
    "        \"compile_mode\":{'values': [True, False]}\n",
    "    }\n",
    "}\n",
    "\n",
    "sweep_id = wandb.sweep(sweep_config, project=project_name)\n",
    "\n",
    "wandb.agent(sweep_id, function=train_C8, count=2)\n",
    "wandb.finish()\n"
   ]
  },
  {
   "cell_type": "code",
   "execution_count": 94,
   "id": "a7776c3e-f7cf-4abe-bb78-4649180c15d6",
   "metadata": {},
   "outputs": [
    {
     "name": "stdout",
     "output_type": "stream",
     "text": [
      "[41.62350416183472, 43.7539918422699]\n"
     ]
    },
    {
     "data": {
      "image/png": "[encoded data removed]",
      "text/plain": [
       "<Figure size 600x400 with 1 Axes>"
      ]
     },
     "metadata": {},
     "output_type": "display_data"
    }
   ],
   "source": [
    "labels = [\"Eager\", \"Compile-Inductor\"]\n",
    "\n",
    "x = np.arange(len(labels))\n",
    "bar_width = 0.35\n",
    "\n",
    "print(first_epoch_time)\n",
    "# Plot\n",
    "plt.figure(figsize=(6, 4))\n",
    "plt.bar(x - bar_width/2, first_epoch_time, width=bar_width, label=\"First Epoch Time\")\n",
    "plt.bar(x + bar_width/2, avg_afterwards_epoch_time, width=bar_width, label=\"Avg Epoch Time\")\n",
    "\n",
    "# Formatting\n",
    "plt.xticks(x, labels, rotation=20, ha='right')\n",
    "plt.ylabel(\"Time (s)\")\n",
    "plt.title(\"First vs. Avg Epoch Time per Configuration\")\n",
    "plt.legend()\n",
    "plt.tight_layout()\n",
    "plt.show()"
   ]
  },
  {
   "cell_type": "code",
   "execution_count": 95,
   "id": "271ae425-b864-441b-b659-fd1d429d4f9c",
   "metadata": {},
   "outputs": [
    {
     "name": "stdout",
     "output_type": "stream",
     "text": [
      "[41.62350416183472, 43.7539918422699] [42.3168869972229, 44.27122483253479]\n"
     ]
    }
   ],
   "source": [
    "print(first_epoch_time, avg_afterwards_epoch_time)"
   ]
  },
  {
   "cell_type": "code",
   "execution_count": 107,
   "id": "4bd29514-0b7b-4f8e-a8c1-dcfc029868bb",
   "metadata": {},
   "outputs": [
    {
     "name": "stderr",
     "output_type": "stream",
     "text": [
      "\u001b[34m\u001b[1mwandb\u001b[0m: Manually resetting W&B backend...\n"
     ]
    },
    {
     "ename": "KeyboardInterrupt",
     "evalue": "",
     "output_type": "error",
     "traceback": [
      "\u001b[31m---------------------------------------------------------------------------\u001b[39m",
      "\u001b[31mKeyboardInterrupt\u001b[39m                         Traceback (most recent call last)",
      "\u001b[36mCell\u001b[39m\u001b[36m \u001b[39m\u001b[32mIn[107]\u001b[39m\u001b[32m, line 3\u001b[39m\n\u001b[32m      1\u001b[39m wandb.termlog(\u001b[33m\"\u001b[39m\u001b[33mManually resetting W&B backend...\u001b[39m\u001b[33m\"\u001b[39m)\n\u001b[32m      2\u001b[39m wandb.finish()\n\u001b[32m----> \u001b[39m\u001b[32m3\u001b[39m \u001b[43mwandb\u001b[49m\u001b[43m.\u001b[49m\u001b[43mteardown\u001b[49m\u001b[43m(\u001b[49m\u001b[43m)\u001b[49m\n\u001b[32m      5\u001b[39m \u001b[38;5;66;03m# Clear the global run object\u001b[39;00m\n\u001b[32m      6\u001b[39m wandb.run = \u001b[38;5;28;01mNone\u001b[39;00m\n",
      "\u001b[36mFile \u001b[39m\u001b[32m/venv/main/lib/python3.12/contextlib.py:81\u001b[39m, in \u001b[36mContextDecorator.__call__.<locals>.inner\u001b[39m\u001b[34m(*args, **kwds)\u001b[39m\n\u001b[32m     78\u001b[39m \u001b[38;5;129m@wraps\u001b[39m(func)\n\u001b[32m     79\u001b[39m \u001b[38;5;28;01mdef\u001b[39;00m\u001b[38;5;250m \u001b[39m\u001b[34minner\u001b[39m(*args, **kwds):\n\u001b[32m     80\u001b[39m     \u001b[38;5;28;01mwith\u001b[39;00m \u001b[38;5;28mself\u001b[39m._recreate_cm():\n\u001b[32m---> \u001b[39m\u001b[32m81\u001b[39m         \u001b[38;5;28;01mreturn\u001b[39;00m \u001b[43mfunc\u001b[49m\u001b[43m(\u001b[49m\u001b[43m*\u001b[49m\u001b[43margs\u001b[49m\u001b[43m,\u001b[49m\u001b[43m \u001b[49m\u001b[43m*\u001b[49m\u001b[43m*\u001b[49m\u001b[43mkwds\u001b[49m\u001b[43m)\u001b[49m\n",
      "\u001b[36mFile \u001b[39m\u001b[32m/venv/main/lib/python3.12/site-packages/wandb/sdk/wandb_setup.py:555\u001b[39m, in \u001b[36mteardown\u001b[39m\u001b[34m(exit_code)\u001b[39m\n\u001b[32m    543\u001b[39m \u001b[38;5;250m\u001b[39m\u001b[33;03m\"\"\"Waits for W&B to finish and frees resources.\u001b[39;00m\n\u001b[32m    544\u001b[39m \n\u001b[32m    545\u001b[39m \u001b[33;03mCompletes any runs that were not explicitly finished\u001b[39;00m\n\u001b[32m   (...)\u001b[39m\u001b[32m    551\u001b[39m \u001b[33;03msuch as when using Python's `multiprocessing` module.\u001b[39;00m\n\u001b[32m    552\u001b[39m \u001b[33;03m\"\"\"\u001b[39;00m\n\u001b[32m    553\u001b[39m \u001b[38;5;28;01mglobal\u001b[39;00m _singleton\n\u001b[32m--> \u001b[39m\u001b[32m555\u001b[39m \u001b[43m\u001b[49m\u001b[38;5;28;43;01mwith\u001b[39;49;00m\u001b[43m \u001b[49m\u001b[43m_singleton_lock\u001b[49m\u001b[43m:\u001b[49m\n\u001b[32m    556\u001b[39m \u001b[43m    \u001b[49m\u001b[43morig_singleton\u001b[49m\u001b[43m \u001b[49m\u001b[43m=\u001b[49m\u001b[43m \u001b[49m\u001b[43m_singleton\u001b[49m\n\u001b[32m    557\u001b[39m \u001b[43m    \u001b[49m\u001b[43m_singleton\u001b[49m\u001b[43m \u001b[49m\u001b[43m=\u001b[49m\u001b[43m \u001b[49m\u001b[38;5;28;43;01mNone\u001b[39;49;00m\n",
      "\u001b[31mKeyboardInterrupt\u001b[39m: "
     ]
    }
   ],
   "source": [
    "wandb.termlog(\"Manually resetting W&B backend...\")\n",
    "wandb.finish()\n",
    "wandb.teardown()\n",
    "\n",
    "# Clear the global run object\n",
    "wandb.run = None\n",
    "wandb._thread_local = None"
   ]
  },
  {
   "cell_type": "code",
   "execution_count": 101,
   "id": "371e25b9-cfdc-4e18-9f9c-501121aa7610",
   "metadata": {},
   "outputs": [
    {
     "data": {
      "text/html": [],
      "text/plain": [
       "<IPython.core.display.HTML object>"
      ]
     },
     "metadata": {},
     "output_type": "display_data"
    },
    {
     "data": {
      "text/html": [
       "Tracking run with wandb version 0.22.2"
      ],
      "text/plain": [
       "<IPython.core.display.HTML object>"
      ]
     },
     "metadata": {},
     "output_type": "display_data"
    },
    {
     "data": {
      "text/html": [
       "Run data is saved locally in <code>/workspace/wandb/run-20251024_043043-gwa0j3p8</code>"
      ],
      "text/plain": [
       "<IPython.core.display.HTML object>"
      ]
     },
     "metadata": {},
     "output_type": "display_data"
    },
    {
     "data": {
      "text/html": [
       "Syncing run <strong><a href='https://wandb.ai/kaimao-columbia-university/hpml-hw2-llm3/runs/gwa0j3p8' target=\"_blank\">C8 result</a></strong> to <a href='https://wandb.ai/kaimao-columbia-university/hpml-hw2-llm3' target=\"_blank\">Weights & Biases</a> (<a href='https://wandb.me/developer-guide' target=\"_blank\">docs</a>)<br>"
      ],
      "text/plain": [
       "<IPython.core.display.HTML object>"
      ]
     },
     "metadata": {},
     "output_type": "display_data"
    },
    {
     "data": {
      "text/html": [
       " View project at <a href='https://wandb.ai/kaimao-columbia-university/hpml-hw2-llm3' target=\"_blank\">https://wandb.ai/kaimao-columbia-university/hpml-hw2-llm3</a>"
      ],
      "text/plain": [
       "<IPython.core.display.HTML object>"
      ]
     },
     "metadata": {},
     "output_type": "display_data"
    },
    {
     "data": {
      "text/html": [
       " View run at <a href='https://wandb.ai/kaimao-columbia-university/hpml-hw2-llm3/runs/gwa0j3p8' target=\"_blank\">https://wandb.ai/kaimao-columbia-university/hpml-hw2-llm3/runs/gwa0j3p8</a>"
      ],
      "text/plain": [
       "<IPython.core.display.HTML object>"
      ]
     },
     "metadata": {},
     "output_type": "display_data"
    },
    {
     "name": "stderr",
     "output_type": "stream",
     "text": [
      "\u001b[34m\u001b[1mwandb\u001b[0m: \u001b[32m\u001b[41mERROR\u001b[0m The nbformat package was not found. It is required to save notebook history.\n"
     ]
    },
    {
     "data": {
      "text/html": [],
      "text/plain": [
       "<IPython.core.display.HTML object>"
      ]
     },
     "metadata": {},
     "output_type": "display_data"
    },
    {
     "data": {
      "text/html": [
       " View run <strong style=\"color:#cdcd00\">C8 result</strong> at: <a href='https://wandb.ai/kaimao-columbia-university/hpml-hw2-llm3/runs/gwa0j3p8' target=\"_blank\">https://wandb.ai/kaimao-columbia-university/hpml-hw2-llm3/runs/gwa0j3p8</a><br> View project at: <a href='https://wandb.ai/kaimao-columbia-university/hpml-hw2-llm3' target=\"_blank\">https://wandb.ai/kaimao-columbia-university/hpml-hw2-llm3</a><br>Synced 5 W&B file(s), 1 media file(s), 2 artifact file(s) and 0 other file(s)"
      ],
      "text/plain": [
       "<IPython.core.display.HTML object>"
      ]
     },
     "metadata": {},
     "output_type": "display_data"
    },
    {
     "data": {
      "text/html": [
       "Find logs at: <code>./wandb/run-20251024_043043-gwa0j3p8/logs</code>"
      ],
      "text/plain": [
       "<IPython.core.display.HTML object>"
      ]
     },
     "metadata": {},
     "output_type": "display_data"
    }
   ],
   "source": [
    "wandb.init(project=project_name, name=\"C8 result\", group=\"Eager vs. Compile\")\n",
    "\n",
    "records = []\n",
    "mode = [\"Eager\", \"Compile(Inductor)\"]\n",
    "for i in range(len(mode)):\n",
    "    records.append({\n",
    "        \"Optimizer\": mode[i],\n",
    "        \"First Epoch Time\": first_epoch_time[i],\n",
    "        \"Avg Time Epochs 6-10\": avg_afterwards_epoch_time[i]\n",
    "    })\n",
    "\n",
    "df = pd.DataFrame(records)\n",
    "wandb.log({\"C8_result\":wandb.Table(dataframe=df)})\n",
    "wandb.finish()"
   ]
  },
  {
   "cell_type": "code",
   "execution_count": null,
   "id": "ff0cdc72-bf7a-460c-a82a-4a5597ee0e3e",
   "metadata": {},
   "outputs": [],
   "source": []
  }
 ],
 "metadata": {
  "accelerator": "GPU",
  "colab": {
   "gpuType": "A100",
   "machine_shape": "hm",
   "provenance": []
  },
  "kernelspec": {
   "display_name": "Python3 (ipykernel)",
   "language": "python",
   "name": "python3"
  },
  "language_info": {
   "codemirror_mode": {
    "name": "ipython",
    "version": 3
   },
   "file_extension": ".py",
   "mimetype": "text/x-python",
   "name": "python",
   "nbconvert_exporter": "python",
   "pygments_lexer": "ipython3",
   "version": "3.12.11"
  },
  "widgets": {
   "application/vnd.jupyter.widget-state+json": {
    "0ec1c41e4f85443d868236d675d4856c": {
     "model_module": "@jupyter-widgets/controls",
     "model_module_version": "1.5.0",
     "model_name": "HTMLModel",
     "state": {
      "_dom_classes": [],
      "_model_module": "@jupyter-widgets/controls",
      "_model_module_version": "1.5.0",
      "_model_name": "HTMLModel",
      "_view_count": null,
      "_view_module": "@jupyter-widgets/controls",
      "_view_module_version": "1.5.0",
      "_view_name": "HTMLView",
      "description": "",
      "description_tooltip": null,
      "layout": "IPY_MODEL_ff5b88b3381b4151b68454525b28b50f",
      "placeholder": "​",
      "style": "IPY_MODEL_2e2f639d1d014bb487b918c6425b5745",
      "value": "Map: 100%"
     }
    },
    "2763fccb191a4caba493fc9a544f1cda": {
     "model_module": "@jupyter-widgets/controls",
     "model_module_version": "1.5.0",
     "model_name": "ProgressStyleModel",
     "state": {
      "_model_module": "@jupyter-widgets/controls",
      "_model_module_version": "1.5.0",
      "_model_name": "ProgressStyleModel",
      "_view_count": null,
      "_view_module": "@jupyter-widgets/base",
      "_view_module_version": "1.2.0",
      "_view_name": "StyleView",
      "bar_color": null,
      "description_width": ""
     }
    },
    "2e2f639d1d014bb487b918c6425b5745": {
     "model_module": "@jupyter-widgets/controls",
     "model_module_version": "1.5.0",
     "model_name": "DescriptionStyleModel",
     "state": {
      "_model_module": "@jupyter-widgets/controls",
      "_model_module_version": "1.5.0",
      "_model_name": "DescriptionStyleModel",
      "_view_count": null,
      "_view_module": "@jupyter-widgets/base",
      "_view_module_version": "1.2.0",
      "_view_name": "StyleView",
      "description_width": ""
     }
    },
    "71d002ff786f437a9d6c357929e20124": {
     "model_module": "@jupyter-widgets/base",
     "model_module_version": "1.2.0",
     "model_name": "LayoutModel",
     "state": {
      "_model_module": "@jupyter-widgets/base",
      "_model_module_version": "1.2.0",
      "_model_name": "LayoutModel",
      "_view_count": null,
      "_view_module": "@jupyter-widgets/base",
      "_view_module_version": "1.2.0",
      "_view_name": "LayoutView",
      "align_content": null,
      "align_items": null,
      "align_self": null,
      "border": null,
      "bottom": null,
      "display": null,
      "flex": null,
      "flex_flow": null,
      "grid_area": null,
      "grid_auto_columns": null,
      "grid_auto_flow": null,
      "grid_auto_rows": null,
      "grid_column": null,
      "grid_gap": null,
      "grid_row": null,
      "grid_template_areas": null,
      "grid_template_columns": null,
      "grid_template_rows": null,
      "height": null,
      "justify_content": null,
      "justify_items": null,
      "left": null,
      "margin": null,
      "max_height": null,
      "max_width": null,
      "min_height": null,
      "min_width": null,
      "object_fit": null,
      "object_position": null,
      "order": null,
      "overflow": null,
      "overflow_x": null,
      "overflow_y": null,
      "padding": null,
      "right": null,
      "top": null,
      "visibility": null,
      "width": null
     }
    },
    "9e60bb5a41184f2cae93e58c6b02ffb7": {
     "model_module": "@jupyter-widgets/controls",
     "model_module_version": "1.5.0",
     "model_name": "HBoxModel",
     "state": {
      "_dom_classes": [],
      "_model_module": "@jupyter-widgets/controls",
      "_model_module_version": "1.5.0",
      "_model_name": "HBoxModel",
      "_view_count": null,
      "_view_module": "@jupyter-widgets/controls",
      "_view_module_version": "1.5.0",
      "_view_name": "HBoxView",
      "box_style": "",
      "children": [
       "IPY_MODEL_0ec1c41e4f85443d868236d675d4856c",
       "IPY_MODEL_fd84667a1aaa44c288d97c0ad517c6d7",
       "IPY_MODEL_b00e56680967401297f32c292ac64e76"
      ],
      "layout": "IPY_MODEL_cae1675924e54ce0826c88b7a2711f24"
     }
    },
    "b00e56680967401297f32c292ac64e76": {
     "model_module": "@jupyter-widgets/controls",
     "model_module_version": "1.5.0",
     "model_name": "HTMLModel",
     "state": {
      "_dom_classes": [],
      "_model_module": "@jupyter-widgets/controls",
      "_model_module_version": "1.5.0",
      "_model_name": "HTMLModel",
      "_view_count": null,
      "_view_module": "@jupyter-widgets/controls",
      "_view_module_version": "1.5.0",
      "_view_name": "HTMLView",
      "description": "",
      "description_tooltip": null,
      "layout": "IPY_MODEL_e7fe655b8ca94c21be6b7ef837170d7e",
      "placeholder": "​",
      "style": "IPY_MODEL_ce7bffdded0c43439799617ef3e25355",
      "value": " 50000/50000 [00:14&lt;00:00, 3460.34 examples/s]"
     }
    },
    "cae1675924e54ce0826c88b7a2711f24": {
     "model_module": "@jupyter-widgets/base",
     "model_module_version": "1.2.0",
     "model_name": "LayoutModel",
     "state": {
      "_model_module": "@jupyter-widgets/base",
      "_model_module_version": "1.2.0",
      "_model_name": "LayoutModel",
      "_view_count": null,
      "_view_module": "@jupyter-widgets/base",
      "_view_module_version": "1.2.0",
      "_view_name": "LayoutView",
      "align_content": null,
      "align_items": null,
      "align_self": null,
      "border": null,
      "bottom": null,
      "display": null,
      "flex": null,
      "flex_flow": null,
      "grid_area": null,
      "grid_auto_columns": null,
      "grid_auto_flow": null,
      "grid_auto_rows": null,
      "grid_column": null,
      "grid_gap": null,
      "grid_row": null,
      "grid_template_areas": null,
      "grid_template_columns": null,
      "grid_template_rows": null,
      "height": null,
      "justify_content": null,
      "justify_items": null,
      "left": null,
      "margin": null,
      "max_height": null,
      "max_width": null,
      "min_height": null,
      "min_width": null,
      "object_fit": null,
      "object_position": null,
      "order": null,
      "overflow": null,
      "overflow_x": null,
      "overflow_y": null,
      "padding": null,
      "right": null,
      "top": null,
      "visibility": null,
      "width": null
     }
    },
    "ce7bffdded0c43439799617ef3e25355": {
     "model_module": "@jupyter-widgets/controls",
     "model_module_version": "1.5.0",
     "model_name": "DescriptionStyleModel",
     "state": {
      "_model_module": "@jupyter-widgets/controls",
      "_model_module_version": "1.5.0",
      "_model_name": "DescriptionStyleModel",
      "_view_count": null,
      "_view_module": "@jupyter-widgets/base",
      "_view_module_version": "1.2.0",
      "_view_name": "StyleView",
      "description_width": ""
     }
    },
    "e7fe655b8ca94c21be6b7ef837170d7e": {
     "model_module": "@jupyter-widgets/base",
     "model_module_version": "1.2.0",
     "model_name": "LayoutModel",
     "state": {
      "_model_module": "@jupyter-widgets/base",
      "_model_module_version": "1.2.0",
      "_model_name": "LayoutModel",
      "_view_count": null,
      "_view_module": "@jupyter-widgets/base",
      "_view_module_version": "1.2.0",
      "_view_name": "LayoutView",
      "align_content": null,
      "align_items": null,
      "align_self": null,
      "border": null,
      "bottom": null,
      "display": null,
      "flex": null,
      "flex_flow": null,
      "grid_area": null,
      "grid_auto_columns": null,
      "grid_auto_flow": null,
      "grid_auto_rows": null,
      "grid_column": null,
      "grid_gap": null,
      "grid_row": null,
      "grid_template_areas": null,
      "grid_template_columns": null,
      "grid_template_rows": null,
      "height": null,
      "justify_content": null,
      "justify_items": null,
      "left": null,
      "margin": null,
      "max_height": null,
      "max_width": null,
      "min_height": null,
      "min_width": null,
      "object_fit": null,
      "object_position": null,
      "order": null,
      "overflow": null,
      "overflow_x": null,
      "overflow_y": null,
      "padding": null,
      "right": null,
      "top": null,
      "visibility": null,
      "width": null
     }
    },
    "fd84667a1aaa44c288d97c0ad517c6d7": {
     "model_module": "@jupyter-widgets/controls",
     "model_module_version": "1.5.0",
     "model_name": "FloatProgressModel",
     "state": {
      "_dom_classes": [],
      "_model_module": "@jupyter-widgets/controls",
      "_model_module_version": "1.5.0",
      "_model_name": "FloatProgressModel",
      "_view_count": null,
      "_view_module": "@jupyter-widgets/controls",
      "_view_module_version": "1.5.0",
      "_view_name": "ProgressView",
      "bar_style": "success",
      "description": "",
      "description_tooltip": null,
      "layout": "IPY_MODEL_71d002ff786f437a9d6c357929e20124",
      "max": 50000,
      "min": 0,
      "orientation": "horizontal",
      "style": "IPY_MODEL_2763fccb191a4caba493fc9a544f1cda",
      "value": 50000
     }
    },
    "ff5b88b3381b4151b68454525b28b50f": {
     "model_module": "@jupyter-widgets/base",
     "model_module_version": "1.2.0",
     "model_name": "LayoutModel",
     "state": {
      "_model_module": "@jupyter-widgets/base",
      "_model_module_version": "1.2.0",
      "_model_name": "LayoutModel",
      "_view_count": null,
      "_view_module": "@jupyter-widgets/base",
      "_view_module_version": "1.2.0",
      "_view_name": "LayoutView",
      "align_content": null,
      "align_items": null,
      "align_self": null,
      "border": null,
      "bottom": null,
      "display": null,
      "flex": null,
      "flex_flow": null,
      "grid_area": null,
      "grid_auto_columns": null,
      "grid_auto_flow": null,
      "grid_auto_rows": null,
      "grid_column": null,
      "grid_gap": null,
      "grid_row": null,
      "grid_template_areas": null,
      "grid_template_columns": null,
      "grid_template_rows": null,
      "height": null,
      "justify_content": null,
      "justify_items": null,
      "left": null,
      "margin": null,
      "max_height": null,
      "max_width": null,
      "min_height": null,
      "min_width": null,
      "object_fit": null,
      "object_position": null,
      "order": null,
      "overflow": null,
      "overflow_x": null,
      "overflow_y": null,
      "padding": null,
      "right": null,
      "top": null,
      "visibility": null,
      "width": null
     }
    }
   }
  }
 },
 "nbformat": 4,
 "nbformat_minor": 5
}

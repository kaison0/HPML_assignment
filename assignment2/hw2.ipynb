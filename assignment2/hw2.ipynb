{
  "cells": [
    {
      "cell_type": "code",
      "execution_count": 25,
      "id": "525cb661",
      "metadata": {
        "vscode": {
          "languageId": "plaintext"
        },
        "id": "525cb661",
        "outputId": "4de4e8f5-ffdf-49be-98a3-610b0aeafda3",
        "colab": {
          "base_uri": "https://localhost:8080/"
        }
      },
      "outputs": [
        {
          "output_type": "stream",
          "name": "stdout",
          "text": [
            "Requirement already satisfied: datasets in /usr/local/lib/python3.12/dist-packages (4.0.0)\n",
            "Requirement already satisfied: filelock in /usr/local/lib/python3.12/dist-packages (from datasets) (3.20.0)\n",
            "Requirement already satisfied: numpy>=1.17 in /usr/local/lib/python3.12/dist-packages (from datasets) (2.0.2)\n",
            "Requirement already satisfied: pyarrow>=15.0.0 in /usr/local/lib/python3.12/dist-packages (from datasets) (18.1.0)\n",
            "Requirement already satisfied: dill<0.3.9,>=0.3.0 in /usr/local/lib/python3.12/dist-packages (from datasets) (0.3.8)\n",
            "Requirement already satisfied: pandas in /usr/local/lib/python3.12/dist-packages (from datasets) (2.2.2)\n",
            "Requirement already satisfied: requests>=2.32.2 in /usr/local/lib/python3.12/dist-packages (from datasets) (2.32.4)\n",
            "Requirement already satisfied: tqdm>=4.66.3 in /usr/local/lib/python3.12/dist-packages (from datasets) (4.67.1)\n",
            "Requirement already satisfied: xxhash in /usr/local/lib/python3.12/dist-packages (from datasets) (3.6.0)\n",
            "Requirement already satisfied: multiprocess<0.70.17 in /usr/local/lib/python3.12/dist-packages (from datasets) (0.70.16)\n",
            "Requirement already satisfied: fsspec<=2025.3.0,>=2023.1.0 in /usr/local/lib/python3.12/dist-packages (from fsspec[http]<=2025.3.0,>=2023.1.0->datasets) (2025.3.0)\n",
            "Requirement already satisfied: huggingface-hub>=0.24.0 in /usr/local/lib/python3.12/dist-packages (from datasets) (0.35.3)\n",
            "Requirement already satisfied: packaging in /usr/local/lib/python3.12/dist-packages (from datasets) (25.0)\n",
            "Requirement already satisfied: pyyaml>=5.1 in /usr/local/lib/python3.12/dist-packages (from datasets) (6.0.3)\n",
            "Requirement already satisfied: aiohttp!=4.0.0a0,!=4.0.0a1 in /usr/local/lib/python3.12/dist-packages (from fsspec[http]<=2025.3.0,>=2023.1.0->datasets) (3.13.0)\n",
            "Requirement already satisfied: typing-extensions>=3.7.4.3 in /usr/local/lib/python3.12/dist-packages (from huggingface-hub>=0.24.0->datasets) (4.15.0)\n",
            "Requirement already satisfied: hf-xet<2.0.0,>=1.1.3 in /usr/local/lib/python3.12/dist-packages (from huggingface-hub>=0.24.0->datasets) (1.1.10)\n",
            "Requirement already satisfied: charset_normalizer<4,>=2 in /usr/local/lib/python3.12/dist-packages (from requests>=2.32.2->datasets) (3.4.4)\n",
            "Requirement already satisfied: idna<4,>=2.5 in /usr/local/lib/python3.12/dist-packages (from requests>=2.32.2->datasets) (3.11)\n",
            "Requirement already satisfied: urllib3<3,>=1.21.1 in /usr/local/lib/python3.12/dist-packages (from requests>=2.32.2->datasets) (2.5.0)\n",
            "Requirement already satisfied: certifi>=2017.4.17 in /usr/local/lib/python3.12/dist-packages (from requests>=2.32.2->datasets) (2025.10.5)\n",
            "Requirement already satisfied: python-dateutil>=2.8.2 in /usr/local/lib/python3.12/dist-packages (from pandas->datasets) (2.9.0.post0)\n",
            "Requirement already satisfied: pytz>=2020.1 in /usr/local/lib/python3.12/dist-packages (from pandas->datasets) (2025.2)\n",
            "Requirement already satisfied: tzdata>=2022.7 in /usr/local/lib/python3.12/dist-packages (from pandas->datasets) (2025.2)\n",
            "Requirement already satisfied: aiohappyeyeballs>=2.5.0 in /usr/local/lib/python3.12/dist-packages (from aiohttp!=4.0.0a0,!=4.0.0a1->fsspec[http]<=2025.3.0,>=2023.1.0->datasets) (2.6.1)\n",
            "Requirement already satisfied: aiosignal>=1.4.0 in /usr/local/lib/python3.12/dist-packages (from aiohttp!=4.0.0a0,!=4.0.0a1->fsspec[http]<=2025.3.0,>=2023.1.0->datasets) (1.4.0)\n",
            "Requirement already satisfied: attrs>=17.3.0 in /usr/local/lib/python3.12/dist-packages (from aiohttp!=4.0.0a0,!=4.0.0a1->fsspec[http]<=2025.3.0,>=2023.1.0->datasets) (25.4.0)\n",
            "Requirement already satisfied: frozenlist>=1.1.1 in /usr/local/lib/python3.12/dist-packages (from aiohttp!=4.0.0a0,!=4.0.0a1->fsspec[http]<=2025.3.0,>=2023.1.0->datasets) (1.8.0)\n",
            "Requirement already satisfied: multidict<7.0,>=4.5 in /usr/local/lib/python3.12/dist-packages (from aiohttp!=4.0.0a0,!=4.0.0a1->fsspec[http]<=2025.3.0,>=2023.1.0->datasets) (6.7.0)\n",
            "Requirement already satisfied: propcache>=0.2.0 in /usr/local/lib/python3.12/dist-packages (from aiohttp!=4.0.0a0,!=4.0.0a1->fsspec[http]<=2025.3.0,>=2023.1.0->datasets) (0.4.1)\n",
            "Requirement already satisfied: yarl<2.0,>=1.17.0 in /usr/local/lib/python3.12/dist-packages (from aiohttp!=4.0.0a0,!=4.0.0a1->fsspec[http]<=2025.3.0,>=2023.1.0->datasets) (1.22.0)\n",
            "Requirement already satisfied: six>=1.5 in /usr/local/lib/python3.12/dist-packages (from python-dateutil>=2.8.2->pandas->datasets) (1.17.0)\n",
            "Requirement already satisfied: wandb in /usr/local/lib/python3.12/dist-packages (0.22.2)\n",
            "Requirement already satisfied: click>=8.0.1 in /usr/local/lib/python3.12/dist-packages (from wandb) (8.3.0)\n",
            "Requirement already satisfied: gitpython!=3.1.29,>=1.0.0 in /usr/local/lib/python3.12/dist-packages (from wandb) (3.1.45)\n",
            "Requirement already satisfied: packaging in /usr/local/lib/python3.12/dist-packages (from wandb) (25.0)\n",
            "Requirement already satisfied: platformdirs in /usr/local/lib/python3.12/dist-packages (from wandb) (4.5.0)\n",
            "Requirement already satisfied: protobuf!=4.21.0,!=5.28.0,<7,>=3.19.0 in /usr/local/lib/python3.12/dist-packages (from wandb) (5.29.5)\n",
            "Requirement already satisfied: pydantic<3 in /usr/local/lib/python3.12/dist-packages (from wandb) (2.11.10)\n",
            "Requirement already satisfied: pyyaml in /usr/local/lib/python3.12/dist-packages (from wandb) (6.0.3)\n",
            "Requirement already satisfied: requests<3,>=2.0.0 in /usr/local/lib/python3.12/dist-packages (from wandb) (2.32.4)\n",
            "Requirement already satisfied: sentry-sdk>=2.0.0 in /usr/local/lib/python3.12/dist-packages (from wandb) (2.41.0)\n",
            "Requirement already satisfied: typing-extensions<5,>=4.8 in /usr/local/lib/python3.12/dist-packages (from wandb) (4.15.0)\n",
            "Requirement already satisfied: gitdb<5,>=4.0.1 in /usr/local/lib/python3.12/dist-packages (from gitpython!=3.1.29,>=1.0.0->wandb) (4.0.12)\n",
            "Requirement already satisfied: annotated-types>=0.6.0 in /usr/local/lib/python3.12/dist-packages (from pydantic<3->wandb) (0.7.0)\n",
            "Requirement already satisfied: pydantic-core==2.33.2 in /usr/local/lib/python3.12/dist-packages (from pydantic<3->wandb) (2.33.2)\n",
            "Requirement already satisfied: typing-inspection>=0.4.0 in /usr/local/lib/python3.12/dist-packages (from pydantic<3->wandb) (0.4.2)\n",
            "Requirement already satisfied: charset_normalizer<4,>=2 in /usr/local/lib/python3.12/dist-packages (from requests<3,>=2.0.0->wandb) (3.4.4)\n",
            "Requirement already satisfied: idna<4,>=2.5 in /usr/local/lib/python3.12/dist-packages (from requests<3,>=2.0.0->wandb) (3.11)\n",
            "Requirement already satisfied: urllib3<3,>=1.21.1 in /usr/local/lib/python3.12/dist-packages (from requests<3,>=2.0.0->wandb) (2.5.0)\n",
            "Requirement already satisfied: certifi>=2017.4.17 in /usr/local/lib/python3.12/dist-packages (from requests<3,>=2.0.0->wandb) (2025.10.5)\n",
            "Requirement already satisfied: smmap<6,>=3.0.1 in /usr/local/lib/python3.12/dist-packages (from gitdb<5,>=4.0.1->gitpython!=3.1.29,>=1.0.0->wandb) (5.0.2)\n"
          ]
        }
      ],
      "source": [
        "!pip install datasets\n",
        "!pip install wandb"
      ]
    },
    {
      "cell_type": "code",
      "source": [
        "import torch\n",
        "torch.cuda.manual_seed_all(423)"
      ],
      "metadata": {
        "id": "ANKbTyr50m9f"
      },
      "id": "ANKbTyr50m9f",
      "execution_count": 26,
      "outputs": []
    },
    {
      "cell_type": "code",
      "source": [
        "MAX_LEN = 256\n",
        "BATCH_SIZE = 32\n",
        "LEARNING_RATE = 1e-4\n",
        "NUMBER_WORKERS = 2\n",
        "EPOCHS = 5"
      ],
      "metadata": {
        "id": "K5CiE3dGktBd"
      },
      "id": "K5CiE3dGktBd",
      "execution_count": 27,
      "outputs": []
    },
    {
      "cell_type": "code",
      "source": [
        "from datasets import load_dataset\n",
        "\n",
        "dataset = load_dataset(\"imdb\")\n",
        "print(dataset)"
      ],
      "metadata": {
        "id": "4u7Bhja-hrwT",
        "outputId": "a0cd6ab9-d2e6-458a-9aa5-bfa1c782d5a6",
        "colab": {
          "base_uri": "https://localhost:8080/"
        }
      },
      "id": "4u7Bhja-hrwT",
      "execution_count": 28,
      "outputs": [
        {
          "output_type": "stream",
          "name": "stdout",
          "text": [
            "DatasetDict({\n",
            "    train: Dataset({\n",
            "        features: ['text', 'label'],\n",
            "        num_rows: 25000\n",
            "    })\n",
            "    test: Dataset({\n",
            "        features: ['text', 'label'],\n",
            "        num_rows: 25000\n",
            "    })\n",
            "    unsupervised: Dataset({\n",
            "        features: ['text', 'label'],\n",
            "        num_rows: 50000\n",
            "    })\n",
            "})\n"
          ]
        }
      ]
    },
    {
      "cell_type": "code",
      "source": [
        "from transformers import DistilBertForSequenceClassification\n",
        "\n",
        "device = torch.device(\"cuda\" if torch.cuda.is_available() else \"cpu\")\n",
        "\n",
        "model_name = \"distilbert-base-uncased\"\n",
        "\n",
        "model = DistilBertForSequenceClassification.from_pretrained(model_name, num_labels=2)\n",
        "model.to(device)"
      ],
      "metadata": {
        "id": "xWy8gotth8SB",
        "outputId": "2ad07fbc-c752-47bd-8b74-664145fa2469",
        "colab": {
          "base_uri": "https://localhost:8080/"
        }
      },
      "id": "xWy8gotth8SB",
      "execution_count": 29,
      "outputs": [
        {
          "output_type": "stream",
          "name": "stderr",
          "text": [
            "Some weights of DistilBertForSequenceClassification were not initialized from the model checkpoint at distilbert-base-uncased and are newly initialized: ['classifier.bias', 'classifier.weight', 'pre_classifier.bias', 'pre_classifier.weight']\n",
            "You should probably TRAIN this model on a down-stream task to be able to use it for predictions and inference.\n"
          ]
        },
        {
          "output_type": "execute_result",
          "data": {
            "text/plain": [
              "DistilBertForSequenceClassification(\n",
              "  (distilbert): DistilBertModel(\n",
              "    (embeddings): Embeddings(\n",
              "      (word_embeddings): Embedding(30522, 768, padding_idx=0)\n",
              "      (position_embeddings): Embedding(512, 768)\n",
              "      (LayerNorm): LayerNorm((768,), eps=1e-12, elementwise_affine=True)\n",
              "      (dropout): Dropout(p=0.1, inplace=False)\n",
              "    )\n",
              "    (transformer): Transformer(\n",
              "      (layer): ModuleList(\n",
              "        (0-5): 6 x TransformerBlock(\n",
              "          (attention): DistilBertSdpaAttention(\n",
              "            (dropout): Dropout(p=0.1, inplace=False)\n",
              "            (q_lin): Linear(in_features=768, out_features=768, bias=True)\n",
              "            (k_lin): Linear(in_features=768, out_features=768, bias=True)\n",
              "            (v_lin): Linear(in_features=768, out_features=768, bias=True)\n",
              "            (out_lin): Linear(in_features=768, out_features=768, bias=True)\n",
              "          )\n",
              "          (sa_layer_norm): LayerNorm((768,), eps=1e-12, elementwise_affine=True)\n",
              "          (ffn): FFN(\n",
              "            (dropout): Dropout(p=0.1, inplace=False)\n",
              "            (lin1): Linear(in_features=768, out_features=3072, bias=True)\n",
              "            (lin2): Linear(in_features=3072, out_features=768, bias=True)\n",
              "            (activation): GELUActivation()\n",
              "          )\n",
              "          (output_layer_norm): LayerNorm((768,), eps=1e-12, elementwise_affine=True)\n",
              "        )\n",
              "      )\n",
              "    )\n",
              "  )\n",
              "  (pre_classifier): Linear(in_features=768, out_features=768, bias=True)\n",
              "  (classifier): Linear(in_features=768, out_features=2, bias=True)\n",
              "  (dropout): Dropout(p=0.2, inplace=False)\n",
              ")"
            ]
          },
          "metadata": {},
          "execution_count": 29
        }
      ]
    },
    {
      "cell_type": "code",
      "source": [
        "from transformers import AutoTokenizer\n",
        "\n",
        "tokenizer = AutoTokenizer.from_pretrained(model_name)\n",
        "\n",
        "def tokenize_fn(batch):\n",
        "    return tokenizer(\n",
        "        batch[\"text\"],\n",
        "        padding=\"max_length\",\n",
        "        truncation=True,\n",
        "        max_length=MAX_LEN\n",
        "    )\n",
        "\n",
        "tokenized = dataset.map(tokenize_fn, batched=True)\n",
        "tokenized.set_format(type=\"torch\", columns=[\"input_ids\", \"attention_mask\", \"label\"])"
      ],
      "metadata": {
        "id": "7ZH25FU0iwuK",
        "outputId": "fe81582d-436f-4783-ae62-306db375f54e",
        "colab": {
          "base_uri": "https://localhost:8080/",
          "height": 49,
          "referenced_widgets": [
            "9e60bb5a41184f2cae93e58c6b02ffb7",
            "0ec1c41e4f85443d868236d675d4856c",
            "fd84667a1aaa44c288d97c0ad517c6d7",
            "b00e56680967401297f32c292ac64e76",
            "cae1675924e54ce0826c88b7a2711f24",
            "ff5b88b3381b4151b68454525b28b50f",
            "2e2f639d1d014bb487b918c6425b5745",
            "71d002ff786f437a9d6c357929e20124",
            "2763fccb191a4caba493fc9a544f1cda",
            "e7fe655b8ca94c21be6b7ef837170d7e",
            "ce7bffdded0c43439799617ef3e25355"
          ]
        }
      },
      "id": "7ZH25FU0iwuK",
      "execution_count": 30,
      "outputs": [
        {
          "output_type": "display_data",
          "data": {
            "text/plain": [
              "Map:   0%|          | 0/50000 [00:00<?, ? examples/s]"
            ],
            "application/vnd.jupyter.widget-view+json": {
              "version_major": 2,
              "version_minor": 0,
              "model_id": "9e60bb5a41184f2cae93e58c6b02ffb7"
            }
          },
          "metadata": {}
        }
      ]
    },
    {
      "cell_type": "code",
      "source": [
        "from torch.nn.utils.rnn import pad_sequence\n",
        "from torch.utils.data import DataLoader\n",
        "import torch\n",
        "\n",
        "def collate_fn(batch):\n",
        "    # Each batch item is a dict: {'input_ids': ..., 'attention_mask': ..., 'label': ...}\n",
        "    input_ids = [item['input_ids'] for item in batch]\n",
        "    attention_masks = [item['attention_mask'] for item in batch]\n",
        "    labels = torch.tensor([item['label'] for item in batch])\n",
        "\n",
        "    # Pad to max length *within this batch*\n",
        "    padded_input_ids = pad_sequence(input_ids, batch_first=True, padding_value=0)\n",
        "    padded_attention_masks = pad_sequence(attention_masks, batch_first=True, padding_value=0)\n",
        "\n",
        "    return {\n",
        "        \"input_ids\": padded_input_ids,\n",
        "        \"attention_mask\": padded_attention_masks,\n",
        "        \"labels\": labels\n",
        "    }\n",
        "\n",
        "\n",
        "train_loader = DataLoader(tokenized[\"train\"], batch_size= BATCH_SIZE, shuffle=True, collate_fn=collate_fn)\n",
        "test_loader = DataLoader(tokenized[\"test\"], batch_size = BATCH_SIZE, collate_fn=collate_fn)"
      ],
      "metadata": {
        "id": "-4AMEVJIjjsA"
      },
      "id": "-4AMEVJIjjsA",
      "execution_count": 31,
      "outputs": []
    },
    {
      "cell_type": "markdown",
      "source": [
        "## C1"
      ],
      "metadata": {
        "id": "yMDy5uS927OD"
      },
      "id": "yMDy5uS927OD"
    },
    {
      "cell_type": "code",
      "source": [
        "import wandb\n",
        "\n",
        "wandb.init(project=\"hpml-hw2-llm\", name=f\"bs{BATCH_SIZE}_lr{LEARNING_RATE}\", group = \"Warm Up Experiment\")\n",
        "\n",
        "wandb.config.update({\n",
        "    \"model_name\": \"distilbert-base-uncased\",\n",
        "    \"max_len\": MAX_LEN,\n",
        "    \"batch_size\": BATCH_SIZE,\n",
        "    \"lr\": LEARNING_RATE,\n",
        "    \"optimizer\": \"AdamW\",\n",
        "    \"num_workers\": NUMBER_WORKERS,\n",
        "    \"epochs\": EPOCHS,\n",
        "    \"compile_mode\": False\n",
        "})"
      ],
      "metadata": {
        "colab": {
          "base_uri": "https://localhost:8080/",
          "height": 193
        },
        "id": "IresskYBi_0H",
        "outputId": "aa955777-8b53-46a8-a9e9-89222e30fafc"
      },
      "id": "IresskYBi_0H",
      "execution_count": 32,
      "outputs": [
        {
          "output_type": "display_data",
          "data": {
            "text/plain": [
              "<IPython.core.display.HTML object>"
            ],
            "text/html": [
              "Finishing previous runs because reinit is set to 'default'."
            ]
          },
          "metadata": {}
        },
        {
          "output_type": "display_data",
          "data": {
            "text/plain": [
              "<IPython.core.display.HTML object>"
            ],
            "text/html": []
          },
          "metadata": {}
        },
        {
          "output_type": "display_data",
          "data": {
            "text/plain": [
              "<IPython.core.display.HTML object>"
            ],
            "text/html": [
              " View run <strong style=\"color:#cdcd00\">bs32_lr0.0001</strong> at: <a href='https://wandb.ai/kaimao-columbia-university/hpml-hw2-llm/runs/wve95v0w' target=\"_blank\">https://wandb.ai/kaimao-columbia-university/hpml-hw2-llm/runs/wve95v0w</a><br> View project at: <a href='https://wandb.ai/kaimao-columbia-university/hpml-hw2-llm' target=\"_blank\">https://wandb.ai/kaimao-columbia-university/hpml-hw2-llm</a><br>Synced 5 W&B file(s), 0 media file(s), 0 artifact file(s) and 0 other file(s)"
            ]
          },
          "metadata": {}
        },
        {
          "output_type": "display_data",
          "data": {
            "text/plain": [
              "<IPython.core.display.HTML object>"
            ],
            "text/html": [
              "Find logs at: <code>./wandb/run-20251018_141151-wve95v0w/logs</code>"
            ]
          },
          "metadata": {}
        },
        {
          "output_type": "display_data",
          "data": {
            "text/plain": [
              "<IPython.core.display.HTML object>"
            ],
            "text/html": []
          },
          "metadata": {}
        },
        {
          "output_type": "display_data",
          "data": {
            "text/plain": [
              "<IPython.core.display.HTML object>"
            ],
            "text/html": [
              "Tracking run with wandb version 0.22.2"
            ]
          },
          "metadata": {}
        },
        {
          "output_type": "display_data",
          "data": {
            "text/plain": [
              "<IPython.core.display.HTML object>"
            ],
            "text/html": [
              "Run data is saved locally in <code>/content/wandb/run-20251018_141304-ol0ul5wd</code>"
            ]
          },
          "metadata": {}
        },
        {
          "output_type": "display_data",
          "data": {
            "text/plain": [
              "<IPython.core.display.HTML object>"
            ],
            "text/html": [
              "Syncing run <strong><a href='https://wandb.ai/kaimao-columbia-university/hpml-hw2-llm/runs/ol0ul5wd' target=\"_blank\">bs32_lr0.0001</a></strong> to <a href='https://wandb.ai/kaimao-columbia-university/hpml-hw2-llm' target=\"_blank\">Weights & Biases</a> (<a href='https://wandb.me/developer-guide' target=\"_blank\">docs</a>)<br>"
            ]
          },
          "metadata": {}
        },
        {
          "output_type": "display_data",
          "data": {
            "text/plain": [
              "<IPython.core.display.HTML object>"
            ],
            "text/html": [
              " View project at <a href='https://wandb.ai/kaimao-columbia-university/hpml-hw2-llm' target=\"_blank\">https://wandb.ai/kaimao-columbia-university/hpml-hw2-llm</a>"
            ]
          },
          "metadata": {}
        },
        {
          "output_type": "display_data",
          "data": {
            "text/plain": [
              "<IPython.core.display.HTML object>"
            ],
            "text/html": [
              " View run at <a href='https://wandb.ai/kaimao-columbia-university/hpml-hw2-llm/runs/ol0ul5wd' target=\"_blank\">https://wandb.ai/kaimao-columbia-university/hpml-hw2-llm/runs/ol0ul5wd</a>"
            ]
          },
          "metadata": {}
        }
      ]
    },
    {
      "cell_type": "code",
      "source": [
        "from tqdm import tqdm\n",
        "from torch.optim import AdamW\n",
        "\n",
        "optimizer = AdamW(model.parameters(), lr=LEARNING_RATE)\n",
        "\n",
        "train_loss = []\n",
        "train_accuracy = []\n",
        "test_accuracy = []\n",
        "\n",
        "for epoch in range(EPOCHS):\n",
        "  model.train()\n",
        "  total_loss = 0\n",
        "  total_correct = 0\n",
        "  total_samples = 0\n",
        "  for batch in tqdm(train_loader):\n",
        "      optimizer.zero_grad()\n",
        "\n",
        "      inputs = {\n",
        "          \"input_ids\": batch[\"input_ids\"].to(device),\n",
        "          \"attention_mask\": batch[\"attention_mask\"].to(device),\n",
        "          \"labels\": batch[\"labels\"].to(device),\n",
        "      }\n",
        "\n",
        "      outputs = model(**inputs)\n",
        "      loss = outputs.loss\n",
        "      loss.backward()\n",
        "      optimizer.step()\n",
        "\n",
        "      logits = outputs.logits\n",
        "      preds = torch.argmax(logits, dim = 1)\n",
        "      labels = batch[\"labels\"].to(device)\n",
        "      correct = (preds == labels).sum().item()\n",
        "      total_correct += correct\n",
        "      total_samples += len(labels)\n",
        "      total_loss += loss.item()\n",
        "\n",
        "  avg_loss = total_loss / len(train_loader)\n",
        "  avg_accuracy = total_correct / total_samples\n",
        "  train_loss.append(avg_loss)\n",
        "  train_accuracy.append(avg_accuracy)\n",
        "\n",
        "  model.eval()\n",
        "  correct = 0\n",
        "  total = 0\n",
        "\n",
        "  with torch.no_grad():\n",
        "      for batch in test_loader:\n",
        "          inputs = {\n",
        "              \"input_ids\": batch[\"input_ids\"].to(device),\n",
        "              \"attention_mask\": batch[\"attention_mask\"].to(device),\n",
        "          }\n",
        "          labels = batch[\"labels\"].to(device)\n",
        "\n",
        "          logits = model(**inputs).logits\n",
        "          preds = torch.argmax(logits, dim=1)\n",
        "\n",
        "          correct += (preds == labels).sum().item()\n",
        "          total += labels.size(0)\n",
        "\n",
        "  accuracy = correct / total\n",
        "  test_accuracy.append(accuracy)\n",
        "\n",
        "  wandb.log({\"train/loss\": train_loss,\n",
        "           \"train/acc\": avg_accuracy,\n",
        "           \"test/acc\": accuracy})\n",
        "  print(f\"Epoch {epoch+1}/{EPOCHS}, Loss: {avg_loss:.4f}, Train Accuracy: {avg_accuracy:.4f}, Test Accuracy: {accuracy:.4f}\")\n"
      ],
      "metadata": {
        "id": "ZsK9vsmTkPpW",
        "outputId": "1ebaa8b3-6f50-4eb0-fb78-368b734158a4",
        "colab": {
          "base_uri": "https://localhost:8080/"
        }
      },
      "id": "ZsK9vsmTkPpW",
      "execution_count": null,
      "outputs": [
        {
          "output_type": "stream",
          "name": "stderr",
          "text": [
            "100%|██████████| 782/782 [01:54<00:00,  6.82it/s]\n"
          ]
        }
      ]
    },
    {
      "cell_type": "code",
      "source": [
        "wandb.finish()"
      ],
      "metadata": {
        "id": "LnQpctb_mJnG"
      },
      "id": "LnQpctb_mJnG",
      "execution_count": null,
      "outputs": []
    },
    {
      "cell_type": "markdown",
      "source": [],
      "metadata": {
        "id": "RIoifO1-23Mo"
      },
      "id": "RIoifO1-23Mo"
    },
    {
      "cell_type": "code",
      "source": [
        "import matplotlib.pyplot as plt\n",
        "\n",
        "plt.figure(figsize=(6, 4))\n",
        "plt.plot(train_loss, label='Train Loss')\n",
        "plt.plot(train_accuracy, label='Train Accuracy')\n",
        "plt.xlabel('Epoch')\n",
        "# plt.ylabel('Value')\n",
        "plt.title('Figure F1')\n",
        "plt.legend()\n",
        "plt.show()"
      ],
      "metadata": {
        "id": "sOdFWGecmKdQ"
      },
      "id": "sOdFWGecmKdQ",
      "execution_count": null,
      "outputs": []
    },
    {
      "cell_type": "markdown",
      "source": [
        "### Table T1\n",
        "\n",
        "| Epoch | Train Loss | Train Acc | Test Acc |\n",
        "|-------|------------|-----------|----------|\n",
        "|1|0.0317|0.9902|0.8764|\n",
        "|2|0.0246|0.9920|0.8895|\n",
        "|3|0.0211|0.9932|0.8765|\n",
        "|4|0.0178|0.9940|0.8791|\n",
        "|5|0.0173|0.9947|0.8740|\n"
      ],
      "metadata": {
        "id": "nl2C8CKt4DcD"
      },
      "id": "nl2C8CKt4DcD"
    },
    {
      "cell_type": "code",
      "source": [],
      "metadata": {
        "id": "bnMKrcmd56xs"
      },
      "id": "bnMKrcmd56xs",
      "execution_count": null,
      "outputs": []
    },
    {
      "cell_type": "markdown",
      "source": [
        "# C2"
      ],
      "metadata": {
        "id": "gB0_oon5nMFq"
      },
      "id": "gB0_oon5nMFq"
    },
    {
      "cell_type": "code",
      "source": [
        "import wandb\n",
        "\n",
        "wandb.init(project=\"hpml-hw2-llm\", name=f\"bs{BATCH_SIZE}_lr{LEARNING_RATE}\", group = \"Baseline Timing\")\n",
        "\n",
        "wandb.config.update({\n",
        "    \"model_name\": \"distilbert-base-uncased\",\n",
        "    \"max_len\": MAX_LEN,\n",
        "    \"batch_size\": BATCH_SIZE,\n",
        "    \"lr\": LEARNING_RATE,\n",
        "    \"optimizer\": \"AdamW\",\n",
        "    \"num_workers\": NUMBER_WORKERS,\n",
        "    \"epochs\": EPOCHS,\n",
        "    \"compile_mode\": False\n",
        "})"
      ],
      "metadata": {
        "id": "kFQIx5zJnNfa"
      },
      "id": "kFQIx5zJnNfa",
      "execution_count": null,
      "outputs": []
    },
    {
      "cell_type": "code",
      "source": [
        "import time"
      ],
      "metadata": {
        "id": "0RQB4Z5rncZ7"
      },
      "id": "0RQB4Z5rncZ7",
      "execution_count": null,
      "outputs": []
    },
    {
      "cell_type": "code",
      "source": [
        "train_loader = DataLoader(tokenized[\"train\"], batch_size= BATCH_SIZE, shuffle=True, collate_fn=collate_fn)\n",
        "test_loader = DataLoader(tokenized[\"test\"], batch_size = BATCH_SIZE, collate_fn=collate_fn)"
      ],
      "metadata": {
        "id": "r7dzAx-jnyxJ"
      },
      "id": "r7dzAx-jnyxJ",
      "execution_count": null,
      "outputs": []
    },
    {
      "cell_type": "code",
      "source": [
        "from torch.optim import AdamW\n",
        "\n",
        "optimizer = AdamW(model.parameters(), lr=LEARNING_RATE)\n",
        "\n",
        "train_loss = []\n",
        "train_accuracy = []\n",
        "test_accuracy = []\n",
        "data_loading_time_arr = []\n",
        "compute_time_arr = []\n",
        "epoch_time_arr = []\n",
        "\n",
        "for epoch in range(EPOCHS):\n",
        "  model.train()\n",
        "  total_loss = 0\n",
        "  total_correct = 0\n",
        "  total_samples = 0\n",
        "  data_loading_time = 0\n",
        "  training_compute_time = 0\n",
        "  total_epoch_time = 0\n",
        "  start_data_loading = time.time()\n",
        "  start_epoch_time = time.time()\n",
        "  for batch in train_loader:\n",
        "      torch.cuda.synchronize()\n",
        "      end = time.time()\n",
        "      data_loading_time += start_data_loading - end\n",
        "\n",
        "      optimizer.zero_grad()\n",
        "\n",
        "      inputs = {\n",
        "          \"input_ids\": batch[\"input_ids\"].to(device),\n",
        "          \"attention_mask\": batch[\"attention_mask\"].to(device),\n",
        "          \"labels\": batch[\"labels\"].to(device),\n",
        "      }\n",
        "\n",
        "      start_compute = time.time()\n",
        "      outputs = model(**inputs)\n",
        "      loss = outputs.loss\n",
        "      loss.backward()\n",
        "      optimizer.step()\n",
        "\n",
        "      torch.cuda.synchronize()\n",
        "      end = time.time()\n",
        "      training_compute_time += end - start_compute\n",
        "\n",
        "      logits = outputs.logits\n",
        "      preds = torch.argmax(logits, dim = 1)\n",
        "      labels = batch[\"labels\"].to(device)\n",
        "      correct = (preds == labels).sum().item()\n",
        "      total_correct += correct\n",
        "      total_samples += len(labels)\n",
        "      total_loss += loss.item()\n",
        "\n",
        "  end = time.time()\n",
        "  total_epoch_time = end - start_epoch_time\n",
        "\n",
        "  avg_loss = total_loss / len(train_loader)\n",
        "  avg_accuracy = total_correct / total_samples\n",
        "  train_loss.append(avg_loss)\n",
        "  train_accuracy.append(avg_accuracy)\n",
        "\n",
        "  model.eval()\n",
        "  correct = 0\n",
        "  total = 0\n",
        "\n",
        "  with torch.no_grad():\n",
        "      for batch in test_loader:\n",
        "          inputs = {\n",
        "              \"input_ids\": batch[\"input_ids\"].to(device),\n",
        "              \"attention_mask\": batch[\"attention_mask\"].to(device),\n",
        "          }\n",
        "          labels = batch[\"labels\"].to(device)\n",
        "\n",
        "          logits = model(**inputs).logits\n",
        "          preds = torch.argmax(logits, dim=1)\n",
        "\n",
        "          correct += (preds == labels).sum().item()\n",
        "          total += labels.size(0)\n",
        "\n",
        "  accuracy = correct / total\n",
        "  test_accuracy.append(accuracy)\n",
        "\n",
        "  wandb.log({\"train/loss\": train_loss,\n",
        "            \"train/acc\": avg_accuracy,\n",
        "            \"test/acc\": accuracy,\n",
        "             \"data-loading time\": data_loading_time,\n",
        "             \"compute time\": training_compute_time,\n",
        "             \"total epoch time\": total_epoch_time})\n",
        "\n",
        "  data_loading_time_arr.append(data_loading_time)\n",
        "  compute_time_arr.append(training_compute_time)\n",
        "  epoch_time_arr.append(total_epoch_time)\n",
        "  print(f\"Epoch {epoch+1}/{EPOCHS}, Loss: {avg_loss:.4f}, Train Accuracy: {avg_accuracy:.4f}, Test Accuracy: {accuracy:.4f}, data_loading time: {data_loading_time} \\\n",
        "          compute time: {training_compute_time} total epoch time: {total_epoch_time}\")\n"
      ],
      "metadata": {
        "id": "2ztMRieKn2bQ"
      },
      "id": "2ztMRieKn2bQ",
      "execution_count": null,
      "outputs": []
    }
  ],
  "metadata": {
    "language_info": {
      "name": "python"
    },
    "colab": {
      "provenance": [],
      "machine_shape": "hm",
      "gpuType": "A100"
    },
    "kernelspec": {
      "name": "python3",
      "display_name": "Python 3"
    },
    "accelerator": "GPU",
    "widgets": {
      "application/vnd.jupyter.widget-state+json": {
        "9e60bb5a41184f2cae93e58c6b02ffb7": {
          "model_module": "@jupyter-widgets/controls",
          "model_name": "HBoxModel",
          "model_module_version": "1.5.0",
          "state": {
            "_dom_classes": [],
            "_model_module": "@jupyter-widgets/controls",
            "_model_module_version": "1.5.0",
            "_model_name": "HBoxModel",
            "_view_count": null,
            "_view_module": "@jupyter-widgets/controls",
            "_view_module_version": "1.5.0",
            "_view_name": "HBoxView",
            "box_style": "",
            "children": [
              "IPY_MODEL_0ec1c41e4f85443d868236d675d4856c",
              "IPY_MODEL_fd84667a1aaa44c288d97c0ad517c6d7",
              "IPY_MODEL_b00e56680967401297f32c292ac64e76"
            ],
            "layout": "IPY_MODEL_cae1675924e54ce0826c88b7a2711f24"
          }
        },
        "0ec1c41e4f85443d868236d675d4856c": {
          "model_module": "@jupyter-widgets/controls",
          "model_name": "HTMLModel",
          "model_module_version": "1.5.0",
          "state": {
            "_dom_classes": [],
            "_model_module": "@jupyter-widgets/controls",
            "_model_module_version": "1.5.0",
            "_model_name": "HTMLModel",
            "_view_count": null,
            "_view_module": "@jupyter-widgets/controls",
            "_view_module_version": "1.5.0",
            "_view_name": "HTMLView",
            "description": "",
            "description_tooltip": null,
            "layout": "IPY_MODEL_ff5b88b3381b4151b68454525b28b50f",
            "placeholder": "​",
            "style": "IPY_MODEL_2e2f639d1d014bb487b918c6425b5745",
            "value": "Map: 100%"
          }
        },
        "fd84667a1aaa44c288d97c0ad517c6d7": {
          "model_module": "@jupyter-widgets/controls",
          "model_name": "FloatProgressModel",
          "model_module_version": "1.5.0",
          "state": {
            "_dom_classes": [],
            "_model_module": "@jupyter-widgets/controls",
            "_model_module_version": "1.5.0",
            "_model_name": "FloatProgressModel",
            "_view_count": null,
            "_view_module": "@jupyter-widgets/controls",
            "_view_module_version": "1.5.0",
            "_view_name": "ProgressView",
            "bar_style": "success",
            "description": "",
            "description_tooltip": null,
            "layout": "IPY_MODEL_71d002ff786f437a9d6c357929e20124",
            "max": 50000,
            "min": 0,
            "orientation": "horizontal",
            "style": "IPY_MODEL_2763fccb191a4caba493fc9a544f1cda",
            "value": 50000
          }
        },
        "b00e56680967401297f32c292ac64e76": {
          "model_module": "@jupyter-widgets/controls",
          "model_name": "HTMLModel",
          "model_module_version": "1.5.0",
          "state": {
            "_dom_classes": [],
            "_model_module": "@jupyter-widgets/controls",
            "_model_module_version": "1.5.0",
            "_model_name": "HTMLModel",
            "_view_count": null,
            "_view_module": "@jupyter-widgets/controls",
            "_view_module_version": "1.5.0",
            "_view_name": "HTMLView",
            "description": "",
            "description_tooltip": null,
            "layout": "IPY_MODEL_e7fe655b8ca94c21be6b7ef837170d7e",
            "placeholder": "​",
            "style": "IPY_MODEL_ce7bffdded0c43439799617ef3e25355",
            "value": " 50000/50000 [00:14&lt;00:00, 3460.34 examples/s]"
          }
        },
        "cae1675924e54ce0826c88b7a2711f24": {
          "model_module": "@jupyter-widgets/base",
          "model_name": "LayoutModel",
          "model_module_version": "1.2.0",
          "state": {
            "_model_module": "@jupyter-widgets/base",
            "_model_module_version": "1.2.0",
            "_model_name": "LayoutModel",
            "_view_count": null,
            "_view_module": "@jupyter-widgets/base",
            "_view_module_version": "1.2.0",
            "_view_name": "LayoutView",
            "align_content": null,
            "align_items": null,
            "align_self": null,
            "border": null,
            "bottom": null,
            "display": null,
            "flex": null,
            "flex_flow": null,
            "grid_area": null,
            "grid_auto_columns": null,
            "grid_auto_flow": null,
            "grid_auto_rows": null,
            "grid_column": null,
            "grid_gap": null,
            "grid_row": null,
            "grid_template_areas": null,
            "grid_template_columns": null,
            "grid_template_rows": null,
            "height": null,
            "justify_content": null,
            "justify_items": null,
            "left": null,
            "margin": null,
            "max_height": null,
            "max_width": null,
            "min_height": null,
            "min_width": null,
            "object_fit": null,
            "object_position": null,
            "order": null,
            "overflow": null,
            "overflow_x": null,
            "overflow_y": null,
            "padding": null,
            "right": null,
            "top": null,
            "visibility": null,
            "width": null
          }
        },
        "ff5b88b3381b4151b68454525b28b50f": {
          "model_module": "@jupyter-widgets/base",
          "model_name": "LayoutModel",
          "model_module_version": "1.2.0",
          "state": {
            "_model_module": "@jupyter-widgets/base",
            "_model_module_version": "1.2.0",
            "_model_name": "LayoutModel",
            "_view_count": null,
            "_view_module": "@jupyter-widgets/base",
            "_view_module_version": "1.2.0",
            "_view_name": "LayoutView",
            "align_content": null,
            "align_items": null,
            "align_self": null,
            "border": null,
            "bottom": null,
            "display": null,
            "flex": null,
            "flex_flow": null,
            "grid_area": null,
            "grid_auto_columns": null,
            "grid_auto_flow": null,
            "grid_auto_rows": null,
            "grid_column": null,
            "grid_gap": null,
            "grid_row": null,
            "grid_template_areas": null,
            "grid_template_columns": null,
            "grid_template_rows": null,
            "height": null,
            "justify_content": null,
            "justify_items": null,
            "left": null,
            "margin": null,
            "max_height": null,
            "max_width": null,
            "min_height": null,
            "min_width": null,
            "object_fit": null,
            "object_position": null,
            "order": null,
            "overflow": null,
            "overflow_x": null,
            "overflow_y": null,
            "padding": null,
            "right": null,
            "top": null,
            "visibility": null,
            "width": null
          }
        },
        "2e2f639d1d014bb487b918c6425b5745": {
          "model_module": "@jupyter-widgets/controls",
          "model_name": "DescriptionStyleModel",
          "model_module_version": "1.5.0",
          "state": {
            "_model_module": "@jupyter-widgets/controls",
            "_model_module_version": "1.5.0",
            "_model_name": "DescriptionStyleModel",
            "_view_count": null,
            "_view_module": "@jupyter-widgets/base",
            "_view_module_version": "1.2.0",
            "_view_name": "StyleView",
            "description_width": ""
          }
        },
        "71d002ff786f437a9d6c357929e20124": {
          "model_module": "@jupyter-widgets/base",
          "model_name": "LayoutModel",
          "model_module_version": "1.2.0",
          "state": {
            "_model_module": "@jupyter-widgets/base",
            "_model_module_version": "1.2.0",
            "_model_name": "LayoutModel",
            "_view_count": null,
            "_view_module": "@jupyter-widgets/base",
            "_view_module_version": "1.2.0",
            "_view_name": "LayoutView",
            "align_content": null,
            "align_items": null,
            "align_self": null,
            "border": null,
            "bottom": null,
            "display": null,
            "flex": null,
            "flex_flow": null,
            "grid_area": null,
            "grid_auto_columns": null,
            "grid_auto_flow": null,
            "grid_auto_rows": null,
            "grid_column": null,
            "grid_gap": null,
            "grid_row": null,
            "grid_template_areas": null,
            "grid_template_columns": null,
            "grid_template_rows": null,
            "height": null,
            "justify_content": null,
            "justify_items": null,
            "left": null,
            "margin": null,
            "max_height": null,
            "max_width": null,
            "min_height": null,
            "min_width": null,
            "object_fit": null,
            "object_position": null,
            "order": null,
            "overflow": null,
            "overflow_x": null,
            "overflow_y": null,
            "padding": null,
            "right": null,
            "top": null,
            "visibility": null,
            "width": null
          }
        },
        "2763fccb191a4caba493fc9a544f1cda": {
          "model_module": "@jupyter-widgets/controls",
          "model_name": "ProgressStyleModel",
          "model_module_version": "1.5.0",
          "state": {
            "_model_module": "@jupyter-widgets/controls",
            "_model_module_version": "1.5.0",
            "_model_name": "ProgressStyleModel",
            "_view_count": null,
            "_view_module": "@jupyter-widgets/base",
            "_view_module_version": "1.2.0",
            "_view_name": "StyleView",
            "bar_color": null,
            "description_width": ""
          }
        },
        "e7fe655b8ca94c21be6b7ef837170d7e": {
          "model_module": "@jupyter-widgets/base",
          "model_name": "LayoutModel",
          "model_module_version": "1.2.0",
          "state": {
            "_model_module": "@jupyter-widgets/base",
            "_model_module_version": "1.2.0",
            "_model_name": "LayoutModel",
            "_view_count": null,
            "_view_module": "@jupyter-widgets/base",
            "_view_module_version": "1.2.0",
            "_view_name": "LayoutView",
            "align_content": null,
            "align_items": null,
            "align_self": null,
            "border": null,
            "bottom": null,
            "display": null,
            "flex": null,
            "flex_flow": null,
            "grid_area": null,
            "grid_auto_columns": null,
            "grid_auto_flow": null,
            "grid_auto_rows": null,
            "grid_column": null,
            "grid_gap": null,
            "grid_row": null,
            "grid_template_areas": null,
            "grid_template_columns": null,
            "grid_template_rows": null,
            "height": null,
            "justify_content": null,
            "justify_items": null,
            "left": null,
            "margin": null,
            "max_height": null,
            "max_width": null,
            "min_height": null,
            "min_width": null,
            "object_fit": null,
            "object_position": null,
            "order": null,
            "overflow": null,
            "overflow_x": null,
            "overflow_y": null,
            "padding": null,
            "right": null,
            "top": null,
            "visibility": null,
            "width": null
          }
        },
        "ce7bffdded0c43439799617ef3e25355": {
          "model_module": "@jupyter-widgets/controls",
          "model_name": "DescriptionStyleModel",
          "model_module_version": "1.5.0",
          "state": {
            "_model_module": "@jupyter-widgets/controls",
            "_model_module_version": "1.5.0",
            "_model_name": "DescriptionStyleModel",
            "_view_count": null,
            "_view_module": "@jupyter-widgets/base",
            "_view_module_version": "1.2.0",
            "_view_name": "StyleView",
            "description_width": ""
          }
        }
      }
    }
  },
  "nbformat": 4,
  "nbformat_minor": 5
}
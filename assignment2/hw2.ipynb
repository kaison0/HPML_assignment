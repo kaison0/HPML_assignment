{
  "cells": [
    {
      "cell_type": "code",
      "execution_count": 25,
      "id": "525cb661",
      "metadata": {
        "vscode": {
          "languageId": "plaintext"
        },
        "id": "525cb661",
        "outputId": "4de4e8f5-ffdf-49be-98a3-610b0aeafda3",
        "colab": {
          "base_uri": "https://localhost:8080/"
        }
      },
      "outputs": [
        {
          "output_type": "stream",
          "name": "stdout",
          "text": [
            "Requirement already satisfied: datasets in /usr/local/lib/python3.12/dist-packages (4.0.0)\n",
            "Requirement already satisfied: filelock in /usr/local/lib/python3.12/dist-packages (from datasets) (3.20.0)\n",
            "Requirement already satisfied: numpy>=1.17 in /usr/local/lib/python3.12/dist-packages (from datasets) (2.0.2)\n",
            "Requirement already satisfied: pyarrow>=15.0.0 in /usr/local/lib/python3.12/dist-packages (from datasets) (18.1.0)\n",
            "Requirement already satisfied: dill<0.3.9,>=0.3.0 in /usr/local/lib/python3.12/dist-packages (from datasets) (0.3.8)\n",
            "Requirement already satisfied: pandas in /usr/local/lib/python3.12/dist-packages (from datasets) (2.2.2)\n",
            "Requirement already satisfied: requests>=2.32.2 in /usr/local/lib/python3.12/dist-packages (from datasets) (2.32.4)\n",
            "Requirement already satisfied: tqdm>=4.66.3 in /usr/local/lib/python3.12/dist-packages (from datasets) (4.67.1)\n",
            "Requirement already satisfied: xxhash in /usr/local/lib/python3.12/dist-packages (from datasets) (3.6.0)\n",
            "Requirement already satisfied: multiprocess<0.70.17 in /usr/local/lib/python3.12/dist-packages (from datasets) (0.70.16)\n",
            "Requirement already satisfied: fsspec<=2025.3.0,>=2023.1.0 in /usr/local/lib/python3.12/dist-packages (from fsspec[http]<=2025.3.0,>=2023.1.0->datasets) (2025.3.0)\n",
            "Requirement already satisfied: huggingface-hub>=0.24.0 in /usr/local/lib/python3.12/dist-packages (from datasets) (0.35.3)\n",
            "Requirement already satisfied: packaging in /usr/local/lib/python3.12/dist-packages (from datasets) (25.0)\n",
            "Requirement already satisfied: pyyaml>=5.1 in /usr/local/lib/python3.12/dist-packages (from datasets) (6.0.3)\n",
            "Requirement already satisfied: aiohttp!=4.0.0a0,!=4.0.0a1 in /usr/local/lib/python3.12/dist-packages (from fsspec[http]<=2025.3.0,>=2023.1.0->datasets) (3.13.0)\n",
            "Requirement already satisfied: typing-extensions>=3.7.4.3 in /usr/local/lib/python3.12/dist-packages (from huggingface-hub>=0.24.0->datasets) (4.15.0)\n",
            "Requirement already satisfied: hf-xet<2.0.0,>=1.1.3 in /usr/local/lib/python3.12/dist-packages (from huggingface-hub>=0.24.0->datasets) (1.1.10)\n",
            "Requirement already satisfied: charset_normalizer<4,>=2 in /usr/local/lib/python3.12/dist-packages (from requests>=2.32.2->datasets) (3.4.4)\n",
            "Requirement already satisfied: idna<4,>=2.5 in /usr/local/lib/python3.12/dist-packages (from requests>=2.32.2->datasets) (3.11)\n",
            "Requirement already satisfied: urllib3<3,>=1.21.1 in /usr/local/lib/python3.12/dist-packages (from requests>=2.32.2->datasets) (2.5.0)\n",
            "Requirement already satisfied: certifi>=2017.4.17 in /usr/local/lib/python3.12/dist-packages (from requests>=2.32.2->datasets) (2025.10.5)\n",
            "Requirement already satisfied: python-dateutil>=2.8.2 in /usr/local/lib/python3.12/dist-packages (from pandas->datasets) (2.9.0.post0)\n",
            "Requirement already satisfied: pytz>=2020.1 in /usr/local/lib/python3.12/dist-packages (from pandas->datasets) (2025.2)\n",
            "Requirement already satisfied: tzdata>=2022.7 in /usr/local/lib/python3.12/dist-packages (from pandas->datasets) (2025.2)\n",
            "Requirement already satisfied: aiohappyeyeballs>=2.5.0 in /usr/local/lib/python3.12/dist-packages (from aiohttp!=4.0.0a0,!=4.0.0a1->fsspec[http]<=2025.3.0,>=2023.1.0->datasets) (2.6.1)\n",
            "Requirement already satisfied: aiosignal>=1.4.0 in /usr/local/lib/python3.12/dist-packages (from aiohttp!=4.0.0a0,!=4.0.0a1->fsspec[http]<=2025.3.0,>=2023.1.0->datasets) (1.4.0)\n",
            "Requirement already satisfied: attrs>=17.3.0 in /usr/local/lib/python3.12/dist-packages (from aiohttp!=4.0.0a0,!=4.0.0a1->fsspec[http]<=2025.3.0,>=2023.1.0->datasets) (25.4.0)\n",
            "Requirement already satisfied: frozenlist>=1.1.1 in /usr/local/lib/python3.12/dist-packages (from aiohttp!=4.0.0a0,!=4.0.0a1->fsspec[http]<=2025.3.0,>=2023.1.0->datasets) (1.8.0)\n",
            "Requirement already satisfied: multidict<7.0,>=4.5 in /usr/local/lib/python3.12/dist-packages (from aiohttp!=4.0.0a0,!=4.0.0a1->fsspec[http]<=2025.3.0,>=2023.1.0->datasets) (6.7.0)\n",
            "Requirement already satisfied: propcache>=0.2.0 in /usr/local/lib/python3.12/dist-packages (from aiohttp!=4.0.0a0,!=4.0.0a1->fsspec[http]<=2025.3.0,>=2023.1.0->datasets) (0.4.1)\n",
            "Requirement already satisfied: yarl<2.0,>=1.17.0 in /usr/local/lib/python3.12/dist-packages (from aiohttp!=4.0.0a0,!=4.0.0a1->fsspec[http]<=2025.3.0,>=2023.1.0->datasets) (1.22.0)\n",
            "Requirement already satisfied: six>=1.5 in /usr/local/lib/python3.12/dist-packages (from python-dateutil>=2.8.2->pandas->datasets) (1.17.0)\n",
            "Requirement already satisfied: wandb in /usr/local/lib/python3.12/dist-packages (0.22.2)\n",
            "Requirement already satisfied: click>=8.0.1 in /usr/local/lib/python3.12/dist-packages (from wandb) (8.3.0)\n",
            "Requirement already satisfied: gitpython!=3.1.29,>=1.0.0 in /usr/local/lib/python3.12/dist-packages (from wandb) (3.1.45)\n",
            "Requirement already satisfied: packaging in /usr/local/lib/python3.12/dist-packages (from wandb) (25.0)\n",
            "Requirement already satisfied: platformdirs in /usr/local/lib/python3.12/dist-packages (from wandb) (4.5.0)\n",
            "Requirement already satisfied: protobuf!=4.21.0,!=5.28.0,<7,>=3.19.0 in /usr/local/lib/python3.12/dist-packages (from wandb) (5.29.5)\n",
            "Requirement already satisfied: pydantic<3 in /usr/local/lib/python3.12/dist-packages (from wandb) (2.11.10)\n",
            "Requirement already satisfied: pyyaml in /usr/local/lib/python3.12/dist-packages (from wandb) (6.0.3)\n",
            "Requirement already satisfied: requests<3,>=2.0.0 in /usr/local/lib/python3.12/dist-packages (from wandb) (2.32.4)\n",
            "Requirement already satisfied: sentry-sdk>=2.0.0 in /usr/local/lib/python3.12/dist-packages (from wandb) (2.41.0)\n",
            "Requirement already satisfied: typing-extensions<5,>=4.8 in /usr/local/lib/python3.12/dist-packages (from wandb) (4.15.0)\n",
            "Requirement already satisfied: gitdb<5,>=4.0.1 in /usr/local/lib/python3.12/dist-packages (from gitpython!=3.1.29,>=1.0.0->wandb) (4.0.12)\n",
            "Requirement already satisfied: annotated-types>=0.6.0 in /usr/local/lib/python3.12/dist-packages (from pydantic<3->wandb) (0.7.0)\n",
            "Requirement already satisfied: pydantic-core==2.33.2 in /usr/local/lib/python3.12/dist-packages (from pydantic<3->wandb) (2.33.2)\n",
            "Requirement already satisfied: typing-inspection>=0.4.0 in /usr/local/lib/python3.12/dist-packages (from pydantic<3->wandb) (0.4.2)\n",
            "Requirement already satisfied: charset_normalizer<4,>=2 in /usr/local/lib/python3.12/dist-packages (from requests<3,>=2.0.0->wandb) (3.4.4)\n",
            "Requirement already satisfied: idna<4,>=2.5 in /usr/local/lib/python3.12/dist-packages (from requests<3,>=2.0.0->wandb) (3.11)\n",
            "Requirement already satisfied: urllib3<3,>=1.21.1 in /usr/local/lib/python3.12/dist-packages (from requests<3,>=2.0.0->wandb) (2.5.0)\n",
            "Requirement already satisfied: certifi>=2017.4.17 in /usr/local/lib/python3.12/dist-packages (from requests<3,>=2.0.0->wandb) (2025.10.5)\n",
            "Requirement already satisfied: smmap<6,>=3.0.1 in /usr/local/lib/python3.12/dist-packages (from gitdb<5,>=4.0.1->gitpython!=3.1.29,>=1.0.0->wandb) (5.0.2)\n"
          ]
        }
      ],
      "source": [
        "!pip install datasets\n",
        "!pip install wandb"
      ]
    },
    {
      "cell_type": "code",
      "source": [
        "import torch\n",
        "torch.cuda.manual_seed_all(423)"
      ],
      "metadata": {
        "id": "ANKbTyr50m9f"
      },
      "id": "ANKbTyr50m9f",
      "execution_count": 26,
      "outputs": []
    },
    {
      "cell_type": "code",
      "source": [
        "MAX_LEN = 256\n",
        "BATCH_SIZE = 32\n",
        "LEARNING_RATE = 1e-4\n",
        "NUMBER_WORKERS = 2\n",
        "EPOCHS = 5"
      ],
      "metadata": {
        "id": "K5CiE3dGktBd"
      },
      "id": "K5CiE3dGktBd",
      "execution_count": 27,
      "outputs": []
    },
    {
      "cell_type": "code",
      "source": [
        "from datasets import load_dataset\n",
        "\n",
        "dataset = load_dataset(\"imdb\")\n",
        "print(dataset)"
      ],
      "metadata": {
        "id": "4u7Bhja-hrwT",
        "outputId": "a0cd6ab9-d2e6-458a-9aa5-bfa1c782d5a6",
        "colab": {
          "base_uri": "https://localhost:8080/"
        }
      },
      "id": "4u7Bhja-hrwT",
      "execution_count": 28,
      "outputs": [
        {
          "output_type": "stream",
          "name": "stdout",
          "text": [
            "DatasetDict({\n",
            "    train: Dataset({\n",
            "        features: ['text', 'label'],\n",
            "        num_rows: 25000\n",
            "    })\n",
            "    test: Dataset({\n",
            "        features: ['text', 'label'],\n",
            "        num_rows: 25000\n",
            "    })\n",
            "    unsupervised: Dataset({\n",
            "        features: ['text', 'label'],\n",
            "        num_rows: 50000\n",
            "    })\n",
            "})\n"
          ]
        }
      ]
    },
    {
      "cell_type": "code",
      "source": [
        "from transformers import DistilBertForSequenceClassification\n",
        "\n",
        "device = torch.device(\"cuda\" if torch.cuda.is_available() else \"cpu\")\n",
        "\n",
        "model_name = \"distilbert-base-uncased\"\n",
        "\n",
        "model = DistilBertForSequenceClassification.from_pretrained(model_name, num_labels=2)\n",
        "model.to(device)"
      ],
      "metadata": {
        "id": "xWy8gotth8SB",
        "outputId": "2ad07fbc-c752-47bd-8b74-664145fa2469",
        "colab": {
          "base_uri": "https://localhost:8080/"
        }
      },
      "id": "xWy8gotth8SB",
      "execution_count": 29,
      "outputs": [
        {
          "output_type": "stream",
          "name": "stderr",
          "text": [
            "Some weights of DistilBertForSequenceClassification were not initialized from the model checkpoint at distilbert-base-uncased and are newly initialized: ['classifier.bias', 'classifier.weight', 'pre_classifier.bias', 'pre_classifier.weight']\n",
            "You should probably TRAIN this model on a down-stream task to be able to use it for predictions and inference.\n"
          ]
        },
        {
          "output_type": "execute_result",
          "data": {
            "text/plain": [
              "DistilBertForSequenceClassification(\n",
              "  (distilbert): DistilBertModel(\n",
              "    (embeddings): Embeddings(\n",
              "      (word_embeddings): Embedding(30522, 768, padding_idx=0)\n",
              "      (position_embeddings): Embedding(512, 768)\n",
              "      (LayerNorm): LayerNorm((768,), eps=1e-12, elementwise_affine=True)\n",
              "      (dropout): Dropout(p=0.1, inplace=False)\n",
              "    )\n",
              "    (transformer): Transformer(\n",
              "      (layer): ModuleList(\n",
              "        (0-5): 6 x TransformerBlock(\n",
              "          (attention): DistilBertSdpaAttention(\n",
              "            (dropout): Dropout(p=0.1, inplace=False)\n",
              "            (q_lin): Linear(in_features=768, out_features=768, bias=True)\n",
              "            (k_lin): Linear(in_features=768, out_features=768, bias=True)\n",
              "            (v_lin): Linear(in_features=768, out_features=768, bias=True)\n",
              "            (out_lin): Linear(in_features=768, out_features=768, bias=True)\n",
              "          )\n",
              "          (sa_layer_norm): LayerNorm((768,), eps=1e-12, elementwise_affine=True)\n",
              "          (ffn): FFN(\n",
              "            (dropout): Dropout(p=0.1, inplace=False)\n",
              "            (lin1): Linear(in_features=768, out_features=3072, bias=True)\n",
              "            (lin2): Linear(in_features=3072, out_features=768, bias=True)\n",
              "            (activation): GELUActivation()\n",
              "          )\n",
              "          (output_layer_norm): LayerNorm((768,), eps=1e-12, elementwise_affine=True)\n",
              "        )\n",
              "      )\n",
              "    )\n",
              "  )\n",
              "  (pre_classifier): Linear(in_features=768, out_features=768, bias=True)\n",
              "  (classifier): Linear(in_features=768, out_features=2, bias=True)\n",
              "  (dropout): Dropout(p=0.2, inplace=False)\n",
              ")"
            ]
          },
          "metadata": {},
          "execution_count": 29
        }
      ]
    },
    {
      "cell_type": "code",
      "source": [
        "from transformers import AutoTokenizer\n",
        "\n",
        "tokenizer = AutoTokenizer.from_pretrained(model_name)\n",
        "\n",
        "def tokenize_fn(batch):\n",
        "    return tokenizer(\n",
        "        batch[\"text\"],\n",
        "        padding=\"max_length\",\n",
        "        truncation=True,\n",
        "        max_length=MAX_LEN\n",
        "    )\n",
        "\n",
        "tokenized = dataset.map(tokenize_fn, batched=True)\n",
        "tokenized.set_format(type=\"torch\", columns=[\"input_ids\", \"attention_mask\", \"label\"])"
      ],
      "metadata": {
        "id": "7ZH25FU0iwuK",
        "outputId": "fe81582d-436f-4783-ae62-306db375f54e",
        "colab": {
          "base_uri": "https://localhost:8080/",
          "height": 49,
          "referenced_widgets": [
            "9e60bb5a41184f2cae93e58c6b02ffb7",
            "0ec1c41e4f85443d868236d675d4856c",
            "fd84667a1aaa44c288d97c0ad517c6d7",
            "b00e56680967401297f32c292ac64e76",
            "cae1675924e54ce0826c88b7a2711f24",
            "ff5b88b3381b4151b68454525b28b50f",
            "2e2f639d1d014bb487b918c6425b5745",
            "71d002ff786f437a9d6c357929e20124",
            "2763fccb191a4caba493fc9a544f1cda",
            "e7fe655b8ca94c21be6b7ef837170d7e",
            "ce7bffdded0c43439799617ef3e25355"
          ]
        }
      },
      "id": "7ZH25FU0iwuK",
      "execution_count": 30,
      "outputs": [
        {
          "output_type": "display_data",
          "data": {
            "text/plain": [
              "Map:   0%|          | 0/50000 [00:00<?, ? examples/s]"
            ],
            "application/vnd.jupyter.widget-view+json": {
              "version_major": 2,
              "version_minor": 0,
              "model_id": "9e60bb5a41184f2cae93e58c6b02ffb7"
            }
          },
          "metadata": {}
        }
      ]
    },
    {
      "cell_type": "code",
      "source": [
        "from torch.nn.utils.rnn import pad_sequence\n",
        "from torch.utils.data import DataLoader\n",
        "import torch\n",
        "\n",
        "def collate_fn(batch):\n",
        "    # Each batch item is a dict: {'input_ids': ..., 'attention_mask': ..., 'label': ...}\n",
        "    input_ids = [item['input_ids'] for item in batch]\n",
        "    attention_masks = [item['attention_mask'] for item in batch]\n",
        "    labels = torch.tensor([item['label'] for item in batch])\n",
        "\n",
        "    # Pad to max length *within this batch*\n",
        "    padded_input_ids = pad_sequence(input_ids, batch_first=True, padding_value=0)\n",
        "    padded_attention_masks = pad_sequence(attention_masks, batch_first=True, padding_value=0)\n",
        "\n",
        "    return {\n",
        "        \"input_ids\": padded_input_ids,\n",
        "        \"attention_mask\": padded_attention_masks,\n",
        "        \"labels\": labels\n",
        "    }\n",
        "\n",
        "\n",
        "train_loader = DataLoader(tokenized[\"train\"], batch_size= BATCH_SIZE, shuffle=True, collate_fn=collate_fn, num_workers=NUMBER_WORKERS)\n",
        "test_loader = DataLoader(tokenized[\"test\"], batch_size = BATCH_SIZE, collate_fn=collate_fn, num_workers = NUMBER_WORKERS)"
      ],
      "metadata": {
        "id": "-4AMEVJIjjsA"
      },
      "id": "-4AMEVJIjjsA",
      "execution_count": 31,
      "outputs": []
    },
    {
      "cell_type": "markdown",
      "source": [
        "## C1"
      ],
      "metadata": {
        "id": "yMDy5uS927OD"
      },
      "id": "yMDy5uS927OD"
    },
    {
      "cell_type": "code",
      "source": [
        "import wandb\n",
        "\n",
        "wandb.init(project=\"hpml-hw2-llm\", name=f\"bs{BATCH_SIZE}_lr{LEARNING_RATE}\", group = \"Warm Up Experiment\")\n",
        "\n",
        "wandb.config.update({\n",
        "    \"model_name\": \"distilbert-base-uncased\",\n",
        "    \"max_len\": MAX_LEN,\n",
        "    \"batch_size\": BATCH_SIZE,\n",
        "    \"lr\": LEARNING_RATE,\n",
        "    \"optimizer\": \"AdamW\",\n",
        "    \"num_workers\": NUMBER_WORKERS,\n",
        "    \"epochs\": EPOCHS,\n",
        "    \"compile_mode\": False\n",
        "})"
      ],
      "metadata": {
        "colab": {
          "base_uri": "https://localhost:8080/",
          "height": 193
        },
        "id": "IresskYBi_0H",
        "outputId": "aa955777-8b53-46a8-a9e9-89222e30fafc"
      },
      "id": "IresskYBi_0H",
      "execution_count": 32,
      "outputs": [
        {
          "output_type": "display_data",
          "data": {
            "text/plain": [
              "<IPython.core.display.HTML object>"
            ],
            "text/html": [
              "Finishing previous runs because reinit is set to 'default'."
            ]
          },
          "metadata": {}
        },
        {
          "output_type": "display_data",
          "data": {
            "text/plain": [
              "<IPython.core.display.HTML object>"
            ],
            "text/html": []
          },
          "metadata": {}
        },
        {
          "output_type": "display_data",
          "data": {
            "text/plain": [
              "<IPython.core.display.HTML object>"
            ],
            "text/html": [
              " View run <strong style=\"color:#cdcd00\">bs32_lr0.0001</strong> at: <a href='https://wandb.ai/kaimao-columbia-university/hpml-hw2-llm/runs/wve95v0w' target=\"_blank\">https://wandb.ai/kaimao-columbia-university/hpml-hw2-llm/runs/wve95v0w</a><br> View project at: <a href='https://wandb.ai/kaimao-columbia-university/hpml-hw2-llm' target=\"_blank\">https://wandb.ai/kaimao-columbia-university/hpml-hw2-llm</a><br>Synced 5 W&B file(s), 0 media file(s), 0 artifact file(s) and 0 other file(s)"
            ]
          },
          "metadata": {}
        },
        {
          "output_type": "display_data",
          "data": {
            "text/plain": [
              "<IPython.core.display.HTML object>"
            ],
            "text/html": [
              "Find logs at: <code>./wandb/run-20251018_141151-wve95v0w/logs</code>"
            ]
          },
          "metadata": {}
        },
        {
          "output_type": "display_data",
          "data": {
            "text/plain": [
              "<IPython.core.display.HTML object>"
            ],
            "text/html": []
          },
          "metadata": {}
        },
        {
          "output_type": "display_data",
          "data": {
            "text/plain": [
              "<IPython.core.display.HTML object>"
            ],
            "text/html": [
              "Tracking run with wandb version 0.22.2"
            ]
          },
          "metadata": {}
        },
        {
          "output_type": "display_data",
          "data": {
            "text/plain": [
              "<IPython.core.display.HTML object>"
            ],
            "text/html": [
              "Run data is saved locally in <code>/content/wandb/run-20251018_141304-ol0ul5wd</code>"
            ]
          },
          "metadata": {}
        },
        {
          "output_type": "display_data",
          "data": {
            "text/plain": [
              "<IPython.core.display.HTML object>"
            ],
            "text/html": [
              "Syncing run <strong><a href='https://wandb.ai/kaimao-columbia-university/hpml-hw2-llm/runs/ol0ul5wd' target=\"_blank\">bs32_lr0.0001</a></strong> to <a href='https://wandb.ai/kaimao-columbia-university/hpml-hw2-llm' target=\"_blank\">Weights & Biases</a> (<a href='https://wandb.me/developer-guide' target=\"_blank\">docs</a>)<br>"
            ]
          },
          "metadata": {}
        },
        {
          "output_type": "display_data",
          "data": {
            "text/plain": [
              "<IPython.core.display.HTML object>"
            ],
            "text/html": [
              " View project at <a href='https://wandb.ai/kaimao-columbia-university/hpml-hw2-llm' target=\"_blank\">https://wandb.ai/kaimao-columbia-university/hpml-hw2-llm</a>"
            ]
          },
          "metadata": {}
        },
        {
          "output_type": "display_data",
          "data": {
            "text/plain": [
              "<IPython.core.display.HTML object>"
            ],
            "text/html": [
              " View run at <a href='https://wandb.ai/kaimao-columbia-university/hpml-hw2-llm/runs/ol0ul5wd' target=\"_blank\">https://wandb.ai/kaimao-columbia-university/hpml-hw2-llm/runs/ol0ul5wd</a>"
            ]
          },
          "metadata": {}
        }
      ]
    },
    {
      "cell_type": "code",
      "source": [
        "from tqdm import tqdm\n",
        "from torch.optim import AdamW\n",
        "\n",
        "optimizer = AdamW(model.parameters(), lr=LEARNING_RATE)\n",
        "\n",
        "train_loss = []\n",
        "train_accuracy = []\n",
        "test_accuracy = []\n",
        "\n",
        "for epoch in range(EPOCHS):\n",
        "  model.train()\n",
        "  total_loss = 0\n",
        "  total_correct = 0\n",
        "  total_samples = 0\n",
        "  for batch in tqdm(train_loader):\n",
        "      optimizer.zero_grad()\n",
        "\n",
        "      inputs = {\n",
        "          \"input_ids\": batch[\"input_ids\"].to(device),\n",
        "          \"attention_mask\": batch[\"attention_mask\"].to(device),\n",
        "          \"labels\": batch[\"labels\"].to(device),\n",
        "      }\n",
        "\n",
        "      outputs = model(**inputs)\n",
        "      loss = outputs.loss\n",
        "      loss.backward()\n",
        "      optimizer.step()\n",
        "\n",
        "      logits = outputs.logits\n",
        "      preds = torch.argmax(logits, dim = 1)\n",
        "      labels = batch[\"labels\"].to(device)\n",
        "      correct = (preds == labels).sum().item()\n",
        "      total_correct += correct\n",
        "      total_samples += len(labels)\n",
        "      total_loss += loss.item()\n",
        "\n",
        "  avg_loss = total_loss / len(train_loader)\n",
        "  avg_accuracy = total_correct / total_samples\n",
        "  train_loss.append(avg_loss)\n",
        "  train_accuracy.append(avg_accuracy)\n",
        "\n",
        "  model.eval()\n",
        "  correct = 0\n",
        "  total = 0\n",
        "\n",
        "  with torch.no_grad():\n",
        "      for batch in test_loader:\n",
        "          inputs = {\n",
        "              \"input_ids\": batch[\"input_ids\"].to(device),\n",
        "              \"attention_mask\": batch[\"attention_mask\"].to(device),\n",
        "          }\n",
        "          labels = batch[\"labels\"].to(device)\n",
        "\n",
        "          logits = model(**inputs).logits\n",
        "          preds = torch.argmax(logits, dim=1)\n",
        "\n",
        "          correct += (preds == labels).sum().item()\n",
        "          total += labels.size(0)\n",
        "\n",
        "  accuracy = correct / total\n",
        "  test_accuracy.append(accuracy)\n",
        "\n",
        "  wandb.log({\"train/loss\": train_loss,\n",
        "           \"train/acc\": avg_accuracy,\n",
        "           \"test/acc\": accuracy})\n",
        "  print(f\"Epoch {epoch+1}/{EPOCHS}, Loss: {avg_loss:.4f}, Train Accuracy: {avg_accuracy:.4f}, Test Accuracy: {accuracy:.4f}\")\n"
      ],
      "metadata": {
        "id": "ZsK9vsmTkPpW",
        "outputId": "1ebaa8b3-6f50-4eb0-fb78-368b734158a4",
        "colab": {
          "base_uri": "https://localhost:8080/"
        }
      },
      "id": "ZsK9vsmTkPpW",
      "execution_count": 33,
      "outputs": [
        {
          "output_type": "stream",
          "name": "stderr",
          "text": [
            "100%|██████████| 782/782 [01:54<00:00,  6.82it/s]\n"
          ]
        },
        {
          "output_type": "stream",
          "name": "stdout",
          "text": [
            "Epoch 1/5, Loss: 0.3006, Train Accuracy: 0.8747, Test Accuracy: 0.9017\n"
          ]
        },
        {
          "output_type": "stream",
          "name": "stderr",
          "text": [
            "100%|██████████| 782/782 [01:54<00:00,  6.83it/s]\n"
          ]
        },
        {
          "output_type": "stream",
          "name": "stdout",
          "text": [
            "Epoch 2/5, Loss: 0.1692, Train Accuracy: 0.9374, Test Accuracy: 0.8870\n"
          ]
        },
        {
          "output_type": "stream",
          "name": "stderr",
          "text": [
            "100%|██████████| 782/782 [01:54<00:00,  6.84it/s]\n"
          ]
        },
        {
          "output_type": "stream",
          "name": "stdout",
          "text": [
            "Epoch 3/5, Loss: 0.0885, Train Accuracy: 0.9704, Test Accuracy: 0.8797\n"
          ]
        },
        {
          "output_type": "stream",
          "name": "stderr",
          "text": [
            "100%|██████████| 782/782 [01:54<00:00,  6.84it/s]\n"
          ]
        },
        {
          "output_type": "stream",
          "name": "stdout",
          "text": [
            "Epoch 4/5, Loss: 0.0505, Train Accuracy: 0.9836, Test Accuracy: 0.8770\n"
          ]
        },
        {
          "output_type": "stream",
          "name": "stderr",
          "text": [
            "100%|██████████| 782/782 [01:54<00:00,  6.84it/s]\n"
          ]
        },
        {
          "output_type": "stream",
          "name": "stdout",
          "text": [
            "Epoch 5/5, Loss: 0.0382, Train Accuracy: 0.9881, Test Accuracy: 0.8744\n"
          ]
        }
      ]
    },
    {
      "cell_type": "code",
      "source": [
        "wandb.finish()"
      ],
      "metadata": {
        "colab": {
          "base_uri": "https://localhost:8080/",
          "height": 357
        },
        "id": "LnQpctb_mJnG",
        "outputId": "1f71f27b-1104-414b-c7da-bcd53cc1defe"
      },
      "id": "LnQpctb_mJnG",
      "execution_count": 34,
      "outputs": [
        {
          "output_type": "display_data",
          "data": {
            "text/plain": [
              "<IPython.core.display.HTML object>"
            ],
            "text/html": []
          },
          "metadata": {}
        },
        {
          "output_type": "display_data",
          "data": {
            "text/plain": [
              "<IPython.core.display.HTML object>"
            ],
            "text/html": [
              "<br>    <style><br>        .wandb-row {<br>            display: flex;<br>            flex-direction: row;<br>            flex-wrap: wrap;<br>            justify-content: flex-start;<br>            width: 100%;<br>        }<br>        .wandb-col {<br>            display: flex;<br>            flex-direction: column;<br>            flex-basis: 100%;<br>            flex: 1;<br>            padding: 10px;<br>        }<br>    </style><br><div class=\"wandb-row\"><div class=\"wandb-col\"><h3>Run history:</h3><br/><table class=\"wandb\"><tr><td>test/acc</td><td>█▄▂▂▁</td></tr><tr><td>train/acc</td><td>▁▅▇██</td></tr></table><br/></div><div class=\"wandb-col\"><h3>Run summary:</h3><br/><table class=\"wandb\"><tr><td>test/acc</td><td>0.87444</td></tr><tr><td>train/acc</td><td>0.98808</td></tr></table><br/></div></div>"
            ]
          },
          "metadata": {}
        },
        {
          "output_type": "display_data",
          "data": {
            "text/plain": [
              "<IPython.core.display.HTML object>"
            ],
            "text/html": [
              " View run <strong style=\"color:#cdcd00\">bs32_lr0.0001</strong> at: <a href='https://wandb.ai/kaimao-columbia-university/hpml-hw2-llm/runs/ol0ul5wd' target=\"_blank\">https://wandb.ai/kaimao-columbia-university/hpml-hw2-llm/runs/ol0ul5wd</a><br> View project at: <a href='https://wandb.ai/kaimao-columbia-university/hpml-hw2-llm' target=\"_blank\">https://wandb.ai/kaimao-columbia-university/hpml-hw2-llm</a><br>Synced 5 W&B file(s), 0 media file(s), 0 artifact file(s) and 0 other file(s)"
            ]
          },
          "metadata": {}
        },
        {
          "output_type": "display_data",
          "data": {
            "text/plain": [
              "<IPython.core.display.HTML object>"
            ],
            "text/html": [
              "Find logs at: <code>./wandb/run-20251018_141304-ol0ul5wd/logs</code>"
            ]
          },
          "metadata": {}
        }
      ]
    },
    {
      "cell_type": "markdown",
      "source": [],
      "metadata": {
        "id": "RIoifO1-23Mo"
      },
      "id": "RIoifO1-23Mo"
    },
    {
      "cell_type": "code",
      "source": [
        "import matplotlib.pyplot as plt\n",
        "\n",
        "plt.figure(figsize=(6, 4))\n",
        "plt.plot(train_loss, label='Train Loss')\n",
        "plt.plot(train_accuracy, label='Train Accuracy')\n",
        "plt.xlabel('Epoch')\n",
        "# plt.ylabel('Value')\n",
        "plt.title('Figure F1')\n",
        "plt.legend()\n",
        "plt.show()"
      ],
      "metadata": {
        "id": "sOdFWGecmKdQ",
        "outputId": "6e92e593-690d-4642-a360-f7ebddc0c3fd",
        "colab": {
          "base_uri": "https://localhost:8080/",
          "height": 410
        }
      },
      "id": "sOdFWGecmKdQ",
      "execution_count": 35,
      "outputs": [
        {
          "output_type": "display_data",
          "data": {
            "text/plain": [
              "<Figure size 600x400 with 1 Axes>"
            ],
            "image/png": "[encoded data removed]"
          },
          "metadata": {}
        }
      ]
    },
    {
      "cell_type": "markdown",
      "source": [
        "### Table T1\n",
        "\n",
        "| Epoch | Train Loss | Train Acc | Test Acc |\n",
        "|-------|------------|-----------|----------|\n",
        "|1|0.0317|0.9902|0.8764|\n",
        "|2|0.0246|0.9920|0.8895|\n",
        "|3|0.0211|0.9932|0.8765|\n",
        "|4|0.0178|0.9940|0.8791|\n",
        "|5|0.0173|0.9947|0.8740|\n"
      ],
      "metadata": {
        "id": "nl2C8CKt4DcD"
      },
      "id": "nl2C8CKt4DcD"
    },
    {
      "cell_type": "code",
      "source": [],
      "metadata": {
        "id": "bnMKrcmd56xs"
      },
      "id": "bnMKrcmd56xs",
      "execution_count": 35,
      "outputs": []
    },
    {
      "cell_type": "markdown",
      "source": [
        "# C2"
      ],
      "metadata": {
        "id": "gB0_oon5nMFq"
      },
      "id": "gB0_oon5nMFq"
    },
    {
      "cell_type": "code",
      "source": [
        "wandb.init(project=\"hpml-hw2-llm\", name=f\"bs{BATCH_SIZE}_lr{LEARNING_RATE}\", group = \"Baseline Timing\")\n",
        "\n",
        "wandb.config.update({\n",
        "    \"model_name\": \"distilbert-base-uncased\",\n",
        "    \"max_len\": MAX_LEN,\n",
        "    \"batch_size\": BATCH_SIZE,\n",
        "    \"lr\": LEARNING_RATE,\n",
        "    \"optimizer\": \"AdamW\",\n",
        "    \"num_workers\": NUMBER_WORKERS,\n",
        "    \"epochs\": EPOCHS,\n",
        "    \"compile_mode\": False\n",
        "})"
      ],
      "metadata": {
        "colab": {
          "base_uri": "https://localhost:8080/",
          "height": 105
        },
        "id": "kFQIx5zJnNfa",
        "outputId": "ad0bdcfc-473a-45ab-c768-946d80f0cad4"
      },
      "id": "kFQIx5zJnNfa",
      "execution_count": 36,
      "outputs": [
        {
          "output_type": "display_data",
          "data": {
            "text/plain": [
              "<IPython.core.display.HTML object>"
            ],
            "text/html": []
          },
          "metadata": {}
        },
        {
          "output_type": "display_data",
          "data": {
            "text/plain": [
              "<IPython.core.display.HTML object>"
            ],
            "text/html": [
              "Tracking run with wandb version 0.22.2"
            ]
          },
          "metadata": {}
        },
        {
          "output_type": "display_data",
          "data": {
            "text/plain": [
              "<IPython.core.display.HTML object>"
            ],
            "text/html": [
              "Run data is saved locally in <code>/content/wandb/run-20251018_142549-smh3f5kq</code>"
            ]
          },
          "metadata": {}
        },
        {
          "output_type": "display_data",
          "data": {
            "text/plain": [
              "<IPython.core.display.HTML object>"
            ],
            "text/html": [
              "Syncing run <strong><a href='https://wandb.ai/kaimao-columbia-university/hpml-hw2-llm/runs/smh3f5kq' target=\"_blank\">bs32_lr0.0001</a></strong> to <a href='https://wandb.ai/kaimao-columbia-university/hpml-hw2-llm' target=\"_blank\">Weights & Biases</a> (<a href='https://wandb.me/developer-guide' target=\"_blank\">docs</a>)<br>"
            ]
          },
          "metadata": {}
        },
        {
          "output_type": "display_data",
          "data": {
            "text/plain": [
              "<IPython.core.display.HTML object>"
            ],
            "text/html": [
              " View project at <a href='https://wandb.ai/kaimao-columbia-university/hpml-hw2-llm' target=\"_blank\">https://wandb.ai/kaimao-columbia-university/hpml-hw2-llm</a>"
            ]
          },
          "metadata": {}
        },
        {
          "output_type": "display_data",
          "data": {
            "text/plain": [
              "<IPython.core.display.HTML object>"
            ],
            "text/html": [
              " View run at <a href='https://wandb.ai/kaimao-columbia-university/hpml-hw2-llm/runs/smh3f5kq' target=\"_blank\">https://wandb.ai/kaimao-columbia-university/hpml-hw2-llm/runs/smh3f5kq</a>"
            ]
          },
          "metadata": {}
        }
      ]
    },
    {
      "cell_type": "code",
      "source": [
        "import time"
      ],
      "metadata": {
        "id": "0RQB4Z5rncZ7"
      },
      "id": "0RQB4Z5rncZ7",
      "execution_count": 37,
      "outputs": []
    },
    {
      "cell_type": "code",
      "source": [
        "train_loader = DataLoader(tokenized[\"train\"], batch_size= BATCH_SIZE, shuffle=True, collate_fn=collate_fn, num_workers=NUMBER_WORKERS)\n",
        "test_loader = DataLoader(tokenized[\"test\"], batch_size = BATCH_SIZE, collate_fn=collate_fn, num_workers = NUMBER_WORKERS)"
      ],
      "metadata": {
        "id": "r7dzAx-jnyxJ"
      },
      "id": "r7dzAx-jnyxJ",
      "execution_count": 38,
      "outputs": []
    },
    {
      "cell_type": "code",
      "source": [
        "optimizer = AdamW(model.parameters(), lr=LEARNING_RATE)\n",
        "\n",
        "train_loss = []\n",
        "train_accuracy = []\n",
        "test_accuracy = []\n",
        "data_loading_time_arr = []\n",
        "compute_time_arr = []\n",
        "epoch_time_arr = []\n",
        "\n",
        "for epoch in range(EPOCHS):\n",
        "  model.train()\n",
        "  total_loss = 0\n",
        "  total_correct = 0\n",
        "  total_samples = 0\n",
        "  data_loading_time = 0\n",
        "  training_compute_time = 0\n",
        "  total_epoch_time = 0\n",
        "  start_data_loading = time.time()\n",
        "  start_epoch_time = time.time()\n",
        "  for batch in train_loader:\n",
        "      torch.cuda.synchronize()\n",
        "      end = time.time()\n",
        "      data_loading_time +=  end - start_data_loading\n",
        "\n",
        "      optimizer.zero_grad()\n",
        "\n",
        "      inputs = {\n",
        "          \"input_ids\": batch[\"input_ids\"].to(device),\n",
        "          \"attention_mask\": batch[\"attention_mask\"].to(device),\n",
        "          \"labels\": batch[\"labels\"].to(device),\n",
        "      }\n",
        "\n",
        "      start_compute = time.time()\n",
        "      outputs = model(**inputs)\n",
        "      loss = outputs.loss\n",
        "      loss.backward()\n",
        "      optimizer.step()\n",
        "\n",
        "      torch.cuda.synchronize()\n",
        "      end = time.time()\n",
        "      training_compute_time += end - start_compute\n",
        "\n",
        "      logits = outputs.logits\n",
        "      preds = torch.argmax(logits, dim = 1)\n",
        "      labels = batch[\"labels\"].to(device)\n",
        "      correct = (preds == labels).sum().item()\n",
        "      total_correct += correct\n",
        "      total_samples += len(labels)\n",
        "      total_loss += loss.item()\n",
        "\n",
        "      start_data_loading = time.time()\n",
        "\n",
        "  end = time.time()\n",
        "  total_epoch_time = end - start_epoch_time\n",
        "\n",
        "  avg_loss = total_loss / len(train_loader)\n",
        "  avg_accuracy = total_correct / total_samples\n",
        "  train_loss.append(avg_loss)\n",
        "  train_accuracy.append(avg_accuracy)\n",
        "\n",
        "  model.eval()\n",
        "  correct = 0\n",
        "  total = 0\n",
        "\n",
        "  with torch.no_grad():\n",
        "      for batch in test_loader:\n",
        "          inputs = {\n",
        "              \"input_ids\": batch[\"input_ids\"].to(device),\n",
        "              \"attention_mask\": batch[\"attention_mask\"].to(device),\n",
        "          }\n",
        "          labels = batch[\"labels\"].to(device)\n",
        "\n",
        "          logits = model(**inputs).logits\n",
        "          preds = torch.argmax(logits, dim=1)\n",
        "\n",
        "          correct += (preds == labels).sum().item()\n",
        "          total += labels.size(0)\n",
        "\n",
        "  accuracy = correct / total\n",
        "  test_accuracy.append(accuracy)\n",
        "\n",
        "  wandb.log({\"train/loss\": train_loss,\n",
        "            \"train/acc\": avg_accuracy,\n",
        "            \"test/acc\": accuracy,\n",
        "             \"data-loading time\": data_loading_time,\n",
        "             \"compute time\": training_compute_time,\n",
        "             \"total epoch time\": total_epoch_time})\n",
        "\n",
        "  data_loading_time_arr.append(data_loading_time)\n",
        "  compute_time_arr.append(training_compute_time)\n",
        "  epoch_time_arr.append(total_epoch_time)\n",
        "  print(f\"Epoch {epoch+1}/{EPOCHS}, Loss: {avg_loss:.4f}, Train Accuracy: {avg_accuracy:.4f}, Test Accuracy: {accuracy:.4f}, data_loading time: {data_loading_time} \\\n",
        "          compute time: {training_compute_time} total epoch time: {total_epoch_time}\")\n"
      ],
      "metadata": {
        "colab": {
          "base_uri": "https://localhost:8080/"
        },
        "id": "2ztMRieKn2bQ",
        "outputId": "e6768a04-bd08-46c5-8f4d-753446f7c941"
      },
      "id": "2ztMRieKn2bQ",
      "execution_count": 40,
      "outputs": [
        {
          "output_type": "stream",
          "name": "stdout",
          "text": [
            "Epoch 1/5, Loss: 0.0333, Train Accuracy: 0.9898, Test Accuracy: 0.8475, data_loading time: 2.4466664791107178           compute time: 109.78202104568481 total epoch time: 113.29317784309387\n",
            "Epoch 2/5, Loss: 0.0228, Train Accuracy: 0.9927, Test Accuracy: 0.8472, data_loading time: 2.4001364707946777           compute time: 109.73737668991089 total epoch time: 113.1807632446289\n",
            "Epoch 3/5, Loss: 0.0226, Train Accuracy: 0.9930, Test Accuracy: 0.8164, data_loading time: 2.3973660469055176           compute time: 109.73684787750244 total epoch time: 113.17370367050171\n",
            "Epoch 4/5, Loss: 0.0214, Train Accuracy: 0.9931, Test Accuracy: 0.8360, data_loading time: 2.4157588481903076           compute time: 109.749671459198 total epoch time: 113.21418714523315\n",
            "Epoch 5/5, Loss: 0.0188, Train Accuracy: 0.9948, Test Accuracy: 0.8305, data_loading time: 2.3909530639648438           compute time: 109.75265192985535 total epoch time: 113.18562865257263\n"
          ]
        }
      ]
    },
    {
      "cell_type": "code",
      "source": [
        "wandb.finish()"
      ],
      "metadata": {
        "id": "tSYJy0kk3ZAQ"
      },
      "id": "tSYJy0kk3ZAQ",
      "execution_count": null,
      "outputs": []
    },
    {
      "cell_type": "code",
      "source": [],
      "metadata": {
        "id": "jLNbkkTs3Zj-"
      },
      "id": "jLNbkkTs3Zj-",
      "execution_count": null,
      "outputs": []
    },
    {
      "cell_type": "markdown",
      "source": [
        "# C3"
      ],
      "metadata": {
        "id": "heVz9h_S0O_j"
      },
      "id": "heVz9h_S0O_j"
    },
    {
      "cell_type": "code",
      "source": [],
      "metadata": {
        "id": "dHQz9lns3Wib"
      },
      "id": "dHQz9lns3Wib",
      "execution_count": null,
      "outputs": []
    },
    {
      "cell_type": "code",
      "source": [
        "avg_data_loading_time_arr = []\n",
        "avg_epoch_time_arr = []\n",
        "\n",
        "for NUMBER_WORKERS in [0,2,4,8]:\n",
        "  wandb.init(project=\"hpml-hw2-llm\", name=f\"bs{BATCH_SIZE}_lr{LEARNING_RATE}\", group = \"DataLoader Performance\")\n",
        "\n",
        "  wandb.config.update({\n",
        "      \"model_name\": \"distilbert-base-uncased\",\n",
        "      \"max_len\": MAX_LEN,\n",
        "      \"batch_size\": BATCH_SIZE,\n",
        "      \"lr\": LEARNING_RATE,\n",
        "      \"optimizer\": \"AdamW\",\n",
        "      \"num_workers\": NUMBER_WORKERS,\n",
        "      \"epochs\": EPOCHS,\n",
        "      \"compile_mode\": False\n",
        "  })\n",
        "\n",
        "  train_loader = DataLoader(tokenized[\"train\"], batch_size= BATCH_SIZE, shuffle=True, collate_fn=collate_fn, num_workers=NUMBER_WORKERS)\n",
        "  test_loader = DataLoader(tokenized[\"test\"], batch_size = BATCH_SIZE, collate_fn=collate_fn, num_workers = NUMBER_WORKERS)\n",
        "\n",
        "  print(f\"-------------DataLoader Performance: num_workers: {NUMBER_WORKERS} ---------------------------\")\n",
        "\n",
        "  optimizer = AdamW(model.parameters(), lr=LEARNING_RATE)\n",
        "\n",
        "  train_loss = []\n",
        "  train_accuracy = []\n",
        "  test_accuracy = []\n",
        "  data_loading_time_arr = []\n",
        "  compute_time_arr = []\n",
        "  epoch_time_arr = []\n",
        "\n",
        "  for epoch in range(EPOCHS):\n",
        "    model.train()\n",
        "    total_loss = 0\n",
        "    total_correct = 0\n",
        "    total_samples = 0\n",
        "    data_loading_time = 0\n",
        "    training_compute_time = 0\n",
        "    total_epoch_time = 0\n",
        "    start_data_loading = time.time()\n",
        "    start_epoch_time = time.time()\n",
        "    for batch in train_loader:\n",
        "        torch.cuda.synchronize()\n",
        "        end = time.time()\n",
        "        data_loading_time +=  end - start_data_loading\n",
        "\n",
        "        optimizer.zero_grad()\n",
        "\n",
        "        inputs = {\n",
        "            \"input_ids\": batch[\"input_ids\"].to(device),\n",
        "            \"attention_mask\": batch[\"attention_mask\"].to(device),\n",
        "            \"labels\": batch[\"labels\"].to(device),\n",
        "        }\n",
        "\n",
        "        start_compute = time.time()\n",
        "        outputs = model(**inputs)\n",
        "        loss = outputs.loss\n",
        "        loss.backward()\n",
        "        optimizer.step()\n",
        "\n",
        "        torch.cuda.synchronize()\n",
        "        end = time.time()\n",
        "        training_compute_time += end - start_compute\n",
        "\n",
        "        logits = outputs.logits\n",
        "        preds = torch.argmax(logits, dim = 1)\n",
        "        labels = batch[\"labels\"].to(device)\n",
        "        correct = (preds == labels).sum().item()\n",
        "        total_correct += correct\n",
        "        total_samples += len(labels)\n",
        "        total_loss += loss.item()\n",
        "\n",
        "        start_data_loading = time.time()\n",
        "\n",
        "    end = time.time()\n",
        "    total_epoch_time = end - start_epoch_time\n",
        "\n",
        "    avg_loss = total_loss / len(train_loader)\n",
        "    avg_accuracy = total_correct / total_samples\n",
        "    train_loss.append(avg_loss)\n",
        "    train_accuracy.append(avg_accuracy)\n",
        "\n",
        "    model.eval()\n",
        "    correct = 0\n",
        "    total = 0\n",
        "\n",
        "    with torch.no_grad():\n",
        "        for batch in test_loader:\n",
        "            inputs = {\n",
        "                \"input_ids\": batch[\"input_ids\"].to(device),\n",
        "                \"attention_mask\": batch[\"attention_mask\"].to(device),\n",
        "            }\n",
        "            labels = batch[\"labels\"].to(device)\n",
        "\n",
        "            logits = model(**inputs).logits\n",
        "            preds = torch.argmax(logits, dim=1)\n",
        "\n",
        "            correct += (preds == labels).sum().item()\n",
        "            total += labels.size(0)\n",
        "\n",
        "    accuracy = correct / total\n",
        "    test_accuracy.append(accuracy)\n",
        "\n",
        "    wandb.log({\"train/loss\": train_loss,\n",
        "              \"train/acc\": avg_accuracy,\n",
        "              \"test/acc\": accuracy,\n",
        "              \"data-loading time\": data_loading_time,\n",
        "              \"compute time\": training_compute_time,\n",
        "              \"total epoch time\": total_epoch_time})\n",
        "\n",
        "    data_loading_time_arr.append(data_loading_time)\n",
        "    compute_time_arr.append(training_compute_time)\n",
        "    epoch_time_arr.append(total_epoch_time)\n",
        "    print(f\"Epoch {epoch+1}/{EPOCHS}, Loss: {avg_loss:.4f}, Train Accuracy: {avg_accuracy:.4f}, Test Accuracy: {accuracy:.4f}, data_loading time: {data_loading_time} \\\n",
        "            compute time: {training_compute_time} total epoch time: {total_epoch_time}\")\n",
        "    print(f\"-------------------------------------------------------------------------------\")\n",
        "\n",
        "  avg_data_loading_time_arr.append(sum(data_loading_time_arr)/ len(data_loading_time_arr))\n",
        "  avg_epoch_time_arr.append(sum(epoch_time_arr)/len(epoch_time_arr))\n",
        "  wandb.finish()"
      ],
      "metadata": {
        "colab": {
          "base_uri": "https://localhost:8080/",
          "height": 1000
        },
        "id": "ylOAPqx30Qkb",
        "outputId": "7dd7a589-26bf-4f46-f1ec-030b7104228f"
      },
      "id": "ylOAPqx30Qkb",
      "execution_count": 42,
      "outputs": [
        {
          "data": {
            "text/html": [
              "Finishing previous runs because reinit is set to 'default'."
            ],
            "text/plain": [
              "<IPython.core.display.HTML object>"
            ]
          },
          "metadata": {},
          "output_type": "display_data"
        },
        {
          "data": {
            "text/html": [],
            "text/plain": [
              "<IPython.core.display.HTML object>"
            ]
          },
          "metadata": {},
          "output_type": "display_data"
        },
        {
          "data": {
            "text/html": [
              "<br>    <style><br>        .wandb-row {<br>            display: flex;<br>            flex-direction: row;<br>            flex-wrap: wrap;<br>            justify-content: flex-start;<br>            width: 100%;<br>        }<br>        .wandb-col {<br>            display: flex;<br>            flex-direction: column;<br>            flex-basis: 100%;<br>            flex: 1;<br>            padding: 10px;<br>        }<br>    </style><br><div class=\"wandb-row\"><div class=\"wandb-col\"><h3>Run history:</h3><br/><table class=\"wandb\"><tr><td>compute time</td><td>██▁▁▃▃</td></tr><tr><td>data-loading time</td><td>▁█████</td></tr><tr><td>test/acc</td><td>███▁▅▄</td></tr><tr><td>total epoch time</td><td>██▁▁▃▂</td></tr><tr><td>train/acc</td><td>▁▄▆▇▇█</td></tr></table><br/></div><div class=\"wandb-col\"><h3>Run summary:</h3><br/><table class=\"wandb\"><tr><td>compute time</td><td>109.75265</td></tr><tr><td>data-loading time</td><td>2.39095</td></tr><tr><td>test/acc</td><td>0.83052</td></tr><tr><td>total epoch time</td><td>113.18563</td></tr><tr><td>train/acc</td><td>0.99476</td></tr></table><br/></div></div>"
            ],
            "text/plain": [
              "<IPython.core.display.HTML object>"
            ]
          },
          "metadata": {},
          "output_type": "display_data"
        },
        {
          "data": {
            "text/html": [
              " View run <strong style=\"color:#cdcd00\">bs32_lr0.0001</strong> at: <a href='https://wandb.ai/kaimao-columbia-university/hpml-hw2-llm/runs/smh3f5kq' target=\"_blank\">https://wandb.ai/kaimao-columbia-university/hpml-hw2-llm/runs/smh3f5kq</a><br> View project at: <a href='https://wandb.ai/kaimao-columbia-university/hpml-hw2-llm' target=\"_blank\">https://wandb.ai/kaimao-columbia-university/hpml-hw2-llm</a><br>Synced 5 W&B file(s), 0 media file(s), 0 artifact file(s) and 0 other file(s)"
            ],
            "text/plain": [
              "<IPython.core.display.HTML object>"
            ]
          },
          "metadata": {},
          "output_type": "display_data"
        },
        {
          "data": {
            "text/html": [
              "Find logs at: <code>./wandb/run-20251018_142549-smh3f5kq/logs</code>"
            ],
            "text/plain": [
              "<IPython.core.display.HTML object>"
            ]
          },
          "metadata": {},
          "output_type": "display_data"
        },
        {
          "data": {
            "text/html": [],
            "text/plain": [
              "<IPython.core.display.HTML object>"
            ]
          },
          "metadata": {},
          "output_type": "display_data"
        },
        {
          "data": {
            "text/html": [
              "Tracking run with wandb version 0.22.2"
            ],
            "text/plain": [
              "<IPython.core.display.HTML object>"
            ]
          },
          "metadata": {},
          "output_type": "display_data"
        },
        {
          "data": {
            "text/html": [
              "Run data is saved locally in <code>/content/wandb/run-20251018_153220-4vydoxoq</code>"
            ],
            "text/plain": [
              "<IPython.core.display.HTML object>"
            ]
          },
          "metadata": {},
          "output_type": "display_data"
        },
        {
          "data": {
            "text/html": [
              "Syncing run <strong><a href='https://wandb.ai/kaimao-columbia-university/hpml-hw2-llm/runs/4vydoxoq' target=\"_blank\">bs32_lr0.0001</a></strong> to <a href='https://wandb.ai/kaimao-columbia-university/hpml-hw2-llm' target=\"_blank\">Weights & Biases</a> (<a href='https://wandb.me/developer-guide' target=\"_blank\">docs</a>)<br>"
            ],
            "text/plain": [
              "<IPython.core.display.HTML object>"
            ]
          },
          "metadata": {},
          "output_type": "display_data"
        },
        {
          "data": {
            "text/html": [
              " View project at <a href='https://wandb.ai/kaimao-columbia-university/hpml-hw2-llm' target=\"_blank\">https://wandb.ai/kaimao-columbia-university/hpml-hw2-llm</a>"
            ],
            "text/plain": [
              "<IPython.core.display.HTML object>"
            ]
          },
          "metadata": {},
          "output_type": "display_data"
        },
        {
          "data": {
            "text/html": [
              " View run at <a href='https://wandb.ai/kaimao-columbia-university/hpml-hw2-llm/runs/4vydoxoq' target=\"_blank\">https://wandb.ai/kaimao-columbia-university/hpml-hw2-llm/runs/4vydoxoq</a>"
            ],
            "text/plain": [
              "<IPython.core.display.HTML object>"
            ]
          },
          "metadata": {},
          "output_type": "display_data"
        },
        {
          "metadata": {
            "tags": null
          },
          "name": "stdout",
          "output_type": "stream",
          "text": [
            "-------------DataLoader Performance: num_workers: 0 ---------------------------\n",
            "Epoch 1/5, Loss: 0.0321, Train Accuracy: 0.9912, Test Accuracy: 0.8242, data_loading time: 2.662478446960449             compute time: 109.84503436088562 total epoch time: 113.66250514984131\n",
            "-------------------------------------------------------------------------------\n",
            "Epoch 2/5, Loss: 0.0843, Train Accuracy: 0.9698, Test Accuracy: 0.7166, data_loading time: 2.6812973022460938             compute time: 109.8151273727417 total epoch time: 113.66981983184814\n",
            "-------------------------------------------------------------------------------\n",
            "Epoch 3/5, Loss: 0.5951, Train Accuracy: 0.6194, Test Accuracy: 0.5000, data_loading time: 2.6487512588500977             compute time: 109.80901336669922 total epoch time: 113.6107964515686\n",
            "-------------------------------------------------------------------------------\n",
            "Epoch 4/5, Loss: 0.6591, Train Accuracy: 0.5498, Test Accuracy: 0.5000, data_loading time: 2.626675605773926             compute time: 109.80499625205994 total epoch time: 113.57699394226074\n",
            "-------------------------------------------------------------------------------\n",
            "Epoch 5/5, Loss: 0.6939, Train Accuracy: 0.5014, Test Accuracy: 0.5000, data_loading time: 2.6518492698669434             compute time: 109.82006120681763 total epoch time: 113.62675309181213\n",
            "-------------------------------------------------------------------------------\n"
          ]
        },
        {
          "data": {
            "text/html": [],
            "text/plain": [
              "<IPython.core.display.HTML object>"
            ]
          },
          "metadata": {},
          "output_type": "display_data"
        },
        {
          "data": {
            "text/html": [
              "<br>    <style><br>        .wandb-row {<br>            display: flex;<br>            flex-direction: row;<br>            flex-wrap: wrap;<br>            justify-content: flex-start;<br>            width: 100%;<br>        }<br>        .wandb-col {<br>            display: flex;<br>            flex-direction: column;<br>            flex-basis: 100%;<br>            flex: 1;<br>            padding: 10px;<br>        }<br>    </style><br><div class=\"wandb-row\"><div class=\"wandb-col\"><h3>Run history:</h3><br/><table class=\"wandb\"><tr><td>compute time</td><td>█▃▂▁▄</td></tr><tr><td>data-loading time</td><td>▆█▄▁▄</td></tr><tr><td>test/acc</td><td>█▆▁▁▁</td></tr><tr><td>total epoch time</td><td>▇█▄▁▅</td></tr><tr><td>train/acc</td><td>██▃▂▁</td></tr></table><br/></div><div class=\"wandb-col\"><h3>Run summary:</h3><br/><table class=\"wandb\"><tr><td>compute time</td><td>109.82006</td></tr><tr><td>data-loading time</td><td>2.65185</td></tr><tr><td>test/acc</td><td>0.49996</td></tr><tr><td>total epoch time</td><td>113.62675</td></tr><tr><td>train/acc</td><td>0.50144</td></tr></table><br/></div></div>"
            ],
            "text/plain": [
              "<IPython.core.display.HTML object>"
            ]
          },
          "metadata": {},
          "output_type": "display_data"
        },
        {
          "data": {
            "text/html": [
              " View run <strong style=\"color:#cdcd00\">bs32_lr0.0001</strong> at: <a href='https://wandb.ai/kaimao-columbia-university/hpml-hw2-llm/runs/4vydoxoq' target=\"_blank\">https://wandb.ai/kaimao-columbia-university/hpml-hw2-llm/runs/4vydoxoq</a><br> View project at: <a href='https://wandb.ai/kaimao-columbia-university/hpml-hw2-llm' target=\"_blank\">https://wandb.ai/kaimao-columbia-university/hpml-hw2-llm</a><br>Synced 5 W&B file(s), 0 media file(s), 0 artifact file(s) and 0 other file(s)"
            ],
            "text/plain": [
              "<IPython.core.display.HTML object>"
            ]
          },
          "metadata": {},
          "output_type": "display_data"
        },
        {
          "data": {
            "text/html": [
              "Find logs at: <code>./wandb/run-20251018_153220-4vydoxoq/logs</code>"
            ],
            "text/plain": [
              "<IPython.core.display.HTML object>"
            ]
          },
          "metadata": {},
          "output_type": "display_data"
        },
        {
          "data": {
            "text/html": [],
            "text/plain": [
              "<IPython.core.display.HTML object>"
            ]
          },
          "metadata": {},
          "output_type": "display_data"
        },
        {
          "data": {
            "text/html": [
              "Tracking run with wandb version 0.22.2"
            ],
            "text/plain": [
              "<IPython.core.display.HTML object>"
            ]
          },
          "metadata": {},
          "output_type": "display_data"
        },
        {
          "data": {
            "text/html": [
              "Run data is saved locally in <code>/content/wandb/run-20251018_154502-bxg4appt</code>"
            ],
            "text/plain": [
              "<IPython.core.display.HTML object>"
            ]
          },
          "metadata": {},
          "output_type": "display_data"
        },
        {
          "data": {
            "text/html": [
              "Syncing run <strong><a href='https://wandb.ai/kaimao-columbia-university/hpml-hw2-llm/runs/bxg4appt' target=\"_blank\">bs32_lr0.0001</a></strong> to <a href='https://wandb.ai/kaimao-columbia-university/hpml-hw2-llm' target=\"_blank\">Weights & Biases</a> (<a href='https://wandb.me/developer-guide' target=\"_blank\">docs</a>)<br>"
            ],
            "text/plain": [
              "<IPython.core.display.HTML object>"
            ]
          },
          "metadata": {},
          "output_type": "display_data"
        },
        {
          "data": {
            "text/html": [
              " View project at <a href='https://wandb.ai/kaimao-columbia-university/hpml-hw2-llm' target=\"_blank\">https://wandb.ai/kaimao-columbia-university/hpml-hw2-llm</a>"
            ],
            "text/plain": [
              "<IPython.core.display.HTML object>"
            ]
          },
          "metadata": {},
          "output_type": "display_data"
        },
        {
          "data": {
            "text/html": [
              " View run at <a href='https://wandb.ai/kaimao-columbia-university/hpml-hw2-llm/runs/bxg4appt' target=\"_blank\">https://wandb.ai/kaimao-columbia-university/hpml-hw2-llm/runs/bxg4appt</a>"
            ],
            "text/plain": [
              "<IPython.core.display.HTML object>"
            ]
          },
          "metadata": {},
          "output_type": "display_data"
        },
        {
          "metadata": {
            "tags": null
          },
          "name": "stdout",
          "output_type": "stream",
          "text": [
            "-------------DataLoader Performance: num_workers: 2 ---------------------------\n",
            "Epoch 1/5, Loss: 0.1877, Train Accuracy: 0.9191, Test Accuracy: 0.8009, data_loading time: 2.5013298988342285             compute time: 109.93216323852539 total epoch time: 113.74971604347229\n",
            "-------------------------------------------------------------------------------\n",
            "Epoch 2/5, Loss: 0.0314, Train Accuracy: 0.9911, Test Accuracy: 0.8061, data_loading time: 2.483947515487671             compute time: 109.8529760837555 total epoch time: 113.65137481689453\n",
            "-------------------------------------------------------------------------------\n",
            "Epoch 3/5, Loss: 0.0229, Train Accuracy: 0.9936, Test Accuracy: 0.7998, data_loading time: 3.174907922744751             compute time: 109.92876410484314 total epoch time: 114.47270035743713\n",
            "-------------------------------------------------------------------------------\n",
            "Epoch 4/5, Loss: 0.0312, Train Accuracy: 0.9925, Test Accuracy: 0.8059, data_loading time: 3.100069284439087             compute time: 110.43195915222168 total epoch time: 114.85323405265808\n",
            "-------------------------------------------------------------------------------\n",
            "Epoch 5/5, Loss: 0.0170, Train Accuracy: 0.9950, Test Accuracy: 0.7809, data_loading time: 2.4506113529205322             compute time: 109.84206581115723 total epoch time: 113.570321559906\n",
            "-------------------------------------------------------------------------------\n"
          ]
        },
        {
          "data": {
            "text/html": [],
            "text/plain": [
              "<IPython.core.display.HTML object>"
            ]
          },
          "metadata": {},
          "output_type": "display_data"
        },
        {
          "data": {
            "text/html": [
              "<br>    <style><br>        .wandb-row {<br>            display: flex;<br>            flex-direction: row;<br>            flex-wrap: wrap;<br>            justify-content: flex-start;<br>            width: 100%;<br>        }<br>        .wandb-col {<br>            display: flex;<br>            flex-direction: column;<br>            flex-basis: 100%;<br>            flex: 1;<br>            padding: 10px;<br>        }<br>    </style><br><div class=\"wandb-row\"><div class=\"wandb-col\"><h3>Run history:</h3><br/><table class=\"wandb\"><tr><td>compute time</td><td>▂▁▂█▁</td></tr><tr><td>data-loading time</td><td>▁▁█▇▁</td></tr><tr><td>test/acc</td><td>▇█▆█▁</td></tr><tr><td>total epoch time</td><td>▂▁▆█▁</td></tr><tr><td>train/acc</td><td>▁████</td></tr></table><br/></div><div class=\"wandb-col\"><h3>Run summary:</h3><br/><table class=\"wandb\"><tr><td>compute time</td><td>109.84207</td></tr><tr><td>data-loading time</td><td>2.45061</td></tr><tr><td>test/acc</td><td>0.78088</td></tr><tr><td>total epoch time</td><td>113.57032</td></tr><tr><td>train/acc</td><td>0.99504</td></tr></table><br/></div></div>"
            ],
            "text/plain": [
              "<IPython.core.display.HTML object>"
            ]
          },
          "metadata": {},
          "output_type": "display_data"
        },
        {
          "data": {
            "text/html": [
              " View run <strong style=\"color:#cdcd00\">bs32_lr0.0001</strong> at: <a href='https://wandb.ai/kaimao-columbia-university/hpml-hw2-llm/runs/bxg4appt' target=\"_blank\">https://wandb.ai/kaimao-columbia-university/hpml-hw2-llm/runs/bxg4appt</a><br> View project at: <a href='https://wandb.ai/kaimao-columbia-university/hpml-hw2-llm' target=\"_blank\">https://wandb.ai/kaimao-columbia-university/hpml-hw2-llm</a><br>Synced 5 W&B file(s), 0 media file(s), 0 artifact file(s) and 0 other file(s)"
            ],
            "text/plain": [
              "<IPython.core.display.HTML object>"
            ]
          },
          "metadata": {},
          "output_type": "display_data"
        },
        {
          "data": {
            "text/html": [
              "Find logs at: <code>./wandb/run-20251018_154502-bxg4appt/logs</code>"
            ],
            "text/plain": [
              "<IPython.core.display.HTML object>"
            ]
          },
          "metadata": {},
          "output_type": "display_data"
        },
        {
          "data": {
            "text/html": [],
            "text/plain": [
              "<IPython.core.display.HTML object>"
            ]
          },
          "metadata": {},
          "output_type": "display_data"
        },
        {
          "data": {
            "text/html": [
              "Tracking run with wandb version 0.22.2"
            ],
            "text/plain": [
              "<IPython.core.display.HTML object>"
            ]
          },
          "metadata": {},
          "output_type": "display_data"
        },
        {
          "data": {
            "text/html": [
              "Run data is saved locally in <code>/content/wandb/run-20251018_155745-mqma9qrb</code>"
            ],
            "text/plain": [
              "<IPython.core.display.HTML object>"
            ]
          },
          "metadata": {},
          "output_type": "display_data"
        },
        {
          "data": {
            "text/html": [
              "Syncing run <strong><a href='https://wandb.ai/kaimao-columbia-university/hpml-hw2-llm/runs/mqma9qrb' target=\"_blank\">bs32_lr0.0001</a></strong> to <a href='https://wandb.ai/kaimao-columbia-university/hpml-hw2-llm' target=\"_blank\">Weights & Biases</a> (<a href='https://wandb.me/developer-guide' target=\"_blank\">docs</a>)<br>"
            ],
            "text/plain": [
              "<IPython.core.display.HTML object>"
            ]
          },
          "metadata": {},
          "output_type": "display_data"
        },
        {
          "data": {
            "text/html": [
              " View project at <a href='https://wandb.ai/kaimao-columbia-university/hpml-hw2-llm' target=\"_blank\">https://wandb.ai/kaimao-columbia-university/hpml-hw2-llm</a>"
            ],
            "text/plain": [
              "<IPython.core.display.HTML object>"
            ]
          },
          "metadata": {},
          "output_type": "display_data"
        },
        {
          "data": {
            "text/html": [
              " View run at <a href='https://wandb.ai/kaimao-columbia-university/hpml-hw2-llm/runs/mqma9qrb' target=\"_blank\">https://wandb.ai/kaimao-columbia-university/hpml-hw2-llm/runs/mqma9qrb</a>"
            ],
            "text/plain": [
              "<IPython.core.display.HTML object>"
            ]
          },
          "metadata": {},
          "output_type": "display_data"
        },
        {
          "output_type": "stream",
          "name": "stdout",
          "text": [
            "-------------DataLoader Performance: num_workers: 4 ---------------------------\n",
            "Epoch 1/5, Loss: 0.0293, Train Accuracy: 0.9916, Test Accuracy: 0.7977, data_loading time: 2.5226542949676514             compute time: 109.90105533599854 total epoch time: 113.72668862342834\n",
            "-------------------------------------------------------------------------------\n",
            "Epoch 2/5, Loss: 0.0199, Train Accuracy: 0.9947, Test Accuracy: 0.7960, data_loading time: 2.5068485736846924             compute time: 109.85041117668152 total epoch time: 113.63473796844482\n",
            "-------------------------------------------------------------------------------\n",
            "Epoch 3/5, Loss: 0.0754, Train Accuracy: 0.9575, Test Accuracy: 0.5000, data_loading time: 2.494915008544922             compute time: 109.84790325164795 total epoch time: 113.6219801902771\n",
            "-------------------------------------------------------------------------------\n",
            "Epoch 4/5, Loss: 0.6941, Train Accuracy: 0.5015, Test Accuracy: 0.5000, data_loading time: 2.605015516281128             compute time: 109.87357997894287 total epoch time: 113.783047914505\n",
            "-------------------------------------------------------------------------------\n",
            "Epoch 5/5, Loss: 0.5201, Train Accuracy: 0.6501, Test Accuracy: 0.7898, data_loading time: 2.53644061088562             compute time: 109.87754917144775 total epoch time: 113.72040390968323\n",
            "-------------------------------------------------------------------------------\n"
          ]
        },
        {
          "output_type": "display_data",
          "data": {
            "text/plain": [
              "<IPython.core.display.HTML object>"
            ],
            "text/html": []
          },
          "metadata": {}
        },
        {
          "output_type": "display_data",
          "data": {
            "text/plain": [
              "<IPython.core.display.HTML object>"
            ],
            "text/html": [
              "<br>    <style><br>        .wandb-row {<br>            display: flex;<br>            flex-direction: row;<br>            flex-wrap: wrap;<br>            justify-content: flex-start;<br>            width: 100%;<br>        }<br>        .wandb-col {<br>            display: flex;<br>            flex-direction: column;<br>            flex-basis: 100%;<br>            flex: 1;<br>            padding: 10px;<br>        }<br>    </style><br><div class=\"wandb-row\"><div class=\"wandb-col\"><h3>Run history:</h3><br/><table class=\"wandb\"><tr><td>compute time</td><td>█▁▁▄▅</td></tr><tr><td>data-loading time</td><td>▃▂▁█▄</td></tr><tr><td>test/acc</td><td>██▁▁█</td></tr><tr><td>total epoch time</td><td>▆▂▁█▅</td></tr><tr><td>train/acc</td><td>██▇▁▃</td></tr></table><br/></div><div class=\"wandb-col\"><h3>Run summary:</h3><br/><table class=\"wandb\"><tr><td>compute time</td><td>109.87755</td></tr><tr><td>data-loading time</td><td>2.53644</td></tr><tr><td>test/acc</td><td>0.78976</td></tr><tr><td>total epoch time</td><td>113.7204</td></tr><tr><td>train/acc</td><td>0.65008</td></tr></table><br/></div></div>"
            ]
          },
          "metadata": {}
        },
        {
          "output_type": "display_data",
          "data": {
            "text/plain": [
              "<IPython.core.display.HTML object>"
            ],
            "text/html": [
              " View run <strong style=\"color:#cdcd00\">bs32_lr0.0001</strong> at: <a href='https://wandb.ai/kaimao-columbia-university/hpml-hw2-llm/runs/mqma9qrb' target=\"_blank\">https://wandb.ai/kaimao-columbia-university/hpml-hw2-llm/runs/mqma9qrb</a><br> View project at: <a href='https://wandb.ai/kaimao-columbia-university/hpml-hw2-llm' target=\"_blank\">https://wandb.ai/kaimao-columbia-university/hpml-hw2-llm</a><br>Synced 5 W&B file(s), 0 media file(s), 0 artifact file(s) and 0 other file(s)"
            ]
          },
          "metadata": {}
        },
        {
          "output_type": "display_data",
          "data": {
            "text/plain": [
              "<IPython.core.display.HTML object>"
            ],
            "text/html": [
              "Find logs at: <code>./wandb/run-20251018_155745-mqma9qrb/logs</code>"
            ]
          },
          "metadata": {}
        },
        {
          "output_type": "display_data",
          "data": {
            "text/plain": [
              "<IPython.core.display.HTML object>"
            ],
            "text/html": []
          },
          "metadata": {}
        },
        {
          "output_type": "display_data",
          "data": {
            "text/plain": [
              "<IPython.core.display.HTML object>"
            ],
            "text/html": [
              "Tracking run with wandb version 0.22.2"
            ]
          },
          "metadata": {}
        },
        {
          "output_type": "display_data",
          "data": {
            "text/plain": [
              "<IPython.core.display.HTML object>"
            ],
            "text/html": [
              "Run data is saved locally in <code>/content/wandb/run-20251018_161026-3lraco7c</code>"
            ]
          },
          "metadata": {}
        },
        {
          "output_type": "display_data",
          "data": {
            "text/plain": [
              "<IPython.core.display.HTML object>"
            ],
            "text/html": [
              "Syncing run <strong><a href='https://wandb.ai/kaimao-columbia-university/hpml-hw2-llm/runs/3lraco7c' target=\"_blank\">bs32_lr0.0001</a></strong> to <a href='https://wandb.ai/kaimao-columbia-university/hpml-hw2-llm' target=\"_blank\">Weights & Biases</a> (<a href='https://wandb.me/developer-guide' target=\"_blank\">docs</a>)<br>"
            ]
          },
          "metadata": {}
        },
        {
          "output_type": "display_data",
          "data": {
            "text/plain": [
              "<IPython.core.display.HTML object>"
            ],
            "text/html": [
              " View project at <a href='https://wandb.ai/kaimao-columbia-university/hpml-hw2-llm' target=\"_blank\">https://wandb.ai/kaimao-columbia-university/hpml-hw2-llm</a>"
            ]
          },
          "metadata": {}
        },
        {
          "output_type": "display_data",
          "data": {
            "text/plain": [
              "<IPython.core.display.HTML object>"
            ],
            "text/html": [
              " View run at <a href='https://wandb.ai/kaimao-columbia-university/hpml-hw2-llm/runs/3lraco7c' target=\"_blank\">https://wandb.ai/kaimao-columbia-university/hpml-hw2-llm/runs/3lraco7c</a>"
            ]
          },
          "metadata": {}
        },
        {
          "output_type": "stream",
          "name": "stdout",
          "text": [
            "-------------DataLoader Performance: num_workers: 8 ---------------------------\n",
            "Epoch 1/5, Loss: 0.1451, Train Accuracy: 0.9449, Test Accuracy: 0.7592, data_loading time: 2.66508412361145             compute time: 109.89069533348083 total epoch time: 113.84465837478638\n",
            "-------------------------------------------------------------------------------\n",
            "Epoch 2/5, Loss: 0.0829, Train Accuracy: 0.9708, Test Accuracy: 0.7940, data_loading time: 2.692507743835449             compute time: 109.87782001495361 total epoch time: 113.87537169456482\n",
            "-------------------------------------------------------------------------------\n",
            "Epoch 3/5, Loss: 0.0669, Train Accuracy: 0.9768, Test Accuracy: 0.7727, data_loading time: 2.6519362926483154             compute time: 109.84205770492554 total epoch time: 113.77667880058289\n",
            "-------------------------------------------------------------------------------\n",
            "Epoch 4/5, Loss: 0.0871, Train Accuracy: 0.9702, Test Accuracy: 0.7537, data_loading time: 2.661569356918335             compute time: 109.86439561843872 total epoch time: 113.83425378799438\n",
            "-------------------------------------------------------------------------------\n",
            "Epoch 5/5, Loss: 0.1835, Train Accuracy: 0.9190, Test Accuracy: 0.7298, data_loading time: 2.6881158351898193             compute time: 109.87314629554749 total epoch time: 113.88820242881775\n",
            "-------------------------------------------------------------------------------\n"
          ]
        },
        {
          "output_type": "display_data",
          "data": {
            "text/plain": [
              "<IPython.core.display.HTML object>"
            ],
            "text/html": []
          },
          "metadata": {}
        },
        {
          "output_type": "display_data",
          "data": {
            "text/plain": [
              "<IPython.core.display.HTML object>"
            ],
            "text/html": [
              "<br>    <style><br>        .wandb-row {<br>            display: flex;<br>            flex-direction: row;<br>            flex-wrap: wrap;<br>            justify-content: flex-start;<br>            width: 100%;<br>        }<br>        .wandb-col {<br>            display: flex;<br>            flex-direction: column;<br>            flex-basis: 100%;<br>            flex: 1;<br>            padding: 10px;<br>        }<br>    </style><br><div class=\"wandb-row\"><div class=\"wandb-col\"><h3>Run history:</h3><br/><table class=\"wandb\"><tr><td>compute time</td><td>█▆▁▄▅</td></tr><tr><td>data-loading time</td><td>▃█▁▃▇</td></tr><tr><td>test/acc</td><td>▄█▆▄▁</td></tr><tr><td>total epoch time</td><td>▅▇▁▅█</td></tr><tr><td>train/acc</td><td>▄▇█▇▁</td></tr></table><br/></div><div class=\"wandb-col\"><h3>Run summary:</h3><br/><table class=\"wandb\"><tr><td>compute time</td><td>109.87315</td></tr><tr><td>data-loading time</td><td>2.68812</td></tr><tr><td>test/acc</td><td>0.7298</td></tr><tr><td>total epoch time</td><td>113.8882</td></tr><tr><td>train/acc</td><td>0.919</td></tr></table><br/></div></div>"
            ]
          },
          "metadata": {}
        },
        {
          "output_type": "display_data",
          "data": {
            "text/plain": [
              "<IPython.core.display.HTML object>"
            ],
            "text/html": [
              " View run <strong style=\"color:#cdcd00\">bs32_lr0.0001</strong> at: <a href='https://wandb.ai/kaimao-columbia-university/hpml-hw2-llm/runs/3lraco7c' target=\"_blank\">https://wandb.ai/kaimao-columbia-university/hpml-hw2-llm/runs/3lraco7c</a><br> View project at: <a href='https://wandb.ai/kaimao-columbia-university/hpml-hw2-llm' target=\"_blank\">https://wandb.ai/kaimao-columbia-university/hpml-hw2-llm</a><br>Synced 5 W&B file(s), 0 media file(s), 0 artifact file(s) and 0 other file(s)"
            ]
          },
          "metadata": {}
        },
        {
          "output_type": "display_data",
          "data": {
            "text/plain": [
              "<IPython.core.display.HTML object>"
            ],
            "text/html": [
              "Find logs at: <code>./wandb/run-20251018_161026-3lraco7c/logs</code>"
            ]
          },
          "metadata": {}
        }
      ]
    },
    {
      "cell_type": "code",
      "source": [],
      "metadata": {
        "id": "f4lzUXOa3V5h"
      },
      "id": "f4lzUXOa3V5h",
      "execution_count": null,
      "outputs": []
    },
    {
      "cell_type": "code",
      "source": [],
      "metadata": {
        "id": "yHLqFudp0QzY"
      },
      "id": "yHLqFudp0QzY",
      "execution_count": null,
      "outputs": []
    }
  ],
  "metadata": {
    "language_info": {
      "name": "python"
    },
    "colab": {
      "provenance": [],
      "machine_shape": "hm",
      "gpuType": "A100"
    },
    "kernelspec": {
      "name": "python3",
      "display_name": "Python 3"
    },
    "accelerator": "GPU",
    "widgets": {
      "application/vnd.jupyter.widget-state+json": {
        "9e60bb5a41184f2cae93e58c6b02ffb7": {
          "model_module": "@jupyter-widgets/controls",
          "model_name": "HBoxModel",
          "model_module_version": "1.5.0",
          "state": {
            "_dom_classes": [],
            "_model_module": "@jupyter-widgets/controls",
            "_model_module_version": "1.5.0",
            "_model_name": "HBoxModel",
            "_view_count": null,
            "_view_module": "@jupyter-widgets/controls",
            "_view_module_version": "1.5.0",
            "_view_name": "HBoxView",
            "box_style": "",
            "children": [
              "IPY_MODEL_0ec1c41e4f85443d868236d675d4856c",
              "IPY_MODEL_fd84667a1aaa44c288d97c0ad517c6d7",
              "IPY_MODEL_b00e56680967401297f32c292ac64e76"
            ],
            "layout": "IPY_MODEL_cae1675924e54ce0826c88b7a2711f24"
          }
        },
        "0ec1c41e4f85443d868236d675d4856c": {
          "model_module": "@jupyter-widgets/controls",
          "model_name": "HTMLModel",
          "model_module_version": "1.5.0",
          "state": {
            "_dom_classes": [],
            "_model_module": "@jupyter-widgets/controls",
            "_model_module_version": "1.5.0",
            "_model_name": "HTMLModel",
            "_view_count": null,
            "_view_module": "@jupyter-widgets/controls",
            "_view_module_version": "1.5.0",
            "_view_name": "HTMLView",
            "description": "",
            "description_tooltip": null,
            "layout": "IPY_MODEL_ff5b88b3381b4151b68454525b28b50f",
            "placeholder": "​",
            "style": "IPY_MODEL_2e2f639d1d014bb487b918c6425b5745",
            "value": "Map: 100%"
          }
        },
        "fd84667a1aaa44c288d97c0ad517c6d7": {
          "model_module": "@jupyter-widgets/controls",
          "model_name": "FloatProgressModel",
          "model_module_version": "1.5.0",
          "state": {
            "_dom_classes": [],
            "_model_module": "@jupyter-widgets/controls",
            "_model_module_version": "1.5.0",
            "_model_name": "FloatProgressModel",
            "_view_count": null,
            "_view_module": "@jupyter-widgets/controls",
            "_view_module_version": "1.5.0",
            "_view_name": "ProgressView",
            "bar_style": "success",
            "description": "",
            "description_tooltip": null,
            "layout": "IPY_MODEL_71d002ff786f437a9d6c357929e20124",
            "max": 50000,
            "min": 0,
            "orientation": "horizontal",
            "style": "IPY_MODEL_2763fccb191a4caba493fc9a544f1cda",
            "value": 50000
          }
        },
        "b00e56680967401297f32c292ac64e76": {
          "model_module": "@jupyter-widgets/controls",
          "model_name": "HTMLModel",
          "model_module_version": "1.5.0",
          "state": {
            "_dom_classes": [],
            "_model_module": "@jupyter-widgets/controls",
            "_model_module_version": "1.5.0",
            "_model_name": "HTMLModel",
            "_view_count": null,
            "_view_module": "@jupyter-widgets/controls",
            "_view_module_version": "1.5.0",
            "_view_name": "HTMLView",
            "description": "",
            "description_tooltip": null,
            "layout": "IPY_MODEL_e7fe655b8ca94c21be6b7ef837170d7e",
            "placeholder": "​",
            "style": "IPY_MODEL_ce7bffdded0c43439799617ef3e25355",
            "value": " 50000/50000 [00:14&lt;00:00, 3460.34 examples/s]"
          }
        },
        "cae1675924e54ce0826c88b7a2711f24": {
          "model_module": "@jupyter-widgets/base",
          "model_name": "LayoutModel",
          "model_module_version": "1.2.0",
          "state": {
            "_model_module": "@jupyter-widgets/base",
            "_model_module_version": "1.2.0",
            "_model_name": "LayoutModel",
            "_view_count": null,
            "_view_module": "@jupyter-widgets/base",
            "_view_module_version": "1.2.0",
            "_view_name": "LayoutView",
            "align_content": null,
            "align_items": null,
            "align_self": null,
            "border": null,
            "bottom": null,
            "display": null,
            "flex": null,
            "flex_flow": null,
            "grid_area": null,
            "grid_auto_columns": null,
            "grid_auto_flow": null,
            "grid_auto_rows": null,
            "grid_column": null,
            "grid_gap": null,
            "grid_row": null,
            "grid_template_areas": null,
            "grid_template_columns": null,
            "grid_template_rows": null,
            "height": null,
            "justify_content": null,
            "justify_items": null,
            "left": null,
            "margin": null,
            "max_height": null,
            "max_width": null,
            "min_height": null,
            "min_width": null,
            "object_fit": null,
            "object_position": null,
            "order": null,
            "overflow": null,
            "overflow_x": null,
            "overflow_y": null,
            "padding": null,
            "right": null,
            "top": null,
            "visibility": null,
            "width": null
          }
        },
        "ff5b88b3381b4151b68454525b28b50f": {
          "model_module": "@jupyter-widgets/base",
          "model_name": "LayoutModel",
          "model_module_version": "1.2.0",
          "state": {
            "_model_module": "@jupyter-widgets/base",
            "_model_module_version": "1.2.0",
            "_model_name": "LayoutModel",
            "_view_count": null,
            "_view_module": "@jupyter-widgets/base",
            "_view_module_version": "1.2.0",
            "_view_name": "LayoutView",
            "align_content": null,
            "align_items": null,
            "align_self": null,
            "border": null,
            "bottom": null,
            "display": null,
            "flex": null,
            "flex_flow": null,
            "grid_area": null,
            "grid_auto_columns": null,
            "grid_auto_flow": null,
            "grid_auto_rows": null,
            "grid_column": null,
            "grid_gap": null,
            "grid_row": null,
            "grid_template_areas": null,
            "grid_template_columns": null,
            "grid_template_rows": null,
            "height": null,
            "justify_content": null,
            "justify_items": null,
            "left": null,
            "margin": null,
            "max_height": null,
            "max_width": null,
            "min_height": null,
            "min_width": null,
            "object_fit": null,
            "object_position": null,
            "order": null,
            "overflow": null,
            "overflow_x": null,
            "overflow_y": null,
            "padding": null,
            "right": null,
            "top": null,
            "visibility": null,
            "width": null
          }
        },
        "2e2f639d1d014bb487b918c6425b5745": {
          "model_module": "@jupyter-widgets/controls",
          "model_name": "DescriptionStyleModel",
          "model_module_version": "1.5.0",
          "state": {
            "_model_module": "@jupyter-widgets/controls",
            "_model_module_version": "1.5.0",
            "_model_name": "DescriptionStyleModel",
            "_view_count": null,
            "_view_module": "@jupyter-widgets/base",
            "_view_module_version": "1.2.0",
            "_view_name": "StyleView",
            "description_width": ""
          }
        },
        "71d002ff786f437a9d6c357929e20124": {
          "model_module": "@jupyter-widgets/base",
          "model_name": "LayoutModel",
          "model_module_version": "1.2.0",
          "state": {
            "_model_module": "@jupyter-widgets/base",
            "_model_module_version": "1.2.0",
            "_model_name": "LayoutModel",
            "_view_count": null,
            "_view_module": "@jupyter-widgets/base",
            "_view_module_version": "1.2.0",
            "_view_name": "LayoutView",
            "align_content": null,
            "align_items": null,
            "align_self": null,
            "border": null,
            "bottom": null,
            "display": null,
            "flex": null,
            "flex_flow": null,
            "grid_area": null,
            "grid_auto_columns": null,
            "grid_auto_flow": null,
            "grid_auto_rows": null,
            "grid_column": null,
            "grid_gap": null,
            "grid_row": null,
            "grid_template_areas": null,
            "grid_template_columns": null,
            "grid_template_rows": null,
            "height": null,
            "justify_content": null,
            "justify_items": null,
            "left": null,
            "margin": null,
            "max_height": null,
            "max_width": null,
            "min_height": null,
            "min_width": null,
            "object_fit": null,
            "object_position": null,
            "order": null,
            "overflow": null,
            "overflow_x": null,
            "overflow_y": null,
            "padding": null,
            "right": null,
            "top": null,
            "visibility": null,
            "width": null
          }
        },
        "2763fccb191a4caba493fc9a544f1cda": {
          "model_module": "@jupyter-widgets/controls",
          "model_name": "ProgressStyleModel",
          "model_module_version": "1.5.0",
          "state": {
            "_model_module": "@jupyter-widgets/controls",
            "_model_module_version": "1.5.0",
            "_model_name": "ProgressStyleModel",
            "_view_count": null,
            "_view_module": "@jupyter-widgets/base",
            "_view_module_version": "1.2.0",
            "_view_name": "StyleView",
            "bar_color": null,
            "description_width": ""
          }
        },
        "e7fe655b8ca94c21be6b7ef837170d7e": {
          "model_module": "@jupyter-widgets/base",
          "model_name": "LayoutModel",
          "model_module_version": "1.2.0",
          "state": {
            "_model_module": "@jupyter-widgets/base",
            "_model_module_version": "1.2.0",
            "_model_name": "LayoutModel",
            "_view_count": null,
            "_view_module": "@jupyter-widgets/base",
            "_view_module_version": "1.2.0",
            "_view_name": "LayoutView",
            "align_content": null,
            "align_items": null,
            "align_self": null,
            "border": null,
            "bottom": null,
            "display": null,
            "flex": null,
            "flex_flow": null,
            "grid_area": null,
            "grid_auto_columns": null,
            "grid_auto_flow": null,
            "grid_auto_rows": null,
            "grid_column": null,
            "grid_gap": null,
            "grid_row": null,
            "grid_template_areas": null,
            "grid_template_columns": null,
            "grid_template_rows": null,
            "height": null,
            "justify_content": null,
            "justify_items": null,
            "left": null,
            "margin": null,
            "max_height": null,
            "max_width": null,
            "min_height": null,
            "min_width": null,
            "object_fit": null,
            "object_position": null,
            "order": null,
            "overflow": null,
            "overflow_x": null,
            "overflow_y": null,
            "padding": null,
            "right": null,
            "top": null,
            "visibility": null,
            "width": null
          }
        },
        "ce7bffdded0c43439799617ef3e25355": {
          "model_module": "@jupyter-widgets/controls",
          "model_name": "DescriptionStyleModel",
          "model_module_version": "1.5.0",
          "state": {
            "_model_module": "@jupyter-widgets/controls",
            "_model_module_version": "1.5.0",
            "_model_name": "DescriptionStyleModel",
            "_view_count": null,
            "_view_module": "@jupyter-widgets/base",
            "_view_module_version": "1.2.0",
            "_view_name": "StyleView",
            "description_width": ""
          }
        }
      }
    }
  },
  "nbformat": 4,
  "nbformat_minor": 5
}
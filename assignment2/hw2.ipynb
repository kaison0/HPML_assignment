{
 "cells": [
  {
   "cell_type": "code",
   "execution_count": 1,
   "id": "525cb661",
   "metadata": {
    "colab": {
     "base_uri": "https://localhost:8080/"
    },
    "id": "525cb661",
    "outputId": "4de4e8f5-ffdf-49be-98a3-610b0aeafda3"
   },
   "outputs": [
    {
     "name": "stdout",
     "output_type": "stream",
     "text": [
      "Requirement already satisfied: ipykernel in ./venv/lib/python3.12/site-packages (7.0.1)\n",
      "Requirement already satisfied: comm>=0.1.1 in ./venv/lib/python3.12/site-packages (from ipykernel) (0.2.3)\n",
      "Requirement already satisfied: debugpy>=1.6.5 in ./venv/lib/python3.12/site-packages (from ipykernel) (1.8.17)\n",
      "Requirement already satisfied: ipython>=7.23.1 in ./venv/lib/python3.12/site-packages (from ipykernel) (9.6.0)\n",
      "Requirement already satisfied: jupyter-client>=8.0.0 in ./venv/lib/python3.12/site-packages (from ipykernel) (8.6.3)\n",
      "Requirement already satisfied: jupyter-core!=5.0.*,>=4.12 in ./venv/lib/python3.12/site-packages (from ipykernel) (5.9.1)\n",
      "Requirement already satisfied: matplotlib-inline>=0.1 in ./venv/lib/python3.12/site-packages (from ipykernel) (0.1.7)\n",
      "Requirement already satisfied: nest-asyncio>=1.4 in ./venv/lib/python3.12/site-packages (from ipykernel) (1.6.0)\n",
      "Requirement already satisfied: packaging>=22 in ./venv/lib/python3.12/site-packages (from ipykernel) (25.0)\n",
      "Requirement already satisfied: psutil>=5.7 in ./venv/lib/python3.12/site-packages (from ipykernel) (7.1.1)\n",
      "Requirement already satisfied: pyzmq>=25 in ./venv/lib/python3.12/site-packages (from ipykernel) (27.1.0)\n",
      "Requirement already satisfied: tornado>=6.2 in ./venv/lib/python3.12/site-packages (from ipykernel) (6.5.2)\n",
      "Requirement already satisfied: traitlets>=5.4.0 in ./venv/lib/python3.12/site-packages (from ipykernel) (5.14.3)\n",
      "Requirement already satisfied: decorator in ./venv/lib/python3.12/site-packages (from ipython>=7.23.1->ipykernel) (5.2.1)\n",
      "Requirement already satisfied: ipython-pygments-lexers in ./venv/lib/python3.12/site-packages (from ipython>=7.23.1->ipykernel) (1.1.1)\n",
      "Requirement already satisfied: jedi>=0.16 in ./venv/lib/python3.12/site-packages (from ipython>=7.23.1->ipykernel) (0.19.2)\n",
      "Requirement already satisfied: pexpect>4.3 in ./venv/lib/python3.12/site-packages (from ipython>=7.23.1->ipykernel) (4.9.0)\n",
      "Requirement already satisfied: prompt_toolkit<3.1.0,>=3.0.41 in ./venv/lib/python3.12/site-packages (from ipython>=7.23.1->ipykernel) (3.0.52)\n",
      "Requirement already satisfied: pygments>=2.4.0 in ./venv/lib/python3.12/site-packages (from ipython>=7.23.1->ipykernel) (2.19.2)\n",
      "Requirement already satisfied: stack_data in ./venv/lib/python3.12/site-packages (from ipython>=7.23.1->ipykernel) (0.6.3)\n",
      "Requirement already satisfied: python-dateutil>=2.8.2 in ./venv/lib/python3.12/site-packages (from jupyter-client>=8.0.0->ipykernel) (2.9.0.post0)\n",
      "Requirement already satisfied: platformdirs>=2.5 in ./venv/lib/python3.12/site-packages (from jupyter-core!=5.0.*,>=4.12->ipykernel) (4.5.0)\n",
      "Requirement already satisfied: parso<0.9.0,>=0.8.4 in ./venv/lib/python3.12/site-packages (from jedi>=0.16->ipython>=7.23.1->ipykernel) (0.8.5)\n",
      "Requirement already satisfied: ptyprocess>=0.5 in ./venv/lib/python3.12/site-packages (from pexpect>4.3->ipython>=7.23.1->ipykernel) (0.7.0)\n",
      "Requirement already satisfied: wcwidth in ./venv/lib/python3.12/site-packages (from prompt_toolkit<3.1.0,>=3.0.41->ipython>=7.23.1->ipykernel) (0.2.14)\n",
      "Requirement already satisfied: six>=1.5 in ./venv/lib/python3.12/site-packages (from python-dateutil>=2.8.2->jupyter-client>=8.0.0->ipykernel) (1.17.0)\n",
      "Requirement already satisfied: executing>=1.2.0 in ./venv/lib/python3.12/site-packages (from stack_data->ipython>=7.23.1->ipykernel) (2.2.1)\n",
      "Requirement already satisfied: asttokens>=2.1.0 in ./venv/lib/python3.12/site-packages (from stack_data->ipython>=7.23.1->ipykernel) (3.0.0)\n",
      "Requirement already satisfied: pure-eval in ./venv/lib/python3.12/site-packages (from stack_data->ipython>=7.23.1->ipykernel) (0.2.3)\n",
      "Installed kernelspec myenv in /root/.local/share/jupyter/kernels/myenv\n",
      "Requirement already satisfied: datasets in /venv/main/lib/python3.12/site-packages (4.2.0)\n",
      "Requirement already satisfied: wandb in /venv/main/lib/python3.12/site-packages (0.22.2)\n",
      "Requirement already satisfied: transformers in /venv/main/lib/python3.12/site-packages (4.57.1)\n",
      "Requirement already satisfied: matplotlib in /venv/main/lib/python3.12/site-packages (3.10.7)\n",
      "Requirement already satisfied: torch-tb-profiler in /venv/main/lib/python3.12/site-packages (0.4.3)\n",
      "Requirement already satisfied: filelock in /venv/main/lib/python3.12/site-packages (from datasets) (3.19.1)\n",
      "Requirement already satisfied: numpy>=1.17 in /venv/main/lib/python3.12/site-packages (from datasets) (2.1.2)\n",
      "Requirement already satisfied: pyarrow>=21.0.0 in /venv/main/lib/python3.12/site-packages (from datasets) (21.0.0)\n",
      "Requirement already satisfied: dill<0.4.1,>=0.3.0 in /venv/main/lib/python3.12/site-packages (from datasets) (0.4.0)\n",
      "Requirement already satisfied: pandas in /venv/main/lib/python3.12/site-packages (from datasets) (2.3.3)\n",
      "Requirement already satisfied: requests>=2.32.2 in /venv/main/lib/python3.12/site-packages (from datasets) (2.32.5)\n",
      "Requirement already satisfied: httpx<1.0.0 in /venv/main/lib/python3.12/site-packages (from datasets) (0.28.1)\n",
      "Requirement already satisfied: tqdm>=4.66.3 in /venv/main/lib/python3.12/site-packages (from datasets) (4.67.1)\n",
      "Requirement already satisfied: xxhash in /venv/main/lib/python3.12/site-packages (from datasets) (3.6.0)\n",
      "Requirement already satisfied: multiprocess<0.70.17 in /venv/main/lib/python3.12/site-packages (from datasets) (0.70.16)\n",
      "Requirement already satisfied: fsspec<=2025.9.0,>=2023.1.0 in /venv/main/lib/python3.12/site-packages (from fsspec[http]<=2025.9.0,>=2023.1.0->datasets) (2025.9.0)\n",
      "Requirement already satisfied: huggingface-hub<2.0,>=0.25.0 in /venv/main/lib/python3.12/site-packages (from datasets) (0.34.4)\n",
      "Requirement already satisfied: packaging in /venv/main/lib/python3.12/site-packages (from datasets) (25.0)\n",
      "Requirement already satisfied: pyyaml>=5.1 in /venv/main/lib/python3.12/site-packages (from datasets) (6.0.2)\n",
      "Requirement already satisfied: aiohttp!=4.0.0a0,!=4.0.0a1 in /venv/main/lib/python3.12/site-packages (from fsspec[http]<=2025.9.0,>=2023.1.0->datasets) (3.13.1)\n",
      "Requirement already satisfied: anyio in /venv/main/lib/python3.12/site-packages (from httpx<1.0.0->datasets) (4.11.0)\n",
      "Requirement already satisfied: certifi in /venv/main/lib/python3.12/site-packages (from httpx<1.0.0->datasets) (2025.8.3)\n",
      "Requirement already satisfied: httpcore==1.* in /venv/main/lib/python3.12/site-packages (from httpx<1.0.0->datasets) (1.0.9)\n",
      "Requirement already satisfied: idna in /venv/main/lib/python3.12/site-packages (from httpx<1.0.0->datasets) (3.10)\n",
      "Requirement already satisfied: h11>=0.16 in /venv/main/lib/python3.12/site-packages (from httpcore==1.*->httpx<1.0.0->datasets) (0.16.0)\n",
      "Requirement already satisfied: typing-extensions>=3.7.4.3 in /venv/main/lib/python3.12/site-packages (from huggingface-hub<2.0,>=0.25.0->datasets) (4.15.0)\n",
      "Requirement already satisfied: hf-xet<2.0.0,>=1.1.3 in /venv/main/lib/python3.12/site-packages (from huggingface-hub<2.0,>=0.25.0->datasets) (1.1.10)\n",
      "Requirement already satisfied: click>=8.0.1 in /venv/main/lib/python3.12/site-packages (from wandb) (8.3.0)\n",
      "Requirement already satisfied: gitpython!=3.1.29,>=1.0.0 in /venv/main/lib/python3.12/site-packages (from wandb) (3.1.45)\n",
      "Requirement already satisfied: platformdirs in /venv/main/lib/python3.12/site-packages (from wandb) (4.4.0)\n",
      "Requirement already satisfied: protobuf!=4.21.0,!=5.28.0,<7,>=3.19.0 in /venv/main/lib/python3.12/site-packages (from wandb) (6.33.0)\n",
      "Requirement already satisfied: pydantic<3 in /venv/main/lib/python3.12/site-packages (from wandb) (2.12.3)\n",
      "Requirement already satisfied: sentry-sdk>=2.0.0 in /venv/main/lib/python3.12/site-packages (from wandb) (2.42.1)\n",
      "Requirement already satisfied: annotated-types>=0.6.0 in /venv/main/lib/python3.12/site-packages (from pydantic<3->wandb) (0.7.0)\n",
      "Requirement already satisfied: pydantic-core==2.41.4 in /venv/main/lib/python3.12/site-packages (from pydantic<3->wandb) (2.41.4)\n",
      "Requirement already satisfied: typing-inspection>=0.4.2 in /venv/main/lib/python3.12/site-packages (from pydantic<3->wandb) (0.4.2)\n",
      "Requirement already satisfied: charset_normalizer<4,>=2 in /venv/main/lib/python3.12/site-packages (from requests>=2.32.2->datasets) (3.4.3)\n",
      "Requirement already satisfied: urllib3<3,>=1.21.1 in /venv/main/lib/python3.12/site-packages (from requests>=2.32.2->datasets) (2.5.0)\n",
      "Requirement already satisfied: regex!=2019.12.17 in /venv/main/lib/python3.12/site-packages (from transformers) (2025.10.23)\n",
      "Requirement already satisfied: tokenizers<=0.23.0,>=0.22.0 in /venv/main/lib/python3.12/site-packages (from transformers) (0.22.1)\n",
      "Requirement already satisfied: safetensors>=0.4.3 in /venv/main/lib/python3.12/site-packages (from transformers) (0.6.2)\n",
      "Requirement already satisfied: contourpy>=1.0.1 in /venv/main/lib/python3.12/site-packages (from matplotlib) (1.3.3)\n",
      "Requirement already satisfied: cycler>=0.10 in /venv/main/lib/python3.12/site-packages (from matplotlib) (0.12.1)\n",
      "Requirement already satisfied: fonttools>=4.22.0 in /venv/main/lib/python3.12/site-packages (from matplotlib) (4.60.1)\n",
      "Requirement already satisfied: kiwisolver>=1.3.1 in /venv/main/lib/python3.12/site-packages (from matplotlib) (1.4.9)\n",
      "Requirement already satisfied: pillow>=8 in /venv/main/lib/python3.12/site-packages (from matplotlib) (11.0.0)\n",
      "Requirement already satisfied: pyparsing>=3 in /venv/main/lib/python3.12/site-packages (from matplotlib) (3.2.5)\n",
      "Requirement already satisfied: python-dateutil>=2.7 in /venv/main/lib/python3.12/site-packages (from matplotlib) (2.9.0.post0)\n",
      "Requirement already satisfied: tensorboard!=2.1.0,>=1.15 in /venv/main/lib/python3.12/site-packages (from torch-tb-profiler) (2.20.0)\n",
      "Requirement already satisfied: aiohappyeyeballs>=2.5.0 in /venv/main/lib/python3.12/site-packages (from aiohttp!=4.0.0a0,!=4.0.0a1->fsspec[http]<=2025.9.0,>=2023.1.0->datasets) (2.6.1)\n",
      "Requirement already satisfied: aiosignal>=1.4.0 in /venv/main/lib/python3.12/site-packages (from aiohttp!=4.0.0a0,!=4.0.0a1->fsspec[http]<=2025.9.0,>=2023.1.0->datasets) (1.4.0)\n",
      "Requirement already satisfied: attrs>=17.3.0 in /venv/main/lib/python3.12/site-packages (from aiohttp!=4.0.0a0,!=4.0.0a1->fsspec[http]<=2025.9.0,>=2023.1.0->datasets) (25.4.0)\n",
      "Requirement already satisfied: frozenlist>=1.1.1 in /venv/main/lib/python3.12/site-packages (from aiohttp!=4.0.0a0,!=4.0.0a1->fsspec[http]<=2025.9.0,>=2023.1.0->datasets) (1.8.0)\n",
      "Requirement already satisfied: multidict<7.0,>=4.5 in /venv/main/lib/python3.12/site-packages (from aiohttp!=4.0.0a0,!=4.0.0a1->fsspec[http]<=2025.9.0,>=2023.1.0->datasets) (6.7.0)\n",
      "Requirement already satisfied: propcache>=0.2.0 in /venv/main/lib/python3.12/site-packages (from aiohttp!=4.0.0a0,!=4.0.0a1->fsspec[http]<=2025.9.0,>=2023.1.0->datasets) (0.4.1)\n",
      "Requirement already satisfied: yarl<2.0,>=1.17.0 in /venv/main/lib/python3.12/site-packages (from aiohttp!=4.0.0a0,!=4.0.0a1->fsspec[http]<=2025.9.0,>=2023.1.0->datasets) (1.22.0)\n",
      "Requirement already satisfied: gitdb<5,>=4.0.1 in /venv/main/lib/python3.12/site-packages (from gitpython!=3.1.29,>=1.0.0->wandb) (4.0.12)\n",
      "Requirement already satisfied: smmap<6,>=3.0.1 in /venv/main/lib/python3.12/site-packages (from gitdb<5,>=4.0.1->gitpython!=3.1.29,>=1.0.0->wandb) (5.0.2)\n",
      "Requirement already satisfied: pytz>=2020.1 in /venv/main/lib/python3.12/site-packages (from pandas->datasets) (2025.2)\n",
      "Requirement already satisfied: tzdata>=2022.7 in /venv/main/lib/python3.12/site-packages (from pandas->datasets) (2025.2)\n",
      "Requirement already satisfied: six>=1.5 in /venv/main/lib/python3.12/site-packages (from python-dateutil>=2.7->matplotlib) (1.17.0)\n",
      "Requirement already satisfied: absl-py>=0.4 in /venv/main/lib/python3.12/site-packages (from tensorboard!=2.1.0,>=1.15->torch-tb-profiler) (2.3.1)\n",
      "Requirement already satisfied: grpcio>=1.48.2 in /venv/main/lib/python3.12/site-packages (from tensorboard!=2.1.0,>=1.15->torch-tb-profiler) (1.76.0)\n",
      "Requirement already satisfied: markdown>=2.6.8 in /venv/main/lib/python3.12/site-packages (from tensorboard!=2.1.0,>=1.15->torch-tb-profiler) (3.9)\n",
      "Requirement already satisfied: setuptools>=41.0.0 in /venv/main/lib/python3.12/site-packages (from tensorboard!=2.1.0,>=1.15->torch-tb-profiler) (80.9.0)\n",
      "Requirement already satisfied: tensorboard-data-server<0.8.0,>=0.7.0 in /venv/main/lib/python3.12/site-packages (from tensorboard!=2.1.0,>=1.15->torch-tb-profiler) (0.7.2)\n",
      "Requirement already satisfied: werkzeug>=1.0.1 in /venv/main/lib/python3.12/site-packages (from tensorboard!=2.1.0,>=1.15->torch-tb-profiler) (3.1.3)\n",
      "Requirement already satisfied: MarkupSafe>=2.1.1 in /venv/main/lib/python3.12/site-packages (from werkzeug>=1.0.1->tensorboard!=2.1.0,>=1.15->torch-tb-profiler) (2.1.5)\n",
      "Requirement already satisfied: sniffio>=1.1 in /venv/main/lib/python3.12/site-packages (from anyio->httpx<1.0.0->datasets) (1.3.1)\n",
      "\u001b[33mWARNING: Running pip as the 'root' user can result in broken permissions and conflicting behaviour with the system package manager, possibly rendering your system unusable. It is recommended to use a virtual environment instead: https://pip.pypa.io/warnings/venv. Use the --root-user-action option if you know what you are doing and want to suppress this warning.\u001b[0m\u001b[33m\n",
      "\u001b[0mNote: you may need to restart the kernel to use updated packages.\n"
     ]
    }
   ],
   "source": [
    "!python3 -m venv venv\n",
    "!venv/bin/python -m pip install ipykernel\n",
    "!venv/bin/python -m ipykernel install --user --name=myenv --display-name \"Python (myenv)\"\n",
    "%pip install datasets wandb transformers matplotlib torch-tb-profiler"
   ]
  },
  {
   "cell_type": "code",
   "execution_count": 1,
   "id": "ANKbTyr50m9f",
   "metadata": {
    "id": "ANKbTyr50m9f"
   },
   "outputs": [
    {
     "name": "stderr",
     "output_type": "stream",
     "text": [
      "/venv/main/lib/python3.12/site-packages/pydantic/_internal/_generate_schema.py:2249: UnsupportedFieldAttributeWarning: The 'repr' attribute with value False was provided to the `Field()` function, which has no effect in the context it was used. 'repr' is field-specific metadata, and can only be attached to a model field using `Annotated` metadata or by assignment. This may have happened because an `Annotated` type alias using the `type` statement was used, or if the `Field()` function was attached to a single member of a union type.\n",
      "  warnings.warn(\n",
      "/venv/main/lib/python3.12/site-packages/pydantic/_internal/_generate_schema.py:2249: UnsupportedFieldAttributeWarning: The 'frozen' attribute with value True was provided to the `Field()` function, which has no effect in the context it was used. 'frozen' is field-specific metadata, and can only be attached to a model field using `Annotated` metadata or by assignment. This may have happened because an `Annotated` type alias using the `type` statement was used, or if the `Field()` function was attached to a single member of a union type.\n",
      "  warnings.warn(\n"
     ]
    }
   ],
   "source": [
    "import torch\n",
    "import torch.optim as optim\n",
    "import numpy as np\n",
    "import wandb\n",
    "from tqdm import tqdm\n",
    "from torch.optim import AdamW\n",
    "torch.cuda.manual_seed_all(423)"
   ]
  },
  {
   "cell_type": "code",
   "execution_count": 2,
   "id": "K5CiE3dGktBd",
   "metadata": {
    "id": "K5CiE3dGktBd"
   },
   "outputs": [],
   "source": [
    "project_name = \"hpml-hw2-llm2\""
   ]
  },
  {
   "cell_type": "code",
   "execution_count": 3,
   "id": "4u7Bhja-hrwT",
   "metadata": {
    "colab": {
     "base_uri": "https://localhost:8080/"
    },
    "id": "4u7Bhja-hrwT",
    "outputId": "a0cd6ab9-d2e6-458a-9aa5-bfa1c782d5a6"
   },
   "outputs": [
    {
     "name": "stdout",
     "output_type": "stream",
     "text": [
      "DatasetDict({\n",
      "    train: Dataset({\n",
      "        features: ['text', 'label'],\n",
      "        num_rows: 25000\n",
      "    })\n",
      "    test: Dataset({\n",
      "        features: ['text', 'label'],\n",
      "        num_rows: 25000\n",
      "    })\n",
      "    unsupervised: Dataset({\n",
      "        features: ['text', 'label'],\n",
      "        num_rows: 50000\n",
      "    })\n",
      "})\n"
     ]
    }
   ],
   "source": [
    "from datasets import load_dataset\n",
    "\n",
    "dataset = load_dataset(\"imdb\")\n",
    "print(dataset)"
   ]
  },
  {
   "cell_type": "code",
   "execution_count": 4,
   "id": "xWy8gotth8SB",
   "metadata": {
    "colab": {
     "base_uri": "https://localhost:8080/"
    },
    "id": "xWy8gotth8SB",
    "outputId": "2ad07fbc-c752-47bd-8b74-664145fa2469"
   },
   "outputs": [],
   "source": [
    "from transformers import DistilBertForSequenceClassification\n",
    "from torch.nn.utils.rnn import pad_sequence\n",
    "from torch.utils.data import DataLoader\n",
    "import torch\n",
    "from transformers import AutoTokenizer, DataCollatorWithPadding\n",
    "\n",
    "tokenizer = AutoTokenizer.from_pretrained(\"distilbert-base-uncased\")\n",
    "\n",
    "def tokenize_fn(batch):\n",
    "    return tokenizer(\n",
    "        batch[\"text\"],\n",
    "        padding=\"max_length\",\n",
    "        truncation=True,\n",
    "        max_length=256\n",
    "    )\n",
    "\n",
    "tokenized = dataset.map(tokenize_fn, batched=True)\n",
    "tokenized.set_format(type=\"torch\", columns=[\"input_ids\", \"attention_mask\", \"label\"])\n",
    "data_collator = DataCollatorWithPadding(tokenizer=tokenizer, return_tensors=\"pt\")"
   ]
  },
  {
   "cell_type": "markdown",
   "id": "yMDy5uS927OD",
   "metadata": {
    "id": "yMDy5uS927OD"
   },
   "source": [
    "## C1"
   ]
  },
  {
   "cell_type": "code",
   "execution_count": 7,
   "id": "IresskYBi_0H",
   "metadata": {
    "colab": {
     "base_uri": "https://localhost:8080/",
     "height": 193
    },
    "id": "IresskYBi_0H",
    "outputId": "aa955777-8b53-46a8-a9e9-89222e30fafc"
   },
   "outputs": [
    {
     "name": "stderr",
     "output_type": "stream",
     "text": [
      "\u001b[34m\u001b[1mwandb\u001b[0m: \u001b[32m\u001b[41mERROR\u001b[0m Failed to detect the name of this notebook. You can set it manually with the WANDB_NOTEBOOK_NAME environment variable to enable code saving.\n",
      "\u001b[34m\u001b[1mwandb\u001b[0m: Logging into wandb.ai. (Learn how to deploy a W&B server locally: https://wandb.me/wandb-server)\n",
      "\u001b[34m\u001b[1mwandb\u001b[0m: You can find your API key in your browser here: https://wandb.ai/authorize?ref=models\n",
      "\u001b[34m\u001b[1mwandb\u001b[0m: Paste an API key from your profile and hit enter:"
     ]
    },
    {
     "name": "stdin",
     "output_type": "stream",
     "text": [
      "  ········\n"
     ]
    },
    {
     "name": "stderr",
     "output_type": "stream",
     "text": [
      "\u001b[34m\u001b[1mwandb\u001b[0m: \u001b[33mWARNING\u001b[0m If you're specifying your api key in code, ensure this code is not shared publicly.\n",
      "\u001b[34m\u001b[1mwandb\u001b[0m: \u001b[33mWARNING\u001b[0m Consider setting the WANDB_API_KEY environment variable, or running `wandb login` from the command line.\n",
      "\u001b[34m\u001b[1mwandb\u001b[0m: No netrc file found, creating one.\n",
      "\u001b[34m\u001b[1mwandb\u001b[0m: Appending key for api.wandb.ai to your netrc file: /root/.netrc\n",
      "\u001b[34m\u001b[1mwandb\u001b[0m: Currently logged in as: \u001b[33mykmao1515\u001b[0m (\u001b[33mkaimao-columbia-university\u001b[0m) to \u001b[32mhttps://api.wandb.ai\u001b[0m. Use \u001b[1m`wandb login --relogin`\u001b[0m to force relogin\n"
     ]
    },
    {
     "data": {
      "text/html": [],
      "text/plain": [
       "<IPython.core.display.HTML object>"
      ]
     },
     "metadata": {},
     "output_type": "display_data"
    },
    {
     "data": {
      "text/html": [
       "Tracking run with wandb version 0.22.2"
      ],
      "text/plain": [
       "<IPython.core.display.HTML object>"
      ]
     },
     "metadata": {},
     "output_type": "display_data"
    },
    {
     "data": {
      "text/html": [
       "Run data is saved locally in <code>/workspace/wandb/run-20251023_022324-aaq01c0c</code>"
      ],
      "text/plain": [
       "<IPython.core.display.HTML object>"
      ]
     },
     "metadata": {},
     "output_type": "display_data"
    },
    {
     "data": {
      "text/html": [
       "Syncing run <strong><a href='https://wandb.ai/kaimao-columbia-university/hpml-hw2-llm/runs/aaq01c0c' target=\"_blank\">bs32_lr1e-4</a></strong> to <a href='https://wandb.ai/kaimao-columbia-university/hpml-hw2-llm' target=\"_blank\">Weights & Biases</a> (<a href='https://wandb.me/developer-guide' target=\"_blank\">docs</a>)<br>"
      ],
      "text/plain": [
       "<IPython.core.display.HTML object>"
      ]
     },
     "metadata": {},
     "output_type": "display_data"
    },
    {
     "data": {
      "text/html": [
       " View project at <a href='https://wandb.ai/kaimao-columbia-university/hpml-hw2-llm' target=\"_blank\">https://wandb.ai/kaimao-columbia-university/hpml-hw2-llm</a>"
      ],
      "text/plain": [
       "<IPython.core.display.HTML object>"
      ]
     },
     "metadata": {},
     "output_type": "display_data"
    },
    {
     "data": {
      "text/html": [
       " View run at <a href='https://wandb.ai/kaimao-columbia-university/hpml-hw2-llm/runs/aaq01c0c' target=\"_blank\">https://wandb.ai/kaimao-columbia-university/hpml-hw2-llm/runs/aaq01c0c</a>"
      ],
      "text/plain": [
       "<IPython.core.display.HTML object>"
      ]
     },
     "metadata": {},
     "output_type": "display_data"
    }
   ],
   "source": [
    "import wandb\n",
    "\n",
    "wandb.init(project=\"hpml-hw2-llm\", name=f\"bs32_lr1e-4\", group = \"Warm Up Experiment\")\n",
    "\n",
    "wandb.config.update({\n",
    "    \"model_name\": \"distilbert-base-uncased\",\n",
    "    \"max_len\": 256,\n",
    "    \"batch_size\": 32,\n",
    "    \"lr\": 1e-4,\n",
    "    \"optimizer\": \"AdamW\",\n",
    "    \"num_workers\": 2,\n",
    "    \"epochs\": 5,\n",
    "    \"compile_mode\": False\n",
    "})"
   ]
  },
  {
   "cell_type": "code",
   "execution_count": 9,
   "id": "ZsK9vsmTkPpW",
   "metadata": {
    "colab": {
     "base_uri": "https://localhost:8080/"
    },
    "id": "ZsK9vsmTkPpW",
    "outputId": "1ebaa8b3-6f50-4eb0-fb78-368b734158a4",
    "scrolled": true
   },
   "outputs": [
    {
     "name": "stderr",
     "output_type": "stream",
     "text": [
      "Some weights of DistilBertForSequenceClassification were not initialized from the model checkpoint at distilbert-base-uncased and are newly initialized: ['classifier.bias', 'classifier.weight', 'pre_classifier.bias', 'pre_classifier.weight']\n",
      "You should probably TRAIN this model on a down-stream task to be able to use it for predictions and inference.\n",
      "  0%|          | 0/782 [00:00<?, ?it/s]huggingface/tokenizers: The current process just got forked, after parallelism has already been used. Disabling parallelism to avoid deadlocks...\n",
      "To disable this warning, you can either:\n",
      "\t- Avoid using `tokenizers` before the fork if possible\n",
      "\t- Explicitly set the environment variable TOKENIZERS_PARALLELISM=(true | false)\n",
      "huggingface/tokenizers: The current process just got forked, after parallelism has already been used. Disabling parallelism to avoid deadlocks...\n",
      "To disable this warning, you can either:\n",
      "\t- Avoid using `tokenizers` before the fork if possible\n",
      "\t- Explicitly set the environment variable TOKENIZERS_PARALLELISM=(true | false)\n",
      "100%|██████████| 782/782 [00:43<00:00, 17.92it/s]\n",
      "huggingface/tokenizers: The current process just got forked, after parallelism has already been used. Disabling parallelism to avoid deadlocks...\n",
      "To disable this warning, you can either:\n",
      "\t- Avoid using `tokenizers` before the fork if possible\n",
      "\t- Explicitly set the environment variable TOKENIZERS_PARALLELISM=(true | false)\n",
      "huggingface/tokenizers: The current process just got forked, after parallelism has already been used. Disabling parallelism to avoid deadlocks...\n",
      "To disable this warning, you can either:\n",
      "\t- Avoid using `tokenizers` before the fork if possible\n",
      "\t- Explicitly set the environment variable TOKENIZERS_PARALLELISM=(true | false)\n"
     ]
    },
    {
     "name": "stdout",
     "output_type": "stream",
     "text": [
      "Epoch 1/5, Loss: 0.3095, Train Accuracy: 0.8674, Test Accuracy: 0.8892\n"
     ]
    },
    {
     "name": "stderr",
     "output_type": "stream",
     "text": [
      "  0%|          | 0/782 [00:00<?, ?it/s]huggingface/tokenizers: The current process just got forked, after parallelism has already been used. Disabling parallelism to avoid deadlocks...\n",
      "To disable this warning, you can either:\n",
      "\t- Avoid using `tokenizers` before the fork if possible\n",
      "\t- Explicitly set the environment variable TOKENIZERS_PARALLELISM=(true | false)\n",
      "huggingface/tokenizers: The current process just got forked, after parallelism has already been used. Disabling parallelism to avoid deadlocks...\n",
      "To disable this warning, you can either:\n",
      "\t- Avoid using `tokenizers` before the fork if possible\n",
      "\t- Explicitly set the environment variable TOKENIZERS_PARALLELISM=(true | false)\n",
      "100%|██████████| 782/782 [00:43<00:00, 17.87it/s]\n",
      "huggingface/tokenizers: The current process just got forked, after parallelism has already been used. Disabling parallelism to avoid deadlocks...\n",
      "To disable this warning, you can either:\n",
      "\t- Avoid using `tokenizers` before the fork if possible\n",
      "\t- Explicitly set the environment variable TOKENIZERS_PARALLELISM=(true | false)\n",
      "huggingface/tokenizers: The current process just got forked, after parallelism has already been used. Disabling parallelism to avoid deadlocks...\n",
      "To disable this warning, you can either:\n",
      "\t- Avoid using `tokenizers` before the fork if possible\n",
      "\t- Explicitly set the environment variable TOKENIZERS_PARALLELISM=(true | false)\n"
     ]
    },
    {
     "name": "stdout",
     "output_type": "stream",
     "text": [
      "Epoch 2/5, Loss: 0.1738, Train Accuracy: 0.9341, Test Accuracy: 0.8861\n"
     ]
    },
    {
     "name": "stderr",
     "output_type": "stream",
     "text": [
      "  0%|          | 0/782 [00:00<?, ?it/s]huggingface/tokenizers: The current process just got forked, after parallelism has already been used. Disabling parallelism to avoid deadlocks...\n",
      "To disable this warning, you can either:\n",
      "\t- Avoid using `tokenizers` before the fork if possible\n",
      "\t- Explicitly set the environment variable TOKENIZERS_PARALLELISM=(true | false)\n",
      "huggingface/tokenizers: The current process just got forked, after parallelism has already been used. Disabling parallelism to avoid deadlocks...\n",
      "To disable this warning, you can either:\n",
      "\t- Avoid using `tokenizers` before the fork if possible\n",
      "\t- Explicitly set the environment variable TOKENIZERS_PARALLELISM=(true | false)\n",
      "100%|██████████| 782/782 [00:43<00:00, 17.79it/s]\n",
      "huggingface/tokenizers: The current process just got forked, after parallelism has already been used. Disabling parallelism to avoid deadlocks...\n",
      "To disable this warning, you can either:\n",
      "\t- Avoid using `tokenizers` before the fork if possible\n",
      "\t- Explicitly set the environment variable TOKENIZERS_PARALLELISM=(true | false)\n",
      "huggingface/tokenizers: The current process just got forked, after parallelism has already been used. Disabling parallelism to avoid deadlocks...\n",
      "To disable this warning, you can either:\n",
      "\t- Avoid using `tokenizers` before the fork if possible\n",
      "\t- Explicitly set the environment variable TOKENIZERS_PARALLELISM=(true | false)\n"
     ]
    },
    {
     "name": "stdout",
     "output_type": "stream",
     "text": [
      "Epoch 3/5, Loss: 0.0891, Train Accuracy: 0.9681, Test Accuracy: 0.8826\n"
     ]
    },
    {
     "name": "stderr",
     "output_type": "stream",
     "text": [
      "  0%|          | 0/782 [00:00<?, ?it/s]huggingface/tokenizers: The current process just got forked, after parallelism has already been used. Disabling parallelism to avoid deadlocks...\n",
      "To disable this warning, you can either:\n",
      "\t- Avoid using `tokenizers` before the fork if possible\n",
      "\t- Explicitly set the environment variable TOKENIZERS_PARALLELISM=(true | false)\n",
      "huggingface/tokenizers: The current process just got forked, after parallelism has already been used. Disabling parallelism to avoid deadlocks...\n",
      "To disable this warning, you can either:\n",
      "\t- Avoid using `tokenizers` before the fork if possible\n",
      "\t- Explicitly set the environment variable TOKENIZERS_PARALLELISM=(true | false)\n",
      "100%|██████████| 782/782 [00:43<00:00, 17.84it/s]\n",
      "huggingface/tokenizers: The current process just got forked, after parallelism has already been used. Disabling parallelism to avoid deadlocks...\n",
      "To disable this warning, you can either:\n",
      "\t- Avoid using `tokenizers` before the fork if possible\n",
      "\t- Explicitly set the environment variable TOKENIZERS_PARALLELISM=(true | false)\n",
      "huggingface/tokenizers: The current process just got forked, after parallelism has already been used. Disabling parallelism to avoid deadlocks...\n",
      "To disable this warning, you can either:\n",
      "\t- Avoid using `tokenizers` before the fork if possible\n",
      "\t- Explicitly set the environment variable TOKENIZERS_PARALLELISM=(true | false)\n"
     ]
    },
    {
     "name": "stdout",
     "output_type": "stream",
     "text": [
      "Epoch 4/5, Loss: 0.0568, Train Accuracy: 0.9804, Test Accuracy: 0.8705\n"
     ]
    },
    {
     "name": "stderr",
     "output_type": "stream",
     "text": [
      "  0%|          | 0/782 [00:00<?, ?it/s]huggingface/tokenizers: The current process just got forked, after parallelism has already been used. Disabling parallelism to avoid deadlocks...\n",
      "To disable this warning, you can either:\n",
      "\t- Avoid using `tokenizers` before the fork if possible\n",
      "\t- Explicitly set the environment variable TOKENIZERS_PARALLELISM=(true | false)\n",
      "huggingface/tokenizers: The current process just got forked, after parallelism has already been used. Disabling parallelism to avoid deadlocks...\n",
      "To disable this warning, you can either:\n",
      "\t- Avoid using `tokenizers` before the fork if possible\n",
      "\t- Explicitly set the environment variable TOKENIZERS_PARALLELISM=(true | false)\n",
      "100%|██████████| 782/782 [00:44<00:00, 17.74it/s]\n",
      "huggingface/tokenizers: The current process just got forked, after parallelism has already been used. Disabling parallelism to avoid deadlocks...\n",
      "To disable this warning, you can either:\n",
      "\t- Avoid using `tokenizers` before the fork if possible\n",
      "\t- Explicitly set the environment variable TOKENIZERS_PARALLELISM=(true | false)\n",
      "huggingface/tokenizers: The current process just got forked, after parallelism has already been used. Disabling parallelism to avoid deadlocks...\n",
      "To disable this warning, you can either:\n",
      "\t- Avoid using `tokenizers` before the fork if possible\n",
      "\t- Explicitly set the environment variable TOKENIZERS_PARALLELISM=(true | false)\n"
     ]
    },
    {
     "name": "stdout",
     "output_type": "stream",
     "text": [
      "Epoch 5/5, Loss: 0.0385, Train Accuracy: 0.9876, Test Accuracy: 0.8718\n"
     ]
    }
   ],
   "source": [
    "\n",
    "\n",
    "config = wandb.config\n",
    "\n",
    "device = torch.device(\"cuda\" if torch.cuda.is_available() else \"cpu\")\n",
    "model_name = \"distilbert-base-uncased\"\n",
    "model = DistilBertForSequenceClassification.from_pretrained(model_name, num_labels=2)\n",
    "model.to(device)\n",
    "\n",
    "optimizer = AdamW(model.parameters(), lr=config.lr)\n",
    "\n",
    "train_loader = DataLoader(tokenized[\"train\"], batch_size=config.batch_size, shuffle=True, collate_fn=data_collator, num_workers=config.num_workers)\n",
    "test_loader = DataLoader(tokenized[\"test\"], batch_size=config.batch_size, collate_fn=data_collator, num_workers=config.num_workers)\n",
    "\n",
    "train_loss = []\n",
    "train_accuracy = []\n",
    "test_accuracy = []\n",
    "\n",
    "for epoch in range(config.epochs):\n",
    "  model.train()\n",
    "  total_loss = 0\n",
    "  total_correct = 0\n",
    "  total_samples = 0\n",
    "  for batch in tqdm(train_loader):\n",
    "      optimizer.zero_grad()\n",
    "\n",
    "      inputs = {\n",
    "          \"input_ids\": batch[\"input_ids\"].to(device),\n",
    "          \"attention_mask\": batch[\"attention_mask\"].to(device),\n",
    "          \"labels\": batch[\"labels\"].to(device),\n",
    "      }\n",
    "\n",
    "      outputs = model(**inputs)\n",
    "      loss = outputs.loss\n",
    "      loss.backward()\n",
    "      optimizer.step()\n",
    "\n",
    "      logits = outputs.logits\n",
    "      preds = torch.argmax(logits, dim = 1)\n",
    "      labels = batch[\"labels\"].to(device)\n",
    "      correct = (preds == labels).sum().item()\n",
    "      total_correct += correct\n",
    "      total_samples += len(labels)\n",
    "      total_loss += loss.item()\n",
    "\n",
    "  avg_loss = total_loss / len(train_loader)\n",
    "  avg_accuracy = total_correct / total_samples\n",
    "  train_loss.append(avg_loss)\n",
    "  train_accuracy.append(avg_accuracy)\n",
    "\n",
    "  model.eval()\n",
    "  correct = 0\n",
    "  total = 0\n",
    "\n",
    "  with torch.no_grad():\n",
    "      for batch in test_loader:\n",
    "          inputs = {\n",
    "              \"input_ids\": batch[\"input_ids\"].to(device),\n",
    "              \"attention_mask\": batch[\"attention_mask\"].to(device),\n",
    "          }\n",
    "          labels = batch[\"labels\"].to(device)\n",
    "\n",
    "          logits = model(**inputs).logits\n",
    "          preds = torch.argmax(logits, dim=1)\n",
    "\n",
    "          correct += (preds == labels).sum().item()\n",
    "          total += labels.size(0)\n",
    "\n",
    "  accuracy = correct / total\n",
    "  test_accuracy.append(accuracy)\n",
    "\n",
    "  wandb.log({\"train/loss\": train_loss,\n",
    "           \"train/acc\": avg_accuracy,\n",
    "           \"test/acc\": accuracy})\n",
    "  print(f\"Epoch {epoch+1}/{config.epochs}, Loss: {avg_loss:.4f}, Train Accuracy: {avg_accuracy:.4f}, Test Accuracy: {accuracy:.4f}\")\n"
   ]
  },
  {
   "cell_type": "code",
   "execution_count": null,
   "id": "LnQpctb_mJnG",
   "metadata": {
    "colab": {
     "base_uri": "https://localhost:8080/",
     "height": 357
    },
    "id": "LnQpctb_mJnG",
    "outputId": "1f71f27b-1104-414b-c7da-bcd53cc1defe"
   },
   "outputs": [],
   "source": [
    "wandb.finish()"
   ]
  },
  {
   "cell_type": "markdown",
   "id": "RIoifO1-23Mo",
   "metadata": {
    "id": "RIoifO1-23Mo"
   },
   "source": []
  },
  {
   "cell_type": "code",
   "execution_count": 12,
   "id": "sOdFWGecmKdQ",
   "metadata": {
    "colab": {
     "base_uri": "https://localhost:8080/",
     "height": 410
    },
    "id": "sOdFWGecmKdQ",
    "outputId": "6e92e593-690d-4642-a360-f7ebddc0c3fd"
   },
   "outputs": [
    {
     "data": {
      "image/png": "[encoded data removed]",
      "text/plain": [
       "<Figure size 600x400 with 1 Axes>"
      ]
     },
     "metadata": {},
     "output_type": "display_data"
    }
   ],
   "source": [
    "import matplotlib.pyplot as plt\n",
    "\n",
    "plt.figure(figsize=(6, 4))\n",
    "plt.plot(train_loss, label='Train Loss')\n",
    "plt.plot(train_accuracy, label='Train Accuracy')\n",
    "plt.xlabel('Epoch')\n",
    "# plt.ylabel('Value')\n",
    "plt.title('Figure F1')\n",
    "plt.legend()\n",
    "plt.show()"
   ]
  },
  {
   "cell_type": "code",
   "execution_count": null,
   "id": "c8c9412e-2451-486c-9052-661c46cf7e2c",
   "metadata": {},
   "outputs": [],
   "source": [
    "print(train_loss, train_accuracy, test_accuracy)"
   ]
  },
  {
   "cell_type": "markdown",
   "id": "nl2C8CKt4DcD",
   "metadata": {
    "id": "nl2C8CKt4DcD"
   },
   "source": [
    "### Table T1\n",
    "\n",
    "| Epoch | Train Loss | Train Acc | Test Acc |\n",
    "|-------|------------|-----------|----------|\n",
    "|1|0.0317|0.9902|0.8764|\n",
    "|2|0.0246|0.9920|0.8895|\n",
    "|3|0.0211|0.9932|0.8765|\n",
    "|4|0.0178|0.9940|0.8791|\n",
    "|5|0.0173|0.9947|0.8740|\n"
   ]
  },
  {
   "cell_type": "code",
   "execution_count": null,
   "id": "bnMKrcmd56xs",
   "metadata": {
    "id": "bnMKrcmd56xs"
   },
   "outputs": [],
   "source": []
  },
  {
   "cell_type": "markdown",
   "id": "gB0_oon5nMFq",
   "metadata": {
    "id": "gB0_oon5nMFq"
   },
   "source": [
    "# C2"
   ]
  },
  {
   "cell_type": "code",
   "execution_count": 13,
   "id": "kFQIx5zJnNfa",
   "metadata": {
    "colab": {
     "base_uri": "https://localhost:8080/",
     "height": 105
    },
    "id": "kFQIx5zJnNfa",
    "outputId": "ad0bdcfc-473a-45ab-c768-946d80f0cad4"
   },
   "outputs": [
    {
     "data": {
      "text/html": [
       "Finishing previous runs because reinit is set to 'default'."
      ],
      "text/plain": [
       "<IPython.core.display.HTML object>"
      ]
     },
     "metadata": {},
     "output_type": "display_data"
    },
    {
     "name": "stderr",
     "output_type": "stream",
     "text": [
      "\u001b[34m\u001b[1mwandb\u001b[0m: \u001b[32m\u001b[41mERROR\u001b[0m The nbformat package was not found. It is required to save notebook history.\n"
     ]
    },
    {
     "data": {
      "text/html": [],
      "text/plain": [
       "<IPython.core.display.HTML object>"
      ]
     },
     "metadata": {},
     "output_type": "display_data"
    },
    {
     "data": {
      "text/html": [
       "<br>    <style><br>        .wandb-row {<br>            display: flex;<br>            flex-direction: row;<br>            flex-wrap: wrap;<br>            justify-content: flex-start;<br>            width: 100%;<br>        }<br>        .wandb-col {<br>            display: flex;<br>            flex-direction: column;<br>            flex-basis: 100%;<br>            flex: 1;<br>            padding: 10px;<br>        }<br>    </style><br><div class=\"wandb-row\"><div class=\"wandb-col\"><h3>Run history:</h3><br/><table class=\"wandb\"><tr><td>test/acc</td><td>█▇▆▁▁</td></tr><tr><td>train/acc</td><td>▁▅▇██</td></tr></table><br/></div><div class=\"wandb-col\"><h3>Run summary:</h3><br/><table class=\"wandb\"><tr><td>test/acc</td><td>0.87176</td></tr><tr><td>train/acc</td><td>0.98756</td></tr></table><br/></div></div>"
      ],
      "text/plain": [
       "<IPython.core.display.HTML object>"
      ]
     },
     "metadata": {},
     "output_type": "display_data"
    },
    {
     "data": {
      "text/html": [
       " View run <strong style=\"color:#cdcd00\">bs32_lr1e-4</strong> at: <a href='https://wandb.ai/kaimao-columbia-university/hpml-hw2-llm/runs/aaq01c0c' target=\"_blank\">https://wandb.ai/kaimao-columbia-university/hpml-hw2-llm/runs/aaq01c0c</a><br> View project at: <a href='https://wandb.ai/kaimao-columbia-university/hpml-hw2-llm' target=\"_blank\">https://wandb.ai/kaimao-columbia-university/hpml-hw2-llm</a><br>Synced 5 W&B file(s), 0 media file(s), 0 artifact file(s) and 0 other file(s)"
      ],
      "text/plain": [
       "<IPython.core.display.HTML object>"
      ]
     },
     "metadata": {},
     "output_type": "display_data"
    },
    {
     "data": {
      "text/html": [
       "Find logs at: <code>./wandb/run-20251023_022324-aaq01c0c/logs</code>"
      ],
      "text/plain": [
       "<IPython.core.display.HTML object>"
      ]
     },
     "metadata": {},
     "output_type": "display_data"
    },
    {
     "data": {
      "text/html": [],
      "text/plain": [
       "<IPython.core.display.HTML object>"
      ]
     },
     "metadata": {},
     "output_type": "display_data"
    },
    {
     "data": {
      "text/html": [
       "Tracking run with wandb version 0.22.2"
      ],
      "text/plain": [
       "<IPython.core.display.HTML object>"
      ]
     },
     "metadata": {},
     "output_type": "display_data"
    },
    {
     "data": {
      "text/html": [
       "Run data is saved locally in <code>/workspace/wandb/run-20251023_023347-ozs8o4f6</code>"
      ],
      "text/plain": [
       "<IPython.core.display.HTML object>"
      ]
     },
     "metadata": {},
     "output_type": "display_data"
    },
    {
     "data": {
      "text/html": [
       "Syncing run <strong><a href='https://wandb.ai/kaimao-columbia-university/hpml-hw2-llm/runs/ozs8o4f6' target=\"_blank\">bs32_lr1e-4</a></strong> to <a href='https://wandb.ai/kaimao-columbia-university/hpml-hw2-llm' target=\"_blank\">Weights & Biases</a> (<a href='https://wandb.me/developer-guide' target=\"_blank\">docs</a>)<br>"
      ],
      "text/plain": [
       "<IPython.core.display.HTML object>"
      ]
     },
     "metadata": {},
     "output_type": "display_data"
    },
    {
     "data": {
      "text/html": [
       " View project at <a href='https://wandb.ai/kaimao-columbia-university/hpml-hw2-llm' target=\"_blank\">https://wandb.ai/kaimao-columbia-university/hpml-hw2-llm</a>"
      ],
      "text/plain": [
       "<IPython.core.display.HTML object>"
      ]
     },
     "metadata": {},
     "output_type": "display_data"
    },
    {
     "data": {
      "text/html": [
       " View run at <a href='https://wandb.ai/kaimao-columbia-university/hpml-hw2-llm/runs/ozs8o4f6' target=\"_blank\">https://wandb.ai/kaimao-columbia-university/hpml-hw2-llm/runs/ozs8o4f6</a>"
      ],
      "text/plain": [
       "<IPython.core.display.HTML object>"
      ]
     },
     "metadata": {},
     "output_type": "display_data"
    }
   ],
   "source": [
    "wandb.init(project=project_name, name=f\"bs32_lr1e-4\", group = \"Baseline Timing\")\n",
    "\n",
    "wandb.config.update({\n",
    "    \"model_name\": \"distilbert-base-uncased\",\n",
    "    \"max_len\": 256,\n",
    "    \"batch_size\": 32,\n",
    "    \"lr\": 1e-4,\n",
    "    \"optimizer\": \"AdamW\",\n",
    "    \"num_workers\": 2,\n",
    "    \"epochs\": 5,\n",
    "    \"compile_mode\": False\n",
    "})"
   ]
  },
  {
   "cell_type": "code",
   "execution_count": 14,
   "id": "2ztMRieKn2bQ",
   "metadata": {
    "colab": {
     "base_uri": "https://localhost:8080/"
    },
    "id": "2ztMRieKn2bQ",
    "outputId": "e6768a04-bd08-46c5-8f4d-753446f7c941"
   },
   "outputs": [
    {
     "name": "stderr",
     "output_type": "stream",
     "text": [
      "Some weights of DistilBertForSequenceClassification were not initialized from the model checkpoint at distilbert-base-uncased and are newly initialized: ['classifier.bias', 'classifier.weight', 'pre_classifier.bias', 'pre_classifier.weight']\n",
      "You should probably TRAIN this model on a down-stream task to be able to use it for predictions and inference.\n",
      "huggingface/tokenizers: The current process just got forked, after parallelism has already been used. Disabling parallelism to avoid deadlocks...\n",
      "To disable this warning, you can either:\n",
      "\t- Avoid using `tokenizers` before the fork if possible\n",
      "\t- Explicitly set the environment variable TOKENIZERS_PARALLELISM=(true | false)\n",
      "huggingface/tokenizers: The current process just got forked, after parallelism has already been used. Disabling parallelism to avoid deadlocks...\n",
      "To disable this warning, you can either:\n",
      "\t- Avoid using `tokenizers` before the fork if possible\n",
      "\t- Explicitly set the environment variable TOKENIZERS_PARALLELISM=(true | false)\n",
      "huggingface/tokenizers: The current process just got forked, after parallelism has already been used. Disabling parallelism to avoid deadlocks...\n",
      "To disable this warning, you can either:\n",
      "\t- Avoid using `tokenizers` before the fork if possible\n",
      "\t- Explicitly set the environment variable TOKENIZERS_PARALLELISM=(true | false)\n",
      "huggingface/tokenizers: The current process just got forked, after parallelism has already been used. Disabling parallelism to avoid deadlocks...\n",
      "To disable this warning, you can either:\n",
      "\t- Avoid using `tokenizers` before the fork if possible\n",
      "\t- Explicitly set the environment variable TOKENIZERS_PARALLELISM=(true | false)\n"
     ]
    },
    {
     "name": "stdout",
     "output_type": "stream",
     "text": [
      "Epoch 1/5, Loss: 0.3083, Train Accuracy: 0.8684, Test Accuracy: 0.9026, data_loading time: 1.1752495765686035           compute time: 41.5190954208374 total epoch time: 43.29253888130188\n"
     ]
    },
    {
     "name": "stderr",
     "output_type": "stream",
     "text": [
      "huggingface/tokenizers: The current process just got forked, after parallelism has already been used. Disabling parallelism to avoid deadlocks...\n",
      "To disable this warning, you can either:\n",
      "\t- Avoid using `tokenizers` before the fork if possible\n",
      "\t- Explicitly set the environment variable TOKENIZERS_PARALLELISM=(true | false)\n",
      "huggingface/tokenizers: The current process just got forked, after parallelism has already been used. Disabling parallelism to avoid deadlocks...\n",
      "To disable this warning, you can either:\n",
      "\t- Avoid using `tokenizers` before the fork if possible\n",
      "\t- Explicitly set the environment variable TOKENIZERS_PARALLELISM=(true | false)\n",
      "huggingface/tokenizers: The current process just got forked, after parallelism has already been used. Disabling parallelism to avoid deadlocks...\n",
      "To disable this warning, you can either:\n",
      "\t- Avoid using `tokenizers` before the fork if possible\n",
      "\t- Explicitly set the environment variable TOKENIZERS_PARALLELISM=(true | false)\n",
      "huggingface/tokenizers: The current process just got forked, after parallelism has already been used. Disabling parallelism to avoid deadlocks...\n",
      "To disable this warning, you can either:\n",
      "\t- Avoid using `tokenizers` before the fork if possible\n",
      "\t- Explicitly set the environment variable TOKENIZERS_PARALLELISM=(true | false)\n"
     ]
    },
    {
     "name": "stdout",
     "output_type": "stream",
     "text": [
      "Epoch 2/5, Loss: 0.1707, Train Accuracy: 0.9360, Test Accuracy: 0.8947, data_loading time: 1.1852033138275146           compute time: 41.82760190963745 total epoch time: 43.6026086807251\n"
     ]
    },
    {
     "name": "stderr",
     "output_type": "stream",
     "text": [
      "huggingface/tokenizers: The current process just got forked, after parallelism has already been used. Disabling parallelism to avoid deadlocks...\n",
      "To disable this warning, you can either:\n",
      "\t- Avoid using `tokenizers` before the fork if possible\n",
      "\t- Explicitly set the environment variable TOKENIZERS_PARALLELISM=(true | false)\n",
      "huggingface/tokenizers: The current process just got forked, after parallelism has already been used. Disabling parallelism to avoid deadlocks...\n",
      "To disable this warning, you can either:\n",
      "\t- Avoid using `tokenizers` before the fork if possible\n",
      "\t- Explicitly set the environment variable TOKENIZERS_PARALLELISM=(true | false)\n",
      "huggingface/tokenizers: The current process just got forked, after parallelism has already been used. Disabling parallelism to avoid deadlocks...\n",
      "To disable this warning, you can either:\n",
      "\t- Avoid using `tokenizers` before the fork if possible\n",
      "\t- Explicitly set the environment variable TOKENIZERS_PARALLELISM=(true | false)\n",
      "huggingface/tokenizers: The current process just got forked, after parallelism has already been used. Disabling parallelism to avoid deadlocks...\n",
      "To disable this warning, you can either:\n",
      "\t- Avoid using `tokenizers` before the fork if possible\n",
      "\t- Explicitly set the environment variable TOKENIZERS_PARALLELISM=(true | false)\n"
     ]
    },
    {
     "name": "stdout",
     "output_type": "stream",
     "text": [
      "Epoch 3/5, Loss: 0.0853, Train Accuracy: 0.9709, Test Accuracy: 0.8808, data_loading time: 1.141286849975586           compute time: 41.886305809020996 total epoch time: 43.60154056549072\n"
     ]
    },
    {
     "name": "stderr",
     "output_type": "stream",
     "text": [
      "huggingface/tokenizers: The current process just got forked, after parallelism has already been used. Disabling parallelism to avoid deadlocks...\n",
      "To disable this warning, you can either:\n",
      "\t- Avoid using `tokenizers` before the fork if possible\n",
      "\t- Explicitly set the environment variable TOKENIZERS_PARALLELISM=(true | false)\n",
      "huggingface/tokenizers: The current process just got forked, after parallelism has already been used. Disabling parallelism to avoid deadlocks...\n",
      "To disable this warning, you can either:\n",
      "\t- Avoid using `tokenizers` before the fork if possible\n",
      "\t- Explicitly set the environment variable TOKENIZERS_PARALLELISM=(true | false)\n",
      "huggingface/tokenizers: The current process just got forked, after parallelism has already been used. Disabling parallelism to avoid deadlocks...\n",
      "To disable this warning, you can either:\n",
      "\t- Avoid using `tokenizers` before the fork if possible\n",
      "\t- Explicitly set the environment variable TOKENIZERS_PARALLELISM=(true | false)\n",
      "huggingface/tokenizers: The current process just got forked, after parallelism has already been used. Disabling parallelism to avoid deadlocks...\n",
      "To disable this warning, you can either:\n",
      "\t- Avoid using `tokenizers` before the fork if possible\n",
      "\t- Explicitly set the environment variable TOKENIZERS_PARALLELISM=(true | false)\n"
     ]
    },
    {
     "name": "stdout",
     "output_type": "stream",
     "text": [
      "Epoch 4/5, Loss: 0.0536, Train Accuracy: 0.9812, Test Accuracy: 0.8782, data_loading time: 1.1710238456726074           compute time: 41.90685701370239 total epoch time: 43.64450740814209\n"
     ]
    },
    {
     "name": "stderr",
     "output_type": "stream",
     "text": [
      "huggingface/tokenizers: The current process just got forked, after parallelism has already been used. Disabling parallelism to avoid deadlocks...\n",
      "To disable this warning, you can either:\n",
      "\t- Avoid using `tokenizers` before the fork if possible\n",
      "\t- Explicitly set the environment variable TOKENIZERS_PARALLELISM=(true | false)\n",
      "huggingface/tokenizers: The current process just got forked, after parallelism has already been used. Disabling parallelism to avoid deadlocks...\n",
      "To disable this warning, you can either:\n",
      "\t- Avoid using `tokenizers` before the fork if possible\n",
      "\t- Explicitly set the environment variable TOKENIZERS_PARALLELISM=(true | false)\n",
      "huggingface/tokenizers: The current process just got forked, after parallelism has already been used. Disabling parallelism to avoid deadlocks...\n",
      "To disable this warning, you can either:\n",
      "\t- Avoid using `tokenizers` before the fork if possible\n",
      "\t- Explicitly set the environment variable TOKENIZERS_PARALLELISM=(true | false)\n",
      "huggingface/tokenizers: The current process just got forked, after parallelism has already been used. Disabling parallelism to avoid deadlocks...\n",
      "To disable this warning, you can either:\n",
      "\t- Avoid using `tokenizers` before the fork if possible\n",
      "\t- Explicitly set the environment variable TOKENIZERS_PARALLELISM=(true | false)\n"
     ]
    },
    {
     "name": "stdout",
     "output_type": "stream",
     "text": [
      "Epoch 5/5, Loss: 0.0361, Train Accuracy: 0.9872, Test Accuracy: 0.8604, data_loading time: 1.1747565269470215           compute time: 41.91785144805908 total epoch time: 43.67530798912048\n"
     ]
    }
   ],
   "source": [
    "import time\n",
    "\n",
    "config = wandb.config\n",
    "\n",
    "device = torch.device(\"cuda\" if torch.cuda.is_available() else \"cpu\")\n",
    "model_name = \"distilbert-base-uncased\"\n",
    "model = DistilBertForSequenceClassification.from_pretrained(model_name, num_labels=2)\n",
    "model.to(device)\n",
    "\n",
    "optimizer = AdamW(model.parameters(), lr=config.lr)\n",
    "\n",
    "train_loader = DataLoader(tokenized[\"train\"], batch_size=config.batch_size, shuffle=True, collate_fn=data_collator, num_workers=config.num_workers)\n",
    "test_loader = DataLoader(tokenized[\"test\"], batch_size=config.batch_size, collate_fn=data_collator, num_workers=config.num_workers)\n",
    "\n",
    "train_loss = []\n",
    "train_accuracy = []\n",
    "test_accuracy = []\n",
    "data_loading_time_arr = []\n",
    "compute_time_arr = []\n",
    "epoch_time_arr = []\n",
    "\n",
    "for epoch in range(config.epochs):\n",
    "  model.train()\n",
    "  total_loss = 0\n",
    "  total_correct = 0\n",
    "  total_samples = 0\n",
    "  data_loading_time = 0\n",
    "  training_compute_time = 0\n",
    "  total_epoch_time = 0\n",
    "  start_data_loading = time.time()\n",
    "  start_epoch_time = time.time()\n",
    "  for batch in train_loader:\n",
    "      torch.cuda.synchronize()\n",
    "      end = time.time()\n",
    "      data_loading_time +=  end - start_data_loading\n",
    "\n",
    "      optimizer.zero_grad()\n",
    "\n",
    "      inputs = {\n",
    "          \"input_ids\": batch[\"input_ids\"].to(device),\n",
    "          \"attention_mask\": batch[\"attention_mask\"].to(device),\n",
    "          \"labels\": batch[\"labels\"].to(device),\n",
    "      }\n",
    "\n",
    "      start_compute = time.time()\n",
    "      outputs = model(**inputs)\n",
    "      loss = outputs.loss\n",
    "      loss.backward()\n",
    "      optimizer.step()\n",
    "\n",
    "      torch.cuda.synchronize()\n",
    "      end = time.time()\n",
    "      training_compute_time += end - start_compute\n",
    "\n",
    "      logits = outputs.logits\n",
    "      preds = torch.argmax(logits, dim = 1)\n",
    "      labels = batch[\"labels\"].to(device)\n",
    "      correct = (preds == labels).sum().item()\n",
    "      total_correct += correct\n",
    "      total_samples += len(labels)\n",
    "      total_loss += loss.item()\n",
    "\n",
    "      start_data_loading = time.time()\n",
    "\n",
    "  end = time.time()\n",
    "  total_epoch_time = end - start_epoch_time\n",
    "\n",
    "  avg_loss = total_loss / len(train_loader)\n",
    "  avg_accuracy = total_correct / total_samples\n",
    "  train_loss.append(avg_loss)\n",
    "  train_accuracy.append(avg_accuracy)\n",
    "\n",
    "  model.eval()\n",
    "  correct = 0\n",
    "  total = 0\n",
    "\n",
    "  with torch.no_grad():\n",
    "      for batch in test_loader:\n",
    "          inputs = {\n",
    "              \"input_ids\": batch[\"input_ids\"].to(device),\n",
    "              \"attention_mask\": batch[\"attention_mask\"].to(device),\n",
    "          }\n",
    "          labels = batch[\"labels\"].to(device)\n",
    "\n",
    "          logits = model(**inputs).logits\n",
    "          preds = torch.argmax(logits, dim=1)\n",
    "\n",
    "          correct += (preds == labels).sum().item()\n",
    "          total += labels.size(0)\n",
    "\n",
    "  accuracy = correct / total\n",
    "  test_accuracy.append(accuracy)\n",
    "\n",
    "  wandb.log({\"train/loss\": train_loss,\n",
    "            \"train/acc\": avg_accuracy,\n",
    "            \"test/acc\": accuracy,\n",
    "             \"data-loading time\": data_loading_time,\n",
    "             \"compute time\": training_compute_time,\n",
    "             \"total epoch time\": total_epoch_time})\n",
    "\n",
    "  data_loading_time_arr.append(data_loading_time)\n",
    "  compute_time_arr.append(training_compute_time)\n",
    "  epoch_time_arr.append(total_epoch_time)\n",
    "  print(f\"Epoch {epoch+1}/{config.epochs}, Loss: {avg_loss:.4f}, Train Accuracy: {avg_accuracy:.4f}, Test Accuracy: {accuracy:.4f}, data_loading time: {data_loading_time} \\\n",
    "          compute time: {training_compute_time} total epoch time: {total_epoch_time}\")\n"
   ]
  },
  {
   "cell_type": "code",
   "execution_count": 15,
   "id": "tSYJy0kk3ZAQ",
   "metadata": {
    "id": "tSYJy0kk3ZAQ"
   },
   "outputs": [
    {
     "data": {
      "text/html": [],
      "text/plain": [
       "<IPython.core.display.HTML object>"
      ]
     },
     "metadata": {},
     "output_type": "display_data"
    },
    {
     "data": {
      "text/html": [
       "<br>    <style><br>        .wandb-row {<br>            display: flex;<br>            flex-direction: row;<br>            flex-wrap: wrap;<br>            justify-content: flex-start;<br>            width: 100%;<br>        }<br>        .wandb-col {<br>            display: flex;<br>            flex-direction: column;<br>            flex-basis: 100%;<br>            flex: 1;<br>            padding: 10px;<br>        }<br>    </style><br><div class=\"wandb-row\"><div class=\"wandb-col\"><h3>Run history:</h3><br/><table class=\"wandb\"><tr><td>compute time</td><td>▁▆▇██</td></tr><tr><td>data-loading time</td><td>▆█▁▆▆</td></tr><tr><td>test/acc</td><td>█▇▄▄▁</td></tr><tr><td>total epoch time</td><td>▁▇▇▇█</td></tr><tr><td>train/acc</td><td>▁▅▇██</td></tr></table><br/></div><div class=\"wandb-col\"><h3>Run summary:</h3><br/><table class=\"wandb\"><tr><td>compute time</td><td>41.91785</td></tr><tr><td>data-loading time</td><td>1.17476</td></tr><tr><td>test/acc</td><td>0.86036</td></tr><tr><td>total epoch time</td><td>43.67531</td></tr><tr><td>train/acc</td><td>0.9872</td></tr></table><br/></div></div>"
      ],
      "text/plain": [
       "<IPython.core.display.HTML object>"
      ]
     },
     "metadata": {},
     "output_type": "display_data"
    },
    {
     "data": {
      "text/html": [
       " View run <strong style=\"color:#cdcd00\">bs32_lr1e-4</strong> at: <a href='https://wandb.ai/kaimao-columbia-university/hpml-hw2-llm/runs/ozs8o4f6' target=\"_blank\">https://wandb.ai/kaimao-columbia-university/hpml-hw2-llm/runs/ozs8o4f6</a><br> View project at: <a href='https://wandb.ai/kaimao-columbia-university/hpml-hw2-llm' target=\"_blank\">https://wandb.ai/kaimao-columbia-university/hpml-hw2-llm</a><br>Synced 5 W&B file(s), 0 media file(s), 0 artifact file(s) and 0 other file(s)"
      ],
      "text/plain": [
       "<IPython.core.display.HTML object>"
      ]
     },
     "metadata": {},
     "output_type": "display_data"
    },
    {
     "data": {
      "text/html": [
       "Find logs at: <code>./wandb/run-20251023_023347-ozs8o4f6/logs</code>"
      ],
      "text/plain": [
       "<IPython.core.display.HTML object>"
      ]
     },
     "metadata": {},
     "output_type": "display_data"
    }
   ],
   "source": [
    "wandb.finish()"
   ]
  },
  {
   "cell_type": "code",
   "execution_count": 23,
   "id": "jLNbkkTs3Zj-",
   "metadata": {
    "id": "jLNbkkTs3Zj-"
   },
   "outputs": [
    {
     "data": {
      "image/png": "[encoded data removed]",
      "text/plain": [
       "<Figure size 800x500 with 1 Axes>"
      ]
     },
     "metadata": {},
     "output_type": "display_data"
    }
   ],
   "source": [
    "plt.figure(figsize=(8, 5))\n",
    "\n",
    "epochs = [1, 2, 3, 4, 5]\n",
    "# Stack bars\n",
    "plt.bar(epochs, np.array(compute_time_arr)/np.array(epoch_time_arr), label='Compute', color='blue')\n",
    "plt.bar(epochs, np.array(data_loading_time_arr)/np.array(epoch_time_arr), bottom=np.array(compute_time_arr)/np.array(epoch_time_arr), label='Data Loading', color='skyblue')\n",
    "\n",
    "# 🧾 Annotate total time on top of each bar\n",
    "# for i in range(len(epochs)):\n",
    "#     plt.text(epochs[i], epoch_time_arr[i] + 0.3, f\"{epoch_time_arr[i]:.1f}s\",\n",
    "#              ha='center', va='bottom', fontsize=9, fontweight='bold')\n",
    "\n",
    "plt.xlabel('Epoch')\n",
    "plt.ylabel('Contribution to Total Time (%)')\n",
    "plt.title('Data vs Compute Contribution per Epoch')\n",
    "plt.legend()\n",
    "plt.tight_layout()\n",
    "plt.show()"
   ]
  },
  {
   "cell_type": "code",
   "execution_count": 24,
   "id": "de5ea8d2-8720-41de-97ab-07990accc3af",
   "metadata": {},
   "outputs": [
    {
     "name": "stdout",
     "output_type": "stream",
     "text": [
      "[1.1752495765686035, 1.1852033138275146, 1.141286849975586, 1.1710238456726074, 1.1747565269470215] [41.5190954208374, 41.82760190963745, 41.886305809020996, 41.90685701370239, 41.91785144805908] [43.29253888130188, 43.6026086807251, 43.60154056549072, 43.64450740814209, 43.67530798912048]\n"
     ]
    }
   ],
   "source": [
    "print(data_loading_time_arr, compute_time_arr, epoch_time_arr)"
   ]
  },
  {
   "cell_type": "markdown",
   "id": "heVz9h_S0O_j",
   "metadata": {
    "id": "heVz9h_S0O_j"
   },
   "source": [
    "# C3"
   ]
  },
  {
   "cell_type": "code",
   "execution_count": 25,
   "id": "ylOAPqx30Qkb",
   "metadata": {
    "colab": {
     "base_uri": "https://localhost:8080/",
     "height": 1000
    },
    "id": "ylOAPqx30Qkb",
    "outputId": "7dd7a589-26bf-4f46-f1ec-030b7104228f"
   },
   "outputs": [],
   "source": [
    "avg_epoch_time_arr = []\n",
    "avg_data_time_arr = []\n",
    "\n",
    "def train():\n",
    "  with wandb.init(\n",
    "      group=\"DataLoader Performance\",\n",
    "      config={\n",
    "        \"model_name\": \"distilbert-base-uncased\",\n",
    "        \"max_len\": 256, \n",
    "        \"optimizer\": \"AdamW\", \n",
    "        \"batch_size\": 32,\n",
    "        \"learning_rate\": 1e-4,\n",
    "        \"epochs\": 5, \n",
    "        \"compile_mode\": False\n",
    "    }) as run:\n",
    "      config = wandb.config\n",
    "      run.name = f\"lr{wandb.config.learning_rate}_bs{wandb.config.batch_size}_num_workers{config.num_workers}\"\n",
    "      \n",
    "      train_loader = DataLoader(tokenized[\"train\"], batch_size=config.batch_size, shuffle=True, collate_fn=data_collator, num_workers=config.num_workers)\n",
    "      test_loader = DataLoader(tokenized[\"test\"], batch_size=config.batch_size, collate_fn=data_collator, num_workers=config.num_workers)\n",
    "      model_name = \"distilbert-base-uncased\"\n",
    "      model = DistilBertForSequenceClassification.from_pretrained(model_name, num_labels=2)\n",
    "      model.to(device)\n",
    "    \n",
    "      optimizer = getattr(optim, config.optimizer)(model.parameters(), lr=config.learning_rate)\n",
    "      print(f\"---------start train: batch_size({config.batch_size}) lr({config.learning_rate}) num_workers({config.num_workers}) optimizer({config.optimizer})-----\")\n",
    "      train_loss = []\n",
    "      train_accuracy = []\n",
    "      test_accuracy = []\n",
    "      data_loading_time_arr = []\n",
    "      compute_time_arr = []\n",
    "      epoch_time_arr = []\n",
    "    \n",
    "      for epoch in range(config.epochs):\n",
    "        model.train()\n",
    "        total_loss = 0\n",
    "        total_correct = 0\n",
    "        total_samples = 0\n",
    "        data_loading_time = 0\n",
    "        training_compute_time = 0\n",
    "        total_epoch_time = 0\n",
    "        start_data_loading = time.time()\n",
    "        start_epoch_time = time.time()\n",
    "        for batch in train_loader:\n",
    "            inputs = {\n",
    "                \"input_ids\": batch[\"input_ids\"].to(device),\n",
    "                \"attention_mask\": batch[\"attention_mask\"].to(device),\n",
    "                \"labels\": batch[\"labels\"].to(device),\n",
    "            }\n",
    "            torch.cuda.synchronize()\n",
    "            end = time.time()\n",
    "            data_loading_time +=  end - start_data_loading\n",
    "\n",
    "            start_compute = time.time()\n",
    "            optimizer.zero_grad()\n",
    "            outputs = model(**inputs)\n",
    "            loss = outputs.loss\n",
    "            loss.backward()\n",
    "            optimizer.step()\n",
    "    \n",
    "            torch.cuda.synchronize()\n",
    "            end = time.time()\n",
    "            training_compute_time += end - start_compute\n",
    "    \n",
    "            logits = outputs.logits\n",
    "            preds = torch.argmax(logits, dim = 1)\n",
    "            labels = batch[\"labels\"].to(device)\n",
    "            correct = (preds == labels).sum().item()\n",
    "            total_correct += correct\n",
    "            total_samples += len(labels)\n",
    "            total_loss += loss.item()\n",
    "    \n",
    "            start_data_loading = time.time()\n",
    "    \n",
    "        end = time.time()\n",
    "        total_epoch_time = end - start_epoch_time\n",
    "    \n",
    "        avg_loss = total_loss / len(train_loader)\n",
    "        avg_accuracy = total_correct / total_samples\n",
    "        train_loss.append(avg_loss)\n",
    "        train_accuracy.append(avg_accuracy)\n",
    "    \n",
    "        model.eval()\n",
    "        correct = 0\n",
    "        total = 0\n",
    "    \n",
    "        with torch.no_grad():\n",
    "            for batch in test_loader:\n",
    "                inputs = {\n",
    "                    \"input_ids\": batch[\"input_ids\"].to(device),\n",
    "                    \"attention_mask\": batch[\"attention_mask\"].to(device),\n",
    "                }\n",
    "                labels = batch[\"labels\"].to(device)\n",
    "    \n",
    "                logits = model(**inputs).logits\n",
    "                preds = torch.argmax(logits, dim=1)\n",
    "    \n",
    "                correct += (preds == labels).sum().item()\n",
    "                total += labels.size(0)\n",
    "    \n",
    "        accuracy = correct / total\n",
    "        test_accuracy.append(accuracy)\n",
    "    \n",
    "        wandb.log({\"train/loss\": train_loss,\n",
    "                  \"train/acc\": avg_accuracy,\n",
    "                  \"test/acc\": accuracy,\n",
    "                  \"data-loading time\": data_loading_time,\n",
    "                  \"compute time\": training_compute_time,\n",
    "                  \"total epoch time\": total_epoch_time})\n",
    "    \n",
    "        data_loading_time_arr.append(data_loading_time)\n",
    "        compute_time_arr.append(training_compute_time)\n",
    "        epoch_time_arr.append(total_epoch_time)\n",
    "        print(f\"Epoch {epoch+1}/{config.epochs}, Loss: {avg_loss:.4f}, Train Accuracy: {avg_accuracy:.4f}, Test Accuracy: {accuracy:.4f}, data_loading time: {data_loading_time} \\\n",
    "                compute time: {training_compute_time} total epoch time: {total_epoch_time}\")\n",
    "        print(f\"-------------------------------------------------------------------------------\")\n",
    "          \n",
    "      avg_epoch_time_arr.append(sum(epoch_time_arr)/len(epoch_time_arr))\n",
    "      avg_data_time_arr.append(sum(data_loading_time_arr)/len(data_loading_time_arr))\n",
    "      "
   ]
  },
  {
   "cell_type": "code",
   "execution_count": 26,
   "id": "1a152793-ac1f-410f-ab52-536c014e43d5",
   "metadata": {},
   "outputs": [
    {
     "name": "stdout",
     "output_type": "stream",
     "text": [
      "Create sweep with ID: 3p7k5crm\n",
      "Sweep URL: https://wandb.ai/kaimao-columbia-university/hpml-hw2-llm2/sweeps/3p7k5crm\n"
     ]
    },
    {
     "name": "stderr",
     "output_type": "stream",
     "text": [
      "\u001b[34m\u001b[1mwandb\u001b[0m: Agent Starting Run: gicy0i6y with config:\n",
      "\u001b[34m\u001b[1mwandb\u001b[0m: \tnum_workers: 0\n",
      "\u001b[34m\u001b[1mwandb\u001b[0m: \u001b[32m\u001b[41mERROR\u001b[0m Failed to detect the name of this notebook. You can set it manually with the WANDB_NOTEBOOK_NAME environment variable to enable code saving.\n"
     ]
    },
    {
     "data": {
      "text/html": [],
      "text/plain": [
       "<IPython.core.display.HTML object>"
      ]
     },
     "metadata": {},
     "output_type": "display_data"
    },
    {
     "data": {
      "text/html": [
       "Tracking run with wandb version 0.22.2"
      ],
      "text/plain": [
       "<IPython.core.display.HTML object>"
      ]
     },
     "metadata": {},
     "output_type": "display_data"
    },
    {
     "data": {
      "text/html": [
       "Run data is saved locally in <code>/workspace/wandb/run-20251023_025004-gicy0i6y</code>"
      ],
      "text/plain": [
       "<IPython.core.display.HTML object>"
      ]
     },
     "metadata": {},
     "output_type": "display_data"
    },
    {
     "data": {
      "text/html": [
       "Syncing run <strong><a href='https://wandb.ai/kaimao-columbia-university/hpml-hw2-llm2/runs/gicy0i6y' target=\"_blank\">giddy-sweep-1</a></strong> to <a href='https://wandb.ai/kaimao-columbia-university/hpml-hw2-llm2' target=\"_blank\">Weights & Biases</a> (<a href='https://wandb.me/developer-guide' target=\"_blank\">docs</a>)<br>Sweep page: <a href='https://wandb.ai/kaimao-columbia-university/hpml-hw2-llm2/sweeps/3p7k5crm' target=\"_blank\">https://wandb.ai/kaimao-columbia-university/hpml-hw2-llm2/sweeps/3p7k5crm</a>"
      ],
      "text/plain": [
       "<IPython.core.display.HTML object>"
      ]
     },
     "metadata": {},
     "output_type": "display_data"
    },
    {
     "data": {
      "text/html": [
       " View project at <a href='https://wandb.ai/kaimao-columbia-university/hpml-hw2-llm2' target=\"_blank\">https://wandb.ai/kaimao-columbia-university/hpml-hw2-llm2</a>"
      ],
      "text/plain": [
       "<IPython.core.display.HTML object>"
      ]
     },
     "metadata": {},
     "output_type": "display_data"
    },
    {
     "data": {
      "text/html": [
       " View sweep at <a href='https://wandb.ai/kaimao-columbia-university/hpml-hw2-llm2/sweeps/3p7k5crm' target=\"_blank\">https://wandb.ai/kaimao-columbia-university/hpml-hw2-llm2/sweeps/3p7k5crm</a>"
      ],
      "text/plain": [
       "<IPython.core.display.HTML object>"
      ]
     },
     "metadata": {},
     "output_type": "display_data"
    },
    {
     "data": {
      "text/html": [
       " View run at <a href='https://wandb.ai/kaimao-columbia-university/hpml-hw2-llm2/runs/gicy0i6y' target=\"_blank\">https://wandb.ai/kaimao-columbia-university/hpml-hw2-llm2/runs/gicy0i6y</a>"
      ],
      "text/plain": [
       "<IPython.core.display.HTML object>"
      ]
     },
     "metadata": {},
     "output_type": "display_data"
    },
    {
     "name": "stderr",
     "output_type": "stream",
     "text": [
      "Some weights of DistilBertForSequenceClassification were not initialized from the model checkpoint at distilbert-base-uncased and are newly initialized: ['classifier.bias', 'classifier.weight', 'pre_classifier.bias', 'pre_classifier.weight']\n",
      "You should probably TRAIN this model on a down-stream task to be able to use it for predictions and inference.\n"
     ]
    },
    {
     "name": "stdout",
     "output_type": "stream",
     "text": [
      "---------start train: batch_size(32) lr(0.0001) num_workers(0) optimizer(AdamW)-----\n",
      "Epoch 1/5, Loss: 0.3074, Train Accuracy: 0.8692, Test Accuracy: 0.8851, data_loading time: 3.2625324726104736                 compute time: 41.586782455444336 total epoch time: 45.099496364593506\n",
      "-------------------------------------------------------------------------------\n",
      "Epoch 2/5, Loss: 0.1697, Train Accuracy: 0.9364, Test Accuracy: 0.8996, data_loading time: 3.2400829792022705                 compute time: 41.91038393974304 total epoch time: 45.39018106460571\n",
      "-------------------------------------------------------------------------------\n",
      "Epoch 3/5, Loss: 0.0900, Train Accuracy: 0.9681, Test Accuracy: 0.8803, data_loading time: 3.2441353797912598                 compute time: 41.98482608795166 total epoch time: 45.45478272438049\n",
      "-------------------------------------------------------------------------------\n",
      "Epoch 4/5, Loss: 0.0553, Train Accuracy: 0.9821, Test Accuracy: 0.8635, data_loading time: 3.225752830505371                 compute time: 41.98759627342224 total epoch time: 45.435014963150024\n",
      "-------------------------------------------------------------------------------\n"
     ]
    },
    {
     "name": "stderr",
     "output_type": "stream",
     "text": [
      "\u001b[34m\u001b[1mwandb\u001b[0m: \u001b[32m\u001b[41mERROR\u001b[0m The nbformat package was not found. It is required to save notebook history.\n"
     ]
    },
    {
     "name": "stdout",
     "output_type": "stream",
     "text": [
      "Epoch 5/5, Loss: 0.0458, Train Accuracy: 0.9848, Test Accuracy: 0.8676, data_loading time: 3.2329676151275635                 compute time: 41.983314514160156 total epoch time: 45.4404833316803\n",
      "-------------------------------------------------------------------------------\n"
     ]
    },
    {
     "data": {
      "text/html": [],
      "text/plain": [
       "<IPython.core.display.HTML object>"
      ]
     },
     "metadata": {},
     "output_type": "display_data"
    },
    {
     "data": {
      "text/html": [
       "<br>    <style><br>        .wandb-row {<br>            display: flex;<br>            flex-direction: row;<br>            flex-wrap: wrap;<br>            justify-content: flex-start;<br>            width: 100%;<br>        }<br>        .wandb-col {<br>            display: flex;<br>            flex-direction: column;<br>            flex-basis: 100%;<br>            flex: 1;<br>            padding: 10px;<br>        }<br>    </style><br><div class=\"wandb-row\"><div class=\"wandb-col\"><h3>Run history:</h3><br/><table class=\"wandb\"><tr><td>compute time</td><td>▁▇███</td></tr><tr><td>data-loading time</td><td>█▄▄▁▂</td></tr><tr><td>test/acc</td><td>▅█▄▁▂</td></tr><tr><td>total epoch time</td><td>▁▇███</td></tr><tr><td>train/acc</td><td>▁▅▇██</td></tr></table><br/></div><div class=\"wandb-col\"><h3>Run summary:</h3><br/><table class=\"wandb\"><tr><td>compute time</td><td>41.98331</td></tr><tr><td>data-loading time</td><td>3.23297</td></tr><tr><td>test/acc</td><td>0.86756</td></tr><tr><td>total epoch time</td><td>45.44048</td></tr><tr><td>train/acc</td><td>0.98484</td></tr></table><br/></div></div>"
      ],
      "text/plain": [
       "<IPython.core.display.HTML object>"
      ]
     },
     "metadata": {},
     "output_type": "display_data"
    },
    {
     "data": {
      "text/html": [
       " View run <strong style=\"color:#cdcd00\">lr0.0001_bs32</strong> at: <a href='https://wandb.ai/kaimao-columbia-university/hpml-hw2-llm2/runs/gicy0i6y' target=\"_blank\">https://wandb.ai/kaimao-columbia-university/hpml-hw2-llm2/runs/gicy0i6y</a><br> View project at: <a href='https://wandb.ai/kaimao-columbia-university/hpml-hw2-llm2' target=\"_blank\">https://wandb.ai/kaimao-columbia-university/hpml-hw2-llm2</a><br>Synced 5 W&B file(s), 0 media file(s), 0 artifact file(s) and 0 other file(s)"
      ],
      "text/plain": [
       "<IPython.core.display.HTML object>"
      ]
     },
     "metadata": {},
     "output_type": "display_data"
    },
    {
     "data": {
      "text/html": [
       "Find logs at: <code>./wandb/run-20251023_025004-gicy0i6y/logs</code>"
      ],
      "text/plain": [
       "<IPython.core.display.HTML object>"
      ]
     },
     "metadata": {},
     "output_type": "display_data"
    },
    {
     "name": "stderr",
     "output_type": "stream",
     "text": [
      "\u001b[34m\u001b[1mwandb\u001b[0m: Agent Starting Run: xp3xsqh3 with config:\n",
      "\u001b[34m\u001b[1mwandb\u001b[0m: \tnum_workers: 2\n",
      "\u001b[34m\u001b[1mwandb\u001b[0m: \u001b[32m\u001b[41mERROR\u001b[0m Failed to detect the name of this notebook. You can set it manually with the WANDB_NOTEBOOK_NAME environment variable to enable code saving.\n"
     ]
    },
    {
     "data": {
      "text/html": [],
      "text/plain": [
       "<IPython.core.display.HTML object>"
      ]
     },
     "metadata": {},
     "output_type": "display_data"
    },
    {
     "data": {
      "text/html": [
       "Tracking run with wandb version 0.22.2"
      ],
      "text/plain": [
       "<IPython.core.display.HTML object>"
      ]
     },
     "metadata": {},
     "output_type": "display_data"
    },
    {
     "data": {
      "text/html": [
       "Run data is saved locally in <code>/workspace/wandb/run-20251023_025534-xp3xsqh3</code>"
      ],
      "text/plain": [
       "<IPython.core.display.HTML object>"
      ]
     },
     "metadata": {},
     "output_type": "display_data"
    },
    {
     "data": {
      "text/html": [
       "Syncing run <strong><a href='https://wandb.ai/kaimao-columbia-university/hpml-hw2-llm2/runs/xp3xsqh3' target=\"_blank\">clean-sweep-2</a></strong> to <a href='https://wandb.ai/kaimao-columbia-university/hpml-hw2-llm2' target=\"_blank\">Weights & Biases</a> (<a href='https://wandb.me/developer-guide' target=\"_blank\">docs</a>)<br>Sweep page: <a href='https://wandb.ai/kaimao-columbia-university/hpml-hw2-llm2/sweeps/3p7k5crm' target=\"_blank\">https://wandb.ai/kaimao-columbia-university/hpml-hw2-llm2/sweeps/3p7k5crm</a>"
      ],
      "text/plain": [
       "<IPython.core.display.HTML object>"
      ]
     },
     "metadata": {},
     "output_type": "display_data"
    },
    {
     "data": {
      "text/html": [
       " View project at <a href='https://wandb.ai/kaimao-columbia-university/hpml-hw2-llm2' target=\"_blank\">https://wandb.ai/kaimao-columbia-university/hpml-hw2-llm2</a>"
      ],
      "text/plain": [
       "<IPython.core.display.HTML object>"
      ]
     },
     "metadata": {},
     "output_type": "display_data"
    },
    {
     "data": {
      "text/html": [
       " View sweep at <a href='https://wandb.ai/kaimao-columbia-university/hpml-hw2-llm2/sweeps/3p7k5crm' target=\"_blank\">https://wandb.ai/kaimao-columbia-university/hpml-hw2-llm2/sweeps/3p7k5crm</a>"
      ],
      "text/plain": [
       "<IPython.core.display.HTML object>"
      ]
     },
     "metadata": {},
     "output_type": "display_data"
    },
    {
     "data": {
      "text/html": [
       " View run at <a href='https://wandb.ai/kaimao-columbia-university/hpml-hw2-llm2/runs/xp3xsqh3' target=\"_blank\">https://wandb.ai/kaimao-columbia-university/hpml-hw2-llm2/runs/xp3xsqh3</a>"
      ],
      "text/plain": [
       "<IPython.core.display.HTML object>"
      ]
     },
     "metadata": {},
     "output_type": "display_data"
    },
    {
     "name": "stderr",
     "output_type": "stream",
     "text": [
      "Some weights of DistilBertForSequenceClassification were not initialized from the model checkpoint at distilbert-base-uncased and are newly initialized: ['classifier.bias', 'classifier.weight', 'pre_classifier.bias', 'pre_classifier.weight']\n",
      "You should probably TRAIN this model on a down-stream task to be able to use it for predictions and inference.\n"
     ]
    },
    {
     "name": "stdout",
     "output_type": "stream",
     "text": [
      "---------start train: batch_size(32) lr(0.0001) num_workers(2) optimizer(AdamW)-----\n"
     ]
    },
    {
     "name": "stderr",
     "output_type": "stream",
     "text": [
      "huggingface/tokenizers: The current process just got forked, after parallelism has already been used. Disabling parallelism to avoid deadlocks...\n",
      "To disable this warning, you can either:\n",
      "\t- Avoid using `tokenizers` before the fork if possible\n",
      "\t- Explicitly set the environment variable TOKENIZERS_PARALLELISM=(true | false)\n",
      "huggingface/tokenizers: The current process just got forked, after parallelism has already been used. Disabling parallelism to avoid deadlocks...\n",
      "To disable this warning, you can either:\n",
      "\t- Avoid using `tokenizers` before the fork if possible\n",
      "\t- Explicitly set the environment variable TOKENIZERS_PARALLELISM=(true | false)\n",
      "huggingface/tokenizers: The current process just got forked, after parallelism has already been used. Disabling parallelism to avoid deadlocks...\n",
      "To disable this warning, you can either:\n",
      "\t- Avoid using `tokenizers` before the fork if possible\n",
      "\t- Explicitly set the environment variable TOKENIZERS_PARALLELISM=(true | false)\n",
      "huggingface/tokenizers: The current process just got forked, after parallelism has already been used. Disabling parallelism to avoid deadlocks...\n",
      "To disable this warning, you can either:\n",
      "\t- Avoid using `tokenizers` before the fork if possible\n",
      "\t- Explicitly set the environment variable TOKENIZERS_PARALLELISM=(true | false)\n"
     ]
    },
    {
     "name": "stdout",
     "output_type": "stream",
     "text": [
      "Epoch 1/5, Loss: 0.3045, Train Accuracy: 0.8700, Test Accuracy: 0.8980, data_loading time: 1.43206787109375                 compute time: 42.13941979408264 total epoch time: 43.948729515075684\n",
      "-------------------------------------------------------------------------------\n"
     ]
    },
    {
     "name": "stderr",
     "output_type": "stream",
     "text": [
      "huggingface/tokenizers: The current process just got forked, after parallelism has already been used. Disabling parallelism to avoid deadlocks...\n",
      "To disable this warning, you can either:\n",
      "\t- Avoid using `tokenizers` before the fork if possible\n",
      "\t- Explicitly set the environment variable TOKENIZERS_PARALLELISM=(true | false)\n",
      "huggingface/tokenizers: The current process just got forked, after parallelism has already been used. Disabling parallelism to avoid deadlocks...\n",
      "To disable this warning, you can either:\n",
      "\t- Avoid using `tokenizers` before the fork if possible\n",
      "\t- Explicitly set the environment variable TOKENIZERS_PARALLELISM=(true | false)\n",
      "huggingface/tokenizers: The current process just got forked, after parallelism has already been used. Disabling parallelism to avoid deadlocks...\n",
      "To disable this warning, you can either:\n",
      "\t- Avoid using `tokenizers` before the fork if possible\n",
      "\t- Explicitly set the environment variable TOKENIZERS_PARALLELISM=(true | false)\n",
      "huggingface/tokenizers: The current process just got forked, after parallelism has already been used. Disabling parallelism to avoid deadlocks...\n",
      "To disable this warning, you can either:\n",
      "\t- Avoid using `tokenizers` before the fork if possible\n",
      "\t- Explicitly set the environment variable TOKENIZERS_PARALLELISM=(true | false)\n"
     ]
    },
    {
     "name": "stdout",
     "output_type": "stream",
     "text": [
      "Epoch 2/5, Loss: 0.1615, Train Accuracy: 0.9410, Test Accuracy: 0.8802, data_loading time: 1.2880611419677734                 compute time: 42.132593870162964 total epoch time: 43.774178981781006\n",
      "-------------------------------------------------------------------------------\n"
     ]
    },
    {
     "name": "stderr",
     "output_type": "stream",
     "text": [
      "huggingface/tokenizers: The current process just got forked, after parallelism has already been used. Disabling parallelism to avoid deadlocks...\n",
      "To disable this warning, you can either:\n",
      "\t- Avoid using `tokenizers` before the fork if possible\n",
      "\t- Explicitly set the environment variable TOKENIZERS_PARALLELISM=(true | false)\n",
      "huggingface/tokenizers: The current process just got forked, after parallelism has already been used. Disabling parallelism to avoid deadlocks...\n",
      "To disable this warning, you can either:\n",
      "\t- Avoid using `tokenizers` before the fork if possible\n",
      "\t- Explicitly set the environment variable TOKENIZERS_PARALLELISM=(true | false)\n",
      "huggingface/tokenizers: The current process just got forked, after parallelism has already been used. Disabling parallelism to avoid deadlocks...\n",
      "To disable this warning, you can either:\n",
      "\t- Avoid using `tokenizers` before the fork if possible\n",
      "\t- Explicitly set the environment variable TOKENIZERS_PARALLELISM=(true | false)\n",
      "huggingface/tokenizers: The current process just got forked, after parallelism has already been used. Disabling parallelism to avoid deadlocks...\n",
      "To disable this warning, you can either:\n",
      "\t- Avoid using `tokenizers` before the fork if possible\n",
      "\t- Explicitly set the environment variable TOKENIZERS_PARALLELISM=(true | false)\n"
     ]
    },
    {
     "name": "stdout",
     "output_type": "stream",
     "text": [
      "Epoch 3/5, Loss: 0.0839, Train Accuracy: 0.9710, Test Accuracy: 0.8930, data_loading time: 1.3085389137268066                 compute time: 42.14713144302368 total epoch time: 43.813663482666016\n",
      "-------------------------------------------------------------------------------\n"
     ]
    },
    {
     "name": "stderr",
     "output_type": "stream",
     "text": [
      "huggingface/tokenizers: The current process just got forked, after parallelism has already been used. Disabling parallelism to avoid deadlocks...\n",
      "To disable this warning, you can either:\n",
      "\t- Avoid using `tokenizers` before the fork if possible\n",
      "\t- Explicitly set the environment variable TOKENIZERS_PARALLELISM=(true | false)\n",
      "huggingface/tokenizers: The current process just got forked, after parallelism has already been used. Disabling parallelism to avoid deadlocks...\n",
      "To disable this warning, you can either:\n",
      "\t- Avoid using `tokenizers` before the fork if possible\n",
      "\t- Explicitly set the environment variable TOKENIZERS_PARALLELISM=(true | false)\n",
      "huggingface/tokenizers: The current process just got forked, after parallelism has already been used. Disabling parallelism to avoid deadlocks...\n",
      "To disable this warning, you can either:\n",
      "\t- Avoid using `tokenizers` before the fork if possible\n",
      "\t- Explicitly set the environment variable TOKENIZERS_PARALLELISM=(true | false)\n",
      "huggingface/tokenizers: The current process just got forked, after parallelism has already been used. Disabling parallelism to avoid deadlocks...\n",
      "To disable this warning, you can either:\n",
      "\t- Avoid using `tokenizers` before the fork if possible\n",
      "\t- Explicitly set the environment variable TOKENIZERS_PARALLELISM=(true | false)\n"
     ]
    },
    {
     "name": "stdout",
     "output_type": "stream",
     "text": [
      "Epoch 4/5, Loss: 0.0534, Train Accuracy: 0.9821, Test Accuracy: 0.8836, data_loading time: 1.2157397270202637                 compute time: 42.06484770774841 total epoch time: 43.611894369125366\n",
      "-------------------------------------------------------------------------------\n"
     ]
    },
    {
     "name": "stderr",
     "output_type": "stream",
     "text": [
      "huggingface/tokenizers: The current process just got forked, after parallelism has already been used. Disabling parallelism to avoid deadlocks...\n",
      "To disable this warning, you can either:\n",
      "\t- Avoid using `tokenizers` before the fork if possible\n",
      "\t- Explicitly set the environment variable TOKENIZERS_PARALLELISM=(true | false)\n",
      "huggingface/tokenizers: The current process just got forked, after parallelism has already been used. Disabling parallelism to avoid deadlocks...\n",
      "To disable this warning, you can either:\n",
      "\t- Avoid using `tokenizers` before the fork if possible\n",
      "\t- Explicitly set the environment variable TOKENIZERS_PARALLELISM=(true | false)\n",
      "huggingface/tokenizers: The current process just got forked, after parallelism has already been used. Disabling parallelism to avoid deadlocks...\n",
      "To disable this warning, you can either:\n",
      "\t- Avoid using `tokenizers` before the fork if possible\n",
      "\t- Explicitly set the environment variable TOKENIZERS_PARALLELISM=(true | false)\n",
      "huggingface/tokenizers: The current process just got forked, after parallelism has already been used. Disabling parallelism to avoid deadlocks...\n",
      "To disable this warning, you can either:\n",
      "\t- Avoid using `tokenizers` before the fork if possible\n",
      "\t- Explicitly set the environment variable TOKENIZERS_PARALLELISM=(true | false)\n",
      "\u001b[34m\u001b[1mwandb\u001b[0m: \u001b[32m\u001b[41mERROR\u001b[0m The nbformat package was not found. It is required to save notebook history.\n"
     ]
    },
    {
     "name": "stdout",
     "output_type": "stream",
     "text": [
      "Epoch 5/5, Loss: 0.0481, Train Accuracy: 0.9845, Test Accuracy: 0.8762, data_loading time: 1.2825431823730469                 compute time: 42.0499529838562 total epoch time: 43.64691138267517\n",
      "-------------------------------------------------------------------------------\n"
     ]
    },
    {
     "data": {
      "text/html": [],
      "text/plain": [
       "<IPython.core.display.HTML object>"
      ]
     },
     "metadata": {},
     "output_type": "display_data"
    },
    {
     "data": {
      "text/html": [
       "<br>    <style><br>        .wandb-row {<br>            display: flex;<br>            flex-direction: row;<br>            flex-wrap: wrap;<br>            justify-content: flex-start;<br>            width: 100%;<br>        }<br>        .wandb-col {<br>            display: flex;<br>            flex-direction: column;<br>            flex-basis: 100%;<br>            flex: 1;<br>            padding: 10px;<br>        }<br>    </style><br><div class=\"wandb-row\"><div class=\"wandb-col\"><h3>Run history:</h3><br/><table class=\"wandb\"><tr><td>compute time</td><td>▇▇█▂▁</td></tr><tr><td>data-loading time</td><td>█▃▄▁▃</td></tr><tr><td>test/acc</td><td>█▂▆▃▁</td></tr><tr><td>total epoch time</td><td>█▄▅▁▂</td></tr><tr><td>train/acc</td><td>▁▅▇██</td></tr></table><br/></div><div class=\"wandb-col\"><h3>Run summary:</h3><br/><table class=\"wandb\"><tr><td>compute time</td><td>42.04995</td></tr><tr><td>data-loading time</td><td>1.28254</td></tr><tr><td>test/acc</td><td>0.87616</td></tr><tr><td>total epoch time</td><td>43.64691</td></tr><tr><td>train/acc</td><td>0.98452</td></tr></table><br/></div></div>"
      ],
      "text/plain": [
       "<IPython.core.display.HTML object>"
      ]
     },
     "metadata": {},
     "output_type": "display_data"
    },
    {
     "data": {
      "text/html": [
       " View run <strong style=\"color:#cdcd00\">lr0.0001_bs32</strong> at: <a href='https://wandb.ai/kaimao-columbia-university/hpml-hw2-llm2/runs/xp3xsqh3' target=\"_blank\">https://wandb.ai/kaimao-columbia-university/hpml-hw2-llm2/runs/xp3xsqh3</a><br> View project at: <a href='https://wandb.ai/kaimao-columbia-university/hpml-hw2-llm2' target=\"_blank\">https://wandb.ai/kaimao-columbia-university/hpml-hw2-llm2</a><br>Synced 5 W&B file(s), 0 media file(s), 0 artifact file(s) and 0 other file(s)"
      ],
      "text/plain": [
       "<IPython.core.display.HTML object>"
      ]
     },
     "metadata": {},
     "output_type": "display_data"
    },
    {
     "data": {
      "text/html": [
       "Find logs at: <code>./wandb/run-20251023_025534-xp3xsqh3/logs</code>"
      ],
      "text/plain": [
       "<IPython.core.display.HTML object>"
      ]
     },
     "metadata": {},
     "output_type": "display_data"
    },
    {
     "name": "stderr",
     "output_type": "stream",
     "text": [
      "\u001b[34m\u001b[1mwandb\u001b[0m: Agent Starting Run: fv72fcpn with config:\n",
      "\u001b[34m\u001b[1mwandb\u001b[0m: \tnum_workers: 4\n",
      "\u001b[34m\u001b[1mwandb\u001b[0m: \u001b[32m\u001b[41mERROR\u001b[0m Failed to detect the name of this notebook. You can set it manually with the WANDB_NOTEBOOK_NAME environment variable to enable code saving.\n"
     ]
    },
    {
     "data": {
      "text/html": [],
      "text/plain": [
       "<IPython.core.display.HTML object>"
      ]
     },
     "metadata": {},
     "output_type": "display_data"
    },
    {
     "data": {
      "text/html": [
       "Tracking run with wandb version 0.22.2"
      ],
      "text/plain": [
       "<IPython.core.display.HTML object>"
      ]
     },
     "metadata": {},
     "output_type": "display_data"
    },
    {
     "data": {
      "text/html": [
       "Run data is saved locally in <code>/workspace/wandb/run-20251023_030048-fv72fcpn</code>"
      ],
      "text/plain": [
       "<IPython.core.display.HTML object>"
      ]
     },
     "metadata": {},
     "output_type": "display_data"
    },
    {
     "data": {
      "text/html": [
       "Syncing run <strong><a href='https://wandb.ai/kaimao-columbia-university/hpml-hw2-llm2/runs/fv72fcpn' target=\"_blank\">curious-sweep-3</a></strong> to <a href='https://wandb.ai/kaimao-columbia-university/hpml-hw2-llm2' target=\"_blank\">Weights & Biases</a> (<a href='https://wandb.me/developer-guide' target=\"_blank\">docs</a>)<br>Sweep page: <a href='https://wandb.ai/kaimao-columbia-university/hpml-hw2-llm2/sweeps/3p7k5crm' target=\"_blank\">https://wandb.ai/kaimao-columbia-university/hpml-hw2-llm2/sweeps/3p7k5crm</a>"
      ],
      "text/plain": [
       "<IPython.core.display.HTML object>"
      ]
     },
     "metadata": {},
     "output_type": "display_data"
    },
    {
     "data": {
      "text/html": [
       " View project at <a href='https://wandb.ai/kaimao-columbia-university/hpml-hw2-llm2' target=\"_blank\">https://wandb.ai/kaimao-columbia-university/hpml-hw2-llm2</a>"
      ],
      "text/plain": [
       "<IPython.core.display.HTML object>"
      ]
     },
     "metadata": {},
     "output_type": "display_data"
    },
    {
     "data": {
      "text/html": [
       " View sweep at <a href='https://wandb.ai/kaimao-columbia-university/hpml-hw2-llm2/sweeps/3p7k5crm' target=\"_blank\">https://wandb.ai/kaimao-columbia-university/hpml-hw2-llm2/sweeps/3p7k5crm</a>"
      ],
      "text/plain": [
       "<IPython.core.display.HTML object>"
      ]
     },
     "metadata": {},
     "output_type": "display_data"
    },
    {
     "data": {
      "text/html": [
       " View run at <a href='https://wandb.ai/kaimao-columbia-university/hpml-hw2-llm2/runs/fv72fcpn' target=\"_blank\">https://wandb.ai/kaimao-columbia-university/hpml-hw2-llm2/runs/fv72fcpn</a>"
      ],
      "text/plain": [
       "<IPython.core.display.HTML object>"
      ]
     },
     "metadata": {},
     "output_type": "display_data"
    },
    {
     "name": "stderr",
     "output_type": "stream",
     "text": [
      "Some weights of DistilBertForSequenceClassification were not initialized from the model checkpoint at distilbert-base-uncased and are newly initialized: ['classifier.bias', 'classifier.weight', 'pre_classifier.bias', 'pre_classifier.weight']\n",
      "You should probably TRAIN this model on a down-stream task to be able to use it for predictions and inference.\n"
     ]
    },
    {
     "name": "stdout",
     "output_type": "stream",
     "text": [
      "---------start train: batch_size(32) lr(0.0001) num_workers(4) optimizer(AdamW)-----\n"
     ]
    },
    {
     "name": "stderr",
     "output_type": "stream",
     "text": [
      "huggingface/tokenizers: The current process just got forked, after parallelism has already been used. Disabling parallelism to avoid deadlocks...\n",
      "To disable this warning, you can either:\n",
      "\t- Avoid using `tokenizers` before the fork if possible\n",
      "\t- Explicitly set the environment variable TOKENIZERS_PARALLELISM=(true | false)\n",
      "huggingface/tokenizers: The current process just got forked, after parallelism has already been used. Disabling parallelism to avoid deadlocks...\n",
      "To disable this warning, you can either:\n",
      "\t- Avoid using `tokenizers` before the fork if possible\n",
      "\t- Explicitly set the environment variable TOKENIZERS_PARALLELISM=(true | false)\n",
      "huggingface/tokenizers: The current process just got forked, after parallelism has already been used. Disabling parallelism to avoid deadlocks...\n",
      "To disable this warning, you can either:\n",
      "\t- Avoid using `tokenizers` before the fork if possible\n",
      "\t- Explicitly set the environment variable TOKENIZERS_PARALLELISM=(true | false)\n",
      "huggingface/tokenizers: The current process just got forked, after parallelism has already been used. Disabling parallelism to avoid deadlocks...\n",
      "To disable this warning, you can either:\n",
      "\t- Avoid using `tokenizers` before the fork if possible\n",
      "\t- Explicitly set the environment variable TOKENIZERS_PARALLELISM=(true | false)\n",
      "huggingface/tokenizers: The current process just got forked, after parallelism has already been used. Disabling parallelism to avoid deadlocks...\n",
      "To disable this warning, you can either:\n",
      "\t- Avoid using `tokenizers` before the fork if possible\n",
      "\t- Explicitly set the environment variable TOKENIZERS_PARALLELISM=(true | false)\n",
      "huggingface/tokenizers: The current process just got forked, after parallelism has already been used. Disabling parallelism to avoid deadlocks...\n",
      "To disable this warning, you can either:\n",
      "\t- Avoid using `tokenizers` before the fork if possible\n",
      "\t- Explicitly set the environment variable TOKENIZERS_PARALLELISM=(true | false)\n",
      "huggingface/tokenizers: The current process just got forked, after parallelism has already been used. Disabling parallelism to avoid deadlocks...\n",
      "To disable this warning, you can either:\n",
      "\t- Avoid using `tokenizers` before the fork if possible\n",
      "\t- Explicitly set the environment variable TOKENIZERS_PARALLELISM=(true | false)\n",
      "huggingface/tokenizers: The current process just got forked, after parallelism has already been used. Disabling parallelism to avoid deadlocks...\n",
      "To disable this warning, you can either:\n",
      "\t- Avoid using `tokenizers` before the fork if possible\n",
      "\t- Explicitly set the environment variable TOKENIZERS_PARALLELISM=(true | false)\n",
      "TOKENIZERS_PARALLELISM=(true | false)\n"
     ]
    },
    {
     "name": "stdout",
     "output_type": "stream",
     "text": [
      "Epoch 1/5, Loss: 0.3024, Train Accuracy: 0.8732, Test Accuracy: 0.9009, data_loading time: 1.2394201755523682                 compute time: 41.9440553188324 total epoch time: 43.53215169906616\n",
      "-------------------------------------------------------------------------------\n"
     ]
    },
    {
     "name": "stderr",
     "output_type": "stream",
     "text": [
      "huggingface/tokenizers: The current process just got forked, after parallelism has already been used. Disabling parallelism to avoid deadlocks...\n",
      "To disable this warning, you can either:\n",
      "\t- Avoid using `tokenizers` before the fork if possible\n",
      "\t- Explicitly set the environment variable TOKENIZERS_PARALLELISM=(true | false)\n",
      "huggingface/tokenizers: The current process just got forked, after parallelism has already been used. Disabling parallelism to avoid deadlocks...\n",
      "To disable this warning, you can either:\n",
      "\t- Avoid using `tokenizers` before the fork if possible\n",
      "\t- Explicitly set the environment variable TOKENIZERS_PARALLELISM=(true | false)\n",
      "huggingface/tokenizers: The current process just got forked, after parallelism has already been used. Disabling parallelism to avoid deadlocks...\n",
      "To disable this warning, you can either:\n",
      "\t- Avoid using `tokenizers` before the fork if possible\n",
      "\t- Explicitly set the environment variable TOKENIZERS_PARALLELISM=(true | false)\n",
      "huggingface/tokenizers: The current process just got forked, after parallelism has already been used. Disabling parallelism to avoid deadlocks...\n",
      "To disable this warning, you can either:\n",
      "\t- Avoid using `tokenizers` before the fork if possible\n",
      "\t- Explicitly set the environment variable TOKENIZERS_PARALLELISM=(true | false)\n",
      "huggingface/tokenizers: The current process just got forked, after parallelism has already been used. Disabling parallelism to avoid deadlocks...\n",
      "To disable this warning, you can either:\n",
      "\t- Avoid using `tokenizers` before the fork if possible\n",
      "\t- Explicitly set the environment variable TOKENIZERS_PARALLELISM=(true | false)\n",
      "huggingface/tokenizers: The current process just got forked, after parallelism has already been used. Disabling parallelism to avoid deadlocks...\n",
      "To disable this warning, you can either:\n",
      "\t- Avoid using `tokenizers` before the fork if possible\n",
      "\t- Explicitly set the environment variable TOKENIZERS_PARALLELISM=(true | false)\n",
      "huggingface/tokenizers: The current process just got forked, after parallelism has already been used. Disabling parallelism to avoid deadlocks...\n",
      "To disable this warning, you can either:\n",
      "\t- Avoid using `tokenizers` before the fork if possible\n",
      "\t- Explicitly set the environment variable TOKENIZERS_PARALLELISM=(true | false)\n",
      "huggingface/tokenizers: The current process just got forked, after parallelism has already been used. Disabling parallelism to avoid deadlocks...\n",
      "To disable this warning, you can either:\n",
      "\t- Avoid using `tokenizers` before the fork if possible\n",
      "\t- Explicitly set the environment variable TOKENIZERS_PARALLELISM=(true | false)\n"
     ]
    },
    {
     "name": "stdout",
     "output_type": "stream",
     "text": [
      "Epoch 2/5, Loss: 0.1699, Train Accuracy: 0.9370, Test Accuracy: 0.8876, data_loading time: 1.2744231224060059                 compute time: 42.048025608062744 total epoch time: 43.652538776397705\n",
      "-------------------------------------------------------------------------------\n"
     ]
    },
    {
     "name": "stderr",
     "output_type": "stream",
     "text": [
      "huggingface/tokenizers: The current process just got forked, after parallelism has already been used. Disabling parallelism to avoid deadlocks...\n",
      "To disable this warning, you can either:\n",
      "\t- Avoid using `tokenizers` before the fork if possible\n",
      "\t- Explicitly set the environment variable TOKENIZERS_PARALLELISM=(true | false)\n",
      "huggingface/tokenizers: The current process just got forked, after parallelism has already been used. Disabling parallelism to avoid deadlocks...\n",
      "To disable this warning, you can either:\n",
      "\t- Avoid using `tokenizers` before the fork if possible\n",
      "\t- Explicitly set the environment variable TOKENIZERS_PARALLELISM=(true | false)\n",
      "huggingface/tokenizers: The current process just got forked, after parallelism has already been used. Disabling parallelism to avoid deadlocks...\n",
      "To disable this warning, you can either:\n",
      "\t- Avoid using `tokenizers` before the fork if possible\n",
      "\t- Explicitly set the environment variable TOKENIZERS_PARALLELISM=(true | false)\n",
      "huggingface/tokenizers: The current process just got forked, after parallelism has already been used. Disabling parallelism to avoid deadlocks...\n",
      "To disable this warning, you can either:\n",
      "\t- Avoid using `tokenizers` before the fork if possible\n",
      "\t- Explicitly set the environment variable TOKENIZERS_PARALLELISM=(true | false)\n",
      "huggingface/tokenizers: The current process just got forked, after parallelism has already been used. Disabling parallelism to avoid deadlocks...\n",
      "To disable this warning, you can either:\n",
      "\t- Avoid using `tokenizers` before the fork if possible\n",
      "\t- Explicitly set the environment variable TOKENIZERS_PARALLELISM=(true | false)\n",
      "huggingface/tokenizers: The current process just got forked, after parallelism has already been used. Disabling parallelism to avoid deadlocks...\n",
      "To disable this warning, you can either:\n",
      "\t- Avoid using `tokenizers` before the fork if possible\n",
      "\t- Explicitly set the environment variable TOKENIZERS_PARALLELISM=(true | false)\n",
      "huggingface/tokenizers: The current process just got forked, after parallelism has already been used. Disabling parallelism to avoid deadlocks...\n",
      "To disable this warning, you can either:\n",
      "\t- Avoid using `tokenizers` before the fork if possible\n",
      "\t- Explicitly set the environment variable TOKENIZERS_PARALLELISM=(true | false)\n",
      "huggingface/tokenizers: The current process just got forked, after parallelism has already been used. Disabling parallelism to avoid deadlocks...\n",
      "To disable this warning, you can either:\n",
      "\t- Avoid using `tokenizers` before the fork if possible\n",
      "\t- Explicitly set the environment variable TOKENIZERS_PARALLELISM=(true | false)\n"
     ]
    },
    {
     "name": "stdout",
     "output_type": "stream",
     "text": [
      "Epoch 3/5, Loss: 0.0871, Train Accuracy: 0.9709, Test Accuracy: 0.8801, data_loading time: 1.558837652206421                 compute time: 42.26429533958435 total epoch time: 44.21101760864258\n",
      "-------------------------------------------------------------------------------\n"
     ]
    },
    {
     "name": "stderr",
     "output_type": "stream",
     "text": [
      "huggingface/tokenizers: The current process just got forked, after parallelism has already been used. Disabling parallelism to avoid deadlocks...\n",
      "To disable this warning, you can either:\n",
      "\t- Avoid using `tokenizers` before the fork if possible\n",
      "\t- Explicitly set the environment variable TOKENIZERS_PARALLELISM=(true | false)\n",
      "huggingface/tokenizers: The current process just got forked, after parallelism has already been used. Disabling parallelism to avoid deadlocks...\n",
      "To disable this warning, you can either:\n",
      "\t- Avoid using `tokenizers` before the fork if possible\n",
      "\t- Explicitly set the environment variable TOKENIZERS_PARALLELISM=(true | false)\n",
      "huggingface/tokenizers: The current process just got forked, after parallelism has already been used. Disabling parallelism to avoid deadlocks...\n",
      "To disable this warning, you can either:\n",
      "\t- Avoid using `tokenizers` before the fork if possible\n",
      "\t- Explicitly set the environment variable TOKENIZERS_PARALLELISM=(true | false)\n",
      "huggingface/tokenizers: The current process just got forked, after parallelism has already been used. Disabling parallelism to avoid deadlocks...\n",
      "To disable this warning, you can either:\n",
      "\t- Avoid using `tokenizers` before the fork if possible\n",
      "\t- Explicitly set the environment variable TOKENIZERS_PARALLELISM=(true | false)\n",
      "huggingface/tokenizers: The current process just got forked, after parallelism has already been used. Disabling parallelism to avoid deadlocks...\n",
      "To disable this warning, you can either:\n",
      "\t- Avoid using `tokenizers` before the fork if possible\n",
      "\t- Explicitly set the environment variable TOKENIZERS_PARALLELISM=(true | false)\n",
      "huggingface/tokenizers: The current process just got forked, after parallelism has already been used. Disabling parallelism to avoid deadlocks...\n",
      "To disable this warning, you can either:\n",
      "\t- Avoid using `tokenizers` before the fork if possible\n",
      "\t- Explicitly set the environment variable TOKENIZERS_PARALLELISM=(true | false)\n",
      "huggingface/tokenizers: The current process just got forked, after parallelism has already been used. Disabling parallelism to avoid deadlocks...\n",
      "To disable this warning, you can either:\n",
      "\t- Avoid using `tokenizers` before the fork if possible\n",
      "\t- Explicitly set the environment variable TOKENIZERS_PARALLELISM=(true | false)\n",
      "huggingface/tokenizers: The current process just got forked, after parallelism has already been used. Disabling parallelism to avoid deadlocks...\n",
      "To disable this warning, you can either:\n",
      "\t- Avoid using `tokenizers` before the fork if possible\n",
      "\t- Explicitly set the environment variable TOKENIZERS_PARALLELISM=(true | false)\n"
     ]
    },
    {
     "name": "stdout",
     "output_type": "stream",
     "text": [
      "Epoch 4/5, Loss: 0.0548, Train Accuracy: 0.9808, Test Accuracy: 0.8703, data_loading time: 1.8174281120300293                 compute time: 42.46608066558838 total epoch time: 44.67887258529663\n",
      "-------------------------------------------------------------------------------\n"
     ]
    },
    {
     "name": "stderr",
     "output_type": "stream",
     "text": [
      "huggingface/tokenizers: The current process just got forked, after parallelism has already been used. Disabling parallelism to avoid deadlocks...\n",
      "To disable this warning, you can either:\n",
      "\t- Avoid using `tokenizers` before the fork if possible\n",
      "\t- Explicitly set the environment variable TOKENIZERS_PARALLELISM=(true | false)\n",
      "huggingface/tokenizers: The current process just got forked, after parallelism has already been used. Disabling parallelism to avoid deadlocks...\n",
      "To disable this warning, you can either:\n",
      "\t- Avoid using `tokenizers` before the fork if possible\n",
      "\t- Explicitly set the environment variable TOKENIZERS_PARALLELISM=(true | false)\n",
      "huggingface/tokenizers: The current process just got forked, after parallelism has already been used. Disabling parallelism to avoid deadlocks...\n",
      "To disable this warning, you can either:\n",
      "\t- Avoid using `tokenizers` before the fork if possible\n",
      "\t- Explicitly set the environment variable TOKENIZERS_PARALLELISM=(true | false)\n",
      "huggingface/tokenizers: The current process just got forked, after parallelism has already been used. Disabling parallelism to avoid deadlocks...\n",
      "To disable this warning, you can either:\n",
      "\t- Avoid using `tokenizers` before the fork if possible\n",
      "\t- Explicitly set the environment variable TOKENIZERS_PARALLELISM=(true | false)\n",
      "huggingface/tokenizers: The current process just got forked, after parallelism has already been used. Disabling parallelism to avoid deadlocks...\n",
      "To disable this warning, you can either:\n",
      "\t- Avoid using `tokenizers` before the fork if possible\n",
      "\t- Explicitly set the environment variable TOKENIZERS_PARALLELISM=(true | false)\n",
      "huggingface/tokenizers: The current process just got forked, after parallelism has already been used. Disabling parallelism to avoid deadlocks...\n",
      "To disable this warning, you can either:\n",
      "\t- Avoid using `tokenizers` before the fork if possible\n",
      "\t- Explicitly set the environment variable TOKENIZERS_PARALLELISM=(true | false)\n",
      "huggingface/tokenizers: The current process just got forked, after parallelism has already been used. Disabling parallelism to avoid deadlocks...\n",
      "To disable this warning, you can either:\n",
      "\t- Avoid using `tokenizers` before the fork if possible\n",
      "\t- Explicitly set the environment variable TOKENIZERS_PARALLELISM=(true | false)\n",
      "huggingface/tokenizers: The current process just got forked, after parallelism has already been used. Disabling parallelism to avoid deadlocks...\n",
      "To disable this warning, you can either:\n",
      "\t- Avoid using `tokenizers` before the fork if possible\n",
      "\t- Explicitly set the environment variable TOKENIZERS_PARALLELISM=(true | false)\n",
      "TOKENIZERS_PARALLELISM=(true | false)\n",
      "\u001b[34m\u001b[1mwandb\u001b[0m: \u001b[32m\u001b[41mERROR\u001b[0m The nbformat package was not found. It is required to save notebook history.\n"
     ]
    },
    {
     "name": "stdout",
     "output_type": "stream",
     "text": [
      "Epoch 5/5, Loss: 0.0444, Train Accuracy: 0.9852, Test Accuracy: 0.8741, data_loading time: 1.2845323085784912                 compute time: 42.04469895362854 total epoch time: 43.68988227844238\n",
      "-------------------------------------------------------------------------------\n"
     ]
    },
    {
     "data": {
      "text/html": [],
      "text/plain": [
       "<IPython.core.display.HTML object>"
      ]
     },
     "metadata": {},
     "output_type": "display_data"
    },
    {
     "data": {
      "text/html": [
       "<br>    <style><br>        .wandb-row {<br>            display: flex;<br>            flex-direction: row;<br>            flex-wrap: wrap;<br>            justify-content: flex-start;<br>            width: 100%;<br>        }<br>        .wandb-col {<br>            display: flex;<br>            flex-direction: column;<br>            flex-basis: 100%;<br>            flex: 1;<br>            padding: 10px;<br>        }<br>    </style><br><div class=\"wandb-row\"><div class=\"wandb-col\"><h3>Run history:</h3><br/><table class=\"wandb\"><tr><td>compute time</td><td>▁▂▅█▂</td></tr><tr><td>data-loading time</td><td>▁▁▅█▂</td></tr><tr><td>test/acc</td><td>█▅▃▁▂</td></tr><tr><td>total epoch time</td><td>▁▂▅█▂</td></tr><tr><td>train/acc</td><td>▁▅▇██</td></tr></table><br/></div><div class=\"wandb-col\"><h3>Run summary:</h3><br/><table class=\"wandb\"><tr><td>compute time</td><td>42.0447</td></tr><tr><td>data-loading time</td><td>1.28453</td></tr><tr><td>test/acc</td><td>0.87412</td></tr><tr><td>total epoch time</td><td>43.68988</td></tr><tr><td>train/acc</td><td>0.98524</td></tr></table><br/></div></div>"
      ],
      "text/plain": [
       "<IPython.core.display.HTML object>"
      ]
     },
     "metadata": {},
     "output_type": "display_data"
    },
    {
     "data": {
      "text/html": [
       " View run <strong style=\"color:#cdcd00\">lr0.0001_bs32</strong> at: <a href='https://wandb.ai/kaimao-columbia-university/hpml-hw2-llm2/runs/fv72fcpn' target=\"_blank\">https://wandb.ai/kaimao-columbia-university/hpml-hw2-llm2/runs/fv72fcpn</a><br> View project at: <a href='https://wandb.ai/kaimao-columbia-university/hpml-hw2-llm2' target=\"_blank\">https://wandb.ai/kaimao-columbia-university/hpml-hw2-llm2</a><br>Synced 5 W&B file(s), 0 media file(s), 0 artifact file(s) and 0 other file(s)"
      ],
      "text/plain": [
       "<IPython.core.display.HTML object>"
      ]
     },
     "metadata": {},
     "output_type": "display_data"
    },
    {
     "data": {
      "text/html": [
       "Find logs at: <code>./wandb/run-20251023_030048-fv72fcpn/logs</code>"
      ],
      "text/plain": [
       "<IPython.core.display.HTML object>"
      ]
     },
     "metadata": {},
     "output_type": "display_data"
    },
    {
     "name": "stderr",
     "output_type": "stream",
     "text": [
      "\u001b[34m\u001b[1mwandb\u001b[0m: Agent Starting Run: giqclgi7 with config:\n",
      "\u001b[34m\u001b[1mwandb\u001b[0m: \tnum_workers: 8\n",
      "\u001b[34m\u001b[1mwandb\u001b[0m: \u001b[32m\u001b[41mERROR\u001b[0m Failed to detect the name of this notebook. You can set it manually with the WANDB_NOTEBOOK_NAME environment variable to enable code saving.\n"
     ]
    },
    {
     "data": {
      "text/html": [],
      "text/plain": [
       "<IPython.core.display.HTML object>"
      ]
     },
     "metadata": {},
     "output_type": "display_data"
    },
    {
     "data": {
      "text/html": [
       "Tracking run with wandb version 0.22.2"
      ],
      "text/plain": [
       "<IPython.core.display.HTML object>"
      ]
     },
     "metadata": {},
     "output_type": "display_data"
    },
    {
     "data": {
      "text/html": [
       "Run data is saved locally in <code>/workspace/wandb/run-20251023_030602-giqclgi7</code>"
      ],
      "text/plain": [
       "<IPython.core.display.HTML object>"
      ]
     },
     "metadata": {},
     "output_type": "display_data"
    },
    {
     "data": {
      "text/html": [
       "Syncing run <strong><a href='https://wandb.ai/kaimao-columbia-university/hpml-hw2-llm2/runs/giqclgi7' target=\"_blank\">fancy-sweep-4</a></strong> to <a href='https://wandb.ai/kaimao-columbia-university/hpml-hw2-llm2' target=\"_blank\">Weights & Biases</a> (<a href='https://wandb.me/developer-guide' target=\"_blank\">docs</a>)<br>Sweep page: <a href='https://wandb.ai/kaimao-columbia-university/hpml-hw2-llm2/sweeps/3p7k5crm' target=\"_blank\">https://wandb.ai/kaimao-columbia-university/hpml-hw2-llm2/sweeps/3p7k5crm</a>"
      ],
      "text/plain": [
       "<IPython.core.display.HTML object>"
      ]
     },
     "metadata": {},
     "output_type": "display_data"
    },
    {
     "data": {
      "text/html": [
       " View project at <a href='https://wandb.ai/kaimao-columbia-university/hpml-hw2-llm2' target=\"_blank\">https://wandb.ai/kaimao-columbia-university/hpml-hw2-llm2</a>"
      ],
      "text/plain": [
       "<IPython.core.display.HTML object>"
      ]
     },
     "metadata": {},
     "output_type": "display_data"
    },
    {
     "data": {
      "text/html": [
       " View sweep at <a href='https://wandb.ai/kaimao-columbia-university/hpml-hw2-llm2/sweeps/3p7k5crm' target=\"_blank\">https://wandb.ai/kaimao-columbia-university/hpml-hw2-llm2/sweeps/3p7k5crm</a>"
      ],
      "text/plain": [
       "<IPython.core.display.HTML object>"
      ]
     },
     "metadata": {},
     "output_type": "display_data"
    },
    {
     "data": {
      "text/html": [
       " View run at <a href='https://wandb.ai/kaimao-columbia-university/hpml-hw2-llm2/runs/giqclgi7' target=\"_blank\">https://wandb.ai/kaimao-columbia-university/hpml-hw2-llm2/runs/giqclgi7</a>"
      ],
      "text/plain": [
       "<IPython.core.display.HTML object>"
      ]
     },
     "metadata": {},
     "output_type": "display_data"
    },
    {
     "name": "stderr",
     "output_type": "stream",
     "text": [
      "Some weights of DistilBertForSequenceClassification were not initialized from the model checkpoint at distilbert-base-uncased and are newly initialized: ['classifier.bias', 'classifier.weight', 'pre_classifier.bias', 'pre_classifier.weight']\n",
      "You should probably TRAIN this model on a down-stream task to be able to use it for predictions and inference.\n"
     ]
    },
    {
     "name": "stdout",
     "output_type": "stream",
     "text": [
      "---------start train: batch_size(32) lr(0.0001) num_workers(8) optimizer(AdamW)-----\n"
     ]
    },
    {
     "name": "stderr",
     "output_type": "stream",
     "text": [
      "huggingface/tokenizers: The current process just got forked, after parallelism has already been used. Disabling parallelism to avoid deadlocks...\n",
      "To disable this warning, you can either:\n",
      "\t- Avoid using `tokenizers` before the fork if possible\n",
      "\t- Explicitly set the environment variable TOKENIZERS_PARALLELISM=(true | false)\n",
      "huggingface/tokenizers: The current process just got forked, after parallelism has already been used. Disabling parallelism to avoid deadlocks...\n",
      "To disable this warning, you can either:\n",
      "\t- Avoid using `tokenizers` before the fork if possible\n",
      "\t- Explicitly set the environment variable TOKENIZERS_PARALLELISM=(true | false)\n",
      "huggingface/tokenizers: The current process just got forked, after parallelism has already been used. Disabling parallelism to avoid deadlocks...\n",
      "To disable this warning, you can either:\n",
      "\t- Avoid using `tokenizers` before the fork if possible\n",
      "\t- Explicitly set the environment variable TOKENIZERS_PARALLELISM=(true | false)\n",
      "huggingface/tokenizers: The current process just got forked, after parallelism has already been used. Disabling parallelism to avoid deadlocks...\n",
      "To disable this warning, you can either:\n",
      "\t- Avoid using `tokenizers` before the fork if possible\n",
      "\t- Explicitly set the environment variable TOKENIZERS_PARALLELISM=(true | false)\n",
      "huggingface/tokenizers: The current process just got forked, after parallelism has already been used. Disabling parallelism to avoid deadlocks...\n",
      "To disable this warning, you can either:\n",
      "\t- Avoid using `tokenizers` before the fork if possible\n",
      "\t- Explicitly set the environment variable TOKENIZERS_PARALLELISM=(true | false)\n",
      "huggingface/tokenizers: The current process just got forked, after parallelism has already been used. Disabling parallelism to avoid deadlocks...\n",
      "To disable this warning, you can either:\n",
      "\t- Avoid using `tokenizers` before the fork if possible\n",
      "\t- Explicitly set the environment variable TOKENIZERS_PARALLELISM=(true | false)\n",
      "huggingface/tokenizers: The current process just got forked, after parallelism has already been used. Disabling parallelism to avoid deadlocks...\n",
      "To disable this warning, you can either:\n",
      "\t- Avoid using `tokenizers` before the fork if possible\n",
      "\t- Explicitly set the environment variable TOKENIZERS_PARALLELISM=(true | false)\n",
      "huggingface/tokenizers: The current process just got forked, after parallelism has already been used. Disabling parallelism to avoid deadlocks...\n",
      "To disable this warning, you can either:\n",
      "\t- Avoid using `tokenizers` before the fork if possible\n",
      "\t- Explicitly set the environment variable TOKENIZERS_PARALLELISM=(true | false)\n",
      "huggingface/tokenizers: The current process just got forked, after parallelism has already been used. Disabling parallelism to avoid deadlocks...\n",
      "To disable this warning, you can either:\n",
      "\t- Avoid using `tokenizers` before the fork if possible\n",
      "\t- Explicitly set the environment variable TOKENIZERS_PARALLELISM=(true | false)\n",
      "huggingface/tokenizers: The current process just got forked, after parallelism has already been used. Disabling parallelism to avoid deadlocks...\n",
      "To disable this warning, you can either:\n",
      "\t- Avoid using `tokenizers` before the fork if possible\n",
      "\t- Explicitly set the environment variable TOKENIZERS_PARALLELISM=(true | false)\n",
      "huggingface/tokenizers: The current process just got forked, after parallelism has already been used. Disabling parallelism to avoid deadlocks...\n",
      "To disable this warning, you can either:\n",
      "\t- Avoid using `tokenizers` before the fork if possible\n",
      "\t- Explicitly set the environment variable TOKENIZERS_PARALLELISM=(true | false)\n",
      "huggingface/tokenizers: The current process just got forked, after parallelism has already been used. Disabling parallelism to avoid deadlocks...\n",
      "To disable this warning, you can either:\n",
      "\t- Avoid using `tokenizers` before the fork if possible\n",
      "\t- Explicitly set the environment variable TOKENIZERS_PARALLELISM=(true | false)\n",
      "huggingface/tokenizers: The current process just got forked, after parallelism has already been used. Disabling parallelism to avoid deadlocks...\n",
      "To disable this warning, you can either:\n",
      "\t- Avoid using `tokenizers` before the fork if possible\n",
      "\t- Explicitly set the environment variable TOKENIZERS_PARALLELISM=(true | false)\n",
      "huggingface/tokenizers: The current process just got forked, after parallelism has already been used. Disabling parallelism to avoid deadlocks...\n",
      "To disable this warning, you can either:\n",
      "\t- Avoid using `tokenizers` before the fork if possible\n",
      "\t- Explicitly set the environment variable TOKENIZERS_PARALLELISM=(true | false)\n",
      "huggingface/tokenizers: The current process just got forked, after parallelism has already been used. Disabling parallelism to avoid deadlocks...\n",
      "To disable this warning, you can either:\n",
      "\t- Avoid using `tokenizers` before the fork if possible\n",
      "\t- Explicitly set the environment variable TOKENIZERS_PARALLELISM=(true | false)\n",
      "huggingface/tokenizers: The current process just got forked, after parallelism has already been used. Disabling parallelism to avoid deadlocks...\n",
      "To disable this warning, you can either:\n",
      "\t- Avoid using `tokenizers` before the fork if possible\n",
      "\t- Explicitly set the environment variable TOKENIZERS_PARALLELISM=(true | false)\n",
      "TOKENIZERS_PARALLELISM=(true | false)\n"
     ]
    },
    {
     "name": "stdout",
     "output_type": "stream",
     "text": [
      "Epoch 1/5, Loss: 0.3091, Train Accuracy: 0.8666, Test Accuracy: 0.8940, data_loading time: 1.3921043872833252                 compute time: 41.97293710708618 total epoch time: 43.72316646575928\n",
      "-------------------------------------------------------------------------------\n"
     ]
    },
    {
     "name": "stderr",
     "output_type": "stream",
     "text": [
      "huggingface/tokenizers: The current process just got forked, after parallelism has already been used. Disabling parallelism to avoid deadlocks...\n",
      "To disable this warning, you can either:\n",
      "\t- Avoid using `tokenizers` before the fork if possible\n",
      "\t- Explicitly set the environment variable TOKENIZERS_PARALLELISM=(true | false)\n",
      "huggingface/tokenizers: The current process just got forked, after parallelism has already been used. Disabling parallelism to avoid deadlocks...\n",
      "To disable this warning, you can either:\n",
      "\t- Avoid using `tokenizers` before the fork if possible\n",
      "\t- Explicitly set the environment variable TOKENIZERS_PARALLELISM=(true | false)\n",
      "huggingface/tokenizers: The current process just got forked, after parallelism has already been used. Disabling parallelism to avoid deadlocks...\n",
      "To disable this warning, you can either:\n",
      "\t- Avoid using `tokenizers` before the fork if possible\n",
      "\t- Explicitly set the environment variable TOKENIZERS_PARALLELISM=(true | false)\n",
      "huggingface/tokenizers: The current process just got forked, after parallelism has already been used. Disabling parallelism to avoid deadlocks...\n",
      "To disable this warning, you can either:\n",
      "\t- Avoid using `tokenizers` before the fork if possible\n",
      "\t- Explicitly set the environment variable TOKENIZERS_PARALLELISM=(true | false)\n",
      "huggingface/tokenizers: The current process just got forked, after parallelism has already been used. Disabling parallelism to avoid deadlocks...\n",
      "To disable this warning, you can either:\n",
      "\t- Avoid using `tokenizers` before the fork if possible\n",
      "\t- Explicitly set the environment variable TOKENIZERS_PARALLELISM=(true | false)\n",
      "huggingface/tokenizers: The current process just got forked, after parallelism has already been used. Disabling parallelism to avoid deadlocks...\n",
      "To disable this warning, you can either:\n",
      "\t- Avoid using `tokenizers` before the fork if possible\n",
      "\t- Explicitly set the environment variable TOKENIZERS_PARALLELISM=(true | false)\n",
      "huggingface/tokenizers: The current process just got forked, after parallelism has already been used. Disabling parallelism to avoid deadlocks...\n",
      "To disable this warning, you can either:\n",
      "\t- Avoid using `tokenizers` before the fork if possible\n",
      "\t- Explicitly set the environment variable TOKENIZERS_PARALLELISM=(true | false)\n",
      "huggingface/tokenizers: The current process just got forked, after parallelism has already been used. Disabling parallelism to avoid deadlocks...\n",
      "To disable this warning, you can either:\n",
      "\t- Avoid using `tokenizers` before the fork if possible\n",
      "\t- Explicitly set the environment variable TOKENIZERS_PARALLELISM=(true | false)\n",
      "huggingface/tokenizers: The current process just got forked, after parallelism has already been used. Disabling parallelism to avoid deadlocks...\n",
      "To disable this warning, you can either:\n",
      "\t- Avoid using `tokenizers` before the fork if possible\n",
      "\t- Explicitly set the environment variable TOKENIZERS_PARALLELISM=(true | false)\n",
      "huggingface/tokenizers: The current process just got forked, after parallelism has already been used. Disabling parallelism to avoid deadlocks...\n",
      "To disable this warning, you can either:\n",
      "\t- Avoid using `tokenizers` before the fork if possible\n",
      "\t- Explicitly set the environment variable TOKENIZERS_PARALLELISM=(true | false)\n",
      "huggingface/tokenizers: The current process just got forked, after parallelism has already been used. Disabling parallelism to avoid deadlocks...\n",
      "To disable this warning, you can either:\n",
      "\t- Avoid using `tokenizers` before the fork if possible\n",
      "\t- Explicitly set the environment variable TOKENIZERS_PARALLELISM=(true | false)\n",
      "huggingface/tokenizers: The current process just got forked, after parallelism has already been used. Disabling parallelism to avoid deadlocks...\n",
      "To disable this warning, you can either:\n",
      "\t- Avoid using `tokenizers` before the fork if possible\n",
      "\t- Explicitly set the environment variable TOKENIZERS_PARALLELISM=(true | false)\n",
      "huggingface/tokenizers: The current process just got forked, after parallelism has already been used. Disabling parallelism to avoid deadlocks...\n",
      "To disable this warning, you can either:\n",
      "\t- Avoid using `tokenizers` before the fork if possible\n",
      "\t- Explicitly set the environment variable TOKENIZERS_PARALLELISM=(true | false)\n",
      "huggingface/tokenizers: The current process just got forked, after parallelism has already been used. Disabling parallelism to avoid deadlocks...\n",
      "To disable this warning, you can either:\n",
      "\t- Avoid using `tokenizers` before the fork if possible\n",
      "\t- Explicitly set the environment variable TOKENIZERS_PARALLELISM=(true | false)\n",
      "huggingface/tokenizers: The current process just got forked, after parallelism has already been used. Disabling parallelism to avoid deadlocks...\n",
      "To disable this warning, you can either:\n",
      "\t- Avoid using `tokenizers` before the fork if possible\n",
      "\t- Explicitly set the environment variable TOKENIZERS_PARALLELISM=(true | false)\n",
      "huggingface/tokenizers: The current process just got forked, after parallelism has already been used. Disabling parallelism to avoid deadlocks...\n",
      "To disable this warning, you can either:\n",
      "\t- Avoid using `tokenizers` before the fork if possible\n",
      "\t- Explicitly set the environment variable TOKENIZERS_PARALLELISM=(true | false)\n"
     ]
    },
    {
     "name": "stdout",
     "output_type": "stream",
     "text": [
      "Epoch 2/5, Loss: 0.1647, Train Accuracy: 0.9394, Test Accuracy: 0.8846, data_loading time: 1.4255974292755127                 compute time: 42.07152271270752 total epoch time: 43.8545024394989\n",
      "-------------------------------------------------------------------------------\n"
     ]
    },
    {
     "name": "stderr",
     "output_type": "stream",
     "text": [
      "huggingface/tokenizers: The current process just got forked, after parallelism has already been used. Disabling parallelism to avoid deadlocks...\n",
      "To disable this warning, you can either:\n",
      "\t- Avoid using `tokenizers` before the fork if possible\n",
      "\t- Explicitly set the environment variable TOKENIZERS_PARALLELISM=(true | false)\n",
      "huggingface/tokenizers: The current process just got forked, after parallelism has already been used. Disabling parallelism to avoid deadlocks...\n",
      "To disable this warning, you can either:\n",
      "\t- Avoid using `tokenizers` before the fork if possible\n",
      "\t- Explicitly set the environment variable TOKENIZERS_PARALLELISM=(true | false)\n",
      "huggingface/tokenizers: The current process just got forked, after parallelism has already been used. Disabling parallelism to avoid deadlocks...\n",
      "To disable this warning, you can either:\n",
      "\t- Avoid using `tokenizers` before the fork if possible\n",
      "\t- Explicitly set the environment variable TOKENIZERS_PARALLELISM=(true | false)\n",
      "huggingface/tokenizers: The current process just got forked, after parallelism has already been used. Disabling parallelism to avoid deadlocks...\n",
      "To disable this warning, you can either:\n",
      "\t- Avoid using `tokenizers` before the fork if possible\n",
      "\t- Explicitly set the environment variable TOKENIZERS_PARALLELISM=(true | false)\n",
      "huggingface/tokenizers: The current process just got forked, after parallelism has already been used. Disabling parallelism to avoid deadlocks...\n",
      "To disable this warning, you can either:\n",
      "\t- Avoid using `tokenizers` before the fork if possible\n",
      "\t- Explicitly set the environment variable TOKENIZERS_PARALLELISM=(true | false)\n",
      "huggingface/tokenizers: The current process just got forked, after parallelism has already been used. Disabling parallelism to avoid deadlocks...\n",
      "To disable this warning, you can either:\n",
      "\t- Avoid using `tokenizers` before the fork if possible\n",
      "\t- Explicitly set the environment variable TOKENIZERS_PARALLELISM=(true | false)\n",
      "huggingface/tokenizers: The current process just got forked, after parallelism has already been used. Disabling parallelism to avoid deadlocks...\n",
      "To disable this warning, you can either:\n",
      "\t- Avoid using `tokenizers` before the fork if possible\n",
      "\t- Explicitly set the environment variable TOKENIZERS_PARALLELISM=(true | false)\n",
      "huggingface/tokenizers: The current process just got forked, after parallelism has already been used. Disabling parallelism to avoid deadlocks...\n",
      "To disable this warning, you can either:\n",
      "\t- Avoid using `tokenizers` before the fork if possible\n",
      "\t- Explicitly set the environment variable TOKENIZERS_PARALLELISM=(true | false)\n",
      "huggingface/tokenizers: The current process just got forked, after parallelism has already been used. Disabling parallelism to avoid deadlocks...\n",
      "To disable this warning, you can either:\n",
      "\t- Avoid using `tokenizers` before the fork if possible\n",
      "\t- Explicitly set the environment variable TOKENIZERS_PARALLELISM=(true | false)\n",
      "huggingface/tokenizers: The current process just got forked, after parallelism has already been used. Disabling parallelism to avoid deadlocks...\n",
      "To disable this warning, you can either:\n",
      "\t- Avoid using `tokenizers` before the fork if possible\n",
      "\t- Explicitly set the environment variable TOKENIZERS_PARALLELISM=(true | false)\n",
      "huggingface/tokenizers: The current process just got forked, after parallelism has already been used. Disabling parallelism to avoid deadlocks...\n",
      "To disable this warning, you can either:\n",
      "\t- Avoid using `tokenizers` before the fork if possible\n",
      "\t- Explicitly set the environment variable TOKENIZERS_PARALLELISM=(true | false)\n",
      "huggingface/tokenizers: The current process just got forked, after parallelism has already been used. Disabling parallelism to avoid deadlocks...\n",
      "To disable this warning, you can either:\n",
      "\t- Avoid using `tokenizers` before the fork if possible\n",
      "\t- Explicitly set the environment variable TOKENIZERS_PARALLELISM=(true | false)\n",
      "huggingface/tokenizers: The current process just got forked, after parallelism has already been used. Disabling parallelism to avoid deadlocks...\n",
      "To disable this warning, you can either:\n",
      "\t- Avoid using `tokenizers` before the fork if possible\n",
      "\t- Explicitly set the environment variable TOKENIZERS_PARALLELISM=(true | false)\n",
      "huggingface/tokenizers: The current process just got forked, after parallelism has already been used. Disabling parallelism to avoid deadlocks...\n",
      "To disable this warning, you can either:\n",
      "\t- Avoid using `tokenizers` before the fork if possible\n",
      "\t- Explicitly set the environment variable TOKENIZERS_PARALLELISM=(true | false)\n",
      "huggingface/tokenizers: The current process just got forked, after parallelism has already been used. Disabling parallelism to avoid deadlocks...\n",
      "To disable this warning, you can either:\n",
      "\t- Avoid using `tokenizers` before the fork if possible\n",
      "\t- Explicitly set the environment variable TOKENIZERS_PARALLELISM=(true | false)\n",
      "huggingface/tokenizers: The current process just got forked, after parallelism has already been used. Disabling parallelism to avoid deadlocks...\n",
      "To disable this warning, you can either:\n",
      "\t- Avoid using `tokenizers` before the fork if possible\n",
      "\t- Explicitly set the environment variable TOKENIZERS_PARALLELISM=(true | false)\n"
     ]
    },
    {
     "name": "stdout",
     "output_type": "stream",
     "text": [
      "Epoch 3/5, Loss: 0.0873, Train Accuracy: 0.9694, Test Accuracy: 0.8858, data_loading time: 1.4303972721099854                 compute time: 42.07430100440979 total epoch time: 43.85521960258484\n",
      "-------------------------------------------------------------------------------\n"
     ]
    },
    {
     "name": "stderr",
     "output_type": "stream",
     "text": [
      "huggingface/tokenizers: The current process just got forked, after parallelism has already been used. Disabling parallelism to avoid deadlocks...\n",
      "To disable this warning, you can either:\n",
      "\t- Avoid using `tokenizers` before the fork if possible\n",
      "\t- Explicitly set the environment variable TOKENIZERS_PARALLELISM=(true | false)\n",
      "huggingface/tokenizers: The current process just got forked, after parallelism has already been used. Disabling parallelism to avoid deadlocks...\n",
      "To disable this warning, you can either:\n",
      "\t- Avoid using `tokenizers` before the fork if possible\n",
      "\t- Explicitly set the environment variable TOKENIZERS_PARALLELISM=(true | false)\n",
      "huggingface/tokenizers: The current process just got forked, after parallelism has already been used. Disabling parallelism to avoid deadlocks...\n",
      "To disable this warning, you can either:\n",
      "\t- Avoid using `tokenizers` before the fork if possible\n",
      "\t- Explicitly set the environment variable TOKENIZERS_PARALLELISM=(true | false)\n",
      "huggingface/tokenizers: The current process just got forked, after parallelism has already been used. Disabling parallelism to avoid deadlocks...\n",
      "To disable this warning, you can either:\n",
      "\t- Avoid using `tokenizers` before the fork if possible\n",
      "\t- Explicitly set the environment variable TOKENIZERS_PARALLELISM=(true | false)\n",
      "huggingface/tokenizers: The current process just got forked, after parallelism has already been used. Disabling parallelism to avoid deadlocks...\n",
      "To disable this warning, you can either:\n",
      "\t- Avoid using `tokenizers` before the fork if possible\n",
      "\t- Explicitly set the environment variable TOKENIZERS_PARALLELISM=(true | false)\n",
      "huggingface/tokenizers: The current process just got forked, after parallelism has already been used. Disabling parallelism to avoid deadlocks...\n",
      "To disable this warning, you can either:\n",
      "\t- Avoid using `tokenizers` before the fork if possible\n",
      "\t- Explicitly set the environment variable TOKENIZERS_PARALLELISM=(true | false)\n",
      "huggingface/tokenizers: The current process just got forked, after parallelism has already been used. Disabling parallelism to avoid deadlocks...\n",
      "To disable this warning, you can either:\n",
      "\t- Avoid using `tokenizers` before the fork if possible\n",
      "\t- Explicitly set the environment variable TOKENIZERS_PARALLELISM=(true | false)\n",
      "huggingface/tokenizers: The current process just got forked, after parallelism has already been used. Disabling parallelism to avoid deadlocks...\n",
      "To disable this warning, you can either:\n",
      "\t- Avoid using `tokenizers` before the fork if possible\n",
      "\t- Explicitly set the environment variable TOKENIZERS_PARALLELISM=(true | false)\n",
      "TOKENIZERS_PARALLELISM=(true | false)\n",
      "huggingface/tokenizers: The current process just got forked, after parallelism has already been used. Disabling parallelism to avoid deadlocks...\n",
      "To disable this warning, you can either:\n",
      "\t- Avoid using `tokenizers` before the fork if possible\n",
      "\t- Explicitly set the environment variable TOKENIZERS_PARALLELISM=(true | false)\n",
      "huggingface/tokenizers: The current process just got forked, after parallelism has already been used. Disabling parallelism to avoid deadlocks...\n",
      "To disable this warning, you can either:\n",
      "\t- Avoid using `tokenizers` before the fork if possible\n",
      "\t- Explicitly set the environment variable TOKENIZERS_PARALLELISM=(true | false)\n",
      "huggingface/tokenizers: The current process just got forked, after parallelism has already been used. Disabling parallelism to avoid deadlocks...\n",
      "To disable this warning, you can either:\n",
      "\t- Avoid using `tokenizers` before the fork if possible\n",
      "\t- Explicitly set the environment variable TOKENIZERS_PARALLELISM=(true | false)\n",
      "huggingface/tokenizers: The current process just got forked, after parallelism has already been used. Disabling parallelism to avoid deadlocks...\n",
      "To disable this warning, you can either:\n",
      "\t- Avoid using `tokenizers` before the fork if possible\n",
      "\t- Explicitly set the environment variable TOKENIZERS_PARALLELISM=(true | false)\n",
      "huggingface/tokenizers: The current process just got forked, after parallelism has already been used. Disabling parallelism to avoid deadlocks...\n",
      "To disable this warning, you can either:\n",
      "\t- Avoid using `tokenizers` before the fork if possible\n",
      "\t- Explicitly set the environment variable TOKENIZERS_PARALLELISM=(true | false)\n",
      "huggingface/tokenizers: The current process just got forked, after parallelism has already been used. Disabling parallelism to avoid deadlocks...\n",
      "To disable this warning, you can either:\n",
      "\t- Avoid using `tokenizers` before the fork if possible\n",
      "\t- Explicitly set the environment variable TOKENIZERS_PARALLELISM=(true | false)\n",
      "huggingface/tokenizers: The current process just got forked, after parallelism has already been used. Disabling parallelism to avoid deadlocks...\n",
      "To disable this warning, you can either:\n",
      "\t- Avoid using `tokenizers` before the fork if possible\n",
      "\t- Explicitly set the environment variable TOKENIZERS_PARALLELISM=(true | false)\n",
      "huggingface/tokenizers: The current process just got forked, after parallelism has already been used. Disabling parallelism to avoid deadlocks...\n",
      "To disable this warning, you can either:\n",
      "\t- Avoid using `tokenizers` before the fork if possible\n",
      "\t- Explicitly set the environment variable TOKENIZERS_PARALLELISM=(true | false)\n"
     ]
    },
    {
     "name": "stdout",
     "output_type": "stream",
     "text": [
      "Epoch 4/5, Loss: 0.0513, Train Accuracy: 0.9830, Test Accuracy: 0.8728, data_loading time: 1.4163362979888916                 compute time: 42.061704874038696 total epoch time: 43.83255934715271\n",
      "-------------------------------------------------------------------------------\n"
     ]
    },
    {
     "name": "stderr",
     "output_type": "stream",
     "text": [
      "huggingface/tokenizers: The current process just got forked, after parallelism has already been used. Disabling parallelism to avoid deadlocks...\n",
      "To disable this warning, you can either:\n",
      "\t- Avoid using `tokenizers` before the fork if possible\n",
      "\t- Explicitly set the environment variable TOKENIZERS_PARALLELISM=(true | false)\n",
      "huggingface/tokenizers: The current process just got forked, after parallelism has already been used. Disabling parallelism to avoid deadlocks...\n",
      "To disable this warning, you can either:\n",
      "\t- Avoid using `tokenizers` before the fork if possible\n",
      "\t- Explicitly set the environment variable TOKENIZERS_PARALLELISM=(true | false)\n",
      "huggingface/tokenizers: The current process just got forked, after parallelism has already been used. Disabling parallelism to avoid deadlocks...\n",
      "To disable this warning, you can either:\n",
      "\t- Avoid using `tokenizers` before the fork if possible\n",
      "\t- Explicitly set the environment variable TOKENIZERS_PARALLELISM=(true | false)\n",
      "huggingface/tokenizers: The current process just got forked, after parallelism has already been used. Disabling parallelism to avoid deadlocks...\n",
      "To disable this warning, you can either:\n",
      "\t- Avoid using `tokenizers` before the fork if possible\n",
      "\t- Explicitly set the environment variable TOKENIZERS_PARALLELISM=(true | false)\n",
      "huggingface/tokenizers: The current process just got forked, after parallelism has already been used. Disabling parallelism to avoid deadlocks...\n",
      "To disable this warning, you can either:\n",
      "\t- Avoid using `tokenizers` before the fork if possible\n",
      "\t- Explicitly set the environment variable TOKENIZERS_PARALLELISM=(true | false)\n",
      "huggingface/tokenizers: The current process just got forked, after parallelism has already been used. Disabling parallelism to avoid deadlocks...\n",
      "To disable this warning, you can either:\n",
      "\t- Avoid using `tokenizers` before the fork if possible\n",
      "\t- Explicitly set the environment variable TOKENIZERS_PARALLELISM=(true | false)\n",
      "huggingface/tokenizers: The current process just got forked, after parallelism has already been used. Disabling parallelism to avoid deadlocks...\n",
      "To disable this warning, you can either:\n",
      "\t- Avoid using `tokenizers` before the fork if possible\n",
      "\t- Explicitly set the environment variable TOKENIZERS_PARALLELISM=(true | false)\n",
      "huggingface/tokenizers: The current process just got forked, after parallelism has already been used. Disabling parallelism to avoid deadlocks...\n",
      "To disable this warning, you can either:\n",
      "\t- Avoid using `tokenizers` before the fork if possible\n",
      "\t- Explicitly set the environment variable TOKENIZERS_PARALLELISM=(true | false)\n",
      "huggingface/tokenizers: The current process just got forked, after parallelism has already been used. Disabling parallelism to avoid deadlocks...\n",
      "To disable this warning, you can either:\n",
      "\t- Avoid using `tokenizers` before the fork if possible\n",
      "\t- Explicitly set the environment variable TOKENIZERS_PARALLELISM=(true | false)\n",
      "huggingface/tokenizers: The current process just got forked, after parallelism has already been used. Disabling parallelism to avoid deadlocks...\n",
      "To disable this warning, you can either:\n",
      "\t- Avoid using `tokenizers` before the fork if possible\n",
      "\t- Explicitly set the environment variable TOKENIZERS_PARALLELISM=(true | false)\n",
      "huggingface/tokenizers: The current process just got forked, after parallelism has already been used. Disabling parallelism to avoid deadlocks...\n",
      "To disable this warning, you can either:\n",
      "\t- Avoid using `tokenizers` before the fork if possible\n",
      "\t- Explicitly set the environment variable TOKENIZERS_PARALLELISM=(true | false)\n",
      "huggingface/tokenizers: The current process just got forked, after parallelism has already been used. Disabling parallelism to avoid deadlocks...\n",
      "To disable this warning, you can either:\n",
      "\t- Avoid using `tokenizers` before the fork if possible\n",
      "\t- Explicitly set the environment variable TOKENIZERS_PARALLELISM=(true | false)\n",
      "huggingface/tokenizers: The current process just got forked, after parallelism has already been used. Disabling parallelism to avoid deadlocks...\n",
      "To disable this warning, you can either:\n",
      "\t- Avoid using `tokenizers` before the fork if possible\n",
      "\t- Explicitly set the environment variable TOKENIZERS_PARALLELISM=(true | false)\n",
      "huggingface/tokenizers: The current process just got forked, after parallelism has already been used. Disabling parallelism to avoid deadlocks...\n",
      "To disable this warning, you can either:\n",
      "\t- Avoid using `tokenizers` before the fork if possible\n",
      "\t- Explicitly set the environment variable TOKENIZERS_PARALLELISM=(true | false)\n",
      "huggingface/tokenizers: The current process just got forked, after parallelism has already been used. Disabling parallelism to avoid deadlocks...\n",
      "To disable this warning, you can either:\n",
      "\t- Avoid using `tokenizers` before the fork if possible\n",
      "\t- Explicitly set the environment variable TOKENIZERS_PARALLELISM=(true | false)\n",
      "huggingface/tokenizers: The current process just got forked, after parallelism has already been used. Disabling parallelism to avoid deadlocks...\n",
      "To disable this warning, you can either:\n",
      "\t- Avoid using `tokenizers` before the fork if possible\n",
      "\t- Explicitly set the environment variable TOKENIZERS_PARALLELISM=(true | false)\n",
      "huggingface/tokenizers: The current process just got forked, after parallelism has already been used. Disabling parallelism to avoid deadlocks...\n",
      "To disable this warning, you can either:\n",
      "\t- Avoid using `tokenizers` before the fork if possible\n",
      "\t- Explicitly set the environment variable TOKENIZERS_PARALLELISM=(true | false)\n",
      "\u001b[34m\u001b[1mwandb\u001b[0m: \u001b[32m\u001b[41mERROR\u001b[0m The nbformat package was not found. It is required to save notebook history.\n"
     ]
    },
    {
     "name": "stdout",
     "output_type": "stream",
     "text": [
      "Epoch 5/5, Loss: 0.0443, Train Accuracy: 0.9860, Test Accuracy: 0.8550, data_loading time: 1.4148354530334473                 compute time: 42.051302433013916 total epoch time: 43.81689810752869\n",
      "-------------------------------------------------------------------------------\n"
     ]
    },
    {
     "data": {
      "text/html": [],
      "text/plain": [
       "<IPython.core.display.HTML object>"
      ]
     },
     "metadata": {},
     "output_type": "display_data"
    },
    {
     "data": {
      "text/html": [
       "<br>    <style><br>        .wandb-row {<br>            display: flex;<br>            flex-direction: row;<br>            flex-wrap: wrap;<br>            justify-content: flex-start;<br>            width: 100%;<br>        }<br>        .wandb-col {<br>            display: flex;<br>            flex-direction: column;<br>            flex-basis: 100%;<br>            flex: 1;<br>            padding: 10px;<br>        }<br>    </style><br><div class=\"wandb-row\"><div class=\"wandb-col\"><h3>Run history:</h3><br/><table class=\"wandb\"><tr><td>compute time</td><td>▁██▇▆</td></tr><tr><td>data-loading time</td><td>▁▇█▅▅</td></tr><tr><td>test/acc</td><td>█▆▇▄▁</td></tr><tr><td>total epoch time</td><td>▁██▇▆</td></tr><tr><td>train/acc</td><td>▁▅▇██</td></tr></table><br/></div><div class=\"wandb-col\"><h3>Run summary:</h3><br/><table class=\"wandb\"><tr><td>compute time</td><td>42.0513</td></tr><tr><td>data-loading time</td><td>1.41484</td></tr><tr><td>test/acc</td><td>0.855</td></tr><tr><td>total epoch time</td><td>43.8169</td></tr><tr><td>train/acc</td><td>0.98604</td></tr></table><br/></div></div>"
      ],
      "text/plain": [
       "<IPython.core.display.HTML object>"
      ]
     },
     "metadata": {},
     "output_type": "display_data"
    },
    {
     "data": {
      "text/html": [
       " View run <strong style=\"color:#cdcd00\">lr0.0001_bs32</strong> at: <a href='https://wandb.ai/kaimao-columbia-university/hpml-hw2-llm2/runs/giqclgi7' target=\"_blank\">https://wandb.ai/kaimao-columbia-university/hpml-hw2-llm2/runs/giqclgi7</a><br> View project at: <a href='https://wandb.ai/kaimao-columbia-university/hpml-hw2-llm2' target=\"_blank\">https://wandb.ai/kaimao-columbia-university/hpml-hw2-llm2</a><br>Synced 5 W&B file(s), 0 media file(s), 0 artifact file(s) and 0 other file(s)"
      ],
      "text/plain": [
       "<IPython.core.display.HTML object>"
      ]
     },
     "metadata": {},
     "output_type": "display_data"
    },
    {
     "data": {
      "text/html": [
       "Find logs at: <code>./wandb/run-20251023_030602-giqclgi7/logs</code>"
      ],
      "text/plain": [
       "<IPython.core.display.HTML object>"
      ]
     },
     "metadata": {},
     "output_type": "display_data"
    }
   ],
   "source": [
    "sweep_config = {\n",
    "    'method': 'grid',\n",
    "    'parameters': {\n",
    "        'num_workers': {'values': [0, 2, 4, 8]}\n",
    "    }\n",
    "}\n",
    "\n",
    "sweep_id = wandb.sweep(sweep_config, project=project_name)\n",
    "\n",
    "wandb.agent(sweep_id, function=train, count=4)"
   ]
  },
  {
   "cell_type": "code",
   "execution_count": 27,
   "id": "debd17bb-5c47-4596-85c8-9e8c8d3cd87b",
   "metadata": {},
   "outputs": [
    {
     "data": {
      "image/png": "[encoded data removed]",
      "text/plain": [
       "<Figure size 600x400 with 1 Axes>"
      ]
     },
     "metadata": {},
     "output_type": "display_data"
    }
   ],
   "source": [
    "plt.figure(figsize=(6, 4))\n",
    "\n",
    "num_workers = [0, 2, 4, 8]\n",
    "plt.plot(num_workers, avg_epoch_time_arr, label='Avg Epoch Time')\n",
    "plt.xlabel('Epoch')\n",
    "plt.ylabel('Avg Epoch Time (s)')\n",
    "plt.title('Figure F3')\n",
    "plt.legend()\n",
    "plt.show()"
   ]
  },
  {
   "cell_type": "code",
   "execution_count": 28,
   "id": "7519de0a-90d0-4061-9251-05710f92e6e6",
   "metadata": {},
   "outputs": [
    {
     "name": "stdout",
     "output_type": "stream",
     "text": [
      "[45.36399168968201, 43.75907554626465, 43.95289258956909, 43.81646919250488] [3.2410942554473876, 1.3053901672363282, 1.4349282741546632, 1.4158541679382324]\n"
     ]
    }
   ],
   "source": [
    "print(avg_epoch_time_arr, avg_data_time_arr)"
   ]
  },
  {
   "cell_type": "markdown",
   "id": "f9b708d1",
   "metadata": {},
   "source": [
    "# C4"
   ]
  },
  {
   "cell_type": "code",
   "execution_count": 7,
   "id": "b695c218",
   "metadata": {},
   "outputs": [
    {
     "data": {
      "text/html": [
       "Finishing previous runs because reinit is set to 'default'."
      ],
      "text/plain": [
       "<IPython.core.display.HTML object>"
      ]
     },
     "metadata": {},
     "output_type": "display_data"
    },
    {
     "data": {
      "text/html": [],
      "text/plain": [
       "<IPython.core.display.HTML object>"
      ]
     },
     "metadata": {},
     "output_type": "display_data"
    },
    {
     "data": {
      "text/html": [
       " View run <strong style=\"color:#cdcd00\">bs32_lr1e-4</strong> at: <a href='https://wandb.ai/kaimao-columbia-university/hpml-hw2-llm/runs/0fmkudof' target=\"_blank\">https://wandb.ai/kaimao-columbia-university/hpml-hw2-llm/runs/0fmkudof</a><br> View project at: <a href='https://wandb.ai/kaimao-columbia-university/hpml-hw2-llm' target=\"_blank\">https://wandb.ai/kaimao-columbia-university/hpml-hw2-llm</a><br>Synced 5 W&B file(s), 0 media file(s), 0 artifact file(s) and 0 other file(s)"
      ],
      "text/plain": [
       "<IPython.core.display.HTML object>"
      ]
     },
     "metadata": {},
     "output_type": "display_data"
    },
    {
     "data": {
      "text/html": [
       "Find logs at: <code>./wandb/run-20251023_060930-0fmkudof/logs</code>"
      ],
      "text/plain": [
       "<IPython.core.display.HTML object>"
      ]
     },
     "metadata": {},
     "output_type": "display_data"
    },
    {
     "data": {
      "text/html": [],
      "text/plain": [
       "<IPython.core.display.HTML object>"
      ]
     },
     "metadata": {},
     "output_type": "display_data"
    },
    {
     "data": {
      "text/html": [
       "Tracking run with wandb version 0.22.2"
      ],
      "text/plain": [
       "<IPython.core.display.HTML object>"
      ]
     },
     "metadata": {},
     "output_type": "display_data"
    },
    {
     "data": {
      "text/html": [
       "Run data is saved locally in <code>/workspace/wandb/run-20251023_061156-lda9fw7a</code>"
      ],
      "text/plain": [
       "<IPython.core.display.HTML object>"
      ]
     },
     "metadata": {},
     "output_type": "display_data"
    },
    {
     "data": {
      "text/html": [
       "Syncing run <strong><a href='https://wandb.ai/kaimao-columbia-university/hpml-hw2-llm/runs/lda9fw7a' target=\"_blank\">bs32_lr1e-4</a></strong> to <a href='https://wandb.ai/kaimao-columbia-university/hpml-hw2-llm' target=\"_blank\">Weights & Biases</a> (<a href='https://wandb.me/developer-guide' target=\"_blank\">docs</a>)<br>"
      ],
      "text/plain": [
       "<IPython.core.display.HTML object>"
      ]
     },
     "metadata": {},
     "output_type": "display_data"
    },
    {
     "data": {
      "text/html": [
       " View project at <a href='https://wandb.ai/kaimao-columbia-university/hpml-hw2-llm' target=\"_blank\">https://wandb.ai/kaimao-columbia-university/hpml-hw2-llm</a>"
      ],
      "text/plain": [
       "<IPython.core.display.HTML object>"
      ]
     },
     "metadata": {},
     "output_type": "display_data"
    },
    {
     "data": {
      "text/html": [
       " View run at <a href='https://wandb.ai/kaimao-columbia-university/hpml-hw2-llm/runs/lda9fw7a' target=\"_blank\">https://wandb.ai/kaimao-columbia-university/hpml-hw2-llm/runs/lda9fw7a</a>"
      ],
      "text/plain": [
       "<IPython.core.display.HTML object>"
      ]
     },
     "metadata": {},
     "output_type": "display_data"
    },
    {
     "name": "stderr",
     "output_type": "stream",
     "text": [
      "Some weights of DistilBertForSequenceClassification were not initialized from the model checkpoint at distilbert-base-uncased and are newly initialized: ['classifier.bias', 'classifier.weight', 'pre_classifier.bias', 'pre_classifier.weight']\n",
      "You should probably TRAIN this model on a down-stream task to be able to use it for predictions and inference.\n"
     ]
    },
    {
     "name": "stdout",
     "output_type": "stream",
     "text": [
      "config num:1\n"
     ]
    },
    {
     "name": "stderr",
     "output_type": "stream",
     "text": [
      "100%|██████████| 782/782 [00:47<00:00, 16.48it/s]\n"
     ]
    },
    {
     "name": "stdout",
     "output_type": "stream",
     "text": [
      "Epoch 1/1, Loss: 0.3067, Train Accuracy: 0.8695, Test Accuracy: 0.9015\n",
      "\n",
      "===== CPU Profiling =====\n",
      "-------------------------------------------------------  ------------  ------------  ------------  ------------  ------------  ------------  ------------  ------------  ------------  ------------  ------------  ------------  ------------  ------------  \n",
      "                                                   Name    Self CPU %      Self CPU   CPU total %     CPU total  CPU time avg     Self CUDA   Self CUDA %    CUDA total  CUDA time avg       CPU Mem  Self CPU Mem      CUDA Mem  Self CUDA Mem    # of Calls  \n",
      "-------------------------------------------------------  ------------  ------------  ------------  ------------  ------------  ------------  ------------  ------------  ------------  ------------  ------------  ------------  ------------  ------------  \n",
      "                                  cudaStreamSynchronize        28.90%       22.115s        28.90%       22.115s       2.357ms       0.000us         0.00%       0.000us       0.000us           0 B           0 B           0 B           0 B          9384  \n",
      "                                               backward        21.53%       16.479s        21.75%       16.647s      21.287ms       0.000us         0.00%     591.550us       0.756us     -73.31 KB     -73.28 KB   -1638.43 GB   -1638.27 GB           782  \n",
      "enumerate(DataLoader)#_MultiProcessingDataLoaderIter...         7.29%        5.579s         7.34%        5.617s       3.587ms       0.000us         0.00%       0.000us       0.000us     195.69 MB     195.50 MB           0 B           0 B          1566  \n",
      "                                                forward         4.79%        3.669s        12.61%        9.647s      12.336ms       0.000us         0.00%       15.294s      19.557ms      73.31 KB      -3.05 KB    1836.28 GB    -381.56 GB           782  \n",
      "                              Optimizer.step#AdamW.step         4.69%        3.586s         7.71%        5.903s       7.548ms       0.000us         0.00%        2.779s       3.554ms         416 B      -3.05 KB     510.83 MB    -195.05 GB           782  \n",
      "                                       cudaLaunchKernel         2.76%        2.116s         2.80%        2.145s       8.673us       0.000us         0.00%     798.937us       0.003us           0 B           0 B           0 B           0 B        247301  \n",
      "                                            aten::addmm         2.66%        2.035s         3.68%        2.814s      47.355us       26.199s        46.90%       26.201s     440.854us           0 B           0 B    1977.68 GB    1977.68 GB         59432  \n",
      "                                               aten::mm         2.58%        1.973s         3.70%        2.829s      47.609us       16.342s        29.25%       16.342s     274.969us           0 B           0 B    1117.21 GB    1117.21 GB         59432  \n",
      "                                        aten::transpose         1.30%     991.595ms         1.78%        1.359s       4.324us       0.000us         0.00%       0.000us       0.000us           0 B           0 B           0 B           0 B        314364  \n",
      "                                              aten::sum         1.29%     985.262ms         1.93%        1.476s      40.154us     687.082ms         1.23%     688.771ms      18.740us           0 B           0 B       2.41 GB       2.41 GB         36754  \n",
      "                                         cuLaunchKernel         1.23%     939.936ms         1.23%     943.680ms       7.992us       0.000us         0.00%     463.166us       0.004us           0 B           0 B           0 B           0 B        118077  \n",
      "                                            aten::empty         1.17%     896.615ms         1.17%     896.615ms       5.209us       0.000us         0.00%       0.000us       0.000us     469.87 KB     469.87 KB    1646.27 GB    1646.27 GB        172139  \n",
      "                                        cudaMemsetAsync         0.98%     750.617ms         0.98%     750.617ms       5.189us       0.000us         0.00%       0.000us       0.000us           0 B           0 B           0 B           0 B        144667  \n",
      "    autograd::engine::evaluate_function: AddmmBackward0         0.92%     701.966ms         7.92%        6.064s     204.069us       0.000us         0.00%       16.950s     570.402us           0 B           0 B    -439.20 GB   -1556.54 GB         29716  \n",
      "                                             aten::view         0.88%     670.713ms         0.88%     670.713ms       2.171us       0.000us         0.00%       0.000us       0.000us           0 B           0 B           0 B           0 B        308890  \n",
      "                                    aten::empty_strided         0.81%     622.397ms         0.81%     622.397ms       5.928us       0.000us         0.00%       0.000us       0.000us           0 B           0 B     372.71 GB     372.71 GB        104996  \n",
      "     autograd::engine::evaluate_function: ViewBackward0         0.76%     581.743ms         2.12%        1.623s      21.394us       0.000us         0.00%     360.275ms       4.750us           0 B           0 B    -439.45 GB    -439.45 GB         75854  \n",
      "                                                aten::t         0.75%     573.036ms         1.77%        1.357s       7.609us       0.000us         0.00%       0.000us       0.000us           0 B           0 B           0 B           0 B        178296  \n",
      "                                         AddmmBackward0         0.65%     495.818ms         5.32%        4.070s     136.957us       0.000us         0.00%       16.342s     549.938us           0 B           0 B    1117.21 GB           0 B         29716  \n",
      "                                           aten::linear         0.64%     489.399ms         5.33%        4.080s      68.647us       0.000us         0.00%       26.201s     440.854us           0 B           0 B    1977.68 GB     -25.00 MB         59432  \n",
      "-------------------------------------------------------  ------------  ------------  ------------  ------------  ------------  ------------  ------------  ------------  ------------  ------------  ------------  ------------  ------------  ------------  \n",
      "Self CPU time total: 76.528s\n",
      "Self CUDA time total: 55.861s\n",
      "\n",
      "\n",
      "===== GPU Profiling =====\n",
      "-------------------------------------------------------  ------------  ------------  ------------  ------------  ------------  ------------  ------------  ------------  ------------  ------------  ------------  ------------  ------------  ------------  \n",
      "                                                   Name    Self CPU %      Self CPU   CPU total %     CPU total  CPU time avg     Self CUDA   Self CUDA %    CUDA total  CUDA time avg       CPU Mem  Self CPU Mem      CUDA Mem  Self CUDA Mem    # of Calls  \n",
      "-------------------------------------------------------  ------------  ------------  ------------  ------------  ------------  ------------  ------------  ------------  ------------  ------------  ------------  ------------  ------------  ------------  \n",
      "                                            aten::addmm         2.66%        2.035s         3.68%        2.814s      47.355us       26.199s        46.90%       26.201s     440.854us           0 B           0 B    1977.68 GB    1977.68 GB         59432  \n",
      "void cutlass::Kernel2<cutlass_80_simt_sgemm_256x128_...         0.00%       0.000us         0.00%       0.000us       0.000us       19.288s        34.53%       19.288s     411.646us           0 B           0 B           0 B           0 B         46856  \n",
      "                                                forward         0.00%       0.000us         0.00%       0.000us       0.000us       16.371s        29.31%       16.371s      20.935ms           0 B           0 B           0 B           0 B           782  \n",
      "                                               aten::mm         2.58%        1.973s         3.70%        2.829s      47.609us       16.342s        29.25%       16.342s     274.969us           0 B           0 B    1117.21 GB    1117.21 GB         59432  \n",
      "void cutlass::Kernel2<cutlass_80_simt_sgemm_256x128_...         0.00%       0.000us         0.00%       0.000us       0.000us        8.550s        15.31%        8.550s     303.701us           0 B           0 B           0 B           0 B         28152  \n",
      "void cutlass::Kernel2<cutlass_80_simt_sgemm_128x256_...         0.00%       0.000us         0.00%       0.000us       0.000us        6.854s        12.27%        6.854s     725.749us           0 B           0 B           0 B           0 B          9444  \n",
      "void cutlass::Kernel2<cutlass_80_simt_sgemm_128x128_...         0.00%       0.000us         0.00%       0.000us       0.000us        4.933s         8.83%        4.933s     525.664us           0 B           0 B           0 B           0 B          9384  \n",
      "                    aten::_efficient_attention_backward         0.34%     258.509ms         1.37%        1.050s     223.832us        3.802s         6.81%        3.979s     848.058us           0 B           0 B     329.59 GB    -223.27 GB          4692  \n",
      "fmha_cutlassB_f32_aligned_64x64_k64_dropout_sm80(PyT...         0.00%       0.000us         0.00%       0.000us       0.000us        3.802s         6.81%        3.802s     810.373us           0 B           0 B           0 B           0 B          4692  \n",
      "                              Optimizer.step#AdamW.step         0.00%       0.000us         0.00%       0.000us       0.000us        2.817s         5.04%        2.817s       3.602ms           0 B           0 B           0 B           0 B           782  \n",
      "void cutlass::Kernel2<cutlass_80_simt_sgemm_128x64_8...         0.00%       0.000us         0.00%       0.000us       0.000us        2.804s         5.02%        2.804s     149.427us           0 B           0 B           0 B           0 B         18768  \n",
      "                     aten::_efficient_attention_forward         0.23%     179.541ms         0.58%     441.900ms      47.091us        2.332s         4.17%        2.332s     248.496us     146.62 KB       3.66 KB     221.44 GB           0 B          9384  \n",
      "fmha_cutlassF_f32_aligned_64x64_rf_sm80(PyTorchMemEf...         0.00%       0.000us         0.00%       0.000us       0.000us        2.332s         4.17%        2.332s     248.523us           0 B           0 B           0 B           0 B          9383  \n",
      "                                             aten::gelu         0.19%     144.642ms         0.28%     216.680ms      23.090us        1.009s         1.81%        1.009s     107.507us           0 B           0 B     878.91 GB     878.91 GB          9384  \n",
      "void at::native::vectorized_elementwise_kernel<4, at...         0.00%       0.000us         0.00%       0.000us       0.000us        1.009s         1.81%        1.009s     107.495us           0 B           0 B           0 B           0 B          9384  \n",
      "                                    aten::gelu_backward         0.11%      83.091ms         0.18%     137.218ms      29.245us     727.013ms         1.30%     727.013ms     154.947us           0 B           0 B     439.45 GB     439.45 GB          4692  \n",
      "void at::native::vectorized_elementwise_kernel<4, at...         0.00%       0.000us         0.00%       0.000us       0.000us     727.013ms         1.30%     727.013ms     154.947us           0 B           0 B           0 B           0 B          4692  \n",
      "void at::native::vectorized_elementwise_kernel<4, at...         0.00%       0.000us         0.00%       0.000us       0.000us     701.805ms         1.26%     701.805ms      18.697us           0 B           0 B           0 B           0 B         37535  \n",
      "                                              aten::sum         1.29%     985.262ms         1.93%        1.476s      40.154us     687.082ms         1.23%     688.771ms      18.740us           0 B           0 B       2.41 GB       2.41 GB         36754  \n",
      "void at::native::reduce_kernel<128, 4, at::native::R...         0.00%       0.000us         0.00%       0.000us       0.000us     590.090ms         1.06%     590.090ms      19.858us           0 B           0 B           0 B           0 B         29716  \n",
      "-------------------------------------------------------  ------------  ------------  ------------  ------------  ------------  ------------  ------------  ------------  ------------  ------------  ------------  ------------  ------------  ------------  \n",
      "Self CPU time total: 76.528s\n",
      "Self CUDA time total: 55.861s\n",
      "\n"
     ]
    },
    {
     "data": {
      "text/html": [
       "Finishing previous runs because reinit is set to 'default'."
      ],
      "text/plain": [
       "<IPython.core.display.HTML object>"
      ]
     },
     "metadata": {},
     "output_type": "display_data"
    },
    {
     "name": "stderr",
     "output_type": "stream",
     "text": [
      "\u001b[34m\u001b[1mwandb\u001b[0m: \u001b[32m\u001b[41mERROR\u001b[0m The nbformat package was not found. It is required to save notebook history.\n"
     ]
    },
    {
     "data": {
      "text/html": [],
      "text/plain": [
       "<IPython.core.display.HTML object>"
      ]
     },
     "metadata": {},
     "output_type": "display_data"
    },
    {
     "data": {
      "text/html": [
       " View run <strong style=\"color:#cdcd00\">bs32_lr1e-4</strong> at: <a href='https://wandb.ai/kaimao-columbia-university/hpml-hw2-llm/runs/lda9fw7a' target=\"_blank\">https://wandb.ai/kaimao-columbia-university/hpml-hw2-llm/runs/lda9fw7a</a><br> View project at: <a href='https://wandb.ai/kaimao-columbia-university/hpml-hw2-llm' target=\"_blank\">https://wandb.ai/kaimao-columbia-university/hpml-hw2-llm</a><br>Synced 5 W&B file(s), 0 media file(s), 0 artifact file(s) and 0 other file(s)"
      ],
      "text/plain": [
       "<IPython.core.display.HTML object>"
      ]
     },
     "metadata": {},
     "output_type": "display_data"
    },
    {
     "data": {
      "text/html": [
       "Find logs at: <code>./wandb/run-20251023_061156-lda9fw7a/logs</code>"
      ],
      "text/plain": [
       "<IPython.core.display.HTML object>"
      ]
     },
     "metadata": {},
     "output_type": "display_data"
    },
    {
     "data": {
      "text/html": [],
      "text/plain": [
       "<IPython.core.display.HTML object>"
      ]
     },
     "metadata": {},
     "output_type": "display_data"
    },
    {
     "data": {
      "text/html": [
       "Tracking run with wandb version 0.22.2"
      ],
      "text/plain": [
       "<IPython.core.display.HTML object>"
      ]
     },
     "metadata": {},
     "output_type": "display_data"
    },
    {
     "data": {
      "text/html": [
       "Run data is saved locally in <code>/workspace/wandb/run-20251023_062036-bdm9paj4</code>"
      ],
      "text/plain": [
       "<IPython.core.display.HTML object>"
      ]
     },
     "metadata": {},
     "output_type": "display_data"
    },
    {
     "data": {
      "text/html": [
       "Syncing run <strong><a href='https://wandb.ai/kaimao-columbia-university/hpml-hw2-llm/runs/bdm9paj4' target=\"_blank\">bs32_lr1e-4</a></strong> to <a href='https://wandb.ai/kaimao-columbia-university/hpml-hw2-llm' target=\"_blank\">Weights & Biases</a> (<a href='https://wandb.me/developer-guide' target=\"_blank\">docs</a>)<br>"
      ],
      "text/plain": [
       "<IPython.core.display.HTML object>"
      ]
     },
     "metadata": {},
     "output_type": "display_data"
    },
    {
     "data": {
      "text/html": [
       " View project at <a href='https://wandb.ai/kaimao-columbia-university/hpml-hw2-llm' target=\"_blank\">https://wandb.ai/kaimao-columbia-university/hpml-hw2-llm</a>"
      ],
      "text/plain": [
       "<IPython.core.display.HTML object>"
      ]
     },
     "metadata": {},
     "output_type": "display_data"
    },
    {
     "data": {
      "text/html": [
       " View run at <a href='https://wandb.ai/kaimao-columbia-university/hpml-hw2-llm/runs/bdm9paj4' target=\"_blank\">https://wandb.ai/kaimao-columbia-university/hpml-hw2-llm/runs/bdm9paj4</a>"
      ],
      "text/plain": [
       "<IPython.core.display.HTML object>"
      ]
     },
     "metadata": {},
     "output_type": "display_data"
    },
    {
     "name": "stderr",
     "output_type": "stream",
     "text": [
      "Some weights of DistilBertForSequenceClassification were not initialized from the model checkpoint at distilbert-base-uncased and are newly initialized: ['classifier.bias', 'classifier.weight', 'pre_classifier.bias', 'pre_classifier.weight']\n",
      "You should probably TRAIN this model on a down-stream task to be able to use it for predictions and inference.\n"
     ]
    },
    {
     "name": "stdout",
     "output_type": "stream",
     "text": [
      "config num:2\n"
     ]
    },
    {
     "name": "stderr",
     "output_type": "stream",
     "text": [
      "100%|██████████| 782/782 [00:49<00:00, 15.93it/s]\n"
     ]
    },
    {
     "name": "stdout",
     "output_type": "stream",
     "text": [
      "Epoch 1/1, Loss: 0.3149, Train Accuracy: 0.8660, Test Accuracy: 0.8974\n",
      "\n",
      "===== CPU Profiling =====\n",
      "-------------------------------------------------------  ------------  ------------  ------------  ------------  ------------  ------------  ------------  ------------  ------------  ------------  ------------  ------------  ------------  ------------  \n",
      "                                                   Name    Self CPU %      Self CPU   CPU total %     CPU total  CPU time avg     Self CUDA   Self CUDA %    CUDA total  CUDA time avg       CPU Mem  Self CPU Mem      CUDA Mem  Self CUDA Mem    # of Calls  \n",
      "-------------------------------------------------------  ------------  ------------  ------------  ------------  ------------  ------------  ------------  ------------  ------------  ------------  ------------  ------------  ------------  ------------  \n",
      "                                  cudaStreamSynchronize        32.49%       25.035s        32.49%       25.035s       2.668ms       0.000us         0.00%       0.000us       0.000us           0 B           0 B           0 B           0 B          9384  \n",
      "                                               backward        21.00%       16.181s        21.19%       16.330s      20.882ms       0.000us         0.00%     599.843us       0.767us     -73.31 KB     -73.30 KB   -1639.57 GB   -1639.41 GB           782  \n",
      "enumerate(DataLoader)#_MultiProcessingDataLoaderIter...         8.17%        6.297s         8.22%        6.332s       4.043ms       0.000us         0.00%       0.000us       0.000us     195.69 MB     195.50 MB           0 B           0 B          1566  \n",
      "                              Optimizer.step#AdamW.step         4.31%        3.319s         6.88%        5.301s       6.779ms       0.000us         0.00%        2.782s       3.557ms         416 B      -3.05 KB     511.41 MB    -194.90 GB           782  \n",
      "                                                forward         3.87%        2.981s        10.12%        7.795s       9.968ms       0.000us         0.00%       15.288s      19.550ms      73.31 KB      -3.05 KB    1835.84 GB    -382.18 GB           782  \n",
      "                                               aten::mm         2.54%        1.955s         3.64%        2.808s      47.240us       16.310s        29.21%       16.310s     274.424us           0 B           0 B    1116.08 GB    1116.08 GB         59432  \n",
      "                                       cudaLaunchKernel         2.52%        1.945s         2.57%        1.981s       8.012us       0.000us         0.00%     801.697us       0.003us           0 B           0 B           0 B           0 B        247301  \n",
      "                                            aten::addmm         2.23%        1.715s         3.08%        2.377s      39.989us       26.220s        46.96%       26.223s     441.220us           0 B           0 B    1977.68 GB    1977.68 GB         59432  \n",
      "                                              aten::sum         1.26%     969.475ms         1.88%        1.450s      39.447us     686.954ms         1.23%     688.640ms      18.736us           0 B           0 B       2.41 GB       2.41 GB         36754  \n",
      "                                        aten::transpose         1.22%     938.797ms         1.66%        1.278s       4.065us       0.000us         0.00%       0.000us       0.000us           0 B           0 B           0 B           0 B        314364  \n",
      "                                         cuLaunchKernel         1.12%     863.095ms         1.13%     868.008ms       7.351us       0.000us         0.00%     463.392us       0.004us           0 B           0 B           0 B           0 B        118077  \n",
      "                                            aten::empty         1.07%     826.792ms         1.07%     826.792ms       4.803us       0.000us         0.00%       0.000us       0.000us     471.18 KB     471.18 KB    1645.82 GB    1645.82 GB        172139  \n",
      "                                        cudaMemsetAsync         0.92%     707.897ms         0.92%     707.897ms       4.893us       0.000us         0.00%       0.000us       0.000us           0 B           0 B           0 B           0 B        144667  \n",
      "    autograd::engine::evaluate_function: AddmmBackward0         0.89%     682.728ms         7.76%        5.982s     201.321us       0.000us         0.00%       16.918s     569.321us           0 B           0 B    -440.34 GB   -1556.54 GB         29716  \n",
      "                                             aten::view         0.77%     591.821ms         0.77%     591.821ms       1.916us       0.000us         0.00%       0.000us       0.000us           0 B           0 B           0 B           0 B        308890  \n",
      "     autograd::engine::evaluate_function: ViewBackward0         0.74%     571.254ms         2.06%        1.588s      20.935us       0.000us         0.00%     359.692ms       4.742us           0 B           0 B    -439.45 GB    -439.45 GB         75854  \n",
      "                                                aten::t         0.72%     551.090ms         1.68%        1.297s       7.276us       0.000us         0.00%       0.000us       0.000us           0 B           0 B           0 B           0 B        178296  \n",
      "                                    aten::empty_strided         0.65%     497.416ms         0.65%     497.416ms       4.737us       0.000us         0.00%       0.000us       0.000us           0 B           0 B     372.07 GB     372.07 GB        104996  \n",
      "                                         AddmmBackward0         0.63%     486.042ms         5.23%        4.027s     135.510us       0.000us         0.00%       16.310s     548.848us           0 B           0 B    1116.08 GB           0 B         29716  \n",
      "autograd::engine::evaluate_function: torch::autograd...         0.60%     460.694ms         1.46%        1.123s      13.805us       0.000us         0.00%       0.000us       0.000us           0 B           0 B           0 B           0 B         81328  \n",
      "-------------------------------------------------------  ------------  ------------  ------------  ------------  ------------  ------------  ------------  ------------  ------------  ------------  ------------  ------------  ------------  ------------  \n",
      "Self CPU time total: 77.057s\n",
      "Self CUDA time total: 55.841s\n",
      "\n",
      "\n",
      "===== GPU Profiling =====\n",
      "-------------------------------------------------------  ------------  ------------  ------------  ------------  ------------  ------------  ------------  ------------  ------------  ------------  ------------  ------------  ------------  ------------  \n",
      "                                                   Name    Self CPU %      Self CPU   CPU total %     CPU total  CPU time avg     Self CUDA   Self CUDA %    CUDA total  CUDA time avg       CPU Mem  Self CPU Mem      CUDA Mem  Self CUDA Mem    # of Calls  \n",
      "-------------------------------------------------------  ------------  ------------  ------------  ------------  ------------  ------------  ------------  ------------  ------------  ------------  ------------  ------------  ------------  ------------  \n",
      "                                            aten::addmm         2.23%        1.715s         3.08%        2.377s      39.989us       26.220s        46.96%       26.223s     441.220us           0 B           0 B    1977.68 GB    1977.68 GB         59432  \n",
      "void cutlass::Kernel2<cutlass_80_simt_sgemm_256x128_...         0.00%       0.000us         0.00%       0.000us       0.000us       19.316s        34.59%       19.316s     412.362us           0 B           0 B           0 B           0 B         46842  \n",
      "                                               aten::mm         2.54%        1.955s         3.64%        2.808s      47.240us       16.310s        29.21%       16.310s     274.424us           0 B           0 B    1116.08 GB    1116.08 GB         59432  \n",
      "                                                forward         0.00%       0.000us         0.00%       0.000us       0.000us       16.197s        29.01%       16.197s      20.712ms           0 B           0 B           0 B           0 B           782  \n",
      "void cutlass::Kernel2<cutlass_80_simt_sgemm_256x128_...         0.00%       0.000us         0.00%       0.000us       0.000us        8.539s        15.29%        8.539s     303.305us           0 B           0 B           0 B           0 B         28152  \n",
      "void cutlass::Kernel2<cutlass_80_simt_sgemm_128x256_...         0.00%       0.000us         0.00%       0.000us       0.000us        6.847s        12.26%        6.847s     725.189us           0 B           0 B           0 B           0 B          9441  \n",
      "void cutlass::Kernel2<cutlass_80_simt_sgemm_128x128_...         0.00%       0.000us         0.00%       0.000us       0.000us        4.917s         8.80%        4.917s     523.942us           0 B           0 B           0 B           0 B          9384  \n",
      "                    aten::_efficient_attention_backward         0.33%     253.535ms         1.34%        1.036s     220.874us        3.797s         6.80%        3.973s     846.793us           0 B           0 B     329.59 GB    -223.27 GB          4692  \n",
      "fmha_cutlassB_f32_aligned_64x64_k64_dropout_sm80(PyT...         0.00%       0.000us         0.00%       0.000us       0.000us        3.797s         6.80%        3.797s     809.313us           0 B           0 B           0 B           0 B          4692  \n",
      "                              Optimizer.step#AdamW.step         0.00%       0.000us         0.00%       0.000us       0.000us        3.135s         5.61%        3.135s       4.009ms           0 B           0 B           0 B           0 B           782  \n",
      "void cutlass::Kernel2<cutlass_80_simt_sgemm_128x64_8...         0.00%       0.000us         0.00%       0.000us       0.000us        2.798s         5.01%        2.798s     149.095us           0 B           0 B           0 B           0 B         18768  \n",
      "                     aten::_efficient_attention_forward         0.20%     153.980ms         0.49%     379.937ms      40.488us        2.329s         4.17%        2.329s     248.199us     146.62 KB       2.45 KB     221.44 GB           0 B          9384  \n",
      "fmha_cutlassF_f32_aligned_64x64_rf_sm80(PyTorchMemEf...         0.00%       0.000us         0.00%       0.000us       0.000us        2.329s         4.17%        2.329s     248.279us           0 B           0 B           0 B           0 B          9381  \n",
      "                                             aten::gelu         0.16%     121.280ms         0.24%     182.426ms      19.440us        1.010s         1.81%        1.010s     107.624us           0 B           0 B     878.91 GB     878.91 GB          9384  \n",
      "void at::native::vectorized_elementwise_kernel<4, at...         0.00%       0.000us         0.00%       0.000us       0.000us        1.010s         1.81%        1.010s     107.647us           0 B           0 B           0 B           0 B          9381  \n",
      "                                    aten::gelu_backward         0.11%      81.089ms         0.17%     134.253ms      28.613us     726.345ms         1.30%     726.345ms     154.805us           0 B           0 B     439.45 GB     439.45 GB          4692  \n",
      "void at::native::vectorized_elementwise_kernel<4, at...         0.00%       0.000us         0.00%       0.000us       0.000us     726.345ms         1.30%     726.345ms     154.805us           0 B           0 B           0 B           0 B          4692  \n",
      "void at::native::vectorized_elementwise_kernel<4, at...         0.00%       0.000us         0.00%       0.000us       0.000us     700.174ms         1.25%     700.174ms      18.656us           0 B           0 B           0 B           0 B         37530  \n",
      "                                              aten::sum         1.26%     969.475ms         1.88%        1.450s      39.447us     686.954ms         1.23%     688.640ms      18.736us           0 B           0 B       2.41 GB       2.41 GB         36754  \n",
      "void at::native::reduce_kernel<128, 4, at::native::R...         0.00%       0.000us         0.00%       0.000us       0.000us     589.879ms         1.06%     589.879ms      19.851us           0 B           0 B           0 B           0 B         29716  \n",
      "-------------------------------------------------------  ------------  ------------  ------------  ------------  ------------  ------------  ------------  ------------  ------------  ------------  ------------  ------------  ------------  ------------  \n",
      "Self CPU time total: 77.057s\n",
      "Self CUDA time total: 55.841s\n",
      "\n"
     ]
    }
   ],
   "source": [
    "import torch.profiler as profiler\n",
    "\n",
    "for num_workers in [1,2]:\n",
    "    wandb.init(project=\"hpml-hw2-llm3\", name=f\"bs32_lr1e-4num_works{num_workers}\", group = \"PyTorch Profiler\")\n",
    "\n",
    "    wandb.config.update({\n",
    "        \"model_name\": \"distilbert-base-uncased\",\n",
    "        \"max_len\": 256,\n",
    "        \"batch_size\": 32,\n",
    "        \"lr\": 1e-4,\n",
    "        \"optimizer\": \"AdamW\",\n",
    "        \"num_workers\": num_workers,\n",
    "        \"epochs\": 1,\n",
    "        \"compile_mode\": False\n",
    "    })\n",
    "    config = wandb.config\n",
    "    \n",
    "    device = torch.device(\"cuda\" if torch.cuda.is_available() else \"cpu\")\n",
    "    model_name = \"distilbert-base-uncased\"\n",
    "    model = DistilBertForSequenceClassification.from_pretrained(model_name, num_labels=2)\n",
    "    model.to(device)\n",
    "    \n",
    "    optimizer = AdamW(model.parameters(), lr=config.lr)\n",
    "    \n",
    "    train_loader = DataLoader(tokenized[\"train\"], batch_size=config.batch_size, shuffle=True, collate_fn=data_collator, num_workers=config.num_workers)\n",
    "    test_loader = DataLoader(tokenized[\"test\"], batch_size=config.batch_size, collate_fn=data_collator, num_workers=config.num_workers)\n",
    "    print(f\"config num:{config.num_workers}\")\n",
    "    \n",
    "    train_loss = []\n",
    "    train_accuracy = []\n",
    "    test_accuracy = []\n",
    "    \n",
    "    with profiler.profile(\n",
    "        activities=[profiler.ProfilerActivity.CPU, profiler.ProfilerActivity.CUDA],\n",
    "        # on_trace_ready=torch.profiler.tensorboard_trace_handler(\"./profiler_logs\"),\n",
    "        record_shapes=True,\n",
    "        profile_memory=True,\n",
    "        with_stack=True\n",
    "    ) as prof:\n",
    "        for epoch in range(config.epochs):\n",
    "            model.train()\n",
    "            total_loss = 0\n",
    "            total_correct = 0\n",
    "            total_samples = 0\n",
    "            for batch in tqdm(train_loader):\n",
    "                optimizer.zero_grad()\n",
    "    \n",
    "                with profiler.record_function(\"data_loading\"):\n",
    "                    inputs = {\n",
    "                        \"input_ids\": batch[\"input_ids\"].to(device),\n",
    "                        \"attention_mask\": batch[\"attention_mask\"].to(device),\n",
    "                        \"labels\": batch[\"labels\"].to(device),\n",
    "                    }\n",
    "    \n",
    "                with profiler.record_function(\"forward\"):\n",
    "                    outputs = model(**inputs)\n",
    "    \n",
    "                with profiler.record_function(\"backward\"):\n",
    "                    loss = outputs.loss\n",
    "                    loss.backward()\n",
    "    \n",
    "                with profiler.record_function(\"optimizer\"):\n",
    "                    optimizer.step()\n",
    "    \n",
    "                logits = outputs.logits\n",
    "                preds = torch.argmax(logits, dim = 1)\n",
    "                labels = batch[\"labels\"].to(device)\n",
    "                correct = (preds == labels).sum().item()\n",
    "                total_correct += correct\n",
    "                total_samples += len(labels)\n",
    "                total_loss += loss.item()\n",
    "    \n",
    "            avg_loss = total_loss / len(train_loader)\n",
    "            avg_accuracy = total_correct / total_samples\n",
    "            train_loss.append(avg_loss)\n",
    "            train_accuracy.append(avg_accuracy)\n",
    "    \n",
    "            model.eval()\n",
    "            correct = 0\n",
    "            total = 0\n",
    "    \n",
    "            with torch.no_grad():\n",
    "                for batch in test_loader:\n",
    "                    inputs = {\n",
    "                        \"input_ids\": batch[\"input_ids\"].to(device),\n",
    "                        \"attention_mask\": batch[\"attention_mask\"].to(device),\n",
    "                    }\n",
    "                    labels = batch[\"labels\"].to(device)\n",
    "    \n",
    "                    logits = model(**inputs).logits\n",
    "                    preds = torch.argmax(logits, dim=1)\n",
    "    \n",
    "                    correct += (preds == labels).sum().item()\n",
    "                    total += labels.size(0)\n",
    "    \n",
    "            accuracy = correct / total\n",
    "            test_accuracy.append(accuracy)\n",
    "            print(f\"Epoch {epoch+1}/{config.epochs}, Loss: {avg_loss:.4f}, Train Accuracy: {avg_accuracy:.4f}, Test Accuracy: {accuracy:.4f}\")\n",
    "\n",
    "            prof.step()\n",
    "    print(\"\\n===== CPU Profiling =====\")\n",
    "\n",
    "    # print(prof.is_active(), prof.profiler)\n",
    "    torch.cuda.synchronize()\n",
    "    print(prof.key_averages().table(\n",
    "        sort_by=\"self_cpu_time_total\",  # or \"cpu_time_total\"\n",
    "        row_limit=20\n",
    "    ))\n",
    "    \n",
    "    # ✅ Print GPU-focused results\n",
    "    print(\"\\n===== GPU Profiling =====\")\n",
    "    print(prof.key_averages().table(\n",
    "        sort_by=\"self_cuda_time_total\",  # or \"cuda_time_total\"\n",
    "        row_limit=20\n",
    "    ))\n"
   ]
  },
  {
   "cell_type": "code",
   "execution_count": 9,
   "id": "a41f0e58",
   "metadata": {},
   "outputs": [
    {
     "ename": "AttributeError",
     "evalue": "'FunctionEventAvg' object has no attribute 'cuda_time_total'",
     "output_type": "error",
     "traceback": [
      "\u001b[31m---------------------------------------------------------------------------\u001b[39m",
      "\u001b[31mAttributeError\u001b[39m                            Traceback (most recent call last)",
      "\u001b[36mCell\u001b[39m\u001b[36m \u001b[39m\u001b[32mIn[9]\u001b[39m\u001b[32m, line 5\u001b[39m\n\u001b[32m      3\u001b[39m \u001b[38;5;28;01mfor\u001b[39;00m evt \u001b[38;5;129;01min\u001b[39;00m events:\n\u001b[32m      4\u001b[39m     \u001b[38;5;28;01mif\u001b[39;00m \u001b[33m\"\u001b[39m\u001b[33mdata_loading\u001b[39m\u001b[33m\"\u001b[39m \u001b[38;5;129;01min\u001b[39;00m evt.key \u001b[38;5;129;01mor\u001b[39;00m \u001b[33m\"\u001b[39m\u001b[33mforward\u001b[39m\u001b[33m\"\u001b[39m \u001b[38;5;129;01min\u001b[39;00m evt.key \u001b[38;5;129;01mor\u001b[39;00m \u001b[33m\"\u001b[39m\u001b[33mbackward\u001b[39m\u001b[33m\"\u001b[39m \u001b[38;5;129;01min\u001b[39;00m evt.key \u001b[38;5;129;01mor\u001b[39;00m \u001b[33m\"\u001b[39m\u001b[33moptimizer\u001b[39m\u001b[33m\"\u001b[39m \u001b[38;5;129;01min\u001b[39;00m evt.key:\n\u001b[32m----> \u001b[39m\u001b[32m5\u001b[39m         \u001b[38;5;28mprint\u001b[39m(\u001b[33mf\u001b[39m\u001b[33m\"\u001b[39m\u001b[38;5;132;01m{\u001b[39;00mevt.key\u001b[38;5;132;01m:\u001b[39;00m\u001b[33m20s\u001b[39m\u001b[38;5;132;01m}\u001b[39;00m\u001b[33m CPU: \u001b[39m\u001b[38;5;132;01m{\u001b[39;00mevt.cpu_time_total\u001b[38;5;132;01m:\u001b[39;00m\u001b[33m.2f\u001b[39m\u001b[38;5;132;01m}\u001b[39;00m\u001b[33m µs  CUDA: \u001b[39m\u001b[38;5;132;01m{\u001b[39;00m\u001b[43mevt\u001b[49m\u001b[43m.\u001b[49m\u001b[43mcuda_time_total\u001b[49m\u001b[38;5;132;01m:\u001b[39;00m\u001b[33m.2f\u001b[39m\u001b[38;5;132;01m}\u001b[39;00m\u001b[33m µs\u001b[39m\u001b[33m\"\u001b[39m)\n",
      "\u001b[31mAttributeError\u001b[39m: 'FunctionEventAvg' object has no attribute 'cuda_time_total'"
     ]
    }
   ],
   "source": [
    "Epoch 1/1, Loss: 0.3067, Train Accuracy: 0.8695, Test Accuracy: 0.9015\n",
    "\n",
    "===== CPU Profiling =====\n",
    "-------------------------------------------------------  ------------  ------------  ------------  ------------  ------------  ------------  ------------  ------------  ------------  ------------  ------------  ------------  ------------  ------------  \n",
    "                                                   Name    Self CPU %      Self CPU   CPU total %     CPU total  CPU time avg     Self CUDA   Self CUDA %    CUDA total  CUDA time avg       CPU Mem  Self CPU Mem      CUDA Mem  Self CUDA Mem    # of Calls  \n",
    "-------------------------------------------------------  ------------  ------------  ------------  ------------  ------------  ------------  ------------  ------------  ------------  ------------  ------------  ------------  ------------  ------------  \n",
    "                                  cudaStreamSynchronize        28.90%       22.115s        28.90%       22.115s       2.357ms       0.000us         0.00%       0.000us       0.000us           0 B           0 B           0 B           0 B          9384  \n",
    "                                               backward        21.53%       16.479s        21.75%       16.647s      21.287ms       0.000us         0.00%     591.550us       0.756us     -73.31 KB     -73.28 KB   -1638.43 GB   -1638.27 GB           782  \n",
    "enumerate(DataLoader)#_MultiProcessingDataLoaderIter...         7.29%        5.579s         7.34%        5.617s       3.587ms       0.000us         0.00%       0.000us       0.000us     195.69 MB     195.50 MB           0 B           0 B          1566  \n",
    "                                                forward         4.79%        3.669s        12.61%        9.647s      12.336ms       0.000us         0.00%       15.294s      19.557ms      73.31 KB      -3.05 KB    1836.28 GB    -381.56 GB           782  \n",
    "                              Optimizer.step#AdamW.step         4.69%        3.586s         7.71%        5.903s       7.548ms       0.000us         0.00%        2.779s       3.554ms         416 B      -3.05 KB     510.83 MB    -195.05 GB           782  \n",
    "                                       cudaLaunchKernel         2.76%        2.116s         2.80%        2.145s       8.673us       0.000us         0.00%     798.937us       0.003us           0 B           0 B           0 B           0 B        247301  \n",
    "                                            aten::addmm         2.66%        2.035s         3.68%        2.814s      47.355us       26.199s        46.90%       26.201s     440.854us           0 B           0 B    1977.68 GB    1977.68 GB         59432  \n",
    "                                               aten::mm         2.58%        1.973s         3.70%        2.829s      47.609us       16.342s        29.25%       16.342s     274.969us           0 B           0 B    1117.21 GB    1117.21 GB         59432  \n",
    "                                        aten::transpose         1.30%     991.595ms         1.78%        1.359s       4.324us       0.000us         0.00%       0.000us       0.000us           0 B           0 B           0 B           0 B        314364  \n",
    "                                              aten::sum         1.29%     985.262ms         1.93%        1.476s      40.154us     687.082ms         1.23%     688.771ms      18.740us           0 B           0 B       2.41 GB       2.41 GB         36754  \n",
    "                                         cuLaunchKernel         1.23%     939.936ms         1.23%     943.680ms       7.992us       0.000us         0.00%     463.166us       0.004us           0 B           0 B           0 B           0 B        118077  \n",
    "                                            aten::empty         1.17%     896.615ms         1.17%     896.615ms       5.209us       0.000us         0.00%       0.000us       0.000us     469.87 KB     469.87 KB    1646.27 GB    1646.27 GB        172139  \n",
    "                                        cudaMemsetAsync         0.98%     750.617ms         0.98%     750.617ms       5.189us       0.000us         0.00%       0.000us       0.000us           0 B           0 B           0 B           0 B        144667  \n",
    "    autograd::engine::evaluate_function: AddmmBackward0         0.92%     701.966ms         7.92%        6.064s     204.069us       0.000us         0.00%       16.950s     570.402us           0 B           0 B    -439.20 GB   -1556.54 GB         29716  \n",
    "                                             aten::view         0.88%     670.713ms         0.88%     670.713ms       2.171us       0.000us         0.00%       0.000us       0.000us           0 B           0 B           0 B           0 B        308890  \n",
    "                                    aten::empty_strided         0.81%     622.397ms         0.81%     622.397ms       5.928us       0.000us         0.00%       0.000us       0.000us           0 B           0 B     372.71 GB     372.71 GB        104996  \n",
    "     autograd::engine::evaluate_function: ViewBackward0         0.76%     581.743ms         2.12%        1.623s      21.394us       0.000us         0.00%     360.275ms       4.750us           0 B           0 B    -439.45 GB    -439.45 GB         75854  \n",
    "                                                aten::t         0.75%     573.036ms         1.77%        1.357s       7.609us       0.000us         0.00%       0.000us       0.000us           0 B           0 B           0 B           0 B        178296  \n",
    "                                         AddmmBackward0         0.65%     495.818ms         5.32%        4.070s     136.957us       0.000us         0.00%       16.342s     549.938us           0 B           0 B    1117.21 GB           0 B         29716  \n",
    "                                           aten::linear         0.64%     489.399ms         5.33%        4.080s      68.647us       0.000us         0.00%       26.201s     440.854us           0 B           0 B    1977.68 GB     -25.00 MB         59432  \n",
    "-------------------------------------------------------  ------------  ------------  ------------  ------------  ------------  ------------  ------------  ------------  ------------  ------------  ------------  ------------  ------------  ------------  \n",
    "Self CPU time total: 76.528s\n",
    "Self CUDA time total: 55.861s\n",
    "\n",
    "\n",
    "===== GPU Profiling =====\n",
    "-------------------------------------------------------  ------------  ------------  ------------  ------------  ------------  ------------  ------------  ------------  ------------  ------------  ------------  ------------  ------------  ------------  \n",
    "                                                   Name    Self CPU %      Self CPU   CPU total %     CPU total  CPU time avg     Self CUDA   Self CUDA %    CUDA total  CUDA time avg       CPU Mem  Self CPU Mem      CUDA Mem  Self CUDA Mem    # of Calls  \n",
    "-------------------------------------------------------  ------------  ------------  ------------  ------------  ------------  ------------  ------------  ------------  ------------  ------------  ------------  ------------  ------------  ------------  \n",
    "                                            aten::addmm         2.66%        2.035s         3.68%        2.814s      47.355us       26.199s        46.90%       26.201s     440.854us           0 B           0 B    1977.68 GB    1977.68 GB         59432  \n",
    "void cutlass::Kernel2<cutlass_80_simt_sgemm_256x128_...         0.00%       0.000us         0.00%       0.000us       0.000us       19.288s        34.53%       19.288s     411.646us           0 B           0 B           0 B           0 B         46856  \n",
    "                                                forward         0.00%       0.000us         0.00%       0.000us       0.000us       16.371s        29.31%       16.371s      20.935ms           0 B           0 B           0 B           0 B           782  \n",
    "                                               aten::mm         2.58%        1.973s         3.70%        2.829s      47.609us       16.342s        29.25%       16.342s     274.969us           0 B           0 B    1117.21 GB    1117.21 GB         59432  \n",
    "void cutlass::Kernel2<cutlass_80_simt_sgemm_256x128_...         0.00%       0.000us         0.00%       0.000us       0.000us        8.550s        15.31%        8.550s     303.701us           0 B           0 B           0 B           0 B         28152  \n",
    "void cutlass::Kernel2<cutlass_80_simt_sgemm_128x256_...         0.00%       0.000us         0.00%       0.000us       0.000us        6.854s        12.27%        6.854s     725.749us           0 B           0 B           0 B           0 B          9444  \n",
    "void cutlass::Kernel2<cutlass_80_simt_sgemm_128x128_...         0.00%       0.000us         0.00%       0.000us       0.000us        4.933s         8.83%        4.933s     525.664us           0 B           0 B           0 B           0 B          9384  \n",
    "                    aten::_efficient_attention_backward         0.34%     258.509ms         1.37%        1.050s     223.832us        3.802s         6.81%        3.979s     848.058us           0 B           0 B     329.59 GB    -223.27 GB          4692  \n",
    "fmha_cutlassB_f32_aligned_64x64_k64_dropout_sm80(PyT...         0.00%       0.000us         0.00%       0.000us       0.000us        3.802s         6.81%        3.802s     810.373us           0 B           0 B           0 B           0 B          4692  \n",
    "                              Optimizer.step#AdamW.step         0.00%       0.000us         0.00%       0.000us       0.000us        2.817s         5.04%        2.817s       3.602ms           0 B           0 B           0 B           0 B           782  \n",
    "void cutlass::Kernel2<cutlass_80_simt_sgemm_128x64_8...         0.00%       0.000us         0.00%       0.000us       0.000us        2.804s         5.02%        2.804s     149.427us           0 B           0 B           0 B           0 B         18768  \n",
    "                     aten::_efficient_attention_forward         0.23%     179.541ms         0.58%     441.900ms      47.091us        2.332s         4.17%        2.332s     248.496us     146.62 KB       3.66 KB     221.44 GB           0 B          9384  \n",
    "fmha_cutlassF_f32_aligned_64x64_rf_sm80(PyTorchMemEf...         0.00%       0.000us         0.00%       0.000us       0.000us        2.332s         4.17%        2.332s     248.523us           0 B           0 B           0 B           0 B          9383  \n",
    "                                             aten::gelu         0.19%     144.642ms         0.28%     216.680ms      23.090us        1.009s         1.81%        1.009s     107.507us           0 B           0 B     878.91 GB     878.91 GB          9384  \n",
    "void at::native::vectorized_elementwise_kernel<4, at...         0.00%       0.000us         0.00%       0.000us       0.000us        1.009s         1.81%        1.009s     107.495us           0 B           0 B           0 B           0 B          9384  \n",
    "                                    aten::gelu_backward         0.11%      83.091ms         0.18%     137.218ms      29.245us     727.013ms         1.30%     727.013ms     154.947us           0 B           0 B     439.45 GB     439.45 GB          4692  \n",
    "void at::native::vectorized_elementwise_kernel<4, at...         0.00%       0.000us         0.00%       0.000us       0.000us     727.013ms         1.30%     727.013ms     154.947us           0 B           0 B           0 B           0 B          4692  \n",
    "void at::native::vectorized_elementwise_kernel<4, at...         0.00%       0.000us         0.00%       0.000us       0.000us     701.805ms         1.26%     701.805ms      18.697us           0 B           0 B           0 B           0 B         37535  \n",
    "                                              aten::sum         1.29%     985.262ms         1.93%        1.476s      40.154us     687.082ms         1.23%     688.771ms      18.740us           0 B           0 B       2.41 GB       2.41 GB         36754  \n",
    "void at::native::reduce_kernel<128, 4, at::native::R...         0.00%       0.000us         0.00%       0.000us       0.000us     590.090ms         1.06%     590.090ms      19.858us           0 B           0 B           0 B           0 B         29716  \n",
    "-------------------------------------------------------  ------------  ------------  ------------  ------------  ------------  ------------  ------------  ------------  ------------  ------------  ------------  ------------  ------------  ------------  \n",
    "Self CPU time total: 76.528s\n",
    "Self CUDA time total: 55.861s"
   ]
  },
  {
   "cell_type": "code",
   "execution_count": null,
   "id": "1762bd39-4758-4888-ad32-8920ced06d55",
   "metadata": {},
   "outputs": [],
   "source": [
    "# C6"
   ]
  },
  {
   "cell_type": "code",
   "execution_count": 43,
   "id": "eb37d7f2-2ab1-4a21-9f2c-67217a11135d",
   "metadata": {},
   "outputs": [],
   "source": [
    "\n"
   ]
  },
  {
   "cell_type": "code",
   "execution_count": 1,
   "id": "be9992b8-0577-4d7d-a668-4620dea914c6",
   "metadata": {},
   "outputs": [
    {
     "ename": "SyntaxError",
     "evalue": "closing parenthesis '}' does not match opening parenthesis '(' (2808512440.py, line 114)",
     "output_type": "error",
     "traceback": [
      "  \u001b[36mCell\u001b[39m\u001b[36m \u001b[39m\u001b[32mIn[1]\u001b[39m\u001b[32m, line 114\u001b[39m\n\u001b[31m    \u001b[39m\u001b[31mavg_epoch_time.append({\"lr\":config.lr, \"batch_size\":config.batch_size, \"avg_epoch_time\":sum(epoch_time_arr)/len(epoch_time_arr})\u001b[39m\n                                                                                                                                  ^\n\u001b[31mSyntaxError\u001b[39m\u001b[31m:\u001b[39m closing parenthesis '}' does not match opening parenthesis '('\n"
     ]
    }
   ],
   "source": [
    "avg_epoch_time = []\n",
    "test_accuracy = []\n",
    "def train_C6():\n",
    "  with wandb.init(\n",
    "    group=\"Hyperparameter Sensitivity\",\n",
    "    config={\n",
    "        \"model_name\": \"distilbert-base-uncased\",\n",
    "        \"max_len\": 256, \n",
    "        \"optimizer\": \"AdamW\", \n",
    "        \"num_workers\": 2,\n",
    "        \"epochs\": 5, \n",
    "        \"compile_mode\": False\n",
    "    }) as run:\n",
    "        \n",
    "      train_loader = DataLoader(tokenized[\"train\"], batch_size=config.batch_size, shuffle=True, collate_fn=data_collator, num_workers=config.num_workers)\n",
    "      test_loader = DataLoader(tokenized[\"test\"], batch_size=config.batch_size, collate_fn=data_collator, num_workers=config.num_workers)\n",
    "      model_name = \"distilbert-base-uncased\"\n",
    "      model = DistilBertForSequenceClassification.from_pretrained(model_name, num_labels=2)\n",
    "      model.to(device)\n",
    "    \n",
    "      optimizer = getattr(optim, config.optimizer.capitalize())(model.parameters(), lr=config.learning_rate)\n",
    "      print(f\"---------start train: batch_size({config.batch_size}) lr({config.learning_rate}) num_workers({config.num_workers}) optimizer({config.optimizer})-----\")\n",
    "      train_loss = []\n",
    "      train_accuracy = []\n",
    "      test_accuracy = []\n",
    "      data_loading_time_arr = []\n",
    "      compute_time_arr = []\n",
    "      epoch_time_arr = []\n",
    "    \n",
    "      for epoch in range(config.epochs):\n",
    "        model.train()\n",
    "        total_loss = 0\n",
    "        total_correct = 0\n",
    "        total_samples = 0\n",
    "        data_loading_time = 0\n",
    "        training_compute_time = 0\n",
    "        total_epoch_time = 0\n",
    "        start_data_loading = time.time()\n",
    "        start_epoch_time = time.time()\n",
    "        for batch in train_loader:\n",
    "            inputs = {\n",
    "                \"input_ids\": batch[\"input_ids\"].to(device),\n",
    "                \"attention_mask\": batch[\"attention_mask\"].to(device),\n",
    "                \"labels\": batch[\"labels\"].to(device),\n",
    "            }\n",
    "            torch.cuda.synchronize()\n",
    "            end = time.time()\n",
    "            data_loading_time +=  end - start_data_loading\n",
    "\n",
    "            start_compute = time.time()\n",
    "            optimizer.zero_grad()\n",
    "            outputs = model(**inputs)\n",
    "            loss = outputs.loss\n",
    "            loss.backward()\n",
    "            optimizer.step()\n",
    "    \n",
    "            torch.cuda.synchronize()\n",
    "            end = time.time()\n",
    "            training_compute_time += end - start_compute\n",
    "    \n",
    "            logits = outputs.logits\n",
    "            preds = torch.argmax(logits, dim = 1)\n",
    "            labels = batch[\"labels\"].to(device)\n",
    "            correct = (preds == labels).sum().item()\n",
    "            total_correct += correct\n",
    "            total_samples += len(labels)\n",
    "            total_loss += loss.item()\n",
    "    \n",
    "            start_data_loading = time.time()\n",
    "    \n",
    "        end = time.time()\n",
    "        total_epoch_time = end - start_epoch_time\n",
    "    \n",
    "        avg_loss = total_loss / len(train_loader)\n",
    "        avg_accuracy = total_correct / total_samples\n",
    "        train_loss.append(avg_loss)\n",
    "        train_accuracy.append(avg_accuracy)\n",
    "    \n",
    "        model.eval()\n",
    "        correct = 0\n",
    "        total = 0\n",
    "    \n",
    "        with torch.no_grad():\n",
    "            for batch in test_loader:\n",
    "                inputs = {\n",
    "                    \"input_ids\": batch[\"input_ids\"].to(device),\n",
    "                    \"attention_mask\": batch[\"attention_mask\"].to(device),\n",
    "                }\n",
    "                labels = batch[\"labels\"].to(device)\n",
    "    \n",
    "                logits = model(**inputs).logits\n",
    "                preds = torch.argmax(logits, dim=1)\n",
    "    \n",
    "                correct += (preds == labels).sum().item()\n",
    "                total += labels.size(0)\n",
    "    \n",
    "        accuracy = correct / total\n",
    "        test_accuracy.append(accuracy)\n",
    "    \n",
    "        wandb.log({\"train/loss\": train_loss,\n",
    "                  \"train/acc\": avg_accuracy,\n",
    "                  \"test/acc\": accuracy,\n",
    "                  \"data-loading time\": data_loading_time,\n",
    "                  \"compute time\": training_compute_time,\n",
    "                  \"total epoch time\": total_epoch_time})\n",
    "    \n",
    "        data_loading_time_arr.append(data_loading_time)\n",
    "        compute_time_arr.append(training_compute_time)\n",
    "        epoch_time_arr.append(total_epoch_time)\n",
    "        print(f\"Epoch {epoch+1}/{config.epochs}, Loss: {avg_loss:.4f}, Train Accuracy: {avg_accuracy:.4f}, Test Accuracy: {accuracy:.4f}, data_loading time: {data_loading_time} \\\n",
    "                compute time: {training_compute_time} total epoch time: {total_epoch_time}\")\n",
    "        print(f\"-------------------------------------------------------------------------------\")\n",
    "        \n",
    "      avg_epoch_time.append({\"lr\":config.lr, \"batch_size\":config.batch_size, \"avg_epoch_time\":sum(epoch_time_arr)/len(epoch_time_arr)})\n",
    "\n",
    "      model.eval()\n",
    "      correct = 0\n",
    "      total = 0\n",
    "    \n",
    "      with torch.no_grad():\n",
    "          for batch in test_loader:\n",
    "              inputs = {\n",
    "                  \"input_ids\": batch[\"input_ids\"].to(device),\n",
    "                  \"attention_mask\": batch[\"attention_mask\"].to(device),\n",
    "              }\n",
    "              labels = batch[\"labels\"].to(device)\n",
    "    \n",
    "              logits = model(**inputs).logits\n",
    "              preds = torch.argmax(logits, dim=1)\n",
    "    \n",
    "              correct += (preds == labels).sum().item()\n",
    "              total += labels.size(0)\n",
    "    \n",
    "      accuracy = correct / total\n",
    "      test_accuracy.append({\"lr\":config.lr, \"batch_size\":config.batch_size, \"accuracy\":accuracy})"
   ]
  },
  {
   "cell_type": "code",
   "execution_count": 39,
   "id": "61631ae3-18ea-48fd-9991-72fae38a0b36",
   "metadata": {
    "scrolled": true
   },
   "outputs": [
    {
     "name": "stdout",
     "output_type": "stream",
     "text": [
      "Create sweep with ID: y2g0jplp\n",
      "Sweep URL: https://wandb.ai/kaimao-columbia-university/Hyperparameter%20Sensitivity/sweeps/y2g0jplp\n"
     ]
    },
    {
     "name": "stderr",
     "output_type": "stream",
     "text": [
      "\u001b[34m\u001b[1mwandb\u001b[0m: Agent Starting Run: if0a1s74 with config:\n",
      "\u001b[34m\u001b[1mwandb\u001b[0m: \tbatch_size: 16\n",
      "\u001b[34m\u001b[1mwandb\u001b[0m: \tlearning_rate: 5e-05\n",
      "\u001b[34m\u001b[1mwandb\u001b[0m: \u001b[32m\u001b[41mERROR\u001b[0m Failed to detect the name of this notebook. You can set it manually with the WANDB_NOTEBOOK_NAME environment variable to enable code saving.\n"
     ]
    },
    {
     "data": {
      "text/html": [],
      "text/plain": [
       "<IPython.core.display.HTML object>"
      ]
     },
     "metadata": {},
     "output_type": "display_data"
    },
    {
     "data": {
      "text/html": [
       "Tracking run with wandb version 0.22.2"
      ],
      "text/plain": [
       "<IPython.core.display.HTML object>"
      ]
     },
     "metadata": {},
     "output_type": "display_data"
    },
    {
     "data": {
      "text/html": [
       "Run data is saved locally in <code>/workspace/wandb/run-20251021_043735-if0a1s74</code>"
      ],
      "text/plain": [
       "<IPython.core.display.HTML object>"
      ]
     },
     "metadata": {},
     "output_type": "display_data"
    },
    {
     "data": {
      "text/html": [
       "Syncing run <strong><a href='https://wandb.ai/kaimao-columbia-university/Hyperparameter%20Sensitivity/runs/if0a1s74' target=\"_blank\">prime-sweep-1</a></strong> to <a href='https://wandb.ai/kaimao-columbia-university/Hyperparameter%20Sensitivity' target=\"_blank\">Weights & Biases</a> (<a href='https://wandb.me/developer-guide' target=\"_blank\">docs</a>)<br>Sweep page: <a href='https://wandb.ai/kaimao-columbia-university/Hyperparameter%20Sensitivity/sweeps/y2g0jplp' target=\"_blank\">https://wandb.ai/kaimao-columbia-university/Hyperparameter%20Sensitivity/sweeps/y2g0jplp</a>"
      ],
      "text/plain": [
       "<IPython.core.display.HTML object>"
      ]
     },
     "metadata": {},
     "output_type": "display_data"
    },
    {
     "data": {
      "text/html": [
       " View project at <a href='https://wandb.ai/kaimao-columbia-university/Hyperparameter%20Sensitivity' target=\"_blank\">https://wandb.ai/kaimao-columbia-university/Hyperparameter%20Sensitivity</a>"
      ],
      "text/plain": [
       "<IPython.core.display.HTML object>"
      ]
     },
     "metadata": {},
     "output_type": "display_data"
    },
    {
     "data": {
      "text/html": [
       " View sweep at <a href='https://wandb.ai/kaimao-columbia-university/Hyperparameter%20Sensitivity/sweeps/y2g0jplp' target=\"_blank\">https://wandb.ai/kaimao-columbia-university/Hyperparameter%20Sensitivity/sweeps/y2g0jplp</a>"
      ],
      "text/plain": [
       "<IPython.core.display.HTML object>"
      ]
     },
     "metadata": {},
     "output_type": "display_data"
    },
    {
     "data": {
      "text/html": [
       " View run at <a href='https://wandb.ai/kaimao-columbia-university/Hyperparameter%20Sensitivity/runs/if0a1s74' target=\"_blank\">https://wandb.ai/kaimao-columbia-university/Hyperparameter%20Sensitivity/runs/if0a1s74</a>"
      ],
      "text/plain": [
       "<IPython.core.display.HTML object>"
      ]
     },
     "metadata": {},
     "output_type": "display_data"
    },
    {
     "name": "stderr",
     "output_type": "stream",
     "text": [
      "Some weights of DistilBertForSequenceClassification were not initialized from the model checkpoint at distilbert-base-uncased and are newly initialized: ['classifier.bias', 'classifier.weight', 'pre_classifier.bias', 'pre_classifier.weight']\n",
      "You should probably TRAIN this model on a down-stream task to be able to use it for predictions and inference.\n"
     ]
    },
    {
     "name": "stdout",
     "output_type": "stream",
     "text": [
      "---------start train: batch_size(16) lr(5e-05) num_workers(2) optimizer(AdamW)-----\n",
      "Epoch 1/2, Loss: 0.2927, Train Accuracy: 0.8786, Test Accuracy: 0.8994, data_loading time: 5.044431447982788                 compute time: 46.83597779273987 total epoch time: 56.109216928482056\n",
      "-------------------------------------------------------------------------------\n"
     ]
    },
    {
     "name": "stderr",
     "output_type": "stream",
     "text": [
      "\u001b[34m\u001b[1mwandb\u001b[0m: \u001b[32m\u001b[41mERROR\u001b[0m The nbformat package was not found. It is required to save notebook history.\n"
     ]
    },
    {
     "name": "stdout",
     "output_type": "stream",
     "text": [
      "Epoch 2/2, Loss: 0.1575, Train Accuracy: 0.9416, Test Accuracy: 0.9047, data_loading time: 5.043533086776733                 compute time: 47.03125500679016 total epoch time: 56.2285680770874\n",
      "-------------------------------------------------------------------------------\n"
     ]
    },
    {
     "data": {
      "text/html": [],
      "text/plain": [
       "<IPython.core.display.HTML object>"
      ]
     },
     "metadata": {},
     "output_type": "display_data"
    },
    {
     "data": {
      "text/html": [
       "<br>    <style><br>        .wandb-row {<br>            display: flex;<br>            flex-direction: row;<br>            flex-wrap: wrap;<br>            justify-content: flex-start;<br>            width: 100%;<br>        }<br>        .wandb-col {<br>            display: flex;<br>            flex-direction: column;<br>            flex-basis: 100%;<br>            flex: 1;<br>            padding: 10px;<br>        }<br>    </style><br><div class=\"wandb-row\"><div class=\"wandb-col\"><h3>Run history:</h3><br/><table class=\"wandb\"><tr><td>compute time</td><td>▁█</td></tr><tr><td>data-loading time</td><td>█▁</td></tr><tr><td>test/acc</td><td>▁█</td></tr><tr><td>total epoch time</td><td>▁█</td></tr><tr><td>train/acc</td><td>▁█</td></tr></table><br/></div><div class=\"wandb-col\"><h3>Run summary:</h3><br/><table class=\"wandb\"><tr><td>compute time</td><td>47.03126</td></tr><tr><td>data-loading time</td><td>5.04353</td></tr><tr><td>test/acc</td><td>0.90472</td></tr><tr><td>total epoch time</td><td>56.22857</td></tr><tr><td>train/acc</td><td>0.94164</td></tr></table><br/></div></div>"
      ],
      "text/plain": [
       "<IPython.core.display.HTML object>"
      ]
     },
     "metadata": {},
     "output_type": "display_data"
    },
    {
     "data": {
      "text/html": [
       " View run <strong style=\"color:#cdcd00\">prime-sweep-1</strong> at: <a href='https://wandb.ai/kaimao-columbia-university/Hyperparameter%20Sensitivity/runs/if0a1s74' target=\"_blank\">https://wandb.ai/kaimao-columbia-university/Hyperparameter%20Sensitivity/runs/if0a1s74</a><br> View project at: <a href='https://wandb.ai/kaimao-columbia-university/Hyperparameter%20Sensitivity' target=\"_blank\">https://wandb.ai/kaimao-columbia-university/Hyperparameter%20Sensitivity</a><br>Synced 5 W&B file(s), 0 media file(s), 0 artifact file(s) and 0 other file(s)"
      ],
      "text/plain": [
       "<IPython.core.display.HTML object>"
      ]
     },
     "metadata": {},
     "output_type": "display_data"
    },
    {
     "data": {
      "text/html": [
       "Find logs at: <code>./wandb/run-20251021_043735-if0a1s74/logs</code>"
      ],
      "text/plain": [
       "<IPython.core.display.HTML object>"
      ]
     },
     "metadata": {},
     "output_type": "display_data"
    },
    {
     "name": "stderr",
     "output_type": "stream",
     "text": [
      "\u001b[34m\u001b[1mwandb\u001b[0m: Agent Starting Run: c4bfiq97 with config:\n",
      "\u001b[34m\u001b[1mwandb\u001b[0m: \tbatch_size: 16\n",
      "\u001b[34m\u001b[1mwandb\u001b[0m: \tlearning_rate: 0.0001\n",
      "\u001b[34m\u001b[1mwandb\u001b[0m: \u001b[32m\u001b[41mERROR\u001b[0m Failed to detect the name of this notebook. You can set it manually with the WANDB_NOTEBOOK_NAME environment variable to enable code saving.\n"
     ]
    },
    {
     "data": {
      "text/html": [],
      "text/plain": [
       "<IPython.core.display.HTML object>"
      ]
     },
     "metadata": {},
     "output_type": "display_data"
    },
    {
     "data": {
      "text/html": [
       "Tracking run with wandb version 0.22.2"
      ],
      "text/plain": [
       "<IPython.core.display.HTML object>"
      ]
     },
     "metadata": {},
     "output_type": "display_data"
    },
    {
     "data": {
      "text/html": [
       "Run data is saved locally in <code>/workspace/wandb/run-20251021_044023-c4bfiq97</code>"
      ],
      "text/plain": [
       "<IPython.core.display.HTML object>"
      ]
     },
     "metadata": {},
     "output_type": "display_data"
    },
    {
     "data": {
      "text/html": [
       "Syncing run <strong><a href='https://wandb.ai/kaimao-columbia-university/Hyperparameter%20Sensitivity/runs/c4bfiq97' target=\"_blank\">snowy-sweep-2</a></strong> to <a href='https://wandb.ai/kaimao-columbia-university/Hyperparameter%20Sensitivity' target=\"_blank\">Weights & Biases</a> (<a href='https://wandb.me/developer-guide' target=\"_blank\">docs</a>)<br>Sweep page: <a href='https://wandb.ai/kaimao-columbia-university/Hyperparameter%20Sensitivity/sweeps/y2g0jplp' target=\"_blank\">https://wandb.ai/kaimao-columbia-university/Hyperparameter%20Sensitivity/sweeps/y2g0jplp</a>"
      ],
      "text/plain": [
       "<IPython.core.display.HTML object>"
      ]
     },
     "metadata": {},
     "output_type": "display_data"
    },
    {
     "data": {
      "text/html": [
       " View project at <a href='https://wandb.ai/kaimao-columbia-university/Hyperparameter%20Sensitivity' target=\"_blank\">https://wandb.ai/kaimao-columbia-university/Hyperparameter%20Sensitivity</a>"
      ],
      "text/plain": [
       "<IPython.core.display.HTML object>"
      ]
     },
     "metadata": {},
     "output_type": "display_data"
    },
    {
     "data": {
      "text/html": [
       " View sweep at <a href='https://wandb.ai/kaimao-columbia-university/Hyperparameter%20Sensitivity/sweeps/y2g0jplp' target=\"_blank\">https://wandb.ai/kaimao-columbia-university/Hyperparameter%20Sensitivity/sweeps/y2g0jplp</a>"
      ],
      "text/plain": [
       "<IPython.core.display.HTML object>"
      ]
     },
     "metadata": {},
     "output_type": "display_data"
    },
    {
     "data": {
      "text/html": [
       " View run at <a href='https://wandb.ai/kaimao-columbia-university/Hyperparameter%20Sensitivity/runs/c4bfiq97' target=\"_blank\">https://wandb.ai/kaimao-columbia-university/Hyperparameter%20Sensitivity/runs/c4bfiq97</a>"
      ],
      "text/plain": [
       "<IPython.core.display.HTML object>"
      ]
     },
     "metadata": {},
     "output_type": "display_data"
    },
    {
     "name": "stderr",
     "output_type": "stream",
     "text": [
      "Some weights of DistilBertForSequenceClassification were not initialized from the model checkpoint at distilbert-base-uncased and are newly initialized: ['classifier.bias', 'classifier.weight', 'pre_classifier.bias', 'pre_classifier.weight']\n",
      "You should probably TRAIN this model on a down-stream task to be able to use it for predictions and inference.\n"
     ]
    },
    {
     "name": "stdout",
     "output_type": "stream",
     "text": [
      "---------start train: batch_size(16) lr(0.0001) num_workers(2) optimizer(AdamW)-----\n",
      "Epoch 1/2, Loss: 0.3244, Train Accuracy: 0.8612, Test Accuracy: 0.8822, data_loading time: 5.050256013870239                 compute time: 47.20144319534302 total epoch time: 56.59880566596985\n",
      "-------------------------------------------------------------------------------\n"
     ]
    },
    {
     "name": "stderr",
     "output_type": "stream",
     "text": [
      "\u001b[34m\u001b[1mwandb\u001b[0m: \u001b[32m\u001b[41mERROR\u001b[0m The nbformat package was not found. It is required to save notebook history.\n"
     ]
    },
    {
     "name": "stdout",
     "output_type": "stream",
     "text": [
      "Epoch 2/2, Loss: 0.1842, Train Accuracy: 0.9322, Test Accuracy: 0.8745, data_loading time: 5.0730016231536865                 compute time: 47.05021905899048 total epoch time: 56.21663761138916\n",
      "-------------------------------------------------------------------------------\n"
     ]
    },
    {
     "data": {
      "text/html": [],
      "text/plain": [
       "<IPython.core.display.HTML object>"
      ]
     },
     "metadata": {},
     "output_type": "display_data"
    },
    {
     "data": {
      "text/html": [
       "<br>    <style><br>        .wandb-row {<br>            display: flex;<br>            flex-direction: row;<br>            flex-wrap: wrap;<br>            justify-content: flex-start;<br>            width: 100%;<br>        }<br>        .wandb-col {<br>            display: flex;<br>            flex-direction: column;<br>            flex-basis: 100%;<br>            flex: 1;<br>            padding: 10px;<br>        }<br>    </style><br><div class=\"wandb-row\"><div class=\"wandb-col\"><h3>Run history:</h3><br/><table class=\"wandb\"><tr><td>compute time</td><td>█▁</td></tr><tr><td>data-loading time</td><td>▁█</td></tr><tr><td>test/acc</td><td>█▁</td></tr><tr><td>total epoch time</td><td>█▁</td></tr><tr><td>train/acc</td><td>▁█</td></tr></table><br/></div><div class=\"wandb-col\"><h3>Run summary:</h3><br/><table class=\"wandb\"><tr><td>compute time</td><td>47.05022</td></tr><tr><td>data-loading time</td><td>5.073</td></tr><tr><td>test/acc</td><td>0.87452</td></tr><tr><td>total epoch time</td><td>56.21664</td></tr><tr><td>train/acc</td><td>0.93224</td></tr></table><br/></div></div>"
      ],
      "text/plain": [
       "<IPython.core.display.HTML object>"
      ]
     },
     "metadata": {},
     "output_type": "display_data"
    },
    {
     "data": {
      "text/html": [
       " View run <strong style=\"color:#cdcd00\">snowy-sweep-2</strong> at: <a href='https://wandb.ai/kaimao-columbia-university/Hyperparameter%20Sensitivity/runs/c4bfiq97' target=\"_blank\">https://wandb.ai/kaimao-columbia-university/Hyperparameter%20Sensitivity/runs/c4bfiq97</a><br> View project at: <a href='https://wandb.ai/kaimao-columbia-university/Hyperparameter%20Sensitivity' target=\"_blank\">https://wandb.ai/kaimao-columbia-university/Hyperparameter%20Sensitivity</a><br>Synced 5 W&B file(s), 0 media file(s), 0 artifact file(s) and 0 other file(s)"
      ],
      "text/plain": [
       "<IPython.core.display.HTML object>"
      ]
     },
     "metadata": {},
     "output_type": "display_data"
    },
    {
     "data": {
      "text/html": [
       "Find logs at: <code>./wandb/run-20251021_044023-c4bfiq97/logs</code>"
      ],
      "text/plain": [
       "<IPython.core.display.HTML object>"
      ]
     },
     "metadata": {},
     "output_type": "display_data"
    },
    {
     "name": "stderr",
     "output_type": "stream",
     "text": [
      "\u001b[34m\u001b[1mwandb\u001b[0m: Agent Starting Run: apja8pbi with config:\n",
      "\u001b[34m\u001b[1mwandb\u001b[0m: \tbatch_size: 16\n",
      "\u001b[34m\u001b[1mwandb\u001b[0m: \tlearning_rate: 0.0005\n",
      "\u001b[34m\u001b[1mwandb\u001b[0m: \u001b[32m\u001b[41mERROR\u001b[0m Failed to detect the name of this notebook. You can set it manually with the WANDB_NOTEBOOK_NAME environment variable to enable code saving.\n"
     ]
    },
    {
     "data": {
      "text/html": [],
      "text/plain": [
       "<IPython.core.display.HTML object>"
      ]
     },
     "metadata": {},
     "output_type": "display_data"
    },
    {
     "data": {
      "text/html": [
       "Tracking run with wandb version 0.22.2"
      ],
      "text/plain": [
       "<IPython.core.display.HTML object>"
      ]
     },
     "metadata": {},
     "output_type": "display_data"
    },
    {
     "data": {
      "text/html": [
       "Run data is saved locally in <code>/workspace/wandb/run-20251021_044314-apja8pbi</code>"
      ],
      "text/plain": [
       "<IPython.core.display.HTML object>"
      ]
     },
     "metadata": {},
     "output_type": "display_data"
    },
    {
     "data": {
      "text/html": [
       "Syncing run <strong><a href='https://wandb.ai/kaimao-columbia-university/Hyperparameter%20Sensitivity/runs/apja8pbi' target=\"_blank\">apricot-sweep-3</a></strong> to <a href='https://wandb.ai/kaimao-columbia-university/Hyperparameter%20Sensitivity' target=\"_blank\">Weights & Biases</a> (<a href='https://wandb.me/developer-guide' target=\"_blank\">docs</a>)<br>Sweep page: <a href='https://wandb.ai/kaimao-columbia-university/Hyperparameter%20Sensitivity/sweeps/y2g0jplp' target=\"_blank\">https://wandb.ai/kaimao-columbia-university/Hyperparameter%20Sensitivity/sweeps/y2g0jplp</a>"
      ],
      "text/plain": [
       "<IPython.core.display.HTML object>"
      ]
     },
     "metadata": {},
     "output_type": "display_data"
    },
    {
     "data": {
      "text/html": [
       " View project at <a href='https://wandb.ai/kaimao-columbia-university/Hyperparameter%20Sensitivity' target=\"_blank\">https://wandb.ai/kaimao-columbia-university/Hyperparameter%20Sensitivity</a>"
      ],
      "text/plain": [
       "<IPython.core.display.HTML object>"
      ]
     },
     "metadata": {},
     "output_type": "display_data"
    },
    {
     "data": {
      "text/html": [
       " View sweep at <a href='https://wandb.ai/kaimao-columbia-university/Hyperparameter%20Sensitivity/sweeps/y2g0jplp' target=\"_blank\">https://wandb.ai/kaimao-columbia-university/Hyperparameter%20Sensitivity/sweeps/y2g0jplp</a>"
      ],
      "text/plain": [
       "<IPython.core.display.HTML object>"
      ]
     },
     "metadata": {},
     "output_type": "display_data"
    },
    {
     "data": {
      "text/html": [
       " View run at <a href='https://wandb.ai/kaimao-columbia-university/Hyperparameter%20Sensitivity/runs/apja8pbi' target=\"_blank\">https://wandb.ai/kaimao-columbia-university/Hyperparameter%20Sensitivity/runs/apja8pbi</a>"
      ],
      "text/plain": [
       "<IPython.core.display.HTML object>"
      ]
     },
     "metadata": {},
     "output_type": "display_data"
    },
    {
     "name": "stderr",
     "output_type": "stream",
     "text": [
      "Some weights of DistilBertForSequenceClassification were not initialized from the model checkpoint at distilbert-base-uncased and are newly initialized: ['classifier.bias', 'classifier.weight', 'pre_classifier.bias', 'pre_classifier.weight']\n",
      "You should probably TRAIN this model on a down-stream task to be able to use it for predictions and inference.\n"
     ]
    },
    {
     "name": "stdout",
     "output_type": "stream",
     "text": [
      "---------start train: batch_size(16) lr(0.0005) num_workers(2) optimizer(AdamW)-----\n",
      "Epoch 1/2, Loss: 0.6958, Train Accuracy: 0.5016, Test Accuracy: 0.5000, data_loading time: 4.986021041870117                 compute time: 47.02136778831482 total epoch time: 56.25733828544617\n",
      "-------------------------------------------------------------------------------\n"
     ]
    },
    {
     "name": "stderr",
     "output_type": "stream",
     "text": [
      "\u001b[34m\u001b[1mwandb\u001b[0m: \u001b[32m\u001b[41mERROR\u001b[0m The nbformat package was not found. It is required to save notebook history.\n"
     ]
    },
    {
     "name": "stdout",
     "output_type": "stream",
     "text": [
      "Epoch 2/2, Loss: 0.6936, Train Accuracy: 0.4960, Test Accuracy: 0.5000, data_loading time: 4.996425151824951                 compute time: 46.96302270889282 total epoch time: 56.07941198348999\n",
      "-------------------------------------------------------------------------------\n"
     ]
    },
    {
     "data": {
      "text/html": [],
      "text/plain": [
       "<IPython.core.display.HTML object>"
      ]
     },
     "metadata": {},
     "output_type": "display_data"
    },
    {
     "data": {
      "text/html": [
       "<br>    <style><br>        .wandb-row {<br>            display: flex;<br>            flex-direction: row;<br>            flex-wrap: wrap;<br>            justify-content: flex-start;<br>            width: 100%;<br>        }<br>        .wandb-col {<br>            display: flex;<br>            flex-direction: column;<br>            flex-basis: 100%;<br>            flex: 1;<br>            padding: 10px;<br>        }<br>    </style><br><div class=\"wandb-row\"><div class=\"wandb-col\"><h3>Run history:</h3><br/><table class=\"wandb\"><tr><td>compute time</td><td>█▁</td></tr><tr><td>data-loading time</td><td>▁█</td></tr><tr><td>test/acc</td><td>▁▁</td></tr><tr><td>total epoch time</td><td>█▁</td></tr><tr><td>train/acc</td><td>█▁</td></tr></table><br/></div><div class=\"wandb-col\"><h3>Run summary:</h3><br/><table class=\"wandb\"><tr><td>compute time</td><td>46.96302</td></tr><tr><td>data-loading time</td><td>4.99643</td></tr><tr><td>test/acc</td><td>0.5</td></tr><tr><td>total epoch time</td><td>56.07941</td></tr><tr><td>train/acc</td><td>0.49596</td></tr></table><br/></div></div>"
      ],
      "text/plain": [
       "<IPython.core.display.HTML object>"
      ]
     },
     "metadata": {},
     "output_type": "display_data"
    },
    {
     "data": {
      "text/html": [
       " View run <strong style=\"color:#cdcd00\">apricot-sweep-3</strong> at: <a href='https://wandb.ai/kaimao-columbia-university/Hyperparameter%20Sensitivity/runs/apja8pbi' target=\"_blank\">https://wandb.ai/kaimao-columbia-university/Hyperparameter%20Sensitivity/runs/apja8pbi</a><br> View project at: <a href='https://wandb.ai/kaimao-columbia-university/Hyperparameter%20Sensitivity' target=\"_blank\">https://wandb.ai/kaimao-columbia-university/Hyperparameter%20Sensitivity</a><br>Synced 5 W&B file(s), 0 media file(s), 0 artifact file(s) and 0 other file(s)"
      ],
      "text/plain": [
       "<IPython.core.display.HTML object>"
      ]
     },
     "metadata": {},
     "output_type": "display_data"
    },
    {
     "data": {
      "text/html": [
       "Find logs at: <code>./wandb/run-20251021_044314-apja8pbi/logs</code>"
      ],
      "text/plain": [
       "<IPython.core.display.HTML object>"
      ]
     },
     "metadata": {},
     "output_type": "display_data"
    },
    {
     "name": "stderr",
     "output_type": "stream",
     "text": [
      "\u001b[34m\u001b[1mwandb\u001b[0m: Agent Starting Run: soqd5vn4 with config:\n",
      "\u001b[34m\u001b[1mwandb\u001b[0m: \tbatch_size: 32\n",
      "\u001b[34m\u001b[1mwandb\u001b[0m: \tlearning_rate: 5e-05\n",
      "\u001b[34m\u001b[1mwandb\u001b[0m: \u001b[32m\u001b[41mERROR\u001b[0m Failed to detect the name of this notebook. You can set it manually with the WANDB_NOTEBOOK_NAME environment variable to enable code saving.\n"
     ]
    },
    {
     "data": {
      "text/html": [],
      "text/plain": [
       "<IPython.core.display.HTML object>"
      ]
     },
     "metadata": {},
     "output_type": "display_data"
    },
    {
     "data": {
      "text/html": [
       "Tracking run with wandb version 0.22.2"
      ],
      "text/plain": [
       "<IPython.core.display.HTML object>"
      ]
     },
     "metadata": {},
     "output_type": "display_data"
    },
    {
     "data": {
      "text/html": [
       "Run data is saved locally in <code>/workspace/wandb/run-20251021_044602-soqd5vn4</code>"
      ],
      "text/plain": [
       "<IPython.core.display.HTML object>"
      ]
     },
     "metadata": {},
     "output_type": "display_data"
    },
    {
     "data": {
      "text/html": [
       "Syncing run <strong><a href='https://wandb.ai/kaimao-columbia-university/Hyperparameter%20Sensitivity/runs/soqd5vn4' target=\"_blank\">efficient-sweep-4</a></strong> to <a href='https://wandb.ai/kaimao-columbia-university/Hyperparameter%20Sensitivity' target=\"_blank\">Weights & Biases</a> (<a href='https://wandb.me/developer-guide' target=\"_blank\">docs</a>)<br>Sweep page: <a href='https://wandb.ai/kaimao-columbia-university/Hyperparameter%20Sensitivity/sweeps/y2g0jplp' target=\"_blank\">https://wandb.ai/kaimao-columbia-university/Hyperparameter%20Sensitivity/sweeps/y2g0jplp</a>"
      ],
      "text/plain": [
       "<IPython.core.display.HTML object>"
      ]
     },
     "metadata": {},
     "output_type": "display_data"
    },
    {
     "data": {
      "text/html": [
       " View project at <a href='https://wandb.ai/kaimao-columbia-university/Hyperparameter%20Sensitivity' target=\"_blank\">https://wandb.ai/kaimao-columbia-university/Hyperparameter%20Sensitivity</a>"
      ],
      "text/plain": [
       "<IPython.core.display.HTML object>"
      ]
     },
     "metadata": {},
     "output_type": "display_data"
    },
    {
     "data": {
      "text/html": [
       " View sweep at <a href='https://wandb.ai/kaimao-columbia-university/Hyperparameter%20Sensitivity/sweeps/y2g0jplp' target=\"_blank\">https://wandb.ai/kaimao-columbia-university/Hyperparameter%20Sensitivity/sweeps/y2g0jplp</a>"
      ],
      "text/plain": [
       "<IPython.core.display.HTML object>"
      ]
     },
     "metadata": {},
     "output_type": "display_data"
    },
    {
     "data": {
      "text/html": [
       " View run at <a href='https://wandb.ai/kaimao-columbia-university/Hyperparameter%20Sensitivity/runs/soqd5vn4' target=\"_blank\">https://wandb.ai/kaimao-columbia-university/Hyperparameter%20Sensitivity/runs/soqd5vn4</a>"
      ],
      "text/plain": [
       "<IPython.core.display.HTML object>"
      ]
     },
     "metadata": {},
     "output_type": "display_data"
    },
    {
     "name": "stderr",
     "output_type": "stream",
     "text": [
      "Some weights of DistilBertForSequenceClassification were not initialized from the model checkpoint at distilbert-base-uncased and are newly initialized: ['classifier.bias', 'classifier.weight', 'pre_classifier.bias', 'pre_classifier.weight']\n",
      "You should probably TRAIN this model on a down-stream task to be able to use it for predictions and inference.\n"
     ]
    },
    {
     "name": "stdout",
     "output_type": "stream",
     "text": [
      "---------start train: batch_size(32) lr(5e-05) num_workers(2) optimizer(AdamW)-----\n",
      "Epoch 1/2, Loss: 0.2873, Train Accuracy: 0.8787, Test Accuracy: 0.8747, data_loading time: 4.104927062988281                 compute time: 41.81464457511902 total epoch time: 50.214582443237305\n",
      "-------------------------------------------------------------------------------\n"
     ]
    },
    {
     "name": "stderr",
     "output_type": "stream",
     "text": [
      "\u001b[34m\u001b[1mwandb\u001b[0m: \u001b[32m\u001b[41mERROR\u001b[0m The nbformat package was not found. It is required to save notebook history.\n"
     ]
    },
    {
     "name": "stdout",
     "output_type": "stream",
     "text": [
      "Epoch 2/2, Loss: 0.1558, Train Accuracy: 0.9434, Test Accuracy: 0.9068, data_loading time: 4.095701456069946                 compute time: 41.877474308013916 total epoch time: 50.101362228393555\n",
      "-------------------------------------------------------------------------------\n"
     ]
    },
    {
     "data": {
      "text/html": [],
      "text/plain": [
       "<IPython.core.display.HTML object>"
      ]
     },
     "metadata": {},
     "output_type": "display_data"
    },
    {
     "data": {
      "text/html": [
       "<br>    <style><br>        .wandb-row {<br>            display: flex;<br>            flex-direction: row;<br>            flex-wrap: wrap;<br>            justify-content: flex-start;<br>            width: 100%;<br>        }<br>        .wandb-col {<br>            display: flex;<br>            flex-direction: column;<br>            flex-basis: 100%;<br>            flex: 1;<br>            padding: 10px;<br>        }<br>    </style><br><div class=\"wandb-row\"><div class=\"wandb-col\"><h3>Run history:</h3><br/><table class=\"wandb\"><tr><td>compute time</td><td>▁█</td></tr><tr><td>data-loading time</td><td>█▁</td></tr><tr><td>test/acc</td><td>▁█</td></tr><tr><td>total epoch time</td><td>█▁</td></tr><tr><td>train/acc</td><td>▁█</td></tr></table><br/></div><div class=\"wandb-col\"><h3>Run summary:</h3><br/><table class=\"wandb\"><tr><td>compute time</td><td>41.87747</td></tr><tr><td>data-loading time</td><td>4.0957</td></tr><tr><td>test/acc</td><td>0.9068</td></tr><tr><td>total epoch time</td><td>50.10136</td></tr><tr><td>train/acc</td><td>0.9434</td></tr></table><br/></div></div>"
      ],
      "text/plain": [
       "<IPython.core.display.HTML object>"
      ]
     },
     "metadata": {},
     "output_type": "display_data"
    },
    {
     "data": {
      "text/html": [
       " View run <strong style=\"color:#cdcd00\">efficient-sweep-4</strong> at: <a href='https://wandb.ai/kaimao-columbia-university/Hyperparameter%20Sensitivity/runs/soqd5vn4' target=\"_blank\">https://wandb.ai/kaimao-columbia-university/Hyperparameter%20Sensitivity/runs/soqd5vn4</a><br> View project at: <a href='https://wandb.ai/kaimao-columbia-university/Hyperparameter%20Sensitivity' target=\"_blank\">https://wandb.ai/kaimao-columbia-university/Hyperparameter%20Sensitivity</a><br>Synced 5 W&B file(s), 0 media file(s), 0 artifact file(s) and 0 other file(s)"
      ],
      "text/plain": [
       "<IPython.core.display.HTML object>"
      ]
     },
     "metadata": {},
     "output_type": "display_data"
    },
    {
     "data": {
      "text/html": [
       "Find logs at: <code>./wandb/run-20251021_044602-soqd5vn4/logs</code>"
      ],
      "text/plain": [
       "<IPython.core.display.HTML object>"
      ]
     },
     "metadata": {},
     "output_type": "display_data"
    },
    {
     "name": "stderr",
     "output_type": "stream",
     "text": [
      "\u001b[34m\u001b[1mwandb\u001b[0m: Agent Starting Run: a8v7clkd with config:\n",
      "\u001b[34m\u001b[1mwandb\u001b[0m: \tbatch_size: 32\n",
      "\u001b[34m\u001b[1mwandb\u001b[0m: \tlearning_rate: 0.0001\n",
      "\u001b[34m\u001b[1mwandb\u001b[0m: \u001b[32m\u001b[41mERROR\u001b[0m Failed to detect the name of this notebook. You can set it manually with the WANDB_NOTEBOOK_NAME environment variable to enable code saving.\n"
     ]
    },
    {
     "data": {
      "text/html": [],
      "text/plain": [
       "<IPython.core.display.HTML object>"
      ]
     },
     "metadata": {},
     "output_type": "display_data"
    },
    {
     "data": {
      "text/html": [
       "Tracking run with wandb version 0.22.2"
      ],
      "text/plain": [
       "<IPython.core.display.HTML object>"
      ]
     },
     "metadata": {},
     "output_type": "display_data"
    },
    {
     "data": {
      "text/html": [
       "Run data is saved locally in <code>/workspace/wandb/run-20251021_044839-a8v7clkd</code>"
      ],
      "text/plain": [
       "<IPython.core.display.HTML object>"
      ]
     },
     "metadata": {},
     "output_type": "display_data"
    },
    {
     "data": {
      "text/html": [
       "Syncing run <strong><a href='https://wandb.ai/kaimao-columbia-university/Hyperparameter%20Sensitivity/runs/a8v7clkd' target=\"_blank\">vibrant-sweep-5</a></strong> to <a href='https://wandb.ai/kaimao-columbia-university/Hyperparameter%20Sensitivity' target=\"_blank\">Weights & Biases</a> (<a href='https://wandb.me/developer-guide' target=\"_blank\">docs</a>)<br>Sweep page: <a href='https://wandb.ai/kaimao-columbia-university/Hyperparameter%20Sensitivity/sweeps/y2g0jplp' target=\"_blank\">https://wandb.ai/kaimao-columbia-university/Hyperparameter%20Sensitivity/sweeps/y2g0jplp</a>"
      ],
      "text/plain": [
       "<IPython.core.display.HTML object>"
      ]
     },
     "metadata": {},
     "output_type": "display_data"
    },
    {
     "data": {
      "text/html": [
       " View project at <a href='https://wandb.ai/kaimao-columbia-university/Hyperparameter%20Sensitivity' target=\"_blank\">https://wandb.ai/kaimao-columbia-university/Hyperparameter%20Sensitivity</a>"
      ],
      "text/plain": [
       "<IPython.core.display.HTML object>"
      ]
     },
     "metadata": {},
     "output_type": "display_data"
    },
    {
     "data": {
      "text/html": [
       " View sweep at <a href='https://wandb.ai/kaimao-columbia-university/Hyperparameter%20Sensitivity/sweeps/y2g0jplp' target=\"_blank\">https://wandb.ai/kaimao-columbia-university/Hyperparameter%20Sensitivity/sweeps/y2g0jplp</a>"
      ],
      "text/plain": [
       "<IPython.core.display.HTML object>"
      ]
     },
     "metadata": {},
     "output_type": "display_data"
    },
    {
     "data": {
      "text/html": [
       " View run at <a href='https://wandb.ai/kaimao-columbia-university/Hyperparameter%20Sensitivity/runs/a8v7clkd' target=\"_blank\">https://wandb.ai/kaimao-columbia-university/Hyperparameter%20Sensitivity/runs/a8v7clkd</a>"
      ],
      "text/plain": [
       "<IPython.core.display.HTML object>"
      ]
     },
     "metadata": {},
     "output_type": "display_data"
    },
    {
     "name": "stderr",
     "output_type": "stream",
     "text": [
      "Some weights of DistilBertForSequenceClassification were not initialized from the model checkpoint at distilbert-base-uncased and are newly initialized: ['classifier.bias', 'classifier.weight', 'pre_classifier.bias', 'pre_classifier.weight']\n",
      "You should probably TRAIN this model on a down-stream task to be able to use it for predictions and inference.\n"
     ]
    },
    {
     "name": "stdout",
     "output_type": "stream",
     "text": [
      "---------start train: batch_size(32) lr(0.0001) num_workers(2) optimizer(AdamW)-----\n",
      "Epoch 1/2, Loss: 0.3021, Train Accuracy: 0.8704, Test Accuracy: 0.8973, data_loading time: 4.023552179336548                 compute time: 41.88974690437317 total epoch time: 50.070762634277344\n",
      "-------------------------------------------------------------------------------\n"
     ]
    },
    {
     "name": "stderr",
     "output_type": "stream",
     "text": [
      "\u001b[34m\u001b[1mwandb\u001b[0m: \u001b[32m\u001b[41mERROR\u001b[0m The nbformat package was not found. It is required to save notebook history.\n"
     ]
    },
    {
     "name": "stdout",
     "output_type": "stream",
     "text": [
      "Epoch 2/2, Loss: 0.1693, Train Accuracy: 0.9370, Test Accuracy: 0.8988, data_loading time: 4.086701393127441                 compute time: 42.00715637207031 total epoch time: 50.11471486091614\n",
      "-------------------------------------------------------------------------------\n"
     ]
    },
    {
     "data": {
      "text/html": [],
      "text/plain": [
       "<IPython.core.display.HTML object>"
      ]
     },
     "metadata": {},
     "output_type": "display_data"
    },
    {
     "data": {
      "text/html": [
       "<br>    <style><br>        .wandb-row {<br>            display: flex;<br>            flex-direction: row;<br>            flex-wrap: wrap;<br>            justify-content: flex-start;<br>            width: 100%;<br>        }<br>        .wandb-col {<br>            display: flex;<br>            flex-direction: column;<br>            flex-basis: 100%;<br>            flex: 1;<br>            padding: 10px;<br>        }<br>    </style><br><div class=\"wandb-row\"><div class=\"wandb-col\"><h3>Run history:</h3><br/><table class=\"wandb\"><tr><td>compute time</td><td>▁█</td></tr><tr><td>data-loading time</td><td>▁█</td></tr><tr><td>test/acc</td><td>▁█</td></tr><tr><td>total epoch time</td><td>▁█</td></tr><tr><td>train/acc</td><td>▁█</td></tr></table><br/></div><div class=\"wandb-col\"><h3>Run summary:</h3><br/><table class=\"wandb\"><tr><td>compute time</td><td>42.00716</td></tr><tr><td>data-loading time</td><td>4.0867</td></tr><tr><td>test/acc</td><td>0.8988</td></tr><tr><td>total epoch time</td><td>50.11471</td></tr><tr><td>train/acc</td><td>0.93696</td></tr></table><br/></div></div>"
      ],
      "text/plain": [
       "<IPython.core.display.HTML object>"
      ]
     },
     "metadata": {},
     "output_type": "display_data"
    },
    {
     "data": {
      "text/html": [
       " View run <strong style=\"color:#cdcd00\">vibrant-sweep-5</strong> at: <a href='https://wandb.ai/kaimao-columbia-university/Hyperparameter%20Sensitivity/runs/a8v7clkd' target=\"_blank\">https://wandb.ai/kaimao-columbia-university/Hyperparameter%20Sensitivity/runs/a8v7clkd</a><br> View project at: <a href='https://wandb.ai/kaimao-columbia-university/Hyperparameter%20Sensitivity' target=\"_blank\">https://wandb.ai/kaimao-columbia-university/Hyperparameter%20Sensitivity</a><br>Synced 5 W&B file(s), 0 media file(s), 0 artifact file(s) and 0 other file(s)"
      ],
      "text/plain": [
       "<IPython.core.display.HTML object>"
      ]
     },
     "metadata": {},
     "output_type": "display_data"
    },
    {
     "data": {
      "text/html": [
       "Find logs at: <code>./wandb/run-20251021_044839-a8v7clkd/logs</code>"
      ],
      "text/plain": [
       "<IPython.core.display.HTML object>"
      ]
     },
     "metadata": {},
     "output_type": "display_data"
    },
    {
     "name": "stderr",
     "output_type": "stream",
     "text": [
      "\u001b[34m\u001b[1mwandb\u001b[0m: Agent Starting Run: 7yt0t72f with config:\n",
      "\u001b[34m\u001b[1mwandb\u001b[0m: \tbatch_size: 32\n",
      "\u001b[34m\u001b[1mwandb\u001b[0m: \tlearning_rate: 0.0005\n",
      "\u001b[34m\u001b[1mwandb\u001b[0m: \u001b[32m\u001b[41mERROR\u001b[0m Failed to detect the name of this notebook. You can set it manually with the WANDB_NOTEBOOK_NAME environment variable to enable code saving.\n"
     ]
    },
    {
     "data": {
      "text/html": [],
      "text/plain": [
       "<IPython.core.display.HTML object>"
      ]
     },
     "metadata": {},
     "output_type": "display_data"
    },
    {
     "data": {
      "text/html": [
       "Tracking run with wandb version 0.22.2"
      ],
      "text/plain": [
       "<IPython.core.display.HTML object>"
      ]
     },
     "metadata": {},
     "output_type": "display_data"
    },
    {
     "data": {
      "text/html": [
       "Run data is saved locally in <code>/workspace/wandb/run-20251021_045113-7yt0t72f</code>"
      ],
      "text/plain": [
       "<IPython.core.display.HTML object>"
      ]
     },
     "metadata": {},
     "output_type": "display_data"
    },
    {
     "data": {
      "text/html": [
       "Syncing run <strong><a href='https://wandb.ai/kaimao-columbia-university/Hyperparameter%20Sensitivity/runs/7yt0t72f' target=\"_blank\">desert-sweep-6</a></strong> to <a href='https://wandb.ai/kaimao-columbia-university/Hyperparameter%20Sensitivity' target=\"_blank\">Weights & Biases</a> (<a href='https://wandb.me/developer-guide' target=\"_blank\">docs</a>)<br>Sweep page: <a href='https://wandb.ai/kaimao-columbia-university/Hyperparameter%20Sensitivity/sweeps/y2g0jplp' target=\"_blank\">https://wandb.ai/kaimao-columbia-university/Hyperparameter%20Sensitivity/sweeps/y2g0jplp</a>"
      ],
      "text/plain": [
       "<IPython.core.display.HTML object>"
      ]
     },
     "metadata": {},
     "output_type": "display_data"
    },
    {
     "data": {
      "text/html": [
       " View project at <a href='https://wandb.ai/kaimao-columbia-university/Hyperparameter%20Sensitivity' target=\"_blank\">https://wandb.ai/kaimao-columbia-university/Hyperparameter%20Sensitivity</a>"
      ],
      "text/plain": [
       "<IPython.core.display.HTML object>"
      ]
     },
     "metadata": {},
     "output_type": "display_data"
    },
    {
     "data": {
      "text/html": [
       " View sweep at <a href='https://wandb.ai/kaimao-columbia-university/Hyperparameter%20Sensitivity/sweeps/y2g0jplp' target=\"_blank\">https://wandb.ai/kaimao-columbia-university/Hyperparameter%20Sensitivity/sweeps/y2g0jplp</a>"
      ],
      "text/plain": [
       "<IPython.core.display.HTML object>"
      ]
     },
     "metadata": {},
     "output_type": "display_data"
    },
    {
     "data": {
      "text/html": [
       " View run at <a href='https://wandb.ai/kaimao-columbia-university/Hyperparameter%20Sensitivity/runs/7yt0t72f' target=\"_blank\">https://wandb.ai/kaimao-columbia-university/Hyperparameter%20Sensitivity/runs/7yt0t72f</a>"
      ],
      "text/plain": [
       "<IPython.core.display.HTML object>"
      ]
     },
     "metadata": {},
     "output_type": "display_data"
    },
    {
     "name": "stderr",
     "output_type": "stream",
     "text": [
      "Some weights of DistilBertForSequenceClassification were not initialized from the model checkpoint at distilbert-base-uncased and are newly initialized: ['classifier.bias', 'classifier.weight', 'pre_classifier.bias', 'pre_classifier.weight']\n",
      "You should probably TRAIN this model on a down-stream task to be able to use it for predictions and inference.\n"
     ]
    },
    {
     "name": "stdout",
     "output_type": "stream",
     "text": [
      "---------start train: batch_size(32) lr(0.0005) num_workers(2) optimizer(AdamW)-----\n",
      "Epoch 1/2, Loss: 0.6983, Train Accuracy: 0.5016, Test Accuracy: 0.5000, data_loading time: 4.027059078216553                 compute time: 41.73872375488281 total epoch time: 50.55894684791565\n",
      "-------------------------------------------------------------------------------\n"
     ]
    },
    {
     "name": "stderr",
     "output_type": "stream",
     "text": [
      "\u001b[34m\u001b[1mwandb\u001b[0m: \u001b[32m\u001b[41mERROR\u001b[0m The nbformat package was not found. It is required to save notebook history.\n"
     ]
    },
    {
     "name": "stdout",
     "output_type": "stream",
     "text": [
      "Epoch 2/2, Loss: 0.6932, Train Accuracy: 0.4984, Test Accuracy: 0.5000, data_loading time: 4.3440101146698                 compute time: 41.72826957702637 total epoch time: 50.1086859703064\n",
      "-------------------------------------------------------------------------------\n"
     ]
    },
    {
     "data": {
      "text/html": [],
      "text/plain": [
       "<IPython.core.display.HTML object>"
      ]
     },
     "metadata": {},
     "output_type": "display_data"
    },
    {
     "data": {
      "text/html": [
       "<br>    <style><br>        .wandb-row {<br>            display: flex;<br>            flex-direction: row;<br>            flex-wrap: wrap;<br>            justify-content: flex-start;<br>            width: 100%;<br>        }<br>        .wandb-col {<br>            display: flex;<br>            flex-direction: column;<br>            flex-basis: 100%;<br>            flex: 1;<br>            padding: 10px;<br>        }<br>    </style><br><div class=\"wandb-row\"><div class=\"wandb-col\"><h3>Run history:</h3><br/><table class=\"wandb\"><tr><td>compute time</td><td>█▁</td></tr><tr><td>data-loading time</td><td>▁█</td></tr><tr><td>test/acc</td><td>▁▁</td></tr><tr><td>total epoch time</td><td>█▁</td></tr><tr><td>train/acc</td><td>█▁</td></tr></table><br/></div><div class=\"wandb-col\"><h3>Run summary:</h3><br/><table class=\"wandb\"><tr><td>compute time</td><td>41.72827</td></tr><tr><td>data-loading time</td><td>4.34401</td></tr><tr><td>test/acc</td><td>0.5</td></tr><tr><td>total epoch time</td><td>50.10869</td></tr><tr><td>train/acc</td><td>0.49836</td></tr></table><br/></div></div>"
      ],
      "text/plain": [
       "<IPython.core.display.HTML object>"
      ]
     },
     "metadata": {},
     "output_type": "display_data"
    },
    {
     "data": {
      "text/html": [
       " View run <strong style=\"color:#cdcd00\">desert-sweep-6</strong> at: <a href='https://wandb.ai/kaimao-columbia-university/Hyperparameter%20Sensitivity/runs/7yt0t72f' target=\"_blank\">https://wandb.ai/kaimao-columbia-university/Hyperparameter%20Sensitivity/runs/7yt0t72f</a><br> View project at: <a href='https://wandb.ai/kaimao-columbia-university/Hyperparameter%20Sensitivity' target=\"_blank\">https://wandb.ai/kaimao-columbia-university/Hyperparameter%20Sensitivity</a><br>Synced 5 W&B file(s), 0 media file(s), 0 artifact file(s) and 0 other file(s)"
      ],
      "text/plain": [
       "<IPython.core.display.HTML object>"
      ]
     },
     "metadata": {},
     "output_type": "display_data"
    },
    {
     "data": {
      "text/html": [
       "Find logs at: <code>./wandb/run-20251021_045113-7yt0t72f/logs</code>"
      ],
      "text/plain": [
       "<IPython.core.display.HTML object>"
      ]
     },
     "metadata": {},
     "output_type": "display_data"
    },
    {
     "name": "stderr",
     "output_type": "stream",
     "text": [
      "\u001b[34m\u001b[1mwandb\u001b[0m: Agent Starting Run: ehbzvjpl with config:\n",
      "\u001b[34m\u001b[1mwandb\u001b[0m: \tbatch_size: 64\n",
      "\u001b[34m\u001b[1mwandb\u001b[0m: \tlearning_rate: 5e-05\n",
      "\u001b[34m\u001b[1mwandb\u001b[0m: \u001b[32m\u001b[41mERROR\u001b[0m Failed to detect the name of this notebook. You can set it manually with the WANDB_NOTEBOOK_NAME environment variable to enable code saving.\n"
     ]
    },
    {
     "data": {
      "text/html": [],
      "text/plain": [
       "<IPython.core.display.HTML object>"
      ]
     },
     "metadata": {},
     "output_type": "display_data"
    },
    {
     "data": {
      "text/html": [
       "Tracking run with wandb version 0.22.2"
      ],
      "text/plain": [
       "<IPython.core.display.HTML object>"
      ]
     },
     "metadata": {},
     "output_type": "display_data"
    },
    {
     "data": {
      "text/html": [
       "Run data is saved locally in <code>/workspace/wandb/run-20251021_045344-ehbzvjpl</code>"
      ],
      "text/plain": [
       "<IPython.core.display.HTML object>"
      ]
     },
     "metadata": {},
     "output_type": "display_data"
    },
    {
     "data": {
      "text/html": [
       "Syncing run <strong><a href='https://wandb.ai/kaimao-columbia-university/Hyperparameter%20Sensitivity/runs/ehbzvjpl' target=\"_blank\">stellar-sweep-7</a></strong> to <a href='https://wandb.ai/kaimao-columbia-university/Hyperparameter%20Sensitivity' target=\"_blank\">Weights & Biases</a> (<a href='https://wandb.me/developer-guide' target=\"_blank\">docs</a>)<br>Sweep page: <a href='https://wandb.ai/kaimao-columbia-university/Hyperparameter%20Sensitivity/sweeps/y2g0jplp' target=\"_blank\">https://wandb.ai/kaimao-columbia-university/Hyperparameter%20Sensitivity/sweeps/y2g0jplp</a>"
      ],
      "text/plain": [
       "<IPython.core.display.HTML object>"
      ]
     },
     "metadata": {},
     "output_type": "display_data"
    },
    {
     "data": {
      "text/html": [
       " View project at <a href='https://wandb.ai/kaimao-columbia-university/Hyperparameter%20Sensitivity' target=\"_blank\">https://wandb.ai/kaimao-columbia-university/Hyperparameter%20Sensitivity</a>"
      ],
      "text/plain": [
       "<IPython.core.display.HTML object>"
      ]
     },
     "metadata": {},
     "output_type": "display_data"
    },
    {
     "data": {
      "text/html": [
       " View sweep at <a href='https://wandb.ai/kaimao-columbia-university/Hyperparameter%20Sensitivity/sweeps/y2g0jplp' target=\"_blank\">https://wandb.ai/kaimao-columbia-university/Hyperparameter%20Sensitivity/sweeps/y2g0jplp</a>"
      ],
      "text/plain": [
       "<IPython.core.display.HTML object>"
      ]
     },
     "metadata": {},
     "output_type": "display_data"
    },
    {
     "data": {
      "text/html": [
       " View run at <a href='https://wandb.ai/kaimao-columbia-university/Hyperparameter%20Sensitivity/runs/ehbzvjpl' target=\"_blank\">https://wandb.ai/kaimao-columbia-university/Hyperparameter%20Sensitivity/runs/ehbzvjpl</a>"
      ],
      "text/plain": [
       "<IPython.core.display.HTML object>"
      ]
     },
     "metadata": {},
     "output_type": "display_data"
    },
    {
     "name": "stderr",
     "output_type": "stream",
     "text": [
      "Some weights of DistilBertForSequenceClassification were not initialized from the model checkpoint at distilbert-base-uncased and are newly initialized: ['classifier.bias', 'classifier.weight', 'pre_classifier.bias', 'pre_classifier.weight']\n",
      "You should probably TRAIN this model on a down-stream task to be able to use it for predictions and inference.\n"
     ]
    },
    {
     "name": "stdout",
     "output_type": "stream",
     "text": [
      "---------start train: batch_size(64) lr(5e-05) num_workers(2) optimizer(AdamW)-----\n",
      "Epoch 1/2, Loss: 0.2931, Train Accuracy: 0.8748, Test Accuracy: 0.9079, data_loading time: 3.631897449493408                 compute time: 40.23127055168152 total epoch time: 47.82063055038452\n",
      "-------------------------------------------------------------------------------\n"
     ]
    },
    {
     "name": "stderr",
     "output_type": "stream",
     "text": [
      "\u001b[34m\u001b[1mwandb\u001b[0m: \u001b[32m\u001b[41mERROR\u001b[0m The nbformat package was not found. It is required to save notebook history.\n"
     ]
    },
    {
     "name": "stdout",
     "output_type": "stream",
     "text": [
      "Epoch 2/2, Loss: 0.1632, Train Accuracy: 0.9385, Test Accuracy: 0.9058, data_loading time: 3.6717135906219482                 compute time: 40.30282783508301 total epoch time: 48.06329941749573\n",
      "-------------------------------------------------------------------------------\n"
     ]
    },
    {
     "data": {
      "text/html": [],
      "text/plain": [
       "<IPython.core.display.HTML object>"
      ]
     },
     "metadata": {},
     "output_type": "display_data"
    },
    {
     "data": {
      "text/html": [
       "<br>    <style><br>        .wandb-row {<br>            display: flex;<br>            flex-direction: row;<br>            flex-wrap: wrap;<br>            justify-content: flex-start;<br>            width: 100%;<br>        }<br>        .wandb-col {<br>            display: flex;<br>            flex-direction: column;<br>            flex-basis: 100%;<br>            flex: 1;<br>            padding: 10px;<br>        }<br>    </style><br><div class=\"wandb-row\"><div class=\"wandb-col\"><h3>Run history:</h3><br/><table class=\"wandb\"><tr><td>compute time</td><td>▁█</td></tr><tr><td>data-loading time</td><td>▁█</td></tr><tr><td>test/acc</td><td>█▁</td></tr><tr><td>total epoch time</td><td>▁█</td></tr><tr><td>train/acc</td><td>▁█</td></tr></table><br/></div><div class=\"wandb-col\"><h3>Run summary:</h3><br/><table class=\"wandb\"><tr><td>compute time</td><td>40.30283</td></tr><tr><td>data-loading time</td><td>3.67171</td></tr><tr><td>test/acc</td><td>0.90584</td></tr><tr><td>total epoch time</td><td>48.0633</td></tr><tr><td>train/acc</td><td>0.93848</td></tr></table><br/></div></div>"
      ],
      "text/plain": [
       "<IPython.core.display.HTML object>"
      ]
     },
     "metadata": {},
     "output_type": "display_data"
    },
    {
     "data": {
      "text/html": [
       " View run <strong style=\"color:#cdcd00\">stellar-sweep-7</strong> at: <a href='https://wandb.ai/kaimao-columbia-university/Hyperparameter%20Sensitivity/runs/ehbzvjpl' target=\"_blank\">https://wandb.ai/kaimao-columbia-university/Hyperparameter%20Sensitivity/runs/ehbzvjpl</a><br> View project at: <a href='https://wandb.ai/kaimao-columbia-university/Hyperparameter%20Sensitivity' target=\"_blank\">https://wandb.ai/kaimao-columbia-university/Hyperparameter%20Sensitivity</a><br>Synced 5 W&B file(s), 0 media file(s), 0 artifact file(s) and 0 other file(s)"
      ],
      "text/plain": [
       "<IPython.core.display.HTML object>"
      ]
     },
     "metadata": {},
     "output_type": "display_data"
    },
    {
     "data": {
      "text/html": [
       "Find logs at: <code>./wandb/run-20251021_045344-ehbzvjpl/logs</code>"
      ],
      "text/plain": [
       "<IPython.core.display.HTML object>"
      ]
     },
     "metadata": {},
     "output_type": "display_data"
    },
    {
     "name": "stderr",
     "output_type": "stream",
     "text": [
      "\u001b[34m\u001b[1mwandb\u001b[0m: Agent Starting Run: 52db4wm9 with config:\n",
      "\u001b[34m\u001b[1mwandb\u001b[0m: \tbatch_size: 64\n",
      "\u001b[34m\u001b[1mwandb\u001b[0m: \tlearning_rate: 0.0001\n",
      "\u001b[34m\u001b[1mwandb\u001b[0m: \u001b[32m\u001b[41mERROR\u001b[0m Failed to detect the name of this notebook. You can set it manually with the WANDB_NOTEBOOK_NAME environment variable to enable code saving.\n"
     ]
    },
    {
     "data": {
      "text/html": [],
      "text/plain": [
       "<IPython.core.display.HTML object>"
      ]
     },
     "metadata": {},
     "output_type": "display_data"
    },
    {
     "data": {
      "text/html": [
       "Tracking run with wandb version 0.22.2"
      ],
      "text/plain": [
       "<IPython.core.display.HTML object>"
      ]
     },
     "metadata": {},
     "output_type": "display_data"
    },
    {
     "data": {
      "text/html": [
       "Run data is saved locally in <code>/workspace/wandb/run-20251021_045612-52db4wm9</code>"
      ],
      "text/plain": [
       "<IPython.core.display.HTML object>"
      ]
     },
     "metadata": {},
     "output_type": "display_data"
    },
    {
     "data": {
      "text/html": [
       "Syncing run <strong><a href='https://wandb.ai/kaimao-columbia-university/Hyperparameter%20Sensitivity/runs/52db4wm9' target=\"_blank\">polar-sweep-8</a></strong> to <a href='https://wandb.ai/kaimao-columbia-university/Hyperparameter%20Sensitivity' target=\"_blank\">Weights & Biases</a> (<a href='https://wandb.me/developer-guide' target=\"_blank\">docs</a>)<br>Sweep page: <a href='https://wandb.ai/kaimao-columbia-university/Hyperparameter%20Sensitivity/sweeps/y2g0jplp' target=\"_blank\">https://wandb.ai/kaimao-columbia-university/Hyperparameter%20Sensitivity/sweeps/y2g0jplp</a>"
      ],
      "text/plain": [
       "<IPython.core.display.HTML object>"
      ]
     },
     "metadata": {},
     "output_type": "display_data"
    },
    {
     "data": {
      "text/html": [
       " View project at <a href='https://wandb.ai/kaimao-columbia-university/Hyperparameter%20Sensitivity' target=\"_blank\">https://wandb.ai/kaimao-columbia-university/Hyperparameter%20Sensitivity</a>"
      ],
      "text/plain": [
       "<IPython.core.display.HTML object>"
      ]
     },
     "metadata": {},
     "output_type": "display_data"
    },
    {
     "data": {
      "text/html": [
       " View sweep at <a href='https://wandb.ai/kaimao-columbia-university/Hyperparameter%20Sensitivity/sweeps/y2g0jplp' target=\"_blank\">https://wandb.ai/kaimao-columbia-university/Hyperparameter%20Sensitivity/sweeps/y2g0jplp</a>"
      ],
      "text/plain": [
       "<IPython.core.display.HTML object>"
      ]
     },
     "metadata": {},
     "output_type": "display_data"
    },
    {
     "data": {
      "text/html": [
       " View run at <a href='https://wandb.ai/kaimao-columbia-university/Hyperparameter%20Sensitivity/runs/52db4wm9' target=\"_blank\">https://wandb.ai/kaimao-columbia-university/Hyperparameter%20Sensitivity/runs/52db4wm9</a>"
      ],
      "text/plain": [
       "<IPython.core.display.HTML object>"
      ]
     },
     "metadata": {},
     "output_type": "display_data"
    },
    {
     "name": "stderr",
     "output_type": "stream",
     "text": [
      "Some weights of DistilBertForSequenceClassification were not initialized from the model checkpoint at distilbert-base-uncased and are newly initialized: ['classifier.bias', 'classifier.weight', 'pre_classifier.bias', 'pre_classifier.weight']\n",
      "You should probably TRAIN this model on a down-stream task to be able to use it for predictions and inference.\n"
     ]
    },
    {
     "name": "stdout",
     "output_type": "stream",
     "text": [
      "---------start train: batch_size(64) lr(0.0001) num_workers(2) optimizer(AdamW)-----\n",
      "Epoch 1/2, Loss: 0.3137, Train Accuracy: 0.8618, Test Accuracy: 0.8916, data_loading time: 3.6058061122894287                 compute time: 40.00300621986389 total epoch time: 47.626259088516235\n",
      "-------------------------------------------------------------------------------\n"
     ]
    },
    {
     "name": "stderr",
     "output_type": "stream",
     "text": [
      "\u001b[34m\u001b[1mwandb\u001b[0m: \u001b[32m\u001b[41mERROR\u001b[0m The nbformat package was not found. It is required to save notebook history.\n"
     ]
    },
    {
     "name": "stdout",
     "output_type": "stream",
     "text": [
      "Epoch 2/2, Loss: 0.1613, Train Accuracy: 0.9400, Test Accuracy: 0.9052, data_loading time: 3.7015445232391357                 compute time: 40.06726408004761 total epoch time: 47.8132266998291\n",
      "-------------------------------------------------------------------------------\n"
     ]
    },
    {
     "data": {
      "text/html": [],
      "text/plain": [
       "<IPython.core.display.HTML object>"
      ]
     },
     "metadata": {},
     "output_type": "display_data"
    },
    {
     "data": {
      "text/html": [
       "<br>    <style><br>        .wandb-row {<br>            display: flex;<br>            flex-direction: row;<br>            flex-wrap: wrap;<br>            justify-content: flex-start;<br>            width: 100%;<br>        }<br>        .wandb-col {<br>            display: flex;<br>            flex-direction: column;<br>            flex-basis: 100%;<br>            flex: 1;<br>            padding: 10px;<br>        }<br>    </style><br><div class=\"wandb-row\"><div class=\"wandb-col\"><h3>Run history:</h3><br/><table class=\"wandb\"><tr><td>compute time</td><td>▁█</td></tr><tr><td>data-loading time</td><td>▁█</td></tr><tr><td>test/acc</td><td>▁█</td></tr><tr><td>total epoch time</td><td>▁█</td></tr><tr><td>train/acc</td><td>▁█</td></tr></table><br/></div><div class=\"wandb-col\"><h3>Run summary:</h3><br/><table class=\"wandb\"><tr><td>compute time</td><td>40.06726</td></tr><tr><td>data-loading time</td><td>3.70154</td></tr><tr><td>test/acc</td><td>0.90516</td></tr><tr><td>total epoch time</td><td>47.81323</td></tr><tr><td>train/acc</td><td>0.93996</td></tr></table><br/></div></div>"
      ],
      "text/plain": [
       "<IPython.core.display.HTML object>"
      ]
     },
     "metadata": {},
     "output_type": "display_data"
    },
    {
     "data": {
      "text/html": [
       " View run <strong style=\"color:#cdcd00\">polar-sweep-8</strong> at: <a href='https://wandb.ai/kaimao-columbia-university/Hyperparameter%20Sensitivity/runs/52db4wm9' target=\"_blank\">https://wandb.ai/kaimao-columbia-university/Hyperparameter%20Sensitivity/runs/52db4wm9</a><br> View project at: <a href='https://wandb.ai/kaimao-columbia-university/Hyperparameter%20Sensitivity' target=\"_blank\">https://wandb.ai/kaimao-columbia-university/Hyperparameter%20Sensitivity</a><br>Synced 5 W&B file(s), 0 media file(s), 0 artifact file(s) and 0 other file(s)"
      ],
      "text/plain": [
       "<IPython.core.display.HTML object>"
      ]
     },
     "metadata": {},
     "output_type": "display_data"
    },
    {
     "data": {
      "text/html": [
       "Find logs at: <code>./wandb/run-20251021_045612-52db4wm9/logs</code>"
      ],
      "text/plain": [
       "<IPython.core.display.HTML object>"
      ]
     },
     "metadata": {},
     "output_type": "display_data"
    },
    {
     "name": "stderr",
     "output_type": "stream",
     "text": [
      "\u001b[34m\u001b[1mwandb\u001b[0m: Agent Starting Run: 9fm34824 with config:\n",
      "\u001b[34m\u001b[1mwandb\u001b[0m: \tbatch_size: 64\n",
      "\u001b[34m\u001b[1mwandb\u001b[0m: \tlearning_rate: 0.0005\n",
      "\u001b[34m\u001b[1mwandb\u001b[0m: \u001b[32m\u001b[41mERROR\u001b[0m Failed to detect the name of this notebook. You can set it manually with the WANDB_NOTEBOOK_NAME environment variable to enable code saving.\n"
     ]
    },
    {
     "data": {
      "text/html": [],
      "text/plain": [
       "<IPython.core.display.HTML object>"
      ]
     },
     "metadata": {},
     "output_type": "display_data"
    },
    {
     "data": {
      "text/html": [
       "Tracking run with wandb version 0.22.2"
      ],
      "text/plain": [
       "<IPython.core.display.HTML object>"
      ]
     },
     "metadata": {},
     "output_type": "display_data"
    },
    {
     "data": {
      "text/html": [
       "Run data is saved locally in <code>/workspace/wandb/run-20251021_045835-9fm34824</code>"
      ],
      "text/plain": [
       "<IPython.core.display.HTML object>"
      ]
     },
     "metadata": {},
     "output_type": "display_data"
    },
    {
     "data": {
      "text/html": [
       "Syncing run <strong><a href='https://wandb.ai/kaimao-columbia-university/Hyperparameter%20Sensitivity/runs/9fm34824' target=\"_blank\">eager-sweep-9</a></strong> to <a href='https://wandb.ai/kaimao-columbia-university/Hyperparameter%20Sensitivity' target=\"_blank\">Weights & Biases</a> (<a href='https://wandb.me/developer-guide' target=\"_blank\">docs</a>)<br>Sweep page: <a href='https://wandb.ai/kaimao-columbia-university/Hyperparameter%20Sensitivity/sweeps/y2g0jplp' target=\"_blank\">https://wandb.ai/kaimao-columbia-university/Hyperparameter%20Sensitivity/sweeps/y2g0jplp</a>"
      ],
      "text/plain": [
       "<IPython.core.display.HTML object>"
      ]
     },
     "metadata": {},
     "output_type": "display_data"
    },
    {
     "data": {
      "text/html": [
       " View project at <a href='https://wandb.ai/kaimao-columbia-university/Hyperparameter%20Sensitivity' target=\"_blank\">https://wandb.ai/kaimao-columbia-university/Hyperparameter%20Sensitivity</a>"
      ],
      "text/plain": [
       "<IPython.core.display.HTML object>"
      ]
     },
     "metadata": {},
     "output_type": "display_data"
    },
    {
     "data": {
      "text/html": [
       " View sweep at <a href='https://wandb.ai/kaimao-columbia-university/Hyperparameter%20Sensitivity/sweeps/y2g0jplp' target=\"_blank\">https://wandb.ai/kaimao-columbia-university/Hyperparameter%20Sensitivity/sweeps/y2g0jplp</a>"
      ],
      "text/plain": [
       "<IPython.core.display.HTML object>"
      ]
     },
     "metadata": {},
     "output_type": "display_data"
    },
    {
     "data": {
      "text/html": [
       " View run at <a href='https://wandb.ai/kaimao-columbia-university/Hyperparameter%20Sensitivity/runs/9fm34824' target=\"_blank\">https://wandb.ai/kaimao-columbia-university/Hyperparameter%20Sensitivity/runs/9fm34824</a>"
      ],
      "text/plain": [
       "<IPython.core.display.HTML object>"
      ]
     },
     "metadata": {},
     "output_type": "display_data"
    },
    {
     "name": "stderr",
     "output_type": "stream",
     "text": [
      "Some weights of DistilBertForSequenceClassification were not initialized from the model checkpoint at distilbert-base-uncased and are newly initialized: ['classifier.bias', 'classifier.weight', 'pre_classifier.bias', 'pre_classifier.weight']\n",
      "You should probably TRAIN this model on a down-stream task to be able to use it for predictions and inference.\n"
     ]
    },
    {
     "name": "stdout",
     "output_type": "stream",
     "text": [
      "---------start train: batch_size(64) lr(0.0005) num_workers(2) optimizer(AdamW)-----\n",
      "Epoch 1/2, Loss: 0.6971, Train Accuracy: 0.5002, Test Accuracy: 0.5000, data_loading time: 3.5461485385894775                 compute time: 39.772443771362305 total epoch time: 47.27660632133484\n",
      "-------------------------------------------------------------------------------\n"
     ]
    },
    {
     "name": "stderr",
     "output_type": "stream",
     "text": [
      "\u001b[34m\u001b[1mwandb\u001b[0m: Ctrl + C detected. Stopping sweep.\n",
      "Traceback (most recent call last):\n",
      "  File \"/tmp/ipykernel_1984/2333432887.py\", line 36, in train\n",
      "    for batch in train_loader:\n",
      "                 ^^^^^^^^^^^^\n",
      "  File \"/venv/main/lib/python3.12/site-packages/torch/utils/data/dataloader.py\", line 734, in __next__\n",
      "    data = self._next_data()\n",
      "           ^^^^^^^^^^^^^^^^^\n",
      "  File \"/venv/main/lib/python3.12/site-packages/torch/utils/data/dataloader.py\", line 1492, in _next_data\n",
      "    idx, data = self._get_data()\n",
      "                ^^^^^^^^^^^^^^^^\n",
      "  File \"/venv/main/lib/python3.12/site-packages/torch/utils/data/dataloader.py\", line 1454, in _get_data\n",
      "    success, data = self._try_get_data()\n",
      "                    ^^^^^^^^^^^^^^^^^^^^\n",
      "  File \"/venv/main/lib/python3.12/site-packages/torch/utils/data/dataloader.py\", line 1285, in _try_get_data\n",
      "    data = self._data_queue.get(timeout=timeout)\n",
      "           ^^^^^^^^^^^^^^^^^^^^^^^^^^^^^^^^^^^^^\n",
      "  File \"/venv/main/lib/python3.12/multiprocessing/queues.py\", line 122, in get\n",
      "    return _ForkingPickler.loads(res)\n",
      "           ^^^^^^^^^^^^^^^^^^^^^^^^^^\n",
      "  File \"/venv/main/lib/python3.12/site-packages/torch/multiprocessing/reductions.py\", line 541, in rebuild_storage_fd\n",
      "    fd = df.detach()\n",
      "         ^^^^^^^^^^^\n",
      "  File \"/venv/main/lib/python3.12/multiprocessing/resource_sharer.py\", line 57, in detach\n",
      "    with _resource_sharer.get_connection(self._id) as conn:\n",
      "         ^^^^^^^^^^^^^^^^^^^^^^^^^^^^^^^^^^^^^^^^^\n",
      "  File \"/venv/main/lib/python3.12/multiprocessing/resource_sharer.py\", line 86, in get_connection\n",
      "    c = Client(address, authkey=process.current_process().authkey)\n",
      "        ^^^^^^^^^^^^^^^^^^^^^^^^^^^^^^^^^^^^^^^^^^^^^^^^^^^^^^^^^^\n",
      "  File \"/venv/main/lib/python3.12/multiprocessing/connection.py\", line 519, in Client\n",
      "    c = SocketClient(address)\n",
      "        ^^^^^^^^^^^^^^^^^^^^^\n",
      "  File \"/venv/main/lib/python3.12/multiprocessing/connection.py\", line 647, in SocketClient\n",
      "    s.connect(address)\n",
      "FileNotFoundError: [Errno 2] No such file or directory\n",
      "\u001b[34m\u001b[1mwandb\u001b[0m: \u001b[32m\u001b[41mERROR\u001b[0m The nbformat package was not found. It is required to save notebook history.\n",
      "Traceback (most recent call last):\n",
      "  File \"/venv/main/lib/python3.12/site-packages/wandb/agents/pyagent.py\", line 297, in _run_job\n",
      "    self._function()\n",
      "  File \"/tmp/ipykernel_1984/2333432887.py\", line 36, in train\n",
      "    for batch in train_loader:\n",
      "                 ^^^^^^^^^^^^\n",
      "  File \"/venv/main/lib/python3.12/site-packages/torch/utils/data/dataloader.py\", line 734, in __next__\n",
      "    data = self._next_data()\n",
      "           ^^^^^^^^^^^^^^^^^\n",
      "  File \"/venv/main/lib/python3.12/site-packages/torch/utils/data/dataloader.py\", line 1492, in _next_data\n",
      "    idx, data = self._get_data()\n",
      "                ^^^^^^^^^^^^^^^^\n",
      "  File \"/venv/main/lib/python3.12/site-packages/torch/utils/data/dataloader.py\", line 1454, in _get_data\n",
      "    success, data = self._try_get_data()\n",
      "                    ^^^^^^^^^^^^^^^^^^^^\n",
      "  File \"/venv/main/lib/python3.12/site-packages/torch/utils/data/dataloader.py\", line 1285, in _try_get_data\n",
      "    data = self._data_queue.get(timeout=timeout)\n",
      "           ^^^^^^^^^^^^^^^^^^^^^^^^^^^^^^^^^^^^^\n",
      "  File \"/venv/main/lib/python3.12/multiprocessing/queues.py\", line 122, in get\n",
      "    return _ForkingPickler.loads(res)\n",
      "           ^^^^^^^^^^^^^^^^^^^^^^^^^^\n",
      "  File \"/venv/main/lib/python3.12/site-packages/torch/multiprocessing/reductions.py\", line 541, in rebuild_storage_fd\n",
      "    fd = df.detach()\n",
      "         ^^^^^^^^^^^\n",
      "  File \"/venv/main/lib/python3.12/multiprocessing/resource_sharer.py\", line 57, in detach\n",
      "    with _resource_sharer.get_connection(self._id) as conn:\n",
      "         ^^^^^^^^^^^^^^^^^^^^^^^^^^^^^^^^^^^^^^^^^\n",
      "  File \"/venv/main/lib/python3.12/multiprocessing/resource_sharer.py\", line 86, in get_connection\n",
      "    c = Client(address, authkey=process.current_process().authkey)\n",
      "        ^^^^^^^^^^^^^^^^^^^^^^^^^^^^^^^^^^^^^^^^^^^^^^^^^^^^^^^^^^\n",
      "  File \"/venv/main/lib/python3.12/multiprocessing/connection.py\", line 519, in Client\n",
      "    c = SocketClient(address)\n",
      "        ^^^^^^^^^^^^^^^^^^^^^\n",
      "  File \"/venv/main/lib/python3.12/multiprocessing/connection.py\", line 647, in SocketClient\n",
      "    s.connect(address)\n",
      "FileNotFoundError: [Errno 2] No such file or directory\n",
      "\n"
     ]
    }
   ],
   "source": [
    "sweep_config = {\n",
    "    'method': 'grid',\n",
    "    'parameters': {\n",
    "        'batch_size': {'values': [16, 32, 64]},\n",
    "        'learning_rate': {'values': [5e-5, 1e-4, 5e-4]}\n",
    "    }\n",
    "}\n",
    "\n",
    "sweep_id = wandb.sweep(sweep_config, project=project_name)\n",
    "\n",
    "wandb.agent(sweep_id, function=train_C6, count=9)"
   ]
  },
  {
   "cell_type": "code",
   "execution_count": null,
   "id": "abfee77f-1105-400a-944d-e071a4fac36f",
   "metadata": {},
   "outputs": [],
   "source": [
    "avg_epoch_time = []\n",
    "test_accuracy = []\n",
    "train_accuracy = []\n",
    "def train_C7():\n",
    "  with wandb.init(\n",
    "    group=\"Hyperparameter Sensitivity\",\n",
    "    config={\n",
    "        \"model_name\": \"distilbert-base-uncased\",\n",
    "        \"max_len\": 256, \n",
    "        \"batch_size\": 32,\n",
    "        \"learning_rate\": 1e-4,\n",
    "        \"num_workers\": 2,\n",
    "        \"epochs\": 5, \n",
    "        \"compile_mode\": False\n",
    "    }) as run:\n",
    "        \n",
    "      train_loader = DataLoader(tokenized[\"train\"], batch_size=config.batch_size, shuffle=True, collate_fn=data_collator, num_workers=config.num_workers)\n",
    "      test_loader = DataLoader(tokenized[\"test\"], batch_size=config.batch_size, collate_fn=data_collator, num_workers=config.num_workers)\n",
    "      model_name = \"distilbert-base-uncased\"\n",
    "      model = DistilBertForSequenceClassification.from_pretrained(model_name, num_labels=2)\n",
    "      model.to(device)\n",
    "\n",
    "      model_train_accuracy = 0\n",
    "    \n",
    "      optimizer = getattr(optim, config.optimizer.capitalize())(model.parameters(), lr=config.learning_rate)\n",
    "      print(f\"---------start train: batch_size({config.batch_size}) lr({config.learning_rate}) num_workers({config.num_workers}) optimizer({config.optimizer})-----\")\n",
    "      train_loss = []\n",
    "      train_accuracy = []\n",
    "      test_accuracy = []\n",
    "      data_loading_time_arr = []\n",
    "      compute_time_arr = []\n",
    "      epoch_time_arr = []\n",
    "    \n",
    "      for epoch in range(config.epochs):\n",
    "        model.train()\n",
    "        total_loss = 0\n",
    "        total_correct = 0\n",
    "        total_samples = 0\n",
    "        data_loading_time = 0\n",
    "        training_compute_time = 0\n",
    "        total_epoch_time = 0\n",
    "        start_data_loading = time.time()\n",
    "        start_epoch_time = time.time()\n",
    "        for batch in train_loader:\n",
    "            inputs = {\n",
    "                \"input_ids\": batch[\"input_ids\"].to(device),\n",
    "                \"attention_mask\": batch[\"attention_mask\"].to(device),\n",
    "                \"labels\": batch[\"labels\"].to(device),\n",
    "            }\n",
    "            torch.cuda.synchronize()\n",
    "            end = time.time()\n",
    "            data_loading_time +=  end - start_data_loading\n",
    "\n",
    "            start_compute = time.time()\n",
    "            optimizer.zero_grad()\n",
    "            outputs = model(**inputs)\n",
    "            loss = outputs.loss\n",
    "            loss.backward()\n",
    "            optimizer.step()\n",
    "    \n",
    "            torch.cuda.synchronize()\n",
    "            end = time.time()\n",
    "            training_compute_time += end - start_compute\n",
    "    \n",
    "            logits = outputs.logits\n",
    "            preds = torch.argmax(logits, dim = 1)\n",
    "            labels = batch[\"labels\"].to(device)\n",
    "            correct = (preds == labels).sum().item()\n",
    "            total_correct += correct\n",
    "            total_samples += len(labels)\n",
    "            total_loss += loss.item()\n",
    "    \n",
    "            start_data_loading = time.time()\n",
    "    \n",
    "        end = time.time()\n",
    "        total_epoch_time = end - start_epoch_time\n",
    "    \n",
    "        avg_loss = total_loss / len(train_loader)\n",
    "        avg_accuracy = total_correct / total_samples\n",
    "        train_loss.append(avg_loss)\n",
    "        train_accuracy.append(avg_accuracy)\n",
    "    \n",
    "        model.eval()\n",
    "        correct = 0\n",
    "        total = 0\n",
    "    \n",
    "        with torch.no_grad():\n",
    "            for batch in test_loader:\n",
    "                inputs = {\n",
    "                    \"input_ids\": batch[\"input_ids\"].to(device),\n",
    "                    \"attention_mask\": batch[\"attention_mask\"].to(device),\n",
    "                }\n",
    "                labels = batch[\"labels\"].to(device)\n",
    "    \n",
    "                logits = model(**inputs).logits\n",
    "                preds = torch.argmax(logits, dim=1)\n",
    "    \n",
    "                correct += (preds == labels).sum().item()\n",
    "                total += labels.size(0)\n",
    "    \n",
    "        accuracy = correct / total\n",
    "        test_accuracy.append(accuracy)\n",
    "    \n",
    "        wandb.log({\"train/loss\": train_loss,\n",
    "                  \"train/acc\": avg_accuracy,\n",
    "                  \"test/acc\": accuracy,\n",
    "                  \"data-loading time\": data_loading_time,\n",
    "                  \"compute time\": training_compute_time,\n",
    "                  \"total epoch time\": total_epoch_time})\n",
    "    \n",
    "        data_loading_time_arr.append(data_loading_time)\n",
    "        compute_time_arr.append(training_compute_time)\n",
    "        epoch_time_arr.append(total_epoch_time)\n",
    "        model_train_accuracy += avg_accuracy\n",
    "        print(f\"Epoch {epoch+1}/{config.epochs}, Loss: {avg_loss:.4f}, Train Accuracy: {avg_accuracy:.4f}, Test Accuracy: {accuracy:.4f}, data_loading time: {data_loading_time} \\\n",
    "                compute time: {training_compute_time} total epoch time: {total_epoch_time}\")\n",
    "        print(f\"-------------------------------------------------------------------------------\")\n",
    "        \n",
    "      avg_epoch_time.append({\"lr\":config.lr, \"batch_size\":config.batch_size, \"avg_epoch_time\":sum(epoch_time_arr)/len(epoch_time_arr})\n",
    "      train_accuracy.append({\"lr\":config.lr, \"batch_size\":config.batch_size, \"accuracy\":model_train_accuray/config.epochs})\n",
    "\n",
    "      model.eval()\n",
    "      correct = 0\n",
    "      total = 0\n",
    "    \n",
    "      with torch.no_grad():\n",
    "          for batch in test_loader:\n",
    "              inputs = {\n",
    "                  \"input_ids\": batch[\"input_ids\"].to(device),\n",
    "                  \"attention_mask\": batch[\"attention_mask\"].to(device),\n",
    "              }\n",
    "              labels = batch[\"labels\"].to(device)\n",
    "    \n",
    "              logits = model(**inputs).logits\n",
    "              preds = torch.argmax(logits, dim=1)\n",
    "    \n",
    "              correct += (preds == labels).sum().item()\n",
    "              total += labels.size(0)\n",
    "    \n",
    "      accuracy = correct / total\n",
    "      test_accuracy.append({\"lr\":config.lr, \"batch_size\":config.batch_size, \"accuracy\":accuracy})\n",
    "      "
   ]
  },
  {
   "cell_type": "code",
   "execution_count": null,
   "id": "6607b4e3-a1db-404b-ba17-e9625f62fdb4",
   "metadata": {},
   "outputs": [],
   "source": [
    "sweep_config = {\n",
    "    'method': 'grid',\n",
    "    'parameters': {\n",
    "        \"optimizer\":[\"SGD\", \"Adam\", \"AdamW\"]\n",
    "    }\n",
    "}\n",
    "\n",
    "sweep_id = wandb.sweep(sweep_config, project=project_name)\n",
    "\n",
    "wandb.agent(sweep_id, function=train_C7, count=3)"
   ]
  }
 ],
 "metadata": {
  "accelerator": "GPU",
  "colab": {
   "gpuType": "A100",
   "machine_shape": "hm",
   "provenance": []
  },
  "kernelspec": {
   "display_name": "Python3 (ipykernel)",
   "language": "python",
   "name": "python3"
  },
  "language_info": {
   "codemirror_mode": {
    "name": "ipython",
    "version": 3
   },
   "file_extension": ".py",
   "mimetype": "text/x-python",
   "name": "python",
   "nbconvert_exporter": "python",
   "pygments_lexer": "ipython3",
   "version": "3.12.11"
  },
  "widgets": {
   "application/vnd.jupyter.widget-state+json": {
    "0ec1c41e4f85443d868236d675d4856c": {
     "model_module": "@jupyter-widgets/controls",
     "model_module_version": "1.5.0",
     "model_name": "HTMLModel",
     "state": {
      "_dom_classes": [],
      "_model_module": "@jupyter-widgets/controls",
      "_model_module_version": "1.5.0",
      "_model_name": "HTMLModel",
      "_view_count": null,
      "_view_module": "@jupyter-widgets/controls",
      "_view_module_version": "1.5.0",
      "_view_name": "HTMLView",
      "description": "",
      "description_tooltip": null,
      "layout": "IPY_MODEL_ff5b88b3381b4151b68454525b28b50f",
      "placeholder": "​",
      "style": "IPY_MODEL_2e2f639d1d014bb487b918c6425b5745",
      "value": "Map: 100%"
     }
    },
    "2763fccb191a4caba493fc9a544f1cda": {
     "model_module": "@jupyter-widgets/controls",
     "model_module_version": "1.5.0",
     "model_name": "ProgressStyleModel",
     "state": {
      "_model_module": "@jupyter-widgets/controls",
      "_model_module_version": "1.5.0",
      "_model_name": "ProgressStyleModel",
      "_view_count": null,
      "_view_module": "@jupyter-widgets/base",
      "_view_module_version": "1.2.0",
      "_view_name": "StyleView",
      "bar_color": null,
      "description_width": ""
     }
    },
    "2e2f639d1d014bb487b918c6425b5745": {
     "model_module": "@jupyter-widgets/controls",
     "model_module_version": "1.5.0",
     "model_name": "DescriptionStyleModel",
     "state": {
      "_model_module": "@jupyter-widgets/controls",
      "_model_module_version": "1.5.0",
      "_model_name": "DescriptionStyleModel",
      "_view_count": null,
      "_view_module": "@jupyter-widgets/base",
      "_view_module_version": "1.2.0",
      "_view_name": "StyleView",
      "description_width": ""
     }
    },
    "71d002ff786f437a9d6c357929e20124": {
     "model_module": "@jupyter-widgets/base",
     "model_module_version": "1.2.0",
     "model_name": "LayoutModel",
     "state": {
      "_model_module": "@jupyter-widgets/base",
      "_model_module_version": "1.2.0",
      "_model_name": "LayoutModel",
      "_view_count": null,
      "_view_module": "@jupyter-widgets/base",
      "_view_module_version": "1.2.0",
      "_view_name": "LayoutView",
      "align_content": null,
      "align_items": null,
      "align_self": null,
      "border": null,
      "bottom": null,
      "display": null,
      "flex": null,
      "flex_flow": null,
      "grid_area": null,
      "grid_auto_columns": null,
      "grid_auto_flow": null,
      "grid_auto_rows": null,
      "grid_column": null,
      "grid_gap": null,
      "grid_row": null,
      "grid_template_areas": null,
      "grid_template_columns": null,
      "grid_template_rows": null,
      "height": null,
      "justify_content": null,
      "justify_items": null,
      "left": null,
      "margin": null,
      "max_height": null,
      "max_width": null,
      "min_height": null,
      "min_width": null,
      "object_fit": null,
      "object_position": null,
      "order": null,
      "overflow": null,
      "overflow_x": null,
      "overflow_y": null,
      "padding": null,
      "right": null,
      "top": null,
      "visibility": null,
      "width": null
     }
    },
    "9e60bb5a41184f2cae93e58c6b02ffb7": {
     "model_module": "@jupyter-widgets/controls",
     "model_module_version": "1.5.0",
     "model_name": "HBoxModel",
     "state": {
      "_dom_classes": [],
      "_model_module": "@jupyter-widgets/controls",
      "_model_module_version": "1.5.0",
      "_model_name": "HBoxModel",
      "_view_count": null,
      "_view_module": "@jupyter-widgets/controls",
      "_view_module_version": "1.5.0",
      "_view_name": "HBoxView",
      "box_style": "",
      "children": [
       "IPY_MODEL_0ec1c41e4f85443d868236d675d4856c",
       "IPY_MODEL_fd84667a1aaa44c288d97c0ad517c6d7",
       "IPY_MODEL_b00e56680967401297f32c292ac64e76"
      ],
      "layout": "IPY_MODEL_cae1675924e54ce0826c88b7a2711f24"
     }
    },
    "b00e56680967401297f32c292ac64e76": {
     "model_module": "@jupyter-widgets/controls",
     "model_module_version": "1.5.0",
     "model_name": "HTMLModel",
     "state": {
      "_dom_classes": [],
      "_model_module": "@jupyter-widgets/controls",
      "_model_module_version": "1.5.0",
      "_model_name": "HTMLModel",
      "_view_count": null,
      "_view_module": "@jupyter-widgets/controls",
      "_view_module_version": "1.5.0",
      "_view_name": "HTMLView",
      "description": "",
      "description_tooltip": null,
      "layout": "IPY_MODEL_e7fe655b8ca94c21be6b7ef837170d7e",
      "placeholder": "​",
      "style": "IPY_MODEL_ce7bffdded0c43439799617ef3e25355",
      "value": " 50000/50000 [00:14&lt;00:00, 3460.34 examples/s]"
     }
    },
    "cae1675924e54ce0826c88b7a2711f24": {
     "model_module": "@jupyter-widgets/base",
     "model_module_version": "1.2.0",
     "model_name": "LayoutModel",
     "state": {
      "_model_module": "@jupyter-widgets/base",
      "_model_module_version": "1.2.0",
      "_model_name": "LayoutModel",
      "_view_count": null,
      "_view_module": "@jupyter-widgets/base",
      "_view_module_version": "1.2.0",
      "_view_name": "LayoutView",
      "align_content": null,
      "align_items": null,
      "align_self": null,
      "border": null,
      "bottom": null,
      "display": null,
      "flex": null,
      "flex_flow": null,
      "grid_area": null,
      "grid_auto_columns": null,
      "grid_auto_flow": null,
      "grid_auto_rows": null,
      "grid_column": null,
      "grid_gap": null,
      "grid_row": null,
      "grid_template_areas": null,
      "grid_template_columns": null,
      "grid_template_rows": null,
      "height": null,
      "justify_content": null,
      "justify_items": null,
      "left": null,
      "margin": null,
      "max_height": null,
      "max_width": null,
      "min_height": null,
      "min_width": null,
      "object_fit": null,
      "object_position": null,
      "order": null,
      "overflow": null,
      "overflow_x": null,
      "overflow_y": null,
      "padding": null,
      "right": null,
      "top": null,
      "visibility": null,
      "width": null
     }
    },
    "ce7bffdded0c43439799617ef3e25355": {
     "model_module": "@jupyter-widgets/controls",
     "model_module_version": "1.5.0",
     "model_name": "DescriptionStyleModel",
     "state": {
      "_model_module": "@jupyter-widgets/controls",
      "_model_module_version": "1.5.0",
      "_model_name": "DescriptionStyleModel",
      "_view_count": null,
      "_view_module": "@jupyter-widgets/base",
      "_view_module_version": "1.2.0",
      "_view_name": "StyleView",
      "description_width": ""
     }
    },
    "e7fe655b8ca94c21be6b7ef837170d7e": {
     "model_module": "@jupyter-widgets/base",
     "model_module_version": "1.2.0",
     "model_name": "LayoutModel",
     "state": {
      "_model_module": "@jupyter-widgets/base",
      "_model_module_version": "1.2.0",
      "_model_name": "LayoutModel",
      "_view_count": null,
      "_view_module": "@jupyter-widgets/base",
      "_view_module_version": "1.2.0",
      "_view_name": "LayoutView",
      "align_content": null,
      "align_items": null,
      "align_self": null,
      "border": null,
      "bottom": null,
      "display": null,
      "flex": null,
      "flex_flow": null,
      "grid_area": null,
      "grid_auto_columns": null,
      "grid_auto_flow": null,
      "grid_auto_rows": null,
      "grid_column": null,
      "grid_gap": null,
      "grid_row": null,
      "grid_template_areas": null,
      "grid_template_columns": null,
      "grid_template_rows": null,
      "height": null,
      "justify_content": null,
      "justify_items": null,
      "left": null,
      "margin": null,
      "max_height": null,
      "max_width": null,
      "min_height": null,
      "min_width": null,
      "object_fit": null,
      "object_position": null,
      "order": null,
      "overflow": null,
      "overflow_x": null,
      "overflow_y": null,
      "padding": null,
      "right": null,
      "top": null,
      "visibility": null,
      "width": null
     }
    },
    "fd84667a1aaa44c288d97c0ad517c6d7": {
     "model_module": "@jupyter-widgets/controls",
     "model_module_version": "1.5.0",
     "model_name": "FloatProgressModel",
     "state": {
      "_dom_classes": [],
      "_model_module": "@jupyter-widgets/controls",
      "_model_module_version": "1.5.0",
      "_model_name": "FloatProgressModel",
      "_view_count": null,
      "_view_module": "@jupyter-widgets/controls",
      "_view_module_version": "1.5.0",
      "_view_name": "ProgressView",
      "bar_style": "success",
      "description": "",
      "description_tooltip": null,
      "layout": "IPY_MODEL_71d002ff786f437a9d6c357929e20124",
      "max": 50000,
      "min": 0,
      "orientation": "horizontal",
      "style": "IPY_MODEL_2763fccb191a4caba493fc9a544f1cda",
      "value": 50000
     }
    },
    "ff5b88b3381b4151b68454525b28b50f": {
     "model_module": "@jupyter-widgets/base",
     "model_module_version": "1.2.0",
     "model_name": "LayoutModel",
     "state": {
      "_model_module": "@jupyter-widgets/base",
      "_model_module_version": "1.2.0",
      "_model_name": "LayoutModel",
      "_view_count": null,
      "_view_module": "@jupyter-widgets/base",
      "_view_module_version": "1.2.0",
      "_view_name": "LayoutView",
      "align_content": null,
      "align_items": null,
      "align_self": null,
      "border": null,
      "bottom": null,
      "display": null,
      "flex": null,
      "flex_flow": null,
      "grid_area": null,
      "grid_auto_columns": null,
      "grid_auto_flow": null,
      "grid_auto_rows": null,
      "grid_column": null,
      "grid_gap": null,
      "grid_row": null,
      "grid_template_areas": null,
      "grid_template_columns": null,
      "grid_template_rows": null,
      "height": null,
      "justify_content": null,
      "justify_items": null,
      "left": null,
      "margin": null,
      "max_height": null,
      "max_width": null,
      "min_height": null,
      "min_width": null,
      "object_fit": null,
      "object_position": null,
      "order": null,
      "overflow": null,
      "overflow_x": null,
      "overflow_y": null,
      "padding": null,
      "right": null,
      "top": null,
      "visibility": null,
      "width": null
     }
    }
   }
  }
 },
 "nbformat": 4,
 "nbformat_minor": 5
}
